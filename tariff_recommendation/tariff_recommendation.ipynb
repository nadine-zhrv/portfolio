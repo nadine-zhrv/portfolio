{
 "cells": [
  {
   "cell_type": "markdown",
   "metadata": {},
   "source": [
    "# Рекомендация тарифов"
   ]
  },
  {
   "cell_type": "markdown",
   "metadata": {},
   "source": [
    "В вашем распоряжении данные о поведении клиентов, которые уже перешли на тарифы «Смарт» или «Ультра». Нужно построить модель для задачи классификации, которая выберет подходящий тариф.\n",
    "\n",
    "Постройте модель с максимально большим значением *accuracy* (довести долю правильных ответов по крайней мере до 0.75)."
   ]
  },
  {
   "cell_type": "markdown",
   "metadata": {},
   "source": [
    "## Общая информация о файле"
   ]
  },
  {
   "cell_type": "code",
   "execution_count": 1,
   "metadata": {},
   "outputs": [],
   "source": [
    "# импортируем библиотеки\n",
    "import pandas as pd\n",
    "from sklearn.model_selection import train_test_split\n",
    "from sklearn.tree import DecisionTreeClassifier\n",
    "from sklearn.ensemble import RandomForestClassifier\n",
    "from sklearn.linear_model import LogisticRegression\n",
    "from sklearn.metrics import accuracy_score"
   ]
  },
  {
   "cell_type": "code",
   "execution_count": 2,
   "metadata": {},
   "outputs": [
    {
     "data": {
      "text/html": [
       "<div>\n",
       "<style scoped>\n",
       "    .dataframe tbody tr th:only-of-type {\n",
       "        vertical-align: middle;\n",
       "    }\n",
       "\n",
       "    .dataframe tbody tr th {\n",
       "        vertical-align: top;\n",
       "    }\n",
       "\n",
       "    .dataframe thead th {\n",
       "        text-align: right;\n",
       "    }\n",
       "</style>\n",
       "<table border=\"1\" class=\"dataframe\">\n",
       "  <thead>\n",
       "    <tr style=\"text-align: right;\">\n",
       "      <th></th>\n",
       "      <th>calls</th>\n",
       "      <th>minutes</th>\n",
       "      <th>messages</th>\n",
       "      <th>mb_used</th>\n",
       "      <th>is_ultra</th>\n",
       "    </tr>\n",
       "  </thead>\n",
       "  <tbody>\n",
       "    <tr>\n",
       "      <th>0</th>\n",
       "      <td>40.0</td>\n",
       "      <td>311.90</td>\n",
       "      <td>83.0</td>\n",
       "      <td>19915.42</td>\n",
       "      <td>0</td>\n",
       "    </tr>\n",
       "    <tr>\n",
       "      <th>1</th>\n",
       "      <td>85.0</td>\n",
       "      <td>516.75</td>\n",
       "      <td>56.0</td>\n",
       "      <td>22696.96</td>\n",
       "      <td>0</td>\n",
       "    </tr>\n",
       "    <tr>\n",
       "      <th>2</th>\n",
       "      <td>77.0</td>\n",
       "      <td>467.66</td>\n",
       "      <td>86.0</td>\n",
       "      <td>21060.45</td>\n",
       "      <td>0</td>\n",
       "    </tr>\n",
       "    <tr>\n",
       "      <th>3</th>\n",
       "      <td>106.0</td>\n",
       "      <td>745.53</td>\n",
       "      <td>81.0</td>\n",
       "      <td>8437.39</td>\n",
       "      <td>1</td>\n",
       "    </tr>\n",
       "    <tr>\n",
       "      <th>4</th>\n",
       "      <td>66.0</td>\n",
       "      <td>418.74</td>\n",
       "      <td>1.0</td>\n",
       "      <td>14502.75</td>\n",
       "      <td>0</td>\n",
       "    </tr>\n",
       "  </tbody>\n",
       "</table>\n",
       "</div>"
      ],
      "text/plain": [
       "   calls  minutes  messages   mb_used  is_ultra\n",
       "0   40.0   311.90      83.0  19915.42         0\n",
       "1   85.0   516.75      56.0  22696.96         0\n",
       "2   77.0   467.66      86.0  21060.45         0\n",
       "3  106.0   745.53      81.0   8437.39         1\n",
       "4   66.0   418.74       1.0  14502.75         0"
      ]
     },
     "execution_count": 2,
     "metadata": {},
     "output_type": "execute_result"
    }
   ],
   "source": [
    "# откроем и посмотрим файл с данными\n",
    "try:\n",
    "    df = pd.read_csv('/datasets/users_behavior.csv')\n",
    "except:\n",
    "    df = pd.read_csv('https://datasets/users_behavior.csv')\n",
    "\n",
    "df.head()"
   ]
  },
  {
   "cell_type": "code",
   "execution_count": 3,
   "metadata": {},
   "outputs": [
    {
     "name": "stdout",
     "output_type": "stream",
     "text": [
      "<class 'pandas.core.frame.DataFrame'>\n",
      "RangeIndex: 3214 entries, 0 to 3213\n",
      "Data columns (total 5 columns):\n",
      " #   Column    Non-Null Count  Dtype  \n",
      "---  ------    --------------  -----  \n",
      " 0   calls     3214 non-null   float64\n",
      " 1   minutes   3214 non-null   float64\n",
      " 2   messages  3214 non-null   float64\n",
      " 3   mb_used   3214 non-null   float64\n",
      " 4   is_ultra  3214 non-null   int64  \n",
      "dtypes: float64(4), int64(1)\n",
      "memory usage: 125.7 KB\n"
     ]
    }
   ],
   "source": [
    "df.info()"
   ]
  },
  {
   "cell_type": "code",
   "execution_count": 4,
   "metadata": {},
   "outputs": [
    {
     "data": {
      "text/html": [
       "<div>\n",
       "<style scoped>\n",
       "    .dataframe tbody tr th:only-of-type {\n",
       "        vertical-align: middle;\n",
       "    }\n",
       "\n",
       "    .dataframe tbody tr th {\n",
       "        vertical-align: top;\n",
       "    }\n",
       "\n",
       "    .dataframe thead th {\n",
       "        text-align: right;\n",
       "    }\n",
       "</style>\n",
       "<table border=\"1\" class=\"dataframe\">\n",
       "  <thead>\n",
       "    <tr style=\"text-align: right;\">\n",
       "      <th></th>\n",
       "      <th>calls</th>\n",
       "      <th>minutes</th>\n",
       "      <th>messages</th>\n",
       "      <th>mb_used</th>\n",
       "      <th>is_ultra</th>\n",
       "    </tr>\n",
       "  </thead>\n",
       "  <tbody>\n",
       "    <tr>\n",
       "      <th>count</th>\n",
       "      <td>3214.000000</td>\n",
       "      <td>3214.000000</td>\n",
       "      <td>3214.000000</td>\n",
       "      <td>3214.000000</td>\n",
       "      <td>3214.000000</td>\n",
       "    </tr>\n",
       "    <tr>\n",
       "      <th>mean</th>\n",
       "      <td>63.038892</td>\n",
       "      <td>438.208787</td>\n",
       "      <td>38.281269</td>\n",
       "      <td>17207.673836</td>\n",
       "      <td>0.306472</td>\n",
       "    </tr>\n",
       "    <tr>\n",
       "      <th>std</th>\n",
       "      <td>33.236368</td>\n",
       "      <td>234.569872</td>\n",
       "      <td>36.148326</td>\n",
       "      <td>7570.968246</td>\n",
       "      <td>0.461100</td>\n",
       "    </tr>\n",
       "    <tr>\n",
       "      <th>min</th>\n",
       "      <td>0.000000</td>\n",
       "      <td>0.000000</td>\n",
       "      <td>0.000000</td>\n",
       "      <td>0.000000</td>\n",
       "      <td>0.000000</td>\n",
       "    </tr>\n",
       "    <tr>\n",
       "      <th>25%</th>\n",
       "      <td>40.000000</td>\n",
       "      <td>274.575000</td>\n",
       "      <td>9.000000</td>\n",
       "      <td>12491.902500</td>\n",
       "      <td>0.000000</td>\n",
       "    </tr>\n",
       "    <tr>\n",
       "      <th>50%</th>\n",
       "      <td>62.000000</td>\n",
       "      <td>430.600000</td>\n",
       "      <td>30.000000</td>\n",
       "      <td>16943.235000</td>\n",
       "      <td>0.000000</td>\n",
       "    </tr>\n",
       "    <tr>\n",
       "      <th>75%</th>\n",
       "      <td>82.000000</td>\n",
       "      <td>571.927500</td>\n",
       "      <td>57.000000</td>\n",
       "      <td>21424.700000</td>\n",
       "      <td>1.000000</td>\n",
       "    </tr>\n",
       "    <tr>\n",
       "      <th>max</th>\n",
       "      <td>244.000000</td>\n",
       "      <td>1632.060000</td>\n",
       "      <td>224.000000</td>\n",
       "      <td>49745.730000</td>\n",
       "      <td>1.000000</td>\n",
       "    </tr>\n",
       "  </tbody>\n",
       "</table>\n",
       "</div>"
      ],
      "text/plain": [
       "             calls      minutes     messages       mb_used     is_ultra\n",
       "count  3214.000000  3214.000000  3214.000000   3214.000000  3214.000000\n",
       "mean     63.038892   438.208787    38.281269  17207.673836     0.306472\n",
       "std      33.236368   234.569872    36.148326   7570.968246     0.461100\n",
       "min       0.000000     0.000000     0.000000      0.000000     0.000000\n",
       "25%      40.000000   274.575000     9.000000  12491.902500     0.000000\n",
       "50%      62.000000   430.600000    30.000000  16943.235000     0.000000\n",
       "75%      82.000000   571.927500    57.000000  21424.700000     1.000000\n",
       "max     244.000000  1632.060000   224.000000  49745.730000     1.000000"
      ]
     },
     "execution_count": 4,
     "metadata": {},
     "output_type": "execute_result"
    }
   ],
   "source": [
    "df.describe()"
   ]
  },
  {
   "cell_type": "code",
   "execution_count": 5,
   "metadata": {},
   "outputs": [
    {
     "data": {
      "image/png": "[encoded data removed]",
      "text/plain": [
       "<Figure size 1000x1000 with 6 Axes>"
      ]
     },
     "metadata": {},
     "output_type": "display_data"
    }
   ],
   "source": [
    "df.hist(figsize=(10, 10));"
   ]
  },
  {
   "cell_type": "markdown",
   "metadata": {},
   "source": [
    "Итоги предыдущего проекта по предварительному анализу поведения клиентов компании \"Мегалайн\":\n",
    "* были исследованы данные пользователей: кто они, откуда, каким тарифом пользуются, сколько звонков и сообщений каждый отправил за 2018-й год\n",
    "* была проведена предобработка данных, в ходе которой данные проверили на наличие пропусков, дубликатов и аномалий, а также устранили их при необходимости\n",
    "* на основе предоставленных данных были подсчитаны количество сделанных звонков, количество израсходованных минут разговора, количество отправленных сообщений, количество потраченных мегабайт. Эти показатели были объеденены в одну таблицу\n",
    "* проведен сравнительный анализ пользователей тарифов \"Ультра\" и \"Смарт\". Предложенные тарифы сильно отличаются друг от друга. Тариф \"Ультра\" проявляет нелинейную положительную динамику по количеству сообщений и длительности разговора. Также было замечено, что абоненты тарифа \"Смарт\" чаще чем абоненты \"Ультра\" перерасходуют лимиты, что говорит о том, что первый тариф не соответвует большинству пользователей\n",
    "\n",
    "Предстоит выполнить задачу бинарной классификации, чтобы построить систему, способную проанализировать поведение клиентов и предложить пользователям новый тариф: «Смарт» или «Ультра». Целевой признак - \"is_ultra\". "
   ]
  },
  {
   "cell_type": "markdown",
   "metadata": {},
   "source": [
    "## Выборки"
   ]
  },
  {
   "cell_type": "code",
   "execution_count": 6,
   "metadata": {},
   "outputs": [],
   "source": [
    "target = df['is_ultra']\n",
    "\n",
    "#  разделим данные на обучающую и валидационную выборки\n",
    "df_train, df_valid = train_test_split(df, test_size=0.4, random_state=12345, stratify=target)\n",
    "\n",
    "# создадим переменные для признаков\n",
    "features_train = df_train.drop('is_ultra', axis=1)\n",
    "target_train = df_train['is_ultra']\n",
    "\n",
    "features_valid = df_valid.drop('is_ultra', axis=1)\n",
    "target_valid = df_valid['is_ultra']\n",
    "\n",
    "# из валидационной выделим тестовую выборку\n",
    "df_valid, df_test = train_test_split(df_valid, test_size=0.5, random_state=12345, stratify=target_valid)\n",
    "\n",
    "features_test = df_test.drop('is_ultra', axis=1)\n",
    "target_test = df_test['is_ultra']"
   ]
  },
  {
   "cell_type": "code",
   "execution_count": 7,
   "metadata": {},
   "outputs": [
    {
     "name": "stdout",
     "output_type": "stream",
     "text": [
      "Размер тренировочной выборки: (1928, 5)\n",
      "Размер валидационной выборки: (643, 5)\n",
      "Размер тестовой выборки: (643, 5)\n"
     ]
    }
   ],
   "source": [
    "print('Размер тренировочной выборки:', df_train.shape)\n",
    "print('Размер валидационной выборки:', df_valid.shape)\n",
    "print('Размер тестовой выборки:', df_test.shape)"
   ]
  },
  {
   "cell_type": "markdown",
   "metadata": {},
   "source": [
    "## Обучение"
   ]
  },
  {
   "cell_type": "markdown",
   "metadata": {},
   "source": [
    "### Решающее дерево"
   ]
  },
  {
   "cell_type": "code",
   "execution_count": 8,
   "metadata": {},
   "outputs": [
    {
     "name": "stdout",
     "output_type": "stream",
     "text": [
      "max_depth = 1 : 0.7348367029548989\n",
      "max_depth = 2 : 0.7706065318818041\n",
      "max_depth = 3 : 0.7884914463452566\n",
      "max_depth = 4 : 0.7643856920684292\n",
      "max_depth = 5 : 0.7986003110419907\n",
      "max_depth = 6 : 0.7869362363919129\n"
     ]
    }
   ],
   "source": [
    "for depth in range(1, 7):\n",
    "    model_tree = DecisionTreeClassifier(random_state=12345, max_depth=depth)\n",
    "    model_tree.fit(features_train, target_train)\n",
    "    predictions_valid = model_tree.predict(features_valid) \n",
    "    print(\"max_depth =\", depth, \": \", end='')\n",
    "    print(accuracy_score(target_valid, predictions_valid))"
   ]
  },
  {
   "cell_type": "code",
   "execution_count": 9,
   "metadata": {},
   "outputs": [
    {
     "name": "stdout",
     "output_type": "stream",
     "text": [
      "max_depth = 1 : 0.7348367029548989\n",
      "max_depth = 2 : 0.7706065318818041\n",
      "max_depth = 3 : 0.7884914463452566\n",
      "max_depth = 4 : 0.7659409020217729\n",
      "max_depth = 5 : 0.7954898911353032\n",
      "max_depth = 6 : 0.7892690513219285\n"
     ]
    }
   ],
   "source": [
    "# изменение нескольких гиперпараметров\n",
    "for depth in range(1, 7):\n",
    "    model_tree = DecisionTreeClassifier(random_state=12345, max_depth=depth, criterion=\"entropy\")\n",
    "    model_tree.fit(features_train, target_train)\n",
    "    predictions_valid = model_tree.predict(features_valid) \n",
    "    print(\"max_depth =\", depth, \": \", end='')\n",
    "    print(accuracy_score(target_valid, predictions_valid))"
   ]
  },
  {
   "cell_type": "code",
   "execution_count": 10,
   "metadata": {},
   "outputs": [
    {
     "name": "stdout",
     "output_type": "stream",
     "text": [
      "max_depth = 1 : 0.6936236391912908\n",
      "max_depth = 2 : 0.713841368584759\n",
      "max_depth = 3 : 0.7255054432348367\n",
      "max_depth = 4 : 0.76049766718507\n",
      "max_depth = 5 : 0.7744945567651633\n",
      "max_depth = 6 : 0.7884914463452566\n"
     ]
    }
   ],
   "source": [
    "for depth in range(1, 7):\n",
    "    model_tree = DecisionTreeClassifier(random_state=12345, max_depth=depth, splitter='random')\n",
    "    model_tree.fit(features_train, target_train)\n",
    "    predictions_valid = model_tree.predict(features_valid) \n",
    "    print(\"max_depth =\", depth, \": \", end='')\n",
    "    print(accuracy_score(target_valid, predictions_valid))"
   ]
  },
  {
   "cell_type": "markdown",
   "metadata": {},
   "source": [
    "### Случайный лес"
   ]
  },
  {
   "cell_type": "code",
   "execution_count": 11,
   "metadata": {},
   "outputs": [
    {
     "name": "stdout",
     "output_type": "stream",
     "text": [
      "Accuracy наилучшей модели на валидационной выборке: 0.7900466562986003\n"
     ]
    }
   ],
   "source": [
    "best_model_forest = None\n",
    "best_result_forest = 0\n",
    "for est in range(1, 11):\n",
    "    model_forest = RandomForestClassifier(random_state=12345, n_estimators=est)\n",
    "    model_forest.fit(features_train, target_train)\n",
    "    predictions_valid = model_forest.predict(features_valid) \n",
    "    result_forest = accuracy_score(target_valid, predictions_valid)\n",
    "    if result_forest > best_result_forest:\n",
    "        best_model_forest = model_forest\n",
    "        best_result_forest = result_forest\n",
    "\n",
    "print(\"Accuracy наилучшей модели на валидационной выборке:\", best_result_forest)"
   ]
  },
  {
   "cell_type": "markdown",
   "metadata": {},
   "source": [
    "### Логистическая регрессия"
   ]
  },
  {
   "cell_type": "code",
   "execution_count": 12,
   "metadata": {},
   "outputs": [
    {
     "name": "stdout",
     "output_type": "stream",
     "text": [
      "Accuracy модели на валидационной выборке: 0.7426127527216174\n"
     ]
    }
   ],
   "source": [
    "# логистическая регрессия\n",
    "model_reg = LogisticRegression(random_state=12345, solver='lbfgs', max_iter=1000)\n",
    "model_reg.fit(features_train, target_train)\n",
    "predictions_valid = model_reg.predict(features_valid)\n",
    "result_reg = accuracy_score(target_valid, predictions_valid)\n",
    "\n",
    "print(\"Accuracy модели на валидационной выборке:\", result_reg)"
   ]
  },
  {
   "cell_type": "markdown",
   "metadata": {},
   "source": [
    "**Выводы:** Согласно условию, необходимо, чтобы качество модели было больше 0.75. С этой задачей справились две модели: решающее дерево и случайный лес. При изменении гипперпараметров в обеих выборках дает приблизительно похожий результат в 0.78 доли правильных ответов. Лучшее качество у модели случайный лес, так как с увеличением количества деревьев улучшается результат."
   ]
  },
  {
   "cell_type": "markdown",
   "metadata": {},
   "source": [
    "## Проверка модели"
   ]
  },
  {
   "cell_type": "code",
   "execution_count": 13,
   "metadata": {},
   "outputs": [
    {
     "name": "stdout",
     "output_type": "stream",
     "text": [
      "Accuracy модели на тестовой выборке: 0.7931570762052877\n"
     ]
    }
   ],
   "source": [
    "# проверка на тестовой выборке\n",
    "predictions_test = model_forest.predict(features_test)\n",
    "result_test = accuracy_score(target_test, predictions_test)\n",
    "\n",
    "print(\"Accuracy модели на тестовой выборке:\", result_test)"
   ]
  },
  {
   "cell_type": "markdown",
   "metadata": {},
   "source": [
    "**Вывод:** Качество предсказаний на тренировочной выборке совпадает с качеством на тестовой выборке"
   ]
  },
  {
   "cell_type": "markdown",
   "metadata": {},
   "source": [
    "## Общий вывод"
   ]
  },
  {
   "cell_type": "markdown",
   "metadata": {},
   "source": [
    "В ходе исследования было выполнено:\n",
    "* Изучены исходные данные\n",
    "* Данные разбиты на три выборки - обучающую, валидационную и тестовую - в соотношении 3/1/1\n",
    "* Исследованы модели - решающее дерево, случайный лес и логическая регрессия.\n",
    "* Рассмотрены и выбраны оптимальные параметры\n",
    "* Выбрана лучшая модель - случайный лес\n",
    "* Качество модели сравнили с тестовой выборкой - качество на валидационной выборке совпало со значением на тестовой\n",
    "* Качество лучшей модели составляет 0,79 , что удовлетворяет условию задачи.\n"
   ]
  }
 ],
 "metadata": {
  "ExecuteTimeLog": [
   {
    "duration": 388,
    "start_time": "2023-04-26T08:46:28.077Z"
   },
   {
    "duration": 139,
    "start_time": "2023-04-26T08:47:08.038Z"
   },
   {
    "duration": 51,
    "start_time": "2023-04-26T08:47:14.819Z"
   },
   {
    "duration": 40,
    "start_time": "2023-04-26T08:47:25.557Z"
   },
   {
    "duration": 38,
    "start_time": "2023-04-26T08:49:15.996Z"
   },
   {
    "duration": 37,
    "start_time": "2023-04-26T08:49:22.408Z"
   },
   {
    "duration": 34,
    "start_time": "2023-04-26T08:49:34.101Z"
   },
   {
    "duration": 79,
    "start_time": "2023-04-26T09:29:52.014Z"
   },
   {
    "duration": 4,
    "start_time": "2023-04-26T09:30:04.106Z"
   },
   {
    "duration": 847,
    "start_time": "2023-04-26T09:40:14.728Z"
   },
   {
    "duration": 12,
    "start_time": "2023-04-26T09:42:00.533Z"
   },
   {
    "duration": 34,
    "start_time": "2023-04-26T09:45:33.367Z"
   },
   {
    "duration": 30,
    "start_time": "2023-04-26T09:50:41.499Z"
   },
   {
    "duration": 271,
    "start_time": "2023-04-26T09:50:45.338Z"
   },
   {
    "duration": 55,
    "start_time": "2023-04-26T09:54:31.144Z"
   },
   {
    "duration": 23,
    "start_time": "2023-04-26T09:56:46.656Z"
   },
   {
    "duration": 28,
    "start_time": "2023-04-26T09:56:59.765Z"
   },
   {
    "duration": 23,
    "start_time": "2023-04-26T09:57:20.911Z"
   },
   {
    "duration": 297,
    "start_time": "2023-04-26T09:57:23.900Z"
   },
   {
    "duration": 30,
    "start_time": "2023-04-26T09:57:26.078Z"
   },
   {
    "duration": 1532,
    "start_time": "2023-04-26T13:47:46.233Z"
   },
   {
    "duration": 249,
    "start_time": "2023-04-26T13:47:49.992Z"
   },
   {
    "duration": 17,
    "start_time": "2023-04-26T13:48:10.295Z"
   },
   {
    "duration": 42,
    "start_time": "2023-04-26T13:50:18.315Z"
   },
   {
    "duration": 370,
    "start_time": "2023-04-26T13:50:40.705Z"
   },
   {
    "duration": 21,
    "start_time": "2023-04-26T13:50:55.719Z"
   },
   {
    "duration": 330,
    "start_time": "2023-04-26T13:55:26.733Z"
   },
   {
    "duration": 40,
    "start_time": "2023-04-26T13:55:31.772Z"
   },
   {
    "duration": 333,
    "start_time": "2023-04-26T13:55:33.346Z"
   },
   {
    "duration": 33,
    "start_time": "2023-04-26T13:55:35.238Z"
   },
   {
    "duration": 80,
    "start_time": "2023-04-26T13:58:31.716Z"
   },
   {
    "duration": 370,
    "start_time": "2023-04-26T13:58:34.310Z"
   },
   {
    "duration": 6,
    "start_time": "2023-04-26T14:13:44.908Z"
   },
   {
    "duration": 15,
    "start_time": "2023-04-26T14:13:55.849Z"
   },
   {
    "duration": 8,
    "start_time": "2023-04-26T14:14:00.857Z"
   },
   {
    "duration": 8,
    "start_time": "2023-04-26T14:17:41.833Z"
   },
   {
    "duration": 68,
    "start_time": "2023-04-26T14:19:06.158Z"
   },
   {
    "duration": 69,
    "start_time": "2023-04-26T14:19:43.836Z"
   },
   {
    "duration": 276,
    "start_time": "2023-04-26T14:20:13.181Z"
   },
   {
    "duration": 22,
    "start_time": "2023-04-26T14:20:40.724Z"
   },
   {
    "duration": 7,
    "start_time": "2023-04-26T14:21:30.384Z"
   },
   {
    "duration": 83,
    "start_time": "2023-04-26T14:36:24.303Z"
   },
   {
    "duration": 31,
    "start_time": "2023-04-26T14:36:38.298Z"
   },
   {
    "duration": 152,
    "start_time": "2023-04-26T14:36:45.751Z"
   },
   {
    "duration": 227,
    "start_time": "2023-04-26T14:36:52.347Z"
   },
   {
    "duration": 273,
    "start_time": "2023-04-26T14:37:02.521Z"
   },
   {
    "duration": 861,
    "start_time": "2023-04-26T14:37:07.930Z"
   },
   {
    "duration": 89,
    "start_time": "2023-04-26T14:37:16.801Z"
   },
   {
    "duration": 266,
    "start_time": "2023-04-26T14:38:47.498Z"
   },
   {
    "duration": 23,
    "start_time": "2023-04-26T14:38:54.492Z"
   },
   {
    "duration": 36,
    "start_time": "2023-04-26T14:38:58.402Z"
   },
   {
    "duration": 24,
    "start_time": "2023-04-26T14:39:04.888Z"
   },
   {
    "duration": 228,
    "start_time": "2023-04-26T14:39:07.037Z"
   },
   {
    "duration": 21,
    "start_time": "2023-04-26T14:40:38.525Z"
   },
   {
    "duration": 31,
    "start_time": "2023-04-26T14:41:05.488Z"
   },
   {
    "duration": 224,
    "start_time": "2023-04-26T14:41:25.191Z"
   },
   {
    "duration": 24,
    "start_time": "2023-04-26T14:41:27.394Z"
   },
   {
    "duration": 19,
    "start_time": "2023-04-26T14:41:29.321Z"
   },
   {
    "duration": 8,
    "start_time": "2023-04-26T14:41:32.205Z"
   },
   {
    "duration": 112,
    "start_time": "2023-04-26T14:43:38.392Z"
   },
   {
    "duration": 67,
    "start_time": "2023-04-26T14:43:41.321Z"
   },
   {
    "duration": 83,
    "start_time": "2023-04-26T14:43:47.385Z"
   },
   {
    "duration": 32,
    "start_time": "2023-04-26T14:43:51.239Z"
   },
   {
    "duration": 19,
    "start_time": "2023-04-26T14:45:07.495Z"
   },
   {
    "duration": 19,
    "start_time": "2023-04-26T14:45:13.273Z"
   },
   {
    "duration": 42,
    "start_time": "2023-04-26T14:46:50.567Z"
   },
   {
    "duration": 25,
    "start_time": "2023-04-26T14:46:54.535Z"
   },
   {
    "duration": 75,
    "start_time": "2023-04-26T14:47:00.323Z"
   },
   {
    "duration": 93,
    "start_time": "2023-04-26T14:47:03.961Z"
   },
   {
    "duration": 71,
    "start_time": "2023-04-26T14:48:41.753Z"
   },
   {
    "duration": 84,
    "start_time": "2023-04-26T14:48:45.387Z"
   },
   {
    "duration": 86,
    "start_time": "2023-04-26T14:48:51.596Z"
   },
   {
    "duration": 9,
    "start_time": "2023-04-26T14:48:54.229Z"
   },
   {
    "duration": 24,
    "start_time": "2023-04-26T14:49:02.064Z"
   },
   {
    "duration": 14,
    "start_time": "2023-04-26T14:49:07.357Z"
   },
   {
    "duration": 9,
    "start_time": "2023-04-26T14:49:12.565Z"
   },
   {
    "duration": 18,
    "start_time": "2023-04-26T14:49:17.368Z"
   },
   {
    "duration": 3,
    "start_time": "2023-04-26T15:01:46.440Z"
   },
   {
    "duration": 37,
    "start_time": "2023-04-26T15:01:48.009Z"
   },
   {
    "duration": 9,
    "start_time": "2023-04-26T15:01:50.273Z"
   },
   {
    "duration": 27,
    "start_time": "2023-04-26T15:01:51.465Z"
   },
   {
    "duration": 113,
    "start_time": "2023-04-26T15:01:53.232Z"
   },
   {
    "duration": 30,
    "start_time": "2023-04-26T15:01:54.043Z"
   },
   {
    "duration": 19,
    "start_time": "2023-04-26T15:02:18.443Z"
   },
   {
    "duration": 235,
    "start_time": "2023-04-26T15:02:29.948Z"
   },
   {
    "duration": 45,
    "start_time": "2023-04-26T15:03:36.384Z"
   },
   {
    "duration": 35,
    "start_time": "2023-04-26T15:03:36.431Z"
   },
   {
    "duration": 34,
    "start_time": "2023-04-26T15:03:36.468Z"
   },
   {
    "duration": 265,
    "start_time": "2023-04-26T15:03:45.919Z"
   },
   {
    "duration": 27,
    "start_time": "2023-04-26T15:04:01.195Z"
   },
   {
    "duration": 84,
    "start_time": "2023-04-26T15:08:22.173Z"
   },
   {
    "duration": 26,
    "start_time": "2023-04-26T15:10:43.504Z"
   },
   {
    "duration": 43,
    "start_time": "2023-04-26T15:11:31.622Z"
   },
   {
    "duration": 71,
    "start_time": "2023-04-26T15:11:37.506Z"
   },
   {
    "duration": 27,
    "start_time": "2023-04-26T15:11:48.374Z"
   },
   {
    "duration": 235,
    "start_time": "2023-04-26T15:12:17.990Z"
   },
   {
    "duration": 27,
    "start_time": "2023-04-26T15:12:56.193Z"
   },
   {
    "duration": 34,
    "start_time": "2023-04-26T15:29:52.478Z"
   },
   {
    "duration": 301,
    "start_time": "2023-04-26T15:30:02.398Z"
   },
   {
    "duration": 38,
    "start_time": "2023-04-26T15:30:07.938Z"
   },
   {
    "duration": 8,
    "start_time": "2023-04-26T15:33:42.523Z"
   },
   {
    "duration": 101,
    "start_time": "2023-04-26T15:34:15.782Z"
   },
   {
    "duration": 21,
    "start_time": "2023-04-26T15:34:27.575Z"
   },
   {
    "duration": 42,
    "start_time": "2023-04-26T15:34:34.633Z"
   },
   {
    "duration": 320,
    "start_time": "2023-04-26T15:34:40.699Z"
   },
   {
    "duration": 44,
    "start_time": "2023-04-26T15:44:20.142Z"
   },
   {
    "duration": 54,
    "start_time": "2023-04-26T15:44:26.814Z"
   },
   {
    "duration": 21,
    "start_time": "2023-04-26T15:46:08.945Z"
   },
   {
    "duration": 10,
    "start_time": "2023-04-26T15:46:31.166Z"
   },
   {
    "duration": 3,
    "start_time": "2023-04-26T15:54:05.364Z"
   },
   {
    "duration": 3,
    "start_time": "2023-04-26T16:15:22.169Z"
   },
   {
    "duration": 40,
    "start_time": "2023-04-26T16:15:22.868Z"
   },
   {
    "duration": 9,
    "start_time": "2023-04-26T16:15:24.840Z"
   },
   {
    "duration": 36,
    "start_time": "2023-04-26T16:15:26.717Z"
   },
   {
    "duration": 274,
    "start_time": "2023-04-26T16:15:28.044Z"
   },
   {
    "duration": 20,
    "start_time": "2023-04-26T16:15:29.279Z"
   },
   {
    "duration": 10,
    "start_time": "2023-04-26T16:15:31.081Z"
   },
   {
    "duration": 3,
    "start_time": "2023-04-26T16:15:57.975Z"
   },
   {
    "duration": 1132,
    "start_time": "2023-04-27T14:30:33.700Z"
   },
   {
    "duration": 74,
    "start_time": "2023-04-27T14:30:35.818Z"
   },
   {
    "duration": 12,
    "start_time": "2023-04-27T15:19:41.409Z"
   },
   {
    "duration": 103,
    "start_time": "2023-04-27T15:22:47.254Z"
   },
   {
    "duration": 19,
    "start_time": "2023-04-27T15:22:51.924Z"
   },
   {
    "duration": 10,
    "start_time": "2023-04-27T15:22:59.223Z"
   },
   {
    "duration": 25,
    "start_time": "2023-04-27T15:23:07.187Z"
   },
   {
    "duration": 850,
    "start_time": "2023-04-27T15:23:58.792Z"
   },
   {
    "duration": 540,
    "start_time": "2023-04-27T15:24:16.018Z"
   },
   {
    "duration": 548,
    "start_time": "2023-04-27T15:24:21.296Z"
   },
   {
    "duration": 525,
    "start_time": "2023-04-27T15:24:37.495Z"
   },
   {
    "duration": 9,
    "start_time": "2023-04-27T16:03:07.006Z"
   },
   {
    "duration": 4,
    "start_time": "2023-04-27T16:11:56.298Z"
   },
   {
    "duration": 4,
    "start_time": "2023-04-27T16:12:19.979Z"
   },
   {
    "duration": 5,
    "start_time": "2023-04-27T16:12:28.327Z"
   },
   {
    "duration": 1046,
    "start_time": "2023-05-08T11:33:16.399Z"
   },
   {
    "duration": 181,
    "start_time": "2023-05-08T11:33:17.447Z"
   },
   {
    "duration": 10,
    "start_time": "2023-05-08T11:33:30.799Z"
   },
   {
    "duration": 20,
    "start_time": "2023-05-08T11:33:31.905Z"
   },
   {
    "duration": 978,
    "start_time": "2023-05-08T11:33:33.223Z"
   },
   {
    "duration": 8,
    "start_time": "2023-05-08T11:36:51.049Z"
   },
   {
    "duration": 155,
    "start_time": "2023-05-08T11:51:09.942Z"
   },
   {
    "duration": 8,
    "start_time": "2023-05-08T11:51:28.698Z"
   },
   {
    "duration": 40,
    "start_time": "2023-05-08T11:57:54.811Z"
   },
   {
    "duration": 9,
    "start_time": "2023-05-08T11:58:57.451Z"
   },
   {
    "duration": 34,
    "start_time": "2023-05-08T12:00:57.212Z"
   },
   {
    "duration": 12,
    "start_time": "2023-05-08T12:01:15.107Z"
   },
   {
    "duration": 11,
    "start_time": "2023-05-08T12:02:03.926Z"
   },
   {
    "duration": 15,
    "start_time": "2023-05-08T12:03:25.856Z"
   },
   {
    "duration": 113,
    "start_time": "2023-05-08T12:03:52.442Z"
   },
   {
    "duration": 27,
    "start_time": "2023-05-08T12:04:02.682Z"
   },
   {
    "duration": 5,
    "start_time": "2023-05-08T12:32:28.634Z"
   },
   {
    "duration": 4,
    "start_time": "2023-05-08T12:33:16.506Z"
   },
   {
    "duration": 46,
    "start_time": "2023-05-08T12:33:26.502Z"
   },
   {
    "duration": 50,
    "start_time": "2023-05-08T12:50:33.905Z"
   },
   {
    "duration": 59,
    "start_time": "2023-05-08T12:50:52.847Z"
   },
   {
    "duration": 36,
    "start_time": "2023-05-08T12:51:01.198Z"
   },
   {
    "duration": 86,
    "start_time": "2023-05-08T13:02:26.945Z"
   },
   {
    "duration": 39,
    "start_time": "2023-05-08T13:02:34.299Z"
   },
   {
    "duration": 29,
    "start_time": "2023-05-08T13:02:38.900Z"
   },
   {
    "duration": 262,
    "start_time": "2023-05-08T13:09:23.804Z"
   },
   {
    "duration": 41,
    "start_time": "2023-05-08T13:09:24.961Z"
   },
   {
    "duration": 8,
    "start_time": "2023-05-08T13:09:32.031Z"
   },
   {
    "duration": 1108,
    "start_time": "2023-05-08T13:09:55.099Z"
   },
   {
    "duration": 44,
    "start_time": "2023-05-08T13:09:56.213Z"
   },
   {
    "duration": 13,
    "start_time": "2023-05-08T13:09:59.007Z"
   },
   {
    "duration": 30,
    "start_time": "2023-05-08T13:10:00.088Z"
   },
   {
    "duration": 711,
    "start_time": "2023-05-08T13:10:01.207Z"
   },
   {
    "duration": 11,
    "start_time": "2023-05-08T13:10:05.327Z"
   },
   {
    "duration": 3,
    "start_time": "2023-05-08T13:10:10.138Z"
   },
   {
    "duration": 39,
    "start_time": "2023-05-08T13:10:12.304Z"
   },
   {
    "duration": 40,
    "start_time": "2023-05-08T13:10:13.603Z"
   },
   {
    "duration": 26,
    "start_time": "2023-05-08T13:10:14.819Z"
   },
   {
    "duration": 254,
    "start_time": "2023-05-08T13:10:16.607Z"
   },
   {
    "duration": 37,
    "start_time": "2023-05-08T13:10:18.904Z"
   },
   {
    "duration": 163,
    "start_time": "2023-05-08T13:10:20.659Z"
   },
   {
    "duration": 2157,
    "start_time": "2023-05-08T16:06:13.309Z"
   },
   {
    "duration": 43,
    "start_time": "2023-05-08T16:06:15.468Z"
   },
   {
    "duration": 12,
    "start_time": "2023-05-08T16:06:15.512Z"
   },
   {
    "duration": 20,
    "start_time": "2023-05-08T16:06:15.526Z"
   },
   {
    "duration": 740,
    "start_time": "2023-05-08T16:06:15.547Z"
   },
   {
    "duration": 12,
    "start_time": "2023-05-08T16:06:16.289Z"
   },
   {
    "duration": 7,
    "start_time": "2023-05-08T16:06:16.303Z"
   },
   {
    "duration": 58,
    "start_time": "2023-05-08T16:06:16.312Z"
   },
   {
    "duration": 46,
    "start_time": "2023-05-08T16:06:16.371Z"
   },
   {
    "duration": 46,
    "start_time": "2023-05-08T16:06:16.420Z"
   },
   {
    "duration": 283,
    "start_time": "2023-05-08T16:06:16.468Z"
   },
   {
    "duration": 29,
    "start_time": "2023-05-08T16:06:16.752Z"
   },
   {
    "duration": 7,
    "start_time": "2023-05-08T16:06:16.782Z"
   }
  ],
  "kernelspec": {
   "display_name": "Python 3 (ipykernel)",
   "language": "python",
   "name": "python3"
  },
  "language_info": {
   "codemirror_mode": {
    "name": "ipython",
    "version": 3
   },
   "file_extension": ".py",
   "mimetype": "text/x-python",
   "name": "python",
   "nbconvert_exporter": "python",
   "pygments_lexer": "ipython3",
   "version": "3.9.16"
  },
  "toc": {
   "base_numbering": 1,
   "nav_menu": {},
   "number_sections": true,
   "sideBar": true,
   "skip_h1_title": true,
   "title_cell": "Table of Contents",
   "title_sidebar": "Contents",
   "toc_cell": false,
   "toc_position": {},
   "toc_section_display": true,
   "toc_window_display": false
  }
 },
 "nbformat": 4,
 "nbformat_minor": 4
}
