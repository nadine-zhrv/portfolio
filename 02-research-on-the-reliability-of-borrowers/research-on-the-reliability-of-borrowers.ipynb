{
 "cells": [
  {
   "cell_type": "markdown",
   "id": "4b057dbc-ed3d-473d-938f-755cc0a496e4",
   "metadata": {},
   "source": [
    "# Исследование надежности заемщиков\n",
    "\n",
    "**Задача:** На основе данных, предоставленных кредитным отделом банка, сделать выводы о способности клиента вернуть кредит в срок. Необходимо исследовать какие факторы могут повлиять на это. Результаты исследования будут использоваться в модели кредитного скоринга.\n",
    "\n",
    "**План проекта:**\n",
    "\n",
    "1. Обзор данных\n",
    "2. Предобработка данных\n",
    "3. Анализ данных"
   ]
  },
  {
   "cell_type": "markdown",
   "id": "93c0c74c-b7c2-4c5b-983d-46400b6fbe02",
   "metadata": {},
   "source": [
    "## Обзор данных"
   ]
  },
  {
   "cell_type": "code",
   "execution_count": 1,
   "id": "b2f4798e-78a3-4190-806e-830cab643c54",
   "metadata": {},
   "outputs": [],
   "source": [
    "# библиотеки\n",
    "import pandas as pd"
   ]
  },
  {
   "cell_type": "code",
   "execution_count": 3,
   "id": "b5f80796-ca24-4e5c-86cf-6b5a95c3a5cf",
   "metadata": {},
   "outputs": [
    {
     "data": {
      "text/html": [
       "<div>\n",
       "<style scoped>\n",
       "    .dataframe tbody tr th:only-of-type {\n",
       "        vertical-align: middle;\n",
       "    }\n",
       "\n",
       "    .dataframe tbody tr th {\n",
       "        vertical-align: top;\n",
       "    }\n",
       "\n",
       "    .dataframe thead th {\n",
       "        text-align: right;\n",
       "    }\n",
       "</style>\n",
       "<table border=\"1\" class=\"dataframe\">\n",
       "  <thead>\n",
       "    <tr style=\"text-align: right;\">\n",
       "      <th></th>\n",
       "      <th>children</th>\n",
       "      <th>days_employed</th>\n",
       "      <th>dob_years</th>\n",
       "      <th>education</th>\n",
       "      <th>education_id</th>\n",
       "      <th>family_status</th>\n",
       "      <th>family_status_id</th>\n",
       "      <th>gender</th>\n",
       "      <th>income_type</th>\n",
       "      <th>debt</th>\n",
       "      <th>total_income</th>\n",
       "      <th>purpose</th>\n",
       "    </tr>\n",
       "  </thead>\n",
       "  <tbody>\n",
       "    <tr>\n",
       "      <th>0</th>\n",
       "      <td>1</td>\n",
       "      <td>-8437.673028</td>\n",
       "      <td>42</td>\n",
       "      <td>высшее</td>\n",
       "      <td>0</td>\n",
       "      <td>женат / замужем</td>\n",
       "      <td>0</td>\n",
       "      <td>F</td>\n",
       "      <td>сотрудник</td>\n",
       "      <td>0</td>\n",
       "      <td>253875.639453</td>\n",
       "      <td>покупка жилья</td>\n",
       "    </tr>\n",
       "    <tr>\n",
       "      <th>1</th>\n",
       "      <td>1</td>\n",
       "      <td>-4024.803754</td>\n",
       "      <td>36</td>\n",
       "      <td>среднее</td>\n",
       "      <td>1</td>\n",
       "      <td>женат / замужем</td>\n",
       "      <td>0</td>\n",
       "      <td>F</td>\n",
       "      <td>сотрудник</td>\n",
       "      <td>0</td>\n",
       "      <td>112080.014102</td>\n",
       "      <td>приобретение автомобиля</td>\n",
       "    </tr>\n",
       "    <tr>\n",
       "      <th>2</th>\n",
       "      <td>0</td>\n",
       "      <td>-5623.422610</td>\n",
       "      <td>33</td>\n",
       "      <td>Среднее</td>\n",
       "      <td>1</td>\n",
       "      <td>женат / замужем</td>\n",
       "      <td>0</td>\n",
       "      <td>M</td>\n",
       "      <td>сотрудник</td>\n",
       "      <td>0</td>\n",
       "      <td>145885.952297</td>\n",
       "      <td>покупка жилья</td>\n",
       "    </tr>\n",
       "    <tr>\n",
       "      <th>3</th>\n",
       "      <td>3</td>\n",
       "      <td>-4124.747207</td>\n",
       "      <td>32</td>\n",
       "      <td>среднее</td>\n",
       "      <td>1</td>\n",
       "      <td>женат / замужем</td>\n",
       "      <td>0</td>\n",
       "      <td>M</td>\n",
       "      <td>сотрудник</td>\n",
       "      <td>0</td>\n",
       "      <td>267628.550329</td>\n",
       "      <td>дополнительное образование</td>\n",
       "    </tr>\n",
       "    <tr>\n",
       "      <th>4</th>\n",
       "      <td>0</td>\n",
       "      <td>340266.072047</td>\n",
       "      <td>53</td>\n",
       "      <td>среднее</td>\n",
       "      <td>1</td>\n",
       "      <td>гражданский брак</td>\n",
       "      <td>1</td>\n",
       "      <td>F</td>\n",
       "      <td>пенсионер</td>\n",
       "      <td>0</td>\n",
       "      <td>158616.077870</td>\n",
       "      <td>сыграть свадьбу</td>\n",
       "    </tr>\n",
       "    <tr>\n",
       "      <th>5</th>\n",
       "      <td>0</td>\n",
       "      <td>-926.185831</td>\n",
       "      <td>27</td>\n",
       "      <td>высшее</td>\n",
       "      <td>0</td>\n",
       "      <td>гражданский брак</td>\n",
       "      <td>1</td>\n",
       "      <td>M</td>\n",
       "      <td>компаньон</td>\n",
       "      <td>0</td>\n",
       "      <td>255763.565419</td>\n",
       "      <td>покупка жилья</td>\n",
       "    </tr>\n",
       "    <tr>\n",
       "      <th>6</th>\n",
       "      <td>0</td>\n",
       "      <td>-2879.202052</td>\n",
       "      <td>43</td>\n",
       "      <td>высшее</td>\n",
       "      <td>0</td>\n",
       "      <td>женат / замужем</td>\n",
       "      <td>0</td>\n",
       "      <td>F</td>\n",
       "      <td>компаньон</td>\n",
       "      <td>0</td>\n",
       "      <td>240525.971920</td>\n",
       "      <td>операции с жильем</td>\n",
       "    </tr>\n",
       "    <tr>\n",
       "      <th>7</th>\n",
       "      <td>0</td>\n",
       "      <td>-152.779569</td>\n",
       "      <td>50</td>\n",
       "      <td>СРЕДНЕЕ</td>\n",
       "      <td>1</td>\n",
       "      <td>женат / замужем</td>\n",
       "      <td>0</td>\n",
       "      <td>M</td>\n",
       "      <td>сотрудник</td>\n",
       "      <td>0</td>\n",
       "      <td>135823.934197</td>\n",
       "      <td>образование</td>\n",
       "    </tr>\n",
       "    <tr>\n",
       "      <th>8</th>\n",
       "      <td>2</td>\n",
       "      <td>-6929.865299</td>\n",
       "      <td>35</td>\n",
       "      <td>ВЫСШЕЕ</td>\n",
       "      <td>0</td>\n",
       "      <td>гражданский брак</td>\n",
       "      <td>1</td>\n",
       "      <td>F</td>\n",
       "      <td>сотрудник</td>\n",
       "      <td>0</td>\n",
       "      <td>95856.832424</td>\n",
       "      <td>на проведение свадьбы</td>\n",
       "    </tr>\n",
       "    <tr>\n",
       "      <th>9</th>\n",
       "      <td>0</td>\n",
       "      <td>-2188.756445</td>\n",
       "      <td>41</td>\n",
       "      <td>среднее</td>\n",
       "      <td>1</td>\n",
       "      <td>женат / замужем</td>\n",
       "      <td>0</td>\n",
       "      <td>M</td>\n",
       "      <td>сотрудник</td>\n",
       "      <td>0</td>\n",
       "      <td>144425.938277</td>\n",
       "      <td>покупка жилья для семьи</td>\n",
       "    </tr>\n",
       "    <tr>\n",
       "      <th>10</th>\n",
       "      <td>2</td>\n",
       "      <td>-4171.483647</td>\n",
       "      <td>36</td>\n",
       "      <td>высшее</td>\n",
       "      <td>0</td>\n",
       "      <td>женат / замужем</td>\n",
       "      <td>0</td>\n",
       "      <td>M</td>\n",
       "      <td>компаньон</td>\n",
       "      <td>0</td>\n",
       "      <td>113943.491460</td>\n",
       "      <td>покупка недвижимости</td>\n",
       "    </tr>\n",
       "    <tr>\n",
       "      <th>11</th>\n",
       "      <td>0</td>\n",
       "      <td>-792.701887</td>\n",
       "      <td>40</td>\n",
       "      <td>среднее</td>\n",
       "      <td>1</td>\n",
       "      <td>женат / замужем</td>\n",
       "      <td>0</td>\n",
       "      <td>F</td>\n",
       "      <td>сотрудник</td>\n",
       "      <td>0</td>\n",
       "      <td>77069.234271</td>\n",
       "      <td>покупка коммерческой недвижимости</td>\n",
       "    </tr>\n",
       "    <tr>\n",
       "      <th>12</th>\n",
       "      <td>0</td>\n",
       "      <td>NaN</td>\n",
       "      <td>65</td>\n",
       "      <td>среднее</td>\n",
       "      <td>1</td>\n",
       "      <td>гражданский брак</td>\n",
       "      <td>1</td>\n",
       "      <td>M</td>\n",
       "      <td>пенсионер</td>\n",
       "      <td>0</td>\n",
       "      <td>NaN</td>\n",
       "      <td>сыграть свадьбу</td>\n",
       "    </tr>\n",
       "    <tr>\n",
       "      <th>13</th>\n",
       "      <td>0</td>\n",
       "      <td>-1846.641941</td>\n",
       "      <td>54</td>\n",
       "      <td>неоконченное высшее</td>\n",
       "      <td>2</td>\n",
       "      <td>женат / замужем</td>\n",
       "      <td>0</td>\n",
       "      <td>F</td>\n",
       "      <td>сотрудник</td>\n",
       "      <td>0</td>\n",
       "      <td>130458.228857</td>\n",
       "      <td>приобретение автомобиля</td>\n",
       "    </tr>\n",
       "    <tr>\n",
       "      <th>14</th>\n",
       "      <td>0</td>\n",
       "      <td>-1844.956182</td>\n",
       "      <td>56</td>\n",
       "      <td>высшее</td>\n",
       "      <td>0</td>\n",
       "      <td>гражданский брак</td>\n",
       "      <td>1</td>\n",
       "      <td>F</td>\n",
       "      <td>компаньон</td>\n",
       "      <td>1</td>\n",
       "      <td>165127.911772</td>\n",
       "      <td>покупка жилой недвижимости</td>\n",
       "    </tr>\n",
       "    <tr>\n",
       "      <th>15</th>\n",
       "      <td>1</td>\n",
       "      <td>-972.364419</td>\n",
       "      <td>26</td>\n",
       "      <td>среднее</td>\n",
       "      <td>1</td>\n",
       "      <td>женат / замужем</td>\n",
       "      <td>0</td>\n",
       "      <td>F</td>\n",
       "      <td>сотрудник</td>\n",
       "      <td>0</td>\n",
       "      <td>116820.904450</td>\n",
       "      <td>строительство собственной недвижимости</td>\n",
       "    </tr>\n",
       "    <tr>\n",
       "      <th>16</th>\n",
       "      <td>0</td>\n",
       "      <td>-1719.934226</td>\n",
       "      <td>35</td>\n",
       "      <td>среднее</td>\n",
       "      <td>1</td>\n",
       "      <td>женат / замужем</td>\n",
       "      <td>0</td>\n",
       "      <td>F</td>\n",
       "      <td>сотрудник</td>\n",
       "      <td>0</td>\n",
       "      <td>289202.704229</td>\n",
       "      <td>недвижимость</td>\n",
       "    </tr>\n",
       "    <tr>\n",
       "      <th>17</th>\n",
       "      <td>0</td>\n",
       "      <td>-2369.999720</td>\n",
       "      <td>33</td>\n",
       "      <td>высшее</td>\n",
       "      <td>0</td>\n",
       "      <td>гражданский брак</td>\n",
       "      <td>1</td>\n",
       "      <td>M</td>\n",
       "      <td>сотрудник</td>\n",
       "      <td>0</td>\n",
       "      <td>90410.586745</td>\n",
       "      <td>строительство недвижимости</td>\n",
       "    </tr>\n",
       "    <tr>\n",
       "      <th>18</th>\n",
       "      <td>0</td>\n",
       "      <td>400281.136913</td>\n",
       "      <td>53</td>\n",
       "      <td>среднее</td>\n",
       "      <td>1</td>\n",
       "      <td>вдовец / вдова</td>\n",
       "      <td>2</td>\n",
       "      <td>F</td>\n",
       "      <td>пенсионер</td>\n",
       "      <td>0</td>\n",
       "      <td>56823.777243</td>\n",
       "      <td>на покупку подержанного автомобиля</td>\n",
       "    </tr>\n",
       "    <tr>\n",
       "      <th>19</th>\n",
       "      <td>0</td>\n",
       "      <td>-10038.818549</td>\n",
       "      <td>48</td>\n",
       "      <td>СРЕДНЕЕ</td>\n",
       "      <td>1</td>\n",
       "      <td>в разводе</td>\n",
       "      <td>3</td>\n",
       "      <td>F</td>\n",
       "      <td>сотрудник</td>\n",
       "      <td>0</td>\n",
       "      <td>242831.107982</td>\n",
       "      <td>на покупку своего автомобиля</td>\n",
       "    </tr>\n",
       "  </tbody>\n",
       "</table>\n",
       "</div>"
      ],
      "text/plain": [
       "    children  days_employed  dob_years            education  education_id  \\\n",
       "0          1   -8437.673028         42               высшее             0   \n",
       "1          1   -4024.803754         36              среднее             1   \n",
       "2          0   -5623.422610         33              Среднее             1   \n",
       "3          3   -4124.747207         32              среднее             1   \n",
       "4          0  340266.072047         53              среднее             1   \n",
       "5          0    -926.185831         27               высшее             0   \n",
       "6          0   -2879.202052         43               высшее             0   \n",
       "7          0    -152.779569         50              СРЕДНЕЕ             1   \n",
       "8          2   -6929.865299         35               ВЫСШЕЕ             0   \n",
       "9          0   -2188.756445         41              среднее             1   \n",
       "10         2   -4171.483647         36               высшее             0   \n",
       "11         0    -792.701887         40              среднее             1   \n",
       "12         0            NaN         65              среднее             1   \n",
       "13         0   -1846.641941         54  неоконченное высшее             2   \n",
       "14         0   -1844.956182         56               высшее             0   \n",
       "15         1    -972.364419         26              среднее             1   \n",
       "16         0   -1719.934226         35              среднее             1   \n",
       "17         0   -2369.999720         33               высшее             0   \n",
       "18         0  400281.136913         53              среднее             1   \n",
       "19         0  -10038.818549         48              СРЕДНЕЕ             1   \n",
       "\n",
       "       family_status  family_status_id gender income_type  debt  \\\n",
       "0    женат / замужем                 0      F   сотрудник     0   \n",
       "1    женат / замужем                 0      F   сотрудник     0   \n",
       "2    женат / замужем                 0      M   сотрудник     0   \n",
       "3    женат / замужем                 0      M   сотрудник     0   \n",
       "4   гражданский брак                 1      F   пенсионер     0   \n",
       "5   гражданский брак                 1      M   компаньон     0   \n",
       "6    женат / замужем                 0      F   компаньон     0   \n",
       "7    женат / замужем                 0      M   сотрудник     0   \n",
       "8   гражданский брак                 1      F   сотрудник     0   \n",
       "9    женат / замужем                 0      M   сотрудник     0   \n",
       "10   женат / замужем                 0      M   компаньон     0   \n",
       "11   женат / замужем                 0      F   сотрудник     0   \n",
       "12  гражданский брак                 1      M   пенсионер     0   \n",
       "13   женат / замужем                 0      F   сотрудник     0   \n",
       "14  гражданский брак                 1      F   компаньон     1   \n",
       "15   женат / замужем                 0      F   сотрудник     0   \n",
       "16   женат / замужем                 0      F   сотрудник     0   \n",
       "17  гражданский брак                 1      M   сотрудник     0   \n",
       "18    вдовец / вдова                 2      F   пенсионер     0   \n",
       "19         в разводе                 3      F   сотрудник     0   \n",
       "\n",
       "     total_income                                 purpose  \n",
       "0   253875.639453                           покупка жилья  \n",
       "1   112080.014102                 приобретение автомобиля  \n",
       "2   145885.952297                           покупка жилья  \n",
       "3   267628.550329              дополнительное образование  \n",
       "4   158616.077870                         сыграть свадьбу  \n",
       "5   255763.565419                           покупка жилья  \n",
       "6   240525.971920                       операции с жильем  \n",
       "7   135823.934197                             образование  \n",
       "8    95856.832424                   на проведение свадьбы  \n",
       "9   144425.938277                 покупка жилья для семьи  \n",
       "10  113943.491460                    покупка недвижимости  \n",
       "11   77069.234271       покупка коммерческой недвижимости  \n",
       "12            NaN                         сыграть свадьбу  \n",
       "13  130458.228857                 приобретение автомобиля  \n",
       "14  165127.911772              покупка жилой недвижимости  \n",
       "15  116820.904450  строительство собственной недвижимости  \n",
       "16  289202.704229                            недвижимость  \n",
       "17   90410.586745              строительство недвижимости  \n",
       "18   56823.777243      на покупку подержанного автомобиля  \n",
       "19  242831.107982            на покупку своего автомобиля  "
      ]
     },
     "execution_count": 3,
     "metadata": {},
     "output_type": "execute_result"
    }
   ],
   "source": [
    "# прочитаем данные\n",
    "data = pd.read_csv('/datasets/data.csv')\n",
    "data.head(20)"
   ]
  },
  {
   "cell_type": "code",
   "execution_count": 4,
   "id": "6967d702-d301-4e34-bb79-5d9430887245",
   "metadata": {},
   "outputs": [
    {
     "name": "stdout",
     "output_type": "stream",
     "text": [
      "<class 'pandas.core.frame.DataFrame'>\n",
      "RangeIndex: 21525 entries, 0 to 21524\n",
      "Data columns (total 12 columns):\n",
      " #   Column            Non-Null Count  Dtype  \n",
      "---  ------            --------------  -----  \n",
      " 0   children          21525 non-null  int64  \n",
      " 1   days_employed     19351 non-null  float64\n",
      " 2   dob_years         21525 non-null  int64  \n",
      " 3   education         21525 non-null  object \n",
      " 4   education_id      21525 non-null  int64  \n",
      " 5   family_status     21525 non-null  object \n",
      " 6   family_status_id  21525 non-null  int64  \n",
      " 7   gender            21525 non-null  object \n",
      " 8   income_type       21525 non-null  object \n",
      " 9   debt              21525 non-null  int64  \n",
      " 10  total_income      19351 non-null  float64\n",
      " 11  purpose           21525 non-null  object \n",
      "dtypes: float64(2), int64(5), object(5)\n",
      "memory usage: 2.0+ MB\n"
     ]
    }
   ],
   "source": [
    "data.info()"
   ]
  },
  {
   "cell_type": "markdown",
   "id": "271eb793-138f-4bc7-842a-cad5151d2f98",
   "metadata": {},
   "source": [
    "**Выводы:**\n",
    "\n",
    "В датасете 12 столбцов и 21525 строк. В них содержатся данные о:\n",
    "\n",
    "- children — количестве детей;\n",
    "- days_employed — трудовом стаже клиента в днях;\n",
    "- dob_years — возрасте клиента;\n",
    "- education — уровне образования клиента;\n",
    "- education_id;\n",
    "- family_status — семейном положение;\n",
    "- family_status_id;\n",
    "- gender — поле клиента;\n",
    "- income_type - типе занятости;\n",
    "- debt — наличие ранее задолженности по кредиту;\n",
    "- total_income - доходе клиента (ежемесячный);\n",
    "- purpose - цели получения кредита.\n",
    "\n",
    "На первый взляд есть пропуски в столбцах days_employed и total_income. В days_employed есть отрицательные значения. Записи в столбце education не унифицированы. \n",
    "\n",
    "Есть записи education_id и family_status_id — кажется, соответсвие такое: высшее образование - 0, среднее - 1; официальный брак - 0, гражданский - 1."
   ]
  },
  {
   "cell_type": "markdown",
   "id": "3e0f73d8-d1c8-4904-950e-818c723175d9",
   "metadata": {},
   "source": [
    "## Преобработка данных\n",
    "\n",
    "1. Посмотрим на пропуски в данных и обработаем их\n",
    "2. Проверим на аномалии\n",
    "3. Поищем дубликаты\n",
    "4. Поменяем типы данных, где нужно\n",
    "5. Категоризуем данные о доходах клиаентов и целях получения кредита"
   ]
  },
  {
   "cell_type": "markdown",
   "id": "01b6eae2-060b-4f1c-b2b8-53dd3fbb79fd",
   "metadata": {},
   "source": [
    "### Пропуски"
   ]
  },
  {
   "cell_type": "code",
   "execution_count": 5,
   "id": "faf92535-047b-41fa-ade2-386e04da11b6",
   "metadata": {},
   "outputs": [
    {
     "data": {
      "text/plain": [
       "children               0\n",
       "days_employed       2174\n",
       "dob_years              0\n",
       "education              0\n",
       "education_id           0\n",
       "family_status          0\n",
       "family_status_id       0\n",
       "gender                 0\n",
       "income_type            0\n",
       "debt                   0\n",
       "total_income        2174\n",
       "purpose                0\n",
       "dtype: int64"
      ]
     },
     "execution_count": 5,
     "metadata": {},
     "output_type": "execute_result"
    }
   ],
   "source": [
    "# количество пропусков\n",
    "data.isna().sum()"
   ]
  },
  {
   "cell_type": "markdown",
   "id": "08de15bf-e57b-44ef-8f01-26ddfce55279",
   "metadata": {},
   "source": [
    "Пропуски в total_income заполним медианой, сгруппировав данные по типу дохода.\n",
    "\n",
    "Пропуски в days_employed. Прежде чем заполнять пропуски, нужно избавиться от отрицательных значений в столбце. Скорее всего это техническая ошибка. Сделаем все значения положительными. Затем также сгруппируем данные по типу дохода и заполним пропуски медианным значением."
   ]
  },
  {
   "cell_type": "code",
   "execution_count": 7,
   "id": "f6fe0bd0-aca0-4ce9-8a53-5902c251af98",
   "metadata": {},
   "outputs": [
    {
     "data": {
      "text/plain": [
       "0"
      ]
     },
     "execution_count": 7,
     "metadata": {},
     "output_type": "execute_result"
    }
   ],
   "source": [
    "# заполним пропуски в данных о доходе\n",
    "median_income = data.groupby('income_type')['total_income'].transform('median') \n",
    "data['total_income'].fillna(median_income, inplace=True)\n",
    "data['total_income'].isna().sum()"
   ]
  },
  {
   "cell_type": "code",
   "execution_count": 8,
   "id": "54cc122a-6ea7-4878-8d4b-a6cca6f01d76",
   "metadata": {},
   "outputs": [],
   "source": [
    "# устраним аномалию\n",
    "data['days_employed'] = data['days_employed'].abs()"
   ]
  },
  {
   "cell_type": "code",
   "execution_count": 9,
   "id": "4a0f66fb-efcc-44f1-ad7a-719996cf6ae2",
   "metadata": {},
   "outputs": [
    {
     "data": {
      "text/plain": [
       "income_type\n",
       "безработный        366413.652744\n",
       "в декрете            3296.759962\n",
       "госслужащий          2689.368353\n",
       "компаньон            1547.382223\n",
       "пенсионер          365213.306266\n",
       "предприниматель       520.848083\n",
       "сотрудник            1574.202821\n",
       "студент               578.751554\n",
       "Name: days_employed, dtype: float64"
      ]
     },
     "execution_count": 9,
     "metadata": {},
     "output_type": "execute_result"
    }
   ],
   "source": [
    "# проверим медиану по типу дохода\n",
    "data.groupby('income_type')['days_employed'].agg('median')"
   ]
  },
  {
   "cell_type": "code",
   "execution_count": 11,
   "id": "cfe1661f-d5ac-4e7c-bc2b-6fd01fb90e68",
   "metadata": {},
   "outputs": [
    {
     "data": {
      "text/plain": [
       "0"
      ]
     },
     "execution_count": 11,
     "metadata": {},
     "output_type": "execute_result"
    }
   ],
   "source": [
    "# заполним пропуски в данных о трудовом стаже\n",
    "median_days = data.groupby('income_type')['days_employed'].transform('median') \n",
    "data['days_employed'].fillna(median_days, inplace=True) \n",
    "data['days_employed'].isna().sum()"
   ]
  },
  {
   "cell_type": "code",
   "execution_count": 12,
   "id": "2b33a8e1-17bc-404a-818a-7566a29683c4",
   "metadata": {},
   "outputs": [
    {
     "data": {
      "text/plain": [
       "array([ 1,  0,  3,  2, -1,  4, 20,  5], dtype=int64)"
      ]
     },
     "execution_count": 12,
     "metadata": {},
     "output_type": "execute_result"
    }
   ],
   "source": [
    "# ищем ещё аномалии\n",
    "data['children'].unique()"
   ]
  },
  {
   "cell_type": "code",
   "execution_count": 13,
   "id": "d3449fe6-45f7-478a-a21d-274d63d679e4",
   "metadata": {},
   "outputs": [],
   "source": [
    "# удаляем аномалию\n",
    "data = data[~data['children'].isin((-1,20))]"
   ]
  },
  {
   "cell_type": "code",
   "execution_count": 14,
   "id": "cea6b3f5-1f6b-4533-a015-9e91a1f7b01a",
   "metadata": {},
   "outputs": [
    {
     "data": {
      "text/plain": [
       "array([1, 0, 3, 2, 4, 5], dtype=int64)"
      ]
     },
     "execution_count": 14,
     "metadata": {},
     "output_type": "execute_result"
    }
   ],
   "source": [
    "# проверим\n",
    "data['children'].unique()"
   ]
  },
  {
   "cell_type": "code",
   "execution_count": 15,
   "id": "42111d94-2a22-47cc-bf37-6018aadbf019",
   "metadata": {},
   "outputs": [
    {
     "data": {
      "text/plain": [
       "children            0\n",
       "days_employed       0\n",
       "dob_years           0\n",
       "education           0\n",
       "education_id        0\n",
       "family_status       0\n",
       "family_status_id    0\n",
       "gender              0\n",
       "income_type         0\n",
       "debt                0\n",
       "total_income        0\n",
       "purpose             0\n",
       "dtype: int64"
      ]
     },
     "execution_count": 15,
     "metadata": {},
     "output_type": "execute_result"
    }
   ],
   "source": [
    "# проверим пропуски\n",
    "data.isna().sum()"
   ]
  },
  {
   "cell_type": "markdown",
   "id": "0844c4c7-17bd-4013-ae03-79097bf95b50",
   "metadata": {},
   "source": [
    "### Изменение типов данных"
   ]
  },
  {
   "cell_type": "code",
   "execution_count": 16,
   "id": "a2dddc3c-8d78-47c6-89d8-47e2e31f42bc",
   "metadata": {},
   "outputs": [],
   "source": [
    "# поменяем тип у total_income на целочисленный\n",
    "data['total_income'] = data['total_income'].astype(int)"
   ]
  },
  {
   "cell_type": "markdown",
   "id": "f1c5416e-370f-403e-ae36-e14bd80cfd76",
   "metadata": {},
   "source": [
    "### Дубликаты"
   ]
  },
  {
   "cell_type": "code",
   "execution_count": 17,
   "id": "c603203d-bd6f-49b8-8b81-05a575b86799",
   "metadata": {},
   "outputs": [],
   "source": [
    "# приведём к нижнему регистру данные об образовании\n",
    "data['education'] = data['education'].str.lower()"
   ]
  },
  {
   "cell_type": "code",
   "execution_count": 18,
   "id": "709ea84b-e38e-4a22-8043-671610be5d44",
   "metadata": {},
   "outputs": [
    {
     "data": {
      "text/plain": [
       "71"
      ]
     },
     "execution_count": 18,
     "metadata": {},
     "output_type": "execute_result"
    }
   ],
   "source": [
    "# количество дубликатов\n",
    "data.duplicated().sum()"
   ]
  },
  {
   "cell_type": "code",
   "execution_count": 19,
   "id": "b5ad2784-3623-4773-bada-138e5f7d2cd5",
   "metadata": {},
   "outputs": [],
   "source": [
    "# удалим дубликаты\n",
    "data = data.drop_duplicates()"
   ]
  },
  {
   "cell_type": "markdown",
   "id": "e7ef2ea3-884f-4c9d-9fd0-57fe73050a7f",
   "metadata": {},
   "source": [
    "### Категоризация данных"
   ]
  },
  {
   "cell_type": "code",
   "execution_count": 20,
   "id": "fc2a0016-4aa3-4036-9fd5-133d61282384",
   "metadata": {},
   "outputs": [],
   "source": [
    "# создадим функцию \n",
    "def categorize_income(total_income):\n",
    "    if 0 < total_income <= 30000:\n",
    "        return 'E'\n",
    "    elif 30000 < total_income <= 50000:\n",
    "        return 'D'\n",
    "    elif 50000 < total_income <= 200000:\n",
    "        return 'C'\n",
    "    elif 200000 < total_income <= 1000000:\n",
    "        return 'B'\n",
    "    elif total_income > 1000000:\n",
    "        return 'A'\n",
    "    return 'Something is going wrong'"
   ]
  },
  {
   "cell_type": "code",
   "execution_count": 22,
   "id": "b5de7d84-008c-40b6-9950-25010b8b6680",
   "metadata": {},
   "outputs": [],
   "source": [
    "# применим функцию\n",
    "data['total_income_category'] = data['total_income'].apply(categorize_income)"
   ]
  },
  {
   "cell_type": "code",
   "execution_count": 23,
   "id": "400c91fb-a860-4d02-8d2d-638590a446e5",
   "metadata": {},
   "outputs": [
    {
     "data": {
      "text/plain": [
       "array(['покупка жилья', 'приобретение автомобиля',\n",
       "       'дополнительное образование', 'сыграть свадьбу',\n",
       "       'операции с жильем', 'образование', 'на проведение свадьбы',\n",
       "       'покупка жилья для семьи', 'покупка недвижимости',\n",
       "       'покупка коммерческой недвижимости', 'покупка жилой недвижимости',\n",
       "       'строительство собственной недвижимости', 'недвижимость',\n",
       "       'строительство недвижимости', 'на покупку подержанного автомобиля',\n",
       "       'на покупку своего автомобиля',\n",
       "       'операции с коммерческой недвижимостью',\n",
       "       'строительство жилой недвижимости', 'жилье',\n",
       "       'операции со своей недвижимостью', 'автомобили',\n",
       "       'заняться образованием', 'сделка с подержанным автомобилем',\n",
       "       'получение образования', 'автомобиль', 'свадьба',\n",
       "       'получение дополнительного образования', 'покупка своего жилья',\n",
       "       'операции с недвижимостью', 'получение высшего образования',\n",
       "       'свой автомобиль', 'сделка с автомобилем',\n",
       "       'профильное образование', 'высшее образование',\n",
       "       'покупка жилья для сдачи', 'на покупку автомобиля', 'ремонт жилью',\n",
       "       'заняться высшим образованием'], dtype=object)"
      ]
     },
     "execution_count": 23,
     "metadata": {},
     "output_type": "execute_result"
    }
   ],
   "source": [
    "# посмотрим на уникальные значения целей\n",
    "data['purpose'].unique()"
   ]
  },
  {
   "cell_type": "code",
   "execution_count": 24,
   "id": "a0fe925d-f5c1-400a-b440-89309aed8609",
   "metadata": {},
   "outputs": [],
   "source": [
    "# создадим функцию \n",
    "def categorize_purpose(purpose):\n",
    "    if 'авто' in purpose:\n",
    "        return 'операции с автомобилем'\n",
    "    elif 'жиль' in purpose:\n",
    "        return 'операции с недвижимостью'\n",
    "    elif 'недвиж' in purpose:\n",
    "        return 'операции с недвижимостью'\n",
    "    elif 'свад' in purpose:\n",
    "        return 'проведение свадьбы'\n",
    "    elif 'образов' in purpose:\n",
    "        return 'получение образования'\n",
    "    return 'Hah, you are wrong again'"
   ]
  },
  {
   "cell_type": "code",
   "execution_count": 25,
   "id": "19634232-a1a4-4c4f-9d3e-3d6e580924fa",
   "metadata": {},
   "outputs": [],
   "source": [
    "# применим функцию\n",
    "data['purpose_category'] = data['purpose'].apply(categorize_purpose)"
   ]
  },
  {
   "cell_type": "markdown",
   "id": "b9c38494-9ddf-4fd7-8038-1ac0981e9771",
   "metadata": {},
   "source": [
    "## Анализ данных\n",
    "\n",
    "Ответим на следующие вопросы:\n",
    "\n",
    "1. Есть ли зависимость между количеством детей и возвратом кредита в срок?\n",
    "2. Есть ли зависимость между семейным положением и возвратом кредита в срок?\n",
    "3. Есть ли зависимость между уровнем дохода и возвратом кредита в срок?\n",
    "4. Как разные цели влияют на факт возврата кредита в срок?"
   ]
  },
  {
   "cell_type": "code",
   "execution_count": 26,
   "id": "3d4c1d35-f003-486a-9d5a-3cda4c2d2057",
   "metadata": {},
   "outputs": [
    {
     "data": {
      "text/html": [
       "<style  type=\"text/css\" >\n",
       "</style><table id=\"T_38055_\" ><thead>    <tr>        <th class=\"blank level0\" ></th>        <th class=\"col_heading level0 col0\" >count</th>        <th class=\"col_heading level0 col1\" >sum</th>        <th class=\"col_heading level0 col2\" >mean</th>    </tr>    <tr>        <th class=\"blank level1\" ></th>        <th class=\"col_heading level1 col0\" >debt</th>        <th class=\"col_heading level1 col1\" >debt</th>        <th class=\"col_heading level1 col2\" >debt</th>    </tr>    <tr>        <th class=\"index_name level0\" >children</th>        <th class=\"blank\" ></th>        <th class=\"blank\" ></th>        <th class=\"blank\" ></th>    </tr></thead><tbody>\n",
       "                <tr>\n",
       "                        <th id=\"T_38055_level0_row0\" class=\"row_heading level0 row0\" >4</th>\n",
       "                        <td id=\"T_38055_row0_col0\" class=\"data row0 col0\" >41</td>\n",
       "                        <td id=\"T_38055_row0_col1\" class=\"data row0 col1\" >4</td>\n",
       "                        <td id=\"T_38055_row0_col2\" class=\"data row0 col2\" >9.76%</td>\n",
       "            </tr>\n",
       "            <tr>\n",
       "                        <th id=\"T_38055_level0_row1\" class=\"row_heading level0 row1\" >2</th>\n",
       "                        <td id=\"T_38055_row1_col0\" class=\"data row1 col0\" >2052</td>\n",
       "                        <td id=\"T_38055_row1_col1\" class=\"data row1 col1\" >194</td>\n",
       "                        <td id=\"T_38055_row1_col2\" class=\"data row1 col2\" >9.45%</td>\n",
       "            </tr>\n",
       "            <tr>\n",
       "                        <th id=\"T_38055_level0_row2\" class=\"row_heading level0 row2\" >1</th>\n",
       "                        <td id=\"T_38055_row2_col0\" class=\"data row2 col0\" >4808</td>\n",
       "                        <td id=\"T_38055_row2_col1\" class=\"data row2 col1\" >444</td>\n",
       "                        <td id=\"T_38055_row2_col2\" class=\"data row2 col2\" >9.23%</td>\n",
       "            </tr>\n",
       "            <tr>\n",
       "                        <th id=\"T_38055_level0_row3\" class=\"row_heading level0 row3\" >3</th>\n",
       "                        <td id=\"T_38055_row3_col0\" class=\"data row3 col0\" >330</td>\n",
       "                        <td id=\"T_38055_row3_col1\" class=\"data row3 col1\" >27</td>\n",
       "                        <td id=\"T_38055_row3_col2\" class=\"data row3 col2\" >8.18%</td>\n",
       "            </tr>\n",
       "            <tr>\n",
       "                        <th id=\"T_38055_level0_row4\" class=\"row_heading level0 row4\" >0</th>\n",
       "                        <td id=\"T_38055_row4_col0\" class=\"data row4 col0\" >14091</td>\n",
       "                        <td id=\"T_38055_row4_col1\" class=\"data row4 col1\" >1063</td>\n",
       "                        <td id=\"T_38055_row4_col2\" class=\"data row4 col2\" >7.54%</td>\n",
       "            </tr>\n",
       "            <tr>\n",
       "                        <th id=\"T_38055_level0_row5\" class=\"row_heading level0 row5\" >5</th>\n",
       "                        <td id=\"T_38055_row5_col0\" class=\"data row5 col0\" >9</td>\n",
       "                        <td id=\"T_38055_row5_col1\" class=\"data row5 col1\" >0</td>\n",
       "                        <td id=\"T_38055_row5_col2\" class=\"data row5 col2\" >0.00%</td>\n",
       "            </tr>\n",
       "    </tbody></table>"
      ],
      "text/plain": [
       "<pandas.io.formats.style.Styler at 0x28c392292b0>"
      ]
     },
     "execution_count": 26,
     "metadata": {},
     "output_type": "execute_result"
    }
   ],
   "source": [
    "# количество детей и долг\n",
    "data.pivot_table(index = 'children', values = 'debt', aggfunc = ['count', 'sum', 'mean'])\\\n",
    "    .sort_values(by = ('mean', 'debt'), ascending = False)\\\n",
    "    .style.format({('mean', 'debt') : '{:.2%}'})"
   ]
  },
  {
   "cell_type": "markdown",
   "id": "989ab63c-9e90-4a93-8b1c-49e72b08705f",
   "metadata": {},
   "source": [
    "Самые ненадежные заемщики - семьи с четырьмя детьми. У них наибольшая доля задолженностей, если сравнивать с семьями, где детей меньше. Заметна зависимость между увеличением количества детей и просрочкам по кредиту, поэтому группа семей с пятью детьми будет неправильно назвать надежными заемщиками, пусть показатель и равен 0. Получается что самая низкая доля просрочек у семей без детей - 7,54%."
   ]
  },
  {
   "cell_type": "code",
   "execution_count": 27,
   "id": "1b9b5267-51ff-460f-90db-286ebcd0da77",
   "metadata": {},
   "outputs": [
    {
     "data": {
      "text/html": [
       "<style  type=\"text/css\" >\n",
       "</style><table id=\"T_9e6e0_\" ><thead>    <tr>        <th class=\"blank level0\" ></th>        <th class=\"col_heading level0 col0\" >count</th>        <th class=\"col_heading level0 col1\" >sum</th>        <th class=\"col_heading level0 col2\" >mean</th>    </tr>    <tr>        <th class=\"blank level1\" ></th>        <th class=\"col_heading level1 col0\" >debt</th>        <th class=\"col_heading level1 col1\" >debt</th>        <th class=\"col_heading level1 col2\" >debt</th>    </tr>    <tr>        <th class=\"index_name level0\" >family_status</th>        <th class=\"blank\" ></th>        <th class=\"blank\" ></th>        <th class=\"blank\" ></th>    </tr></thead><tbody>\n",
       "                <tr>\n",
       "                        <th id=\"T_9e6e0_level0_row0\" class=\"row_heading level0 row0\" >Не женат / не замужем</th>\n",
       "                        <td id=\"T_9e6e0_row0_col0\" class=\"data row0 col0\" >2796</td>\n",
       "                        <td id=\"T_9e6e0_row0_col1\" class=\"data row0 col1\" >273</td>\n",
       "                        <td id=\"T_9e6e0_row0_col2\" class=\"data row0 col2\" >9.76%</td>\n",
       "            </tr>\n",
       "            <tr>\n",
       "                        <th id=\"T_9e6e0_level0_row1\" class=\"row_heading level0 row1\" >гражданский брак</th>\n",
       "                        <td id=\"T_9e6e0_row1_col0\" class=\"data row1 col0\" >4134</td>\n",
       "                        <td id=\"T_9e6e0_row1_col1\" class=\"data row1 col1\" >385</td>\n",
       "                        <td id=\"T_9e6e0_row1_col2\" class=\"data row1 col2\" >9.31%</td>\n",
       "            </tr>\n",
       "            <tr>\n",
       "                        <th id=\"T_9e6e0_level0_row2\" class=\"row_heading level0 row2\" >женат / замужем</th>\n",
       "                        <td id=\"T_9e6e0_row2_col0\" class=\"data row2 col0\" >12261</td>\n",
       "                        <td id=\"T_9e6e0_row2_col1\" class=\"data row2 col1\" >927</td>\n",
       "                        <td id=\"T_9e6e0_row2_col2\" class=\"data row2 col2\" >7.56%</td>\n",
       "            </tr>\n",
       "            <tr>\n",
       "                        <th id=\"T_9e6e0_level0_row3\" class=\"row_heading level0 row3\" >в разводе</th>\n",
       "                        <td id=\"T_9e6e0_row3_col0\" class=\"data row3 col0\" >1189</td>\n",
       "                        <td id=\"T_9e6e0_row3_col1\" class=\"data row3 col1\" >84</td>\n",
       "                        <td id=\"T_9e6e0_row3_col2\" class=\"data row3 col2\" >7.06%</td>\n",
       "            </tr>\n",
       "            <tr>\n",
       "                        <th id=\"T_9e6e0_level0_row4\" class=\"row_heading level0 row4\" >вдовец / вдова</th>\n",
       "                        <td id=\"T_9e6e0_row4_col0\" class=\"data row4 col0\" >951</td>\n",
       "                        <td id=\"T_9e6e0_row4_col1\" class=\"data row4 col1\" >63</td>\n",
       "                        <td id=\"T_9e6e0_row4_col2\" class=\"data row4 col2\" >6.62%</td>\n",
       "            </tr>\n",
       "    </tbody></table>"
      ],
      "text/plain": [
       "<pandas.io.formats.style.Styler at 0x28c4b9a4790>"
      ]
     },
     "execution_count": 27,
     "metadata": {},
     "output_type": "execute_result"
    }
   ],
   "source": [
    "# семейное положение и долг\n",
    "data.pivot_table(index = 'family_status', values = 'debt', aggfunc = ['count', 'sum', 'mean'])\\\n",
    "    .sort_values(by = ('mean', 'debt'), ascending = False)\\\n",
    "    .style.format({('mean', 'debt') : '{:.2%}'})"
   ]
  },
  {
   "cell_type": "markdown",
   "id": "d8ca875c-afaf-437e-8c53-c27acf394cf6",
   "metadata": {},
   "source": [
    "Платят в срок те, кто в группе \"вдовец/вдова\". Интересно, что наибольшая доля у тех, кто не состоит в браке, хотя из предыдущего вывода следовало, что семьи без детей платят вовремя."
   ]
  },
  {
   "cell_type": "code",
   "execution_count": 28,
   "id": "f9994b71-ffa3-457d-8b7e-3a06a621314e",
   "metadata": {},
   "outputs": [
    {
     "data": {
      "text/html": [
       "<style  type=\"text/css\" >\n",
       "</style><table id=\"T_544f0_\" ><thead>    <tr>        <th class=\"blank level0\" ></th>        <th class=\"col_heading level0 col0\" >count</th>        <th class=\"col_heading level0 col1\" >sum</th>        <th class=\"col_heading level0 col2\" >mean</th>    </tr>    <tr>        <th class=\"blank level1\" ></th>        <th class=\"col_heading level1 col0\" >debt</th>        <th class=\"col_heading level1 col1\" >debt</th>        <th class=\"col_heading level1 col2\" >debt</th>    </tr>    <tr>        <th class=\"index_name level0\" >total_income_category</th>        <th class=\"blank\" ></th>        <th class=\"blank\" ></th>        <th class=\"blank\" ></th>    </tr></thead><tbody>\n",
       "                <tr>\n",
       "                        <th id=\"T_544f0_level0_row0\" class=\"row_heading level0 row0\" >E</th>\n",
       "                        <td id=\"T_544f0_row0_col0\" class=\"data row0 col0\" >22</td>\n",
       "                        <td id=\"T_544f0_row0_col1\" class=\"data row0 col1\" >2</td>\n",
       "                        <td id=\"T_544f0_row0_col2\" class=\"data row0 col2\" >9.09%</td>\n",
       "            </tr>\n",
       "            <tr>\n",
       "                        <th id=\"T_544f0_level0_row1\" class=\"row_heading level0 row1\" >C</th>\n",
       "                        <td id=\"T_544f0_row1_col0\" class=\"data row1 col0\" >15921</td>\n",
       "                        <td id=\"T_544f0_row1_col1\" class=\"data row1 col1\" >1353</td>\n",
       "                        <td id=\"T_544f0_row1_col2\" class=\"data row1 col2\" >8.50%</td>\n",
       "            </tr>\n",
       "            <tr>\n",
       "                        <th id=\"T_544f0_level0_row2\" class=\"row_heading level0 row2\" >A</th>\n",
       "                        <td id=\"T_544f0_row2_col0\" class=\"data row2 col0\" >25</td>\n",
       "                        <td id=\"T_544f0_row2_col1\" class=\"data row2 col1\" >2</td>\n",
       "                        <td id=\"T_544f0_row2_col2\" class=\"data row2 col2\" >8.00%</td>\n",
       "            </tr>\n",
       "            <tr>\n",
       "                        <th id=\"T_544f0_level0_row3\" class=\"row_heading level0 row3\" >B</th>\n",
       "                        <td id=\"T_544f0_row3_col0\" class=\"data row3 col0\" >5014</td>\n",
       "                        <td id=\"T_544f0_row3_col1\" class=\"data row3 col1\" >354</td>\n",
       "                        <td id=\"T_544f0_row3_col2\" class=\"data row3 col2\" >7.06%</td>\n",
       "            </tr>\n",
       "            <tr>\n",
       "                        <th id=\"T_544f0_level0_row4\" class=\"row_heading level0 row4\" >D</th>\n",
       "                        <td id=\"T_544f0_row4_col0\" class=\"data row4 col0\" >349</td>\n",
       "                        <td id=\"T_544f0_row4_col1\" class=\"data row4 col1\" >21</td>\n",
       "                        <td id=\"T_544f0_row4_col2\" class=\"data row4 col2\" >6.02%</td>\n",
       "            </tr>\n",
       "    </tbody></table>"
      ],
      "text/plain": [
       "<pandas.io.formats.style.Styler at 0x28c392790d0>"
      ]
     },
     "execution_count": 28,
     "metadata": {},
     "output_type": "execute_result"
    }
   ],
   "source": [
    "# уровень дохода и долг\n",
    "data.pivot_table(index = 'total_income_category', values = 'debt', aggfunc = ['count', 'sum', 'mean'])\\\n",
    "    .sort_values(by = ('mean', 'debt'), ascending = False)\\\n",
    "    .style.format({('mean', 'debt') : '{:.2%}'})"
   ]
  },
  {
   "cell_type": "markdown",
   "id": "185dcbc1-1932-4a05-93ba-6f4a9a694704",
   "metadata": {},
   "source": [
    "Чаще всего кредиты берут те, у кого уровень дохода в категории \"С\" - от 50 000 до 200 000. Если смотреть на общую картину, то они и являются самыми надежными заемщиками. Те, кто в группе \"D\" имеют лучший показатель, но их количество значительно меньше, чем в \"С\". Я думаю, то же верно и для группы \"B\". Худший показатель у \"Е\", что понятно, так как у них самый низкий уровень дохода."
   ]
  },
  {
   "cell_type": "code",
   "execution_count": 30,
   "id": "c999fb3f-8b5e-4e66-97fb-497a620797e2",
   "metadata": {},
   "outputs": [
    {
     "data": {
      "text/html": [
       "<style  type=\"text/css\" >\n",
       "</style><table id=\"T_cebf2_\" ><thead>    <tr>        <th class=\"blank level0\" ></th>        <th class=\"col_heading level0 col0\" >count</th>        <th class=\"col_heading level0 col1\" >sum</th>        <th class=\"col_heading level0 col2\" >mean</th>    </tr>    <tr>        <th class=\"blank level1\" ></th>        <th class=\"col_heading level1 col0\" >debt</th>        <th class=\"col_heading level1 col1\" >debt</th>        <th class=\"col_heading level1 col2\" >debt</th>    </tr>    <tr>        <th class=\"index_name level0\" >purpose_category</th>        <th class=\"blank\" ></th>        <th class=\"blank\" ></th>        <th class=\"blank\" ></th>    </tr></thead><tbody>\n",
       "                <tr>\n",
       "                        <th id=\"T_cebf2_level0_row0\" class=\"row_heading level0 row0\" >операции с автомобилем</th>\n",
       "                        <td id=\"T_cebf2_row0_col0\" class=\"data row0 col0\" >4279</td>\n",
       "                        <td id=\"T_cebf2_row0_col1\" class=\"data row0 col1\" >400</td>\n",
       "                        <td id=\"T_cebf2_row0_col2\" class=\"data row0 col2\" >9.35%</td>\n",
       "            </tr>\n",
       "            <tr>\n",
       "                        <th id=\"T_cebf2_level0_row1\" class=\"row_heading level0 row1\" >получение образования</th>\n",
       "                        <td id=\"T_cebf2_row1_col0\" class=\"data row1 col0\" >3988</td>\n",
       "                        <td id=\"T_cebf2_row1_col1\" class=\"data row1 col1\" >369</td>\n",
       "                        <td id=\"T_cebf2_row1_col2\" class=\"data row1 col2\" >9.25%</td>\n",
       "            </tr>\n",
       "            <tr>\n",
       "                        <th id=\"T_cebf2_level0_row2\" class=\"row_heading level0 row2\" >проведение свадьбы</th>\n",
       "                        <td id=\"T_cebf2_row2_col0\" class=\"data row2 col0\" >2313</td>\n",
       "                        <td id=\"T_cebf2_row2_col1\" class=\"data row2 col1\" >183</td>\n",
       "                        <td id=\"T_cebf2_row2_col2\" class=\"data row2 col2\" >7.91%</td>\n",
       "            </tr>\n",
       "            <tr>\n",
       "                        <th id=\"T_cebf2_level0_row3\" class=\"row_heading level0 row3\" >операции с недвижимостью</th>\n",
       "                        <td id=\"T_cebf2_row3_col0\" class=\"data row3 col0\" >10751</td>\n",
       "                        <td id=\"T_cebf2_row3_col1\" class=\"data row3 col1\" >780</td>\n",
       "                        <td id=\"T_cebf2_row3_col2\" class=\"data row3 col2\" >7.26%</td>\n",
       "            </tr>\n",
       "    </tbody></table>"
      ],
      "text/plain": [
       "<pandas.io.formats.style.Styler at 0x28c49a5a160>"
      ]
     },
     "execution_count": 30,
     "metadata": {},
     "output_type": "execute_result"
    }
   ],
   "source": [
    "# цели кредита и долг\n",
    "data.pivot_table(index = 'purpose_category', values = 'debt', aggfunc = ['count', 'sum', 'mean'])\\\n",
    "    .sort_values(by = ('mean', 'debt'), ascending = False)\\\n",
    "    .style.format({('mean', 'debt') : '{:.2%}'})"
   ]
  },
  {
   "cell_type": "markdown",
   "id": "0dbd346b-f81a-497f-b17d-2ad6974ef353",
   "metadata": {},
   "source": [
    "Если цель покупка недвижимости, то вероятнее всего кредит вернут в срок.\n",
    "\n",
    "Посмотрим ещё раз на группы по доходам и сравним две самые многочисленные.\n",
    "\n",
    "С увеличением уровня дохода доля должников меньше. При этом количество заемщиков тоже уменьшается. Это может быть связано с тем, что у более обеспеченной группы реже возникает потребность в кредите. Или возможно дело в какой-то конкретной цели кредита, которая не характерна для этой категории заемщиков."
   ]
  },
  {
   "cell_type": "code",
   "execution_count": 29,
   "id": "998a33dc-8eb9-40ac-9ba1-a6e29821f4d3",
   "metadata": {},
   "outputs": [
    {
     "data": {
      "text/html": [
       "<div>\n",
       "<style scoped>\n",
       "    .dataframe tbody tr th:only-of-type {\n",
       "        vertical-align: middle;\n",
       "    }\n",
       "\n",
       "    .dataframe tbody tr th {\n",
       "        vertical-align: top;\n",
       "    }\n",
       "\n",
       "    .dataframe thead th {\n",
       "        text-align: right;\n",
       "    }\n",
       "</style>\n",
       "<table border=\"1\" class=\"dataframe\">\n",
       "  <thead>\n",
       "    <tr style=\"text-align: right;\">\n",
       "      <th>purpose_category</th>\n",
       "      <th>операции с автомобилем</th>\n",
       "      <th>операции с недвижимостью</th>\n",
       "      <th>получение образования</th>\n",
       "      <th>проведение свадьбы</th>\n",
       "    </tr>\n",
       "    <tr>\n",
       "      <th>total_income_category</th>\n",
       "      <th></th>\n",
       "      <th></th>\n",
       "      <th></th>\n",
       "      <th></th>\n",
       "    </tr>\n",
       "  </thead>\n",
       "  <tbody>\n",
       "    <tr>\n",
       "      <th>A</th>\n",
       "      <td>2</td>\n",
       "      <td>17</td>\n",
       "      <td>4</td>\n",
       "      <td>2</td>\n",
       "    </tr>\n",
       "    <tr>\n",
       "      <th>B</th>\n",
       "      <td>1022</td>\n",
       "      <td>2558</td>\n",
       "      <td>890</td>\n",
       "      <td>544</td>\n",
       "    </tr>\n",
       "    <tr>\n",
       "      <th>C</th>\n",
       "      <td>3181</td>\n",
       "      <td>7997</td>\n",
       "      <td>3014</td>\n",
       "      <td>1729</td>\n",
       "    </tr>\n",
       "    <tr>\n",
       "      <th>D</th>\n",
       "      <td>72</td>\n",
       "      <td>168</td>\n",
       "      <td>75</td>\n",
       "      <td>34</td>\n",
       "    </tr>\n",
       "    <tr>\n",
       "      <th>E</th>\n",
       "      <td>2</td>\n",
       "      <td>11</td>\n",
       "      <td>5</td>\n",
       "      <td>4</td>\n",
       "    </tr>\n",
       "  </tbody>\n",
       "</table>\n",
       "</div>"
      ],
      "text/plain": [
       "purpose_category       операции с автомобилем  операции с недвижимостью  \\\n",
       "total_income_category                                                     \n",
       "A                                           2                        17   \n",
       "B                                        1022                      2558   \n",
       "C                                        3181                      7997   \n",
       "D                                          72                       168   \n",
       "E                                           2                        11   \n",
       "\n",
       "purpose_category       получение образования  проведение свадьбы  \n",
       "total_income_category                                             \n",
       "A                                          4                   2  \n",
       "B                                        890                 544  \n",
       "C                                       3014                1729  \n",
       "D                                         75                  34  \n",
       "E                                          5                   4  "
      ]
     },
     "execution_count": 29,
     "metadata": {},
     "output_type": "execute_result"
    }
   ],
   "source": [
    "# проверим предположение\n",
    "data.pivot_table(index = 'total_income_category', columns = 'purpose_category', values='debt', aggfunc = 'count')"
   ]
  },
  {
   "cell_type": "markdown",
   "id": "9eb5be2c-83ec-409c-8d5d-d6d48c872308",
   "metadata": {},
   "source": [
    "Как я и предполагала, кредиты на образование или на свадьбу заметно реже берут с уровнем дохода \"В\". В то же время кредиты на автомобиль и на образование у \"С\" почти в одинаковом приоритете. Учитывая то, что именно эти цели проседают и их большинство по сравнению со всеми остальными группами доходов, вывод о надежности заемщиков из \"С\" ставится под сомнение. Тогда самыми надежными заемщиками согласно уровню доходов являются те, кто в категории \"В\". Однако, такое количество заемщиков из \"С\" говорит о том, что они являются целевой аудиторией банка, что значит они вполне подходят под портрет идеального клиента. Возможно стоит уточнить категоризацию по доходом, разбить на более мелкие группы или наоборот объединить, чтобы прояснить этот момент."
   ]
  },
  {
   "cell_type": "markdown",
   "id": "21e805d4-d4a7-4cf3-bd37-489311490182",
   "metadata": {},
   "source": [
    "## Итоги исследования\n",
    "\n",
    "Данные были обработаны: устранены пропуски и ошибки, дубликаты. Ввели новые столбцы: категоризовали клиентов по уровню их дохода и по целям займа. Проведено исследование данных с целью выявить, влияет ли семейное положение и количество детей клиента на факт погашения кредита в срок. \n",
    "\n",
    "Выводы:\n",
    "\n",
    "- Самые ненадежные заемщики —  семьи с четырьмя детьми;\n",
    "- Самые надёжные заёмщики — клиенты без детей;\n",
    "- Скорее всего долг вернут в срок те, кто когда-то состоял в браке, но уже не состоит в нём;\n",
    "- Самая многочисленная группа заёмщиков с уровнем дохода от 50 000;\n",
    "- Те, кто приходят в банк с целью покупки недвижимости, вернут долг в срок.\n",
    "\n",
    "Рассмотренные факторы определяют вероятность возворате кредита в срок. Портрет идеального заёмщика выглядит так:\n",
    "\n",
    "- средний уровень дохода от 50 000\n",
    "- без детей и/или вдова/вдовец\n",
    "- с целью покупки недвидимостиости"
   ]
  }
 ],
 "metadata": {
  "kernelspec": {
   "display_name": "Python 3 (ipykernel)",
   "language": "python",
   "name": "python3"
  },
  "language_info": {
   "codemirror_mode": {
    "name": "ipython",
    "version": 3
   },
   "file_extension": ".py",
   "mimetype": "text/x-python",
   "name": "python",
   "nbconvert_exporter": "python",
   "pygments_lexer": "ipython3",
   "version": "3.9.16"
  }
 },
 "nbformat": 4,
 "nbformat_minor": 5
}
