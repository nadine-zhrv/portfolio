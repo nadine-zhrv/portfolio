{
 "cells": [
  {
   "cell_type": "markdown",
   "metadata": {},
   "source": [
    "# Защита персональных данных клиентов\n",
    "\n",
    "**Задача:** Разработать алгоритм преобразования данных для шифрования персональной информации клиентов страховой компании.\n",
    "\n",
    "**План проекта:**\n",
    "\n",
    "1. Обзор данных\n",
    "2. Алгоритм преобразования\n",
    "3. Проверка алгоритма"
   ]
  },
  {
   "cell_type": "markdown",
   "metadata": {},
   "source": [
    "## Обзор данных"
   ]
  },
  {
   "cell_type": "code",
   "execution_count": 1,
   "metadata": {},
   "outputs": [],
   "source": [
    "# импортируем библиотеки\n",
    "import pandas as pd\n",
    "import numpy as np\n",
    "import matplotlib.pyplot as plt\n",
    "from sklearn.model_selection import train_test_split\n",
    "from sklearn.linear_model import LinearRegression\n",
    "from sklearn.metrics import r2_score"
   ]
  },
  {
   "cell_type": "code",
   "execution_count": 2,
   "metadata": {},
   "outputs": [
    {
     "data": {
      "text/html": [
       "<div>\n",
       "<style scoped>\n",
       "    .dataframe tbody tr th:only-of-type {\n",
       "        vertical-align: middle;\n",
       "    }\n",
       "\n",
       "    .dataframe tbody tr th {\n",
       "        vertical-align: top;\n",
       "    }\n",
       "\n",
       "    .dataframe thead th {\n",
       "        text-align: right;\n",
       "    }\n",
       "</style>\n",
       "<table border=\"1\" class=\"dataframe\">\n",
       "  <thead>\n",
       "    <tr style=\"text-align: right;\">\n",
       "      <th></th>\n",
       "      <th>Пол</th>\n",
       "      <th>Возраст</th>\n",
       "      <th>Зарплата</th>\n",
       "      <th>Члены семьи</th>\n",
       "      <th>Страховые выплаты</th>\n",
       "    </tr>\n",
       "  </thead>\n",
       "  <tbody>\n",
       "    <tr>\n",
       "      <th>0</th>\n",
       "      <td>1</td>\n",
       "      <td>41.0</td>\n",
       "      <td>49600.0</td>\n",
       "      <td>1</td>\n",
       "      <td>0</td>\n",
       "    </tr>\n",
       "    <tr>\n",
       "      <th>1</th>\n",
       "      <td>0</td>\n",
       "      <td>46.0</td>\n",
       "      <td>38000.0</td>\n",
       "      <td>1</td>\n",
       "      <td>1</td>\n",
       "    </tr>\n",
       "    <tr>\n",
       "      <th>2</th>\n",
       "      <td>0</td>\n",
       "      <td>29.0</td>\n",
       "      <td>21000.0</td>\n",
       "      <td>0</td>\n",
       "      <td>0</td>\n",
       "    </tr>\n",
       "    <tr>\n",
       "      <th>3</th>\n",
       "      <td>0</td>\n",
       "      <td>21.0</td>\n",
       "      <td>41700.0</td>\n",
       "      <td>2</td>\n",
       "      <td>0</td>\n",
       "    </tr>\n",
       "    <tr>\n",
       "      <th>4</th>\n",
       "      <td>1</td>\n",
       "      <td>28.0</td>\n",
       "      <td>26100.0</td>\n",
       "      <td>0</td>\n",
       "      <td>0</td>\n",
       "    </tr>\n",
       "  </tbody>\n",
       "</table>\n",
       "</div>"
      ],
      "text/plain": [
       "   Пол  Возраст  Зарплата  Члены семьи  Страховые выплаты\n",
       "0    1     41.0   49600.0            1                  0\n",
       "1    0     46.0   38000.0            1                  1\n",
       "2    0     29.0   21000.0            0                  0\n",
       "3    0     21.0   41700.0            2                  0\n",
       "4    1     28.0   26100.0            0                  0"
      ]
     },
     "execution_count": 2,
     "metadata": {},
     "output_type": "execute_result"
    }
   ],
   "source": [
    "try:\n",
    "    df = pd.read_csv('/datasets/insurance.csv')\n",
    "except:\n",
    "    df = pd.read_csv('https://datasets/insurance.csv')\n",
    "df.head()"
   ]
  },
  {
   "cell_type": "code",
   "execution_count": 3,
   "metadata": {},
   "outputs": [
    {
     "name": "stdout",
     "output_type": "stream",
     "text": [
      "<class 'pandas.core.frame.DataFrame'>\n",
      "RangeIndex: 5000 entries, 0 to 4999\n",
      "Data columns (total 5 columns):\n",
      " #   Column             Non-Null Count  Dtype  \n",
      "---  ------             --------------  -----  \n",
      " 0   Пол                5000 non-null   int64  \n",
      " 1   Возраст            5000 non-null   float64\n",
      " 2   Зарплата           5000 non-null   float64\n",
      " 3   Члены семьи        5000 non-null   int64  \n",
      " 4   Страховые выплаты  5000 non-null   int64  \n",
      "dtypes: float64(2), int64(3)\n",
      "memory usage: 195.4 KB\n"
     ]
    }
   ],
   "source": [
    "df.info()"
   ]
  },
  {
   "cell_type": "code",
   "execution_count": 4,
   "metadata": {},
   "outputs": [
    {
     "data": {
      "text/html": [
       "<div>\n",
       "<style scoped>\n",
       "    .dataframe tbody tr th:only-of-type {\n",
       "        vertical-align: middle;\n",
       "    }\n",
       "\n",
       "    .dataframe tbody tr th {\n",
       "        vertical-align: top;\n",
       "    }\n",
       "\n",
       "    .dataframe thead th {\n",
       "        text-align: right;\n",
       "    }\n",
       "</style>\n",
       "<table border=\"1\" class=\"dataframe\">\n",
       "  <thead>\n",
       "    <tr style=\"text-align: right;\">\n",
       "      <th></th>\n",
       "      <th>Пол</th>\n",
       "      <th>Возраст</th>\n",
       "      <th>Зарплата</th>\n",
       "      <th>Члены семьи</th>\n",
       "      <th>Страховые выплаты</th>\n",
       "    </tr>\n",
       "  </thead>\n",
       "  <tbody>\n",
       "    <tr>\n",
       "      <th>count</th>\n",
       "      <td>5000.000000</td>\n",
       "      <td>5000.000000</td>\n",
       "      <td>5000.000000</td>\n",
       "      <td>5000.000000</td>\n",
       "      <td>5000.000000</td>\n",
       "    </tr>\n",
       "    <tr>\n",
       "      <th>mean</th>\n",
       "      <td>0.499000</td>\n",
       "      <td>30.952800</td>\n",
       "      <td>39916.360000</td>\n",
       "      <td>1.194200</td>\n",
       "      <td>0.148000</td>\n",
       "    </tr>\n",
       "    <tr>\n",
       "      <th>std</th>\n",
       "      <td>0.500049</td>\n",
       "      <td>8.440807</td>\n",
       "      <td>9900.083569</td>\n",
       "      <td>1.091387</td>\n",
       "      <td>0.463183</td>\n",
       "    </tr>\n",
       "    <tr>\n",
       "      <th>min</th>\n",
       "      <td>0.000000</td>\n",
       "      <td>18.000000</td>\n",
       "      <td>5300.000000</td>\n",
       "      <td>0.000000</td>\n",
       "      <td>0.000000</td>\n",
       "    </tr>\n",
       "    <tr>\n",
       "      <th>25%</th>\n",
       "      <td>0.000000</td>\n",
       "      <td>24.000000</td>\n",
       "      <td>33300.000000</td>\n",
       "      <td>0.000000</td>\n",
       "      <td>0.000000</td>\n",
       "    </tr>\n",
       "    <tr>\n",
       "      <th>50%</th>\n",
       "      <td>0.000000</td>\n",
       "      <td>30.000000</td>\n",
       "      <td>40200.000000</td>\n",
       "      <td>1.000000</td>\n",
       "      <td>0.000000</td>\n",
       "    </tr>\n",
       "    <tr>\n",
       "      <th>75%</th>\n",
       "      <td>1.000000</td>\n",
       "      <td>37.000000</td>\n",
       "      <td>46600.000000</td>\n",
       "      <td>2.000000</td>\n",
       "      <td>0.000000</td>\n",
       "    </tr>\n",
       "    <tr>\n",
       "      <th>max</th>\n",
       "      <td>1.000000</td>\n",
       "      <td>65.000000</td>\n",
       "      <td>79000.000000</td>\n",
       "      <td>6.000000</td>\n",
       "      <td>5.000000</td>\n",
       "    </tr>\n",
       "  </tbody>\n",
       "</table>\n",
       "</div>"
      ],
      "text/plain": [
       "               Пол      Возраст      Зарплата  Члены семьи  Страховые выплаты\n",
       "count  5000.000000  5000.000000   5000.000000  5000.000000        5000.000000\n",
       "mean      0.499000    30.952800  39916.360000     1.194200           0.148000\n",
       "std       0.500049     8.440807   9900.083569     1.091387           0.463183\n",
       "min       0.000000    18.000000   5300.000000     0.000000           0.000000\n",
       "25%       0.000000    24.000000  33300.000000     0.000000           0.000000\n",
       "50%       0.000000    30.000000  40200.000000     1.000000           0.000000\n",
       "75%       1.000000    37.000000  46600.000000     2.000000           0.000000\n",
       "max       1.000000    65.000000  79000.000000     6.000000           5.000000"
      ]
     },
     "execution_count": 4,
     "metadata": {},
     "output_type": "execute_result"
    }
   ],
   "source": [
    "df.describe()"
   ]
  },
  {
   "cell_type": "code",
   "execution_count": 5,
   "metadata": {},
   "outputs": [
    {
     "data": {
      "image/png": "[encoded data removed]",
      "text/plain": [
       "<Figure size 500x300 with 1 Axes>"
      ]
     },
     "metadata": {},
     "output_type": "display_data"
    }
   ],
   "source": [
    "df['Пол'].value_counts().plot(kind='bar', figsize=(5,3))\n",
    "plt.title(\"Пол\")\n",
    "plt.ylabel(\"Количество клиентов\")\n",
    "plt.show();"
   ]
  },
  {
   "cell_type": "code",
   "execution_count": 6,
   "metadata": {},
   "outputs": [
    {
     "data": {
      "image/png": "[encoded data removed]",
      "text/plain": [
       "<Figure size 1000x500 with 1 Axes>"
      ]
     },
     "metadata": {},
     "output_type": "display_data"
    }
   ],
   "source": [
    "df['Члены семьи'].value_counts().sort_index().plot(kind='bar', figsize=(10,5))\n",
    "plt.title(\"Члены семьи\")\n",
    "plt.xlabel(\"Сколько человек в семье\")\n",
    "plt.ylabel(\"Количество клиентов\")\n",
    "plt.show();"
   ]
  },
  {
   "cell_type": "code",
   "execution_count": 7,
   "metadata": {},
   "outputs": [
    {
     "data": {
      "image/png": "[encoded data removed]",
      "text/plain": [
       "<Figure size 1000x500 with 1 Axes>"
      ]
     },
     "metadata": {},
     "output_type": "display_data"
    }
   ],
   "source": [
    "df['Возраст'].value_counts().sort_index().plot(kind='bar', figsize=(10,5))\n",
    "plt.title(\"Возраст клиентов\")\n",
    "plt.ylabel(\"Количество клиентов\")\n",
    "plt.show();"
   ]
  },
  {
   "cell_type": "code",
   "execution_count": 8,
   "metadata": {},
   "outputs": [
    {
     "data": {
      "image/png": "[encoded data removed]",
      "text/plain": [
       "<Figure size 1000x500 with 1 Axes>"
      ]
     },
     "metadata": {},
     "output_type": "display_data"
    }
   ],
   "source": [
    "df['Страховые выплаты'].value_counts().plot(kind='bar', figsize=(10,5))\n",
    "plt.title(\"Страховые выплаты\")\n",
    "plt.ylabel(\"Количество клиентов\")\n",
    "plt.show();"
   ]
  },
  {
   "cell_type": "code",
   "execution_count": 9,
   "metadata": {},
   "outputs": [
    {
     "data": {
      "image/png": "[encoded data removed]",
      "text/plain": [
       "<Figure size 1000x700 with 1 Axes>"
      ]
     },
     "metadata": {},
     "output_type": "display_data"
    }
   ],
   "source": [
    "df['Зарплата'].hist(bins=80, figsize=(10,7))\n",
    "plt.title(\"Распределение зарплат\")\n",
    "plt.xlabel(\"Зарплата\")\n",
    "plt.ylabel(\"Количество клиентов\")\n",
    "plt.show();"
   ]
  },
  {
   "cell_type": "code",
   "execution_count": 10,
   "metadata": {},
   "outputs": [
    {
     "name": "stdout",
     "output_type": "stream",
     "text": [
      "<class 'pandas.core.frame.DataFrame'>\n",
      "RangeIndex: 5000 entries, 0 to 4999\n",
      "Data columns (total 5 columns):\n",
      " #   Column             Non-Null Count  Dtype\n",
      "---  ------             --------------  -----\n",
      " 0   Пол                5000 non-null   int64\n",
      " 1   Возраст            5000 non-null   int32\n",
      " 2   Зарплата           5000 non-null   int32\n",
      " 3   Члены семьи        5000 non-null   int64\n",
      " 4   Страховые выплаты  5000 non-null   int64\n",
      "dtypes: int32(2), int64(3)\n",
      "memory usage: 156.4 KB\n"
     ]
    }
   ],
   "source": [
    "# меняем тип данных\n",
    "df['Возраст'] = df['Возраст'].astype(int)\n",
    "df['Зарплата'] = df['Зарплата'].astype(int)\n",
    "\n",
    "df.info()"
   ]
  },
  {
   "cell_type": "markdown",
   "metadata": {},
   "source": [
    "**Вывод:** В данных нет проспусков и явных аномалий. В столбце \"Возраст\" нужно завенить тип на целое число, также можно для удобства поменять тип у столбца \"Зарплата\". \"Пол\" выражен в виде 0 и 1 в равном соотношении. Распределение зарплат похоже на нормальное, средняя зарбплата 40 000 рублей. Средний возраст клиентов 30 лет, значительное количество тех, кто находится в промежутке младше 20 - 30. Преимущественно  это люди, у которых есть хотя бы один родственник, либо одинокие. Подавляющее большинство не получало никаких страховых выплат. "
   ]
  },
  {
   "cell_type": "markdown",
   "metadata": {},
   "source": [
    "## Умножение матриц"
   ]
  },
  {
   "cell_type": "markdown",
   "metadata": {},
   "source": [
    "Обозначения:\n",
    "\n",
    "- $X$ — матрица признаков (нулевой столбец состоит из единиц)\n",
    "\n",
    "- $y$ — вектор целевого признака\n",
    "\n",
    "- $P$ — матрица, на которую умножаются признаки\n",
    "\n",
    "- $w$ — вектор весов линейной регрессии (нулевой элемент равен сдвигу)"
   ]
  },
  {
   "cell_type": "markdown",
   "metadata": {},
   "source": [
    "Предсказания:\n",
    "\n",
    "$$\n",
    "a = Xw\n",
    "$$\n",
    "\n",
    "Задача обучения:\n",
    "\n",
    "$$\n",
    "w = \\arg\\min_w MSE(Xw, y)\n",
    "$$\n",
    "\n",
    "Формула обучения:\n",
    "\n",
    "$$\n",
    "w = (X^T X)^{-1} X^T y\n",
    "$$"
   ]
  },
  {
   "cell_type": "markdown",
   "metadata": {},
   "source": [
    "**Вопрос:** Признаки умножают на обратимую матрицу. Изменится ли качество линейной регрессии?"
   ]
  },
  {
   "cell_type": "markdown",
   "metadata": {},
   "source": [
    "**Ответ:** Не изменится.\n",
    "\n",
    "**Обоснование:** "
   ]
  },
  {
   "cell_type": "markdown",
   "metadata": {},
   "source": [
    "**Шаг 1** \r\n",
    "\r\n",
    "Есть матрица M = XP, значит $$ a_i = Mw $$ $$ w_i = (M^TM)^{-1}M^Ty $$"
   ]
  },
  {
   "cell_type": "markdown",
   "metadata": {},
   "source": [
    "**Шаг 2**\n",
    "\n",
    "Подставим значение матрицы M в формулу обучения:\n",
    "\n",
    "$$\n",
    "w_i = ((XP)^TXP)^{-1}(XP)^Ty\n",
    "$$"
   ]
  },
  {
   "cell_type": "markdown",
   "metadata": {},
   "source": [
    "**Шаг 3**\n",
    "\n",
    "Раскроем скобки, применив свойство $$(AB)^T = B^TA^T$$\n",
    "\n",
    "Получим:\n",
    "\n",
    "$$\n",
    "w_i = (P^TX^TXP)^{-1}P^TX^Ty\n",
    "$$"
   ]
  },
  {
   "cell_type": "markdown",
   "metadata": {},
   "source": [
    "**Шаг 4**\n",
    "\n",
    "Теперь применим свойство $$(AB)^{-1} = B^{-1}A^{-1}$$\n",
    "\n",
    "Получим:\n",
    "\n",
    "$$\n",
    "w_i = (P^T(X^TX)P)^{-1}P^TX^Ty\n",
    "$$\n",
    "\n",
    "$$\n",
    "w_i = P^{-1}(P^T(X^TX))^{-1}P^TX^Ty\n",
    "$$\n",
    "\n",
    "$$\n",
    "w_i = P^{-1}(X^TX)^{-1}(P^T)^{-1}P^TX^Ty\n",
    "$$"
   ]
  },
  {
   "cell_type": "markdown",
   "metadata": {},
   "source": [
    "**Шаг 5**\n",
    "\n",
    "Применим следующее свойство $$AA^{-1} = A^{-1}A = E$$\n",
    "\n",
    "Тогда получается, что:\n",
    "\n",
    "$$\n",
    "(P^T)^{-1}P^T = E\n",
    "$$\n",
    "\n",
    "И формула будет выглядеть так:\n",
    "\n",
    "$$\n",
    "w_i = P^{-1}(X^TX)^{-1}X^Ty\n",
    "$$"
   ]
  },
  {
   "cell_type": "markdown",
   "metadata": {},
   "source": [
    "**Шаг 6**\n",
    "\n",
    "Знаем, что $$(X^TX)^{-1}X^Ty = w$$\n",
    "\n",
    "Тогда формула обучения для матрицы M:\n",
    "\n",
    "$$\n",
    "w_i = P^{-1}w\n",
    "$$\n",
    "\n",
    "А формула предсказания такая:\n",
    "\n",
    "$$\n",
    "a_i = XPP^{-1}w\n",
    "$$"
   ]
  },
  {
   "cell_type": "markdown",
   "metadata": {},
   "source": [
    "**Шаг 7**\n",
    "\n",
    "В итоге получим, что\n",
    "\n",
    "$$\n",
    "PP^{-1} = E\n",
    "$$\n",
    "\n",
    "$$\n",
    "a_i = Xw\n",
    "$$\n",
    "\n",
    "$$\n",
    "a_i = a\n",
    "$$"
   ]
  },
  {
   "cell_type": "markdown",
   "metadata": {},
   "source": [
    "**Вывод:** Умножение признаков на обратимую матрицу не меняет качества линейной регрессии."
   ]
  },
  {
   "cell_type": "markdown",
   "metadata": {},
   "source": [
    "## Алгоритм преобразования"
   ]
  },
  {
   "cell_type": "markdown",
   "metadata": {},
   "source": [
    "**Алгоритм**\n",
    "\n",
    "1. Создать ключ шифрования - сгенерируем случайную квадратную матрицу\n",
    "2. Умножение исходной матрицы на ключ шифрования"
   ]
  },
  {
   "cell_type": "markdown",
   "metadata": {},
   "source": [
    "**Обоснование**\n",
    "\n",
    "Для защиты данных зашифруем их, умножив исходную матрицу признаков на обратимую матрицу. Из приведенного выше доказательства следует, что качество модели не поменяется."
   ]
  },
  {
   "cell_type": "markdown",
   "metadata": {},
   "source": [
    "## Проверка алгоритма"
   ]
  },
  {
   "cell_type": "markdown",
   "metadata": {},
   "source": [
    "Сделаем следующее: \n",
    "* Напишем функцию для преобразования данных\n",
    "* Обучим модель линейной регрессии на исходным данных и найдем R2\n",
    "* Создадим случаную квадратную матрицу и проверим ее на обратимость\n",
    "* Снова обучим модель уже на преобразованных данных и найдем R2\n",
    "* Сравним полученные показатели качества моделей и сделаем вывод"
   ]
  },
  {
   "cell_type": "code",
   "execution_count": 11,
   "metadata": {},
   "outputs": [
    {
     "name": "stdout",
     "output_type": "stream",
     "text": [
      "(3750, 4) (3750,)\n",
      "(1250, 4) (1250,)\n"
     ]
    }
   ],
   "source": [
    "# выделим признаки\n",
    "features = df.drop('Страховые выплаты', axis=1)\n",
    "target = df['Страховые выплаты']\n",
    "\n",
    "# выделим тестовую выборку\n",
    "features_train, features_test, target_train, target_test = train_test_split(\n",
    "    features, target, test_size=0.25, random_state=12345)\n",
    "\n",
    "print(features_train.shape, target_train.shape)\n",
    "print(features_test.shape, target_test.shape)"
   ]
  },
  {
   "cell_type": "code",
   "execution_count": 12,
   "metadata": {},
   "outputs": [],
   "source": [
    "P = np.random.normal(0, 1, (features.shape[1], features.shape[1]))\n",
    "\n",
    "# функция для преобразования данных\n",
    "def new_features(features):\n",
    "    X = features.values\n",
    "    #M = X.shape[1]\n",
    "    #P = np.random.rand(M, M)\n",
    "    det = np.linalg.det(P)\n",
    "    if det > 0.01:\n",
    "        new_X = X @ P\n",
    "        return new_X"
   ]
  },
  {
   "cell_type": "code",
   "execution_count": 13,
   "metadata": {},
   "outputs": [
    {
     "name": "stdout",
     "output_type": "stream",
     "text": [
      "Качество модели ДО преобразования 0.4352275684083253\n"
     ]
    }
   ],
   "source": [
    "# ДО преобразования\n",
    "model_1 = LinearRegression()\n",
    "model_1.fit(features_train, target_train)\n",
    "predictions_1 = model_1.predict(features_test)\n",
    "accuracy_1 = r2_score(target_test, predictions_1)\n",
    "print('Качество модели ДО преобразования', accuracy_1)"
   ]
  },
  {
   "cell_type": "code",
   "execution_count": 14,
   "metadata": {},
   "outputs": [
    {
     "name": "stdout",
     "output_type": "stream",
     "text": [
      "Качество модели ПОСЛЕ преобразования 0.4352275684087187\n"
     ]
    }
   ],
   "source": [
    "# ПОСЛЕ преобразования\n",
    "features_2 = new_features(features)\n",
    "features_train_2, features_test_2, target_train_2, target_test_2 = train_test_split(\n",
    "    features_2, target, test_size=0.25, random_state=12345)\n",
    "\n",
    "model_2 = LinearRegression()\n",
    "model_2.fit(features_train_2, target_train_2)\n",
    "predictions_2 = model_2.predict(features_test_2)\n",
    "accuracy_2 = r2_score(target_test_2, predictions_2)\n",
    "print('Качество модели ПОСЛЕ преобразования', accuracy_2)"
   ]
  },
  {
   "cell_type": "code",
   "execution_count": 15,
   "metadata": {},
   "outputs": [
    {
     "data": {
      "text/html": [
       "<div>\n",
       "<style scoped>\n",
       "    .dataframe tbody tr th:only-of-type {\n",
       "        vertical-align: middle;\n",
       "    }\n",
       "\n",
       "    .dataframe tbody tr th {\n",
       "        vertical-align: top;\n",
       "    }\n",
       "\n",
       "    .dataframe thead th {\n",
       "        text-align: right;\n",
       "    }\n",
       "</style>\n",
       "<table border=\"1\" class=\"dataframe\">\n",
       "  <thead>\n",
       "    <tr style=\"text-align: right;\">\n",
       "      <th></th>\n",
       "      <th>Пол</th>\n",
       "      <th>Возраст</th>\n",
       "      <th>Зарплата</th>\n",
       "      <th>Члены семьи</th>\n",
       "    </tr>\n",
       "  </thead>\n",
       "  <tbody>\n",
       "    <tr>\n",
       "      <th>0</th>\n",
       "      <td>1</td>\n",
       "      <td>41</td>\n",
       "      <td>49600</td>\n",
       "      <td>1</td>\n",
       "    </tr>\n",
       "    <tr>\n",
       "      <th>1</th>\n",
       "      <td>0</td>\n",
       "      <td>46</td>\n",
       "      <td>38000</td>\n",
       "      <td>1</td>\n",
       "    </tr>\n",
       "    <tr>\n",
       "      <th>2</th>\n",
       "      <td>0</td>\n",
       "      <td>29</td>\n",
       "      <td>21000</td>\n",
       "      <td>0</td>\n",
       "    </tr>\n",
       "    <tr>\n",
       "      <th>3</th>\n",
       "      <td>0</td>\n",
       "      <td>21</td>\n",
       "      <td>41700</td>\n",
       "      <td>2</td>\n",
       "    </tr>\n",
       "    <tr>\n",
       "      <th>4</th>\n",
       "      <td>1</td>\n",
       "      <td>28</td>\n",
       "      <td>26100</td>\n",
       "      <td>0</td>\n",
       "    </tr>\n",
       "  </tbody>\n",
       "</table>\n",
       "</div>"
      ],
      "text/plain": [
       "   Пол  Возраст  Зарплата  Члены семьи\n",
       "0    1       41     49600            1\n",
       "1    0       46     38000            1\n",
       "2    0       29     21000            0\n",
       "3    0       21     41700            2\n",
       "4    1       28     26100            0"
      ]
     },
     "execution_count": 15,
     "metadata": {},
     "output_type": "execute_result"
    }
   ],
   "source": [
    "features.head()"
   ]
  },
  {
   "cell_type": "code",
   "execution_count": 16,
   "metadata": {},
   "outputs": [
    {
     "data": {
      "text/html": [
       "<div>\n",
       "<style scoped>\n",
       "    .dataframe tbody tr th:only-of-type {\n",
       "        vertical-align: middle;\n",
       "    }\n",
       "\n",
       "    .dataframe tbody tr th {\n",
       "        vertical-align: top;\n",
       "    }\n",
       "\n",
       "    .dataframe thead th {\n",
       "        text-align: right;\n",
       "    }\n",
       "</style>\n",
       "<table border=\"1\" class=\"dataframe\">\n",
       "  <thead>\n",
       "    <tr style=\"text-align: right;\">\n",
       "      <th></th>\n",
       "      <th>0</th>\n",
       "      <th>1</th>\n",
       "      <th>2</th>\n",
       "      <th>3</th>\n",
       "    </tr>\n",
       "  </thead>\n",
       "  <tbody>\n",
       "    <tr>\n",
       "      <th>0</th>\n",
       "      <td>1.0</td>\n",
       "      <td>41.0</td>\n",
       "      <td>49600.0</td>\n",
       "      <td>1.0</td>\n",
       "    </tr>\n",
       "    <tr>\n",
       "      <th>1</th>\n",
       "      <td>-0.0</td>\n",
       "      <td>46.0</td>\n",
       "      <td>38000.0</td>\n",
       "      <td>1.0</td>\n",
       "    </tr>\n",
       "    <tr>\n",
       "      <th>2</th>\n",
       "      <td>0.0</td>\n",
       "      <td>29.0</td>\n",
       "      <td>21000.0</td>\n",
       "      <td>-0.0</td>\n",
       "    </tr>\n",
       "    <tr>\n",
       "      <th>3</th>\n",
       "      <td>-0.0</td>\n",
       "      <td>21.0</td>\n",
       "      <td>41700.0</td>\n",
       "      <td>2.0</td>\n",
       "    </tr>\n",
       "    <tr>\n",
       "      <th>4</th>\n",
       "      <td>1.0</td>\n",
       "      <td>28.0</td>\n",
       "      <td>26100.0</td>\n",
       "      <td>-0.0</td>\n",
       "    </tr>\n",
       "  </tbody>\n",
       "</table>\n",
       "</div>"
      ],
      "text/plain": [
       "     0     1        2    3\n",
       "0  1.0  41.0  49600.0  1.0\n",
       "1 -0.0  46.0  38000.0  1.0\n",
       "2  0.0  29.0  21000.0 -0.0\n",
       "3 -0.0  21.0  41700.0  2.0\n",
       "4  1.0  28.0  26100.0 -0.0"
      ]
     },
     "execution_count": 16,
     "metadata": {},
     "output_type": "execute_result"
    }
   ],
   "source": [
    "decode_X = features_2 @ np.linalg.inv(P)\n",
    "round(pd.DataFrame(decode_X)).head()"
   ]
  },
  {
   "cell_type": "markdown",
   "metadata": {},
   "source": [
    "**Вывод:** Алгоритм проверен, данные зашифрованы. Качество моделей до и после преобразования совпали."
   ]
  },
  {
   "cell_type": "markdown",
   "metadata": {},
   "source": [
    "## Общий вывод"
   ]
  },
  {
   "cell_type": "markdown",
   "metadata": {},
   "source": [
    "* Данные выгружены и проверены. Пропусков и аномалий не найдено.\n",
    "* Исследован вопрос об изменении качества линейной регрессии при умножении матрицы признаков на обратимую матрицу. Дан ответ и приведено доказательство. Качество не изменится.\n",
    "* Предложен алгоритм пеобразования данных, для их защиты - умножение данных признаков на ключ шифрования, который представляет собой случаную квадратную обратимую матрицу.\n",
    "* Предложенный метод проверен с помощью обучения моделей линейно регрессии. Качество моделей до и после преобразования признаков совпали, данные зашифрованы."
   ]
  }
 ],
 "metadata": {
  "ExecuteTimeLog": [
   {
    "duration": 366,
    "start_time": "2023-06-17T15:06:43.390Z"
   },
   {
    "duration": 99,
    "start_time": "2023-06-17T15:06:58.922Z"
   },
   {
    "duration": 11,
    "start_time": "2023-06-17T15:07:16.206Z"
   },
   {
    "duration": 21,
    "start_time": "2023-06-17T15:07:48.914Z"
   },
   {
    "duration": 783,
    "start_time": "2023-06-17T15:09:11.259Z"
   },
   {
    "duration": 543,
    "start_time": "2023-06-17T15:09:27.487Z"
   },
   {
    "duration": 6,
    "start_time": "2023-06-17T15:10:20.744Z"
   },
   {
    "duration": 551,
    "start_time": "2023-06-17T15:13:08.908Z"
   },
   {
    "duration": 428,
    "start_time": "2023-06-17T15:13:15.901Z"
   },
   {
    "duration": 527,
    "start_time": "2023-06-17T15:13:24.185Z"
   },
   {
    "duration": 621,
    "start_time": "2023-06-17T15:13:27.892Z"
   },
   {
    "duration": 504,
    "start_time": "2023-06-17T15:13:33.210Z"
   },
   {
    "duration": 435,
    "start_time": "2023-06-18T13:00:38.184Z"
   },
   {
    "duration": 107,
    "start_time": "2023-06-18T13:00:38.621Z"
   },
   {
    "duration": 13,
    "start_time": "2023-06-18T13:00:38.886Z"
   },
   {
    "duration": 26,
    "start_time": "2023-06-18T13:00:39.225Z"
   },
   {
    "duration": 917,
    "start_time": "2023-06-18T13:00:39.831Z"
   },
   {
    "duration": 6,
    "start_time": "2023-06-18T13:00:40.751Z"
   },
   {
    "duration": 371,
    "start_time": "2023-06-19T11:12:26.516Z"
   },
   {
    "duration": 104,
    "start_time": "2023-06-19T11:12:28.056Z"
   },
   {
    "duration": 12,
    "start_time": "2023-06-19T11:12:30.139Z"
   },
   {
    "duration": 22,
    "start_time": "2023-06-19T11:12:32.035Z"
   },
   {
    "duration": 1039,
    "start_time": "2023-06-19T11:12:32.700Z"
   },
   {
    "duration": 8,
    "start_time": "2023-06-19T11:12:34.223Z"
   },
   {
    "duration": 6,
    "start_time": "2023-06-19T11:21:19.203Z"
   },
   {
    "duration": 18,
    "start_time": "2023-06-19T11:21:26.405Z"
   },
   {
    "duration": 5,
    "start_time": "2023-06-19T11:22:57.626Z"
   },
   {
    "duration": 3,
    "start_time": "2023-06-19T11:40:50.032Z"
   },
   {
    "duration": 1025,
    "start_time": "2023-06-19T11:52:14.421Z"
   },
   {
    "duration": 5,
    "start_time": "2023-06-19T11:54:05.832Z"
   },
   {
    "duration": 123,
    "start_time": "2023-06-19T11:58:34.695Z"
   },
   {
    "duration": 39,
    "start_time": "2023-06-19T11:58:47.952Z"
   },
   {
    "duration": 1141,
    "start_time": "2023-06-20T11:18:29.514Z"
   },
   {
    "duration": 93,
    "start_time": "2023-06-20T11:18:31.024Z"
   },
   {
    "duration": 12,
    "start_time": "2023-06-20T11:18:32.190Z"
   },
   {
    "duration": 25,
    "start_time": "2023-06-20T11:18:33.299Z"
   },
   {
    "duration": 1014,
    "start_time": "2023-06-20T11:18:33.949Z"
   },
   {
    "duration": 6,
    "start_time": "2023-06-20T11:18:34.990Z"
   },
   {
    "duration": 15,
    "start_time": "2023-06-20T11:19:20.299Z"
   },
   {
    "duration": 8,
    "start_time": "2023-06-20T11:19:23.452Z"
   },
   {
    "duration": 22,
    "start_time": "2023-06-20T12:59:26.080Z"
   },
   {
    "duration": 109,
    "start_time": "2023-06-20T13:04:32.294Z"
   },
   {
    "duration": 10,
    "start_time": "2023-06-20T13:08:39.759Z"
   },
   {
    "duration": 11,
    "start_time": "2023-06-20T13:09:28.237Z"
   },
   {
    "duration": 4,
    "start_time": "2023-06-20T13:10:23.448Z"
   },
   {
    "duration": 4,
    "start_time": "2023-06-20T13:10:33.615Z"
   },
   {
    "duration": 16,
    "start_time": "2023-06-20T13:16:16.235Z"
   },
   {
    "duration": 13,
    "start_time": "2023-06-20T13:17:59.994Z"
   },
   {
    "duration": 8,
    "start_time": "2023-06-20T13:19:53.853Z"
   },
   {
    "duration": 8,
    "start_time": "2023-06-20T13:20:46.453Z"
   },
   {
    "duration": 3,
    "start_time": "2023-06-20T13:24:37.515Z"
   },
   {
    "duration": 4,
    "start_time": "2023-06-20T13:24:56.612Z"
   },
   {
    "duration": 3,
    "start_time": "2023-06-20T13:24:57.036Z"
   },
   {
    "duration": 6,
    "start_time": "2023-06-20T13:26:14.347Z"
   },
   {
    "duration": 9,
    "start_time": "2023-06-20T13:26:34.631Z"
   },
   {
    "duration": 3,
    "start_time": "2023-06-20T13:26:39.056Z"
   },
   {
    "duration": 14,
    "start_time": "2023-06-20T13:27:10.402Z"
   },
   {
    "duration": 12,
    "start_time": "2023-06-20T13:27:19.300Z"
   },
   {
    "duration": 1132,
    "start_time": "2023-06-20T13:27:30.812Z"
   },
   {
    "duration": 42,
    "start_time": "2023-06-20T13:27:31.947Z"
   },
   {
    "duration": 37,
    "start_time": "2023-06-20T13:27:31.991Z"
   },
   {
    "duration": 23,
    "start_time": "2023-06-20T13:27:32.167Z"
   },
   {
    "duration": 891,
    "start_time": "2023-06-20T13:27:32.433Z"
   },
   {
    "duration": 6,
    "start_time": "2023-06-20T13:27:33.327Z"
   },
   {
    "duration": 27,
    "start_time": "2023-06-20T13:27:33.335Z"
   },
   {
    "duration": 84,
    "start_time": "2023-06-20T13:27:33.364Z"
   },
   {
    "duration": 31,
    "start_time": "2023-06-20T13:27:35.999Z"
   },
   {
    "duration": 3,
    "start_time": "2023-06-20T13:27:36.321Z"
   },
   {
    "duration": 12,
    "start_time": "2023-06-20T13:27:36.541Z"
   },
   {
    "duration": 4,
    "start_time": "2023-06-20T13:38:04.796Z"
   },
   {
    "duration": 11,
    "start_time": "2023-06-20T13:38:06.617Z"
   },
   {
    "duration": 14,
    "start_time": "2023-06-20T13:38:08.795Z"
   },
   {
    "duration": 106,
    "start_time": "2023-06-20T13:41:35.034Z"
   },
   {
    "duration": 5,
    "start_time": "2023-06-20T13:41:40.343Z"
   },
   {
    "duration": 2,
    "start_time": "2023-06-20T13:41:46.695Z"
   },
   {
    "duration": 15,
    "start_time": "2023-06-20T13:42:16.042Z"
   },
   {
    "duration": 12,
    "start_time": "2023-06-20T13:42:16.396Z"
   },
   {
    "duration": 1245,
    "start_time": "2023-06-20T13:42:23.065Z"
   },
   {
    "duration": 44,
    "start_time": "2023-06-20T13:42:24.312Z"
   },
   {
    "duration": 12,
    "start_time": "2023-06-20T13:42:24.357Z"
   },
   {
    "duration": 41,
    "start_time": "2023-06-20T13:42:24.371Z"
   },
   {
    "duration": 908,
    "start_time": "2023-06-20T13:42:24.414Z"
   },
   {
    "duration": 6,
    "start_time": "2023-06-20T13:42:25.324Z"
   },
   {
    "duration": 60,
    "start_time": "2023-06-20T13:42:25.332Z"
   },
   {
    "duration": 7,
    "start_time": "2023-06-20T13:42:26.606Z"
   },
   {
    "duration": 4,
    "start_time": "2023-06-20T13:42:26.824Z"
   },
   {
    "duration": 100,
    "start_time": "2023-06-20T13:42:27.402Z"
   },
   {
    "duration": 109,
    "start_time": "2023-06-20T13:42:28.056Z"
   },
   {
    "duration": 1219,
    "start_time": "2023-06-20T13:43:39.566Z"
   },
   {
    "duration": 43,
    "start_time": "2023-06-20T13:43:40.788Z"
   },
   {
    "duration": 16,
    "start_time": "2023-06-20T13:43:40.832Z"
   },
   {
    "duration": 26,
    "start_time": "2023-06-20T13:43:41.671Z"
   },
   {
    "duration": 848,
    "start_time": "2023-06-20T13:43:42.524Z"
   },
   {
    "duration": 6,
    "start_time": "2023-06-20T13:43:43.374Z"
   },
   {
    "duration": 14,
    "start_time": "2023-06-20T13:43:43.785Z"
   },
   {
    "duration": 8,
    "start_time": "2023-06-20T13:43:49.391Z"
   },
   {
    "duration": 4,
    "start_time": "2023-06-20T13:43:50.079Z"
   },
   {
    "duration": 12,
    "start_time": "2023-06-20T13:43:50.802Z"
   },
   {
    "duration": 112,
    "start_time": "2023-06-20T13:43:51.440Z"
   },
   {
    "duration": 11,
    "start_time": "2023-06-20T13:49:14.982Z"
   },
   {
    "duration": 1216,
    "start_time": "2023-06-20T13:49:43.622Z"
   },
   {
    "duration": 43,
    "start_time": "2023-06-20T13:49:45.243Z"
   },
   {
    "duration": 12,
    "start_time": "2023-06-20T13:49:45.597Z"
   },
   {
    "duration": 24,
    "start_time": "2023-06-20T13:49:46.005Z"
   },
   {
    "duration": 823,
    "start_time": "2023-06-20T13:49:46.433Z"
   },
   {
    "duration": 7,
    "start_time": "2023-06-20T13:49:47.259Z"
   },
   {
    "duration": 11,
    "start_time": "2023-06-20T13:49:48.116Z"
   },
   {
    "duration": 7,
    "start_time": "2023-06-20T13:49:53.041Z"
   },
   {
    "duration": 4,
    "start_time": "2023-06-20T13:49:53.540Z"
   },
   {
    "duration": 105,
    "start_time": "2023-06-20T13:49:54.196Z"
   },
   {
    "duration": 108,
    "start_time": "2023-06-20T13:49:54.741Z"
   },
   {
    "duration": 4,
    "start_time": "2023-06-20T13:54:24.515Z"
   },
   {
    "duration": 10,
    "start_time": "2023-06-20T13:54:25.139Z"
   },
   {
    "duration": 627,
    "start_time": "2023-06-20T13:54:25.784Z"
   },
   {
    "duration": 1265,
    "start_time": "2023-06-20T13:54:33.840Z"
   },
   {
    "duration": 42,
    "start_time": "2023-06-20T13:54:35.108Z"
   },
   {
    "duration": 12,
    "start_time": "2023-06-20T13:54:35.583Z"
   },
   {
    "duration": 24,
    "start_time": "2023-06-20T13:54:35.882Z"
   },
   {
    "duration": 842,
    "start_time": "2023-06-20T13:54:36.118Z"
   },
   {
    "duration": 6,
    "start_time": "2023-06-20T13:54:36.962Z"
   },
   {
    "duration": 31,
    "start_time": "2023-06-20T13:54:36.969Z"
   },
   {
    "duration": 8,
    "start_time": "2023-06-20T13:54:40.441Z"
   },
   {
    "duration": 4,
    "start_time": "2023-06-20T13:54:40.940Z"
   },
   {
    "duration": 12,
    "start_time": "2023-06-20T13:54:41.822Z"
   },
   {
    "duration": 515,
    "start_time": "2023-06-20T13:54:42.295Z"
   },
   {
    "duration": 1183,
    "start_time": "2023-06-20T16:14:23.237Z"
   },
   {
    "duration": 112,
    "start_time": "2023-06-20T16:14:28.240Z"
   },
   {
    "duration": 15,
    "start_time": "2023-06-20T16:14:29.081Z"
   },
   {
    "duration": 24,
    "start_time": "2023-06-20T16:14:30.017Z"
   },
   {
    "duration": 1023,
    "start_time": "2023-06-20T16:14:30.682Z"
   },
   {
    "duration": 8,
    "start_time": "2023-06-20T16:14:31.842Z"
   },
   {
    "duration": 15,
    "start_time": "2023-06-20T16:14:33.225Z"
   },
   {
    "duration": 5,
    "start_time": "2023-06-20T16:15:42.003Z"
   },
   {
    "duration": 3,
    "start_time": "2023-06-20T16:15:43.041Z"
   },
   {
    "duration": 142,
    "start_time": "2023-06-20T16:15:44.115Z"
   },
   {
    "duration": 122,
    "start_time": "2023-06-20T16:15:45.151Z"
   },
   {
    "duration": 91,
    "start_time": "2023-06-20T16:16:23.938Z"
   },
   {
    "duration": 13,
    "start_time": "2023-06-20T16:16:24.416Z"
   },
   {
    "duration": 3,
    "start_time": "2023-06-20T16:16:43.353Z"
   },
   {
    "duration": 15,
    "start_time": "2023-06-20T16:16:44.168Z"
   },
   {
    "duration": 9,
    "start_time": "2023-06-20T16:16:44.892Z"
   },
   {
    "duration": 1119,
    "start_time": "2023-06-20T16:16:59.303Z"
   },
   {
    "duration": 42,
    "start_time": "2023-06-20T16:17:00.424Z"
   },
   {
    "duration": 14,
    "start_time": "2023-06-20T16:17:00.819Z"
   },
   {
    "duration": 26,
    "start_time": "2023-06-20T16:17:01.414Z"
   },
   {
    "duration": 932,
    "start_time": "2023-06-20T16:17:01.751Z"
   },
   {
    "duration": 6,
    "start_time": "2023-06-20T16:17:02.686Z"
   },
   {
    "duration": 43,
    "start_time": "2023-06-20T16:17:02.694Z"
   },
   {
    "duration": 7,
    "start_time": "2023-06-20T16:17:06.624Z"
   },
   {
    "duration": 6,
    "start_time": "2023-06-20T16:17:07.135Z"
   },
   {
    "duration": 143,
    "start_time": "2023-06-20T16:17:07.617Z"
   },
   {
    "duration": 27,
    "start_time": "2023-06-20T16:17:08.042Z"
   },
   {
    "duration": 1270,
    "start_time": "2023-06-20T16:22:17.793Z"
   },
   {
    "duration": 74,
    "start_time": "2023-06-20T16:22:19.646Z"
   },
   {
    "duration": 12,
    "start_time": "2023-06-20T16:22:20.122Z"
   },
   {
    "duration": 26,
    "start_time": "2023-06-20T16:22:20.584Z"
   },
   {
    "duration": 977,
    "start_time": "2023-06-20T16:22:21.053Z"
   },
   {
    "duration": 6,
    "start_time": "2023-06-20T16:22:22.032Z"
   },
   {
    "duration": 15,
    "start_time": "2023-06-20T16:22:22.389Z"
   },
   {
    "duration": 6,
    "start_time": "2023-06-20T16:22:28.800Z"
   },
   {
    "duration": 4,
    "start_time": "2023-06-20T16:22:46.494Z"
   },
   {
    "duration": 62,
    "start_time": "2023-06-20T16:22:47.299Z"
   },
   {
    "duration": 147,
    "start_time": "2023-06-20T16:22:47.924Z"
   },
   {
    "duration": 4,
    "start_time": "2023-06-20T16:27:15.523Z"
   },
   {
    "duration": 13,
    "start_time": "2023-06-20T16:28:07.270Z"
   },
   {
    "duration": 5,
    "start_time": "2023-06-20T16:28:09.511Z"
   },
   {
    "duration": 85,
    "start_time": "2023-06-20T16:28:10.374Z"
   },
   {
    "duration": 18,
    "start_time": "2023-06-20T16:28:10.920Z"
   },
   {
    "duration": 10,
    "start_time": "2023-06-20T16:29:07.376Z"
   },
   {
    "duration": 14,
    "start_time": "2023-06-20T16:38:54.044Z"
   },
   {
    "duration": 1270,
    "start_time": "2023-06-20T16:39:02.859Z"
   },
   {
    "duration": 49,
    "start_time": "2023-06-20T16:39:04.132Z"
   },
   {
    "duration": 16,
    "start_time": "2023-06-20T16:39:04.187Z"
   },
   {
    "duration": 40,
    "start_time": "2023-06-20T16:39:04.206Z"
   },
   {
    "duration": 1014,
    "start_time": "2023-06-20T16:39:04.256Z"
   },
   {
    "duration": 13,
    "start_time": "2023-06-20T16:39:05.277Z"
   },
   {
    "duration": 18,
    "start_time": "2023-06-20T16:39:05.294Z"
   },
   {
    "duration": 10,
    "start_time": "2023-06-20T16:39:10.897Z"
   },
   {
    "duration": 4,
    "start_time": "2023-06-20T16:39:11.528Z"
   },
   {
    "duration": 17,
    "start_time": "2023-06-20T16:39:12.276Z"
   },
   {
    "duration": 137,
    "start_time": "2023-06-20T16:39:13.226Z"
   },
   {
    "duration": 1235,
    "start_time": "2023-06-20T17:24:59.428Z"
   },
   {
    "duration": 44,
    "start_time": "2023-06-20T17:25:01.457Z"
   },
   {
    "duration": 13,
    "start_time": "2023-06-20T17:25:01.727Z"
   },
   {
    "duration": 33,
    "start_time": "2023-06-20T17:25:02.163Z"
   },
   {
    "duration": 1139,
    "start_time": "2023-06-20T17:25:02.576Z"
   },
   {
    "duration": 6,
    "start_time": "2023-06-20T17:25:03.717Z"
   },
   {
    "duration": 16,
    "start_time": "2023-06-20T17:25:03.725Z"
   },
   {
    "duration": 10,
    "start_time": "2023-06-20T17:25:07.204Z"
   },
   {
    "duration": 5,
    "start_time": "2023-06-20T17:25:07.747Z"
   },
   {
    "duration": 13,
    "start_time": "2023-06-20T17:25:08.605Z"
   },
   {
    "duration": 16,
    "start_time": "2023-06-20T17:25:09.281Z"
   },
   {
    "duration": 9,
    "start_time": "2023-06-20T17:29:46.685Z"
   },
   {
    "duration": 8,
    "start_time": "2023-06-20T17:30:03.179Z"
   },
   {
    "duration": 10,
    "start_time": "2023-06-20T17:31:04.130Z"
   },
   {
    "duration": 9,
    "start_time": "2023-06-20T17:31:10.866Z"
   },
   {
    "duration": 142,
    "start_time": "2023-06-20T17:33:24.247Z"
   },
   {
    "duration": 5,
    "start_time": "2023-06-20T17:33:57.304Z"
   },
   {
    "duration": 12,
    "start_time": "2023-06-20T17:34:11.039Z"
   },
   {
    "duration": 9,
    "start_time": "2023-06-20T17:37:31.371Z"
   },
   {
    "duration": 12,
    "start_time": "2023-06-20T17:37:47.294Z"
   },
   {
    "duration": 5,
    "start_time": "2023-06-20T17:38:24.556Z"
   },
   {
    "duration": 5,
    "start_time": "2023-06-20T17:38:29.576Z"
   },
   {
    "duration": 14,
    "start_time": "2023-06-20T17:38:42.551Z"
   },
   {
    "duration": 4,
    "start_time": "2023-06-20T17:38:52.553Z"
   },
   {
    "duration": 10,
    "start_time": "2023-06-20T17:38:54.576Z"
   },
   {
    "duration": 117,
    "start_time": "2023-06-20T17:40:57.253Z"
   },
   {
    "duration": 174,
    "start_time": "2023-06-20T17:41:38.935Z"
   },
   {
    "duration": 82,
    "start_time": "2023-06-20T17:41:51.704Z"
   },
   {
    "duration": 120,
    "start_time": "2023-06-20T17:53:45.748Z"
   },
   {
    "duration": 108,
    "start_time": "2023-06-20T17:53:54.901Z"
   },
   {
    "duration": 95,
    "start_time": "2023-06-20T17:55:43.535Z"
   },
   {
    "duration": 1162,
    "start_time": "2023-06-21T10:11:53.496Z"
   },
   {
    "duration": 110,
    "start_time": "2023-06-21T10:11:54.660Z"
   },
   {
    "duration": 13,
    "start_time": "2023-06-21T10:11:55.730Z"
   },
   {
    "duration": 24,
    "start_time": "2023-06-21T10:11:56.649Z"
   },
   {
    "duration": 1022,
    "start_time": "2023-06-21T10:11:57.632Z"
   },
   {
    "duration": 6,
    "start_time": "2023-06-21T10:11:58.657Z"
   },
   {
    "duration": 19,
    "start_time": "2023-06-21T10:11:59.952Z"
   },
   {
    "duration": 9,
    "start_time": "2023-06-21T10:12:05.495Z"
   },
   {
    "duration": 4,
    "start_time": "2023-06-21T10:12:06.299Z"
   },
   {
    "duration": 11,
    "start_time": "2023-06-21T10:12:06.953Z"
   },
   {
    "duration": 117,
    "start_time": "2023-06-21T10:12:07.839Z"
   },
   {
    "duration": 101,
    "start_time": "2023-06-21T10:12:09.225Z"
   },
   {
    "duration": 4,
    "start_time": "2023-06-21T10:17:43.802Z"
   },
   {
    "duration": 9,
    "start_time": "2023-06-21T10:17:44.797Z"
   },
   {
    "duration": 16,
    "start_time": "2023-06-21T10:17:45.404Z"
   },
   {
    "duration": 4,
    "start_time": "2023-06-21T10:18:02.995Z"
   },
   {
    "duration": 8,
    "start_time": "2023-06-21T10:18:03.395Z"
   },
   {
    "duration": 8,
    "start_time": "2023-06-21T10:18:03.816Z"
   },
   {
    "duration": 127,
    "start_time": "2023-06-21T10:18:24.295Z"
   },
   {
    "duration": 2,
    "start_time": "2023-06-21T10:18:31.790Z"
   },
   {
    "duration": 7,
    "start_time": "2023-06-21T10:18:34.935Z"
   },
   {
    "duration": 9,
    "start_time": "2023-06-21T10:18:36.143Z"
   },
   {
    "duration": 9,
    "start_time": "2023-06-21T10:18:59.695Z"
   },
   {
    "duration": 9,
    "start_time": "2023-06-21T10:19:08.600Z"
   },
   {
    "duration": 4,
    "start_time": "2023-06-21T10:19:14.820Z"
   },
   {
    "duration": 10,
    "start_time": "2023-06-21T10:19:21.456Z"
   },
   {
    "duration": 7,
    "start_time": "2023-06-21T10:19:25.807Z"
   },
   {
    "duration": 10,
    "start_time": "2023-06-21T10:19:30.495Z"
   },
   {
    "duration": 1114,
    "start_time": "2023-06-21T10:21:03.787Z"
   },
   {
    "duration": 41,
    "start_time": "2023-06-21T10:21:04.904Z"
   },
   {
    "duration": 13,
    "start_time": "2023-06-21T10:21:05.087Z"
   },
   {
    "duration": 25,
    "start_time": "2023-06-21T10:21:05.620Z"
   },
   {
    "duration": 869,
    "start_time": "2023-06-21T10:21:06.094Z"
   },
   {
    "duration": 6,
    "start_time": "2023-06-21T10:21:06.965Z"
   },
   {
    "duration": 16,
    "start_time": "2023-06-21T10:21:07.333Z"
   },
   {
    "duration": 10,
    "start_time": "2023-06-21T10:21:11.148Z"
   },
   {
    "duration": 5,
    "start_time": "2023-06-21T10:21:11.714Z"
   },
   {
    "duration": 10,
    "start_time": "2023-06-21T10:21:12.297Z"
   },
   {
    "duration": 10,
    "start_time": "2023-06-21T10:21:13.035Z"
   },
   {
    "duration": 2,
    "start_time": "2023-06-21T10:21:13.958Z"
   },
   {
    "duration": 1079,
    "start_time": "2023-06-21T10:23:24.399Z"
   },
   {
    "duration": 41,
    "start_time": "2023-06-21T10:23:25.480Z"
   },
   {
    "duration": 11,
    "start_time": "2023-06-21T10:23:25.523Z"
   },
   {
    "duration": 27,
    "start_time": "2023-06-21T10:23:25.538Z"
   },
   {
    "duration": 789,
    "start_time": "2023-06-21T10:23:25.567Z"
   },
   {
    "duration": 6,
    "start_time": "2023-06-21T10:23:26.358Z"
   },
   {
    "duration": 15,
    "start_time": "2023-06-21T10:23:26.365Z"
   },
   {
    "duration": 9,
    "start_time": "2023-06-21T10:23:27.706Z"
   },
   {
    "duration": 86,
    "start_time": "2023-06-21T10:23:28.123Z"
   },
   {
    "duration": 0,
    "start_time": "2023-06-21T10:23:28.210Z"
   },
   {
    "duration": 3,
    "start_time": "2023-06-21T10:23:34.322Z"
   },
   {
    "duration": 9,
    "start_time": "2023-06-21T10:23:35.255Z"
   },
   {
    "duration": 8,
    "start_time": "2023-06-21T10:23:35.793Z"
   },
   {
    "duration": 11,
    "start_time": "2023-06-21T10:33:46.646Z"
   },
   {
    "duration": 105,
    "start_time": "2023-06-21T10:33:55.511Z"
   },
   {
    "duration": 14,
    "start_time": "2023-06-21T10:34:05.995Z"
   },
   {
    "duration": 10,
    "start_time": "2023-06-21T10:34:16.641Z"
   },
   {
    "duration": 110,
    "start_time": "2023-06-21T10:37:16.509Z"
   },
   {
    "duration": 100,
    "start_time": "2023-06-21T10:37:51.617Z"
   },
   {
    "duration": 1305,
    "start_time": "2023-06-21T10:41:56.892Z"
   },
   {
    "duration": 42,
    "start_time": "2023-06-21T10:42:02.111Z"
   },
   {
    "duration": 16,
    "start_time": "2023-06-21T10:42:04.347Z"
   },
   {
    "duration": 26,
    "start_time": "2023-06-21T10:42:05.805Z"
   },
   {
    "duration": 866,
    "start_time": "2023-06-21T10:42:07.094Z"
   },
   {
    "duration": 7,
    "start_time": "2023-06-21T10:42:08.151Z"
   },
   {
    "duration": 13,
    "start_time": "2023-06-21T10:42:15.759Z"
   },
   {
    "duration": 8,
    "start_time": "2023-06-21T10:44:34.594Z"
   },
   {
    "duration": 4,
    "start_time": "2023-06-21T10:44:35.661Z"
   },
   {
    "duration": 10,
    "start_time": "2023-06-21T10:44:36.809Z"
   },
   {
    "duration": 112,
    "start_time": "2023-06-21T10:44:37.803Z"
   },
   {
    "duration": 10,
    "start_time": "2023-06-21T10:44:52.948Z"
   },
   {
    "duration": 6,
    "start_time": "2023-06-21T10:44:53.359Z"
   },
   {
    "duration": 10,
    "start_time": "2023-06-21T10:44:56.575Z"
   },
   {
    "duration": 4,
    "start_time": "2023-06-21T10:45:06.533Z"
   },
   {
    "duration": 16,
    "start_time": "2023-06-21T10:45:08.938Z"
   },
   {
    "duration": 1180,
    "start_time": "2023-06-21T10:45:16.464Z"
   },
   {
    "duration": 42,
    "start_time": "2023-06-21T10:45:17.650Z"
   },
   {
    "duration": 16,
    "start_time": "2023-06-21T10:45:17.695Z"
   },
   {
    "duration": 33,
    "start_time": "2023-06-21T10:45:18.121Z"
   },
   {
    "duration": 1017,
    "start_time": "2023-06-21T10:45:18.393Z"
   },
   {
    "duration": 7,
    "start_time": "2023-06-21T10:45:19.412Z"
   },
   {
    "duration": 48,
    "start_time": "2023-06-21T10:45:19.421Z"
   },
   {
    "duration": 8,
    "start_time": "2023-06-21T10:45:23.063Z"
   },
   {
    "duration": 3,
    "start_time": "2023-06-21T10:45:23.310Z"
   },
   {
    "duration": 10,
    "start_time": "2023-06-21T10:45:24.059Z"
   },
   {
    "duration": 114,
    "start_time": "2023-06-21T10:45:24.694Z"
   },
   {
    "duration": 4,
    "start_time": "2023-06-21T10:47:55.129Z"
   },
   {
    "duration": 1144,
    "start_time": "2023-06-21T10:48:00.634Z"
   },
   {
    "duration": 41,
    "start_time": "2023-06-21T10:48:02.191Z"
   },
   {
    "duration": 15,
    "start_time": "2023-06-21T10:48:02.464Z"
   },
   {
    "duration": 25,
    "start_time": "2023-06-21T10:48:02.799Z"
   },
   {
    "duration": 924,
    "start_time": "2023-06-21T10:48:03.119Z"
   },
   {
    "duration": 13,
    "start_time": "2023-06-21T10:48:04.045Z"
   },
   {
    "duration": 18,
    "start_time": "2023-06-21T10:48:04.061Z"
   },
   {
    "duration": 8,
    "start_time": "2023-06-21T10:48:06.762Z"
   },
   {
    "duration": 5,
    "start_time": "2023-06-21T10:48:06.984Z"
   },
   {
    "duration": 13,
    "start_time": "2023-06-21T10:48:07.216Z"
   },
   {
    "duration": 9,
    "start_time": "2023-06-21T10:48:07.444Z"
   },
   {
    "duration": 7,
    "start_time": "2023-06-21T10:48:07.653Z"
   },
   {
    "duration": 9,
    "start_time": "2023-06-21T10:48:07.894Z"
   },
   {
    "duration": 1391,
    "start_time": "2023-06-21T14:19:51.776Z"
   },
   {
    "duration": 107,
    "start_time": "2023-06-21T14:19:53.169Z"
   },
   {
    "duration": 11,
    "start_time": "2023-06-21T14:19:53.278Z"
   },
   {
    "duration": 57,
    "start_time": "2023-06-21T14:19:53.291Z"
   },
   {
    "duration": 1107,
    "start_time": "2023-06-21T14:19:53.350Z"
   },
   {
    "duration": 6,
    "start_time": "2023-06-21T14:19:54.459Z"
   },
   {
    "duration": 45,
    "start_time": "2023-06-21T14:19:54.466Z"
   },
   {
    "duration": 7,
    "start_time": "2023-06-21T14:19:54.513Z"
   },
   {
    "duration": 16,
    "start_time": "2023-06-21T14:19:54.522Z"
   },
   {
    "duration": 33,
    "start_time": "2023-06-21T14:19:54.540Z"
   },
   {
    "duration": 188,
    "start_time": "2023-06-21T14:19:54.575Z"
   },
   {
    "duration": 48,
    "start_time": "2023-06-21T14:19:54.764Z"
   },
   {
    "duration": 34,
    "start_time": "2023-06-21T14:19:54.814Z"
   },
   {
    "duration": 1257,
    "start_time": "2023-06-23T10:30:08.226Z"
   },
   {
    "duration": 100,
    "start_time": "2023-06-23T10:30:10.317Z"
   },
   {
    "duration": 14,
    "start_time": "2023-06-23T10:30:11.335Z"
   },
   {
    "duration": 26,
    "start_time": "2023-06-23T10:30:11.805Z"
   },
   {
    "duration": 1094,
    "start_time": "2023-06-23T10:30:12.306Z"
   },
   {
    "duration": 8,
    "start_time": "2023-06-23T10:30:13.402Z"
   },
   {
    "duration": 14,
    "start_time": "2023-06-23T10:30:13.473Z"
   },
   {
    "duration": 10,
    "start_time": "2023-06-23T10:30:20.207Z"
   },
   {
    "duration": 4,
    "start_time": "2023-06-23T10:30:21.400Z"
   },
   {
    "duration": 12,
    "start_time": "2023-06-23T10:30:23.628Z"
   },
   {
    "duration": 119,
    "start_time": "2023-06-23T10:30:24.340Z"
   },
   {
    "duration": 7,
    "start_time": "2023-06-23T10:30:26.774Z"
   },
   {
    "duration": 7,
    "start_time": "2023-06-23T10:30:27.545Z"
   },
   {
    "duration": 11,
    "start_time": "2023-06-23T10:30:28.933Z"
   },
   {
    "duration": 4,
    "start_time": "2023-06-23T10:33:32.283Z"
   },
   {
    "duration": 1146,
    "start_time": "2023-06-23T10:33:37.626Z"
   },
   {
    "duration": 43,
    "start_time": "2023-06-23T10:33:38.774Z"
   },
   {
    "duration": 13,
    "start_time": "2023-06-23T10:33:39.605Z"
   },
   {
    "duration": 25,
    "start_time": "2023-06-23T10:33:39.901Z"
   },
   {
    "duration": 1170,
    "start_time": "2023-06-23T10:33:40.205Z"
   },
   {
    "duration": 7,
    "start_time": "2023-06-23T10:33:41.377Z"
   },
   {
    "duration": 30,
    "start_time": "2023-06-23T10:33:41.387Z"
   },
   {
    "duration": 10,
    "start_time": "2023-06-23T10:33:45.234Z"
   },
   {
    "duration": 4,
    "start_time": "2023-06-23T10:33:45.773Z"
   },
   {
    "duration": 11,
    "start_time": "2023-06-23T10:33:46.315Z"
   },
   {
    "duration": 118,
    "start_time": "2023-06-23T10:33:46.604Z"
   },
   {
    "duration": 8,
    "start_time": "2023-06-23T10:33:47.144Z"
   },
   {
    "duration": 29,
    "start_time": "2023-06-23T10:33:47.646Z"
   },
   {
    "duration": 4,
    "start_time": "2023-06-23T10:34:00.204Z"
   },
   {
    "duration": 12,
    "start_time": "2023-06-23T10:34:00.861Z"
   },
   {
    "duration": 9,
    "start_time": "2023-06-23T10:34:01.209Z"
   },
   {
    "duration": 8,
    "start_time": "2023-06-23T10:34:04.349Z"
   },
   {
    "duration": 9,
    "start_time": "2023-06-23T10:34:05.418Z"
   },
   {
    "duration": 12,
    "start_time": "2023-06-23T10:34:48.301Z"
   },
   {
    "duration": 11,
    "start_time": "2023-06-23T10:34:57.513Z"
   },
   {
    "duration": 13,
    "start_time": "2023-06-23T10:35:07.713Z"
   },
   {
    "duration": 14,
    "start_time": "2023-06-23T10:38:57.871Z"
   },
   {
    "duration": 13,
    "start_time": "2023-06-23T10:39:01.742Z"
   },
   {
    "duration": 1152,
    "start_time": "2023-06-23T10:41:38.808Z"
   },
   {
    "duration": 52,
    "start_time": "2023-06-23T10:41:39.962Z"
   },
   {
    "duration": 13,
    "start_time": "2023-06-23T10:41:40.404Z"
   },
   {
    "duration": 32,
    "start_time": "2023-06-23T10:41:40.749Z"
   },
   {
    "duration": 936,
    "start_time": "2023-06-23T10:41:41.147Z"
   },
   {
    "duration": 6,
    "start_time": "2023-06-23T10:41:42.086Z"
   },
   {
    "duration": 15,
    "start_time": "2023-06-23T10:41:42.226Z"
   },
   {
    "duration": 10,
    "start_time": "2023-06-23T10:41:47.356Z"
   },
   {
    "duration": 3,
    "start_time": "2023-06-23T10:41:48.312Z"
   },
   {
    "duration": 19,
    "start_time": "2023-06-23T10:41:49.761Z"
   },
   {
    "duration": 118,
    "start_time": "2023-06-23T10:41:50.426Z"
   },
   {
    "duration": 4,
    "start_time": "2023-06-23T10:42:08.597Z"
   },
   {
    "duration": 12,
    "start_time": "2023-06-23T10:42:09.728Z"
   },
   {
    "duration": 15,
    "start_time": "2023-06-23T10:42:10.311Z"
   },
   {
    "duration": 6,
    "start_time": "2023-06-23T10:44:20.263Z"
   },
   {
    "duration": 10,
    "start_time": "2023-06-23T10:44:20.925Z"
   },
   {
    "duration": 9,
    "start_time": "2023-06-23T10:44:21.317Z"
   },
   {
    "duration": 9,
    "start_time": "2023-06-23T10:44:25.108Z"
   },
   {
    "duration": 12,
    "start_time": "2023-06-23T10:44:25.692Z"
   },
   {
    "duration": 26,
    "start_time": "2023-06-23T10:44:29.558Z"
   },
   {
    "duration": 14,
    "start_time": "2023-06-23T10:45:58.113Z"
   },
   {
    "duration": 14,
    "start_time": "2023-06-23T10:48:26.294Z"
   },
   {
    "duration": 11,
    "start_time": "2023-06-23T10:50:14.504Z"
   },
   {
    "duration": 12,
    "start_time": "2023-06-23T10:50:51.633Z"
   },
   {
    "duration": 12,
    "start_time": "2023-06-23T10:50:56.022Z"
   },
   {
    "duration": 12,
    "start_time": "2023-06-23T10:51:29.612Z"
   },
   {
    "duration": 1156,
    "start_time": "2023-06-26T12:30:04.620Z"
   },
   {
    "duration": 49,
    "start_time": "2023-06-26T12:30:06.940Z"
   },
   {
    "duration": 14,
    "start_time": "2023-06-26T12:30:07.419Z"
   },
   {
    "duration": 27,
    "start_time": "2023-06-26T12:30:07.748Z"
   },
   {
    "duration": 931,
    "start_time": "2023-06-26T12:30:07.839Z"
   },
   {
    "duration": 9,
    "start_time": "2023-06-26T12:30:08.772Z"
   },
   {
    "duration": 64,
    "start_time": "2023-06-26T12:30:08.783Z"
   },
   {
    "duration": 10,
    "start_time": "2023-06-26T12:30:12.044Z"
   },
   {
    "duration": 4,
    "start_time": "2023-06-26T12:30:12.433Z"
   },
   {
    "duration": 10,
    "start_time": "2023-06-26T12:30:13.105Z"
   },
   {
    "duration": 8,
    "start_time": "2023-06-26T12:30:13.520Z"
   },
   {
    "duration": 8,
    "start_time": "2023-06-26T12:30:16.415Z"
   },
   {
    "duration": 10,
    "start_time": "2023-06-26T12:30:16.909Z"
   },
   {
    "duration": 126,
    "start_time": "2023-06-26T12:31:00.160Z"
   },
   {
    "duration": 12,
    "start_time": "2023-06-26T12:31:40.235Z"
   },
   {
    "duration": 12,
    "start_time": "2023-06-26T12:33:05.579Z"
   },
   {
    "duration": 11,
    "start_time": "2023-06-26T12:33:26.920Z"
   },
   {
    "duration": 13,
    "start_time": "2023-06-26T12:33:30.104Z"
   },
   {
    "duration": 1248,
    "start_time": "2023-06-26T12:38:56.937Z"
   },
   {
    "duration": 46,
    "start_time": "2023-06-26T12:38:58.617Z"
   },
   {
    "duration": 14,
    "start_time": "2023-06-26T12:38:59.650Z"
   },
   {
    "duration": 29,
    "start_time": "2023-06-26T12:38:59.944Z"
   },
   {
    "duration": 1007,
    "start_time": "2023-06-26T12:39:00.496Z"
   },
   {
    "duration": 12,
    "start_time": "2023-06-26T12:39:02.865Z"
   },
   {
    "duration": 13,
    "start_time": "2023-06-26T12:39:03.030Z"
   },
   {
    "duration": 8,
    "start_time": "2023-06-26T12:39:07.813Z"
   },
   {
    "duration": 3,
    "start_time": "2023-06-26T12:39:08.628Z"
   },
   {
    "duration": 119,
    "start_time": "2023-06-26T12:39:09.209Z"
   },
   {
    "duration": 13,
    "start_time": "2023-06-26T12:39:09.422Z"
   },
   {
    "duration": 10,
    "start_time": "2023-06-26T12:39:26.329Z"
   },
   {
    "duration": 12,
    "start_time": "2023-06-26T12:39:34.612Z"
   },
   {
    "duration": 1319,
    "start_time": "2023-06-26T12:39:42.944Z"
   },
   {
    "duration": 57,
    "start_time": "2023-06-26T12:39:44.266Z"
   },
   {
    "duration": 13,
    "start_time": "2023-06-26T12:39:44.324Z"
   },
   {
    "duration": 44,
    "start_time": "2023-06-26T12:39:44.340Z"
   },
   {
    "duration": 950,
    "start_time": "2023-06-26T12:39:44.386Z"
   },
   {
    "duration": 6,
    "start_time": "2023-06-26T12:39:45.339Z"
   },
   {
    "duration": 15,
    "start_time": "2023-06-26T12:39:45.412Z"
   },
   {
    "duration": 9,
    "start_time": "2023-06-26T12:39:49.332Z"
   },
   {
    "duration": 4,
    "start_time": "2023-06-26T12:39:50.134Z"
   },
   {
    "duration": 11,
    "start_time": "2023-06-26T12:39:50.932Z"
   },
   {
    "duration": 136,
    "start_time": "2023-06-26T12:39:51.352Z"
   },
   {
    "duration": 1249,
    "start_time": "2023-06-26T12:40:53.282Z"
   },
   {
    "duration": 61,
    "start_time": "2023-06-26T12:40:55.322Z"
   },
   {
    "duration": 15,
    "start_time": "2023-06-26T12:40:55.916Z"
   },
   {
    "duration": 26,
    "start_time": "2023-06-26T12:40:56.223Z"
   },
   {
    "duration": 964,
    "start_time": "2023-06-26T12:40:56.447Z"
   },
   {
    "duration": 7,
    "start_time": "2023-06-26T12:40:57.414Z"
   },
   {
    "duration": 18,
    "start_time": "2023-06-26T12:40:57.423Z"
   },
   {
    "duration": 8,
    "start_time": "2023-06-26T12:41:01.509Z"
   },
   {
    "duration": 5,
    "start_time": "2023-06-26T12:41:02.359Z"
   },
   {
    "duration": 16,
    "start_time": "2023-06-26T12:41:03.016Z"
   },
   {
    "duration": 12,
    "start_time": "2023-06-26T12:41:03.355Z"
   },
   {
    "duration": 7,
    "start_time": "2023-06-26T12:41:07.017Z"
   },
   {
    "duration": 11,
    "start_time": "2023-06-26T12:41:07.820Z"
   },
   {
    "duration": 128,
    "start_time": "2023-06-26T12:41:11.917Z"
   },
   {
    "duration": 22,
    "start_time": "2023-06-26T14:25:13.411Z"
   },
   {
    "duration": 18,
    "start_time": "2023-06-26T14:25:22.706Z"
   },
   {
    "duration": 13,
    "start_time": "2023-06-26T14:29:53.017Z"
   },
   {
    "duration": 4,
    "start_time": "2023-06-26T14:39:47.997Z"
   },
   {
    "duration": 17,
    "start_time": "2023-06-26T14:39:51.387Z"
   },
   {
    "duration": 5,
    "start_time": "2023-06-26T14:39:57.696Z"
   },
   {
    "duration": 1414,
    "start_time": "2023-06-26T14:40:08.350Z"
   },
   {
    "duration": 68,
    "start_time": "2023-06-26T14:40:09.766Z"
   },
   {
    "duration": 15,
    "start_time": "2023-06-26T14:40:09.837Z"
   },
   {
    "duration": 39,
    "start_time": "2023-06-26T14:40:10.048Z"
   },
   {
    "duration": 1017,
    "start_time": "2023-06-26T14:40:10.285Z"
   },
   {
    "duration": 8,
    "start_time": "2023-06-26T14:40:11.304Z"
   },
   {
    "duration": 17,
    "start_time": "2023-06-26T14:40:11.313Z"
   },
   {
    "duration": 12,
    "start_time": "2023-06-26T14:40:14.315Z"
   },
   {
    "duration": 4,
    "start_time": "2023-06-26T14:40:14.794Z"
   },
   {
    "duration": 14,
    "start_time": "2023-06-26T14:40:15.685Z"
   },
   {
    "duration": 283,
    "start_time": "2023-06-26T14:40:15.903Z"
   },
   {
    "duration": 6,
    "start_time": "2023-06-26T14:40:38.513Z"
   },
   {
    "duration": 16,
    "start_time": "2023-06-26T14:40:39.605Z"
   },
   {
    "duration": 19,
    "start_time": "2023-06-26T14:40:39.972Z"
   },
   {
    "duration": 12,
    "start_time": "2023-06-26T14:40:54.965Z"
   },
   {
    "duration": 12,
    "start_time": "2023-06-26T14:40:55.432Z"
   },
   {
    "duration": 12,
    "start_time": "2023-06-26T14:40:56.726Z"
   },
   {
    "duration": 5,
    "start_time": "2023-06-26T15:12:33.183Z"
   },
   {
    "duration": 1266,
    "start_time": "2023-06-27T08:56:09.406Z"
   },
   {
    "duration": 163,
    "start_time": "2023-06-27T08:56:37.223Z"
   },
   {
    "duration": 17,
    "start_time": "2023-06-27T08:56:48.944Z"
   },
   {
    "duration": 40,
    "start_time": "2023-06-27T08:56:58.814Z"
   },
   {
    "duration": 1256,
    "start_time": "2023-06-27T08:56:59.514Z"
   },
   {
    "duration": 7,
    "start_time": "2023-06-27T08:57:07.710Z"
   },
   {
    "duration": 16,
    "start_time": "2023-06-27T08:57:08.340Z"
   },
   {
    "duration": 12,
    "start_time": "2023-06-27T08:59:36.615Z"
   },
   {
    "duration": 4,
    "start_time": "2023-06-27T08:59:41.236Z"
   },
   {
    "duration": 12,
    "start_time": "2023-06-27T08:59:46.513Z"
   },
   {
    "duration": 128,
    "start_time": "2023-06-27T08:59:48.425Z"
   },
   {
    "duration": 1338,
    "start_time": "2023-06-27T09:05:49.579Z"
   },
   {
    "duration": 45,
    "start_time": "2023-06-27T09:05:50.919Z"
   },
   {
    "duration": 25,
    "start_time": "2023-06-27T09:05:50.966Z"
   },
   {
    "duration": 27,
    "start_time": "2023-06-27T09:05:51.406Z"
   },
   {
    "duration": 1010,
    "start_time": "2023-06-27T09:05:51.436Z"
   },
   {
    "duration": 8,
    "start_time": "2023-06-27T09:05:52.449Z"
   },
   {
    "duration": 36,
    "start_time": "2023-06-27T09:05:52.472Z"
   },
   {
    "duration": 8,
    "start_time": "2023-06-27T09:05:56.909Z"
   },
   {
    "duration": 3,
    "start_time": "2023-06-27T09:05:57.611Z"
   },
   {
    "duration": 17,
    "start_time": "2023-06-27T09:05:58.161Z"
   },
   {
    "duration": 129,
    "start_time": "2023-06-27T09:05:58.423Z"
   },
   {
    "duration": 1429,
    "start_time": "2023-06-27T09:06:04.645Z"
   },
   {
    "duration": 54,
    "start_time": "2023-06-27T09:06:06.076Z"
   },
   {
    "duration": 17,
    "start_time": "2023-06-27T09:06:06.132Z"
   },
   {
    "duration": 63,
    "start_time": "2023-06-27T09:06:06.151Z"
   },
   {
    "duration": 1012,
    "start_time": "2023-06-27T09:06:06.216Z"
   },
   {
    "duration": 8,
    "start_time": "2023-06-27T09:06:07.230Z"
   },
   {
    "duration": 39,
    "start_time": "2023-06-27T09:06:07.240Z"
   },
   {
    "duration": 11,
    "start_time": "2023-06-27T09:06:10.735Z"
   },
   {
    "duration": 3,
    "start_time": "2023-06-27T09:06:11.304Z"
   },
   {
    "duration": 11,
    "start_time": "2023-06-27T09:06:11.849Z"
   },
   {
    "duration": 144,
    "start_time": "2023-06-27T09:06:12.123Z"
   },
   {
    "duration": 1220,
    "start_time": "2023-06-27T09:06:19.907Z"
   },
   {
    "duration": 59,
    "start_time": "2023-06-27T09:06:21.129Z"
   },
   {
    "duration": 15,
    "start_time": "2023-06-27T09:06:21.192Z"
   },
   {
    "duration": 45,
    "start_time": "2023-06-27T09:06:21.211Z"
   },
   {
    "duration": 1016,
    "start_time": "2023-06-27T09:06:21.409Z"
   },
   {
    "duration": 7,
    "start_time": "2023-06-27T09:06:22.428Z"
   },
   {
    "duration": 42,
    "start_time": "2023-06-27T09:06:22.437Z"
   },
   {
    "duration": 21,
    "start_time": "2023-06-27T09:06:26.273Z"
   },
   {
    "duration": 5,
    "start_time": "2023-06-27T09:06:26.922Z"
   },
   {
    "duration": 15,
    "start_time": "2023-06-27T09:06:28.261Z"
   },
   {
    "duration": 9,
    "start_time": "2023-06-27T09:06:28.638Z"
   },
   {
    "duration": 9,
    "start_time": "2023-06-27T09:54:24.215Z"
   },
   {
    "duration": 10,
    "start_time": "2023-06-27T09:55:37.452Z"
   },
   {
    "duration": 417,
    "start_time": "2023-06-27T09:56:42.017Z"
   },
   {
    "duration": 10,
    "start_time": "2023-06-27T09:57:24.948Z"
   },
   {
    "duration": 11,
    "start_time": "2023-06-27T09:57:25.654Z"
   },
   {
    "duration": 8,
    "start_time": "2023-06-27T09:57:28.024Z"
   },
   {
    "duration": 17,
    "start_time": "2023-06-27T09:58:49.907Z"
   },
   {
    "duration": 12,
    "start_time": "2023-06-27T09:59:07.761Z"
   },
   {
    "duration": 10,
    "start_time": "2023-06-27T09:59:08.231Z"
   },
   {
    "duration": 35,
    "start_time": "2023-06-27T09:59:08.659Z"
   },
   {
    "duration": 29,
    "start_time": "2023-06-27T09:59:10.464Z"
   },
   {
    "duration": 8,
    "start_time": "2023-06-27T10:00:20.398Z"
   },
   {
    "duration": 10,
    "start_time": "2023-06-27T10:00:20.925Z"
   },
   {
    "duration": 6,
    "start_time": "2023-06-27T10:00:21.623Z"
   },
   {
    "duration": 17,
    "start_time": "2023-06-27T10:00:22.244Z"
   },
   {
    "duration": 13,
    "start_time": "2023-06-27T10:03:25.613Z"
   },
   {
    "duration": 10,
    "start_time": "2023-06-27T10:03:25.938Z"
   },
   {
    "duration": 18,
    "start_time": "2023-06-27T10:03:26.524Z"
   },
   {
    "duration": 69,
    "start_time": "2023-06-27T10:03:27.312Z"
   },
   {
    "duration": 12,
    "start_time": "2023-06-27T10:04:48.510Z"
   },
   {
    "duration": 15,
    "start_time": "2023-06-27T10:04:48.902Z"
   },
   {
    "duration": 21,
    "start_time": "2023-06-27T10:04:49.210Z"
   },
   {
    "duration": 42,
    "start_time": "2023-06-27T10:04:49.653Z"
   },
   {
    "duration": 11,
    "start_time": "2023-06-27T10:05:26.645Z"
   },
   {
    "duration": 10,
    "start_time": "2023-06-27T10:05:27.331Z"
   },
   {
    "duration": 10,
    "start_time": "2023-06-27T10:05:27.713Z"
   },
   {
    "duration": 56,
    "start_time": "2023-06-27T10:05:28.113Z"
   },
   {
    "duration": 9,
    "start_time": "2023-06-27T10:06:41.446Z"
   },
   {
    "duration": 16,
    "start_time": "2023-06-27T10:06:42.023Z"
   },
   {
    "duration": 51,
    "start_time": "2023-06-27T10:06:42.157Z"
   },
   {
    "duration": 66,
    "start_time": "2023-06-27T10:06:42.486Z"
   },
   {
    "duration": 9,
    "start_time": "2023-06-27T10:07:01.027Z"
   },
   {
    "duration": 22,
    "start_time": "2023-06-27T10:07:01.320Z"
   },
   {
    "duration": 10,
    "start_time": "2023-06-27T10:07:01.641Z"
   },
   {
    "duration": 766,
    "start_time": "2023-06-27T10:07:02.049Z"
   },
   {
    "duration": 9,
    "start_time": "2023-06-27T10:07:38.821Z"
   },
   {
    "duration": 11,
    "start_time": "2023-06-27T10:07:39.160Z"
   },
   {
    "duration": 11,
    "start_time": "2023-06-27T10:07:39.348Z"
   },
   {
    "duration": 22,
    "start_time": "2023-06-27T10:07:39.818Z"
   },
   {
    "duration": 9,
    "start_time": "2023-06-27T10:26:23.227Z"
   },
   {
    "duration": 11,
    "start_time": "2023-06-27T10:26:23.711Z"
   },
   {
    "duration": 23,
    "start_time": "2023-06-27T10:26:24.153Z"
   },
   {
    "duration": 64,
    "start_time": "2023-06-27T10:26:24.630Z"
   },
   {
    "duration": 13,
    "start_time": "2023-06-27T10:27:43.521Z"
   },
   {
    "duration": 9,
    "start_time": "2023-06-27T10:27:43.841Z"
   },
   {
    "duration": 58,
    "start_time": "2023-06-27T10:27:44.065Z"
   },
   {
    "duration": 25,
    "start_time": "2023-06-27T10:27:44.412Z"
   },
   {
    "duration": 9,
    "start_time": "2023-06-27T10:29:02.933Z"
   },
   {
    "duration": 28,
    "start_time": "2023-06-27T10:29:13.525Z"
   },
   {
    "duration": 6,
    "start_time": "2023-06-27T10:29:19.637Z"
   },
   {
    "duration": 9,
    "start_time": "2023-06-27T10:29:33.844Z"
   },
   {
    "duration": 63,
    "start_time": "2023-06-27T10:29:47.720Z"
   },
   {
    "duration": 8,
    "start_time": "2023-06-27T10:29:56.641Z"
   },
   {
    "duration": 13,
    "start_time": "2023-06-27T10:30:09.737Z"
   },
   {
    "duration": 7,
    "start_time": "2023-06-27T10:30:16.861Z"
   },
   {
    "duration": 15,
    "start_time": "2023-06-27T10:30:38.812Z"
   },
   {
    "duration": 10,
    "start_time": "2023-06-27T10:30:39.130Z"
   },
   {
    "duration": 13,
    "start_time": "2023-06-27T10:30:39.535Z"
   },
   {
    "duration": 39,
    "start_time": "2023-06-27T10:30:39.988Z"
   },
   {
    "duration": 10,
    "start_time": "2023-06-27T10:30:40.596Z"
   },
   {
    "duration": 15,
    "start_time": "2023-06-27T10:31:28.749Z"
   },
   {
    "duration": 36,
    "start_time": "2023-06-27T10:31:35.783Z"
   },
   {
    "duration": 9,
    "start_time": "2023-06-27T10:31:40.148Z"
   },
   {
    "duration": 1742,
    "start_time": "2023-06-27T10:35:57.020Z"
   },
   {
    "duration": 69,
    "start_time": "2023-06-27T10:35:59.426Z"
   },
   {
    "duration": 23,
    "start_time": "2023-06-27T10:35:59.754Z"
   },
   {
    "duration": 42,
    "start_time": "2023-06-27T10:36:00.228Z"
   },
   {
    "duration": 1585,
    "start_time": "2023-06-27T10:36:00.274Z"
   },
   {
    "duration": 10,
    "start_time": "2023-06-27T10:36:01.865Z"
   },
   {
    "duration": 64,
    "start_time": "2023-06-27T10:36:01.889Z"
   },
   {
    "duration": 17,
    "start_time": "2023-06-27T10:36:15.627Z"
   },
   {
    "duration": 20,
    "start_time": "2023-06-27T10:36:16.420Z"
   },
   {
    "duration": 11,
    "start_time": "2023-06-27T10:36:17.228Z"
   },
   {
    "duration": 209,
    "start_time": "2023-06-27T10:36:18.635Z"
   },
   {
    "duration": 12,
    "start_time": "2023-06-27T10:36:36.244Z"
   },
   {
    "duration": 19,
    "start_time": "2023-06-27T10:36:44.536Z"
   },
   {
    "duration": 24,
    "start_time": "2023-06-27T10:36:47.239Z"
   },
   {
    "duration": 24,
    "start_time": "2023-06-27T10:36:54.264Z"
   },
   {
    "duration": 4,
    "start_time": "2023-06-27T10:38:08.724Z"
   },
   {
    "duration": 16,
    "start_time": "2023-06-27T10:38:21.350Z"
   },
   {
    "duration": 12,
    "start_time": "2023-06-27T10:38:27.618Z"
   },
   {
    "duration": 13,
    "start_time": "2023-06-27T10:39:40.730Z"
   },
   {
    "duration": 6,
    "start_time": "2023-06-27T10:39:50.609Z"
   },
   {
    "duration": 28,
    "start_time": "2023-06-27T11:09:26.657Z"
   },
   {
    "duration": 9,
    "start_time": "2023-06-27T11:09:30.847Z"
   },
   {
    "duration": 4,
    "start_time": "2023-06-27T11:09:31.539Z"
   },
   {
    "duration": 204,
    "start_time": "2023-06-27T11:09:32.167Z"
   },
   {
    "duration": 8,
    "start_time": "2023-06-27T11:09:33.723Z"
   },
   {
    "duration": 15,
    "start_time": "2023-06-27T11:09:34.224Z"
   },
   {
    "duration": 5,
    "start_time": "2023-06-27T11:09:35.226Z"
   },
   {
    "duration": 16,
    "start_time": "2023-06-27T11:09:35.904Z"
   },
   {
    "duration": 136,
    "start_time": "2023-06-27T11:09:37.128Z"
   },
   {
    "duration": 10,
    "start_time": "2023-06-27T11:10:27.232Z"
   },
   {
    "duration": 10,
    "start_time": "2023-06-27T11:10:28.100Z"
   },
   {
    "duration": 7,
    "start_time": "2023-06-27T11:10:28.809Z"
   },
   {
    "duration": 13,
    "start_time": "2023-06-27T11:10:29.720Z"
   },
   {
    "duration": 4,
    "start_time": "2023-06-27T11:10:31.005Z"
   },
   {
    "duration": 12,
    "start_time": "2023-06-27T11:10:31.835Z"
   },
   {
    "duration": 10,
    "start_time": "2023-06-27T11:10:32.641Z"
   },
   {
    "duration": 9,
    "start_time": "2023-06-27T11:32:23.078Z"
   },
   {
    "duration": 10,
    "start_time": "2023-06-27T11:32:24.028Z"
   },
   {
    "duration": 19,
    "start_time": "2023-06-27T11:34:01.922Z"
   },
   {
    "duration": 7,
    "start_time": "2023-06-27T11:34:28.209Z"
   },
   {
    "duration": 10,
    "start_time": "2023-06-27T11:34:28.525Z"
   },
   {
    "duration": 38,
    "start_time": "2023-06-27T11:34:30.358Z"
   },
   {
    "duration": 21,
    "start_time": "2023-06-27T11:35:32.119Z"
   },
   {
    "duration": 7,
    "start_time": "2023-06-27T11:35:52.959Z"
   },
   {
    "duration": 9,
    "start_time": "2023-06-27T11:35:53.432Z"
   },
   {
    "duration": 38,
    "start_time": "2023-06-27T11:35:54.218Z"
   },
   {
    "duration": 44,
    "start_time": "2023-06-27T11:35:54.902Z"
   },
   {
    "duration": 7,
    "start_time": "2023-06-27T11:37:25.711Z"
   },
   {
    "duration": 15,
    "start_time": "2023-06-27T11:37:42.106Z"
   },
   {
    "duration": 57,
    "start_time": "2023-06-27T11:37:53.110Z"
   },
   {
    "duration": 14,
    "start_time": "2023-06-27T11:38:28.714Z"
   },
   {
    "duration": 16,
    "start_time": "2023-06-27T11:40:27.235Z"
   },
   {
    "duration": 54,
    "start_time": "2023-06-27T11:41:03.121Z"
   },
   {
    "duration": 21,
    "start_time": "2023-06-27T11:41:07.595Z"
   },
   {
    "duration": 7,
    "start_time": "2023-06-27T11:41:58.449Z"
   },
   {
    "duration": 9,
    "start_time": "2023-06-27T11:41:58.951Z"
   },
   {
    "duration": 19,
    "start_time": "2023-06-27T11:41:59.632Z"
   },
   {
    "duration": 38,
    "start_time": "2023-06-27T11:42:10.904Z"
   },
   {
    "duration": 15,
    "start_time": "2023-06-27T11:42:12.216Z"
   },
   {
    "duration": 6,
    "start_time": "2023-06-27T11:42:39.652Z"
   },
   {
    "duration": 12,
    "start_time": "2023-06-27T11:42:40.112Z"
   },
   {
    "duration": 13,
    "start_time": "2023-06-27T11:42:40.617Z"
   },
   {
    "duration": 8,
    "start_time": "2023-06-27T11:42:41.253Z"
   },
   {
    "duration": 51,
    "start_time": "2023-06-27T11:42:42.171Z"
   },
   {
    "duration": 13,
    "start_time": "2023-06-27T11:42:44.711Z"
   },
   {
    "duration": 5,
    "start_time": "2023-06-27T11:43:54.621Z"
   },
   {
    "duration": 10,
    "start_time": "2023-06-27T11:43:55.207Z"
   },
   {
    "duration": 60,
    "start_time": "2023-06-27T11:43:55.718Z"
   },
   {
    "duration": 12,
    "start_time": "2023-06-27T11:43:56.323Z"
   },
   {
    "duration": 21,
    "start_time": "2023-06-27T11:43:57.103Z"
   },
   {
    "duration": 8,
    "start_time": "2023-06-27T11:43:57.860Z"
   },
   {
    "duration": 8,
    "start_time": "2023-06-27T11:47:19.262Z"
   },
   {
    "duration": 9,
    "start_time": "2023-06-27T11:47:20.033Z"
   },
   {
    "duration": 34,
    "start_time": "2023-06-27T11:47:20.537Z"
   },
   {
    "duration": 29,
    "start_time": "2023-06-27T11:47:21.148Z"
   },
   {
    "duration": 7,
    "start_time": "2023-06-27T11:47:33.538Z"
   },
   {
    "duration": 15,
    "start_time": "2023-06-27T11:47:33.548Z"
   },
   {
    "duration": 40,
    "start_time": "2023-06-27T11:47:33.950Z"
   },
   {
    "duration": 102,
    "start_time": "2023-06-27T11:47:34.675Z"
   },
   {
    "duration": 21,
    "start_time": "2023-06-27T11:47:36.813Z"
   },
   {
    "duration": 10,
    "start_time": "2023-06-27T11:47:37.393Z"
   },
   {
    "duration": 1076,
    "start_time": "2023-06-28T09:19:34.088Z"
   },
   {
    "duration": 100,
    "start_time": "2023-06-28T09:19:35.166Z"
   },
   {
    "duration": 11,
    "start_time": "2023-06-28T09:19:35.641Z"
   },
   {
    "duration": 23,
    "start_time": "2023-06-28T09:19:36.024Z"
   },
   {
    "duration": 978,
    "start_time": "2023-06-28T09:19:36.515Z"
   },
   {
    "duration": 7,
    "start_time": "2023-06-28T09:19:37.495Z"
   },
   {
    "duration": 13,
    "start_time": "2023-06-28T09:19:37.503Z"
   },
   {
    "duration": 7,
    "start_time": "2023-06-28T09:21:03.612Z"
   },
   {
    "duration": 3,
    "start_time": "2023-06-28T09:21:04.562Z"
   },
   {
    "duration": 11,
    "start_time": "2023-06-28T09:21:05.415Z"
   },
   {
    "duration": 8,
    "start_time": "2023-06-28T09:21:06.058Z"
   },
   {
    "duration": 7,
    "start_time": "2023-06-28T09:21:13.762Z"
   },
   {
    "duration": 9,
    "start_time": "2023-06-28T09:21:14.164Z"
   },
   {
    "duration": 4,
    "start_time": "2023-06-28T09:21:16.011Z"
   },
   {
    "duration": 8,
    "start_time": "2023-06-28T09:21:16.699Z"
   },
   {
    "duration": 9,
    "start_time": "2023-06-28T09:21:17.514Z"
   },
   {
    "duration": 102,
    "start_time": "2023-06-28T09:21:18.176Z"
   },
   {
    "duration": 1102,
    "start_time": "2023-06-28T09:22:05.390Z"
   },
   {
    "duration": 40,
    "start_time": "2023-06-28T09:22:06.493Z"
   },
   {
    "duration": 11,
    "start_time": "2023-06-28T09:22:06.643Z"
   },
   {
    "duration": 21,
    "start_time": "2023-06-28T09:22:06.940Z"
   },
   {
    "duration": 745,
    "start_time": "2023-06-28T09:22:07.256Z"
   },
   {
    "duration": 5,
    "start_time": "2023-06-28T09:22:08.156Z"
   },
   {
    "duration": 12,
    "start_time": "2023-06-28T09:22:08.647Z"
   },
   {
    "duration": 10,
    "start_time": "2023-06-28T09:22:14.137Z"
   },
   {
    "duration": 2,
    "start_time": "2023-06-28T09:22:14.991Z"
   },
   {
    "duration": 9,
    "start_time": "2023-06-28T09:22:15.850Z"
   },
   {
    "duration": 102,
    "start_time": "2023-06-28T09:22:16.291Z"
   },
   {
    "duration": 7,
    "start_time": "2023-06-28T09:22:17.690Z"
   },
   {
    "duration": 6,
    "start_time": "2023-06-28T09:22:17.995Z"
   },
   {
    "duration": 5,
    "start_time": "2023-06-28T09:22:19.422Z"
   },
   {
    "duration": 7,
    "start_time": "2023-06-28T09:22:19.930Z"
   },
   {
    "duration": 57,
    "start_time": "2023-06-28T09:22:20.314Z"
   },
   {
    "duration": 13,
    "start_time": "2023-06-28T09:22:21.104Z"
   },
   {
    "duration": 9,
    "start_time": "2023-06-28T09:22:22.369Z"
   },
   {
    "duration": 6,
    "start_time": "2023-06-28T09:25:27.186Z"
   },
   {
    "duration": 6,
    "start_time": "2023-06-28T09:25:27.844Z"
   },
   {
    "duration": 12,
    "start_time": "2023-06-28T09:25:28.283Z"
   },
   {
    "duration": 4,
    "start_time": "2023-06-28T09:25:50.702Z"
   },
   {
    "duration": 7,
    "start_time": "2023-06-28T09:25:51.055Z"
   },
   {
    "duration": 6,
    "start_time": "2023-06-28T09:25:51.374Z"
   },
   {
    "duration": 6,
    "start_time": "2023-06-28T09:25:52.622Z"
   },
   {
    "duration": 15,
    "start_time": "2023-06-28T09:25:54.757Z"
   },
   {
    "duration": 5,
    "start_time": "2023-06-28T09:26:45.008Z"
   },
   {
    "duration": 7,
    "start_time": "2023-06-28T09:26:45.414Z"
   },
   {
    "duration": 8,
    "start_time": "2023-06-28T09:26:45.802Z"
   },
   {
    "duration": 6,
    "start_time": "2023-06-28T09:26:46.178Z"
   },
   {
    "duration": 14,
    "start_time": "2023-06-28T09:26:46.587Z"
   },
   {
    "duration": 1540,
    "start_time": "2023-06-29T08:42:55.411Z"
   },
   {
    "duration": 93,
    "start_time": "2023-06-29T08:42:56.953Z"
   },
   {
    "duration": 11,
    "start_time": "2023-06-29T08:42:57.048Z"
   },
   {
    "duration": 43,
    "start_time": "2023-06-29T08:42:57.062Z"
   },
   {
    "duration": 1096,
    "start_time": "2023-06-29T08:42:57.107Z"
   },
   {
    "duration": 7,
    "start_time": "2023-06-29T08:42:58.206Z"
   },
   {
    "duration": 48,
    "start_time": "2023-06-29T08:42:58.215Z"
   },
   {
    "duration": 11,
    "start_time": "2023-06-29T08:42:58.265Z"
   },
   {
    "duration": 15,
    "start_time": "2023-06-29T08:42:58.277Z"
   },
   {
    "duration": 59,
    "start_time": "2023-06-29T08:42:58.295Z"
   },
   {
    "duration": 106,
    "start_time": "2023-06-29T08:42:58.356Z"
   },
   {
    "duration": 32,
    "start_time": "2023-06-29T08:42:58.464Z"
   },
   {
    "duration": 14,
    "start_time": "2023-06-29T08:42:58.497Z"
   },
   {
    "duration": 20,
    "start_time": "2023-06-29T08:42:58.513Z"
   },
   {
    "duration": 16,
    "start_time": "2023-06-29T08:42:58.535Z"
   },
   {
    "duration": 19,
    "start_time": "2023-06-29T08:42:58.553Z"
   },
   {
    "duration": 187,
    "start_time": "2023-06-29T08:42:58.574Z"
   },
   {
    "duration": 100,
    "start_time": "2023-06-29T08:42:58.763Z"
   },
   {
    "duration": 1685,
    "start_time": "2023-06-29T08:44:24.314Z"
   },
   {
    "duration": 42,
    "start_time": "2023-06-29T08:44:26.002Z"
   },
   {
    "duration": 37,
    "start_time": "2023-06-29T08:44:26.046Z"
   },
   {
    "duration": 46,
    "start_time": "2023-06-29T08:44:26.086Z"
   },
   {
    "duration": 876,
    "start_time": "2023-06-29T08:44:26.134Z"
   },
   {
    "duration": 7,
    "start_time": "2023-06-29T08:44:27.012Z"
   },
   {
    "duration": 32,
    "start_time": "2023-06-29T08:44:27.021Z"
   },
   {
    "duration": 9,
    "start_time": "2023-06-29T08:44:27.056Z"
   },
   {
    "duration": 7,
    "start_time": "2023-06-29T08:44:27.067Z"
   },
   {
    "duration": 11,
    "start_time": "2023-06-29T08:44:27.077Z"
   },
   {
    "duration": 15,
    "start_time": "2023-06-29T08:44:27.089Z"
   },
   {
    "duration": 14,
    "start_time": "2023-06-29T08:44:27.107Z"
   },
   {
    "duration": 32,
    "start_time": "2023-06-29T08:44:27.123Z"
   },
   {
    "duration": 9,
    "start_time": "2023-06-29T08:44:27.157Z"
   },
   {
    "duration": 20,
    "start_time": "2023-06-29T08:44:27.168Z"
   },
   {
    "duration": 19,
    "start_time": "2023-06-29T08:44:27.190Z"
   },
   {
    "duration": 46,
    "start_time": "2023-06-29T08:44:27.212Z"
   },
   {
    "duration": 103,
    "start_time": "2023-06-29T08:44:27.260Z"
   },
   {
    "duration": 2049,
    "start_time": "2023-06-29T12:03:17.532Z"
   },
   {
    "duration": 115,
    "start_time": "2023-06-29T12:03:19.583Z"
   },
   {
    "duration": 11,
    "start_time": "2023-06-29T12:03:20.498Z"
   },
   {
    "duration": 34,
    "start_time": "2023-06-29T12:03:20.783Z"
   },
   {
    "duration": 2602,
    "start_time": "2023-06-29T12:03:21.116Z"
   },
   {
    "duration": 6,
    "start_time": "2023-06-29T12:03:23.720Z"
   },
   {
    "duration": 14,
    "start_time": "2023-06-29T12:03:23.727Z"
   },
   {
    "duration": 7,
    "start_time": "2023-06-29T12:03:28.221Z"
   },
   {
    "duration": 4,
    "start_time": "2023-06-29T12:03:29.040Z"
   },
   {
    "duration": 13,
    "start_time": "2023-06-29T12:03:29.700Z"
   },
   {
    "duration": 122,
    "start_time": "2023-06-29T12:03:29.976Z"
   },
   {
    "duration": 1302,
    "start_time": "2023-06-30T09:19:41.295Z"
   },
   {
    "duration": 139,
    "start_time": "2023-06-30T09:19:42.598Z"
   },
   {
    "duration": 11,
    "start_time": "2023-06-30T09:19:42.739Z"
   },
   {
    "duration": 23,
    "start_time": "2023-06-30T09:19:42.751Z"
   },
   {
    "duration": 1021,
    "start_time": "2023-06-30T09:19:42.776Z"
   },
   {
    "duration": 6,
    "start_time": "2023-06-30T09:19:43.800Z"
   },
   {
    "duration": 15,
    "start_time": "2023-06-30T09:19:43.808Z"
   },
   {
    "duration": 8,
    "start_time": "2023-06-30T09:19:43.824Z"
   },
   {
    "duration": 4,
    "start_time": "2023-06-30T09:19:43.833Z"
   },
   {
    "duration": 40,
    "start_time": "2023-06-30T09:19:43.838Z"
   },
   {
    "duration": 188,
    "start_time": "2023-06-30T09:19:43.881Z"
   },
   {
    "duration": 11,
    "start_time": "2023-06-30T09:19:44.071Z"
   },
   {
    "duration": 10,
    "start_time": "2023-06-30T09:19:44.084Z"
   },
   {
    "duration": 7,
    "start_time": "2023-06-30T09:19:44.097Z"
   },
   {
    "duration": 9,
    "start_time": "2023-06-30T09:19:44.106Z"
   },
   {
    "duration": 53,
    "start_time": "2023-06-30T09:19:44.117Z"
   },
   {
    "duration": 100,
    "start_time": "2023-06-30T09:19:44.172Z"
   },
   {
    "duration": 97,
    "start_time": "2023-06-30T09:19:44.274Z"
   },
   {
    "duration": 1321,
    "start_time": "2023-06-30T09:34:56.994Z"
   },
   {
    "duration": 47,
    "start_time": "2023-06-30T09:34:58.317Z"
   },
   {
    "duration": 17,
    "start_time": "2023-06-30T09:34:58.366Z"
   },
   {
    "duration": 23,
    "start_time": "2023-06-30T09:34:58.387Z"
   },
   {
    "duration": 806,
    "start_time": "2023-06-30T09:34:58.413Z"
   },
   {
    "duration": 6,
    "start_time": "2023-06-30T09:34:59.221Z"
   },
   {
    "duration": 30,
    "start_time": "2023-06-30T09:34:59.229Z"
   },
   {
    "duration": 9,
    "start_time": "2023-06-30T09:34:59.261Z"
   },
   {
    "duration": 15,
    "start_time": "2023-06-30T09:34:59.272Z"
   },
   {
    "duration": 12,
    "start_time": "2023-06-30T09:34:59.289Z"
   },
   {
    "duration": 16,
    "start_time": "2023-06-30T09:34:59.303Z"
   },
   {
    "duration": 10,
    "start_time": "2023-06-30T09:34:59.321Z"
   },
   {
    "duration": 12,
    "start_time": "2023-06-30T09:34:59.332Z"
   },
   {
    "duration": 7,
    "start_time": "2023-06-30T09:34:59.346Z"
   },
   {
    "duration": 26,
    "start_time": "2023-06-30T09:34:59.355Z"
   },
   {
    "duration": 10,
    "start_time": "2023-06-30T09:34:59.382Z"
   },
   {
    "duration": 251,
    "start_time": "2023-06-30T09:34:59.395Z"
   },
   {
    "duration": 0,
    "start_time": "2023-06-30T09:34:59.647Z"
   },
   {
    "duration": 1120,
    "start_time": "2023-06-30T12:52:35.400Z"
   },
   {
    "duration": 87,
    "start_time": "2023-06-30T12:52:36.522Z"
   },
   {
    "duration": 11,
    "start_time": "2023-06-30T12:52:37.157Z"
   },
   {
    "duration": 22,
    "start_time": "2023-06-30T12:52:37.385Z"
   },
   {
    "duration": 938,
    "start_time": "2023-06-30T12:52:37.592Z"
   },
   {
    "duration": 7,
    "start_time": "2023-06-30T12:52:38.532Z"
   },
   {
    "duration": 38,
    "start_time": "2023-06-30T12:52:38.540Z"
   },
   {
    "duration": 8,
    "start_time": "2023-06-30T12:52:44.504Z"
   },
   {
    "duration": 3,
    "start_time": "2023-06-30T12:52:44.935Z"
   },
   {
    "duration": 12,
    "start_time": "2023-06-30T12:52:45.392Z"
   },
   {
    "duration": 8,
    "start_time": "2023-06-30T12:52:45.611Z"
   },
   {
    "duration": 8,
    "start_time": "2023-06-30T12:52:46.084Z"
   },
   {
    "duration": 9,
    "start_time": "2023-06-30T12:52:46.313Z"
   },
   {
    "duration": 5,
    "start_time": "2023-06-30T12:52:48.685Z"
   },
   {
    "duration": 8,
    "start_time": "2023-06-30T12:52:48.935Z"
   },
   {
    "duration": 9,
    "start_time": "2023-06-30T12:52:49.192Z"
   },
   {
    "duration": 112,
    "start_time": "2023-06-30T12:52:50.132Z"
   },
   {
    "duration": 11,
    "start_time": "2023-06-30T12:52:52.884Z"
   },
   {
    "duration": 3,
    "start_time": "2023-06-30T13:08:13.493Z"
   },
   {
    "duration": 43,
    "start_time": "2023-06-30T13:08:16.171Z"
   },
   {
    "duration": 13,
    "start_time": "2023-06-30T13:08:17.776Z"
   },
   {
    "duration": 1087,
    "start_time": "2023-06-30T13:08:23.092Z"
   },
   {
    "duration": 40,
    "start_time": "2023-06-30T13:08:24.181Z"
   },
   {
    "duration": 13,
    "start_time": "2023-06-30T13:08:24.642Z"
   },
   {
    "duration": 24,
    "start_time": "2023-06-30T13:08:24.999Z"
   },
   {
    "duration": 777,
    "start_time": "2023-06-30T13:08:25.383Z"
   },
   {
    "duration": 7,
    "start_time": "2023-06-30T13:08:26.431Z"
   },
   {
    "duration": 14,
    "start_time": "2023-06-30T13:08:26.988Z"
   },
   {
    "duration": 8,
    "start_time": "2023-06-30T13:08:38.396Z"
   },
   {
    "duration": 3,
    "start_time": "2023-06-30T13:08:39.593Z"
   },
   {
    "duration": 9,
    "start_time": "2023-06-30T13:08:43.292Z"
   },
   {
    "duration": 8,
    "start_time": "2023-06-30T13:08:43.693Z"
   },
   {
    "duration": 1169,
    "start_time": "2023-06-30T13:09:46.830Z"
   },
   {
    "duration": 42,
    "start_time": "2023-06-30T13:09:48.001Z"
   },
   {
    "duration": 12,
    "start_time": "2023-06-30T13:09:48.884Z"
   },
   {
    "duration": 36,
    "start_time": "2023-06-30T13:09:49.389Z"
   },
   {
    "duration": 853,
    "start_time": "2023-06-30T13:09:49.945Z"
   },
   {
    "duration": 6,
    "start_time": "2023-06-30T13:09:51.284Z"
   },
   {
    "duration": 13,
    "start_time": "2023-06-30T13:09:51.802Z"
   },
   {
    "duration": 8,
    "start_time": "2023-06-30T13:09:58.087Z"
   },
   {
    "duration": 3,
    "start_time": "2023-06-30T13:09:58.918Z"
   },
   {
    "duration": 12,
    "start_time": "2023-06-30T13:09:59.996Z"
   },
   {
    "duration": 106,
    "start_time": "2023-06-30T13:10:00.635Z"
   },
   {
    "duration": 3,
    "start_time": "2023-06-30T13:13:52.309Z"
   },
   {
    "duration": 10,
    "start_time": "2023-06-30T13:13:53.124Z"
   },
   {
    "duration": 13,
    "start_time": "2023-06-30T13:13:53.738Z"
   },
   {
    "duration": 1075,
    "start_time": "2023-06-30T13:14:09.695Z"
   },
   {
    "duration": 41,
    "start_time": "2023-06-30T13:14:11.834Z"
   },
   {
    "duration": 12,
    "start_time": "2023-06-30T13:14:12.604Z"
   },
   {
    "duration": 23,
    "start_time": "2023-06-30T13:14:12.993Z"
   },
   {
    "duration": 828,
    "start_time": "2023-06-30T13:14:13.396Z"
   },
   {
    "duration": 6,
    "start_time": "2023-06-30T13:14:14.237Z"
   },
   {
    "duration": 13,
    "start_time": "2023-06-30T13:14:14.799Z"
   },
   {
    "duration": 8,
    "start_time": "2023-06-30T13:15:21.999Z"
   },
   {
    "duration": 3,
    "start_time": "2023-06-30T13:15:22.801Z"
   },
   {
    "duration": 9,
    "start_time": "2023-06-30T13:15:23.587Z"
   },
   {
    "duration": 108,
    "start_time": "2023-06-30T13:15:23.984Z"
   },
   {
    "duration": 1087,
    "start_time": "2023-06-30T13:26:04.957Z"
   },
   {
    "duration": 39,
    "start_time": "2023-06-30T13:26:06.914Z"
   },
   {
    "duration": 11,
    "start_time": "2023-06-30T13:26:07.246Z"
   },
   {
    "duration": 21,
    "start_time": "2023-06-30T13:26:07.670Z"
   },
   {
    "duration": 750,
    "start_time": "2023-06-30T13:26:07.763Z"
   },
   {
    "duration": 6,
    "start_time": "2023-06-30T13:26:08.514Z"
   },
   {
    "duration": 13,
    "start_time": "2023-06-30T13:26:08.767Z"
   },
   {
    "duration": 10,
    "start_time": "2023-06-30T13:26:15.579Z"
   },
   {
    "duration": 4,
    "start_time": "2023-06-30T13:26:16.580Z"
   },
   {
    "duration": 4,
    "start_time": "2023-06-30T13:26:20.147Z"
   },
   {
    "duration": 9,
    "start_time": "2023-06-30T13:26:21.467Z"
   },
   {
    "duration": 116,
    "start_time": "2023-06-30T13:26:22.216Z"
   },
   {
    "duration": 1055,
    "start_time": "2023-06-30T13:26:37.815Z"
   },
   {
    "duration": 42,
    "start_time": "2023-06-30T13:26:38.872Z"
   },
   {
    "duration": 13,
    "start_time": "2023-06-30T13:26:38.915Z"
   },
   {
    "duration": 29,
    "start_time": "2023-06-30T13:26:38.929Z"
   },
   {
    "duration": 785,
    "start_time": "2023-06-30T13:26:38.960Z"
   },
   {
    "duration": 5,
    "start_time": "2023-06-30T13:26:39.747Z"
   },
   {
    "duration": 12,
    "start_time": "2023-06-30T13:26:39.868Z"
   },
   {
    "duration": 8,
    "start_time": "2023-06-30T13:26:50.364Z"
   },
   {
    "duration": 3,
    "start_time": "2023-06-30T13:26:52.562Z"
   },
   {
    "duration": 9,
    "start_time": "2023-06-30T13:26:53.147Z"
   },
   {
    "duration": 106,
    "start_time": "2023-06-30T13:26:53.358Z"
   },
   {
    "duration": 6,
    "start_time": "2023-06-30T13:26:54.483Z"
   },
   {
    "duration": 24,
    "start_time": "2023-06-30T13:26:54.772Z"
   },
   {
    "duration": 6,
    "start_time": "2023-06-30T13:40:41.821Z"
   },
   {
    "duration": 7,
    "start_time": "2023-06-30T13:40:42.593Z"
   },
   {
    "duration": 15,
    "start_time": "2023-06-30T13:40:43.113Z"
   },
   {
    "duration": 15,
    "start_time": "2023-06-30T13:40:45.160Z"
   },
   {
    "duration": 6,
    "start_time": "2023-06-30T13:41:15.582Z"
   },
   {
    "duration": 10,
    "start_time": "2023-06-30T13:41:15.996Z"
   },
   {
    "duration": 14,
    "start_time": "2023-06-30T13:41:16.385Z"
   },
   {
    "duration": 17,
    "start_time": "2023-06-30T13:41:21.532Z"
   },
   {
    "duration": 8,
    "start_time": "2023-06-30T13:41:47.008Z"
   },
   {
    "duration": 3,
    "start_time": "2023-06-30T13:41:47.716Z"
   },
   {
    "duration": 4,
    "start_time": "2023-06-30T13:41:48.107Z"
   },
   {
    "duration": 9,
    "start_time": "2023-06-30T13:41:48.894Z"
   },
   {
    "duration": 13,
    "start_time": "2023-06-30T13:41:49.328Z"
   },
   {
    "duration": 1190,
    "start_time": "2023-07-03T19:25:58.292Z"
   },
   {
    "duration": 140,
    "start_time": "2023-07-03T19:25:59.484Z"
   },
   {
    "duration": 18,
    "start_time": "2023-07-03T19:25:59.626Z"
   },
   {
    "duration": 43,
    "start_time": "2023-07-03T19:25:59.716Z"
   },
   {
    "duration": 1220,
    "start_time": "2023-07-03T19:25:59.969Z"
   },
   {
    "duration": 6,
    "start_time": "2023-07-03T19:26:01.192Z"
   },
   {
    "duration": 505,
    "start_time": "2023-07-03T19:26:01.200Z"
   },
   {
    "duration": 11,
    "start_time": "2023-07-03T19:26:14.207Z"
   },
   {
    "duration": 5,
    "start_time": "2023-07-03T19:26:15.160Z"
   },
   {
    "duration": 4,
    "start_time": "2023-07-03T19:26:15.667Z"
   },
   {
    "duration": 13,
    "start_time": "2023-07-03T19:26:16.643Z"
   },
   {
    "duration": 125,
    "start_time": "2023-07-03T19:26:17.466Z"
   },
   {
    "duration": 5,
    "start_time": "2023-07-03T19:26:28.096Z"
   },
   {
    "duration": 12,
    "start_time": "2023-07-03T19:26:28.778Z"
   },
   {
    "duration": 8,
    "start_time": "2023-07-03T19:26:29.188Z"
   },
   {
    "duration": 5,
    "start_time": "2023-07-03T19:28:16.839Z"
   },
   {
    "duration": 10,
    "start_time": "2023-07-03T19:28:17.986Z"
   },
   {
    "duration": 84,
    "start_time": "2023-07-03T19:28:18.441Z"
   },
   {
    "duration": 7,
    "start_time": "2023-07-03T19:28:20.202Z"
   },
   {
    "duration": 1273,
    "start_time": "2023-07-10T12:28:00.534Z"
   },
   {
    "duration": 152,
    "start_time": "2023-07-10T12:28:01.809Z"
   },
   {
    "duration": 20,
    "start_time": "2023-07-10T12:28:02.057Z"
   },
   {
    "duration": 27,
    "start_time": "2023-07-10T12:28:02.500Z"
   },
   {
    "duration": 1169,
    "start_time": "2023-07-10T12:28:02.776Z"
   },
   {
    "duration": 15,
    "start_time": "2023-07-10T12:28:03.948Z"
   },
   {
    "duration": 23,
    "start_time": "2023-07-10T12:28:03.965Z"
   },
   {
    "duration": 14,
    "start_time": "2023-07-10T12:28:11.678Z"
   },
   {
    "duration": 4,
    "start_time": "2023-07-10T12:28:12.438Z"
   },
   {
    "duration": 7,
    "start_time": "2023-07-10T12:28:12.781Z"
   },
   {
    "duration": 13,
    "start_time": "2023-07-10T12:28:14.218Z"
   },
   {
    "duration": 258,
    "start_time": "2023-07-10T12:28:14.722Z"
   },
   {
    "duration": 5,
    "start_time": "2023-07-10T12:29:23.206Z"
   },
   {
    "duration": 12,
    "start_time": "2023-07-10T12:29:26.092Z"
   },
   {
    "duration": 21,
    "start_time": "2023-07-10T12:29:26.591Z"
   },
   {
    "duration": 12,
    "start_time": "2023-07-10T12:29:31.497Z"
   },
   {
    "duration": 9,
    "start_time": "2023-07-10T12:29:32.313Z"
   },
   {
    "duration": 11,
    "start_time": "2023-07-10T12:29:34.906Z"
   },
   {
    "duration": 16,
    "start_time": "2023-07-10T12:29:35.200Z"
   },
   {
    "duration": 4,
    "start_time": "2023-07-10T12:29:45.292Z"
   },
   {
    "duration": 12,
    "start_time": "2023-07-10T12:29:47.418Z"
   },
   {
    "duration": 22,
    "start_time": "2023-07-10T12:29:47.745Z"
   },
   {
    "duration": 9,
    "start_time": "2023-07-10T12:29:52.795Z"
   },
   {
    "duration": 4,
    "start_time": "2023-07-10T12:29:53.632Z"
   },
   {
    "duration": 11,
    "start_time": "2023-07-10T12:29:56.192Z"
   },
   {
    "duration": 10,
    "start_time": "2023-07-10T12:29:56.546Z"
   },
   {
    "duration": 7,
    "start_time": "2023-07-10T12:29:59.609Z"
   },
   {
    "duration": 11,
    "start_time": "2023-07-10T12:29:59.929Z"
   },
   {
    "duration": 18,
    "start_time": "2023-07-10T12:30:28.858Z"
   },
   {
    "duration": 4,
    "start_time": "2023-07-10T12:30:40.033Z"
   },
   {
    "duration": 15,
    "start_time": "2023-07-10T12:30:42.689Z"
   },
   {
    "duration": 15,
    "start_time": "2023-07-10T12:30:43.025Z"
   },
   {
    "duration": 8,
    "start_time": "2023-07-10T12:30:47.546Z"
   },
   {
    "duration": 4,
    "start_time": "2023-07-10T12:30:48.401Z"
   },
   {
    "duration": 9,
    "start_time": "2023-07-10T12:30:50.891Z"
   },
   {
    "duration": 15,
    "start_time": "2023-07-10T12:30:51.226Z"
   },
   {
    "duration": 1605,
    "start_time": "2023-07-13T10:19:14.445Z"
   },
   {
    "duration": 177,
    "start_time": "2023-07-13T10:19:16.824Z"
   },
   {
    "duration": 18,
    "start_time": "2023-07-13T10:19:17.729Z"
   },
   {
    "duration": 27,
    "start_time": "2023-07-13T10:19:18.138Z"
   },
   {
    "duration": 1520,
    "start_time": "2023-07-13T10:19:18.550Z"
   },
   {
    "duration": 7,
    "start_time": "2023-07-13T10:19:20.078Z"
   },
   {
    "duration": 56,
    "start_time": "2023-07-13T10:19:20.087Z"
   },
   {
    "duration": 12,
    "start_time": "2023-07-13T10:19:31.958Z"
   },
   {
    "duration": 19,
    "start_time": "2023-07-13T10:19:38.225Z"
   },
   {
    "duration": 10,
    "start_time": "2023-07-13T10:19:39.630Z"
   },
   {
    "duration": 11,
    "start_time": "2023-07-13T10:19:41.229Z"
   },
   {
    "duration": 14,
    "start_time": "2023-07-13T10:19:47.939Z"
   },
   {
    "duration": 171,
    "start_time": "2023-07-13T10:19:48.531Z"
   },
   {
    "duration": 16,
    "start_time": "2023-07-13T10:19:54.624Z"
   },
   {
    "duration": 15,
    "start_time": "2023-07-13T10:19:57.939Z"
   },
   {
    "duration": 7,
    "start_time": "2023-07-13T10:20:02.888Z"
   },
   {
    "duration": 7,
    "start_time": "2023-07-13T10:20:13.559Z"
   },
   {
    "duration": 13,
    "start_time": "2023-07-13T10:20:25.750Z"
   },
   {
    "duration": 12,
    "start_time": "2023-07-13T10:20:40.027Z"
   },
   {
    "duration": 13,
    "start_time": "2023-07-13T10:21:22.237Z"
   },
   {
    "duration": 1251,
    "start_time": "2023-07-13T10:33:34.890Z"
   },
   {
    "duration": 73,
    "start_time": "2023-07-13T10:33:36.143Z"
   },
   {
    "duration": 29,
    "start_time": "2023-07-13T10:33:36.289Z"
   },
   {
    "duration": 52,
    "start_time": "2023-07-13T10:33:36.862Z"
   },
   {
    "duration": 1102,
    "start_time": "2023-07-13T10:33:37.214Z"
   },
   {
    "duration": 7,
    "start_time": "2023-07-13T10:33:38.488Z"
   },
   {
    "duration": 16,
    "start_time": "2023-07-13T10:33:38.920Z"
   },
   {
    "duration": 9,
    "start_time": "2023-07-13T10:33:50.557Z"
   },
   {
    "duration": 14,
    "start_time": "2023-07-13T10:33:55.333Z"
   },
   {
    "duration": 264,
    "start_time": "2023-07-13T10:33:56.760Z"
   },
   {
    "duration": 5,
    "start_time": "2023-07-13T10:34:13.517Z"
   },
   {
    "duration": 30,
    "start_time": "2023-07-13T10:34:16.862Z"
   },
   {
    "duration": 7,
    "start_time": "2023-07-13T10:34:47.930Z"
   },
   {
    "duration": 19,
    "start_time": "2023-07-13T10:35:31.687Z"
   },
   {
    "duration": 21,
    "start_time": "2023-07-13T10:35:58.213Z"
   },
   {
    "duration": 10,
    "start_time": "2023-07-13T10:36:39.635Z"
   },
   {
    "duration": 10,
    "start_time": "2023-07-13T10:36:40.860Z"
   },
   {
    "duration": 18,
    "start_time": "2023-07-13T10:38:08.337Z"
   },
   {
    "duration": 1280,
    "start_time": "2023-07-13T10:50:25.264Z"
   },
   {
    "duration": 53,
    "start_time": "2023-07-13T10:50:26.547Z"
   },
   {
    "duration": 19,
    "start_time": "2023-07-13T10:50:27.664Z"
   },
   {
    "duration": 37,
    "start_time": "2023-07-13T10:50:28.207Z"
   },
   {
    "duration": 1042,
    "start_time": "2023-07-13T10:50:28.733Z"
   },
   {
    "duration": 9,
    "start_time": "2023-07-13T10:50:30.021Z"
   },
   {
    "duration": 22,
    "start_time": "2023-07-13T10:50:30.537Z"
   },
   {
    "duration": 10,
    "start_time": "2023-07-13T10:50:55.917Z"
   },
   {
    "duration": 12,
    "start_time": "2023-07-13T10:52:57.760Z"
   },
   {
    "duration": 6,
    "start_time": "2023-07-13T10:52:58.760Z"
   },
   {
    "duration": 14,
    "start_time": "2023-07-13T10:53:01.917Z"
   },
   {
    "duration": 210,
    "start_time": "2023-07-13T10:53:02.545Z"
   },
   {
    "duration": 4,
    "start_time": "2023-07-13T10:53:20.622Z"
   },
   {
    "duration": 13,
    "start_time": "2023-07-13T10:53:21.343Z"
   },
   {
    "duration": 11,
    "start_time": "2023-07-13T10:53:21.802Z"
   },
   {
    "duration": 10,
    "start_time": "2023-07-13T10:53:31.549Z"
   },
   {
    "duration": 14,
    "start_time": "2023-07-13T10:53:31.739Z"
   },
   {
    "duration": 18,
    "start_time": "2023-07-13T10:53:43.518Z"
   },
   {
    "duration": 15,
    "start_time": "2023-07-13T10:54:20.105Z"
   },
   {
    "duration": 4,
    "start_time": "2023-07-13T10:54:44.821Z"
   },
   {
    "duration": 18,
    "start_time": "2023-07-13T10:54:45.341Z"
   },
   {
    "duration": 6,
    "start_time": "2023-07-13T10:56:16.640Z"
   },
   {
    "duration": 57,
    "start_time": "2023-07-13T10:56:17.113Z"
   },
   {
    "duration": 5,
    "start_time": "2023-07-13T10:56:29.136Z"
   },
   {
    "duration": 52,
    "start_time": "2023-07-13T10:56:29.418Z"
   },
   {
    "duration": 15,
    "start_time": "2023-07-13T12:10:23.645Z"
   },
   {
    "duration": 82,
    "start_time": "2023-07-13T12:10:40.889Z"
   },
   {
    "duration": 14,
    "start_time": "2023-07-13T12:11:36.205Z"
   },
   {
    "duration": 22,
    "start_time": "2023-07-13T12:11:47.613Z"
   },
   {
    "duration": 17,
    "start_time": "2023-07-13T12:11:54.621Z"
   },
   {
    "duration": 9,
    "start_time": "2023-07-13T12:12:03.518Z"
   },
   {
    "duration": 26,
    "start_time": "2023-07-13T12:12:04.162Z"
   },
   {
    "duration": 1287,
    "start_time": "2023-07-13T12:18:14.434Z"
   },
   {
    "duration": 56,
    "start_time": "2023-07-13T12:18:15.723Z"
   },
   {
    "duration": 13,
    "start_time": "2023-07-13T12:18:15.782Z"
   },
   {
    "duration": 26,
    "start_time": "2023-07-13T12:18:15.798Z"
   },
   {
    "duration": 1029,
    "start_time": "2023-07-13T12:18:15.826Z"
   },
   {
    "duration": 12,
    "start_time": "2023-07-13T12:18:16.857Z"
   },
   {
    "duration": 31,
    "start_time": "2023-07-13T12:18:16.873Z"
   },
   {
    "duration": 9,
    "start_time": "2023-07-13T12:18:21.930Z"
   },
   {
    "duration": 6,
    "start_time": "2023-07-13T12:18:22.354Z"
   },
   {
    "duration": 10,
    "start_time": "2023-07-13T12:18:22.826Z"
   },
   {
    "duration": 148,
    "start_time": "2023-07-13T12:18:23.131Z"
   },
   {
    "duration": 9,
    "start_time": "2023-07-13T12:18:24.055Z"
   },
   {
    "duration": 16,
    "start_time": "2023-07-13T12:18:24.625Z"
   },
   {
    "duration": 1309,
    "start_time": "2023-07-14T06:32:38.513Z"
   },
   {
    "duration": 120,
    "start_time": "2023-07-14T06:32:39.824Z"
   },
   {
    "duration": 13,
    "start_time": "2023-07-14T06:32:39.948Z"
   },
   {
    "duration": 32,
    "start_time": "2023-07-14T06:32:39.962Z"
   },
   {
    "duration": 966,
    "start_time": "2023-07-14T06:32:39.997Z"
   },
   {
    "duration": 6,
    "start_time": "2023-07-14T06:32:40.965Z"
   },
   {
    "duration": 15,
    "start_time": "2023-07-14T06:32:40.972Z"
   },
   {
    "duration": 9,
    "start_time": "2023-07-14T06:32:40.989Z"
   },
   {
    "duration": 6,
    "start_time": "2023-07-14T06:32:40.999Z"
   },
   {
    "duration": 52,
    "start_time": "2023-07-14T06:32:41.007Z"
   },
   {
    "duration": 190,
    "start_time": "2023-07-14T06:32:41.061Z"
   },
   {
    "duration": 12,
    "start_time": "2023-07-14T06:32:41.253Z"
   },
   {
    "duration": 89,
    "start_time": "2023-07-14T06:32:41.266Z"
   },
   {
    "duration": 21,
    "start_time": "2023-07-14T06:32:41.434Z"
   },
   {
    "duration": 9,
    "start_time": "2023-07-14T06:32:41.457Z"
   },
   {
    "duration": 18,
    "start_time": "2023-07-14T06:32:41.469Z"
   },
   {
    "duration": 318,
    "start_time": "2023-07-14T06:32:41.493Z"
   },
   {
    "duration": 0,
    "start_time": "2023-07-14T06:32:41.813Z"
   },
   {
    "duration": 1092,
    "start_time": "2023-07-14T19:31:15.213Z"
   },
   {
    "duration": 84,
    "start_time": "2023-07-14T19:31:17.203Z"
   },
   {
    "duration": 11,
    "start_time": "2023-07-14T19:31:17.910Z"
   },
   {
    "duration": 22,
    "start_time": "2023-07-14T19:31:18.172Z"
   },
   {
    "duration": 950,
    "start_time": "2023-07-14T19:31:18.489Z"
   },
   {
    "duration": 5,
    "start_time": "2023-07-14T19:31:19.441Z"
   },
   {
    "duration": 21,
    "start_time": "2023-07-14T19:31:19.450Z"
   },
   {
    "duration": 7,
    "start_time": "2023-07-14T19:31:28.772Z"
   },
   {
    "duration": 4,
    "start_time": "2023-07-14T19:31:29.572Z"
   },
   {
    "duration": 13,
    "start_time": "2023-07-14T19:31:30.721Z"
   },
   {
    "duration": 8,
    "start_time": "2023-07-14T19:31:31.249Z"
   },
   {
    "duration": 6,
    "start_time": "2023-07-14T19:31:32.642Z"
   },
   {
    "duration": 25,
    "start_time": "2023-07-14T19:31:33.201Z"
   },
   {
    "duration": 6,
    "start_time": "2023-07-14T19:31:43.392Z"
   },
   {
    "duration": 7,
    "start_time": "2023-07-14T19:31:43.733Z"
   },
   {
    "duration": 7,
    "start_time": "2023-07-14T19:31:44.501Z"
   },
   {
    "duration": 6,
    "start_time": "2023-07-14T19:32:27.631Z"
   },
   {
    "duration": 7,
    "start_time": "2023-07-14T19:32:28.023Z"
   },
   {
    "duration": 10,
    "start_time": "2023-07-14T19:32:28.482Z"
   },
   {
    "duration": 7,
    "start_time": "2023-07-14T19:32:35.802Z"
   },
   {
    "duration": 5,
    "start_time": "2023-07-14T19:33:01.711Z"
   },
   {
    "duration": 7,
    "start_time": "2023-07-14T19:33:02.091Z"
   },
   {
    "duration": 6,
    "start_time": "2023-07-14T19:33:02.732Z"
   },
   {
    "duration": 6,
    "start_time": "2023-07-14T19:33:04.164Z"
   },
   {
    "duration": 6,
    "start_time": "2023-07-14T19:34:25.522Z"
   },
   {
    "duration": 8,
    "start_time": "2023-07-14T19:34:25.881Z"
   },
   {
    "duration": 8,
    "start_time": "2023-07-14T19:34:26.271Z"
   },
   {
    "duration": 280,
    "start_time": "2023-07-14T19:34:27.919Z"
   },
   {
    "duration": 7,
    "start_time": "2023-07-14T19:34:51.023Z"
   },
   {
    "duration": 8,
    "start_time": "2023-07-14T19:34:51.480Z"
   },
   {
    "duration": 9,
    "start_time": "2023-07-14T19:34:51.873Z"
   },
   {
    "duration": 21,
    "start_time": "2023-07-14T19:34:52.972Z"
   },
   {
    "duration": 8,
    "start_time": "2023-07-14T19:35:04.813Z"
   },
   {
    "duration": 7,
    "start_time": "2023-07-14T19:35:05.213Z"
   },
   {
    "duration": 9,
    "start_time": "2023-07-14T19:35:05.332Z"
   },
   {
    "duration": 14,
    "start_time": "2023-07-14T19:35:06.441Z"
   },
   {
    "duration": 6,
    "start_time": "2023-07-14T19:41:10.413Z"
   },
   {
    "duration": 8,
    "start_time": "2023-07-14T19:41:10.743Z"
   },
   {
    "duration": 9,
    "start_time": "2023-07-14T19:41:11.134Z"
   },
   {
    "duration": 13,
    "start_time": "2023-07-14T19:41:12.413Z"
   },
   {
    "duration": 1017,
    "start_time": "2023-07-14T19:41:30.484Z"
   },
   {
    "duration": 108,
    "start_time": "2023-07-14T19:41:35.241Z"
   },
   {
    "duration": 3,
    "start_time": "2023-07-14T19:41:43.521Z"
   },
   {
    "duration": 42,
    "start_time": "2023-07-14T19:41:44.033Z"
   },
   {
    "duration": 12,
    "start_time": "2023-07-14T19:41:44.363Z"
   },
   {
    "duration": 23,
    "start_time": "2023-07-14T19:41:44.564Z"
   },
   {
    "duration": 890,
    "start_time": "2023-07-14T19:41:44.721Z"
   },
   {
    "duration": 6,
    "start_time": "2023-07-14T19:41:45.620Z"
   },
   {
    "duration": 28,
    "start_time": "2023-07-14T19:41:45.627Z"
   },
   {
    "duration": 8,
    "start_time": "2023-07-14T19:41:52.552Z"
   },
   {
    "duration": 4,
    "start_time": "2023-07-14T19:41:53.504Z"
   },
   {
    "duration": 10,
    "start_time": "2023-07-14T19:41:54.392Z"
   },
   {
    "duration": 9,
    "start_time": "2023-07-14T19:41:54.759Z"
   },
   {
    "duration": 7,
    "start_time": "2023-07-14T19:41:55.693Z"
   },
   {
    "duration": 14,
    "start_time": "2023-07-14T19:41:56.202Z"
   },
   {
    "duration": 7,
    "start_time": "2023-07-14T19:42:00.763Z"
   },
   {
    "duration": 7,
    "start_time": "2023-07-14T19:42:01.021Z"
   },
   {
    "duration": 14,
    "start_time": "2023-07-14T19:42:01.554Z"
   },
   {
    "duration": 21,
    "start_time": "2023-07-14T19:42:02.913Z"
   },
   {
    "duration": 8,
    "start_time": "2023-07-14T19:43:14.793Z"
   },
   {
    "duration": 8,
    "start_time": "2023-07-14T19:43:15.191Z"
   },
   {
    "duration": 9,
    "start_time": "2023-07-14T19:43:15.691Z"
   },
   {
    "duration": 13,
    "start_time": "2023-07-14T19:43:16.891Z"
   },
   {
    "duration": 7,
    "start_time": "2023-07-14T19:43:43.283Z"
   },
   {
    "duration": 7,
    "start_time": "2023-07-14T19:43:43.732Z"
   },
   {
    "duration": 7,
    "start_time": "2023-07-14T19:43:44.125Z"
   },
   {
    "duration": 14,
    "start_time": "2023-07-14T19:43:45.212Z"
   },
   {
    "duration": 6,
    "start_time": "2023-07-14T19:45:08.921Z"
   },
   {
    "duration": 7,
    "start_time": "2023-07-14T19:45:09.282Z"
   },
   {
    "duration": 7,
    "start_time": "2023-07-14T19:45:09.564Z"
   },
   {
    "duration": 21,
    "start_time": "2023-07-14T19:45:10.769Z"
   },
   {
    "duration": 7,
    "start_time": "2023-07-14T19:45:33.072Z"
   },
   {
    "duration": 7,
    "start_time": "2023-07-14T19:45:33.292Z"
   },
   {
    "duration": 7,
    "start_time": "2023-07-14T19:45:33.561Z"
   },
   {
    "duration": 14,
    "start_time": "2023-07-14T19:45:34.602Z"
   },
   {
    "duration": 11,
    "start_time": "2023-07-14T19:47:20.754Z"
   },
   {
    "duration": 9,
    "start_time": "2023-07-14T19:47:21.052Z"
   },
   {
    "duration": 9,
    "start_time": "2023-07-14T19:47:21.372Z"
   },
   {
    "duration": 14,
    "start_time": "2023-07-14T19:47:22.422Z"
   },
   {
    "duration": 10,
    "start_time": "2023-07-14T19:48:21.248Z"
   },
   {
    "duration": 8,
    "start_time": "2023-07-14T19:48:21.593Z"
   },
   {
    "duration": 10,
    "start_time": "2023-07-14T19:48:21.776Z"
   },
   {
    "duration": 31,
    "start_time": "2023-07-14T19:48:22.692Z"
   },
   {
    "duration": 7,
    "start_time": "2023-07-14T19:48:36.762Z"
   },
   {
    "duration": 6,
    "start_time": "2023-07-14T19:48:37.242Z"
   },
   {
    "duration": 8,
    "start_time": "2023-07-14T19:48:37.374Z"
   },
   {
    "duration": 32,
    "start_time": "2023-07-14T19:48:38.289Z"
   },
   {
    "duration": 7,
    "start_time": "2023-07-14T19:49:31.724Z"
   },
   {
    "duration": 9,
    "start_time": "2023-07-14T19:49:32.061Z"
   },
   {
    "duration": 10,
    "start_time": "2023-07-14T19:49:32.403Z"
   },
   {
    "duration": 29,
    "start_time": "2023-07-14T19:49:33.594Z"
   },
   {
    "duration": 8,
    "start_time": "2023-07-14T19:53:19.513Z"
   },
   {
    "duration": 6,
    "start_time": "2023-07-14T19:53:19.830Z"
   },
   {
    "duration": 8,
    "start_time": "2023-07-14T19:53:20.131Z"
   },
   {
    "duration": 18,
    "start_time": "2023-07-14T19:53:21.023Z"
   },
   {
    "duration": 5,
    "start_time": "2023-07-14T19:55:38.935Z"
   },
   {
    "duration": 7,
    "start_time": "2023-07-14T19:55:39.181Z"
   },
   {
    "duration": 7,
    "start_time": "2023-07-14T19:55:39.391Z"
   },
   {
    "duration": 11,
    "start_time": "2023-07-14T19:55:40.195Z"
   },
   {
    "duration": 6,
    "start_time": "2023-07-14T19:57:56.864Z"
   },
   {
    "duration": 8,
    "start_time": "2023-07-14T19:57:57.084Z"
   },
   {
    "duration": 7,
    "start_time": "2023-07-14T19:57:57.375Z"
   },
   {
    "duration": 18,
    "start_time": "2023-07-14T19:57:58.663Z"
   },
   {
    "duration": 5,
    "start_time": "2023-07-14T19:58:17.052Z"
   },
   {
    "duration": 6,
    "start_time": "2023-07-14T19:58:17.411Z"
   },
   {
    "duration": 8,
    "start_time": "2023-07-14T19:58:17.812Z"
   },
   {
    "duration": 70,
    "start_time": "2023-07-14T19:58:19.252Z"
   },
   {
    "duration": 81,
    "start_time": "2023-07-14T19:59:00.330Z"
   },
   {
    "duration": 7,
    "start_time": "2023-07-14T19:59:00.733Z"
   },
   {
    "duration": 6,
    "start_time": "2023-07-14T19:59:13.330Z"
   },
   {
    "duration": 7,
    "start_time": "2023-07-14T19:59:13.684Z"
   },
   {
    "duration": 8,
    "start_time": "2023-07-14T19:59:14.200Z"
   },
   {
    "duration": 12,
    "start_time": "2023-07-14T19:59:15.602Z"
   },
   {
    "duration": 5,
    "start_time": "2023-07-14T19:59:38.809Z"
   },
   {
    "duration": 7,
    "start_time": "2023-07-14T19:59:39.152Z"
   },
   {
    "duration": 8,
    "start_time": "2023-07-14T19:59:39.493Z"
   },
   {
    "duration": 22,
    "start_time": "2023-07-14T19:59:40.801Z"
   },
   {
    "duration": 6,
    "start_time": "2023-07-14T20:00:02.233Z"
   },
   {
    "duration": 7,
    "start_time": "2023-07-14T20:00:02.542Z"
   },
   {
    "duration": 8,
    "start_time": "2023-07-14T20:00:02.942Z"
   },
   {
    "duration": 12,
    "start_time": "2023-07-14T20:00:05.051Z"
   },
   {
    "duration": 6,
    "start_time": "2023-07-14T20:04:14.520Z"
   },
   {
    "duration": 8,
    "start_time": "2023-07-14T20:04:14.788Z"
   },
   {
    "duration": 8,
    "start_time": "2023-07-14T20:04:14.992Z"
   },
   {
    "duration": 13,
    "start_time": "2023-07-14T20:04:15.952Z"
   },
   {
    "duration": 5,
    "start_time": "2023-07-14T20:06:34.692Z"
   },
   {
    "duration": 6,
    "start_time": "2023-07-14T20:06:34.962Z"
   },
   {
    "duration": 9,
    "start_time": "2023-07-14T20:06:35.217Z"
   },
   {
    "duration": 7,
    "start_time": "2023-07-14T20:06:36.222Z"
   },
   {
    "duration": 1031,
    "start_time": "2023-07-15T09:02:57.827Z"
   },
   {
    "duration": 96,
    "start_time": "2023-07-15T09:02:59.431Z"
   },
   {
    "duration": 10,
    "start_time": "2023-07-15T09:03:00.219Z"
   },
   {
    "duration": 22,
    "start_time": "2023-07-15T09:03:00.427Z"
   },
   {
    "duration": 942,
    "start_time": "2023-07-15T09:03:00.647Z"
   },
   {
    "duration": 6,
    "start_time": "2023-07-15T09:03:01.591Z"
   },
   {
    "duration": 58,
    "start_time": "2023-07-15T09:03:01.599Z"
   },
   {
    "duration": 7,
    "start_time": "2023-07-15T09:03:07.947Z"
   },
   {
    "duration": 4,
    "start_time": "2023-07-15T09:03:08.745Z"
   },
   {
    "duration": 12,
    "start_time": "2023-07-15T09:03:09.828Z"
   },
   {
    "duration": 101,
    "start_time": "2023-07-15T09:03:10.368Z"
   },
   {
    "duration": 6,
    "start_time": "2023-07-15T09:03:12.098Z"
   },
   {
    "duration": 54,
    "start_time": "2023-07-15T09:03:12.617Z"
   },
   {
    "duration": 1080,
    "start_time": "2023-07-15T09:03:23.219Z"
   },
   {
    "duration": 41,
    "start_time": "2023-07-15T09:03:24.301Z"
   },
   {
    "duration": 11,
    "start_time": "2023-07-15T09:03:24.343Z"
   },
   {
    "duration": 22,
    "start_time": "2023-07-15T09:03:24.487Z"
   },
   {
    "duration": 737,
    "start_time": "2023-07-15T09:03:24.877Z"
   },
   {
    "duration": 5,
    "start_time": "2023-07-15T09:03:25.616Z"
   },
   {
    "duration": 12,
    "start_time": "2023-07-15T09:03:25.623Z"
   },
   {
    "duration": 15,
    "start_time": "2023-07-15T09:03:31.968Z"
   },
   {
    "duration": 4,
    "start_time": "2023-07-15T09:03:32.867Z"
   },
   {
    "duration": 13,
    "start_time": "2023-07-15T09:03:33.557Z"
   },
   {
    "duration": 131,
    "start_time": "2023-07-15T09:03:34.286Z"
   },
   {
    "duration": 6,
    "start_time": "2023-07-15T09:03:47.115Z"
   },
   {
    "duration": 8,
    "start_time": "2023-07-15T09:03:47.514Z"
   },
   {
    "duration": 11,
    "start_time": "2023-07-15T09:03:47.835Z"
   },
   {
    "duration": 363,
    "start_time": "2023-07-15T09:03:49.423Z"
   },
   {
    "duration": 5,
    "start_time": "2023-07-15T09:04:24.940Z"
   },
   {
    "duration": 7,
    "start_time": "2023-07-15T09:04:25.267Z"
   },
   {
    "duration": 8,
    "start_time": "2023-07-15T09:04:25.658Z"
   },
   {
    "duration": 7,
    "start_time": "2023-07-15T09:04:26.725Z"
   },
   {
    "duration": 9,
    "start_time": "2023-07-15T09:04:41.272Z"
   },
   {
    "duration": 8,
    "start_time": "2023-07-15T09:05:38.170Z"
   },
   {
    "duration": 8,
    "start_time": "2023-07-15T09:05:38.667Z"
   },
   {
    "duration": 10,
    "start_time": "2023-07-15T09:05:39.259Z"
   },
   {
    "duration": 8,
    "start_time": "2023-07-15T09:05:40.557Z"
   },
   {
    "duration": 17,
    "start_time": "2023-07-15T09:05:42.645Z"
   },
   {
    "duration": 1095,
    "start_time": "2023-07-15T09:06:20.487Z"
   },
   {
    "duration": 49,
    "start_time": "2023-07-15T09:06:21.735Z"
   },
   {
    "duration": 11,
    "start_time": "2023-07-15T09:06:22.674Z"
   },
   {
    "duration": 21,
    "start_time": "2023-07-15T09:06:23.174Z"
   },
   {
    "duration": 808,
    "start_time": "2023-07-15T09:06:23.693Z"
   },
   {
    "duration": 5,
    "start_time": "2023-07-15T09:06:25.127Z"
   },
   {
    "duration": 11,
    "start_time": "2023-07-15T09:06:25.875Z"
   },
   {
    "duration": 8,
    "start_time": "2023-07-15T09:06:35.399Z"
   },
   {
    "duration": 4,
    "start_time": "2023-07-15T09:06:36.227Z"
   },
   {
    "duration": 9,
    "start_time": "2023-07-15T09:06:37.466Z"
   },
   {
    "duration": 8,
    "start_time": "2023-07-15T09:06:38.257Z"
   },
   {
    "duration": 7,
    "start_time": "2023-07-15T09:06:39.915Z"
   },
   {
    "duration": 13,
    "start_time": "2023-07-15T09:06:40.445Z"
   },
   {
    "duration": 20,
    "start_time": "2023-07-15T09:07:16.507Z"
   },
   {
    "duration": 6,
    "start_time": "2023-07-15T09:07:41.967Z"
   },
   {
    "duration": 6,
    "start_time": "2023-07-15T09:07:42.557Z"
   },
   {
    "duration": 22,
    "start_time": "2023-07-15T09:07:43.067Z"
   },
   {
    "duration": 9,
    "start_time": "2023-07-15T09:07:44.488Z"
   },
   {
    "duration": 17,
    "start_time": "2023-07-15T09:07:47.306Z"
   },
   {
    "duration": 20,
    "start_time": "2023-07-15T09:08:00.148Z"
   },
   {
    "duration": 9,
    "start_time": "2023-07-15T09:08:17.361Z"
   },
   {
    "duration": 16,
    "start_time": "2023-07-15T09:08:56.177Z"
   },
   {
    "duration": 6,
    "start_time": "2023-07-15T09:10:43.939Z"
   },
   {
    "duration": 7,
    "start_time": "2023-07-15T09:10:44.775Z"
   },
   {
    "duration": 284,
    "start_time": "2023-07-15T09:10:45.456Z"
   },
   {
    "duration": 6,
    "start_time": "2023-07-15T09:10:55.726Z"
   },
   {
    "duration": 7,
    "start_time": "2023-07-15T09:10:56.175Z"
   },
   {
    "duration": 16,
    "start_time": "2023-07-15T09:10:56.676Z"
   },
   {
    "duration": 6,
    "start_time": "2023-07-15T09:11:29.287Z"
   },
   {
    "duration": 8,
    "start_time": "2023-07-15T09:11:30.035Z"
   },
   {
    "duration": 18,
    "start_time": "2023-07-15T09:11:30.625Z"
   },
   {
    "duration": 5,
    "start_time": "2023-07-15T09:11:41.197Z"
   },
   {
    "duration": 7,
    "start_time": "2023-07-15T09:11:41.546Z"
   },
   {
    "duration": 8,
    "start_time": "2023-07-15T09:11:41.886Z"
   },
   {
    "duration": 7,
    "start_time": "2023-07-15T09:11:43.697Z"
   },
   {
    "duration": 18,
    "start_time": "2023-07-15T09:11:46.063Z"
   },
   {
    "duration": 7,
    "start_time": "2023-07-15T09:12:10.024Z"
   },
   {
    "duration": 6,
    "start_time": "2023-07-15T09:16:42.536Z"
   },
   {
    "duration": 7,
    "start_time": "2023-07-15T09:16:43.153Z"
   },
   {
    "duration": 9,
    "start_time": "2023-07-15T09:16:43.975Z"
   },
   {
    "duration": 9,
    "start_time": "2023-07-15T09:16:45.675Z"
   },
   {
    "duration": 16,
    "start_time": "2023-07-15T09:16:47.684Z"
   },
   {
    "duration": 6,
    "start_time": "2023-07-15T09:16:49.565Z"
   },
   {
    "duration": 10,
    "start_time": "2023-07-15T09:17:17.504Z"
   },
   {
    "duration": 8,
    "start_time": "2023-07-15T09:18:14.175Z"
   },
   {
    "duration": 17,
    "start_time": "2023-07-15T09:18:22.144Z"
   },
   {
    "duration": 93,
    "start_time": "2023-07-15T09:18:35.376Z"
   },
   {
    "duration": 6,
    "start_time": "2023-07-15T09:18:36.815Z"
   },
   {
    "duration": 7,
    "start_time": "2023-07-15T09:18:58.242Z"
   },
   {
    "duration": 86,
    "start_time": "2023-07-15T09:19:07.283Z"
   },
   {
    "duration": 6,
    "start_time": "2023-07-15T09:23:58.434Z"
   },
   {
    "duration": 7,
    "start_time": "2023-07-15T09:23:59.065Z"
   },
   {
    "duration": 8,
    "start_time": "2023-07-15T09:23:59.650Z"
   },
   {
    "duration": 8,
    "start_time": "2023-07-15T09:24:01.022Z"
   },
   {
    "duration": 14,
    "start_time": "2023-07-15T09:24:03.484Z"
   },
   {
    "duration": 6,
    "start_time": "2023-07-15T09:24:04.473Z"
   },
   {
    "duration": 6,
    "start_time": "2023-07-15T09:29:01.066Z"
   },
   {
    "duration": 7,
    "start_time": "2023-07-15T09:29:01.306Z"
   },
   {
    "duration": 7,
    "start_time": "2023-07-15T09:29:01.925Z"
   },
   {
    "duration": 14,
    "start_time": "2023-07-15T09:29:03.245Z"
   },
   {
    "duration": 6,
    "start_time": "2023-07-15T09:31:49.915Z"
   },
   {
    "duration": 8,
    "start_time": "2023-07-15T09:31:50.187Z"
   },
   {
    "duration": 8,
    "start_time": "2023-07-15T09:31:50.463Z"
   },
   {
    "duration": 14,
    "start_time": "2023-07-15T09:31:51.173Z"
   },
   {
    "duration": 7,
    "start_time": "2023-07-15T09:39:10.336Z"
   },
   {
    "duration": 7,
    "start_time": "2023-07-15T09:39:10.968Z"
   },
   {
    "duration": 8,
    "start_time": "2023-07-15T09:39:11.177Z"
   },
   {
    "duration": 72,
    "start_time": "2023-07-15T09:39:12.196Z"
   },
   {
    "duration": 5,
    "start_time": "2023-07-15T09:39:55.346Z"
   },
   {
    "duration": 8,
    "start_time": "2023-07-15T09:39:55.589Z"
   },
   {
    "duration": 8,
    "start_time": "2023-07-15T09:39:55.914Z"
   },
   {
    "duration": 44,
    "start_time": "2023-07-15T09:39:56.924Z"
   },
   {
    "duration": 7,
    "start_time": "2023-07-15T09:40:15.185Z"
   },
   {
    "duration": 7,
    "start_time": "2023-07-15T09:40:15.616Z"
   },
   {
    "duration": 9,
    "start_time": "2023-07-15T09:40:16.170Z"
   },
   {
    "duration": 73,
    "start_time": "2023-07-15T09:40:17.496Z"
   },
   {
    "duration": 6,
    "start_time": "2023-07-15T09:40:43.408Z"
   },
   {
    "duration": 7,
    "start_time": "2023-07-15T09:40:43.844Z"
   },
   {
    "duration": 8,
    "start_time": "2023-07-15T09:40:44.194Z"
   },
   {
    "duration": 23,
    "start_time": "2023-07-15T09:40:45.055Z"
   },
   {
    "duration": 7,
    "start_time": "2023-07-15T09:40:59.227Z"
   },
   {
    "duration": 7,
    "start_time": "2023-07-15T09:40:59.665Z"
   },
   {
    "duration": 9,
    "start_time": "2023-07-15T09:40:59.986Z"
   },
   {
    "duration": 7,
    "start_time": "2023-07-15T09:41:00.904Z"
   },
   {
    "duration": 12,
    "start_time": "2023-07-15T09:41:08.465Z"
   },
   {
    "duration": 7,
    "start_time": "2023-07-15T09:41:10.202Z"
   },
   {
    "duration": 6,
    "start_time": "2023-07-15T09:44:12.749Z"
   },
   {
    "duration": 7,
    "start_time": "2023-07-15T09:44:13.562Z"
   },
   {
    "duration": 8,
    "start_time": "2023-07-15T09:44:14.304Z"
   },
   {
    "duration": 16,
    "start_time": "2023-07-15T09:44:15.846Z"
   },
   {
    "duration": 7,
    "start_time": "2023-07-15T09:44:38.158Z"
   },
   {
    "duration": 7,
    "start_time": "2023-07-15T09:44:38.866Z"
   },
   {
    "duration": 9,
    "start_time": "2023-07-15T09:44:39.596Z"
   },
   {
    "duration": 13,
    "start_time": "2023-07-15T09:44:41.557Z"
   },
   {
    "duration": 6,
    "start_time": "2023-07-15T09:46:40.829Z"
   },
   {
    "duration": 8,
    "start_time": "2023-07-15T09:46:41.295Z"
   },
   {
    "duration": 7,
    "start_time": "2023-07-15T09:46:41.684Z"
   },
   {
    "duration": 14,
    "start_time": "2023-07-15T09:46:43.196Z"
   },
   {
    "duration": 6,
    "start_time": "2023-07-15T09:47:06.266Z"
   },
   {
    "duration": 7,
    "start_time": "2023-07-15T09:47:06.674Z"
   },
   {
    "duration": 9,
    "start_time": "2023-07-15T09:47:06.908Z"
   },
   {
    "duration": 14,
    "start_time": "2023-07-15T09:47:08.186Z"
   },
   {
    "duration": 8,
    "start_time": "2023-07-15T09:47:24.348Z"
   },
   {
    "duration": 7,
    "start_time": "2023-07-15T09:47:24.735Z"
   },
   {
    "duration": 8,
    "start_time": "2023-07-15T09:47:25.166Z"
   },
   {
    "duration": 15,
    "start_time": "2023-07-15T09:47:26.420Z"
   },
   {
    "duration": 6,
    "start_time": "2023-07-15T09:48:18.409Z"
   },
   {
    "duration": 7,
    "start_time": "2023-07-15T09:48:18.942Z"
   },
   {
    "duration": 9,
    "start_time": "2023-07-15T09:48:19.326Z"
   },
   {
    "duration": 23,
    "start_time": "2023-07-15T09:48:20.596Z"
   },
   {
    "duration": 6,
    "start_time": "2023-07-15T09:48:38.996Z"
   },
   {
    "duration": 8,
    "start_time": "2023-07-15T09:48:39.467Z"
   },
   {
    "duration": 9,
    "start_time": "2023-07-15T09:48:39.756Z"
   },
   {
    "duration": 14,
    "start_time": "2023-07-15T09:48:40.664Z"
   },
   {
    "duration": 6,
    "start_time": "2023-07-15T09:49:26.606Z"
   },
   {
    "duration": 9,
    "start_time": "2023-07-15T09:49:27.196Z"
   },
   {
    "duration": 8,
    "start_time": "2023-07-15T09:49:27.656Z"
   },
   {
    "duration": 8,
    "start_time": "2023-07-15T09:49:28.927Z"
   },
   {
    "duration": 9,
    "start_time": "2023-07-15T09:49:33.627Z"
   },
   {
    "duration": 14,
    "start_time": "2023-07-15T09:49:41.409Z"
   },
   {
    "duration": 6,
    "start_time": "2023-07-15T09:50:21.797Z"
   },
   {
    "duration": 8,
    "start_time": "2023-07-15T09:50:22.207Z"
   },
   {
    "duration": 7,
    "start_time": "2023-07-15T09:50:22.428Z"
   },
   {
    "duration": 14,
    "start_time": "2023-07-15T09:50:23.237Z"
   },
   {
    "duration": 5,
    "start_time": "2023-07-15T09:50:45.975Z"
   },
   {
    "duration": 7,
    "start_time": "2023-07-15T09:50:46.420Z"
   },
   {
    "duration": 8,
    "start_time": "2023-07-15T09:50:46.877Z"
   },
   {
    "duration": 9,
    "start_time": "2023-07-15T09:50:48.433Z"
   },
   {
    "duration": 15,
    "start_time": "2023-07-15T09:51:00.548Z"
   },
   {
    "duration": 7,
    "start_time": "2023-07-15T09:51:02.876Z"
   },
   {
    "duration": 5,
    "start_time": "2023-07-15T09:51:56.179Z"
   },
   {
    "duration": 7,
    "start_time": "2023-07-15T09:51:56.755Z"
   },
   {
    "duration": 8,
    "start_time": "2023-07-15T09:51:57.457Z"
   },
   {
    "duration": 15,
    "start_time": "2023-07-15T09:51:58.858Z"
   },
   {
    "duration": 7,
    "start_time": "2023-07-15T09:54:37.647Z"
   },
   {
    "duration": 8,
    "start_time": "2023-07-15T09:54:38.109Z"
   },
   {
    "duration": 8,
    "start_time": "2023-07-15T09:54:38.798Z"
   },
   {
    "duration": 80,
    "start_time": "2023-07-15T09:54:40.197Z"
   },
   {
    "duration": 7,
    "start_time": "2023-07-15T09:55:24.545Z"
   },
   {
    "duration": 7,
    "start_time": "2023-07-15T09:55:24.797Z"
   },
   {
    "duration": 8,
    "start_time": "2023-07-15T09:55:25.085Z"
   },
   {
    "duration": 13,
    "start_time": "2023-07-15T09:55:26.205Z"
   },
   {
    "duration": 6,
    "start_time": "2023-07-15T09:55:51.220Z"
   },
   {
    "duration": 8,
    "start_time": "2023-07-15T09:55:51.657Z"
   },
   {
    "duration": 10,
    "start_time": "2023-07-15T09:55:53.067Z"
   },
   {
    "duration": 15,
    "start_time": "2023-07-15T09:56:00.619Z"
   },
   {
    "duration": 14,
    "start_time": "2023-07-15T09:56:06.900Z"
   },
   {
    "duration": 7,
    "start_time": "2023-07-15T09:56:42.148Z"
   },
   {
    "duration": 8,
    "start_time": "2023-07-15T09:56:42.506Z"
   },
   {
    "duration": 9,
    "start_time": "2023-07-15T09:56:42.797Z"
   },
   {
    "duration": 14,
    "start_time": "2023-07-15T09:56:43.657Z"
   },
   {
    "duration": 6,
    "start_time": "2023-07-15T09:57:17.037Z"
   },
   {
    "duration": 7,
    "start_time": "2023-07-15T09:57:17.475Z"
   },
   {
    "duration": 6,
    "start_time": "2023-07-15T09:57:17.807Z"
   },
   {
    "duration": 12,
    "start_time": "2023-07-15T09:57:19.473Z"
   },
   {
    "duration": 6,
    "start_time": "2023-07-15T09:57:36.570Z"
   },
   {
    "duration": 8,
    "start_time": "2023-07-15T09:57:37.257Z"
   },
   {
    "duration": 8,
    "start_time": "2023-07-15T09:57:37.487Z"
   },
   {
    "duration": 14,
    "start_time": "2023-07-15T09:57:38.560Z"
   },
   {
    "duration": 7,
    "start_time": "2023-07-15T09:59:20.137Z"
   },
   {
    "duration": 7,
    "start_time": "2023-07-15T09:59:20.365Z"
   },
   {
    "duration": 7,
    "start_time": "2023-07-15T09:59:20.565Z"
   },
   {
    "duration": 18,
    "start_time": "2023-07-15T09:59:21.356Z"
   },
   {
    "duration": 6,
    "start_time": "2023-07-15T10:00:44.557Z"
   },
   {
    "duration": 10,
    "start_time": "2023-07-15T10:00:45.257Z"
   },
   {
    "duration": 8,
    "start_time": "2023-07-15T10:00:45.897Z"
   },
   {
    "duration": 10,
    "start_time": "2023-07-15T10:00:47.372Z"
   },
   {
    "duration": 13,
    "start_time": "2023-07-15T10:00:50.610Z"
   },
   {
    "duration": 8,
    "start_time": "2023-07-15T10:01:04.458Z"
   },
   {
    "duration": 17,
    "start_time": "2023-07-15T10:01:08.578Z"
   },
   {
    "duration": 6,
    "start_time": "2023-07-15T10:01:10.600Z"
   },
   {
    "duration": 1148,
    "start_time": "2023-07-15T11:57:31.368Z"
   },
   {
    "duration": 92,
    "start_time": "2023-07-15T11:57:33.285Z"
   },
   {
    "duration": 14,
    "start_time": "2023-07-15T11:57:34.147Z"
   },
   {
    "duration": 24,
    "start_time": "2023-07-15T11:57:34.407Z"
   },
   {
    "duration": 1045,
    "start_time": "2023-07-15T11:57:34.651Z"
   },
   {
    "duration": 13,
    "start_time": "2023-07-15T11:57:35.699Z"
   },
   {
    "duration": 18,
    "start_time": "2023-07-15T11:57:35.714Z"
   },
   {
    "duration": 9,
    "start_time": "2023-07-15T11:57:41.645Z"
   },
   {
    "duration": 4,
    "start_time": "2023-07-15T11:57:42.069Z"
   },
   {
    "duration": 12,
    "start_time": "2023-07-15T11:57:42.507Z"
   },
   {
    "duration": 127,
    "start_time": "2023-07-15T11:57:42.754Z"
   },
   {
    "duration": 9,
    "start_time": "2023-07-15T11:57:43.536Z"
   },
   {
    "duration": 15,
    "start_time": "2023-07-15T11:57:43.880Z"
   },
   {
    "duration": 1149,
    "start_time": "2023-07-15T11:57:52.373Z"
   },
   {
    "duration": 43,
    "start_time": "2023-07-15T11:57:53.524Z"
   },
   {
    "duration": 12,
    "start_time": "2023-07-15T11:57:53.569Z"
   },
   {
    "duration": 26,
    "start_time": "2023-07-15T11:57:53.583Z"
   },
   {
    "duration": 856,
    "start_time": "2023-07-15T11:57:53.643Z"
   },
   {
    "duration": 11,
    "start_time": "2023-07-15T11:57:54.502Z"
   },
   {
    "duration": 16,
    "start_time": "2023-07-15T11:57:54.514Z"
   },
   {
    "duration": 8,
    "start_time": "2023-07-15T11:58:01.200Z"
   },
   {
    "duration": 4,
    "start_time": "2023-07-15T11:58:01.625Z"
   },
   {
    "duration": 9,
    "start_time": "2023-07-15T11:58:02.544Z"
   },
   {
    "duration": 10,
    "start_time": "2023-07-15T11:58:03.416Z"
   },
   {
    "duration": 8,
    "start_time": "2023-07-15T11:58:04.610Z"
   },
   {
    "duration": 12,
    "start_time": "2023-07-15T11:58:05.066Z"
   },
   {
    "duration": 13,
    "start_time": "2023-07-15T11:58:25.846Z"
   },
   {
    "duration": 13,
    "start_time": "2023-07-15T11:58:39.832Z"
   },
   {
    "duration": 17,
    "start_time": "2023-07-15T11:58:45.551Z"
   },
   {
    "duration": 6,
    "start_time": "2023-07-15T11:58:57.083Z"
   },
   {
    "duration": 8,
    "start_time": "2023-07-15T11:58:57.613Z"
   },
   {
    "duration": 10,
    "start_time": "2023-07-15T11:58:58.129Z"
   },
   {
    "duration": 8,
    "start_time": "2023-07-15T11:59:01.610Z"
   },
   {
    "duration": 15,
    "start_time": "2023-07-15T11:59:06.142Z"
   },
   {
    "duration": 8,
    "start_time": "2023-07-15T11:59:08.893Z"
   },
   {
    "duration": 8,
    "start_time": "2023-07-15T12:01:36.132Z"
   },
   {
    "duration": 9,
    "start_time": "2023-07-15T12:01:36.538Z"
   },
   {
    "duration": 9,
    "start_time": "2023-07-15T12:01:36.976Z"
   },
   {
    "duration": 257,
    "start_time": "2023-07-15T12:01:38.136Z"
   },
   {
    "duration": 8,
    "start_time": "2023-07-15T12:01:46.802Z"
   },
   {
    "duration": 8,
    "start_time": "2023-07-15T12:01:47.140Z"
   },
   {
    "duration": 8,
    "start_time": "2023-07-15T12:01:47.490Z"
   },
   {
    "duration": 19,
    "start_time": "2023-07-15T12:01:48.540Z"
   },
   {
    "duration": 7,
    "start_time": "2023-07-15T12:02:31.740Z"
   },
   {
    "duration": 8,
    "start_time": "2023-07-15T12:02:32.163Z"
   },
   {
    "duration": 8,
    "start_time": "2023-07-15T12:02:32.575Z"
   },
   {
    "duration": 8,
    "start_time": "2023-07-15T12:02:33.534Z"
   },
   {
    "duration": 16,
    "start_time": "2023-07-15T12:02:43.499Z"
   },
   {
    "duration": 9,
    "start_time": "2023-07-15T12:02:44.698Z"
   },
   {
    "duration": 7,
    "start_time": "2023-07-15T12:06:00.886Z"
   },
   {
    "duration": 8,
    "start_time": "2023-07-15T12:06:01.448Z"
   },
   {
    "duration": 8,
    "start_time": "2023-07-15T12:06:01.858Z"
   },
   {
    "duration": 19,
    "start_time": "2023-07-15T12:06:03.773Z"
   },
   {
    "duration": 7,
    "start_time": "2023-07-15T12:06:31.663Z"
   },
   {
    "duration": 9,
    "start_time": "2023-07-15T12:06:32.203Z"
   },
   {
    "duration": 8,
    "start_time": "2023-07-15T12:06:32.662Z"
   },
   {
    "duration": 15,
    "start_time": "2023-07-15T12:06:33.946Z"
   },
   {
    "duration": 7,
    "start_time": "2023-07-15T12:06:50.827Z"
   },
   {
    "duration": 8,
    "start_time": "2023-07-15T12:06:51.180Z"
   },
   {
    "duration": 7,
    "start_time": "2023-07-15T12:06:51.448Z"
   },
   {
    "duration": 15,
    "start_time": "2023-07-15T12:06:52.428Z"
   },
   {
    "duration": 11,
    "start_time": "2023-07-15T12:07:35.294Z"
   },
   {
    "duration": 10,
    "start_time": "2023-07-15T12:07:52.102Z"
   },
   {
    "duration": 6,
    "start_time": "2023-07-15T12:08:14.544Z"
   },
   {
    "duration": 7,
    "start_time": "2023-07-15T12:09:03.723Z"
   },
   {
    "duration": 6,
    "start_time": "2023-07-15T12:09:24.908Z"
   },
   {
    "duration": 7,
    "start_time": "2023-07-15T12:17:47.097Z"
   },
   {
    "duration": 6,
    "start_time": "2023-07-15T12:17:48.336Z"
   },
   {
    "duration": 7,
    "start_time": "2023-07-15T12:17:51.438Z"
   },
   {
    "duration": 7,
    "start_time": "2023-07-15T12:17:52.039Z"
   },
   {
    "duration": 7,
    "start_time": "2023-07-15T12:17:53.721Z"
   },
   {
    "duration": 16,
    "start_time": "2023-07-15T12:17:59.905Z"
   },
   {
    "duration": 9,
    "start_time": "2023-07-15T12:18:00.576Z"
   },
   {
    "duration": 7,
    "start_time": "2023-07-15T12:18:26.708Z"
   },
   {
    "duration": 6,
    "start_time": "2023-07-15T12:18:26.977Z"
   },
   {
    "duration": 8,
    "start_time": "2023-07-15T12:18:27.343Z"
   },
   {
    "duration": 8,
    "start_time": "2023-07-15T12:18:27.753Z"
   },
   {
    "duration": 16,
    "start_time": "2023-07-15T12:18:28.833Z"
   },
   {
    "duration": 8,
    "start_time": "2023-07-15T12:19:02.013Z"
   },
   {
    "duration": 6,
    "start_time": "2023-07-15T12:19:02.379Z"
   },
   {
    "duration": 8,
    "start_time": "2023-07-15T12:19:02.646Z"
   },
   {
    "duration": 9,
    "start_time": "2023-07-15T12:19:02.959Z"
   },
   {
    "duration": 7,
    "start_time": "2023-07-15T12:19:04.383Z"
   },
   {
    "duration": 15,
    "start_time": "2023-07-15T12:19:11.890Z"
   },
   {
    "duration": 9,
    "start_time": "2023-07-15T12:19:14.474Z"
   },
   {
    "duration": 8,
    "start_time": "2023-07-15T12:20:14.096Z"
   },
   {
    "duration": 6,
    "start_time": "2023-07-15T12:20:14.548Z"
   },
   {
    "duration": 10,
    "start_time": "2023-07-15T12:20:14.988Z"
   },
   {
    "duration": 8,
    "start_time": "2023-07-15T12:20:15.306Z"
   },
   {
    "duration": 8,
    "start_time": "2023-07-15T12:20:16.468Z"
   },
   {
    "duration": 17,
    "start_time": "2023-07-15T12:20:18.462Z"
   },
   {
    "duration": 8,
    "start_time": "2023-07-15T12:20:19.861Z"
   },
   {
    "duration": 8,
    "start_time": "2023-07-15T12:27:08.409Z"
   },
   {
    "duration": 5,
    "start_time": "2023-07-15T12:27:09.510Z"
   },
   {
    "duration": 8,
    "start_time": "2023-07-15T12:27:10.368Z"
   },
   {
    "duration": 8,
    "start_time": "2023-07-15T12:27:11.017Z"
   },
   {
    "duration": 8,
    "start_time": "2023-07-15T12:27:12.705Z"
   },
   {
    "duration": 12,
    "start_time": "2023-07-15T12:27:15.468Z"
   },
   {
    "duration": 8,
    "start_time": "2023-07-15T12:27:16.607Z"
   },
   {
    "duration": 7,
    "start_time": "2023-07-15T12:28:40.060Z"
   },
   {
    "duration": 6,
    "start_time": "2023-07-15T12:28:40.478Z"
   },
   {
    "duration": 8,
    "start_time": "2023-07-15T12:28:40.902Z"
   },
   {
    "duration": 8,
    "start_time": "2023-07-15T12:28:41.274Z"
   },
   {
    "duration": 15,
    "start_time": "2023-07-15T12:28:42.667Z"
   },
   {
    "duration": 1058,
    "start_time": "2023-07-15T12:29:03.963Z"
   },
   {
    "duration": 44,
    "start_time": "2023-07-15T12:29:05.023Z"
   },
   {
    "duration": 12,
    "start_time": "2023-07-15T12:29:05.069Z"
   },
   {
    "duration": 26,
    "start_time": "2023-07-15T12:29:05.083Z"
   },
   {
    "duration": 874,
    "start_time": "2023-07-15T12:29:05.170Z"
   },
   {
    "duration": 6,
    "start_time": "2023-07-15T12:29:06.047Z"
   },
   {
    "duration": 20,
    "start_time": "2023-07-15T12:29:06.054Z"
   },
   {
    "duration": 8,
    "start_time": "2023-07-15T12:29:11.491Z"
   },
   {
    "duration": 4,
    "start_time": "2023-07-15T12:29:11.895Z"
   },
   {
    "duration": 10,
    "start_time": "2023-07-15T12:29:12.319Z"
   },
   {
    "duration": 9,
    "start_time": "2023-07-15T12:29:12.532Z"
   },
   {
    "duration": 8,
    "start_time": "2023-07-15T12:29:13.212Z"
   },
   {
    "duration": 14,
    "start_time": "2023-07-15T12:29:13.597Z"
   },
   {
    "duration": 8,
    "start_time": "2023-07-15T12:29:18.255Z"
   },
   {
    "duration": 8,
    "start_time": "2023-07-15T12:29:18.432Z"
   },
   {
    "duration": 10,
    "start_time": "2023-07-15T12:29:18.662Z"
   },
   {
    "duration": 8,
    "start_time": "2023-07-15T12:29:20.190Z"
   },
   {
    "duration": 15,
    "start_time": "2023-07-15T12:29:22.036Z"
   },
   {
    "duration": 7,
    "start_time": "2023-07-15T12:29:22.532Z"
   },
   {
    "duration": 109,
    "start_time": "2023-07-15T12:30:52.616Z"
   },
   {
    "duration": 5,
    "start_time": "2023-07-15T12:31:24.320Z"
   },
   {
    "duration": 1177,
    "start_time": "2023-07-15T14:55:22.653Z"
   },
   {
    "duration": 52,
    "start_time": "2023-07-15T14:55:25.970Z"
   },
   {
    "duration": 20,
    "start_time": "2023-07-15T14:55:26.025Z"
   },
   {
    "duration": 27,
    "start_time": "2023-07-15T14:55:26.048Z"
   },
   {
    "duration": 1022,
    "start_time": "2023-07-15T14:55:26.076Z"
   },
   {
    "duration": 14,
    "start_time": "2023-07-15T14:55:27.100Z"
   },
   {
    "duration": 30,
    "start_time": "2023-07-15T14:55:27.116Z"
   },
   {
    "duration": 9,
    "start_time": "2023-07-15T14:55:32.946Z"
   },
   {
    "duration": 5,
    "start_time": "2023-07-15T14:55:33.410Z"
   },
   {
    "duration": 14,
    "start_time": "2023-07-15T14:55:33.898Z"
   },
   {
    "duration": 13,
    "start_time": "2023-07-15T14:55:34.130Z"
   },
   {
    "duration": 11,
    "start_time": "2023-07-15T14:55:34.642Z"
   },
   {
    "duration": 105,
    "start_time": "2023-07-15T14:55:34.910Z"
   },
   {
    "duration": 8,
    "start_time": "2023-07-15T14:55:38.856Z"
   },
   {
    "duration": 9,
    "start_time": "2023-07-15T14:55:39.079Z"
   },
   {
    "duration": 14,
    "start_time": "2023-07-15T14:55:39.316Z"
   },
   {
    "duration": 134,
    "start_time": "2023-07-15T14:55:40.348Z"
   },
   {
    "duration": 8,
    "start_time": "2023-07-15T14:56:15.988Z"
   },
   {
    "duration": 10,
    "start_time": "2023-07-15T14:56:16.328Z"
   },
   {
    "duration": 8,
    "start_time": "2023-07-15T14:56:16.672Z"
   },
   {
    "duration": 17,
    "start_time": "2023-07-15T14:56:17.560Z"
   },
   {
    "duration": 8,
    "start_time": "2023-07-15T14:56:21.676Z"
   },
   {
    "duration": 8,
    "start_time": "2023-07-15T14:56:21.899Z"
   },
   {
    "duration": 16,
    "start_time": "2023-07-15T14:56:22.108Z"
   },
   {
    "duration": 17,
    "start_time": "2023-07-15T14:56:22.973Z"
   },
   {
    "duration": 1246,
    "start_time": "2023-07-15T14:56:29.116Z"
   },
   {
    "duration": 45,
    "start_time": "2023-07-15T14:56:30.364Z"
   },
   {
    "duration": 53,
    "start_time": "2023-07-15T14:56:30.411Z"
   },
   {
    "duration": 72,
    "start_time": "2023-07-15T14:56:30.467Z"
   },
   {
    "duration": 954,
    "start_time": "2023-07-15T14:56:30.541Z"
   },
   {
    "duration": 18,
    "start_time": "2023-07-15T14:56:31.498Z"
   },
   {
    "duration": 38,
    "start_time": "2023-07-15T14:56:31.518Z"
   },
   {
    "duration": 11,
    "start_time": "2023-07-15T14:56:37.405Z"
   },
   {
    "duration": 4,
    "start_time": "2023-07-15T14:56:37.964Z"
   },
   {
    "duration": 10,
    "start_time": "2023-07-15T14:56:38.977Z"
   },
   {
    "duration": 10,
    "start_time": "2023-07-15T14:56:39.170Z"
   },
   {
    "duration": 8,
    "start_time": "2023-07-15T14:56:39.598Z"
   },
   {
    "duration": 23,
    "start_time": "2023-07-15T14:56:39.817Z"
   },
   {
    "duration": 8,
    "start_time": "2023-07-15T14:56:44.348Z"
   },
   {
    "duration": 10,
    "start_time": "2023-07-15T14:56:44.920Z"
   },
   {
    "duration": 10,
    "start_time": "2023-07-15T14:56:45.275Z"
   },
   {
    "duration": 9,
    "start_time": "2023-07-15T14:56:46.359Z"
   },
   {
    "duration": 13,
    "start_time": "2023-07-15T14:56:56.536Z"
   },
   {
    "duration": 15,
    "start_time": "2023-07-15T14:57:09.797Z"
   },
   {
    "duration": 8,
    "start_time": "2023-07-15T14:57:18.041Z"
   },
   {
    "duration": 6,
    "start_time": "2023-07-15T14:57:18.521Z"
   },
   {
    "duration": 8,
    "start_time": "2023-07-15T14:57:40.038Z"
   },
   {
    "duration": 8,
    "start_time": "2023-07-15T14:57:40.380Z"
   },
   {
    "duration": 8,
    "start_time": "2023-07-15T14:57:40.747Z"
   },
   {
    "duration": 7,
    "start_time": "2023-07-15T14:57:41.899Z"
   },
   {
    "duration": 26,
    "start_time": "2023-07-15T14:57:43.411Z"
   },
   {
    "duration": 10,
    "start_time": "2023-07-15T14:57:44.118Z"
   },
   {
    "duration": 111,
    "start_time": "2023-07-15T15:00:09.032Z"
   },
   {
    "duration": 8,
    "start_time": "2023-07-15T15:00:10.565Z"
   },
   {
    "duration": 11,
    "start_time": "2023-07-15T15:00:15.797Z"
   },
   {
    "duration": 27,
    "start_time": "2023-07-15T15:00:20.220Z"
   },
   {
    "duration": 13,
    "start_time": "2023-07-15T15:02:31.787Z"
   },
   {
    "duration": 14,
    "start_time": "2023-07-15T15:02:57.937Z"
   },
   {
    "duration": 16,
    "start_time": "2023-07-15T15:03:23.991Z"
   },
   {
    "duration": 10,
    "start_time": "2023-07-15T15:03:40.605Z"
   },
   {
    "duration": 17,
    "start_time": "2023-07-15T15:04:19.977Z"
   },
   {
    "duration": 17,
    "start_time": "2023-07-15T15:04:22.468Z"
   },
   {
    "duration": 11,
    "start_time": "2023-07-15T15:04:53.008Z"
   },
   {
    "duration": 9,
    "start_time": "2023-07-15T15:04:55.823Z"
   },
   {
    "duration": 9,
    "start_time": "2023-07-15T15:04:58.708Z"
   },
   {
    "duration": 10,
    "start_time": "2023-07-15T15:05:09.149Z"
   },
   {
    "duration": 12,
    "start_time": "2023-07-15T15:05:35.328Z"
   },
   {
    "duration": 6,
    "start_time": "2023-07-15T15:05:50.945Z"
   },
   {
    "duration": 13,
    "start_time": "2023-07-15T15:05:59.451Z"
   },
   {
    "duration": 10,
    "start_time": "2023-07-15T15:06:22.990Z"
   },
   {
    "duration": 12,
    "start_time": "2023-07-15T15:55:38.449Z"
   },
   {
    "duration": 1124,
    "start_time": "2023-07-15T20:00:23.756Z"
   },
   {
    "duration": 101,
    "start_time": "2023-07-15T20:00:24.886Z"
   },
   {
    "duration": 11,
    "start_time": "2023-07-15T20:00:25.856Z"
   },
   {
    "duration": 20,
    "start_time": "2023-07-15T20:00:26.073Z"
   },
   {
    "duration": 956,
    "start_time": "2023-07-15T20:00:26.388Z"
   },
   {
    "duration": 5,
    "start_time": "2023-07-15T20:00:27.346Z"
   },
   {
    "duration": 14,
    "start_time": "2023-07-15T20:00:27.843Z"
   },
   {
    "duration": 8,
    "start_time": "2023-07-15T20:07:22.423Z"
   },
   {
    "duration": 4,
    "start_time": "2023-07-15T20:07:23.254Z"
   },
   {
    "duration": 11,
    "start_time": "2023-07-15T20:07:24.113Z"
   },
   {
    "duration": 8,
    "start_time": "2023-07-15T20:07:24.794Z"
   },
   {
    "duration": 8,
    "start_time": "2023-07-15T20:07:25.793Z"
   },
   {
    "duration": 61,
    "start_time": "2023-07-15T20:07:26.261Z"
   },
   {
    "duration": 8,
    "start_time": "2023-07-15T20:10:32.793Z"
   },
   {
    "duration": 8,
    "start_time": "2023-07-15T20:10:33.393Z"
   },
   {
    "duration": 9,
    "start_time": "2023-07-15T20:10:33.943Z"
   },
   {
    "duration": 124,
    "start_time": "2023-07-15T20:10:35.011Z"
   },
   {
    "duration": 1089,
    "start_time": "2023-07-15T20:10:47.216Z"
   },
   {
    "duration": 40,
    "start_time": "2023-07-15T20:10:48.307Z"
   },
   {
    "duration": 13,
    "start_time": "2023-07-15T20:10:49.271Z"
   },
   {
    "duration": 22,
    "start_time": "2023-07-15T20:10:49.503Z"
   },
   {
    "duration": 758,
    "start_time": "2023-07-15T20:10:49.772Z"
   },
   {
    "duration": 6,
    "start_time": "2023-07-15T20:10:50.532Z"
   },
   {
    "duration": 32,
    "start_time": "2023-07-15T20:10:50.565Z"
   },
   {
    "duration": 8,
    "start_time": "2023-07-15T20:10:57.418Z"
   },
   {
    "duration": 4,
    "start_time": "2023-07-15T20:10:58.412Z"
   },
   {
    "duration": 49,
    "start_time": "2023-07-15T20:10:58.418Z"
   },
   {
    "duration": 8,
    "start_time": "2023-07-15T20:10:58.573Z"
   },
   {
    "duration": 7,
    "start_time": "2023-07-15T20:10:59.363Z"
   },
   {
    "duration": 13,
    "start_time": "2023-07-15T20:10:59.633Z"
   },
   {
    "duration": 7,
    "start_time": "2023-07-15T20:11:03.553Z"
   },
   {
    "duration": 7,
    "start_time": "2023-07-15T20:11:03.945Z"
   },
   {
    "duration": 9,
    "start_time": "2023-07-15T20:11:04.224Z"
   },
   {
    "duration": 132,
    "start_time": "2023-07-15T20:11:05.153Z"
   },
   {
    "duration": 6,
    "start_time": "2023-07-15T20:11:12.054Z"
   },
   {
    "duration": 7,
    "start_time": "2023-07-15T20:11:12.471Z"
   },
   {
    "duration": 8,
    "start_time": "2023-07-15T20:11:12.645Z"
   },
   {
    "duration": 7,
    "start_time": "2023-07-15T20:11:13.732Z"
   },
   {
    "duration": 10,
    "start_time": "2023-07-15T20:13:45.440Z"
   },
   {
    "duration": 4602,
    "start_time": "2023-07-16T14:15:50.967Z"
   },
   {
    "duration": 307,
    "start_time": "2023-07-16T14:15:55.572Z"
   },
   {
    "duration": 90,
    "start_time": "2023-07-16T14:15:55.889Z"
   },
   {
    "duration": 194,
    "start_time": "2023-07-16T14:15:55.989Z"
   },
   {
    "duration": 4776,
    "start_time": "2023-07-16T14:15:56.190Z"
   },
   {
    "duration": 15,
    "start_time": "2023-07-16T14:16:00.975Z"
   },
   {
    "duration": 187,
    "start_time": "2023-07-16T14:16:00.995Z"
   },
   {
    "duration": 91,
    "start_time": "2023-07-16T14:16:01.192Z"
   },
   {
    "duration": 279,
    "start_time": "2023-07-16T14:16:01.290Z"
   },
   {
    "duration": 111,
    "start_time": "2023-07-16T14:16:01.573Z"
   },
   {
    "duration": 886,
    "start_time": "2023-07-16T14:16:01.700Z"
   },
   {
    "duration": 0,
    "start_time": "2023-07-16T14:16:02.594Z"
   },
   {
    "duration": 0,
    "start_time": "2023-07-16T14:16:02.595Z"
   },
   {
    "duration": 0,
    "start_time": "2023-07-16T14:16:02.669Z"
   },
   {
    "duration": 0,
    "start_time": "2023-07-16T14:16:02.671Z"
   },
   {
    "duration": 0,
    "start_time": "2023-07-16T14:16:02.672Z"
   },
   {
    "duration": 0,
    "start_time": "2023-07-16T14:16:02.676Z"
   },
   {
    "duration": 5320,
    "start_time": "2023-07-16T14:21:31.471Z"
   },
   {
    "duration": 198,
    "start_time": "2023-07-16T14:21:36.801Z"
   },
   {
    "duration": 82,
    "start_time": "2023-07-16T14:21:37.004Z"
   },
   {
    "duration": 195,
    "start_time": "2023-07-16T14:21:37.096Z"
   },
   {
    "duration": 5380,
    "start_time": "2023-07-16T14:21:37.293Z"
   },
   {
    "duration": 21,
    "start_time": "2023-07-16T14:21:42.675Z"
   },
   {
    "duration": 113,
    "start_time": "2023-07-16T14:21:42.771Z"
   },
   {
    "duration": 26,
    "start_time": "2023-07-16T14:21:42.967Z"
   },
   {
    "duration": 9,
    "start_time": "2023-07-16T14:21:43.074Z"
   },
   {
    "duration": 185,
    "start_time": "2023-07-16T14:21:43.088Z"
   },
   {
    "duration": 802,
    "start_time": "2023-07-16T14:21:43.277Z"
   },
   {
    "duration": 0,
    "start_time": "2023-07-16T14:21:44.086Z"
   },
   {
    "duration": 0,
    "start_time": "2023-07-16T14:21:44.088Z"
   },
   {
    "duration": 0,
    "start_time": "2023-07-16T14:21:44.089Z"
   },
   {
    "duration": 0,
    "start_time": "2023-07-16T14:21:44.093Z"
   },
   {
    "duration": 0,
    "start_time": "2023-07-16T14:21:44.094Z"
   },
   {
    "duration": 0,
    "start_time": "2023-07-16T14:21:44.168Z"
   },
   {
    "duration": 5504,
    "start_time": "2023-07-16T14:22:17.569Z"
   },
   {
    "duration": 298,
    "start_time": "2023-07-16T14:22:23.079Z"
   },
   {
    "duration": 97,
    "start_time": "2023-07-16T14:22:23.383Z"
   },
   {
    "duration": 110,
    "start_time": "2023-07-16T14:22:23.484Z"
   },
   {
    "duration": 5409,
    "start_time": "2023-07-16T14:22:23.674Z"
   },
   {
    "duration": 18,
    "start_time": "2023-07-16T14:22:29.180Z"
   },
   {
    "duration": 99,
    "start_time": "2023-07-16T14:22:29.267Z"
   },
   {
    "duration": 95,
    "start_time": "2023-07-16T14:22:29.371Z"
   },
   {
    "duration": 13,
    "start_time": "2023-07-16T14:22:29.473Z"
   },
   {
    "duration": 93,
    "start_time": "2023-07-16T14:22:29.497Z"
   },
   {
    "duration": 778,
    "start_time": "2023-07-16T14:22:29.596Z"
   },
   {
    "duration": 0,
    "start_time": "2023-07-16T14:22:30.383Z"
   },
   {
    "duration": 0,
    "start_time": "2023-07-16T14:22:30.393Z"
   },
   {
    "duration": 0,
    "start_time": "2023-07-16T14:22:30.398Z"
   },
   {
    "duration": 0,
    "start_time": "2023-07-16T14:22:30.401Z"
   },
   {
    "duration": 0,
    "start_time": "2023-07-16T14:22:30.466Z"
   },
   {
    "duration": 0,
    "start_time": "2023-07-16T14:22:30.468Z"
   },
   {
    "duration": 4609,
    "start_time": "2023-07-16T14:32:04.377Z"
   },
   {
    "duration": 173,
    "start_time": "2023-07-16T14:32:08.994Z"
   },
   {
    "duration": 97,
    "start_time": "2023-07-16T14:32:09.174Z"
   },
   {
    "duration": 112,
    "start_time": "2023-07-16T14:32:09.277Z"
   },
   {
    "duration": 5083,
    "start_time": "2023-07-16T14:32:09.398Z"
   },
   {
    "duration": 15,
    "start_time": "2023-07-16T14:32:14.500Z"
   },
   {
    "duration": 155,
    "start_time": "2023-07-16T14:32:14.517Z"
   },
   {
    "duration": 26,
    "start_time": "2023-07-16T14:32:14.680Z"
   },
   {
    "duration": 18,
    "start_time": "2023-07-16T14:32:14.770Z"
   },
   {
    "duration": 78,
    "start_time": "2023-07-16T14:32:14.800Z"
   },
   {
    "duration": 623,
    "start_time": "2023-07-16T14:32:14.881Z"
   },
   {
    "duration": 0,
    "start_time": "2023-07-16T14:32:15.507Z"
   },
   {
    "duration": 0,
    "start_time": "2023-07-16T14:32:15.569Z"
   },
   {
    "duration": 0,
    "start_time": "2023-07-16T14:32:15.573Z"
   },
   {
    "duration": 0,
    "start_time": "2023-07-16T14:32:15.579Z"
   },
   {
    "duration": 0,
    "start_time": "2023-07-16T14:32:15.580Z"
   },
   {
    "duration": 0,
    "start_time": "2023-07-16T14:32:15.594Z"
   },
   {
    "duration": 1105,
    "start_time": "2023-07-16T15:25:22.913Z"
   },
   {
    "duration": 107,
    "start_time": "2023-07-16T15:25:24.021Z"
   },
   {
    "duration": 12,
    "start_time": "2023-07-16T15:25:24.792Z"
   },
   {
    "duration": 23,
    "start_time": "2023-07-16T15:25:25.035Z"
   },
   {
    "duration": 998,
    "start_time": "2023-07-16T15:25:25.292Z"
   },
   {
    "duration": 8,
    "start_time": "2023-07-16T15:25:26.292Z"
   },
   {
    "duration": 17,
    "start_time": "2023-07-16T15:25:26.302Z"
   },
   {
    "duration": 9,
    "start_time": "2023-07-16T15:25:32.465Z"
   },
   {
    "duration": 4,
    "start_time": "2023-07-16T15:25:33.034Z"
   },
   {
    "duration": 12,
    "start_time": "2023-07-16T15:25:33.535Z"
   },
   {
    "duration": 126,
    "start_time": "2023-07-16T15:25:33.945Z"
   },
   {
    "duration": 12,
    "start_time": "2023-07-16T15:25:59.634Z"
   },
   {
    "duration": 15,
    "start_time": "2023-07-16T15:27:23.102Z"
   },
   {
    "duration": 1158,
    "start_time": "2023-07-16T15:27:33.648Z"
   },
   {
    "duration": 42,
    "start_time": "2023-07-16T15:27:35.909Z"
   },
   {
    "duration": 12,
    "start_time": "2023-07-16T15:27:36.676Z"
   },
   {
    "duration": 24,
    "start_time": "2023-07-16T15:27:36.921Z"
   },
   {
    "duration": 811,
    "start_time": "2023-07-16T15:27:37.142Z"
   },
   {
    "duration": 5,
    "start_time": "2023-07-16T15:27:37.959Z"
   },
   {
    "duration": 14,
    "start_time": "2023-07-16T15:27:38.194Z"
   },
   {
    "duration": 9,
    "start_time": "2023-07-16T15:27:45.106Z"
   },
   {
    "duration": 4,
    "start_time": "2023-07-16T15:27:45.818Z"
   },
   {
    "duration": 10,
    "start_time": "2023-07-16T15:27:46.634Z"
   },
   {
    "duration": 9,
    "start_time": "2023-07-16T15:27:47.255Z"
   },
   {
    "duration": 1096,
    "start_time": "2023-07-16T15:30:06.299Z"
   },
   {
    "duration": 42,
    "start_time": "2023-07-16T15:30:08.255Z"
   },
   {
    "duration": 15,
    "start_time": "2023-07-16T15:30:08.513Z"
   },
   {
    "duration": 24,
    "start_time": "2023-07-16T15:30:08.647Z"
   },
   {
    "duration": 867,
    "start_time": "2023-07-16T15:30:08.880Z"
   },
   {
    "duration": 11,
    "start_time": "2023-07-16T15:30:09.749Z"
   },
   {
    "duration": 18,
    "start_time": "2023-07-16T15:30:09.762Z"
   },
   {
    "duration": 9,
    "start_time": "2023-07-16T15:30:15.389Z"
   },
   {
    "duration": 4,
    "start_time": "2023-07-16T15:30:15.838Z"
   },
   {
    "duration": 9,
    "start_time": "2023-07-16T15:30:16.266Z"
   },
   {
    "duration": 10,
    "start_time": "2023-07-16T15:30:16.465Z"
   },
   {
    "duration": 7,
    "start_time": "2023-07-16T15:30:18.000Z"
   },
   {
    "duration": 179,
    "start_time": "2023-07-16T15:30:18.938Z"
   },
   {
    "duration": 7,
    "start_time": "2023-07-16T15:30:22.234Z"
   },
   {
    "duration": 8,
    "start_time": "2023-07-16T15:30:22.408Z"
   },
   {
    "duration": 10,
    "start_time": "2023-07-16T15:30:22.634Z"
   },
   {
    "duration": 17,
    "start_time": "2023-07-16T15:30:23.605Z"
   },
   {
    "duration": 7,
    "start_time": "2023-07-16T15:30:43.214Z"
   },
   {
    "duration": 8,
    "start_time": "2023-07-16T15:30:43.656Z"
   },
   {
    "duration": 11,
    "start_time": "2023-07-16T15:30:44.153Z"
   },
   {
    "duration": 8,
    "start_time": "2023-07-16T15:30:45.406Z"
   },
   {
    "duration": 7,
    "start_time": "2023-07-16T15:30:50.565Z"
   },
   {
    "duration": 8,
    "start_time": "2023-07-16T15:30:50.904Z"
   },
   {
    "duration": 9,
    "start_time": "2023-07-16T15:30:51.305Z"
   },
   {
    "duration": 10,
    "start_time": "2023-07-16T15:30:52.417Z"
   },
   {
    "duration": 8,
    "start_time": "2023-07-16T15:30:55.764Z"
   },
   {
    "duration": 9,
    "start_time": "2023-07-16T15:30:56.028Z"
   },
   {
    "duration": 7,
    "start_time": "2023-07-16T15:30:56.337Z"
   },
   {
    "duration": 7,
    "start_time": "2023-07-16T15:30:57.362Z"
   },
   {
    "duration": 7,
    "start_time": "2023-07-16T15:31:03.214Z"
   },
   {
    "duration": 7,
    "start_time": "2023-07-16T15:31:03.435Z"
   },
   {
    "duration": 8,
    "start_time": "2023-07-16T15:31:03.764Z"
   },
   {
    "duration": 14,
    "start_time": "2023-07-16T15:31:04.506Z"
   },
   {
    "duration": 8,
    "start_time": "2023-07-16T15:31:08.035Z"
   },
   {
    "duration": 9,
    "start_time": "2023-07-16T15:31:08.305Z"
   },
   {
    "duration": 9,
    "start_time": "2023-07-16T15:31:08.808Z"
   },
   {
    "duration": 14,
    "start_time": "2023-07-16T15:31:09.767Z"
   },
   {
    "duration": 7,
    "start_time": "2023-07-16T15:31:17.397Z"
   },
   {
    "duration": 7,
    "start_time": "2023-07-16T15:31:17.905Z"
   },
   {
    "duration": 8,
    "start_time": "2023-07-16T15:31:18.201Z"
   },
   {
    "duration": 14,
    "start_time": "2023-07-16T15:31:19.247Z"
   },
   {
    "duration": 7,
    "start_time": "2023-07-16T15:31:24.465Z"
   },
   {
    "duration": 8,
    "start_time": "2023-07-16T15:31:24.739Z"
   },
   {
    "duration": 8,
    "start_time": "2023-07-16T15:31:25.115Z"
   },
   {
    "duration": 15,
    "start_time": "2023-07-16T15:31:26.148Z"
   },
   {
    "duration": 69,
    "start_time": "2023-07-16T15:34:32.797Z"
   },
   {
    "duration": 8,
    "start_time": "2023-07-16T15:34:33.402Z"
   },
   {
    "duration": 8,
    "start_time": "2023-07-16T15:35:01.745Z"
   },
   {
    "duration": 8,
    "start_time": "2023-07-16T15:35:02.137Z"
   },
   {
    "duration": 8,
    "start_time": "2023-07-16T15:35:02.489Z"
   },
   {
    "duration": 14,
    "start_time": "2023-07-16T15:35:03.171Z"
   },
   {
    "duration": 6,
    "start_time": "2023-07-16T15:35:07.245Z"
   },
   {
    "duration": 9,
    "start_time": "2023-07-16T15:35:07.453Z"
   },
   {
    "duration": 8,
    "start_time": "2023-07-16T15:35:07.634Z"
   },
   {
    "duration": 15,
    "start_time": "2023-07-16T15:35:08.505Z"
   },
   {
    "duration": 7,
    "start_time": "2023-07-16T15:35:11.001Z"
   },
   {
    "duration": 8,
    "start_time": "2023-07-16T15:35:11.206Z"
   },
   {
    "duration": 9,
    "start_time": "2023-07-16T15:35:11.403Z"
   },
   {
    "duration": 14,
    "start_time": "2023-07-16T15:35:12.313Z"
   },
   {
    "duration": 7,
    "start_time": "2023-07-16T15:35:15.443Z"
   },
   {
    "duration": 8,
    "start_time": "2023-07-16T15:35:15.706Z"
   },
   {
    "duration": 8,
    "start_time": "2023-07-16T15:35:15.900Z"
   },
   {
    "duration": 8,
    "start_time": "2023-07-16T15:35:16.523Z"
   },
   {
    "duration": 1087,
    "start_time": "2023-07-16T15:36:08.713Z"
   },
   {
    "duration": 43,
    "start_time": "2023-07-16T15:36:11.106Z"
   },
   {
    "duration": 14,
    "start_time": "2023-07-16T15:36:11.602Z"
   },
   {
    "duration": 25,
    "start_time": "2023-07-16T15:36:11.916Z"
   },
   {
    "duration": 870,
    "start_time": "2023-07-16T15:36:12.146Z"
   },
   {
    "duration": 6,
    "start_time": "2023-07-16T15:36:13.018Z"
   },
   {
    "duration": 13,
    "start_time": "2023-07-16T15:36:13.344Z"
   },
   {
    "duration": 8,
    "start_time": "2023-07-16T15:36:19.245Z"
   },
   {
    "duration": 4,
    "start_time": "2023-07-16T15:36:19.615Z"
   },
   {
    "duration": 10,
    "start_time": "2023-07-16T15:36:20.038Z"
   },
   {
    "duration": 110,
    "start_time": "2023-07-16T15:36:20.224Z"
   },
   {
    "duration": 15,
    "start_time": "2023-07-16T15:36:32.471Z"
   },
   {
    "duration": 1197,
    "start_time": "2023-07-16T15:36:49.137Z"
   },
   {
    "duration": 55,
    "start_time": "2023-07-16T15:36:50.336Z"
   },
   {
    "duration": 14,
    "start_time": "2023-07-16T15:36:51.035Z"
   },
   {
    "duration": 24,
    "start_time": "2023-07-16T15:36:51.205Z"
   },
   {
    "duration": 878,
    "start_time": "2023-07-16T15:36:51.424Z"
   },
   {
    "duration": 6,
    "start_time": "2023-07-16T15:36:52.305Z"
   },
   {
    "duration": 15,
    "start_time": "2023-07-16T15:36:52.313Z"
   },
   {
    "duration": 8,
    "start_time": "2023-07-16T15:36:59.234Z"
   },
   {
    "duration": 5,
    "start_time": "2023-07-16T15:37:00.056Z"
   },
   {
    "duration": 10,
    "start_time": "2023-07-16T15:37:01.144Z"
   },
   {
    "duration": 11,
    "start_time": "2023-07-16T15:37:01.854Z"
   },
   {
    "duration": 10,
    "start_time": "2023-07-16T15:37:03.966Z"
   },
   {
    "duration": 255,
    "start_time": "2023-07-16T15:37:04.454Z"
   },
   {
    "duration": 12,
    "start_time": "2023-07-16T15:37:09.014Z"
   },
   {
    "duration": 15,
    "start_time": "2023-07-16T15:37:20.614Z"
   },
   {
    "duration": 7,
    "start_time": "2023-07-16T15:37:29.002Z"
   },
   {
    "duration": 9,
    "start_time": "2023-07-16T15:37:29.542Z"
   },
   {
    "duration": 10,
    "start_time": "2023-07-16T15:37:30.197Z"
   },
   {
    "duration": 16,
    "start_time": "2023-07-16T15:37:31.705Z"
   },
   {
    "duration": 7,
    "start_time": "2023-07-16T15:37:35.435Z"
   },
   {
    "duration": 8,
    "start_time": "2023-07-16T15:37:35.836Z"
   },
   {
    "duration": 8,
    "start_time": "2023-07-16T15:37:36.435Z"
   },
   {
    "duration": 15,
    "start_time": "2023-07-16T15:37:37.497Z"
   },
   {
    "duration": 9,
    "start_time": "2023-07-16T15:37:41.065Z"
   },
   {
    "duration": 9,
    "start_time": "2023-07-16T15:37:41.534Z"
   },
   {
    "duration": 9,
    "start_time": "2023-07-16T15:37:42.044Z"
   },
   {
    "duration": 14,
    "start_time": "2023-07-16T15:37:43.402Z"
   },
   {
    "duration": 6,
    "start_time": "2023-07-16T15:37:58.710Z"
   },
   {
    "duration": 8,
    "start_time": "2023-07-16T15:37:59.113Z"
   },
   {
    "duration": 8,
    "start_time": "2023-07-16T15:37:59.609Z"
   },
   {
    "duration": 14,
    "start_time": "2023-07-16T15:38:00.966Z"
   },
   {
    "duration": 1494,
    "start_time": "2023-07-17T06:51:53.463Z"
   },
   {
    "duration": 138,
    "start_time": "2023-07-17T06:51:54.960Z"
   },
   {
    "duration": 16,
    "start_time": "2023-07-17T06:51:55.100Z"
   },
   {
    "duration": 41,
    "start_time": "2023-07-17T06:51:55.120Z"
   },
   {
    "duration": 1134,
    "start_time": "2023-07-17T06:51:55.163Z"
   },
   {
    "duration": 15,
    "start_time": "2023-07-17T06:51:56.299Z"
   },
   {
    "duration": 64,
    "start_time": "2023-07-17T06:51:56.316Z"
   },
   {
    "duration": 12,
    "start_time": "2023-07-17T06:51:56.382Z"
   },
   {
    "duration": 12,
    "start_time": "2023-07-17T06:51:56.396Z"
   },
   {
    "duration": 30,
    "start_time": "2023-07-17T06:51:56.412Z"
   },
   {
    "duration": 182,
    "start_time": "2023-07-17T06:51:56.444Z"
   },
   {
    "duration": 37,
    "start_time": "2023-07-17T06:51:56.629Z"
   },
   {
    "duration": 48,
    "start_time": "2023-07-17T06:51:56.668Z"
   },
   {
    "duration": 97,
    "start_time": "2023-07-17T06:51:56.719Z"
   },
   {
    "duration": 69,
    "start_time": "2023-07-17T06:51:56.819Z"
   },
   {
    "duration": 24,
    "start_time": "2023-07-17T06:51:56.890Z"
   },
   {
    "duration": 306,
    "start_time": "2023-07-17T06:51:56.916Z"
   },
   {
    "duration": 10,
    "start_time": "2023-07-17T12:09:14.474Z"
   },
   {
    "duration": 8,
    "start_time": "2023-07-17T12:09:20.364Z"
   },
   {
    "duration": 9,
    "start_time": "2023-07-17T12:09:25.260Z"
   },
   {
    "duration": 1621,
    "start_time": "2023-07-17T12:11:04.789Z"
   },
   {
    "duration": 143,
    "start_time": "2023-07-17T12:11:06.412Z"
   },
   {
    "duration": 12,
    "start_time": "2023-07-17T12:11:06.559Z"
   },
   {
    "duration": 86,
    "start_time": "2023-07-17T12:11:06.573Z"
   },
   {
    "duration": 1036,
    "start_time": "2023-07-17T12:11:06.664Z"
   },
   {
    "duration": 11,
    "start_time": "2023-07-17T12:11:07.702Z"
   },
   {
    "duration": 24,
    "start_time": "2023-07-17T12:11:07.715Z"
   },
   {
    "duration": 11,
    "start_time": "2023-07-17T12:11:07.741Z"
   },
   {
    "duration": 26,
    "start_time": "2023-07-17T12:11:07.757Z"
   },
   {
    "duration": 12,
    "start_time": "2023-07-17T12:11:07.786Z"
   },
   {
    "duration": 13,
    "start_time": "2023-07-17T12:11:07.800Z"
   },
   {
    "duration": 9,
    "start_time": "2023-07-17T12:11:07.817Z"
   },
   {
    "duration": 27,
    "start_time": "2023-07-17T12:11:07.828Z"
   },
   {
    "duration": 55,
    "start_time": "2023-07-17T12:11:07.858Z"
   },
   {
    "duration": 10,
    "start_time": "2023-07-17T12:11:07.916Z"
   },
   {
    "duration": 42,
    "start_time": "2023-07-17T12:11:07.928Z"
   },
   {
    "duration": 41,
    "start_time": "2023-07-17T12:11:08.015Z"
   },
   {
    "duration": 256,
    "start_time": "2023-07-17T12:11:08.062Z"
   },
   {
    "duration": 1389,
    "start_time": "2023-07-17T12:12:09.653Z"
   },
   {
    "duration": 43,
    "start_time": "2023-07-17T12:12:11.044Z"
   },
   {
    "duration": 12,
    "start_time": "2023-07-17T12:12:11.089Z"
   },
   {
    "duration": 32,
    "start_time": "2023-07-17T12:12:11.103Z"
   },
   {
    "duration": 961,
    "start_time": "2023-07-17T12:12:11.138Z"
   },
   {
    "duration": 20,
    "start_time": "2023-07-17T12:12:12.101Z"
   },
   {
    "duration": 27,
    "start_time": "2023-07-17T12:12:12.123Z"
   },
   {
    "duration": 18,
    "start_time": "2023-07-17T12:12:12.152Z"
   },
   {
    "duration": 12,
    "start_time": "2023-07-17T12:12:12.172Z"
   },
   {
    "duration": 12,
    "start_time": "2023-07-17T12:12:12.186Z"
   },
   {
    "duration": 151,
    "start_time": "2023-07-17T12:12:12.200Z"
   },
   {
    "duration": 0,
    "start_time": "2023-07-17T12:12:12.353Z"
   },
   {
    "duration": 0,
    "start_time": "2023-07-17T12:12:12.355Z"
   },
   {
    "duration": 0,
    "start_time": "2023-07-17T12:12:12.357Z"
   },
   {
    "duration": 0,
    "start_time": "2023-07-17T12:12:12.358Z"
   },
   {
    "duration": 0,
    "start_time": "2023-07-17T12:12:12.359Z"
   },
   {
    "duration": 0,
    "start_time": "2023-07-17T12:12:12.360Z"
   },
   {
    "duration": 0,
    "start_time": "2023-07-17T12:12:12.361Z"
   },
   {
    "duration": 1487,
    "start_time": "2023-07-17T12:19:16.840Z"
   },
   {
    "duration": 50,
    "start_time": "2023-07-17T12:19:18.329Z"
   },
   {
    "duration": 12,
    "start_time": "2023-07-17T12:19:18.381Z"
   },
   {
    "duration": 40,
    "start_time": "2023-07-17T12:19:18.395Z"
   },
   {
    "duration": 1013,
    "start_time": "2023-07-17T12:19:18.437Z"
   },
   {
    "duration": 7,
    "start_time": "2023-07-17T12:19:19.452Z"
   },
   {
    "duration": 44,
    "start_time": "2023-07-17T12:19:19.460Z"
   },
   {
    "duration": 10,
    "start_time": "2023-07-17T12:19:19.506Z"
   },
   {
    "duration": 25,
    "start_time": "2023-07-17T12:19:19.521Z"
   },
   {
    "duration": 21,
    "start_time": "2023-07-17T12:19:19.549Z"
   },
   {
    "duration": 172,
    "start_time": "2023-07-17T12:19:19.572Z"
   },
   {
    "duration": 0,
    "start_time": "2023-07-17T12:19:19.752Z"
   },
   {
    "duration": 0,
    "start_time": "2023-07-17T12:19:19.753Z"
   },
   {
    "duration": 0,
    "start_time": "2023-07-17T12:19:19.754Z"
   },
   {
    "duration": 0,
    "start_time": "2023-07-17T12:19:19.755Z"
   },
   {
    "duration": 0,
    "start_time": "2023-07-17T12:19:19.759Z"
   },
   {
    "duration": 0,
    "start_time": "2023-07-17T12:19:19.761Z"
   },
   {
    "duration": 0,
    "start_time": "2023-07-17T12:19:19.764Z"
   },
   {
    "duration": 1579,
    "start_time": "2023-07-17T12:20:01.805Z"
   },
   {
    "duration": 55,
    "start_time": "2023-07-17T12:20:03.387Z"
   },
   {
    "duration": 12,
    "start_time": "2023-07-17T12:20:03.444Z"
   },
   {
    "duration": 37,
    "start_time": "2023-07-17T12:20:03.459Z"
   },
   {
    "duration": 1010,
    "start_time": "2023-07-17T12:20:03.498Z"
   },
   {
    "duration": 15,
    "start_time": "2023-07-17T12:20:04.510Z"
   },
   {
    "duration": 27,
    "start_time": "2023-07-17T12:20:04.530Z"
   },
   {
    "duration": 16,
    "start_time": "2023-07-17T12:20:04.559Z"
   },
   {
    "duration": 9,
    "start_time": "2023-07-17T12:20:04.577Z"
   },
   {
    "duration": 30,
    "start_time": "2023-07-17T12:20:04.589Z"
   },
   {
    "duration": 27,
    "start_time": "2023-07-17T12:20:04.625Z"
   },
   {
    "duration": 29,
    "start_time": "2023-07-17T12:20:04.654Z"
   },
   {
    "duration": 62,
    "start_time": "2023-07-17T12:20:04.685Z"
   },
   {
    "duration": 68,
    "start_time": "2023-07-17T12:20:04.749Z"
   },
   {
    "duration": 28,
    "start_time": "2023-07-17T12:20:04.823Z"
   },
   {
    "duration": 98,
    "start_time": "2023-07-17T12:20:04.853Z"
   },
   {
    "duration": 187,
    "start_time": "2023-07-17T12:20:04.953Z"
   },
   {
    "duration": 285,
    "start_time": "2023-07-17T12:20:05.144Z"
   },
   {
    "duration": 1431,
    "start_time": "2023-07-17T12:21:21.394Z"
   },
   {
    "duration": 43,
    "start_time": "2023-07-17T12:21:22.835Z"
   },
   {
    "duration": 13,
    "start_time": "2023-07-17T12:21:22.880Z"
   },
   {
    "duration": 29,
    "start_time": "2023-07-17T12:21:22.895Z"
   },
   {
    "duration": 974,
    "start_time": "2023-07-17T12:21:22.926Z"
   },
   {
    "duration": 12,
    "start_time": "2023-07-17T12:21:23.902Z"
   },
   {
    "duration": 44,
    "start_time": "2023-07-17T12:21:23.915Z"
   },
   {
    "duration": 13,
    "start_time": "2023-07-17T12:21:23.961Z"
   },
   {
    "duration": 14,
    "start_time": "2023-07-17T12:21:23.976Z"
   },
   {
    "duration": 20,
    "start_time": "2023-07-17T12:21:23.992Z"
   },
   {
    "duration": 16,
    "start_time": "2023-07-17T12:21:24.018Z"
   },
   {
    "duration": 41,
    "start_time": "2023-07-17T12:21:24.037Z"
   },
   {
    "duration": 71,
    "start_time": "2023-07-17T12:21:24.080Z"
   },
   {
    "duration": 82,
    "start_time": "2023-07-17T12:21:24.154Z"
   },
   {
    "duration": 77,
    "start_time": "2023-07-17T12:21:24.238Z"
   },
   {
    "duration": 33,
    "start_time": "2023-07-17T12:21:24.319Z"
   },
   {
    "duration": 33,
    "start_time": "2023-07-17T12:21:24.353Z"
   },
   {
    "duration": 48,
    "start_time": "2023-07-17T12:21:24.387Z"
   },
   {
    "duration": 1308,
    "start_time": "2023-07-17T12:28:26.455Z"
   },
   {
    "duration": 42,
    "start_time": "2023-07-17T12:28:27.766Z"
   },
   {
    "duration": 24,
    "start_time": "2023-07-17T12:28:27.810Z"
   },
   {
    "duration": 28,
    "start_time": "2023-07-17T12:28:27.837Z"
   },
   {
    "duration": 954,
    "start_time": "2023-07-17T12:28:27.868Z"
   },
   {
    "duration": 14,
    "start_time": "2023-07-17T12:28:28.824Z"
   },
   {
    "duration": 151,
    "start_time": "2023-07-17T12:28:28.840Z"
   },
   {
    "duration": 58,
    "start_time": "2023-07-17T12:28:28.993Z"
   },
   {
    "duration": 8,
    "start_time": "2023-07-17T12:28:29.053Z"
   },
   {
    "duration": 14,
    "start_time": "2023-07-17T12:28:29.062Z"
   },
   {
    "duration": 10,
    "start_time": "2023-07-17T12:28:29.077Z"
   },
   {
    "duration": 32,
    "start_time": "2023-07-17T12:28:29.089Z"
   },
   {
    "duration": 31,
    "start_time": "2023-07-17T12:28:29.124Z"
   },
   {
    "duration": 60,
    "start_time": "2023-07-17T12:28:29.159Z"
   },
   {
    "duration": 24,
    "start_time": "2023-07-17T12:28:29.221Z"
   },
   {
    "duration": 25,
    "start_time": "2023-07-17T12:28:29.317Z"
   },
   {
    "duration": 8,
    "start_time": "2023-07-17T12:28:29.344Z"
   },
   {
    "duration": 1444,
    "start_time": "2023-07-17T12:28:54.791Z"
   },
   {
    "duration": 48,
    "start_time": "2023-07-17T12:28:56.238Z"
   },
   {
    "duration": 13,
    "start_time": "2023-07-17T12:28:56.289Z"
   },
   {
    "duration": 36,
    "start_time": "2023-07-17T12:28:56.304Z"
   },
   {
    "duration": 887,
    "start_time": "2023-07-17T12:28:56.342Z"
   },
   {
    "duration": 6,
    "start_time": "2023-07-17T12:28:57.231Z"
   },
   {
    "duration": 87,
    "start_time": "2023-07-17T12:28:57.238Z"
   },
   {
    "duration": 9,
    "start_time": "2023-07-17T12:28:57.333Z"
   },
   {
    "duration": 9,
    "start_time": "2023-07-17T12:28:57.344Z"
   },
   {
    "duration": 16,
    "start_time": "2023-07-17T12:28:57.356Z"
   },
   {
    "duration": 148,
    "start_time": "2023-07-17T12:28:57.374Z"
   },
   {
    "duration": 0,
    "start_time": "2023-07-17T12:28:57.524Z"
   },
   {
    "duration": 0,
    "start_time": "2023-07-17T12:28:57.525Z"
   },
   {
    "duration": 0,
    "start_time": "2023-07-17T12:28:57.525Z"
   },
   {
    "duration": 0,
    "start_time": "2023-07-17T12:28:57.526Z"
   },
   {
    "duration": 0,
    "start_time": "2023-07-17T12:28:57.527Z"
   },
   {
    "duration": 0,
    "start_time": "2023-07-17T12:28:57.528Z"
   },
   {
    "duration": 1469,
    "start_time": "2023-07-17T12:29:18.920Z"
   },
   {
    "duration": 70,
    "start_time": "2023-07-17T12:29:20.392Z"
   },
   {
    "duration": 18,
    "start_time": "2023-07-17T12:29:20.464Z"
   },
   {
    "duration": 68,
    "start_time": "2023-07-17T12:29:20.484Z"
   },
   {
    "duration": 1033,
    "start_time": "2023-07-17T12:29:20.555Z"
   },
   {
    "duration": 8,
    "start_time": "2023-07-17T12:29:21.591Z"
   },
   {
    "duration": 21,
    "start_time": "2023-07-17T12:29:21.613Z"
   },
   {
    "duration": 31,
    "start_time": "2023-07-17T12:29:21.635Z"
   },
   {
    "duration": 25,
    "start_time": "2023-07-17T12:29:21.668Z"
   },
   {
    "duration": 27,
    "start_time": "2023-07-17T12:29:21.695Z"
   },
   {
    "duration": 10,
    "start_time": "2023-07-17T12:29:21.724Z"
   },
   {
    "duration": 29,
    "start_time": "2023-07-17T12:29:21.736Z"
   },
   {
    "duration": 49,
    "start_time": "2023-07-17T12:29:21.767Z"
   },
   {
    "duration": 9,
    "start_time": "2023-07-17T12:29:21.819Z"
   },
   {
    "duration": 90,
    "start_time": "2023-07-17T12:29:21.831Z"
   },
   {
    "duration": 38,
    "start_time": "2023-07-17T12:29:21.923Z"
   },
   {
    "duration": 272,
    "start_time": "2023-07-17T12:29:21.964Z"
   },
   {
    "duration": 1036,
    "start_time": "2023-07-17T15:52:21.450Z"
   },
   {
    "duration": 84,
    "start_time": "2023-07-17T15:52:23.302Z"
   },
   {
    "duration": 10,
    "start_time": "2023-07-17T15:52:24.122Z"
   },
   {
    "duration": 23,
    "start_time": "2023-07-17T15:52:24.620Z"
   },
   {
    "duration": 874,
    "start_time": "2023-07-17T15:52:25.070Z"
   },
   {
    "duration": 6,
    "start_time": "2023-07-17T15:52:26.466Z"
   },
   {
    "duration": 11,
    "start_time": "2023-07-17T15:52:26.872Z"
   },
   {
    "duration": 7,
    "start_time": "2023-07-17T15:52:34.122Z"
   },
   {
    "duration": 3,
    "start_time": "2023-07-17T15:52:34.875Z"
   },
   {
    "duration": 11,
    "start_time": "2023-07-17T15:52:35.678Z"
   },
   {
    "duration": 9,
    "start_time": "2023-07-17T15:52:36.200Z"
   },
   {
    "duration": 7,
    "start_time": "2023-07-17T15:52:38.354Z"
   },
   {
    "duration": 102,
    "start_time": "2023-07-17T15:52:38.600Z"
   },
   {
    "duration": 6,
    "start_time": "2023-07-17T15:52:43.151Z"
   },
   {
    "duration": 7,
    "start_time": "2023-07-17T15:52:44.058Z"
   },
   {
    "duration": 7,
    "start_time": "2023-07-17T15:52:44.350Z"
   },
   {
    "duration": 118,
    "start_time": "2023-07-17T15:52:45.354Z"
   },
   {
    "duration": 6,
    "start_time": "2023-07-17T15:52:51.808Z"
   },
   {
    "duration": 6,
    "start_time": "2023-07-17T15:52:52.681Z"
   },
   {
    "duration": 7,
    "start_time": "2023-07-17T15:52:53.072Z"
   },
   {
    "duration": 6,
    "start_time": "2023-07-17T15:52:53.981Z"
   },
   {
    "duration": 1506,
    "start_time": "2023-07-18T07:06:14.216Z"
   },
   {
    "duration": 96,
    "start_time": "2023-07-18T07:06:15.725Z"
   },
   {
    "duration": 12,
    "start_time": "2023-07-18T07:06:15.823Z"
   },
   {
    "duration": 38,
    "start_time": "2023-07-18T07:06:15.836Z"
   },
   {
    "duration": 1099,
    "start_time": "2023-07-18T07:06:15.876Z"
   },
   {
    "duration": 7,
    "start_time": "2023-07-18T07:06:16.978Z"
   },
   {
    "duration": 29,
    "start_time": "2023-07-18T07:06:16.987Z"
   },
   {
    "duration": 11,
    "start_time": "2023-07-18T07:06:17.018Z"
   },
   {
    "duration": 23,
    "start_time": "2023-07-18T07:06:17.031Z"
   },
   {
    "duration": 13,
    "start_time": "2023-07-18T07:06:17.067Z"
   },
   {
    "duration": 194,
    "start_time": "2023-07-18T07:06:17.082Z"
   },
   {
    "duration": 32,
    "start_time": "2023-07-18T07:06:17.278Z"
   },
   {
    "duration": 56,
    "start_time": "2023-07-18T07:06:17.311Z"
   },
   {
    "duration": 106,
    "start_time": "2023-07-18T07:06:17.372Z"
   },
   {
    "duration": 13,
    "start_time": "2023-07-18T07:06:17.480Z"
   },
   {
    "duration": 58,
    "start_time": "2023-07-18T07:06:17.495Z"
   },
   {
    "duration": 104,
    "start_time": "2023-07-18T07:06:17.555Z"
   }
  ],
  "kernelspec": {
   "display_name": "Python 3 (ipykernel)",
   "language": "python",
   "name": "python3"
  },
  "language_info": {
   "codemirror_mode": {
    "name": "ipython",
    "version": 3
   },
   "file_extension": ".py",
   "mimetype": "text/x-python",
   "name": "python",
   "nbconvert_exporter": "python",
   "pygments_lexer": "ipython3",
   "version": "3.9.16"
  },
  "toc": {
   "base_numbering": 1,
   "nav_menu": {
    "height": "135px",
    "width": "191px"
   },
   "number_sections": true,
   "sideBar": true,
   "skip_h1_title": true,
   "title_cell": "Содержание",
   "title_sidebar": "Contents",
   "toc_cell": true,
   "toc_position": {
    "height": "calc(100% - 180px)",
    "left": "10px",
    "top": "150px",
    "width": "165px"
   },
   "toc_section_display": true,
   "toc_window_display": false
  }
 },
 "nbformat": 4,
 "nbformat_minor": 4
}
