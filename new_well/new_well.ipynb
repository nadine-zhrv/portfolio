{
 "cells": [
  {
   "cell_type": "markdown",
   "metadata": {},
   "source": [
    "# Выбор локации для скважины"
   ]
  },
  {
   "cell_type": "markdown",
   "metadata": {},
   "source": [
    "Допустим, вы работаете в добывающей компании «ГлавРосГосНефть». Нужно решить, где бурить новую скважину.\n",
    "\n",
    "Предоставлены пробы нефти в трёх регионах: в каждом 10 000 месторождений, где измерили качество нефти и объём её запасов. Постройте модель машинного обучения, которая поможет определить регион, где добыча принесёт наибольшую прибыль. Проанализируйте возможную прибыль и риски техникой *Bootstrap.*\n",
    "\n",
    "Шаги для выбора локации:\n",
    "\n",
    "- В избранном регионе ищут месторождения, для каждого определяют значения признаков;\n",
    "- Строят модель и оценивают объём запасов;\n",
    "- Выбирают месторождения с самым высокими оценками значений. Количество месторождений зависит от бюджета компании и стоимости разработки одной скважины;\n",
    "- Прибыль равна суммарной прибыли отобранных месторождений."
   ]
  },
  {
   "cell_type": "markdown",
   "metadata": {},
   "source": [
    "**Описание данных:**\n",
    "* **id** — уникальный идентификатор скважины;\n",
    "* **f0, f1, f2** — три признака точек;\n",
    "* **product** — объём запасов в скважине (тыс. баррелей).\n",
    "\n",
    "Данные синтетические."
   ]
  },
  {
   "cell_type": "markdown",
   "metadata": {},
   "source": [
    "## Загрузка и подготовка данных"
   ]
  },
  {
   "cell_type": "code",
   "execution_count": 1,
   "metadata": {},
   "outputs": [],
   "source": [
    "# импортируем библиотеки\n",
    "import pandas as pd\n",
    "import numpy as np\n",
    "import matplotlib.pyplot as plt\n",
    "from sklearn.model_selection import train_test_split\n",
    "from sklearn.linear_model import LinearRegression\n",
    "from sklearn.metrics import mean_squared_error"
   ]
  },
  {
   "cell_type": "markdown",
   "metadata": {},
   "source": [
    "### Общая информация"
   ]
  },
  {
   "cell_type": "code",
   "execution_count": 2,
   "metadata": {},
   "outputs": [
    {
     "data": {
      "text/html": [
       "<div>\n",
       "<style scoped>\n",
       "    .dataframe tbody tr th:only-of-type {\n",
       "        vertical-align: middle;\n",
       "    }\n",
       "\n",
       "    .dataframe tbody tr th {\n",
       "        vertical-align: top;\n",
       "    }\n",
       "\n",
       "    .dataframe thead th {\n",
       "        text-align: right;\n",
       "    }\n",
       "</style>\n",
       "<table border=\"1\" class=\"dataframe\">\n",
       "  <thead>\n",
       "    <tr style=\"text-align: right;\">\n",
       "      <th></th>\n",
       "      <th>id</th>\n",
       "      <th>f0</th>\n",
       "      <th>f1</th>\n",
       "      <th>f2</th>\n",
       "      <th>product</th>\n",
       "    </tr>\n",
       "  </thead>\n",
       "  <tbody>\n",
       "    <tr>\n",
       "      <th>0</th>\n",
       "      <td>txEyH</td>\n",
       "      <td>0.705745</td>\n",
       "      <td>-0.497823</td>\n",
       "      <td>1.221170</td>\n",
       "      <td>105.280062</td>\n",
       "    </tr>\n",
       "    <tr>\n",
       "      <th>1</th>\n",
       "      <td>2acmU</td>\n",
       "      <td>1.334711</td>\n",
       "      <td>-0.340164</td>\n",
       "      <td>4.365080</td>\n",
       "      <td>73.037750</td>\n",
       "    </tr>\n",
       "    <tr>\n",
       "      <th>2</th>\n",
       "      <td>409Wp</td>\n",
       "      <td>1.022732</td>\n",
       "      <td>0.151990</td>\n",
       "      <td>1.419926</td>\n",
       "      <td>85.265647</td>\n",
       "    </tr>\n",
       "    <tr>\n",
       "      <th>3</th>\n",
       "      <td>iJLyR</td>\n",
       "      <td>-0.032172</td>\n",
       "      <td>0.139033</td>\n",
       "      <td>2.978566</td>\n",
       "      <td>168.620776</td>\n",
       "    </tr>\n",
       "    <tr>\n",
       "      <th>4</th>\n",
       "      <td>Xdl7t</td>\n",
       "      <td>1.988431</td>\n",
       "      <td>0.155413</td>\n",
       "      <td>4.751769</td>\n",
       "      <td>154.036647</td>\n",
       "    </tr>\n",
       "  </tbody>\n",
       "</table>\n",
       "</div>"
      ],
      "text/plain": [
       "      id        f0        f1        f2     product\n",
       "0  txEyH  0.705745 -0.497823  1.221170  105.280062\n",
       "1  2acmU  1.334711 -0.340164  4.365080   73.037750\n",
       "2  409Wp  1.022732  0.151990  1.419926   85.265647\n",
       "3  iJLyR -0.032172  0.139033  2.978566  168.620776\n",
       "4  Xdl7t  1.988431  0.155413  4.751769  154.036647"
      ]
     },
     "execution_count": 2,
     "metadata": {},
     "output_type": "execute_result"
    }
   ],
   "source": [
    "# данные по первому региону\n",
    "try:\n",
    "    data_0 = pd.read_csv('/datasets/geo_data_0.csv')\n",
    "except:\n",
    "    data_0 = pd.read_csv('https://datasets/geo_data_0.csv')\n",
    "\n",
    "data_0.head()"
   ]
  },
  {
   "cell_type": "code",
   "execution_count": 3,
   "metadata": {},
   "outputs": [
    {
     "name": "stdout",
     "output_type": "stream",
     "text": [
      "<class 'pandas.core.frame.DataFrame'>\n",
      "RangeIndex: 100000 entries, 0 to 99999\n",
      "Data columns (total 5 columns):\n",
      " #   Column   Non-Null Count   Dtype  \n",
      "---  ------   --------------   -----  \n",
      " 0   id       100000 non-null  object \n",
      " 1   f0       100000 non-null  float64\n",
      " 2   f1       100000 non-null  float64\n",
      " 3   f2       100000 non-null  float64\n",
      " 4   product  100000 non-null  float64\n",
      "dtypes: float64(4), object(1)\n",
      "memory usage: 3.8+ MB\n"
     ]
    }
   ],
   "source": [
    "data_0.info()"
   ]
  },
  {
   "cell_type": "code",
   "execution_count": 4,
   "metadata": {},
   "outputs": [
    {
     "data": {
      "text/html": [
       "<div>\n",
       "<style scoped>\n",
       "    .dataframe tbody tr th:only-of-type {\n",
       "        vertical-align: middle;\n",
       "    }\n",
       "\n",
       "    .dataframe tbody tr th {\n",
       "        vertical-align: top;\n",
       "    }\n",
       "\n",
       "    .dataframe thead th {\n",
       "        text-align: right;\n",
       "    }\n",
       "</style>\n",
       "<table border=\"1\" class=\"dataframe\">\n",
       "  <thead>\n",
       "    <tr style=\"text-align: right;\">\n",
       "      <th></th>\n",
       "      <th>f0</th>\n",
       "      <th>f1</th>\n",
       "      <th>f2</th>\n",
       "      <th>product</th>\n",
       "    </tr>\n",
       "  </thead>\n",
       "  <tbody>\n",
       "    <tr>\n",
       "      <th>count</th>\n",
       "      <td>100000.000000</td>\n",
       "      <td>100000.000000</td>\n",
       "      <td>100000.000000</td>\n",
       "      <td>100000.000000</td>\n",
       "    </tr>\n",
       "    <tr>\n",
       "      <th>mean</th>\n",
       "      <td>0.500419</td>\n",
       "      <td>0.250143</td>\n",
       "      <td>2.502647</td>\n",
       "      <td>92.500000</td>\n",
       "    </tr>\n",
       "    <tr>\n",
       "      <th>std</th>\n",
       "      <td>0.871832</td>\n",
       "      <td>0.504433</td>\n",
       "      <td>3.248248</td>\n",
       "      <td>44.288691</td>\n",
       "    </tr>\n",
       "    <tr>\n",
       "      <th>min</th>\n",
       "      <td>-1.408605</td>\n",
       "      <td>-0.848218</td>\n",
       "      <td>-12.088328</td>\n",
       "      <td>0.000000</td>\n",
       "    </tr>\n",
       "    <tr>\n",
       "      <th>25%</th>\n",
       "      <td>-0.072580</td>\n",
       "      <td>-0.200881</td>\n",
       "      <td>0.287748</td>\n",
       "      <td>56.497507</td>\n",
       "    </tr>\n",
       "    <tr>\n",
       "      <th>50%</th>\n",
       "      <td>0.502360</td>\n",
       "      <td>0.250252</td>\n",
       "      <td>2.515969</td>\n",
       "      <td>91.849972</td>\n",
       "    </tr>\n",
       "    <tr>\n",
       "      <th>75%</th>\n",
       "      <td>1.073581</td>\n",
       "      <td>0.700646</td>\n",
       "      <td>4.715088</td>\n",
       "      <td>128.564089</td>\n",
       "    </tr>\n",
       "    <tr>\n",
       "      <th>max</th>\n",
       "      <td>2.362331</td>\n",
       "      <td>1.343769</td>\n",
       "      <td>16.003790</td>\n",
       "      <td>185.364347</td>\n",
       "    </tr>\n",
       "  </tbody>\n",
       "</table>\n",
       "</div>"
      ],
      "text/plain": [
       "                  f0             f1             f2        product\n",
       "count  100000.000000  100000.000000  100000.000000  100000.000000\n",
       "mean        0.500419       0.250143       2.502647      92.500000\n",
       "std         0.871832       0.504433       3.248248      44.288691\n",
       "min        -1.408605      -0.848218     -12.088328       0.000000\n",
       "25%        -0.072580      -0.200881       0.287748      56.497507\n",
       "50%         0.502360       0.250252       2.515969      91.849972\n",
       "75%         1.073581       0.700646       4.715088     128.564089\n",
       "max         2.362331       1.343769      16.003790     185.364347"
      ]
     },
     "execution_count": 4,
     "metadata": {},
     "output_type": "execute_result"
    }
   ],
   "source": [
    "data_0.describe()"
   ]
  },
  {
   "cell_type": "code",
   "execution_count": 5,
   "metadata": {},
   "outputs": [
    {
     "data": {
      "image/png": "[encoded data removed]",
      "text/plain": [
       "<Figure size 1000x1000 with 4 Axes>"
      ]
     },
     "metadata": {},
     "output_type": "display_data"
    }
   ],
   "source": [
    "data_0.hist(figsize=(10, 10));"
   ]
  },
  {
   "cell_type": "code",
   "execution_count": 6,
   "metadata": {},
   "outputs": [
    {
     "data": {
      "text/html": [
       "<div>\n",
       "<style scoped>\n",
       "    .dataframe tbody tr th:only-of-type {\n",
       "        vertical-align: middle;\n",
       "    }\n",
       "\n",
       "    .dataframe tbody tr th {\n",
       "        vertical-align: top;\n",
       "    }\n",
       "\n",
       "    .dataframe thead th {\n",
       "        text-align: right;\n",
       "    }\n",
       "</style>\n",
       "<table border=\"1\" class=\"dataframe\">\n",
       "  <thead>\n",
       "    <tr style=\"text-align: right;\">\n",
       "      <th></th>\n",
       "      <th>id</th>\n",
       "      <th>f0</th>\n",
       "      <th>f1</th>\n",
       "      <th>f2</th>\n",
       "      <th>product</th>\n",
       "    </tr>\n",
       "  </thead>\n",
       "  <tbody>\n",
       "    <tr>\n",
       "      <th>0</th>\n",
       "      <td>kBEdx</td>\n",
       "      <td>-15.001348</td>\n",
       "      <td>-8.276000</td>\n",
       "      <td>-0.005876</td>\n",
       "      <td>3.179103</td>\n",
       "    </tr>\n",
       "    <tr>\n",
       "      <th>1</th>\n",
       "      <td>62mP7</td>\n",
       "      <td>14.272088</td>\n",
       "      <td>-3.475083</td>\n",
       "      <td>0.999183</td>\n",
       "      <td>26.953261</td>\n",
       "    </tr>\n",
       "    <tr>\n",
       "      <th>2</th>\n",
       "      <td>vyE1P</td>\n",
       "      <td>6.263187</td>\n",
       "      <td>-5.948386</td>\n",
       "      <td>5.001160</td>\n",
       "      <td>134.766305</td>\n",
       "    </tr>\n",
       "    <tr>\n",
       "      <th>3</th>\n",
       "      <td>KcrkZ</td>\n",
       "      <td>-13.081196</td>\n",
       "      <td>-11.506057</td>\n",
       "      <td>4.999415</td>\n",
       "      <td>137.945408</td>\n",
       "    </tr>\n",
       "    <tr>\n",
       "      <th>4</th>\n",
       "      <td>AHL4O</td>\n",
       "      <td>12.702195</td>\n",
       "      <td>-8.147433</td>\n",
       "      <td>5.004363</td>\n",
       "      <td>134.766305</td>\n",
       "    </tr>\n",
       "  </tbody>\n",
       "</table>\n",
       "</div>"
      ],
      "text/plain": [
       "      id         f0         f1        f2     product\n",
       "0  kBEdx -15.001348  -8.276000 -0.005876    3.179103\n",
       "1  62mP7  14.272088  -3.475083  0.999183   26.953261\n",
       "2  vyE1P   6.263187  -5.948386  5.001160  134.766305\n",
       "3  KcrkZ -13.081196 -11.506057  4.999415  137.945408\n",
       "4  AHL4O  12.702195  -8.147433  5.004363  134.766305"
      ]
     },
     "execution_count": 6,
     "metadata": {},
     "output_type": "execute_result"
    }
   ],
   "source": [
    "# данные по второму региону\n",
    "try:\n",
    "    data_1 = pd.read_csv('/datasets/geo_data_1.csv')\n",
    "except:\n",
    "    data_1 = pd.read_csv('https://datasets/geo_data_1.csv')\n",
    "\n",
    "data_1.head()"
   ]
  },
  {
   "cell_type": "code",
   "execution_count": 7,
   "metadata": {},
   "outputs": [
    {
     "name": "stdout",
     "output_type": "stream",
     "text": [
      "<class 'pandas.core.frame.DataFrame'>\n",
      "RangeIndex: 100000 entries, 0 to 99999\n",
      "Data columns (total 5 columns):\n",
      " #   Column   Non-Null Count   Dtype  \n",
      "---  ------   --------------   -----  \n",
      " 0   id       100000 non-null  object \n",
      " 1   f0       100000 non-null  float64\n",
      " 2   f1       100000 non-null  float64\n",
      " 3   f2       100000 non-null  float64\n",
      " 4   product  100000 non-null  float64\n",
      "dtypes: float64(4), object(1)\n",
      "memory usage: 3.8+ MB\n"
     ]
    }
   ],
   "source": [
    "data_1.info()"
   ]
  },
  {
   "cell_type": "code",
   "execution_count": 8,
   "metadata": {},
   "outputs": [
    {
     "data": {
      "text/html": [
       "<div>\n",
       "<style scoped>\n",
       "    .dataframe tbody tr th:only-of-type {\n",
       "        vertical-align: middle;\n",
       "    }\n",
       "\n",
       "    .dataframe tbody tr th {\n",
       "        vertical-align: top;\n",
       "    }\n",
       "\n",
       "    .dataframe thead th {\n",
       "        text-align: right;\n",
       "    }\n",
       "</style>\n",
       "<table border=\"1\" class=\"dataframe\">\n",
       "  <thead>\n",
       "    <tr style=\"text-align: right;\">\n",
       "      <th></th>\n",
       "      <th>f0</th>\n",
       "      <th>f1</th>\n",
       "      <th>f2</th>\n",
       "      <th>product</th>\n",
       "    </tr>\n",
       "  </thead>\n",
       "  <tbody>\n",
       "    <tr>\n",
       "      <th>count</th>\n",
       "      <td>100000.000000</td>\n",
       "      <td>100000.000000</td>\n",
       "      <td>100000.000000</td>\n",
       "      <td>100000.000000</td>\n",
       "    </tr>\n",
       "    <tr>\n",
       "      <th>mean</th>\n",
       "      <td>1.141296</td>\n",
       "      <td>-4.796579</td>\n",
       "      <td>2.494541</td>\n",
       "      <td>68.825000</td>\n",
       "    </tr>\n",
       "    <tr>\n",
       "      <th>std</th>\n",
       "      <td>8.965932</td>\n",
       "      <td>5.119872</td>\n",
       "      <td>1.703572</td>\n",
       "      <td>45.944423</td>\n",
       "    </tr>\n",
       "    <tr>\n",
       "      <th>min</th>\n",
       "      <td>-31.609576</td>\n",
       "      <td>-26.358598</td>\n",
       "      <td>-0.018144</td>\n",
       "      <td>0.000000</td>\n",
       "    </tr>\n",
       "    <tr>\n",
       "      <th>25%</th>\n",
       "      <td>-6.298551</td>\n",
       "      <td>-8.267985</td>\n",
       "      <td>1.000021</td>\n",
       "      <td>26.953261</td>\n",
       "    </tr>\n",
       "    <tr>\n",
       "      <th>50%</th>\n",
       "      <td>1.153055</td>\n",
       "      <td>-4.813172</td>\n",
       "      <td>2.011479</td>\n",
       "      <td>57.085625</td>\n",
       "    </tr>\n",
       "    <tr>\n",
       "      <th>75%</th>\n",
       "      <td>8.621015</td>\n",
       "      <td>-1.332816</td>\n",
       "      <td>3.999904</td>\n",
       "      <td>107.813044</td>\n",
       "    </tr>\n",
       "    <tr>\n",
       "      <th>max</th>\n",
       "      <td>29.421755</td>\n",
       "      <td>18.734063</td>\n",
       "      <td>5.019721</td>\n",
       "      <td>137.945408</td>\n",
       "    </tr>\n",
       "  </tbody>\n",
       "</table>\n",
       "</div>"
      ],
      "text/plain": [
       "                  f0             f1             f2        product\n",
       "count  100000.000000  100000.000000  100000.000000  100000.000000\n",
       "mean        1.141296      -4.796579       2.494541      68.825000\n",
       "std         8.965932       5.119872       1.703572      45.944423\n",
       "min       -31.609576     -26.358598      -0.018144       0.000000\n",
       "25%        -6.298551      -8.267985       1.000021      26.953261\n",
       "50%         1.153055      -4.813172       2.011479      57.085625\n",
       "75%         8.621015      -1.332816       3.999904     107.813044\n",
       "max        29.421755      18.734063       5.019721     137.945408"
      ]
     },
     "execution_count": 8,
     "metadata": {},
     "output_type": "execute_result"
    }
   ],
   "source": [
    "data_1.describe()"
   ]
  },
  {
   "cell_type": "code",
   "execution_count": 9,
   "metadata": {},
   "outputs": [
    {
     "data": {
      "image/png": "[encoded data removed]",
      "text/plain": [
       "<Figure size 1000x1000 with 4 Axes>"
      ]
     },
     "metadata": {},
     "output_type": "display_data"
    }
   ],
   "source": [
    "data_1.hist(figsize=(10, 10));"
   ]
  },
  {
   "cell_type": "code",
   "execution_count": 10,
   "metadata": {},
   "outputs": [
    {
     "data": {
      "text/html": [
       "<div>\n",
       "<style scoped>\n",
       "    .dataframe tbody tr th:only-of-type {\n",
       "        vertical-align: middle;\n",
       "    }\n",
       "\n",
       "    .dataframe tbody tr th {\n",
       "        vertical-align: top;\n",
       "    }\n",
       "\n",
       "    .dataframe thead th {\n",
       "        text-align: right;\n",
       "    }\n",
       "</style>\n",
       "<table border=\"1\" class=\"dataframe\">\n",
       "  <thead>\n",
       "    <tr style=\"text-align: right;\">\n",
       "      <th></th>\n",
       "      <th>id</th>\n",
       "      <th>f0</th>\n",
       "      <th>f1</th>\n",
       "      <th>f2</th>\n",
       "      <th>product</th>\n",
       "    </tr>\n",
       "  </thead>\n",
       "  <tbody>\n",
       "    <tr>\n",
       "      <th>0</th>\n",
       "      <td>fwXo0</td>\n",
       "      <td>-1.146987</td>\n",
       "      <td>0.963328</td>\n",
       "      <td>-0.828965</td>\n",
       "      <td>27.758673</td>\n",
       "    </tr>\n",
       "    <tr>\n",
       "      <th>1</th>\n",
       "      <td>WJtFt</td>\n",
       "      <td>0.262778</td>\n",
       "      <td>0.269839</td>\n",
       "      <td>-2.530187</td>\n",
       "      <td>56.069697</td>\n",
       "    </tr>\n",
       "    <tr>\n",
       "      <th>2</th>\n",
       "      <td>ovLUW</td>\n",
       "      <td>0.194587</td>\n",
       "      <td>0.289035</td>\n",
       "      <td>-5.586433</td>\n",
       "      <td>62.871910</td>\n",
       "    </tr>\n",
       "    <tr>\n",
       "      <th>3</th>\n",
       "      <td>q6cA6</td>\n",
       "      <td>2.236060</td>\n",
       "      <td>-0.553760</td>\n",
       "      <td>0.930038</td>\n",
       "      <td>114.572842</td>\n",
       "    </tr>\n",
       "    <tr>\n",
       "      <th>4</th>\n",
       "      <td>WPMUX</td>\n",
       "      <td>-0.515993</td>\n",
       "      <td>1.716266</td>\n",
       "      <td>5.899011</td>\n",
       "      <td>149.600746</td>\n",
       "    </tr>\n",
       "  </tbody>\n",
       "</table>\n",
       "</div>"
      ],
      "text/plain": [
       "      id        f0        f1        f2     product\n",
       "0  fwXo0 -1.146987  0.963328 -0.828965   27.758673\n",
       "1  WJtFt  0.262778  0.269839 -2.530187   56.069697\n",
       "2  ovLUW  0.194587  0.289035 -5.586433   62.871910\n",
       "3  q6cA6  2.236060 -0.553760  0.930038  114.572842\n",
       "4  WPMUX -0.515993  1.716266  5.899011  149.600746"
      ]
     },
     "execution_count": 10,
     "metadata": {},
     "output_type": "execute_result"
    }
   ],
   "source": [
    "# данные по третьему региону\n",
    "try:\n",
    "    data_2 = pd.read_csv('/datasets/geo_data_2.csv')\n",
    "except:\n",
    "    data_2 = pd.read_csv('https://datasets/geo_data_2.csv')\n",
    "\n",
    "data_2.head()"
   ]
  },
  {
   "cell_type": "code",
   "execution_count": 11,
   "metadata": {},
   "outputs": [
    {
     "name": "stdout",
     "output_type": "stream",
     "text": [
      "<class 'pandas.core.frame.DataFrame'>\n",
      "RangeIndex: 100000 entries, 0 to 99999\n",
      "Data columns (total 5 columns):\n",
      " #   Column   Non-Null Count   Dtype  \n",
      "---  ------   --------------   -----  \n",
      " 0   id       100000 non-null  object \n",
      " 1   f0       100000 non-null  float64\n",
      " 2   f1       100000 non-null  float64\n",
      " 3   f2       100000 non-null  float64\n",
      " 4   product  100000 non-null  float64\n",
      "dtypes: float64(4), object(1)\n",
      "memory usage: 3.8+ MB\n"
     ]
    }
   ],
   "source": [
    "data_2.info()"
   ]
  },
  {
   "cell_type": "code",
   "execution_count": 12,
   "metadata": {},
   "outputs": [
    {
     "data": {
      "text/html": [
       "<div>\n",
       "<style scoped>\n",
       "    .dataframe tbody tr th:only-of-type {\n",
       "        vertical-align: middle;\n",
       "    }\n",
       "\n",
       "    .dataframe tbody tr th {\n",
       "        vertical-align: top;\n",
       "    }\n",
       "\n",
       "    .dataframe thead th {\n",
       "        text-align: right;\n",
       "    }\n",
       "</style>\n",
       "<table border=\"1\" class=\"dataframe\">\n",
       "  <thead>\n",
       "    <tr style=\"text-align: right;\">\n",
       "      <th></th>\n",
       "      <th>f0</th>\n",
       "      <th>f1</th>\n",
       "      <th>f2</th>\n",
       "      <th>product</th>\n",
       "    </tr>\n",
       "  </thead>\n",
       "  <tbody>\n",
       "    <tr>\n",
       "      <th>count</th>\n",
       "      <td>100000.000000</td>\n",
       "      <td>100000.000000</td>\n",
       "      <td>100000.000000</td>\n",
       "      <td>100000.000000</td>\n",
       "    </tr>\n",
       "    <tr>\n",
       "      <th>mean</th>\n",
       "      <td>0.002023</td>\n",
       "      <td>-0.002081</td>\n",
       "      <td>2.495128</td>\n",
       "      <td>95.000000</td>\n",
       "    </tr>\n",
       "    <tr>\n",
       "      <th>std</th>\n",
       "      <td>1.732045</td>\n",
       "      <td>1.730417</td>\n",
       "      <td>3.473445</td>\n",
       "      <td>44.749921</td>\n",
       "    </tr>\n",
       "    <tr>\n",
       "      <th>min</th>\n",
       "      <td>-8.760004</td>\n",
       "      <td>-7.084020</td>\n",
       "      <td>-11.970335</td>\n",
       "      <td>0.000000</td>\n",
       "    </tr>\n",
       "    <tr>\n",
       "      <th>25%</th>\n",
       "      <td>-1.162288</td>\n",
       "      <td>-1.174820</td>\n",
       "      <td>0.130359</td>\n",
       "      <td>59.450441</td>\n",
       "    </tr>\n",
       "    <tr>\n",
       "      <th>50%</th>\n",
       "      <td>0.009424</td>\n",
       "      <td>-0.009482</td>\n",
       "      <td>2.484236</td>\n",
       "      <td>94.925613</td>\n",
       "    </tr>\n",
       "    <tr>\n",
       "      <th>75%</th>\n",
       "      <td>1.158535</td>\n",
       "      <td>1.163678</td>\n",
       "      <td>4.858794</td>\n",
       "      <td>130.595027</td>\n",
       "    </tr>\n",
       "    <tr>\n",
       "      <th>max</th>\n",
       "      <td>7.238262</td>\n",
       "      <td>7.844801</td>\n",
       "      <td>16.739402</td>\n",
       "      <td>190.029838</td>\n",
       "    </tr>\n",
       "  </tbody>\n",
       "</table>\n",
       "</div>"
      ],
      "text/plain": [
       "                  f0             f1             f2        product\n",
       "count  100000.000000  100000.000000  100000.000000  100000.000000\n",
       "mean        0.002023      -0.002081       2.495128      95.000000\n",
       "std         1.732045       1.730417       3.473445      44.749921\n",
       "min        -8.760004      -7.084020     -11.970335       0.000000\n",
       "25%        -1.162288      -1.174820       0.130359      59.450441\n",
       "50%         0.009424      -0.009482       2.484236      94.925613\n",
       "75%         1.158535       1.163678       4.858794     130.595027\n",
       "max         7.238262       7.844801      16.739402     190.029838"
      ]
     },
     "execution_count": 12,
     "metadata": {},
     "output_type": "execute_result"
    }
   ],
   "source": [
    "data_2.describe()"
   ]
  },
  {
   "cell_type": "code",
   "execution_count": 13,
   "metadata": {},
   "outputs": [
    {
     "data": {
      "image/png": "[encoded data removed]",
      "text/plain": [
       "<Figure size 1000x1000 with 4 Axes>"
      ]
     },
     "metadata": {},
     "output_type": "display_data"
    }
   ],
   "source": [
    "data_2.hist(figsize=(10, 10));"
   ]
  },
  {
   "cell_type": "markdown",
   "metadata": {},
   "source": [
    "**Вывод:** Все три файла имеют одинаковый размер данных в 100 тыс. строк. Пропусков нет, типизация правильная. Данные по третьему региону имеют нормальное распределние. Странное распределение в столбце product и признаке f2 по второму региону, и в признаках f0 и f1 по первому региону. Других явных аномалий не замечено. "
   ]
  },
  {
   "cell_type": "markdown",
   "metadata": {},
   "source": [
    "### Предобработка"
   ]
  },
  {
   "cell_type": "markdown",
   "metadata": {},
   "source": [
    "* Проверим данные на наличие дубликатов по столбцу id. \n",
    "* Информация об id - данные категориальные, кодировать их не имеет смысла, для прогнозирования моделей не важны - удалим столбцы\n",
    "* Посмотрим ближе на распределение данных в признаках.\n",
    "* Оценим количество нулевых значений в product по второму региону."
   ]
  },
  {
   "cell_type": "code",
   "execution_count": 14,
   "metadata": {},
   "outputs": [
    {
     "data": {
      "text/plain": [
       "10"
      ]
     },
     "execution_count": 14,
     "metadata": {},
     "output_type": "execute_result"
    }
   ],
   "source": [
    "# первый регион\n",
    "data_0.duplicated().sum()\n",
    "data_0['id'].duplicated().sum()"
   ]
  },
  {
   "cell_type": "code",
   "execution_count": 15,
   "metadata": {},
   "outputs": [
    {
     "data": {
      "text/plain": [
       "4"
      ]
     },
     "execution_count": 15,
     "metadata": {},
     "output_type": "execute_result"
    }
   ],
   "source": [
    "# второй регион\n",
    "data_1.duplicated().sum()\n",
    "data_1['id'].duplicated().sum()"
   ]
  },
  {
   "cell_type": "code",
   "execution_count": 16,
   "metadata": {},
   "outputs": [
    {
     "data": {
      "text/plain": [
       "4"
      ]
     },
     "execution_count": 16,
     "metadata": {},
     "output_type": "execute_result"
    }
   ],
   "source": [
    "# третий регион\n",
    "data_1.duplicated().sum()\n",
    "data_1['id'].duplicated().sum()"
   ]
  },
  {
   "cell_type": "markdown",
   "metadata": {},
   "source": [
    "В данных есть дубликаты, удалим их. После удалим столбец id во всех трех фреймах"
   ]
  },
  {
   "cell_type": "code",
   "execution_count": 17,
   "metadata": {},
   "outputs": [],
   "source": [
    "# удаляем дубликаты\n",
    "data_0 = data_0.drop_duplicates(subset='id', keep='first')\n",
    "data_1 = data_1.drop_duplicates(subset='id', keep='first')\n",
    "data_2 = data_2.drop_duplicates(subset='id', keep='first')\n",
    "\n",
    "# удаляем столбцы\n",
    "data_0.drop(['id'], axis=1, inplace=True)\n",
    "data_1.drop(['id'], axis=1, inplace=True)\n",
    "data_2.drop(['id'], axis=1, inplace=True)"
   ]
  },
  {
   "cell_type": "code",
   "execution_count": 18,
   "metadata": {},
   "outputs": [
    {
     "name": "stdout",
     "output_type": "stream",
     "text": [
      "Размер data_0 : (99990, 4)\n",
      "Размер data_1 : (99996, 4)\n",
      "Размер data_2 : (99996, 4)\n"
     ]
    }
   ],
   "source": [
    "# проверим размер\n",
    "print('Размер data_0 :', data_0.shape)\n",
    "print('Размер data_1 :', data_1.shape)\n",
    "print('Размер data_2 :', data_2.shape)"
   ]
  },
  {
   "cell_type": "markdown",
   "metadata": {},
   "source": [
    "Построим диаграммы размаха для признаков по всем трем регионам"
   ]
  },
  {
   "cell_type": "code",
   "execution_count": 19,
   "metadata": {},
   "outputs": [
    {
     "data": {
      "image/png": "[encoded data removed]",
      "text/plain": [
       "<Figure size 1000x1000 with 1 Axes>"
      ]
     },
     "metadata": {},
     "output_type": "display_data"
    }
   ],
   "source": [
    "data_0.boxplot(figsize=(10, 10));\n",
    "plt.ylim(-15, 20);"
   ]
  },
  {
   "cell_type": "code",
   "execution_count": 20,
   "metadata": {},
   "outputs": [
    {
     "data": {
      "image/png": "[encoded data removed]",
      "text/plain": [
       "<Figure size 1000x1000 with 1 Axes>"
      ]
     },
     "metadata": {},
     "output_type": "display_data"
    }
   ],
   "source": [
    "data_1.boxplot(figsize=(10, 10));\n",
    "plt.ylim(-30, 30);"
   ]
  },
  {
   "cell_type": "code",
   "execution_count": 21,
   "metadata": {},
   "outputs": [
    {
     "data": {
      "image/png": "[encoded data removed]",
      "text/plain": [
       "<Figure size 1000x1000 with 1 Axes>"
      ]
     },
     "metadata": {},
     "output_type": "display_data"
    }
   ],
   "source": [
    "data_2.boxplot(figsize=(10, 10));\n",
    "plt.ylim(-15, 20);"
   ]
  },
  {
   "cell_type": "markdown",
   "metadata": {},
   "source": [
    "Обнаружены выбросы в признаках:\n",
    "* Первый регион - f2\n",
    "* Второй регион - f1\n",
    "* Третий регион - во всех трех"
   ]
  },
  {
   "cell_type": "markdown",
   "metadata": {},
   "source": [
    "Посмотрим количество нулей в product во втором фрейме"
   ]
  },
  {
   "cell_type": "code",
   "execution_count": 22,
   "metadata": {},
   "outputs": [
    {
     "name": "stdout",
     "output_type": "stream",
     "text": [
      "Процент нулевых значений во втором фрейме: 8.24%\n"
     ]
    }
   ],
   "source": [
    "data_1_null = data_1[data_1['product'] == 0]['product'].count()\n",
    "print('Процент нулевых значений во втором фрейме:', '{:.2%}'.format(data_1_null / data_1.shape[0]))"
   ]
  },
  {
   "cell_type": "markdown",
   "metadata": {},
   "source": [
    "**Вывод:** Данные очищены от дубликатов и выбросов. По второму региону объем запасов в скважине 8,24% значений нулевые. Можно предположить, что есть какая-то ошибка при внесении данных или это новые и еще не разработанные месторождения."
   ]
  },
  {
   "cell_type": "markdown",
   "metadata": {},
   "source": [
    "## Обучение и проверка модели"
   ]
  },
  {
   "cell_type": "markdown",
   "metadata": {},
   "source": [
    "* Целевой признак - product.\n",
    "* Разобьем данные на обучающую и валидационную выборки в соотношении 75:25.\n",
    "* Обучим модель линейной регрессии и сделаем предсказания на валидационной выборке.\n",
    "* Рассчитаем средний запас предсказанного сырья и RMSE модели."
   ]
  },
  {
   "cell_type": "markdown",
   "metadata": {},
   "source": [
    "### Формируем выборки"
   ]
  },
  {
   "cell_type": "code",
   "execution_count": 23,
   "metadata": {},
   "outputs": [],
   "source": [
    "# выделим признаки\n",
    "features_0 = data_0.drop('product', axis=1)\n",
    "target_0 = data_0['product']\n",
    "\n",
    "features_1 = data_1.drop('product', axis=1)\n",
    "target_1 = data_1['product']\n",
    "\n",
    "features_2 = data_2.drop('product', axis=1)\n",
    "target_2 = data_2['product']\n",
    "\n",
    "# разобьем данные\n",
    "features_train_0, features_valid_0, target_train_0, target_valid_0 = (\n",
    "    train_test_split(features_0, target_0, test_size = 0.25, random_state = 12345))\n",
    "\n",
    "features_train_1, features_valid_1, target_train_1, target_valid_1 = (\n",
    "    train_test_split(features_1, target_1, test_size = 0.25, random_state = 12345))\n",
    "\n",
    "features_train_2, features_valid_2, target_train_2, target_valid_2 = (\n",
    "    train_test_split(features_2, target_2, test_size = 0.25, random_state = 12345))"
   ]
  },
  {
   "cell_type": "code",
   "execution_count": 24,
   "metadata": {},
   "outputs": [
    {
     "name": "stdout",
     "output_type": "stream",
     "text": [
      "Первый регион\n",
      "Размер обучающей выборки: 74992\n",
      "Размер валидационной выборки: 24998\n"
     ]
    }
   ],
   "source": [
    "# разберы выборок\n",
    "print('Первый регион')\n",
    "print('Размер обучающей выборки:', target_train_0.shape[0])\n",
    "print('Размер валидационной выборки:', target_valid_0.shape[0])"
   ]
  },
  {
   "cell_type": "code",
   "execution_count": 25,
   "metadata": {},
   "outputs": [
    {
     "name": "stdout",
     "output_type": "stream",
     "text": [
      "Второй регион\n",
      "Размер обучающей выборки: 74997\n",
      "Размер валидационной выборки: 24999\n"
     ]
    }
   ],
   "source": [
    "print('Второй регион')\n",
    "print('Размер обучающей выборки:', target_train_1.shape[0])\n",
    "print('Размер валидационной выборки:', target_valid_1.shape[0])"
   ]
  },
  {
   "cell_type": "code",
   "execution_count": 26,
   "metadata": {},
   "outputs": [
    {
     "name": "stdout",
     "output_type": "stream",
     "text": [
      "Третий регион\n",
      "Размер обучающей выборки: 74997\n",
      "Размер валидационной выборки: 24999\n"
     ]
    }
   ],
   "source": [
    "print('Третий регион')\n",
    "print('Размер обучающей выборки:', target_train_2.shape[0])\n",
    "print('Размер валидационной выборки:', target_valid_2.shape[0])"
   ]
  },
  {
   "cell_type": "markdown",
   "metadata": {},
   "source": [
    "### Обучение модели"
   ]
  },
  {
   "cell_type": "code",
   "execution_count": 27,
   "metadata": {},
   "outputs": [
    {
     "name": "stdout",
     "output_type": "stream",
     "text": [
      "RMSE по первому региону : 37.853527328872964\n",
      "RMSE по второму региону : 0.8920592647717025\n",
      "RMSE по третьему региону : 40.07585073246016\n"
     ]
    }
   ],
   "source": [
    "model = LinearRegression()\n",
    "model.fit(features_train_0, target_train_0)\n",
    "predicted_target_0 = model.predict(features_valid_0)\n",
    "\n",
    "print('RMSE по первому региону :', mean_squared_error(target_valid_0, predicted_target_0)**0.5)\n",
    "\n",
    "model = LinearRegression()\n",
    "model.fit(features_train_1, target_train_1)\n",
    "predicted_target_1 = model.predict(features_valid_1)\n",
    "\n",
    "print('RMSE по второму региону :', mean_squared_error(target_valid_1, predicted_target_1)**0.5)\n",
    "\n",
    "model = LinearRegression()\n",
    "model.fit(features_train_2, target_train_2)\n",
    "predicted_target_2 = model.predict(features_valid_2)\n",
    "\n",
    "print('RMSE по третьему региону :', mean_squared_error(target_valid_2, predicted_target_2)**0.5)"
   ]
  },
  {
   "cell_type": "code",
   "execution_count": 28,
   "metadata": {},
   "outputs": [
    {
     "name": "stdout",
     "output_type": "stream",
     "text": [
      "Первый регион : 92.78915638280621\n",
      "Второй регион : 69.17831957030432\n",
      "Третий регион : 94.86572480562035\n"
     ]
    }
   ],
   "source": [
    "# средний запас сырья\n",
    "average_0 = predicted_target_0.mean()\n",
    "average_1 = predicted_target_1.mean()\n",
    "average_2 = predicted_target_2.mean()\n",
    "\n",
    "print('Первый регион :', average_0)\n",
    "print('Второй регион :', average_1)\n",
    "print('Третий регион :', average_2)"
   ]
  },
  {
   "cell_type": "markdown",
   "metadata": {},
   "source": [
    "**Вывод:** Наименьший средний запас сырья у второго региона, как и корень из средней квадратичной ошибки - всего лишь 0,89, что по сравнению с двумя другими выглядит подозрительно неправдоподобно."
   ]
  },
  {
   "cell_type": "markdown",
   "metadata": {},
   "source": [
    "## Подготовка к расчёту прибыли"
   ]
  },
  {
   "cell_type": "markdown",
   "metadata": {},
   "source": [
    "* Введем отдельные переменные, в которые поместим ключевые значения для расчётов.\n",
    "* Рассчитаем достаточный объём сырья для безубыточной разработки новой скважины. \n",
    "* Сравним полученный объём сырья со средним запасом в каждом регионе. "
   ]
  },
  {
   "cell_type": "code",
   "execution_count": 33,
   "metadata": {},
   "outputs": [],
   "source": [
    "BUDGET = 10000000000 # бюджет, млрд рублей\n",
    "ONE_BARREL = 450 # цена одно барреля сырья\n",
    "PRICE_FOR_ONE = 450000 # доход с каждой единицы продукта, тыс. рублей\n",
    "LOSS_PERCENT = 0.025 # порог вероятности убытков\n",
    "BEST_POINT = 200 # лучшая точка для разработки\n",
    "MAX_POINTS = 500 # всего точек"
   ]
  },
  {
   "cell_type": "code",
   "execution_count": 34,
   "metadata": {},
   "outputs": [
    {
     "name": "stdout",
     "output_type": "stream",
     "text": [
      "Достаточный объем сырья для безубыточной разработки новой скважины : 111.11 тыс. баррелей\n"
     ]
    }
   ],
   "source": [
    "enough_volume = round((BUDGET/PRICE_FOR_ONE/BEST_POINT), 2)\n",
    "\n",
    "print('Достаточный объем сырья для безубыточной разработки новой скважины :', \n",
    "      enough_volume, 'тыс. баррелей')"
   ]
  },
  {
   "cell_type": "code",
   "execution_count": 35,
   "metadata": {},
   "outputs": [
    {
     "name": "stdout",
     "output_type": "stream",
     "text": [
      "Средний запас сырья к достаточному в первом регионе : 83.51%\n",
      "Средний запас сырья к достаточному во втором регионе : 62.26%\n",
      "Средний запас сырья к достаточному в третьем регионе : 85.38%\n"
     ]
    }
   ],
   "source": [
    "print('Средний запас сырья к достаточному в первом регионе : {:,.2%}'\n",
    "      .format(average_0/enough_volume))\n",
    "print('Средний запас сырья к достаточному во втором регионе : {:,.2%}'\n",
    "      .format(average_1/enough_volume))\n",
    "print('Средний запас сырья к достаточному в третьем регионе : {:,.2%}'\n",
    "      .format(average_2/enough_volume))"
   ]
  },
  {
   "cell_type": "markdown",
   "metadata": {},
   "source": [
    "**Вывод:** Средний фактический объем сырья по регионам меньше достаточного объема, чтобы разработать месторождения без убытков. Ближе всего к безубыточному показатель у третьего региона."
   ]
  },
  {
   "cell_type": "markdown",
   "metadata": {},
   "source": [
    "## Расчёт прибыли и рисков "
   ]
  },
  {
   "cell_type": "markdown",
   "metadata": {},
   "source": [
    "* Применим технику Bootstrap с 1000 выборок, чтобы найти распределение прибыли.\n",
    "* Найдем среднюю прибыль, 95%-й доверительный интервал и риск убытков."
   ]
  },
  {
   "cell_type": "code",
   "execution_count": 36,
   "metadata": {},
   "outputs": [],
   "source": [
    "# функция для расчета прибыли\n",
    "def calculation_income(target, predictions):\n",
    "    target = target.reset_index(drop=True)\n",
    "    predictions_sorted = predictions.sort_values(ascending=False)[:BEST_POINT]\n",
    "    select = target.reindex(index=predictions_sorted.index)\n",
    "    return PRICE_FOR_ONE * select.sum() - BUDGET"
   ]
  },
  {
   "cell_type": "code",
   "execution_count": 37,
   "metadata": {},
   "outputs": [],
   "source": [
    "# функция bootstrap\n",
    "state = np.random.RandomState(12345)\n",
    "\n",
    "def bootstrap_1000(target, predictions):\n",
    "    values = []\n",
    "    loss = 0\n",
    "    \n",
    "    target = target.reset_index(drop=True)\n",
    "    \n",
    "    for i in range(1000):\n",
    "        sample = target.sample(replace=True, random_state=state, n=MAX_POINTS)\n",
    "        predict_sample = pd.Series(predictions).reindex(index=sample.index)\n",
    "        income = calculation_income(target, predict_sample)\n",
    "        if income <= 0:\n",
    "            loss += 1\n",
    "        values.append(income)\n",
    "    \n",
    "    values = pd.Series(values)\n",
    "    \n",
    "    lower = values.quantile(0.025)\n",
    "    upper = values.quantile(0.975)\n",
    "    avg = values.mean()\n",
    "    risk = loss / 1000\n",
    "    \n",
    "    return lower, upper, avg, risk"
   ]
  },
  {
   "cell_type": "code",
   "execution_count": 38,
   "metadata": {},
   "outputs": [
    {
     "name": "stdout",
     "output_type": "stream",
     "text": [
      "Средняя прибыль по первому региону = 380613470.02\n",
      "95% доверительный интервал от -142942739.74 до 890976833.85\n",
      "Процент риска 7.70%\n"
     ]
    }
   ],
   "source": [
    "lower_0, upper_0, avg_0, risk_0 = bootstrap_1000(target_valid_0, predicted_target_0)\n",
    "\n",
    "print('Средняя прибыль по первому региону = {:.2f}'.format(avg_0))\n",
    "print('95% доверительный интервал от {:.2f} до {:.2f}'.format(lower_0, upper_0))\n",
    "print('Процент риска {:.2%}'.format(risk_0))"
   ]
  },
  {
   "cell_type": "code",
   "execution_count": 39,
   "metadata": {},
   "outputs": [
    {
     "name": "stdout",
     "output_type": "stream",
     "text": [
      "Средняя прибыль по второму региону = 479159869.98\n",
      "95% доверительный интервал от 73849212.02 до 917953817.72\n",
      "Процент риска 0.60%\n"
     ]
    }
   ],
   "source": [
    "lower_1, upper_1, avg_1, risk_1 = bootstrap_1000(target_valid_1, predicted_target_1)\n",
    "\n",
    "print('Средняя прибыль по второму региону = {:.2f}'.format(avg_1))\n",
    "print('95% доверительный интервал от {:.2f} до {:.2f}'.format(lower_1, upper_1))\n",
    "print('Процент риска {:.2%}'.format(risk_1))"
   ]
  },
  {
   "cell_type": "code",
   "execution_count": 40,
   "metadata": {},
   "outputs": [
    {
     "name": "stdout",
     "output_type": "stream",
     "text": [
      "Средняя прибыль по третьему региону = 315441916.02\n",
      "95% доверительный интервал от -216265050.03 до 811060708.24\n",
      "Процент риска 12.40%\n"
     ]
    }
   ],
   "source": [
    "lower_2, upper_2, avg_2, risk_2 = bootstrap_1000(target_valid_2, predicted_target_2)\n",
    "\n",
    "print('Средняя прибыль по третьему региону = {:.2f}'.format(avg_2))\n",
    "print('95% доверительный интервал от {:.2f} до {:.2f}'.format(lower_2, upper_2))\n",
    "print('Процент риска {:.2%}'.format(risk_2))"
   ]
  },
  {
   "cell_type": "markdown",
   "metadata": {},
   "source": [
    "**Вывод:** По подсчитанным данным лучший регион для разработки - второй. У него наименьший процент убытков, выше средняя прибыль и доверительный интервал, по которому видно, что при худшем сценарии прибыль все равно будет. Однако, оценка всех трех регионов показала, что наиболее реалистичные значения у первого и третьего. Поэтому считаю, что и выбирать нужно только из этих двух регионов."
   ]
  },
  {
   "cell_type": "markdown",
   "metadata": {},
   "source": [
    "## Общий вывод"
   ]
  },
  {
   "cell_type": "markdown",
   "metadata": {},
   "source": [
    "В ходе исследования был проведен анализ предоставленных данных по трем регионам:\n",
    "* Изучена информация из файлов, проведена предобработка данных - убраны дубликаты и выбросы\n",
    "* Были обучены модели линеной регрессии для каждого из регионов, подсчитан RSME и средний объем скважины по региону\n",
    "* Найден достаточный объем для безубыточной разработки скважины. Сделан вывод, что ни в однм из регионов средний объем скважины не превышает достаточный. Наиболее близкий к данному числу - у третьего региона, на втором месте первый регион\n",
    "* Подсчитаны средняя прибыль по региону и процент риска убытков. Выбран лучший регион - **второй**\n",
    "\n",
    "Характеристика:\n",
    "1. Первый регион \n",
    "- Средняя прибыль 381 млн. рублей\n",
    "- Доверительный интервал от -143 млн до 891 млн\n",
    "- Риск убытков 7,7%\n",
    "- Средний запас сырья 93\n",
    "2. Второй регион \n",
    "- Средняя прибыль 479 млн. рублей\n",
    "- Доверительный интервал от 738 млн до 918 млн\n",
    "- Риск убытков 0,6%\n",
    "- Средний запас сырья 69\n",
    "3. Третий регион\n",
    "- Средняя прибыль 315 млн. рублей\n",
    "- Доверительный интервал от -216 млн до 811 млн\n",
    "- Риск убытков 12,4%\n",
    "- Средний запас сырья 95"
   ]
  }
 ],
 "metadata": {
  "ExecuteTimeLog": [
   {
    "duration": 428,
    "start_time": "2023-05-23T08:31:28.171Z"
   },
   {
    "duration": 493,
    "start_time": "2023-05-23T08:32:16.645Z"
   },
   {
    "duration": 175,
    "start_time": "2023-05-23T08:32:23.959Z"
   },
   {
    "duration": 139,
    "start_time": "2023-05-23T08:32:50.043Z"
   },
   {
    "duration": 883,
    "start_time": "2023-05-23T08:33:39.780Z"
   },
   {
    "duration": 135,
    "start_time": "2023-05-23T08:33:45.799Z"
   },
   {
    "duration": 563,
    "start_time": "2023-05-23T08:34:36.901Z"
   },
   {
    "duration": 59,
    "start_time": "2023-05-23T08:35:32.140Z"
   },
   {
    "duration": 141,
    "start_time": "2023-05-23T08:35:35.091Z"
   },
   {
    "duration": 15,
    "start_time": "2023-05-23T08:35:36.126Z"
   },
   {
    "duration": 36,
    "start_time": "2023-05-23T08:36:06.359Z"
   },
   {
    "duration": 861,
    "start_time": "2023-05-23T08:36:27.795Z"
   },
   {
    "duration": 456,
    "start_time": "2023-05-23T08:36:40.023Z"
   },
   {
    "duration": 21,
    "start_time": "2023-05-23T08:37:04.045Z"
   },
   {
    "duration": 20,
    "start_time": "2023-05-23T08:37:27.005Z"
   },
   {
    "duration": 93,
    "start_time": "2023-05-23T08:37:32.207Z"
   },
   {
    "duration": 512,
    "start_time": "2023-05-23T08:37:58.284Z"
   },
   {
    "duration": 496,
    "start_time": "2023-05-23T08:38:01.154Z"
   },
   {
    "duration": 22,
    "start_time": "2023-05-23T08:38:33.943Z"
   },
   {
    "duration": 35,
    "start_time": "2023-05-23T08:38:45.244Z"
   },
   {
    "duration": 457,
    "start_time": "2023-05-23T08:39:21.050Z"
   },
   {
    "duration": 456,
    "start_time": "2023-05-23T08:39:23.274Z"
   },
   {
    "duration": 9,
    "start_time": "2023-05-23T08:46:17.844Z"
   },
   {
    "duration": 52,
    "start_time": "2023-05-23T08:46:23.500Z"
   },
   {
    "duration": 59,
    "start_time": "2023-05-23T08:46:44.867Z"
   },
   {
    "duration": 44,
    "start_time": "2023-05-23T08:48:12.784Z"
   },
   {
    "duration": 54,
    "start_time": "2023-05-23T08:48:15.760Z"
   },
   {
    "duration": 41,
    "start_time": "2023-05-23T08:48:19.554Z"
   },
   {
    "duration": 50,
    "start_time": "2023-05-23T08:48:25.204Z"
   },
   {
    "duration": 63,
    "start_time": "2023-05-23T08:49:57.720Z"
   },
   {
    "duration": 63,
    "start_time": "2023-05-23T08:50:04.943Z"
   },
   {
    "duration": 418,
    "start_time": "2023-05-24T11:28:02.392Z"
   },
   {
    "duration": 423,
    "start_time": "2023-05-24T11:28:04.205Z"
   },
   {
    "duration": 15,
    "start_time": "2023-05-24T11:28:11.660Z"
   },
   {
    "duration": 50,
    "start_time": "2023-05-24T11:28:13.391Z"
   },
   {
    "duration": 940,
    "start_time": "2023-05-24T11:28:28.578Z"
   },
   {
    "duration": 285,
    "start_time": "2023-05-24T11:28:34.592Z"
   },
   {
    "duration": 16,
    "start_time": "2023-05-24T11:28:36.270Z"
   },
   {
    "duration": 34,
    "start_time": "2023-05-24T11:28:37.189Z"
   },
   {
    "duration": 491,
    "start_time": "2023-05-24T11:28:39.573Z"
   },
   {
    "duration": 252,
    "start_time": "2023-05-24T11:29:01.990Z"
   },
   {
    "duration": 21,
    "start_time": "2023-05-24T11:29:02.913Z"
   },
   {
    "duration": 45,
    "start_time": "2023-05-24T11:29:04.048Z"
   },
   {
    "duration": 429,
    "start_time": "2023-05-24T11:29:04.868Z"
   },
   {
    "duration": 404,
    "start_time": "2023-05-24T12:24:01.299Z"
   },
   {
    "duration": 162,
    "start_time": "2023-05-24T12:24:18.465Z"
   },
   {
    "duration": 243,
    "start_time": "2023-05-24T12:24:58.270Z"
   },
   {
    "duration": 75,
    "start_time": "2023-05-24T12:25:17.593Z"
   },
   {
    "duration": 188,
    "start_time": "2023-05-24T12:25:28.547Z"
   },
   {
    "duration": 219,
    "start_time": "2023-05-24T12:26:07.552Z"
   },
   {
    "duration": 176,
    "start_time": "2023-05-24T12:26:17.250Z"
   },
   {
    "duration": 15,
    "start_time": "2023-05-24T12:28:35.646Z"
   },
   {
    "duration": 24,
    "start_time": "2023-05-24T12:28:46.670Z"
   },
   {
    "duration": 19,
    "start_time": "2023-05-24T12:28:56.196Z"
   },
   {
    "duration": 8,
    "start_time": "2023-05-24T12:29:35.757Z"
   },
   {
    "duration": 5,
    "start_time": "2023-05-24T12:31:04.093Z"
   },
   {
    "duration": 5,
    "start_time": "2023-05-24T12:31:11.566Z"
   },
   {
    "duration": 6,
    "start_time": "2023-05-24T12:31:34.837Z"
   },
   {
    "duration": 6,
    "start_time": "2023-05-24T12:31:48.586Z"
   },
   {
    "duration": 121,
    "start_time": "2023-05-24T12:32:24.670Z"
   },
   {
    "duration": 7,
    "start_time": "2023-05-24T12:34:40.007Z"
   },
   {
    "duration": 6,
    "start_time": "2023-05-24T12:35:04.981Z"
   },
   {
    "duration": 6,
    "start_time": "2023-05-24T12:35:19.295Z"
   },
   {
    "duration": 7,
    "start_time": "2023-05-24T12:35:34.106Z"
   },
   {
    "duration": 9,
    "start_time": "2023-05-24T12:37:04.264Z"
   },
   {
    "duration": 7,
    "start_time": "2023-05-24T12:37:21.499Z"
   },
   {
    "duration": 391,
    "start_time": "2023-05-24T12:38:00.644Z"
   },
   {
    "duration": 249,
    "start_time": "2023-05-24T12:38:31.679Z"
   },
   {
    "duration": 165,
    "start_time": "2023-05-24T12:38:41.154Z"
   },
   {
    "duration": 169,
    "start_time": "2023-05-24T12:38:57.536Z"
   },
   {
    "duration": 171,
    "start_time": "2023-05-24T12:39:00.917Z"
   },
   {
    "duration": 125,
    "start_time": "2023-05-24T12:39:37.001Z"
   },
   {
    "duration": 130,
    "start_time": "2023-05-24T12:39:39.551Z"
   },
   {
    "duration": 12,
    "start_time": "2023-05-24T12:41:32.990Z"
   },
   {
    "duration": 493,
    "start_time": "2023-05-24T12:45:33.279Z"
   },
   {
    "duration": 792,
    "start_time": "2023-05-24T12:45:54.661Z"
   },
   {
    "duration": 545,
    "start_time": "2023-05-24T12:46:08.387Z"
   },
   {
    "duration": 33,
    "start_time": "2023-05-24T12:47:52.976Z"
   },
   {
    "duration": 19,
    "start_time": "2023-05-24T12:50:00.461Z"
   },
   {
    "duration": 33,
    "start_time": "2023-05-24T12:50:10.960Z"
   },
   {
    "duration": 63,
    "start_time": "2023-05-24T12:50:17.183Z"
   },
   {
    "duration": 23,
    "start_time": "2023-05-24T12:50:18.998Z"
   },
   {
    "duration": 29,
    "start_time": "2023-05-24T12:50:39.512Z"
   },
   {
    "duration": 28,
    "start_time": "2023-05-24T12:50:47.649Z"
   },
   {
    "duration": 67,
    "start_time": "2023-05-24T12:51:29.764Z"
   },
   {
    "duration": 61,
    "start_time": "2023-05-24T12:53:29.261Z"
   },
   {
    "duration": 64,
    "start_time": "2023-05-24T12:53:41.206Z"
   },
   {
    "duration": 85,
    "start_time": "2023-05-24T12:53:50.879Z"
   },
   {
    "duration": 41,
    "start_time": "2023-05-24T12:54:05.893Z"
   },
   {
    "duration": 38,
    "start_time": "2023-05-24T12:54:39.416Z"
   },
   {
    "duration": 403,
    "start_time": "2023-05-24T12:54:56.684Z"
   },
   {
    "duration": 152,
    "start_time": "2023-05-24T12:54:57.560Z"
   },
   {
    "duration": 15,
    "start_time": "2023-05-24T12:54:57.972Z"
   },
   {
    "duration": 34,
    "start_time": "2023-05-24T12:54:58.376Z"
   },
   {
    "duration": 678,
    "start_time": "2023-05-24T12:54:58.786Z"
   },
   {
    "duration": 142,
    "start_time": "2023-05-24T12:54:59.466Z"
   },
   {
    "duration": 14,
    "start_time": "2023-05-24T12:54:59.610Z"
   },
   {
    "duration": 36,
    "start_time": "2023-05-24T12:54:59.869Z"
   },
   {
    "duration": 523,
    "start_time": "2023-05-24T12:55:00.286Z"
   },
   {
    "duration": 146,
    "start_time": "2023-05-24T12:55:00.811Z"
   },
   {
    "duration": 14,
    "start_time": "2023-05-24T12:55:01.053Z"
   },
   {
    "duration": 34,
    "start_time": "2023-05-24T12:55:01.449Z"
   },
   {
    "duration": 498,
    "start_time": "2023-05-24T12:55:01.807Z"
   },
   {
    "duration": 173,
    "start_time": "2023-05-24T12:55:04.020Z"
   },
   {
    "duration": 8,
    "start_time": "2023-05-24T12:55:04.468Z"
   },
   {
    "duration": 70,
    "start_time": "2023-05-24T12:55:05.116Z"
   },
   {
    "duration": 55,
    "start_time": "2023-05-24T12:55:05.744Z"
   },
   {
    "duration": 55,
    "start_time": "2023-05-24T12:55:06.405Z"
   },
   {
    "duration": 35,
    "start_time": "2023-05-24T12:55:07.976Z"
   },
   {
    "duration": 66,
    "start_time": "2023-05-24T12:55:37.148Z"
   },
   {
    "duration": 90,
    "start_time": "2023-05-24T12:55:57.781Z"
   },
   {
    "duration": 98,
    "start_time": "2023-05-24T12:56:16.360Z"
   },
   {
    "duration": 100,
    "start_time": "2023-05-24T12:56:23.549Z"
   },
   {
    "duration": 100,
    "start_time": "2023-05-24T12:57:13.304Z"
   },
   {
    "duration": 70,
    "start_time": "2023-05-24T12:57:35.876Z"
   },
   {
    "duration": 385,
    "start_time": "2023-05-24T12:58:08.407Z"
   },
   {
    "duration": 149,
    "start_time": "2023-05-24T12:58:09.472Z"
   },
   {
    "duration": 15,
    "start_time": "2023-05-24T12:58:09.889Z"
   },
   {
    "duration": 37,
    "start_time": "2023-05-24T12:58:10.272Z"
   },
   {
    "duration": 652,
    "start_time": "2023-05-24T12:58:10.656Z"
   },
   {
    "duration": 143,
    "start_time": "2023-05-24T12:58:11.985Z"
   },
   {
    "duration": 16,
    "start_time": "2023-05-24T12:58:12.284Z"
   },
   {
    "duration": 38,
    "start_time": "2023-05-24T12:58:12.472Z"
   },
   {
    "duration": 502,
    "start_time": "2023-05-24T12:58:12.668Z"
   },
   {
    "duration": 138,
    "start_time": "2023-05-24T12:58:13.172Z"
   },
   {
    "duration": 14,
    "start_time": "2023-05-24T12:58:13.311Z"
   },
   {
    "duration": 35,
    "start_time": "2023-05-24T12:58:14.044Z"
   },
   {
    "duration": 429,
    "start_time": "2023-05-24T12:58:14.081Z"
   },
   {
    "duration": 185,
    "start_time": "2023-05-24T12:58:15.173Z"
   },
   {
    "duration": 10,
    "start_time": "2023-05-24T12:58:15.652Z"
   },
   {
    "duration": 54,
    "start_time": "2023-05-24T12:58:16.116Z"
   },
   {
    "duration": 57,
    "start_time": "2023-05-24T12:58:16.600Z"
   },
   {
    "duration": 51,
    "start_time": "2023-05-24T12:58:16.971Z"
   },
   {
    "duration": 100,
    "start_time": "2023-05-24T12:58:18.157Z"
   },
   {
    "duration": 567,
    "start_time": "2023-05-24T13:01:09.476Z"
   },
   {
    "duration": 114,
    "start_time": "2023-05-24T13:02:06.518Z"
   },
   {
    "duration": 170,
    "start_time": "2023-05-24T13:03:23.706Z"
   },
   {
    "duration": 201,
    "start_time": "2023-05-24T13:04:10.491Z"
   },
   {
    "duration": 180,
    "start_time": "2023-05-24T13:04:17.168Z"
   },
   {
    "duration": 153,
    "start_time": "2023-05-24T13:04:59.781Z"
   },
   {
    "duration": 176,
    "start_time": "2023-05-24T13:06:27.457Z"
   },
   {
    "duration": 820,
    "start_time": "2023-05-24T13:09:07.224Z"
   },
   {
    "duration": 2,
    "start_time": "2023-05-24T13:09:32.891Z"
   },
   {
    "duration": 966,
    "start_time": "2023-05-24T13:09:38.077Z"
   },
   {
    "duration": 253,
    "start_time": "2023-05-24T13:10:11.305Z"
   },
   {
    "duration": 176,
    "start_time": "2023-05-24T13:10:20.589Z"
   },
   {
    "duration": 441,
    "start_time": "2023-05-24T13:43:12.198Z"
   },
   {
    "duration": 90,
    "start_time": "2023-05-24T13:51:17.249Z"
   },
   {
    "duration": 3,
    "start_time": "2023-05-24T14:11:53.776Z"
   },
   {
    "duration": 1394,
    "start_time": "2023-05-24T14:12:00.902Z"
   },
   {
    "duration": 145,
    "start_time": "2023-05-24T14:12:09.053Z"
   },
   {
    "duration": 15,
    "start_time": "2023-05-24T14:12:09.705Z"
   },
   {
    "duration": 36,
    "start_time": "2023-05-24T14:12:10.381Z"
   },
   {
    "duration": 442,
    "start_time": "2023-05-24T14:12:11.771Z"
   },
   {
    "duration": 139,
    "start_time": "2023-05-24T14:12:13.166Z"
   },
   {
    "duration": 13,
    "start_time": "2023-05-24T14:12:14.020Z"
   },
   {
    "duration": 36,
    "start_time": "2023-05-24T14:12:14.851Z"
   },
   {
    "duration": 452,
    "start_time": "2023-05-24T14:12:15.908Z"
   },
   {
    "duration": 137,
    "start_time": "2023-05-24T14:12:17.099Z"
   },
   {
    "duration": 18,
    "start_time": "2023-05-24T14:12:17.994Z"
   },
   {
    "duration": 37,
    "start_time": "2023-05-24T14:12:19.069Z"
   },
   {
    "duration": 532,
    "start_time": "2023-05-24T14:12:20.565Z"
   },
   {
    "duration": 172,
    "start_time": "2023-05-24T14:12:23.898Z"
   },
   {
    "duration": 10,
    "start_time": "2023-05-24T14:12:24.865Z"
   },
   {
    "duration": 59,
    "start_time": "2023-05-24T14:12:25.723Z"
   },
   {
    "duration": 58,
    "start_time": "2023-05-24T14:12:26.497Z"
   },
   {
    "duration": 46,
    "start_time": "2023-05-24T14:12:27.126Z"
   },
   {
    "duration": 82,
    "start_time": "2023-05-24T14:12:28.561Z"
   },
   {
    "duration": 61,
    "start_time": "2023-05-24T14:12:31.575Z"
   },
   {
    "duration": 120,
    "start_time": "2023-05-24T14:15:03.265Z"
   },
   {
    "duration": 13,
    "start_time": "2023-05-24T14:15:12.398Z"
   },
   {
    "duration": 35,
    "start_time": "2023-05-24T14:16:23.317Z"
   },
   {
    "duration": 34,
    "start_time": "2023-05-24T14:19:55.998Z"
   },
   {
    "duration": 44,
    "start_time": "2023-05-24T14:20:21.274Z"
   },
   {
    "duration": 32,
    "start_time": "2023-05-24T14:20:58.310Z"
   },
   {
    "duration": 20,
    "start_time": "2023-05-24T14:25:17.895Z"
   },
   {
    "duration": 23,
    "start_time": "2023-05-24T14:25:23.804Z"
   },
   {
    "duration": 119,
    "start_time": "2023-05-24T14:27:19.877Z"
   },
   {
    "duration": 1570,
    "start_time": "2023-05-27T08:43:38.593Z"
   },
   {
    "duration": 578,
    "start_time": "2023-05-27T08:43:40.166Z"
   },
   {
    "duration": 27,
    "start_time": "2023-05-27T08:43:40.747Z"
   },
   {
    "duration": 53,
    "start_time": "2023-05-27T08:43:41.236Z"
   },
   {
    "duration": 551,
    "start_time": "2023-05-27T08:43:41.702Z"
   },
   {
    "duration": 643,
    "start_time": "2023-05-27T08:43:42.279Z"
   },
   {
    "duration": 14,
    "start_time": "2023-05-27T08:43:42.924Z"
   },
   {
    "duration": 44,
    "start_time": "2023-05-27T08:43:43.456Z"
   },
   {
    "duration": 552,
    "start_time": "2023-05-27T08:43:44.039Z"
   },
   {
    "duration": 639,
    "start_time": "2023-05-27T08:43:44.674Z"
   },
   {
    "duration": 15,
    "start_time": "2023-05-27T08:43:45.315Z"
   },
   {
    "duration": 48,
    "start_time": "2023-05-27T08:43:45.833Z"
   },
   {
    "duration": 587,
    "start_time": "2023-05-27T08:43:46.377Z"
   },
   {
    "duration": 91,
    "start_time": "2023-05-27T09:06:39.703Z"
   },
   {
    "duration": 64,
    "start_time": "2023-05-27T09:06:40.701Z"
   },
   {
    "duration": 100,
    "start_time": "2023-05-27T09:06:41.328Z"
   },
   {
    "duration": 131,
    "start_time": "2023-05-27T09:06:42.814Z"
   },
   {
    "duration": 128,
    "start_time": "2023-05-27T09:10:17.641Z"
   },
   {
    "duration": 1482,
    "start_time": "2023-05-27T09:11:26.248Z"
   },
   {
    "duration": 180,
    "start_time": "2023-05-27T09:11:27.731Z"
   },
   {
    "duration": 17,
    "start_time": "2023-05-27T09:11:27.913Z"
   },
   {
    "duration": 69,
    "start_time": "2023-05-27T09:11:27.932Z"
   },
   {
    "duration": 577,
    "start_time": "2023-05-27T09:11:28.035Z"
   },
   {
    "duration": 144,
    "start_time": "2023-05-27T09:11:28.614Z"
   },
   {
    "duration": 19,
    "start_time": "2023-05-27T09:11:28.902Z"
   },
   {
    "duration": 39,
    "start_time": "2023-05-27T09:11:29.695Z"
   },
   {
    "duration": 588,
    "start_time": "2023-05-27T09:11:30.116Z"
   },
   {
    "duration": 163,
    "start_time": "2023-05-27T09:11:30.706Z"
   },
   {
    "duration": 22,
    "start_time": "2023-05-27T09:11:31.525Z"
   },
   {
    "duration": 79,
    "start_time": "2023-05-27T09:11:31.945Z"
   },
   {
    "duration": 640,
    "start_time": "2023-05-27T09:11:32.401Z"
   },
   {
    "duration": 91,
    "start_time": "2023-05-27T09:11:34.107Z"
   },
   {
    "duration": 57,
    "start_time": "2023-05-27T09:11:34.496Z"
   },
   {
    "duration": 72,
    "start_time": "2023-05-27T09:11:34.835Z"
   },
   {
    "duration": 87,
    "start_time": "2023-05-27T09:11:35.699Z"
   },
   {
    "duration": 142,
    "start_time": "2023-05-27T09:11:56.239Z"
   },
   {
    "duration": 4,
    "start_time": "2023-05-27T09:12:13.205Z"
   },
   {
    "duration": 13,
    "start_time": "2023-05-27T09:12:15.015Z"
   },
   {
    "duration": 24,
    "start_time": "2023-05-27T09:12:31.844Z"
   },
   {
    "duration": 1585,
    "start_time": "2023-05-27T09:12:45.555Z"
   },
   {
    "duration": 179,
    "start_time": "2023-05-27T09:12:47.142Z"
   },
   {
    "duration": 15,
    "start_time": "2023-05-27T09:12:47.323Z"
   },
   {
    "duration": 46,
    "start_time": "2023-05-27T09:12:47.534Z"
   },
   {
    "duration": 540,
    "start_time": "2023-05-27T09:12:47.904Z"
   },
   {
    "duration": 242,
    "start_time": "2023-05-27T09:12:48.447Z"
   },
   {
    "duration": 15,
    "start_time": "2023-05-27T09:12:48.803Z"
   },
   {
    "duration": 57,
    "start_time": "2023-05-27T09:12:49.311Z"
   },
   {
    "duration": 612,
    "start_time": "2023-05-27T09:12:49.535Z"
   },
   {
    "duration": 173,
    "start_time": "2023-05-27T09:12:50.149Z"
   },
   {
    "duration": 16,
    "start_time": "2023-05-27T09:12:50.324Z"
   },
   {
    "duration": 61,
    "start_time": "2023-05-27T09:12:50.344Z"
   },
   {
    "duration": 668,
    "start_time": "2023-05-27T09:12:50.736Z"
   },
   {
    "duration": 85,
    "start_time": "2023-05-27T09:12:52.039Z"
   },
   {
    "duration": 61,
    "start_time": "2023-05-27T09:12:52.387Z"
   },
   {
    "duration": 80,
    "start_time": "2023-05-27T09:12:52.727Z"
   },
   {
    "duration": 96,
    "start_time": "2023-05-27T09:12:53.618Z"
   },
   {
    "duration": 4,
    "start_time": "2023-05-27T09:12:57.099Z"
   },
   {
    "duration": 4,
    "start_time": "2023-05-27T09:13:31.440Z"
   },
   {
    "duration": 110,
    "start_time": "2023-05-27T09:14:39.786Z"
   },
   {
    "duration": 5,
    "start_time": "2023-05-27T09:14:42.509Z"
   },
   {
    "duration": 11,
    "start_time": "2023-05-27T09:19:02.439Z"
   },
   {
    "duration": 363,
    "start_time": "2023-05-27T09:19:19.917Z"
   },
   {
    "duration": 381,
    "start_time": "2023-05-27T09:19:42.828Z"
   },
   {
    "duration": 396,
    "start_time": "2023-05-27T09:20:29.031Z"
   },
   {
    "duration": 485,
    "start_time": "2023-05-27T09:20:31.243Z"
   },
   {
    "duration": 489,
    "start_time": "2023-05-27T09:21:56.813Z"
   },
   {
    "duration": 462,
    "start_time": "2023-05-27T09:21:59.056Z"
   },
   {
    "duration": 689,
    "start_time": "2023-05-27T09:25:06.886Z"
   },
   {
    "duration": 217,
    "start_time": "2023-05-27T09:25:35.204Z"
   },
   {
    "duration": 667,
    "start_time": "2023-05-27T09:25:47.399Z"
   },
   {
    "duration": 610,
    "start_time": "2023-05-27T09:26:14.122Z"
   },
   {
    "duration": 617,
    "start_time": "2023-05-27T09:27:55.953Z"
   },
   {
    "duration": 26,
    "start_time": "2023-05-27T09:28:06.411Z"
   },
   {
    "duration": 559,
    "start_time": "2023-05-27T09:28:13.706Z"
   },
   {
    "duration": 453,
    "start_time": "2023-05-27T09:28:20.010Z"
   },
   {
    "duration": 497,
    "start_time": "2023-05-27T09:28:29.147Z"
   },
   {
    "duration": 577,
    "start_time": "2023-05-27T09:29:39.527Z"
   },
   {
    "duration": 559,
    "start_time": "2023-05-27T09:29:51.012Z"
   },
   {
    "duration": 601,
    "start_time": "2023-05-27T09:30:07.586Z"
   },
   {
    "duration": 579,
    "start_time": "2023-05-27T09:30:17.736Z"
   },
   {
    "duration": 534,
    "start_time": "2023-05-27T09:30:26.647Z"
   },
   {
    "duration": 708,
    "start_time": "2023-05-27T09:30:59.991Z"
   },
   {
    "duration": 606,
    "start_time": "2023-05-27T09:31:27.339Z"
   },
   {
    "duration": 655,
    "start_time": "2023-05-27T09:31:30.354Z"
   },
   {
    "duration": 587,
    "start_time": "2023-05-27T09:32:18.536Z"
   },
   {
    "duration": 594,
    "start_time": "2023-05-27T09:32:37.610Z"
   },
   {
    "duration": 554,
    "start_time": "2023-05-27T09:32:40.611Z"
   },
   {
    "duration": 669,
    "start_time": "2023-05-27T09:32:47.650Z"
   },
   {
    "duration": 712,
    "start_time": "2023-05-27T09:32:58.522Z"
   },
   {
    "duration": 104,
    "start_time": "2023-05-27T09:53:22.176Z"
   },
   {
    "duration": 16,
    "start_time": "2023-05-27T09:53:27.178Z"
   },
   {
    "duration": 159,
    "start_time": "2023-05-27T09:54:16.611Z"
   },
   {
    "duration": 182,
    "start_time": "2023-05-27T09:54:20.554Z"
   },
   {
    "duration": 1494,
    "start_time": "2023-05-27T10:49:43.640Z"
   },
   {
    "duration": 533,
    "start_time": "2023-05-27T10:49:45.135Z"
   },
   {
    "duration": 20,
    "start_time": "2023-05-27T10:49:45.670Z"
   },
   {
    "duration": 42,
    "start_time": "2023-05-27T10:49:45.912Z"
   },
   {
    "duration": 492,
    "start_time": "2023-05-27T10:49:46.303Z"
   },
   {
    "duration": 576,
    "start_time": "2023-05-27T10:49:46.796Z"
   },
   {
    "duration": 16,
    "start_time": "2023-05-27T10:49:47.374Z"
   },
   {
    "duration": 36,
    "start_time": "2023-05-27T10:49:47.575Z"
   },
   {
    "duration": 490,
    "start_time": "2023-05-27T10:49:47.957Z"
   },
   {
    "duration": 282,
    "start_time": "2023-05-27T10:49:48.449Z"
   },
   {
    "duration": 15,
    "start_time": "2023-05-27T10:49:48.738Z"
   },
   {
    "duration": 37,
    "start_time": "2023-05-27T10:49:49.142Z"
   },
   {
    "duration": 566,
    "start_time": "2023-05-27T10:49:49.588Z"
   },
   {
    "duration": 62,
    "start_time": "2023-05-27T10:49:51.284Z"
   },
   {
    "duration": 66,
    "start_time": "2023-05-27T10:49:51.710Z"
   },
   {
    "duration": 62,
    "start_time": "2023-05-27T10:49:52.151Z"
   },
   {
    "duration": 74,
    "start_time": "2023-05-27T10:49:53.292Z"
   },
   {
    "duration": 5,
    "start_time": "2023-05-27T10:49:53.723Z"
   },
   {
    "duration": 461,
    "start_time": "2023-05-27T10:49:57.112Z"
   },
   {
    "duration": 494,
    "start_time": "2023-05-27T10:49:57.681Z"
   },
   {
    "duration": 471,
    "start_time": "2023-05-27T10:49:58.777Z"
   },
   {
    "duration": 10,
    "start_time": "2023-05-27T10:50:11.399Z"
   },
   {
    "duration": 494,
    "start_time": "2023-05-27T11:07:52.793Z"
   },
   {
    "duration": 462,
    "start_time": "2023-05-27T11:09:38.053Z"
   },
   {
    "duration": 8,
    "start_time": "2023-05-27T11:09:52.743Z"
   },
   {
    "duration": 113,
    "start_time": "2023-05-27T11:15:43.002Z"
   },
   {
    "duration": 18,
    "start_time": "2023-05-27T11:15:47.837Z"
   },
   {
    "duration": 12,
    "start_time": "2023-05-27T11:16:00.899Z"
   },
   {
    "duration": 11,
    "start_time": "2023-05-27T11:16:52.039Z"
   },
   {
    "duration": 13,
    "start_time": "2023-05-27T11:17:11.596Z"
   },
   {
    "duration": 41,
    "start_time": "2023-05-27T11:18:07.447Z"
   },
   {
    "duration": 23,
    "start_time": "2023-05-27T11:19:41.588Z"
   },
   {
    "duration": 23,
    "start_time": "2023-05-27T11:19:51.689Z"
   },
   {
    "duration": 35,
    "start_time": "2023-05-27T11:20:01.543Z"
   },
   {
    "duration": 22,
    "start_time": "2023-05-27T11:20:23.218Z"
   },
   {
    "duration": 37,
    "start_time": "2023-05-27T11:20:27.885Z"
   },
   {
    "duration": 27,
    "start_time": "2023-05-27T11:20:38.297Z"
   },
   {
    "duration": 21,
    "start_time": "2023-05-27T11:29:18.991Z"
   },
   {
    "duration": 5,
    "start_time": "2023-05-27T11:30:43.998Z"
   },
   {
    "duration": 8,
    "start_time": "2023-05-27T11:31:32.585Z"
   },
   {
    "duration": 434,
    "start_time": "2023-05-27T11:31:48.067Z"
   },
   {
    "duration": 578,
    "start_time": "2023-05-27T11:31:57.611Z"
   },
   {
    "duration": 489,
    "start_time": "2023-05-27T11:32:01.414Z"
   },
   {
    "duration": 459,
    "start_time": "2023-05-27T11:32:15.379Z"
   },
   {
    "duration": 422,
    "start_time": "2023-05-27T11:32:35.791Z"
   },
   {
    "duration": 449,
    "start_time": "2023-05-27T11:32:48.593Z"
   },
   {
    "duration": 422,
    "start_time": "2023-05-27T11:32:56.252Z"
   },
   {
    "duration": 421,
    "start_time": "2023-05-27T11:33:02.718Z"
   },
   {
    "duration": 478,
    "start_time": "2023-05-27T11:33:08.188Z"
   },
   {
    "duration": 25,
    "start_time": "2023-05-27T11:39:09.446Z"
   },
   {
    "duration": 21,
    "start_time": "2023-05-27T11:39:21.371Z"
   },
   {
    "duration": 15,
    "start_time": "2023-05-27T11:39:29.289Z"
   },
   {
    "duration": 61,
    "start_time": "2023-05-27T11:42:33.717Z"
   },
   {
    "duration": 7,
    "start_time": "2023-05-27T11:50:28.159Z"
   },
   {
    "duration": 12,
    "start_time": "2023-05-27T11:51:35.795Z"
   },
   {
    "duration": 43,
    "start_time": "2023-05-27T11:52:23.492Z"
   },
   {
    "duration": 8,
    "start_time": "2023-05-27T11:53:13.527Z"
   },
   {
    "duration": 163,
    "start_time": "2023-05-27T11:53:32.498Z"
   },
   {
    "duration": 4,
    "start_time": "2023-05-27T11:56:19.223Z"
   },
   {
    "duration": 9,
    "start_time": "2023-05-27T13:47:01.909Z"
   },
   {
    "duration": 53,
    "start_time": "2023-05-27T13:51:56.455Z"
   },
   {
    "duration": 1530,
    "start_time": "2023-05-27T13:52:08.114Z"
   },
   {
    "duration": 823,
    "start_time": "2023-05-27T13:52:09.647Z"
   },
   {
    "duration": 18,
    "start_time": "2023-05-27T13:52:10.471Z"
   },
   {
    "duration": 39,
    "start_time": "2023-05-27T13:52:10.492Z"
   },
   {
    "duration": 504,
    "start_time": "2023-05-27T13:52:10.533Z"
   },
   {
    "duration": 557,
    "start_time": "2023-05-27T13:52:11.039Z"
   },
   {
    "duration": 14,
    "start_time": "2023-05-27T13:52:11.597Z"
   },
   {
    "duration": 35,
    "start_time": "2023-05-27T13:52:11.612Z"
   },
   {
    "duration": 493,
    "start_time": "2023-05-27T13:52:11.651Z"
   },
   {
    "duration": 541,
    "start_time": "2023-05-27T13:52:12.146Z"
   },
   {
    "duration": 12,
    "start_time": "2023-05-27T13:52:12.689Z"
   },
   {
    "duration": 33,
    "start_time": "2023-05-27T13:52:12.703Z"
   },
   {
    "duration": 541,
    "start_time": "2023-05-27T13:52:12.737Z"
   },
   {
    "duration": 70,
    "start_time": "2023-05-27T13:52:13.280Z"
   },
   {
    "duration": 49,
    "start_time": "2023-05-27T13:52:13.352Z"
   },
   {
    "duration": 62,
    "start_time": "2023-05-27T13:52:13.402Z"
   },
   {
    "duration": 66,
    "start_time": "2023-05-27T13:52:13.480Z"
   },
   {
    "duration": 4,
    "start_time": "2023-05-27T13:52:13.714Z"
   },
   {
    "duration": 393,
    "start_time": "2023-05-27T13:52:14.546Z"
   },
   {
    "duration": 9,
    "start_time": "2023-05-27T13:52:14.941Z"
   },
   {
    "duration": 382,
    "start_time": "2023-05-27T13:52:15.059Z"
   },
   {
    "duration": 13,
    "start_time": "2023-05-27T13:52:15.442Z"
   },
   {
    "duration": 397,
    "start_time": "2023-05-27T13:52:15.812Z"
   },
   {
    "duration": 20,
    "start_time": "2023-05-27T13:52:16.356Z"
   },
   {
    "duration": 9,
    "start_time": "2023-05-27T13:52:17.137Z"
   },
   {
    "duration": 21,
    "start_time": "2023-05-27T13:52:17.712Z"
   },
   {
    "duration": 5,
    "start_time": "2023-05-27T13:52:18.226Z"
   },
   {
    "duration": 7,
    "start_time": "2023-05-27T13:52:19.345Z"
   },
   {
    "duration": 16,
    "start_time": "2023-05-27T13:52:20.867Z"
   },
   {
    "duration": 16,
    "start_time": "2023-05-27T13:52:21.353Z"
   },
   {
    "duration": 16,
    "start_time": "2023-05-27T13:52:21.967Z"
   },
   {
    "duration": 39,
    "start_time": "2023-05-27T13:52:23.925Z"
   },
   {
    "duration": 44,
    "start_time": "2023-05-27T13:52:25.029Z"
   },
   {
    "duration": 193,
    "start_time": "2023-05-27T13:52:26.259Z"
   },
   {
    "duration": 5,
    "start_time": "2023-05-27T13:52:27.705Z"
   },
   {
    "duration": 3,
    "start_time": "2023-05-27T13:52:39.631Z"
   },
   {
    "duration": 1362,
    "start_time": "2023-05-27T14:09:38.887Z"
   },
   {
    "duration": 150,
    "start_time": "2023-05-27T14:09:42.108Z"
   },
   {
    "duration": 17,
    "start_time": "2023-05-27T14:09:42.942Z"
   },
   {
    "duration": 38,
    "start_time": "2023-05-27T14:09:43.505Z"
   },
   {
    "duration": 562,
    "start_time": "2023-05-27T14:09:44.101Z"
   },
   {
    "duration": 133,
    "start_time": "2023-05-27T14:09:44.714Z"
   },
   {
    "duration": 18,
    "start_time": "2023-05-27T14:09:45.293Z"
   },
   {
    "duration": 38,
    "start_time": "2023-05-27T14:09:45.945Z"
   },
   {
    "duration": 493,
    "start_time": "2023-05-27T14:09:46.596Z"
   },
   {
    "duration": 135,
    "start_time": "2023-05-27T14:09:47.473Z"
   },
   {
    "duration": 18,
    "start_time": "2023-05-27T14:09:48.129Z"
   },
   {
    "duration": 50,
    "start_time": "2023-05-27T14:09:48.749Z"
   },
   {
    "duration": 582,
    "start_time": "2023-05-27T14:09:49.943Z"
   },
   {
    "duration": 56,
    "start_time": "2023-05-27T14:10:47.372Z"
   },
   {
    "duration": 51,
    "start_time": "2023-05-27T14:10:48.173Z"
   },
   {
    "duration": 51,
    "start_time": "2023-05-27T14:10:49.058Z"
   },
   {
    "duration": 97,
    "start_time": "2023-05-27T14:10:52.683Z"
   },
   {
    "duration": 4,
    "start_time": "2023-05-27T14:10:53.733Z"
   },
   {
    "duration": 398,
    "start_time": "2023-05-27T14:10:58.580Z"
   },
   {
    "duration": 414,
    "start_time": "2023-05-27T14:11:10.250Z"
   },
   {
    "duration": 438,
    "start_time": "2023-05-27T14:11:14.633Z"
   },
   {
    "duration": 8,
    "start_time": "2023-05-27T14:11:31.499Z"
   },
   {
    "duration": 44,
    "start_time": "2023-05-27T14:16:46.025Z"
   },
   {
    "duration": 47,
    "start_time": "2023-05-27T14:16:49.719Z"
   },
   {
    "duration": 132,
    "start_time": "2023-05-27T14:17:27.719Z"
   },
   {
    "duration": 5,
    "start_time": "2023-05-27T14:17:30.294Z"
   },
   {
    "duration": 34,
    "start_time": "2023-05-27T14:24:39.443Z"
   },
   {
    "duration": 36,
    "start_time": "2023-05-27T14:24:49.929Z"
   },
   {
    "duration": 6,
    "start_time": "2023-05-27T14:24:54.512Z"
   },
   {
    "duration": 41,
    "start_time": "2023-05-27T14:25:12.335Z"
   },
   {
    "duration": 100,
    "start_time": "2023-05-27T14:25:18.562Z"
   },
   {
    "duration": 5,
    "start_time": "2023-05-27T14:25:23.772Z"
   },
   {
    "duration": 3,
    "start_time": "2023-05-27T14:32:16.524Z"
   },
   {
    "duration": 104,
    "start_time": "2023-05-27T14:52:08.792Z"
   },
   {
    "duration": 3,
    "start_time": "2023-05-27T14:52:11.801Z"
   },
   {
    "duration": 4,
    "start_time": "2023-05-27T14:52:12.282Z"
   },
   {
    "duration": 5,
    "start_time": "2023-05-27T14:52:44.708Z"
   },
   {
    "duration": 4,
    "start_time": "2023-05-27T14:53:11.364Z"
   },
   {
    "duration": 5,
    "start_time": "2023-05-27T15:02:44.084Z"
   },
   {
    "duration": 3,
    "start_time": "2023-05-27T15:07:40.317Z"
   },
   {
    "duration": 5,
    "start_time": "2023-05-27T15:07:40.751Z"
   },
   {
    "duration": 4,
    "start_time": "2023-05-27T15:08:45.307Z"
   },
   {
    "duration": 16,
    "start_time": "2023-05-27T15:20:23.430Z"
   },
   {
    "duration": 5,
    "start_time": "2023-05-27T15:20:39.491Z"
   },
   {
    "duration": 7,
    "start_time": "2023-05-27T15:20:44.611Z"
   },
   {
    "duration": 14,
    "start_time": "2023-05-27T15:24:44.043Z"
   },
   {
    "duration": 13,
    "start_time": "2023-05-27T15:25:50.305Z"
   },
   {
    "duration": 5,
    "start_time": "2023-05-27T15:26:56.888Z"
   },
   {
    "duration": 15,
    "start_time": "2023-05-27T15:26:57.233Z"
   },
   {
    "duration": 4,
    "start_time": "2023-05-27T15:27:43.528Z"
   },
   {
    "duration": 20,
    "start_time": "2023-05-27T15:27:44.157Z"
   },
   {
    "duration": 1355,
    "start_time": "2023-05-27T18:32:48.524Z"
   },
   {
    "duration": 623,
    "start_time": "2023-05-27T18:32:51.815Z"
   },
   {
    "duration": 15,
    "start_time": "2023-05-27T18:32:53.142Z"
   },
   {
    "duration": 42,
    "start_time": "2023-05-27T18:32:54.297Z"
   },
   {
    "duration": 408,
    "start_time": "2023-05-27T18:32:55.167Z"
   },
   {
    "duration": 240,
    "start_time": "2023-05-27T18:32:56.114Z"
   },
   {
    "duration": 12,
    "start_time": "2023-05-27T18:32:56.931Z"
   },
   {
    "duration": 43,
    "start_time": "2023-05-27T18:32:57.569Z"
   },
   {
    "duration": 433,
    "start_time": "2023-05-27T18:32:58.235Z"
   },
   {
    "duration": 251,
    "start_time": "2023-05-27T18:32:59.165Z"
   },
   {
    "duration": 12,
    "start_time": "2023-05-27T18:33:00.033Z"
   },
   {
    "duration": 36,
    "start_time": "2023-05-27T18:33:00.916Z"
   },
   {
    "duration": 535,
    "start_time": "2023-05-27T18:33:01.672Z"
   },
   {
    "duration": 48,
    "start_time": "2023-05-27T18:33:40.611Z"
   },
   {
    "duration": 61,
    "start_time": "2023-05-27T18:33:41.576Z"
   },
   {
    "duration": 38,
    "start_time": "2023-05-27T18:33:43.329Z"
   },
   {
    "duration": 59,
    "start_time": "2023-05-27T18:33:51.822Z"
   },
   {
    "duration": 4,
    "start_time": "2023-05-27T18:33:52.765Z"
   },
   {
    "duration": 415,
    "start_time": "2023-05-27T18:33:57.062Z"
   },
   {
    "duration": 455,
    "start_time": "2023-05-27T18:33:58.268Z"
   },
   {
    "duration": 420,
    "start_time": "2023-05-27T18:33:59.125Z"
   },
   {
    "duration": 4,
    "start_time": "2023-05-27T18:45:01.868Z"
   },
   {
    "duration": 6,
    "start_time": "2023-05-27T18:45:15.623Z"
   },
   {
    "duration": 6,
    "start_time": "2023-05-27T18:45:22.268Z"
   },
   {
    "duration": 118,
    "start_time": "2023-05-27T18:46:09.753Z"
   },
   {
    "duration": 64,
    "start_time": "2023-05-27T18:46:18.080Z"
   },
   {
    "duration": 5,
    "start_time": "2023-05-27T18:46:51.054Z"
   },
   {
    "duration": 4,
    "start_time": "2023-05-27T18:46:53.467Z"
   },
   {
    "duration": 34,
    "start_time": "2023-05-27T18:46:54.016Z"
   },
   {
    "duration": 8,
    "start_time": "2023-05-27T18:47:46.508Z"
   },
   {
    "duration": 33,
    "start_time": "2023-05-27T18:47:46.914Z"
   },
   {
    "duration": 5,
    "start_time": "2023-05-27T18:48:55.173Z"
   },
   {
    "duration": 33,
    "start_time": "2023-05-27T18:48:55.633Z"
   },
   {
    "duration": 60,
    "start_time": "2023-05-27T18:50:31.966Z"
   },
   {
    "duration": 78,
    "start_time": "2023-05-27T18:55:16.884Z"
   },
   {
    "duration": 4,
    "start_time": "2023-05-27T18:56:22.668Z"
   },
   {
    "duration": 17,
    "start_time": "2023-05-27T18:56:23.564Z"
   },
   {
    "duration": 4,
    "start_time": "2023-05-27T18:56:42.769Z"
   },
   {
    "duration": 261,
    "start_time": "2023-05-27T18:56:43.605Z"
   },
   {
    "duration": 1280,
    "start_time": "2023-05-27T19:00:53.431Z"
   },
   {
    "duration": 135,
    "start_time": "2023-05-27T19:00:54.713Z"
   },
   {
    "duration": 14,
    "start_time": "2023-05-27T19:00:55.023Z"
   },
   {
    "duration": 36,
    "start_time": "2023-05-27T19:00:55.442Z"
   },
   {
    "duration": 484,
    "start_time": "2023-05-27T19:00:55.844Z"
   },
   {
    "duration": 147,
    "start_time": "2023-05-27T19:00:56.329Z"
   },
   {
    "duration": 13,
    "start_time": "2023-05-27T19:00:56.723Z"
   },
   {
    "duration": 43,
    "start_time": "2023-05-27T19:00:57.151Z"
   },
   {
    "duration": 442,
    "start_time": "2023-05-27T19:00:57.610Z"
   },
   {
    "duration": 145,
    "start_time": "2023-05-27T19:00:58.054Z"
   },
   {
    "duration": 13,
    "start_time": "2023-05-27T19:00:58.543Z"
   },
   {
    "duration": 33,
    "start_time": "2023-05-27T19:00:59.043Z"
   },
   {
    "duration": 525,
    "start_time": "2023-05-27T19:00:59.515Z"
   },
   {
    "duration": 67,
    "start_time": "2023-05-27T19:01:02.139Z"
   },
   {
    "duration": 60,
    "start_time": "2023-05-27T19:01:02.207Z"
   },
   {
    "duration": 41,
    "start_time": "2023-05-27T19:01:02.923Z"
   },
   {
    "duration": 75,
    "start_time": "2023-05-27T19:01:04.246Z"
   },
   {
    "duration": 3,
    "start_time": "2023-05-27T19:01:05.327Z"
   },
   {
    "duration": 441,
    "start_time": "2023-05-27T19:01:06.881Z"
   },
   {
    "duration": 394,
    "start_time": "2023-05-27T19:01:07.659Z"
   },
   {
    "duration": 399,
    "start_time": "2023-05-27T19:01:08.523Z"
   },
   {
    "duration": 3,
    "start_time": "2023-05-27T19:01:10.554Z"
   },
   {
    "duration": 269,
    "start_time": "2023-05-27T19:02:34.169Z"
   },
   {
    "duration": 4,
    "start_time": "2023-05-27T19:03:07.615Z"
   },
   {
    "duration": 3,
    "start_time": "2023-05-27T19:03:41.220Z"
   },
   {
    "duration": 9,
    "start_time": "2023-05-27T19:03:56.254Z"
   },
   {
    "duration": 36,
    "start_time": "2023-05-27T19:05:23.223Z"
   },
   {
    "duration": 6,
    "start_time": "2023-05-27T19:05:34.172Z"
   },
   {
    "duration": 4,
    "start_time": "2023-05-27T19:06:36.067Z"
   },
   {
    "duration": 4,
    "start_time": "2023-05-27T19:06:36.831Z"
   },
   {
    "duration": 4,
    "start_time": "2023-05-27T19:06:37.515Z"
   },
   {
    "duration": 50,
    "start_time": "2023-05-27T19:08:12.307Z"
   },
   {
    "duration": 87,
    "start_time": "2023-05-27T19:08:46.223Z"
   },
   {
    "duration": 6,
    "start_time": "2023-05-27T19:08:54.323Z"
   },
   {
    "duration": 136,
    "start_time": "2023-05-27T19:11:51.180Z"
   },
   {
    "duration": 3,
    "start_time": "2023-05-27T19:11:55.228Z"
   },
   {
    "duration": 4,
    "start_time": "2023-05-27T19:11:55.767Z"
   },
   {
    "duration": 3,
    "start_time": "2023-05-27T19:17:25.359Z"
   },
   {
    "duration": 3,
    "start_time": "2023-05-27T19:25:20.765Z"
   },
   {
    "duration": 2,
    "start_time": "2023-05-27T19:25:21.320Z"
   },
   {
    "duration": 4,
    "start_time": "2023-05-27T19:25:50.012Z"
   },
   {
    "duration": 3,
    "start_time": "2023-05-27T19:30:03.826Z"
   },
   {
    "duration": 6,
    "start_time": "2023-05-27T19:30:04.763Z"
   },
   {
    "duration": 12,
    "start_time": "2023-05-27T19:30:05.339Z"
   },
   {
    "duration": 3,
    "start_time": "2023-05-27T19:34:05.228Z"
   },
   {
    "duration": 3,
    "start_time": "2023-05-27T19:35:37.568Z"
   },
   {
    "duration": 5,
    "start_time": "2023-05-27T19:38:30.602Z"
   },
   {
    "duration": 12,
    "start_time": "2023-05-27T19:38:31.307Z"
   },
   {
    "duration": 4,
    "start_time": "2023-05-27T19:52:34.283Z"
   },
   {
    "duration": 12,
    "start_time": "2023-05-27T19:52:35.380Z"
   },
   {
    "duration": 4,
    "start_time": "2023-05-27T19:55:39.689Z"
   },
   {
    "duration": 12,
    "start_time": "2023-05-27T19:55:40.492Z"
   },
   {
    "duration": 5,
    "start_time": "2023-05-27T19:56:06.544Z"
   },
   {
    "duration": 12,
    "start_time": "2023-05-27T19:56:07.726Z"
   },
   {
    "duration": 5,
    "start_time": "2023-05-27T19:57:32.416Z"
   },
   {
    "duration": 11,
    "start_time": "2023-05-27T19:57:32.917Z"
   },
   {
    "duration": 5,
    "start_time": "2023-05-27T19:57:45.383Z"
   },
   {
    "duration": 21,
    "start_time": "2023-05-27T19:57:46.187Z"
   },
   {
    "duration": 3,
    "start_time": "2023-05-27T19:58:23.105Z"
   },
   {
    "duration": 7,
    "start_time": "2023-05-27T19:58:23.542Z"
   },
   {
    "duration": 1041,
    "start_time": "2023-05-27T19:58:23.992Z"
   },
   {
    "duration": 5,
    "start_time": "2023-05-27T19:59:10.700Z"
   },
   {
    "duration": 1038,
    "start_time": "2023-05-27T19:59:11.289Z"
   },
   {
    "duration": 5,
    "start_time": "2023-05-27T19:59:36.543Z"
   },
   {
    "duration": 1024,
    "start_time": "2023-05-27T19:59:37.227Z"
   },
   {
    "duration": 1016,
    "start_time": "2023-05-27T20:00:11.208Z"
   },
   {
    "duration": 1034,
    "start_time": "2023-05-27T20:00:14.267Z"
   },
   {
    "duration": 1007,
    "start_time": "2023-05-27T20:02:10.885Z"
   },
   {
    "duration": 1032,
    "start_time": "2023-05-27T20:02:11.894Z"
   },
   {
    "duration": 994,
    "start_time": "2023-05-27T20:02:12.928Z"
   },
   {
    "duration": 1220,
    "start_time": "2023-05-27T20:11:27.685Z"
   },
   {
    "duration": 123,
    "start_time": "2023-05-27T20:11:29.188Z"
   },
   {
    "duration": 14,
    "start_time": "2023-05-27T20:11:29.646Z"
   },
   {
    "duration": 33,
    "start_time": "2023-05-27T20:11:30.064Z"
   },
   {
    "duration": 379,
    "start_time": "2023-05-27T20:11:30.463Z"
   },
   {
    "duration": 122,
    "start_time": "2023-05-27T20:11:30.843Z"
   },
   {
    "duration": 12,
    "start_time": "2023-05-27T20:11:31.211Z"
   },
   {
    "duration": 31,
    "start_time": "2023-05-27T20:11:31.565Z"
   },
   {
    "duration": 384,
    "start_time": "2023-05-27T20:11:31.931Z"
   },
   {
    "duration": 131,
    "start_time": "2023-05-27T20:11:32.317Z"
   },
   {
    "duration": 12,
    "start_time": "2023-05-27T20:11:32.642Z"
   },
   {
    "duration": 30,
    "start_time": "2023-05-27T20:11:32.997Z"
   },
   {
    "duration": 442,
    "start_time": "2023-05-27T20:11:33.384Z"
   },
   {
    "duration": 46,
    "start_time": "2023-05-27T20:11:34.842Z"
   },
   {
    "duration": 42,
    "start_time": "2023-05-27T20:11:35.169Z"
   },
   {
    "duration": 40,
    "start_time": "2023-05-27T20:11:35.507Z"
   },
   {
    "duration": 56,
    "start_time": "2023-05-27T20:11:36.179Z"
   },
   {
    "duration": 3,
    "start_time": "2023-05-27T20:11:36.501Z"
   },
   {
    "duration": 349,
    "start_time": "2023-05-27T20:11:37.264Z"
   },
   {
    "duration": 340,
    "start_time": "2023-05-27T20:11:37.662Z"
   },
   {
    "duration": 356,
    "start_time": "2023-05-27T20:11:38.003Z"
   },
   {
    "duration": 3,
    "start_time": "2023-05-27T20:11:38.756Z"
   },
   {
    "duration": 189,
    "start_time": "2023-05-27T20:11:39.162Z"
   },
   {
    "duration": 4,
    "start_time": "2023-05-27T20:11:39.490Z"
   },
   {
    "duration": 6,
    "start_time": "2023-05-27T20:11:41.265Z"
   },
   {
    "duration": 30,
    "start_time": "2023-05-27T20:11:43.609Z"
   },
   {
    "duration": 4,
    "start_time": "2023-05-27T20:11:44.080Z"
   },
   {
    "duration": 3,
    "start_time": "2023-05-27T20:11:44.573Z"
   },
   {
    "duration": 3,
    "start_time": "2023-05-27T20:11:45.068Z"
   },
   {
    "duration": 93,
    "start_time": "2023-05-27T20:11:45.999Z"
   },
   {
    "duration": 4,
    "start_time": "2023-05-27T20:11:46.523Z"
   },
   {
    "duration": 3,
    "start_time": "2023-05-27T20:11:50.866Z"
   },
   {
    "duration": 4,
    "start_time": "2023-05-27T20:11:51.396Z"
   },
   {
    "duration": 3,
    "start_time": "2023-05-27T20:11:52.002Z"
   },
   {
    "duration": 4,
    "start_time": "2023-05-27T20:11:53.940Z"
   },
   {
    "duration": 6,
    "start_time": "2023-05-27T20:11:54.610Z"
   },
   {
    "duration": 1122,
    "start_time": "2023-05-27T20:11:55.423Z"
   },
   {
    "duration": 1028,
    "start_time": "2023-05-27T20:11:58.279Z"
   },
   {
    "duration": 1052,
    "start_time": "2023-05-27T20:12:01.107Z"
   },
   {
    "duration": 5,
    "start_time": "2023-05-27T20:14:12.225Z"
   },
   {
    "duration": 105,
    "start_time": "2023-05-27T20:14:12.965Z"
   },
   {
    "duration": 3,
    "start_time": "2023-05-27T20:14:41.920Z"
   },
   {
    "duration": 5,
    "start_time": "2023-05-27T20:14:42.365Z"
   },
   {
    "duration": 12,
    "start_time": "2023-05-27T20:14:42.770Z"
   },
   {
    "duration": 5,
    "start_time": "2023-05-27T20:15:14.087Z"
   },
   {
    "duration": 1021,
    "start_time": "2023-05-27T20:15:14.564Z"
   },
   {
    "duration": 1193,
    "start_time": "2023-05-27T20:16:35.588Z"
   },
   {
    "duration": 122,
    "start_time": "2023-05-27T20:16:36.783Z"
   },
   {
    "duration": 13,
    "start_time": "2023-05-27T20:16:41.483Z"
   },
   {
    "duration": 33,
    "start_time": "2023-05-27T20:16:42.122Z"
   },
   {
    "duration": 379,
    "start_time": "2023-05-27T20:16:42.522Z"
   },
   {
    "duration": 119,
    "start_time": "2023-05-27T20:16:42.934Z"
   },
   {
    "duration": 14,
    "start_time": "2023-05-27T20:16:43.398Z"
   },
   {
    "duration": 33,
    "start_time": "2023-05-27T20:16:44.245Z"
   },
   {
    "duration": 384,
    "start_time": "2023-05-27T20:16:44.710Z"
   },
   {
    "duration": 118,
    "start_time": "2023-05-27T20:16:45.198Z"
   },
   {
    "duration": 14,
    "start_time": "2023-05-27T20:16:45.599Z"
   },
   {
    "duration": 39,
    "start_time": "2023-05-27T20:16:46.012Z"
   },
   {
    "duration": 429,
    "start_time": "2023-05-27T20:16:46.394Z"
   },
   {
    "duration": 50,
    "start_time": "2023-05-27T20:16:47.993Z"
   },
   {
    "duration": 42,
    "start_time": "2023-05-27T20:16:48.475Z"
   },
   {
    "duration": 45,
    "start_time": "2023-05-27T20:16:48.875Z"
   },
   {
    "duration": 57,
    "start_time": "2023-05-27T20:16:49.636Z"
   },
   {
    "duration": 3,
    "start_time": "2023-05-27T20:16:50.032Z"
   },
   {
    "duration": 355,
    "start_time": "2023-05-27T20:16:50.743Z"
   },
   {
    "duration": 345,
    "start_time": "2023-05-27T20:16:51.124Z"
   },
   {
    "duration": 380,
    "start_time": "2023-05-27T20:16:51.512Z"
   },
   {
    "duration": 4,
    "start_time": "2023-05-27T20:16:52.242Z"
   },
   {
    "duration": 204,
    "start_time": "2023-05-27T20:16:52.904Z"
   },
   {
    "duration": 5,
    "start_time": "2023-05-27T20:16:53.321Z"
   },
   {
    "duration": 6,
    "start_time": "2023-05-27T20:16:54.365Z"
   },
   {
    "duration": 33,
    "start_time": "2023-05-27T20:16:56.383Z"
   },
   {
    "duration": 4,
    "start_time": "2023-05-27T20:16:56.782Z"
   },
   {
    "duration": 4,
    "start_time": "2023-05-27T20:16:57.233Z"
   },
   {
    "duration": 3,
    "start_time": "2023-05-27T20:16:57.833Z"
   },
   {
    "duration": 112,
    "start_time": "2023-05-27T20:16:58.585Z"
   },
   {
    "duration": 5,
    "start_time": "2023-05-27T20:16:58.996Z"
   },
   {
    "duration": 2,
    "start_time": "2023-05-27T20:17:00.546Z"
   },
   {
    "duration": 3,
    "start_time": "2023-05-27T20:17:01.015Z"
   },
   {
    "duration": 3,
    "start_time": "2023-05-27T20:17:01.406Z"
   },
   {
    "duration": 3,
    "start_time": "2023-05-27T20:17:03.044Z"
   },
   {
    "duration": 4,
    "start_time": "2023-05-27T20:17:03.502Z"
   },
   {
    "duration": 1065,
    "start_time": "2023-05-27T20:17:04.111Z"
   },
   {
    "duration": 1143,
    "start_time": "2023-05-27T20:17:05.177Z"
   },
   {
    "duration": 1153,
    "start_time": "2023-05-27T20:17:06.322Z"
   },
   {
    "duration": 1005,
    "start_time": "2023-05-27T20:17:47.644Z"
   },
   {
    "duration": 1045,
    "start_time": "2023-05-27T20:17:56.708Z"
   },
   {
    "duration": 1092,
    "start_time": "2023-05-27T20:18:07.280Z"
   },
   {
    "duration": 1483,
    "start_time": "2023-05-28T08:33:32.075Z"
   },
   {
    "duration": 347,
    "start_time": "2023-05-28T08:33:33.677Z"
   },
   {
    "duration": 15,
    "start_time": "2023-05-28T08:33:38.510Z"
   },
   {
    "duration": 37,
    "start_time": "2023-05-28T08:33:42.650Z"
   },
   {
    "duration": 403,
    "start_time": "2023-05-28T08:33:50.439Z"
   },
   {
    "duration": 108,
    "start_time": "2023-05-28T08:34:03.841Z"
   },
   {
    "duration": 217,
    "start_time": "2023-05-28T08:34:08.111Z"
   },
   {
    "duration": 15,
    "start_time": "2023-05-28T08:34:09.043Z"
   },
   {
    "duration": 36,
    "start_time": "2023-05-28T08:34:11.090Z"
   },
   {
    "duration": 405,
    "start_time": "2023-05-28T08:34:12.442Z"
   },
   {
    "duration": 195,
    "start_time": "2023-05-28T08:34:14.618Z"
   },
   {
    "duration": 20,
    "start_time": "2023-05-28T08:34:16.278Z"
   },
   {
    "duration": 39,
    "start_time": "2023-05-28T08:34:17.043Z"
   },
   {
    "duration": 501,
    "start_time": "2023-05-28T08:34:17.776Z"
   },
   {
    "duration": 49,
    "start_time": "2023-05-28T08:34:47.783Z"
   },
   {
    "duration": 44,
    "start_time": "2023-05-28T08:34:48.611Z"
   },
   {
    "duration": 43,
    "start_time": "2023-05-28T08:34:49.278Z"
   },
   {
    "duration": 61,
    "start_time": "2023-05-28T08:34:58.243Z"
   },
   {
    "duration": 5,
    "start_time": "2023-05-28T08:34:59.480Z"
   },
   {
    "duration": 370,
    "start_time": "2023-05-28T08:35:05.206Z"
   },
   {
    "duration": 381,
    "start_time": "2023-05-28T08:35:06.742Z"
   },
   {
    "duration": 375,
    "start_time": "2023-05-28T08:35:07.643Z"
   },
   {
    "duration": 3,
    "start_time": "2023-05-28T08:35:23.135Z"
   },
   {
    "duration": 184,
    "start_time": "2023-05-28T08:35:28.128Z"
   },
   {
    "duration": 5,
    "start_time": "2023-05-28T08:35:47.904Z"
   },
   {
    "duration": 6,
    "start_time": "2023-05-28T08:36:23.791Z"
   },
   {
    "duration": 1377,
    "start_time": "2023-05-28T08:43:22.359Z"
   },
   {
    "duration": 132,
    "start_time": "2023-05-28T08:43:23.738Z"
   },
   {
    "duration": 22,
    "start_time": "2023-05-28T08:43:23.871Z"
   },
   {
    "duration": 36,
    "start_time": "2023-05-28T08:43:23.895Z"
   },
   {
    "duration": 415,
    "start_time": "2023-05-28T08:43:24.203Z"
   },
   {
    "duration": 111,
    "start_time": "2023-05-28T08:43:24.620Z"
   },
   {
    "duration": 13,
    "start_time": "2023-05-28T08:43:25.012Z"
   },
   {
    "duration": 33,
    "start_time": "2023-05-28T08:43:25.446Z"
   },
   {
    "duration": 479,
    "start_time": "2023-05-28T08:43:25.846Z"
   },
   {
    "duration": 127,
    "start_time": "2023-05-28T08:43:26.327Z"
   },
   {
    "duration": 13,
    "start_time": "2023-05-28T08:43:26.684Z"
   },
   {
    "duration": 33,
    "start_time": "2023-05-28T08:43:27.153Z"
   },
   {
    "duration": 470,
    "start_time": "2023-05-28T08:43:27.991Z"
   },
   {
    "duration": 48,
    "start_time": "2023-05-28T08:43:29.892Z"
   },
   {
    "duration": 43,
    "start_time": "2023-05-28T08:43:30.294Z"
   },
   {
    "duration": 41,
    "start_time": "2023-05-28T08:43:30.691Z"
   },
   {
    "duration": 56,
    "start_time": "2023-05-28T08:43:31.450Z"
   },
   {
    "duration": 4,
    "start_time": "2023-05-28T08:43:31.848Z"
   },
   {
    "duration": 399,
    "start_time": "2023-05-28T08:43:32.892Z"
   },
   {
    "duration": 382,
    "start_time": "2023-05-28T08:43:33.323Z"
   },
   {
    "duration": 375,
    "start_time": "2023-05-28T08:43:33.793Z"
   },
   {
    "duration": 5,
    "start_time": "2023-05-28T08:43:35.395Z"
   },
   {
    "duration": 185,
    "start_time": "2023-05-28T08:43:35.915Z"
   },
   {
    "duration": 4,
    "start_time": "2023-05-28T08:43:36.990Z"
   },
   {
    "duration": 7,
    "start_time": "2023-05-28T08:43:38.097Z"
   },
   {
    "duration": 36,
    "start_time": "2023-05-28T08:45:17.587Z"
   },
   {
    "duration": 4,
    "start_time": "2023-05-28T08:45:21.037Z"
   },
   {
    "duration": 4,
    "start_time": "2023-05-28T08:45:21.515Z"
   },
   {
    "duration": 6,
    "start_time": "2023-05-28T08:45:22.388Z"
   },
   {
    "duration": 277,
    "start_time": "2023-05-28T08:45:44.210Z"
   },
   {
    "duration": 4,
    "start_time": "2023-05-28T08:45:57.983Z"
   },
   {
    "duration": 2,
    "start_time": "2023-05-28T09:05:14.112Z"
   },
   {
    "duration": 3,
    "start_time": "2023-05-28T09:05:15.723Z"
   },
   {
    "duration": 3,
    "start_time": "2023-05-28T09:05:32.420Z"
   },
   {
    "duration": 4,
    "start_time": "2023-05-28T09:07:30.845Z"
   },
   {
    "duration": 5,
    "start_time": "2023-05-28T09:07:32.197Z"
   },
   {
    "duration": 1144,
    "start_time": "2023-05-28T09:07:33.210Z"
   },
   {
    "duration": 1139,
    "start_time": "2023-05-28T09:07:35.004Z"
   },
   {
    "duration": 1133,
    "start_time": "2023-05-28T09:07:36.541Z"
   },
   {
    "duration": 5,
    "start_time": "2023-05-28T09:08:02.050Z"
   },
   {
    "duration": 113,
    "start_time": "2023-05-28T09:08:02.439Z"
   },
   {
    "duration": 5,
    "start_time": "2023-05-28T09:08:15.908Z"
   },
   {
    "duration": 1070,
    "start_time": "2023-05-28T09:08:16.598Z"
   },
   {
    "duration": 6,
    "start_time": "2023-05-28T09:09:39.872Z"
   },
   {
    "duration": 14,
    "start_time": "2023-05-28T09:09:40.613Z"
   },
   {
    "duration": 7,
    "start_time": "2023-05-28T09:09:52.412Z"
   },
   {
    "duration": 1103,
    "start_time": "2023-05-28T09:09:52.902Z"
   },
   {
    "duration": 1064,
    "start_time": "2023-05-28T09:14:36.956Z"
   },
   {
    "duration": 1078,
    "start_time": "2023-05-28T09:14:44.354Z"
   },
   {
    "duration": 1112,
    "start_time": "2023-05-28T09:15:11.790Z"
   },
   {
    "duration": 1128,
    "start_time": "2023-05-28T09:15:31.812Z"
   },
   {
    "duration": 5,
    "start_time": "2023-05-28T09:18:16.693Z"
   },
   {
    "duration": 1201,
    "start_time": "2023-05-28T09:20:05.376Z"
   },
   {
    "duration": 6,
    "start_time": "2023-05-28T09:20:06.977Z"
   },
   {
    "duration": 1141,
    "start_time": "2023-05-28T09:20:07.547Z"
   },
   {
    "duration": 3,
    "start_time": "2023-05-28T09:20:28.647Z"
   },
   {
    "duration": 7,
    "start_time": "2023-05-28T09:20:34.980Z"
   },
   {
    "duration": 1149,
    "start_time": "2023-05-28T09:20:35.674Z"
   },
   {
    "duration": 1077,
    "start_time": "2023-05-28T09:21:27.653Z"
   },
   {
    "duration": 1155,
    "start_time": "2023-05-28T09:21:44.573Z"
   },
   {
    "duration": 5,
    "start_time": "2023-05-28T09:21:51.916Z"
   },
   {
    "duration": 2,
    "start_time": "2023-05-28T09:21:56.452Z"
   },
   {
    "duration": 4,
    "start_time": "2023-05-28T09:22:00.315Z"
   },
   {
    "duration": 9,
    "start_time": "2023-05-28T09:22:00.691Z"
   },
   {
    "duration": 1145,
    "start_time": "2023-05-28T09:22:01.056Z"
   },
   {
    "duration": 24,
    "start_time": "2023-05-28T09:25:36.807Z"
   },
   {
    "duration": 5,
    "start_time": "2023-05-28T09:25:37.207Z"
   },
   {
    "duration": 4,
    "start_time": "2023-05-28T09:25:37.610Z"
   },
   {
    "duration": 4,
    "start_time": "2023-05-28T09:25:38.608Z"
   },
   {
    "duration": 90,
    "start_time": "2023-05-28T09:25:40.904Z"
   },
   {
    "duration": 923,
    "start_time": "2023-05-28T09:27:09.175Z"
   },
   {
    "duration": 1042,
    "start_time": "2023-05-28T09:27:23.435Z"
   },
   {
    "duration": 924,
    "start_time": "2023-05-28T09:27:34.822Z"
   },
   {
    "duration": 961,
    "start_time": "2023-05-28T09:27:51.204Z"
   },
   {
    "duration": 958,
    "start_time": "2023-05-28T09:28:01.549Z"
   },
   {
    "duration": 4,
    "start_time": "2023-05-28T09:33:06.043Z"
   },
   {
    "duration": 21,
    "start_time": "2023-05-28T09:33:07.068Z"
   },
   {
    "duration": 5,
    "start_time": "2023-05-28T09:34:23.585Z"
   },
   {
    "duration": 15,
    "start_time": "2023-05-28T09:34:23.904Z"
   },
   {
    "duration": 2051,
    "start_time": "2023-05-28T18:29:27.333Z"
   },
   {
    "duration": 831,
    "start_time": "2023-05-28T18:29:29.388Z"
   },
   {
    "duration": 24,
    "start_time": "2023-05-28T18:29:30.221Z"
   },
   {
    "duration": 60,
    "start_time": "2023-05-28T18:29:30.248Z"
   },
   {
    "duration": 721,
    "start_time": "2023-05-28T18:29:31.497Z"
   },
   {
    "duration": 628,
    "start_time": "2023-05-28T18:29:32.221Z"
   },
   {
    "duration": 21,
    "start_time": "2023-05-28T18:29:32.852Z"
   },
   {
    "duration": 42,
    "start_time": "2023-05-28T18:29:33.222Z"
   },
   {
    "duration": 695,
    "start_time": "2023-05-28T18:29:33.729Z"
   },
   {
    "duration": 638,
    "start_time": "2023-05-28T18:29:34.776Z"
   },
   {
    "duration": 19,
    "start_time": "2023-05-28T18:29:35.418Z"
   },
   {
    "duration": 42,
    "start_time": "2023-05-28T18:29:35.910Z"
   },
   {
    "duration": 649,
    "start_time": "2023-05-28T18:29:36.504Z"
   },
   {
    "duration": 75,
    "start_time": "2023-05-28T18:29:44.882Z"
   },
   {
    "duration": 81,
    "start_time": "2023-05-28T18:29:45.262Z"
   },
   {
    "duration": 85,
    "start_time": "2023-05-28T18:29:45.711Z"
   },
   {
    "duration": 85,
    "start_time": "2023-05-28T18:29:46.783Z"
   },
   {
    "duration": 5,
    "start_time": "2023-05-28T18:29:47.659Z"
   },
   {
    "duration": 444,
    "start_time": "2023-05-28T18:29:48.856Z"
   },
   {
    "duration": 454,
    "start_time": "2023-05-28T18:29:49.400Z"
   },
   {
    "duration": 666,
    "start_time": "2023-05-28T18:29:50.150Z"
   },
   {
    "duration": 7,
    "start_time": "2023-05-28T18:32:23.846Z"
   },
   {
    "duration": 240,
    "start_time": "2023-05-28T18:32:26.482Z"
   },
   {
    "duration": 7,
    "start_time": "2023-05-28T18:32:27.744Z"
   },
   {
    "duration": 9,
    "start_time": "2023-05-28T18:32:29.989Z"
   },
   {
    "duration": 41,
    "start_time": "2023-05-28T18:32:42.519Z"
   },
   {
    "duration": 6,
    "start_time": "2023-05-28T18:32:43.145Z"
   },
   {
    "duration": 6,
    "start_time": "2023-05-28T18:32:43.918Z"
   },
   {
    "duration": 5,
    "start_time": "2023-05-28T18:32:44.483Z"
   },
   {
    "duration": 341,
    "start_time": "2023-05-28T18:32:45.717Z"
   },
   {
    "duration": 6,
    "start_time": "2023-05-28T18:32:46.495Z"
   },
   {
    "duration": 4,
    "start_time": "2023-05-28T18:32:49.125Z"
   },
   {
    "duration": 4,
    "start_time": "2023-05-28T18:32:49.984Z"
   },
   {
    "duration": 5,
    "start_time": "2023-05-28T18:32:50.800Z"
   },
   {
    "duration": 6,
    "start_time": "2023-05-28T18:32:54.260Z"
   },
   {
    "duration": 7,
    "start_time": "2023-05-28T18:32:54.858Z"
   },
   {
    "duration": 105,
    "start_time": "2023-05-28T18:32:55.748Z"
   },
   {
    "duration": 5,
    "start_time": "2023-05-28T18:33:49.527Z"
   },
   {
    "duration": 8,
    "start_time": "2023-05-28T18:33:50.263Z"
   },
   {
    "duration": 1104,
    "start_time": "2023-05-28T18:33:50.767Z"
   },
   {
    "duration": 1362,
    "start_time": "2023-05-28T18:38:19.512Z"
   },
   {
    "duration": 164,
    "start_time": "2023-05-28T18:38:20.876Z"
   },
   {
    "duration": 31,
    "start_time": "2023-05-28T18:38:21.042Z"
   },
   {
    "duration": 56,
    "start_time": "2023-05-28T18:38:21.076Z"
   },
   {
    "duration": 582,
    "start_time": "2023-05-28T18:38:21.134Z"
   },
   {
    "duration": 152,
    "start_time": "2023-05-28T18:38:21.719Z"
   },
   {
    "duration": 17,
    "start_time": "2023-05-28T18:38:21.874Z"
   },
   {
    "duration": 67,
    "start_time": "2023-05-28T18:38:21.894Z"
   },
   {
    "duration": 544,
    "start_time": "2023-05-28T18:38:21.985Z"
   },
   {
    "duration": 160,
    "start_time": "2023-05-28T18:38:22.532Z"
   },
   {
    "duration": 17,
    "start_time": "2023-05-28T18:38:22.694Z"
   },
   {
    "duration": 48,
    "start_time": "2023-05-28T18:38:22.751Z"
   },
   {
    "duration": 614,
    "start_time": "2023-05-28T18:38:23.025Z"
   },
   {
    "duration": 71,
    "start_time": "2023-05-28T18:38:24.601Z"
   },
   {
    "duration": 98,
    "start_time": "2023-05-28T18:38:24.967Z"
   },
   {
    "duration": 101,
    "start_time": "2023-05-28T18:38:25.228Z"
   },
   {
    "duration": 111,
    "start_time": "2023-05-28T18:38:25.769Z"
   },
   {
    "duration": 4,
    "start_time": "2023-05-28T18:38:26.089Z"
   },
   {
    "duration": 450,
    "start_time": "2023-05-28T18:38:26.713Z"
   },
   {
    "duration": 424,
    "start_time": "2023-05-28T18:38:27.165Z"
   },
   {
    "duration": 521,
    "start_time": "2023-05-28T18:38:27.592Z"
   },
   {
    "duration": 6,
    "start_time": "2023-05-28T18:38:28.115Z"
   },
   {
    "duration": 276,
    "start_time": "2023-05-28T18:38:28.406Z"
   },
   {
    "duration": 5,
    "start_time": "2023-05-28T18:38:28.744Z"
   },
   {
    "duration": 10,
    "start_time": "2023-05-28T18:38:29.684Z"
   },
   {
    "duration": 64,
    "start_time": "2023-05-28T18:38:31.769Z"
   },
   {
    "duration": 5,
    "start_time": "2023-05-28T18:38:32.065Z"
   },
   {
    "duration": 5,
    "start_time": "2023-05-28T18:38:32.351Z"
   },
   {
    "duration": 5,
    "start_time": "2023-05-28T18:38:32.673Z"
   },
   {
    "duration": 171,
    "start_time": "2023-05-28T18:38:33.602Z"
   },
   {
    "duration": 6,
    "start_time": "2023-05-28T18:38:34.265Z"
   },
   {
    "duration": 4,
    "start_time": "2023-05-28T18:38:36.891Z"
   },
   {
    "duration": 5,
    "start_time": "2023-05-28T18:38:37.867Z"
   },
   {
    "duration": 6,
    "start_time": "2023-05-28T18:38:38.716Z"
   },
   {
    "duration": 4,
    "start_time": "2023-05-28T18:38:42.731Z"
   },
   {
    "duration": 5,
    "start_time": "2023-05-28T18:38:43.314Z"
   },
   {
    "duration": 130,
    "start_time": "2023-05-28T18:38:44.850Z"
   },
   {
    "duration": 4,
    "start_time": "2023-05-28T18:40:29.358Z"
   },
   {
    "duration": 5,
    "start_time": "2023-05-28T18:40:29.791Z"
   },
   {
    "duration": 1035,
    "start_time": "2023-05-28T18:40:30.252Z"
   },
   {
    "duration": 6,
    "start_time": "2023-05-28T18:40:39.078Z"
   },
   {
    "duration": 1070,
    "start_time": "2023-05-28T18:40:39.612Z"
   },
   {
    "duration": 1583,
    "start_time": "2023-05-28T18:41:00.991Z"
   },
   {
    "duration": 174,
    "start_time": "2023-05-28T18:41:02.577Z"
   },
   {
    "duration": 20,
    "start_time": "2023-05-28T18:41:02.758Z"
   },
   {
    "duration": 54,
    "start_time": "2023-05-28T18:41:02.781Z"
   },
   {
    "duration": 551,
    "start_time": "2023-05-28T18:41:02.857Z"
   },
   {
    "duration": 147,
    "start_time": "2023-05-28T18:41:03.411Z"
   },
   {
    "duration": 15,
    "start_time": "2023-05-28T18:41:03.561Z"
   },
   {
    "duration": 40,
    "start_time": "2023-05-28T18:41:03.579Z"
   },
   {
    "duration": 596,
    "start_time": "2023-05-28T18:41:03.621Z"
   },
   {
    "duration": 167,
    "start_time": "2023-05-28T18:41:04.220Z"
   },
   {
    "duration": 19,
    "start_time": "2023-05-28T18:41:04.389Z"
   },
   {
    "duration": 75,
    "start_time": "2023-05-28T18:41:04.411Z"
   },
   {
    "duration": 626,
    "start_time": "2023-05-28T18:41:04.572Z"
   },
   {
    "duration": 66,
    "start_time": "2023-05-28T18:41:05.616Z"
   },
   {
    "duration": 65,
    "start_time": "2023-05-28T18:41:05.898Z"
   },
   {
    "duration": 60,
    "start_time": "2023-05-28T18:41:06.155Z"
   },
   {
    "duration": 101,
    "start_time": "2023-05-28T18:41:06.597Z"
   },
   {
    "duration": 5,
    "start_time": "2023-05-28T18:41:06.870Z"
   },
   {
    "duration": 447,
    "start_time": "2023-05-28T18:41:07.370Z"
   },
   {
    "duration": 468,
    "start_time": "2023-05-28T18:41:07.819Z"
   },
   {
    "duration": 523,
    "start_time": "2023-05-28T18:41:08.289Z"
   },
   {
    "duration": 5,
    "start_time": "2023-05-28T18:41:08.814Z"
   },
   {
    "duration": 279,
    "start_time": "2023-05-28T18:41:08.820Z"
   },
   {
    "duration": 6,
    "start_time": "2023-05-28T18:41:09.102Z"
   },
   {
    "duration": 10,
    "start_time": "2023-05-28T18:41:09.478Z"
   },
   {
    "duration": 52,
    "start_time": "2023-05-28T18:41:11.479Z"
   },
   {
    "duration": 5,
    "start_time": "2023-05-28T18:41:11.945Z"
   },
   {
    "duration": 5,
    "start_time": "2023-05-28T18:41:12.299Z"
   },
   {
    "duration": 5,
    "start_time": "2023-05-28T18:41:12.645Z"
   },
   {
    "duration": 129,
    "start_time": "2023-05-28T18:41:13.938Z"
   },
   {
    "duration": 7,
    "start_time": "2023-05-28T18:41:14.259Z"
   },
   {
    "duration": 3,
    "start_time": "2023-05-28T18:41:15.745Z"
   },
   {
    "duration": 5,
    "start_time": "2023-05-28T18:41:16.013Z"
   },
   {
    "duration": 5,
    "start_time": "2023-05-28T18:41:16.313Z"
   },
   {
    "duration": 4,
    "start_time": "2023-05-28T18:41:17.569Z"
   },
   {
    "duration": 5,
    "start_time": "2023-05-28T18:41:18.022Z"
   },
   {
    "duration": 1090,
    "start_time": "2023-05-28T18:41:18.568Z"
   },
   {
    "duration": 988,
    "start_time": "2023-05-28T18:41:20.609Z"
   },
   {
    "duration": 1044,
    "start_time": "2023-05-28T18:41:21.599Z"
   },
   {
    "duration": 6,
    "start_time": "2023-05-28T18:42:11.886Z"
   },
   {
    "duration": 4,
    "start_time": "2023-05-28T18:45:02.241Z"
   },
   {
    "duration": 6,
    "start_time": "2023-05-28T18:45:03.578Z"
   },
   {
    "duration": 1087,
    "start_time": "2023-05-28T18:45:04.089Z"
   },
   {
    "duration": 5,
    "start_time": "2023-05-28T18:59:35.586Z"
   },
   {
    "duration": 7,
    "start_time": "2023-05-28T18:59:40.117Z"
   },
   {
    "duration": 128,
    "start_time": "2023-05-28T18:59:40.569Z"
   },
   {
    "duration": 4,
    "start_time": "2023-05-28T19:00:28.558Z"
   },
   {
    "duration": 7,
    "start_time": "2023-05-28T19:00:29.108Z"
   },
   {
    "duration": 30,
    "start_time": "2023-05-28T19:00:29.522Z"
   },
   {
    "duration": 5,
    "start_time": "2023-05-28T19:00:36.617Z"
   },
   {
    "duration": 7,
    "start_time": "2023-05-28T19:00:36.988Z"
   },
   {
    "duration": 23,
    "start_time": "2023-05-28T19:00:37.454Z"
   },
   {
    "duration": 1436,
    "start_time": "2023-05-28T19:00:50.841Z"
   },
   {
    "duration": 161,
    "start_time": "2023-05-28T19:00:52.279Z"
   },
   {
    "duration": 24,
    "start_time": "2023-05-28T19:00:52.442Z"
   },
   {
    "duration": 44,
    "start_time": "2023-05-28T19:00:52.468Z"
   },
   {
    "duration": 492,
    "start_time": "2023-05-28T19:00:52.513Z"
   },
   {
    "duration": 132,
    "start_time": "2023-05-28T19:00:53.007Z"
   },
   {
    "duration": 21,
    "start_time": "2023-05-28T19:00:53.141Z"
   },
   {
    "duration": 44,
    "start_time": "2023-05-28T19:00:53.163Z"
   },
   {
    "duration": 536,
    "start_time": "2023-05-28T19:00:53.221Z"
   },
   {
    "duration": 169,
    "start_time": "2023-05-28T19:00:53.759Z"
   },
   {
    "duration": 30,
    "start_time": "2023-05-28T19:00:53.930Z"
   },
   {
    "duration": 50,
    "start_time": "2023-05-28T19:00:53.963Z"
   },
   {
    "duration": 600,
    "start_time": "2023-05-28T19:00:54.142Z"
   },
   {
    "duration": 69,
    "start_time": "2023-05-28T19:00:55.011Z"
   },
   {
    "duration": 68,
    "start_time": "2023-05-28T19:00:55.247Z"
   },
   {
    "duration": 64,
    "start_time": "2023-05-28T19:00:55.811Z"
   },
   {
    "duration": 87,
    "start_time": "2023-05-28T19:00:56.515Z"
   },
   {
    "duration": 5,
    "start_time": "2023-05-28T19:00:56.799Z"
   },
   {
    "duration": 446,
    "start_time": "2023-05-28T19:00:57.355Z"
   },
   {
    "duration": 428,
    "start_time": "2023-05-28T19:00:57.803Z"
   },
   {
    "duration": 450,
    "start_time": "2023-05-28T19:00:58.233Z"
   },
   {
    "duration": 4,
    "start_time": "2023-05-28T19:00:58.686Z"
   },
   {
    "duration": 265,
    "start_time": "2023-05-28T19:00:58.692Z"
   },
   {
    "duration": 5,
    "start_time": "2023-05-28T19:00:58.959Z"
   },
   {
    "duration": 9,
    "start_time": "2023-05-28T19:01:00.227Z"
   },
   {
    "duration": 42,
    "start_time": "2023-05-28T19:01:02.577Z"
   },
   {
    "duration": 5,
    "start_time": "2023-05-28T19:01:02.812Z"
   },
   {
    "duration": 5,
    "start_time": "2023-05-28T19:01:03.017Z"
   },
   {
    "duration": 5,
    "start_time": "2023-05-28T19:01:03.278Z"
   },
   {
    "duration": 95,
    "start_time": "2023-05-28T19:01:03.776Z"
   },
   {
    "duration": 6,
    "start_time": "2023-05-28T19:01:04.301Z"
   },
   {
    "duration": 3,
    "start_time": "2023-05-28T19:01:06.174Z"
   },
   {
    "duration": 4,
    "start_time": "2023-05-28T19:01:06.476Z"
   },
   {
    "duration": 4,
    "start_time": "2023-05-28T19:01:06.786Z"
   },
   {
    "duration": 5,
    "start_time": "2023-05-28T19:03:21.351Z"
   },
   {
    "duration": 8,
    "start_time": "2023-05-28T19:03:21.996Z"
   },
   {
    "duration": 109,
    "start_time": "2023-05-28T19:03:22.468Z"
   },
   {
    "duration": 8,
    "start_time": "2023-05-28T19:03:41.757Z"
   },
   {
    "duration": 9,
    "start_time": "2023-05-28T19:03:42.045Z"
   },
   {
    "duration": 1353,
    "start_time": "2023-05-28T19:03:42.351Z"
   },
   {
    "duration": 1679,
    "start_time": "2023-05-28T19:06:32.547Z"
   },
   {
    "duration": 169,
    "start_time": "2023-05-28T19:06:34.229Z"
   },
   {
    "duration": 17,
    "start_time": "2023-05-28T19:06:34.400Z"
   },
   {
    "duration": 54,
    "start_time": "2023-05-28T19:06:34.420Z"
   },
   {
    "duration": 541,
    "start_time": "2023-05-28T19:06:34.544Z"
   },
   {
    "duration": 190,
    "start_time": "2023-05-28T19:06:35.143Z"
   },
   {
    "duration": 20,
    "start_time": "2023-05-28T19:06:35.757Z"
   },
   {
    "duration": 39,
    "start_time": "2023-05-28T19:06:36.141Z"
   },
   {
    "duration": 541,
    "start_time": "2023-05-28T19:06:36.556Z"
   },
   {
    "duration": 223,
    "start_time": "2023-05-28T19:06:37.100Z"
   },
   {
    "duration": 24,
    "start_time": "2023-05-28T19:06:37.365Z"
   },
   {
    "duration": 45,
    "start_time": "2023-05-28T19:06:37.776Z"
   },
   {
    "duration": 619,
    "start_time": "2023-05-28T19:06:38.198Z"
   },
   {
    "duration": 78,
    "start_time": "2023-05-28T19:06:39.848Z"
   },
   {
    "duration": 61,
    "start_time": "2023-05-28T19:06:40.274Z"
   },
   {
    "duration": 66,
    "start_time": "2023-05-28T19:06:40.745Z"
   },
   {
    "duration": 82,
    "start_time": "2023-05-28T19:06:42.083Z"
   },
   {
    "duration": 4,
    "start_time": "2023-05-28T19:06:42.703Z"
   },
   {
    "duration": 11,
    "start_time": "2023-05-28T19:06:49.402Z"
   },
   {
    "duration": 49,
    "start_time": "2023-05-28T19:06:53.893Z"
   },
   {
    "duration": 4,
    "start_time": "2023-05-28T19:06:54.249Z"
   },
   {
    "duration": 4,
    "start_time": "2023-05-28T19:06:54.653Z"
   },
   {
    "duration": 4,
    "start_time": "2023-05-28T19:06:55.047Z"
   },
   {
    "duration": 174,
    "start_time": "2023-05-28T19:06:55.887Z"
   },
   {
    "duration": 5,
    "start_time": "2023-05-28T19:06:56.289Z"
   },
   {
    "duration": 4,
    "start_time": "2023-05-28T19:06:58.387Z"
   },
   {
    "duration": 4,
    "start_time": "2023-05-28T19:06:58.735Z"
   },
   {
    "duration": 4,
    "start_time": "2023-05-28T19:06:59.188Z"
   },
   {
    "duration": 4,
    "start_time": "2023-05-28T19:07:03.676Z"
   },
   {
    "duration": 9,
    "start_time": "2023-05-28T19:07:04.314Z"
   },
   {
    "duration": 1208,
    "start_time": "2023-05-28T19:07:04.946Z"
   },
   {
    "duration": 1321,
    "start_time": "2023-05-28T19:07:06.168Z"
   },
   {
    "duration": 1606,
    "start_time": "2023-05-28T19:07:07.752Z"
   },
   {
    "duration": 4,
    "start_time": "2023-05-28T19:16:10.549Z"
   },
   {
    "duration": 5,
    "start_time": "2023-05-28T19:16:10.908Z"
   },
   {
    "duration": 9,
    "start_time": "2023-05-28T19:16:11.354Z"
   },
   {
    "duration": 5,
    "start_time": "2023-05-28T19:16:40.174Z"
   },
   {
    "duration": 7,
    "start_time": "2023-05-28T19:16:41.207Z"
   },
   {
    "duration": 5,
    "start_time": "2023-05-28T19:16:45.477Z"
   },
   {
    "duration": 8,
    "start_time": "2023-05-28T19:16:45.973Z"
   },
   {
    "duration": 1216,
    "start_time": "2023-05-28T19:16:46.373Z"
   },
   {
    "duration": 1120,
    "start_time": "2023-05-28T19:16:51.445Z"
   },
   {
    "duration": 1749,
    "start_time": "2023-05-28T19:16:52.567Z"
   },
   {
    "duration": 7,
    "start_time": "2023-05-28T19:25:28.880Z"
   },
   {
    "duration": 121,
    "start_time": "2023-05-28T19:25:29.271Z"
   },
   {
    "duration": 8,
    "start_time": "2023-05-28T19:27:32.982Z"
   },
   {
    "duration": 1236,
    "start_time": "2023-05-28T19:27:33.433Z"
   },
   {
    "duration": 4,
    "start_time": "2023-05-28T19:31:06.186Z"
   },
   {
    "duration": 8,
    "start_time": "2023-05-28T19:31:06.642Z"
   },
   {
    "duration": 943,
    "start_time": "2023-05-28T19:31:06.847Z"
   },
   {
    "duration": 6,
    "start_time": "2023-05-28T19:32:27.350Z"
   },
   {
    "duration": 26,
    "start_time": "2023-05-28T19:32:27.850Z"
   },
   {
    "duration": 7,
    "start_time": "2023-05-28T19:33:24.889Z"
   },
   {
    "duration": 1156,
    "start_time": "2023-05-28T19:33:25.277Z"
   },
   {
    "duration": 4,
    "start_time": "2023-05-28T19:34:21.359Z"
   },
   {
    "duration": 9,
    "start_time": "2023-05-28T19:34:21.640Z"
   },
   {
    "duration": 1120,
    "start_time": "2023-05-28T19:34:21.952Z"
   },
   {
    "duration": 1122,
    "start_time": "2023-05-28T19:34:26.353Z"
   },
   {
    "duration": 1144,
    "start_time": "2023-05-28T19:34:27.477Z"
   },
   {
    "duration": 4,
    "start_time": "2023-05-28T19:34:49.874Z"
   },
   {
    "duration": 5,
    "start_time": "2023-05-28T19:34:50.250Z"
   },
   {
    "duration": 1138,
    "start_time": "2023-05-28T19:34:50.578Z"
   },
   {
    "duration": 1158,
    "start_time": "2023-05-28T19:34:51.718Z"
   },
   {
    "duration": 1060,
    "start_time": "2023-05-28T19:34:52.879Z"
   },
   {
    "duration": 5,
    "start_time": "2023-05-28T19:35:06.386Z"
   },
   {
    "duration": 6,
    "start_time": "2023-05-28T19:35:06.780Z"
   },
   {
    "duration": 1122,
    "start_time": "2023-05-28T19:35:07.440Z"
   },
   {
    "duration": 1099,
    "start_time": "2023-05-28T19:35:08.564Z"
   },
   {
    "duration": 1139,
    "start_time": "2023-05-28T19:35:09.665Z"
   },
   {
    "duration": 5,
    "start_time": "2023-05-28T19:35:18.393Z"
   },
   {
    "duration": 1108,
    "start_time": "2023-05-28T19:35:18.902Z"
   },
   {
    "duration": 5,
    "start_time": "2023-05-28T19:35:29.653Z"
   },
   {
    "duration": 1057,
    "start_time": "2023-05-28T19:35:30.066Z"
   },
   {
    "duration": 1169,
    "start_time": "2023-05-28T19:35:31.125Z"
   },
   {
    "duration": 1143,
    "start_time": "2023-05-28T19:35:32.296Z"
   },
   {
    "duration": 1346,
    "start_time": "2023-05-28T19:39:57.402Z"
   },
   {
    "duration": 155,
    "start_time": "2023-05-28T19:39:58.751Z"
   },
   {
    "duration": 20,
    "start_time": "2023-05-28T19:39:58.908Z"
   },
   {
    "duration": 71,
    "start_time": "2023-05-28T19:39:58.931Z"
   },
   {
    "duration": 590,
    "start_time": "2023-05-28T19:39:59.346Z"
   },
   {
    "duration": 177,
    "start_time": "2023-05-28T19:39:59.939Z"
   },
   {
    "duration": 17,
    "start_time": "2023-05-28T19:40:00.118Z"
   },
   {
    "duration": 45,
    "start_time": "2023-05-28T19:40:00.528Z"
   },
   {
    "duration": 609,
    "start_time": "2023-05-28T19:40:00.871Z"
   },
   {
    "duration": 239,
    "start_time": "2023-05-28T19:40:01.483Z"
   },
   {
    "duration": 17,
    "start_time": "2023-05-28T19:40:01.724Z"
   },
   {
    "duration": 60,
    "start_time": "2023-05-28T19:40:01.927Z"
   },
   {
    "duration": 663,
    "start_time": "2023-05-28T19:40:02.314Z"
   },
   {
    "duration": 97,
    "start_time": "2023-05-28T19:40:03.741Z"
   },
   {
    "duration": 125,
    "start_time": "2023-05-28T19:40:04.127Z"
   },
   {
    "duration": 102,
    "start_time": "2023-05-28T19:40:04.516Z"
   },
   {
    "duration": 99,
    "start_time": "2023-05-28T19:40:05.326Z"
   },
   {
    "duration": 5,
    "start_time": "2023-05-28T19:40:05.722Z"
   },
   {
    "duration": 428,
    "start_time": "2023-05-28T19:40:06.712Z"
   },
   {
    "duration": 418,
    "start_time": "2023-05-28T19:40:07.143Z"
   },
   {
    "duration": 488,
    "start_time": "2023-05-28T19:40:07.564Z"
   },
   {
    "duration": 146,
    "start_time": "2023-05-28T19:40:13.550Z"
   },
   {
    "duration": 5,
    "start_time": "2023-05-28T19:40:14.707Z"
   },
   {
    "duration": 7,
    "start_time": "2023-05-28T19:40:17.959Z"
   },
   {
    "duration": 52,
    "start_time": "2023-05-28T19:40:19.414Z"
   },
   {
    "duration": 4,
    "start_time": "2023-05-28T19:40:19.670Z"
   },
   {
    "duration": 4,
    "start_time": "2023-05-28T19:40:19.946Z"
   },
   {
    "duration": 5,
    "start_time": "2023-05-28T19:40:20.239Z"
   },
   {
    "duration": 128,
    "start_time": "2023-05-28T19:40:20.834Z"
   },
   {
    "duration": 6,
    "start_time": "2023-05-28T19:40:21.159Z"
   },
   {
    "duration": 3,
    "start_time": "2023-05-28T19:40:22.348Z"
   },
   {
    "duration": 4,
    "start_time": "2023-05-28T19:40:22.620Z"
   },
   {
    "duration": 4,
    "start_time": "2023-05-28T19:40:22.847Z"
   },
   {
    "duration": 4,
    "start_time": "2023-05-28T19:40:28.985Z"
   },
   {
    "duration": 6,
    "start_time": "2023-05-28T19:40:29.292Z"
   },
   {
    "duration": 1103,
    "start_time": "2023-05-28T19:40:29.642Z"
   },
   {
    "duration": 1168,
    "start_time": "2023-05-28T19:40:30.747Z"
   },
   {
    "duration": 1133,
    "start_time": "2023-05-28T19:40:31.917Z"
   },
   {
    "duration": 6,
    "start_time": "2023-05-28T19:47:58.548Z"
   },
   {
    "duration": 385,
    "start_time": "2023-05-28T19:47:58.776Z"
   },
   {
    "duration": 1447,
    "start_time": "2023-05-28T20:08:14.521Z"
   },
   {
    "duration": 163,
    "start_time": "2023-05-28T20:08:15.971Z"
   },
   {
    "duration": 25,
    "start_time": "2023-05-28T20:08:16.136Z"
   },
   {
    "duration": 44,
    "start_time": "2023-05-28T20:08:16.164Z"
   },
   {
    "duration": 542,
    "start_time": "2023-05-28T20:08:16.210Z"
   },
   {
    "duration": 140,
    "start_time": "2023-05-28T20:08:16.757Z"
   },
   {
    "duration": 15,
    "start_time": "2023-05-28T20:08:16.900Z"
   },
   {
    "duration": 58,
    "start_time": "2023-05-28T20:08:16.916Z"
   },
   {
    "duration": 532,
    "start_time": "2023-05-28T20:08:16.976Z"
   },
   {
    "duration": 141,
    "start_time": "2023-05-28T20:08:17.510Z"
   },
   {
    "duration": 16,
    "start_time": "2023-05-28T20:08:17.653Z"
   },
   {
    "duration": 54,
    "start_time": "2023-05-28T20:08:17.671Z"
   },
   {
    "duration": 633,
    "start_time": "2023-05-28T20:08:17.874Z"
   },
   {
    "duration": 65,
    "start_time": "2023-05-28T20:08:18.818Z"
   },
   {
    "duration": 72,
    "start_time": "2023-05-28T20:08:19.070Z"
   },
   {
    "duration": 56,
    "start_time": "2023-05-28T20:08:19.291Z"
   },
   {
    "duration": 95,
    "start_time": "2023-05-28T20:08:19.766Z"
   },
   {
    "duration": 5,
    "start_time": "2023-05-28T20:08:19.991Z"
   },
   {
    "duration": 440,
    "start_time": "2023-05-28T20:08:20.462Z"
   },
   {
    "duration": 418,
    "start_time": "2023-05-28T20:08:20.905Z"
   },
   {
    "duration": 433,
    "start_time": "2023-05-28T20:08:21.325Z"
   },
   {
    "duration": 4,
    "start_time": "2023-05-28T20:08:21.760Z"
   },
   {
    "duration": 258,
    "start_time": "2023-05-28T20:08:21.766Z"
   },
   {
    "duration": 5,
    "start_time": "2023-05-28T20:08:22.026Z"
   },
   {
    "duration": 10,
    "start_time": "2023-05-28T20:08:22.223Z"
   },
   {
    "duration": 66,
    "start_time": "2023-05-28T20:08:23.354Z"
   },
   {
    "duration": 5,
    "start_time": "2023-05-28T20:08:23.581Z"
   },
   {
    "duration": 5,
    "start_time": "2023-05-28T20:08:23.814Z"
   },
   {
    "duration": 5,
    "start_time": "2023-05-28T20:08:24.027Z"
   },
   {
    "duration": 85,
    "start_time": "2023-05-28T20:08:24.485Z"
   },
   {
    "duration": 6,
    "start_time": "2023-05-28T20:08:24.759Z"
   },
   {
    "duration": 4,
    "start_time": "2023-05-28T20:08:25.612Z"
   },
   {
    "duration": 5,
    "start_time": "2023-05-28T20:08:25.866Z"
   },
   {
    "duration": 4,
    "start_time": "2023-05-28T20:08:26.084Z"
   },
   {
    "duration": 5,
    "start_time": "2023-05-28T20:08:27.070Z"
   },
   {
    "duration": 5,
    "start_time": "2023-05-28T20:08:27.287Z"
   },
   {
    "duration": 1096,
    "start_time": "2023-05-28T20:08:27.491Z"
   },
   {
    "duration": 1135,
    "start_time": "2023-05-28T20:08:28.588Z"
   },
   {
    "duration": 1205,
    "start_time": "2023-05-28T20:08:29.726Z"
   },
   {
    "duration": 1500,
    "start_time": "2023-05-29T12:54:45.006Z"
   },
   {
    "duration": 360,
    "start_time": "2023-05-29T12:54:46.589Z"
   },
   {
    "duration": 17,
    "start_time": "2023-05-29T12:54:47.103Z"
   },
   {
    "duration": 38,
    "start_time": "2023-05-29T12:54:47.610Z"
   },
   {
    "duration": 444,
    "start_time": "2023-05-29T12:54:48.022Z"
   },
   {
    "duration": 202,
    "start_time": "2023-05-29T12:54:48.468Z"
   },
   {
    "duration": 13,
    "start_time": "2023-05-29T12:54:48.786Z"
   },
   {
    "duration": 31,
    "start_time": "2023-05-29T12:54:49.193Z"
   },
   {
    "duration": 467,
    "start_time": "2023-05-29T12:54:49.641Z"
   },
   {
    "duration": 206,
    "start_time": "2023-05-29T12:54:50.110Z"
   },
   {
    "duration": 16,
    "start_time": "2023-05-29T12:54:50.400Z"
   },
   {
    "duration": 38,
    "start_time": "2023-05-29T12:54:50.788Z"
   },
   {
    "duration": 534,
    "start_time": "2023-05-29T12:54:51.093Z"
   },
   {
    "duration": 55,
    "start_time": "2023-05-29T12:54:52.845Z"
   },
   {
    "duration": 51,
    "start_time": "2023-05-29T12:54:53.235Z"
   },
   {
    "duration": 47,
    "start_time": "2023-05-29T12:54:53.606Z"
   },
   {
    "duration": 63,
    "start_time": "2023-05-29T12:54:54.354Z"
   },
   {
    "duration": 4,
    "start_time": "2023-05-29T12:54:54.699Z"
   },
   {
    "duration": 384,
    "start_time": "2023-05-29T12:54:55.703Z"
   },
   {
    "duration": 373,
    "start_time": "2023-05-29T12:54:56.135Z"
   },
   {
    "duration": 386,
    "start_time": "2023-05-29T12:54:56.540Z"
   },
   {
    "duration": 2,
    "start_time": "2023-05-29T12:54:57.403Z"
   },
   {
    "duration": 2,
    "start_time": "2023-05-29T12:54:58.091Z"
   },
   {
    "duration": 2,
    "start_time": "2023-05-29T12:54:58.517Z"
   },
   {
    "duration": 6,
    "start_time": "2023-05-29T12:54:59.601Z"
   },
   {
    "duration": 40,
    "start_time": "2023-05-29T12:55:25.945Z"
   },
   {
    "duration": 4,
    "start_time": "2023-05-29T12:55:26.503Z"
   },
   {
    "duration": 4,
    "start_time": "2023-05-29T12:55:27.498Z"
   },
   {
    "duration": 4,
    "start_time": "2023-05-29T12:55:28.835Z"
   },
   {
    "duration": 199,
    "start_time": "2023-05-29T12:55:31.333Z"
   },
   {
    "duration": 5,
    "start_time": "2023-05-29T12:55:32.915Z"
   },
   {
    "duration": 3,
    "start_time": "2023-05-29T12:59:57.986Z"
   },
   {
    "duration": 3,
    "start_time": "2023-05-29T12:59:58.421Z"
   },
   {
    "duration": 4,
    "start_time": "2023-05-29T12:59:59.933Z"
   },
   {
    "duration": 4,
    "start_time": "2023-05-29T13:00:03.941Z"
   },
   {
    "duration": 5,
    "start_time": "2023-05-29T13:00:05.444Z"
   },
   {
    "duration": 1087,
    "start_time": "2023-05-29T13:00:18.187Z"
   },
   {
    "duration": 1129,
    "start_time": "2023-05-29T13:00:19.277Z"
   },
   {
    "duration": 1082,
    "start_time": "2023-05-29T13:00:20.408Z"
   }
  ],
  "kernelspec": {
   "display_name": "Python 3 (ipykernel)",
   "language": "python",
   "name": "python3"
  },
  "language_info": {
   "codemirror_mode": {
    "name": "ipython",
    "version": 3
   },
   "file_extension": ".py",
   "mimetype": "text/x-python",
   "name": "python",
   "nbconvert_exporter": "python",
   "pygments_lexer": "ipython3",
   "version": "3.9.16"
  },
  "toc": {
   "base_numbering": 1,
   "nav_menu": {
    "height": "158.993px",
    "width": "241.997px"
   },
   "number_sections": true,
   "sideBar": true,
   "skip_h1_title": true,
   "title_cell": "Содержание",
   "title_sidebar": "Contents",
   "toc_cell": true,
   "toc_position": {
    "height": "508.889px",
    "left": "49px",
    "top": "111.441px",
    "width": "290.434px"
   },
   "toc_section_display": true,
   "toc_window_display": false
  }
 },
 "nbformat": 4,
 "nbformat_minor": 4
}
