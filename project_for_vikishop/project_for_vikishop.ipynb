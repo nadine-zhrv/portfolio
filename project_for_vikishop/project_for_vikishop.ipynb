{
 "cells": [
  {
   "cell_type": "markdown",
   "metadata": {},
   "source": [
    "# Проект для «Викишоп»"
   ]
  },
  {
   "cell_type": "markdown",
   "metadata": {},
   "source": [
    "Интернет-магазин «Викишоп» запускает новый сервис. Теперь пользователи могут редактировать и дополнять описания товаров, как в вики-сообществах. То есть клиенты предлагают свои правки и комментируют изменения других. Магазину нужен инструмент, который будет искать токсичные комментарии и отправлять их на модерацию. \n",
    "\n",
    "Нужно обучить модель классифицировать комментарии на позитивные и негативные. Предоставлен набор данных с разметкой о токсичности правок.\n",
    "\n",
    "Построить модель со значением метрики качества *F1* не меньше 0.75."
   ]
  },
  {
   "cell_type": "markdown",
   "metadata": {},
   "source": [
    "## Подготовка"
   ]
  },
  {
   "cell_type": "markdown",
   "metadata": {},
   "source": [
    "### Общая информация"
   ]
  },
  {
   "cell_type": "code",
   "execution_count": 1,
   "metadata": {},
   "outputs": [
    {
     "name": "stderr",
     "output_type": "stream",
     "text": [
      "[nltk_data] Downloading package averaged_perceptron_tagger to\n",
      "[nltk_data]     C:\\Users\\Alla\\AppData\\Roaming\\nltk_data...\n",
      "[nltk_data]   Package averaged_perceptron_tagger is already up-to-\n",
      "[nltk_data]       date!\n",
      "[nltk_data] Downloading package wordnet to\n",
      "[nltk_data]     C:\\Users\\Alla\\AppData\\Roaming\\nltk_data...\n",
      "[nltk_data]   Package wordnet is already up-to-date!\n",
      "[nltk_data] Downloading package stopwords to\n",
      "[nltk_data]     C:\\Users\\Alla\\AppData\\Roaming\\nltk_data...\n",
      "[nltk_data]   Package stopwords is already up-to-date!\n"
     ]
    }
   ],
   "source": [
    "# библиотеки\n",
    "import os\n",
    "import time\n",
    "import pandas as pd\n",
    "import numpy as np\n",
    "import matplotlib.pyplot as plt\n",
    "\n",
    "import re\n",
    "import nltk\n",
    "nltk.download('averaged_perceptron_tagger')\n",
    "nltk.download('wordnet')\n",
    "nltk.download('stopwords')\n",
    "\n",
    "from nltk.stem import WordNetLemmatizer\n",
    "from nltk.corpus import stopwords\n",
    "from nltk.corpus import wordnet\n",
    "\n",
    "from sklearn.feature_extraction.text import CountVectorizer, TfidfVectorizer\n",
    "from sklearn.model_selection import train_test_split\n",
    "\n",
    "from sklearn.linear_model import LogisticRegression\n",
    "from sklearn.ensemble import RandomForestClassifier\n",
    "from sklearn.model_selection import GridSearchCV\n",
    "from sklearn.metrics import f1_score\n",
    "\n",
    "from tqdm.notebook import tqdm\n",
    "tqdm.pandas()\n",
    "\n",
    "from sklearn.pipeline import Pipeline"
   ]
  },
  {
   "cell_type": "code",
   "execution_count": 2,
   "metadata": {},
   "outputs": [],
   "source": [
    "# прочитаем файл\n",
    "pth1 = '/datasets/toxic_comments.csv'\n",
    "pth2 = 'https://datasets/toxic_comments.csv'\n",
    "\n",
    "if os.path.exists(pth1):\n",
    "    df = pd.read_csv(pth1)\n",
    "elif os.path.exists(pth2):\n",
    "    df = pd.read_csv(pth2)\n",
    "else:\n",
    "    print('Something is wrong')"
   ]
  },
  {
   "cell_type": "code",
   "execution_count": 3,
   "metadata": {},
   "outputs": [
    {
     "data": {
      "text/html": [
       "<div>\n",
       "<style scoped>\n",
       "    .dataframe tbody tr th:only-of-type {\n",
       "        vertical-align: middle;\n",
       "    }\n",
       "\n",
       "    .dataframe tbody tr th {\n",
       "        vertical-align: top;\n",
       "    }\n",
       "\n",
       "    .dataframe thead th {\n",
       "        text-align: right;\n",
       "    }\n",
       "</style>\n",
       "<table border=\"1\" class=\"dataframe\">\n",
       "  <thead>\n",
       "    <tr style=\"text-align: right;\">\n",
       "      <th></th>\n",
       "      <th>Unnamed: 0</th>\n",
       "      <th>text</th>\n",
       "      <th>toxic</th>\n",
       "    </tr>\n",
       "  </thead>\n",
       "  <tbody>\n",
       "    <tr>\n",
       "      <th>0</th>\n",
       "      <td>0</td>\n",
       "      <td>Explanation\\nWhy the edits made under my usern...</td>\n",
       "      <td>0</td>\n",
       "    </tr>\n",
       "    <tr>\n",
       "      <th>1</th>\n",
       "      <td>1</td>\n",
       "      <td>D'aww! He matches this background colour I'm s...</td>\n",
       "      <td>0</td>\n",
       "    </tr>\n",
       "    <tr>\n",
       "      <th>2</th>\n",
       "      <td>2</td>\n",
       "      <td>Hey man, I'm really not trying to edit war. It...</td>\n",
       "      <td>0</td>\n",
       "    </tr>\n",
       "    <tr>\n",
       "      <th>3</th>\n",
       "      <td>3</td>\n",
       "      <td>\"\\nMore\\nI can't make any real suggestions on ...</td>\n",
       "      <td>0</td>\n",
       "    </tr>\n",
       "    <tr>\n",
       "      <th>4</th>\n",
       "      <td>4</td>\n",
       "      <td>You, sir, are my hero. Any chance you remember...</td>\n",
       "      <td>0</td>\n",
       "    </tr>\n",
       "  </tbody>\n",
       "</table>\n",
       "</div>"
      ],
      "text/plain": [
       "   Unnamed: 0                                               text  toxic\n",
       "0           0  Explanation\\nWhy the edits made under my usern...      0\n",
       "1           1  D'aww! He matches this background colour I'm s...      0\n",
       "2           2  Hey man, I'm really not trying to edit war. It...      0\n",
       "3           3  \"\\nMore\\nI can't make any real suggestions on ...      0\n",
       "4           4  You, sir, are my hero. Any chance you remember...      0"
      ]
     },
     "execution_count": 3,
     "metadata": {},
     "output_type": "execute_result"
    }
   ],
   "source": [
    "df.head()"
   ]
  },
  {
   "cell_type": "code",
   "execution_count": 4,
   "metadata": {},
   "outputs": [
    {
     "name": "stdout",
     "output_type": "stream",
     "text": [
      "<class 'pandas.core.frame.DataFrame'>\n",
      "RangeIndex: 159292 entries, 0 to 159291\n",
      "Data columns (total 3 columns):\n",
      " #   Column      Non-Null Count   Dtype \n",
      "---  ------      --------------   ----- \n",
      " 0   Unnamed: 0  159292 non-null  int64 \n",
      " 1   text        159292 non-null  object\n",
      " 2   toxic       159292 non-null  int64 \n",
      "dtypes: int64(2), object(1)\n",
      "memory usage: 3.6+ MB\n"
     ]
    }
   ],
   "source": [
    "df.info()"
   ]
  },
  {
   "cell_type": "code",
   "execution_count": 5,
   "metadata": {},
   "outputs": [
    {
     "data": {
      "text/plain": [
       "0"
      ]
     },
     "execution_count": 5,
     "metadata": {},
     "output_type": "execute_result"
    }
   ],
   "source": [
    "df.duplicated().sum()"
   ]
  },
  {
   "cell_type": "code",
   "execution_count": 6,
   "metadata": {},
   "outputs": [
    {
     "data": {
      "text/html": [
       "<div>\n",
       "<style scoped>\n",
       "    .dataframe tbody tr th:only-of-type {\n",
       "        vertical-align: middle;\n",
       "    }\n",
       "\n",
       "    .dataframe tbody tr th {\n",
       "        vertical-align: top;\n",
       "    }\n",
       "\n",
       "    .dataframe thead th {\n",
       "        text-align: right;\n",
       "    }\n",
       "</style>\n",
       "<table border=\"1\" class=\"dataframe\">\n",
       "  <thead>\n",
       "    <tr style=\"text-align: right;\">\n",
       "      <th></th>\n",
       "      <th>text</th>\n",
       "      <th>toxic</th>\n",
       "    </tr>\n",
       "  </thead>\n",
       "  <tbody>\n",
       "    <tr>\n",
       "      <th>0</th>\n",
       "      <td>Explanation\\nWhy the edits made under my usern...</td>\n",
       "      <td>0</td>\n",
       "    </tr>\n",
       "    <tr>\n",
       "      <th>1</th>\n",
       "      <td>D'aww! He matches this background colour I'm s...</td>\n",
       "      <td>0</td>\n",
       "    </tr>\n",
       "    <tr>\n",
       "      <th>2</th>\n",
       "      <td>Hey man, I'm really not trying to edit war. It...</td>\n",
       "      <td>0</td>\n",
       "    </tr>\n",
       "    <tr>\n",
       "      <th>3</th>\n",
       "      <td>\"\\nMore\\nI can't make any real suggestions on ...</td>\n",
       "      <td>0</td>\n",
       "    </tr>\n",
       "    <tr>\n",
       "      <th>4</th>\n",
       "      <td>You, sir, are my hero. Any chance you remember...</td>\n",
       "      <td>0</td>\n",
       "    </tr>\n",
       "  </tbody>\n",
       "</table>\n",
       "</div>"
      ],
      "text/plain": [
       "                                                text  toxic\n",
       "0  Explanation\\nWhy the edits made under my usern...      0\n",
       "1  D'aww! He matches this background colour I'm s...      0\n",
       "2  Hey man, I'm really not trying to edit war. It...      0\n",
       "3  \"\\nMore\\nI can't make any real suggestions on ...      0\n",
       "4  You, sir, are my hero. Any chance you remember...      0"
      ]
     },
     "execution_count": 6,
     "metadata": {},
     "output_type": "execute_result"
    }
   ],
   "source": [
    "# удалим лишний столбец - он дублирует индекс\n",
    "df = df.drop('Unnamed: 0', axis=1)\n",
    "df.head()"
   ]
  },
  {
   "cell_type": "code",
   "execution_count": 7,
   "metadata": {},
   "outputs": [],
   "source": [
    "df['text'] = df['text'].str.lower()"
   ]
  },
  {
   "cell_type": "code",
   "execution_count": 8,
   "metadata": {},
   "outputs": [
    {
     "data": {
      "text/plain": [
       "0    143106\n",
       "1     16186\n",
       "Name: toxic, dtype: int64"
      ]
     },
     "execution_count": 8,
     "metadata": {},
     "output_type": "execute_result"
    }
   ],
   "source": [
    "df['toxic'].value_counts()"
   ]
  },
  {
   "cell_type": "code",
   "execution_count": 9,
   "metadata": {},
   "outputs": [
    {
     "data": {
      "image/png": "[encoded data removed]",
      "text/plain": [
       "<Figure size 432x288 with 1 Axes>"
      ]
     },
     "metadata": {
      "needs_background": "light"
     },
     "output_type": "display_data"
    }
   ],
   "source": [
    "class_frequency = df['toxic'].value_counts(normalize=True)\n",
    "class_frequency.plot(kind='bar')\n",
    "plt.title('Соотношение позитивных и негативных комментариев')\n",
    "plt.show();"
   ]
  },
  {
   "cell_type": "markdown",
   "metadata": {},
   "source": [
    "**Вывод:** В данных нет пропусков и дубликатов. Удалили лишний столбец. При обучении моделей нужно учесть дисбаланс классов."
   ]
  },
  {
   "cell_type": "markdown",
   "metadata": {},
   "source": [
    "### Обработка текста"
   ]
  },
  {
   "cell_type": "code",
   "execution_count": 10,
   "metadata": {},
   "outputs": [],
   "source": [
    "lemmatizer = WordNetLemmatizer()"
   ]
  },
  {
   "cell_type": "code",
   "execution_count": 11,
   "metadata": {},
   "outputs": [],
   "source": [
    "def get_wordnet_pos(word):\n",
    "    tag = nltk.pos_tag([word])[0][1][0].upper()\n",
    "    tag_dict = {\"J\": wordnet.ADJ,\n",
    "                \"N\": wordnet.NOUN,\n",
    "                \"V\": wordnet.VERB,\n",
    "                \"R\": wordnet.ADV}\n",
    "    return tag_dict.get(tag, wordnet.NOUN)"
   ]
  },
  {
   "cell_type": "code",
   "execution_count": 12,
   "metadata": {},
   "outputs": [],
   "source": [
    "def clear_text(text):\n",
    "    text = re.sub(r\"(?:\\n|\\r)\", \" \", text)\n",
    "    text = re.sub(r\"[^a-zA-Z ]+\", \"\", text).strip()\n",
    "    word_list = nltk.word_tokenize(text)\n",
    "    lemmatized_output = [lemmatizer.lemmatize(w, get_wordnet_pos(w)) for w in word_list]\n",
    "    lemmatized_output = ' '.join(lemmatized_output)\n",
    "    return lemmatized_output"
   ]
  },
  {
   "cell_type": "code",
   "execution_count": 13,
   "metadata": {},
   "outputs": [
    {
     "data": {
      "application/vnd.jupyter.widget-view+json": {
       "model_id": "89afe0e1f34b4f248ab8d35ba9a66989",
       "version_major": 2,
       "version_minor": 0
      },
      "text/plain": [
       "  0%|          | 0/159292 [00:00<?, ?it/s]"
      ]
     },
     "metadata": {},
     "output_type": "display_data"
    }
   ],
   "source": [
    "df['lemm_text'] = df['text'].progress_apply(clear_text)"
   ]
  },
  {
   "cell_type": "code",
   "execution_count": 15,
   "metadata": {
    "scrolled": true
   },
   "outputs": [
    {
     "data": {
      "text/html": [
       "<div>\n",
       "<style scoped>\n",
       "    .dataframe tbody tr th:only-of-type {\n",
       "        vertical-align: middle;\n",
       "    }\n",
       "\n",
       "    .dataframe tbody tr th {\n",
       "        vertical-align: top;\n",
       "    }\n",
       "\n",
       "    .dataframe thead th {\n",
       "        text-align: right;\n",
       "    }\n",
       "</style>\n",
       "<table border=\"1\" class=\"dataframe\">\n",
       "  <thead>\n",
       "    <tr style=\"text-align: right;\">\n",
       "      <th></th>\n",
       "      <th>text</th>\n",
       "      <th>toxic</th>\n",
       "      <th>lemm_text</th>\n",
       "    </tr>\n",
       "  </thead>\n",
       "  <tbody>\n",
       "    <tr>\n",
       "      <th>0</th>\n",
       "      <td>explanation\\nwhy the edits made under my usern...</td>\n",
       "      <td>0</td>\n",
       "      <td>explanation why the edits make under my userna...</td>\n",
       "    </tr>\n",
       "    <tr>\n",
       "      <th>1</th>\n",
       "      <td>d'aww! he matches this background colour i'm s...</td>\n",
       "      <td>0</td>\n",
       "      <td>daww he match this background colour im seemin...</td>\n",
       "    </tr>\n",
       "    <tr>\n",
       "      <th>2</th>\n",
       "      <td>hey man, i'm really not trying to edit war. it...</td>\n",
       "      <td>0</td>\n",
       "      <td>hey man im really not try to edit war it just ...</td>\n",
       "    </tr>\n",
       "    <tr>\n",
       "      <th>3</th>\n",
       "      <td>\"\\nmore\\ni can't make any real suggestions on ...</td>\n",
       "      <td>0</td>\n",
       "      <td>more i cant make any real suggestion on improv...</td>\n",
       "    </tr>\n",
       "    <tr>\n",
       "      <th>4</th>\n",
       "      <td>you, sir, are my hero. any chance you remember...</td>\n",
       "      <td>0</td>\n",
       "      <td>you sir be my hero any chance you remember wha...</td>\n",
       "    </tr>\n",
       "  </tbody>\n",
       "</table>\n",
       "</div>"
      ],
      "text/plain": [
       "                                                text  toxic  \\\n",
       "0  explanation\\nwhy the edits made under my usern...      0   \n",
       "1  d'aww! he matches this background colour i'm s...      0   \n",
       "2  hey man, i'm really not trying to edit war. it...      0   \n",
       "3  \"\\nmore\\ni can't make any real suggestions on ...      0   \n",
       "4  you, sir, are my hero. any chance you remember...      0   \n",
       "\n",
       "                                           lemm_text  \n",
       "0  explanation why the edits make under my userna...  \n",
       "1  daww he match this background colour im seemin...  \n",
       "2  hey man im really not try to edit war it just ...  \n",
       "3  more i cant make any real suggestion on improv...  \n",
       "4  you sir be my hero any chance you remember wha...  "
      ]
     },
     "execution_count": 15,
     "metadata": {},
     "output_type": "execute_result"
    }
   ],
   "source": [
    "df.head()"
   ]
  },
  {
   "cell_type": "markdown",
   "metadata": {},
   "source": [
    "### Признаки"
   ]
  },
  {
   "cell_type": "code",
   "execution_count": 25,
   "metadata": {},
   "outputs": [],
   "source": [
    "# выделим признаки\n",
    "target = df['toxic']\n",
    "features = df['lemm_text']\n",
    "\n",
    "features_train, features_test, target_train, target_test = train_test_split(\n",
    "    features, target, test_size=0.1, random_state=12345)"
   ]
  },
  {
   "cell_type": "code",
   "execution_count": 26,
   "metadata": {},
   "outputs": [
    {
     "name": "stdout",
     "output_type": "stream",
     "text": [
      "Размер матрицы: (143362, 191331)\n",
      "Размер матрицы: (15930, 191331)\n"
     ]
    }
   ],
   "source": [
    "# загрузим список стопслов\n",
    "stop_words = list(stopwords.words('english'))\n",
    "\n",
    "# вычислим TF-IDF \n",
    "count_tf_idf = TfidfVectorizer(stop_words=stop_words)\n",
    "tf_idf_train = count_tf_idf.fit_transform(features_train)\n",
    "tf_idf_test = count_tf_idf.transform(features_test)\n",
    "\n",
    "print(\"Размер матрицы:\", tf_idf_train.shape)\n",
    "print(\"Размер матрицы:\", tf_idf_test.shape)"
   ]
  },
  {
   "cell_type": "markdown",
   "metadata": {},
   "source": [
    "**Вывод:** Сделали лемматизацию и очистили данные от лишних слов и символов. Выделили признаки и вычислили TF-IDF для текстов."
   ]
  },
  {
   "cell_type": "markdown",
   "metadata": {},
   "source": [
    "## Обучение"
   ]
  },
  {
   "cell_type": "markdown",
   "metadata": {},
   "source": [
    "### LogisticRegression"
   ]
  },
  {
   "cell_type": "code",
   "execution_count": 29,
   "metadata": {},
   "outputs": [
    {
     "name": "stdout",
     "output_type": "stream",
     "text": [
      "{'model__C': 10.0, 'model__class_weight': 'balanced', 'model__max_iter': 400, 'model__solver': 'lbfgs'}\n",
      "0.7717702904913905\n",
      "CPU times: user 8min 37s, sys: 9min 10s, total: 17min 48s\n",
      "Wall time: 17min 49s\n"
     ]
    }
   ],
   "source": [
    "%%time\n",
    "pipeline = Pipeline(\n",
    "    [\n",
    "        (\"vect\", TfidfVectorizer()),\n",
    "        ('model', LogisticRegression()),\n",
    "    ]\n",
    ")\n",
    "\n",
    "lr_params_2 = {\"model__class_weight\":[\"balanced\"],\n",
    "             \"model__C\":[10.],\n",
    "             \"model__solver\":['lbfgs'], \n",
    "             \"model__max_iter\":[400]\n",
    "            }\n",
    "\n",
    "lr_grid_search_2 = GridSearchCV(pipeline, lr_params_2,\n",
    "                               cv=5, scoring='f1')\n",
    "lr_grid_search_2.fit(features_train, target_train)\n",
    "print(lr_grid_search_2.best_params_)\n",
    "print(lr_grid_search_2.best_score_)"
   ]
  },
  {
   "cell_type": "markdown",
   "metadata": {},
   "source": [
    "### RandomForest"
   ]
  },
  {
   "cell_type": "code",
   "execution_count": 32,
   "metadata": {},
   "outputs": [
    {
     "name": "stdout",
     "output_type": "stream",
     "text": [
      "{'model__class_weight': 'balanced', 'model__max_depth': 11, 'model__n_estimators': 200}\n",
      "0.33972453194466007\n",
      "CPU times: user 32min 23s, sys: 22.2 s, total: 32min 45s\n",
      "Wall time: 32min 46s\n"
     ]
    }
   ],
   "source": [
    "%%time\n",
    "pipeline = Pipeline(\n",
    "    [\n",
    "        (\"vect\", TfidfVectorizer()),\n",
    "        ('model', RandomForestClassifier()),\n",
    "    ]\n",
    ")\n",
    "\n",
    "rf_params_2 = {'model__class_weight':['balanced'],\n",
    "             'model__max_depth' : [6, 12], \n",
    "             'model__n_estimators': [150, 300]\n",
    "            }\n",
    "\n",
    "rf_grid_search_2 = GridSearchCV(pipeline, rf_params_2,\n",
    "                               cv=5, scoring='f1')\n",
    "rf_grid_search_2.fit(features_train, target_train)\n",
    "print(rf_grid_search_2.best_params_)\n",
    "print(rf_grid_search_2.best_score_)"
   ]
  },
  {
   "cell_type": "markdown",
   "metadata": {},
   "source": [
    "### Тестирование"
   ]
  },
  {
   "cell_type": "code",
   "execution_count": 34,
   "metadata": {},
   "outputs": [
    {
     "name": "stdout",
     "output_type": "stream",
     "text": [
      "F1 тестовой выборки : 0.7777777777777778\n"
     ]
    }
   ],
   "source": [
    "# для решения с pipeline\n",
    "test_pred_2 = lr_grid_search_2.best_estimator_.predict(features_test)\n",
    "test_score_2 = f1_score(target_test, test_pred_2)\n",
    "print('F1 тестовой выборки :', test_score_2)"
   ]
  },
  {
   "cell_type": "markdown",
   "metadata": {},
   "source": [
    "## Выводы"
   ]
  },
  {
   "cell_type": "markdown",
   "metadata": {},
   "source": [
    "* Был изучен набор данных с разметкой о токсичности правок. Проверен на наличие пропусков и дубликатов.\n",
    "* Текст очистили от мусора и лемматизировали с помощью Wordnet Lemmatizer с соответствующим POS-тегом.\n",
    "* В данных выделили признаки и разделиди на обучаюшую и тестовую выборки. Вычислили величину TF-IDF\n",
    "* Обучили модели Логистической регрессии и Случайного леса. Подобрали к моделям гипперпараметры и выбрали лучшую метрику f1 на них.\n",
    "* Лучшие результаты соответсвующие условию заказчика показала модель Логистической регрессии с f1 равным 0,76. Модель проверена на тестовой выборке."
   ]
  }
 ],
 "metadata": {
  "ExecuteTimeLog": [
   {
    "duration": 500,
    "start_time": "2023-07-29T14:49:07.927Z"
   },
   {
    "duration": 4,
    "start_time": "2023-07-29T14:49:44.446Z"
   },
   {
    "duration": 97,
    "start_time": "2023-07-29T14:52:34.350Z"
   },
   {
    "duration": 2524,
    "start_time": "2023-07-29T14:53:27.617Z"
   },
   {
    "duration": 16,
    "start_time": "2023-07-29T14:54:17.814Z"
   },
   {
    "duration": 47,
    "start_time": "2023-07-29T14:54:28.046Z"
   },
   {
    "duration": 20,
    "start_time": "2023-07-29T14:59:21.278Z"
   },
   {
    "duration": 1430,
    "start_time": "2023-07-29T15:00:02.478Z"
   },
   {
    "duration": 100,
    "start_time": "2023-07-29T15:00:15.794Z"
   },
   {
    "duration": 406,
    "start_time": "2023-07-29T15:02:49.824Z"
   },
   {
    "duration": 878,
    "start_time": "2023-07-29T15:02:50.232Z"
   },
   {
    "duration": 15,
    "start_time": "2023-07-29T15:02:51.112Z"
   },
   {
    "duration": 37,
    "start_time": "2023-07-29T15:02:52.047Z"
   },
   {
    "duration": 18,
    "start_time": "2023-07-29T15:02:52.564Z"
   },
   {
    "duration": 481,
    "start_time": "2023-07-29T15:04:57.533Z"
   },
   {
    "duration": 2993,
    "start_time": "2023-07-29T15:04:58.016Z"
   },
   {
    "duration": 16,
    "start_time": "2023-07-29T15:05:01.011Z"
   },
   {
    "duration": 88,
    "start_time": "2023-07-29T15:05:01.029Z"
   },
   {
    "duration": 80,
    "start_time": "2023-07-29T15:05:01.120Z"
   },
   {
    "duration": 7,
    "start_time": "2023-07-29T15:05:15.621Z"
   },
   {
    "duration": 707,
    "start_time": "2023-07-29T15:05:31.562Z"
   },
   {
    "duration": 148,
    "start_time": "2023-07-29T15:05:55.883Z"
   },
   {
    "duration": 140,
    "start_time": "2023-07-29T15:06:06.604Z"
   },
   {
    "duration": 160,
    "start_time": "2023-07-29T15:06:17.676Z"
   },
   {
    "duration": 251,
    "start_time": "2023-07-29T15:06:41.204Z"
   },
   {
    "duration": 309,
    "start_time": "2023-07-29T15:07:00.949Z"
   },
   {
    "duration": 105,
    "start_time": "2023-07-29T15:09:55.880Z"
   },
   {
    "duration": 395,
    "start_time": "2023-07-29T18:06:51.987Z"
   },
   {
    "duration": 2223,
    "start_time": "2023-07-29T18:06:55.192Z"
   },
   {
    "duration": 12,
    "start_time": "2023-07-29T18:06:58.265Z"
   },
   {
    "duration": 25,
    "start_time": "2023-07-29T18:06:59.969Z"
   },
   {
    "duration": 15,
    "start_time": "2023-07-29T18:07:01.056Z"
   },
   {
    "duration": 7,
    "start_time": "2023-07-29T18:07:03.802Z"
   },
   {
    "duration": 506,
    "start_time": "2023-07-29T18:07:06.487Z"
   },
   {
    "duration": 245,
    "start_time": "2023-07-29T18:07:11.360Z"
   },
   {
    "duration": 1212,
    "start_time": "2023-07-29T18:46:10.229Z"
   },
   {
    "duration": 863,
    "start_time": "2023-07-29T18:46:12.116Z"
   },
   {
    "duration": 16,
    "start_time": "2023-07-29T18:46:13.636Z"
   },
   {
    "duration": 24,
    "start_time": "2023-07-29T18:46:14.141Z"
   },
   {
    "duration": 223,
    "start_time": "2023-07-29T18:46:14.720Z"
   },
   {
    "duration": 14,
    "start_time": "2023-07-29T18:46:15.451Z"
   },
   {
    "duration": 7,
    "start_time": "2023-07-29T18:46:15.964Z"
   },
   {
    "duration": 302,
    "start_time": "2023-07-29T18:46:16.524Z"
   },
   {
    "duration": 206,
    "start_time": "2023-07-29T18:46:18.620Z"
   },
   {
    "duration": 6,
    "start_time": "2023-07-29T18:46:20.363Z"
   },
   {
    "duration": 62471,
    "start_time": "2023-07-29T18:46:21.920Z"
   },
   {
    "duration": 23,
    "start_time": "2023-07-29T18:51:48.748Z"
   },
   {
    "duration": 7,
    "start_time": "2023-07-29T18:53:56.547Z"
   },
   {
    "duration": 1324,
    "start_time": "2023-07-29T19:55:21.581Z"
   },
   {
    "duration": 887,
    "start_time": "2023-07-29T19:55:23.597Z"
   },
   {
    "duration": 13,
    "start_time": "2023-07-29T19:55:24.485Z"
   },
   {
    "duration": 25,
    "start_time": "2023-07-29T19:55:24.920Z"
   },
   {
    "duration": 247,
    "start_time": "2023-07-29T19:55:25.451Z"
   },
   {
    "duration": 15,
    "start_time": "2023-07-29T19:55:26.023Z"
   },
   {
    "duration": 5,
    "start_time": "2023-07-29T19:55:26.524Z"
   },
   {
    "duration": 326,
    "start_time": "2023-07-29T19:55:26.969Z"
   },
   {
    "duration": 4,
    "start_time": "2023-07-29T19:55:28.697Z"
   },
   {
    "duration": 507,
    "start_time": "2023-07-29T19:55:29.426Z"
   },
   {
    "duration": 1537,
    "start_time": "2023-07-29T19:55:30.225Z"
   },
   {
    "duration": 1316,
    "start_time": "2023-07-29T19:56:21.186Z"
   },
   {
    "duration": 827,
    "start_time": "2023-07-29T19:56:22.504Z"
   },
   {
    "duration": 12,
    "start_time": "2023-07-29T19:56:23.333Z"
   },
   {
    "duration": 47,
    "start_time": "2023-07-29T19:56:23.347Z"
   },
   {
    "duration": 250,
    "start_time": "2023-07-29T19:56:23.395Z"
   },
   {
    "duration": 13,
    "start_time": "2023-07-29T19:56:24.130Z"
   },
   {
    "duration": 6,
    "start_time": "2023-07-29T19:56:24.612Z"
   },
   {
    "duration": 301,
    "start_time": "2023-07-29T19:56:25.016Z"
   },
   {
    "duration": 124,
    "start_time": "2023-07-29T19:56:26.464Z"
   },
   {
    "duration": 4,
    "start_time": "2023-07-29T19:56:27.435Z"
   },
   {
    "duration": 73796,
    "start_time": "2023-07-29T19:56:28.817Z"
   },
   {
    "duration": 23,
    "start_time": "2023-07-29T19:57:42.615Z"
   },
   {
    "duration": 5140,
    "start_time": "2023-07-29T19:57:42.640Z"
   },
   {
    "duration": 276,
    "start_time": "2023-07-29T19:57:47.782Z"
   },
   {
    "duration": 9,
    "start_time": "2023-07-29T19:57:48.059Z"
   },
   {
    "duration": 0,
    "start_time": "2023-07-29T19:57:48.070Z"
   },
   {
    "duration": 0,
    "start_time": "2023-07-29T19:57:48.070Z"
   },
   {
    "duration": 0,
    "start_time": "2023-07-29T19:57:48.071Z"
   },
   {
    "duration": 0,
    "start_time": "2023-07-29T19:57:48.072Z"
   },
   {
    "duration": 141,
    "start_time": "2023-07-29T20:00:29.130Z"
   },
   {
    "duration": 4482,
    "start_time": "2023-07-29T20:39:50.437Z"
   },
   {
    "duration": 1488,
    "start_time": "2023-07-29T20:40:08.875Z"
   },
   {
    "duration": 844,
    "start_time": "2023-07-29T20:40:10.365Z"
   },
   {
    "duration": 13,
    "start_time": "2023-07-29T20:40:11.210Z"
   },
   {
    "duration": 24,
    "start_time": "2023-07-29T20:40:11.225Z"
   },
   {
    "duration": 243,
    "start_time": "2023-07-29T20:40:11.251Z"
   },
   {
    "duration": 19,
    "start_time": "2023-07-29T20:40:11.495Z"
   },
   {
    "duration": 14,
    "start_time": "2023-07-29T20:40:11.516Z"
   },
   {
    "duration": 306,
    "start_time": "2023-07-29T20:40:11.532Z"
   },
   {
    "duration": 224,
    "start_time": "2023-07-29T20:40:13.955Z"
   },
   {
    "duration": 4,
    "start_time": "2023-07-29T20:40:14.372Z"
   },
   {
    "duration": 66222,
    "start_time": "2023-07-29T20:40:14.987Z"
   },
   {
    "duration": 21,
    "start_time": "2023-07-29T20:41:21.211Z"
   },
   {
    "duration": 4510,
    "start_time": "2023-07-29T20:41:21.233Z"
   },
   {
    "duration": 20,
    "start_time": "2023-07-29T20:41:44.851Z"
   },
   {
    "duration": 4450,
    "start_time": "2023-07-29T20:41:45.762Z"
   },
   {
    "duration": 4350,
    "start_time": "2023-07-29T20:42:13.513Z"
   },
   {
    "duration": 1292,
    "start_time": "2023-07-29T20:45:13.314Z"
   },
   {
    "duration": 817,
    "start_time": "2023-07-29T20:45:14.608Z"
   },
   {
    "duration": 13,
    "start_time": "2023-07-29T20:45:15.427Z"
   },
   {
    "duration": 55,
    "start_time": "2023-07-29T20:45:15.441Z"
   },
   {
    "duration": 257,
    "start_time": "2023-07-29T20:45:15.497Z"
   },
   {
    "duration": 11,
    "start_time": "2023-07-29T20:45:15.755Z"
   },
   {
    "duration": 6,
    "start_time": "2023-07-29T20:45:16.617Z"
   },
   {
    "duration": 285,
    "start_time": "2023-07-29T20:45:17.110Z"
   },
   {
    "duration": 216,
    "start_time": "2023-07-29T20:45:18.794Z"
   },
   {
    "duration": 4,
    "start_time": "2023-07-29T20:45:19.449Z"
   },
   {
    "duration": 119,
    "start_time": "2023-07-29T20:45:20.487Z"
   },
   {
    "duration": 1290,
    "start_time": "2023-07-29T20:45:21.042Z"
   },
   {
    "duration": 5,
    "start_time": "2023-07-29T20:45:30.899Z"
   },
   {
    "duration": 320,
    "start_time": "2023-07-29T20:45:31.234Z"
   },
   {
    "duration": 1128,
    "start_time": "2023-07-29T20:45:32.505Z"
   },
   {
    "duration": 3,
    "start_time": "2023-07-29T20:46:22.050Z"
   },
   {
    "duration": 4,
    "start_time": "2023-07-29T20:46:26.698Z"
   },
   {
    "duration": 360,
    "start_time": "2023-07-29T20:46:27.425Z"
   },
   {
    "duration": 428,
    "start_time": "2023-07-29T20:47:04.801Z"
   },
   {
    "duration": 803,
    "start_time": "2023-07-29T20:47:05.231Z"
   },
   {
    "duration": 7,
    "start_time": "2023-07-29T20:47:14.627Z"
   },
   {
    "duration": 9,
    "start_time": "2023-07-29T20:47:23.650Z"
   },
   {
    "duration": 4,
    "start_time": "2023-07-29T20:47:25.450Z"
   },
   {
    "duration": 1350,
    "start_time": "2023-07-29T20:51:27.678Z"
   },
   {
    "duration": 800,
    "start_time": "2023-07-29T20:51:29.708Z"
   },
   {
    "duration": 13,
    "start_time": "2023-07-29T20:51:31.002Z"
   },
   {
    "duration": 23,
    "start_time": "2023-07-29T20:51:31.578Z"
   },
   {
    "duration": 222,
    "start_time": "2023-07-29T20:51:31.962Z"
   },
   {
    "duration": 13,
    "start_time": "2023-07-29T20:51:32.409Z"
   },
   {
    "duration": 6,
    "start_time": "2023-07-29T20:51:33.130Z"
   },
   {
    "duration": 299,
    "start_time": "2023-07-29T20:51:33.994Z"
   },
   {
    "duration": 133,
    "start_time": "2023-07-29T20:51:35.922Z"
   },
   {
    "duration": 9,
    "start_time": "2023-07-29T20:51:36.467Z"
   },
   {
    "duration": 5,
    "start_time": "2023-07-29T20:51:36.921Z"
   },
   {
    "duration": 1000582,
    "start_time": "2023-07-29T20:51:38.084Z"
   },
   {
    "duration": 19,
    "start_time": "2023-07-29T21:08:18.668Z"
   },
   {
    "duration": 5546,
    "start_time": "2023-07-29T21:08:18.689Z"
   },
   {
    "duration": 3,
    "start_time": "2023-07-29T21:08:24.237Z"
   },
   {
    "duration": 25,
    "start_time": "2023-07-29T21:15:04.312Z"
   },
   {
    "duration": 4533,
    "start_time": "2023-07-29T21:15:05.264Z"
   },
   {
    "duration": 0,
    "start_time": "2023-07-29T21:15:09.799Z"
   },
   {
    "duration": 1324,
    "start_time": "2023-07-29T21:15:34.528Z"
   },
   {
    "duration": 856,
    "start_time": "2023-07-29T21:15:35.853Z"
   },
   {
    "duration": 12,
    "start_time": "2023-07-29T21:15:36.710Z"
   },
   {
    "duration": 29,
    "start_time": "2023-07-29T21:15:36.724Z"
   },
   {
    "duration": 232,
    "start_time": "2023-07-29T21:15:36.755Z"
   },
   {
    "duration": 12,
    "start_time": "2023-07-29T21:15:41.545Z"
   },
   {
    "duration": 6,
    "start_time": "2023-07-29T21:15:42.016Z"
   },
   {
    "duration": 318,
    "start_time": "2023-07-29T21:15:42.745Z"
   },
   {
    "duration": 202,
    "start_time": "2023-07-29T21:15:56.649Z"
   },
   {
    "duration": 9,
    "start_time": "2023-07-29T21:15:57.207Z"
   },
   {
    "duration": 4,
    "start_time": "2023-07-29T21:15:57.632Z"
   },
   {
    "duration": 1007993,
    "start_time": "2023-07-29T21:15:58.064Z"
   },
   {
    "duration": 31,
    "start_time": "2023-07-29T21:32:46.062Z"
   },
   {
    "duration": 4882,
    "start_time": "2023-07-29T21:32:46.101Z"
   },
   {
    "duration": 0,
    "start_time": "2023-07-29T21:32:50.985Z"
   },
   {
    "duration": 4395,
    "start_time": "2023-07-29T21:33:19.287Z"
   },
   {
    "duration": 3,
    "start_time": "2023-07-29T21:37:27.695Z"
   },
   {
    "duration": 1476,
    "start_time": "2023-07-29T21:37:41.367Z"
   },
   {
    "duration": 913,
    "start_time": "2023-07-29T21:37:42.845Z"
   },
   {
    "duration": 12,
    "start_time": "2023-07-29T21:37:43.760Z"
   },
   {
    "duration": 38,
    "start_time": "2023-07-29T21:37:43.774Z"
   },
   {
    "duration": 243,
    "start_time": "2023-07-29T21:37:43.813Z"
   },
   {
    "duration": 12,
    "start_time": "2023-07-29T21:37:44.358Z"
   },
   {
    "duration": 6,
    "start_time": "2023-07-29T21:37:45.150Z"
   },
   {
    "duration": 333,
    "start_time": "2023-07-29T21:37:46.007Z"
   },
   {
    "duration": 218,
    "start_time": "2023-07-29T21:37:50.368Z"
   },
   {
    "duration": 11,
    "start_time": "2023-07-29T21:37:50.805Z"
   },
   {
    "duration": 3,
    "start_time": "2023-07-29T21:37:51.470Z"
   },
   {
    "duration": 66742,
    "start_time": "2023-07-29T21:37:52.022Z"
   },
   {
    "duration": 21,
    "start_time": "2023-07-29T21:38:58.766Z"
   },
   {
    "duration": 3648,
    "start_time": "2023-07-29T21:38:58.789Z"
   },
   {
    "duration": 1379,
    "start_time": "2023-07-29T21:39:54.278Z"
   },
   {
    "duration": 869,
    "start_time": "2023-07-29T21:39:55.659Z"
   },
   {
    "duration": 12,
    "start_time": "2023-07-29T21:39:56.529Z"
   },
   {
    "duration": 42,
    "start_time": "2023-07-29T21:39:56.543Z"
   },
   {
    "duration": 233,
    "start_time": "2023-07-29T21:39:56.587Z"
   },
   {
    "duration": 12,
    "start_time": "2023-07-29T21:39:56.821Z"
   },
   {
    "duration": 6,
    "start_time": "2023-07-29T21:39:56.956Z"
   },
   {
    "duration": 306,
    "start_time": "2023-07-29T21:39:57.128Z"
   },
   {
    "duration": 210,
    "start_time": "2023-07-29T21:39:58.262Z"
   },
   {
    "duration": 9,
    "start_time": "2023-07-29T21:39:58.647Z"
   },
   {
    "duration": 3,
    "start_time": "2023-07-29T21:39:59.166Z"
   },
   {
    "duration": 63905,
    "start_time": "2023-07-29T21:39:59.734Z"
   },
   {
    "duration": 23,
    "start_time": "2023-07-29T21:41:03.641Z"
   },
   {
    "duration": 3572,
    "start_time": "2023-07-29T21:41:03.666Z"
   },
   {
    "duration": 5,
    "start_time": "2023-07-29T21:53:07.658Z"
   },
   {
    "duration": 340,
    "start_time": "2023-07-29T21:53:11.528Z"
   },
   {
    "duration": 1312,
    "start_time": "2023-07-29T21:53:21.621Z"
   },
   {
    "duration": 877,
    "start_time": "2023-07-29T21:53:23.405Z"
   },
   {
    "duration": 19,
    "start_time": "2023-07-29T21:53:24.284Z"
   },
   {
    "duration": 28,
    "start_time": "2023-07-29T21:53:24.477Z"
   },
   {
    "duration": 234,
    "start_time": "2023-07-29T21:53:24.957Z"
   },
   {
    "duration": 14,
    "start_time": "2023-07-29T21:53:25.405Z"
   },
   {
    "duration": 7,
    "start_time": "2023-07-29T21:53:25.926Z"
   },
   {
    "duration": 305,
    "start_time": "2023-07-29T21:53:26.756Z"
   },
   {
    "duration": 112,
    "start_time": "2023-07-29T21:53:31.549Z"
   },
   {
    "duration": 9,
    "start_time": "2023-07-29T21:53:32.118Z"
   },
   {
    "duration": 3,
    "start_time": "2023-07-29T21:53:33.653Z"
   },
   {
    "duration": 1512,
    "start_time": "2023-07-29T21:53:36.653Z"
   },
   {
    "duration": 7,
    "start_time": "2023-07-29T21:53:47.062Z"
   },
   {
    "duration": 306,
    "start_time": "2023-07-29T21:53:47.549Z"
   },
   {
    "duration": 1393,
    "start_time": "2023-07-29T21:54:12.589Z"
   },
   {
    "duration": 898,
    "start_time": "2023-07-29T21:54:13.985Z"
   },
   {
    "duration": 15,
    "start_time": "2023-07-29T21:54:14.885Z"
   },
   {
    "duration": 30,
    "start_time": "2023-07-29T21:54:15.436Z"
   },
   {
    "duration": 249,
    "start_time": "2023-07-29T21:54:15.868Z"
   },
   {
    "duration": 13,
    "start_time": "2023-07-29T21:54:16.293Z"
   },
   {
    "duration": 5,
    "start_time": "2023-07-29T21:54:16.789Z"
   },
   {
    "duration": 325,
    "start_time": "2023-07-29T21:54:17.316Z"
   },
   {
    "duration": 121,
    "start_time": "2023-07-29T21:54:18.211Z"
   },
   {
    "duration": 10,
    "start_time": "2023-07-29T21:54:18.588Z"
   },
   {
    "duration": 5,
    "start_time": "2023-07-29T21:54:19.125Z"
   },
   {
    "duration": 118,
    "start_time": "2023-07-29T21:54:20.124Z"
   },
   {
    "duration": 994437,
    "start_time": "2023-07-29T21:54:40.748Z"
   },
   {
    "duration": 24,
    "start_time": "2023-07-29T22:11:50.957Z"
   },
   {
    "duration": 4520,
    "start_time": "2023-07-29T22:11:50.983Z"
   },
   {
    "duration": 1370,
    "start_time": "2023-07-29T22:19:41.395Z"
   },
   {
    "duration": 901,
    "start_time": "2023-07-29T22:19:42.767Z"
   },
   {
    "duration": 13,
    "start_time": "2023-07-29T22:19:43.669Z"
   },
   {
    "duration": 49,
    "start_time": "2023-07-29T22:19:43.684Z"
   },
   {
    "duration": 243,
    "start_time": "2023-07-29T22:19:43.735Z"
   },
   {
    "duration": 13,
    "start_time": "2023-07-29T22:19:43.979Z"
   },
   {
    "duration": 28,
    "start_time": "2023-07-29T22:19:43.999Z"
   },
   {
    "duration": 310,
    "start_time": "2023-07-29T22:19:44.098Z"
   },
   {
    "duration": 1463,
    "start_time": "2023-07-29T22:20:28.627Z"
   },
   {
    "duration": 3593,
    "start_time": "2023-07-29T22:21:01.338Z"
   },
   {
    "duration": 25,
    "start_time": "2023-07-29T22:21:14.611Z"
   },
   {
    "duration": 220,
    "start_time": "2023-07-29T22:21:15.540Z"
   },
   {
    "duration": 4525,
    "start_time": "2023-07-29T22:21:16.625Z"
   },
   {
    "duration": 44,
    "start_time": "2023-07-29T22:21:45.330Z"
   },
   {
    "duration": 4926,
    "start_time": "2023-07-29T22:23:39.874Z"
   },
   {
    "duration": 3518,
    "start_time": "2023-07-29T22:24:21.818Z"
   },
   {
    "duration": 1291,
    "start_time": "2023-07-30T10:35:37.659Z"
   },
   {
    "duration": 4,
    "start_time": "2023-07-30T10:35:50.255Z"
   },
   {
    "duration": 2167,
    "start_time": "2023-07-30T10:35:51.705Z"
   },
   {
    "duration": 12,
    "start_time": "2023-07-30T10:35:55.066Z"
   },
   {
    "duration": 24,
    "start_time": "2023-07-30T10:35:57.192Z"
   },
   {
    "duration": 215,
    "start_time": "2023-07-30T10:35:58.609Z"
   },
   {
    "duration": 12,
    "start_time": "2023-07-30T10:35:59.424Z"
   },
   {
    "duration": 6,
    "start_time": "2023-07-30T10:36:03.784Z"
   },
   {
    "duration": 472,
    "start_time": "2023-07-30T10:36:06.247Z"
   },
   {
    "duration": 3,
    "start_time": "2023-07-30T10:36:08.460Z"
   },
   {
    "duration": 4,
    "start_time": "2023-07-30T10:36:09.950Z"
   },
   {
    "duration": 688,
    "start_time": "2023-07-30T10:36:11.376Z"
   },
   {
    "duration": 417,
    "start_time": "2023-07-30T10:37:49.297Z"
   },
   {
    "duration": 3,
    "start_time": "2023-07-30T10:37:52.809Z"
   },
   {
    "duration": 3,
    "start_time": "2023-07-30T10:37:53.117Z"
   },
   {
    "duration": 1007227,
    "start_time": "2023-07-30T10:37:53.856Z"
   },
   {
    "duration": 7,
    "start_time": "2023-07-30T10:55:41.045Z"
   },
   {
    "duration": 22,
    "start_time": "2023-07-30T10:55:50.061Z"
   },
   {
    "duration": 4281,
    "start_time": "2023-07-30T10:55:50.445Z"
   },
   {
    "duration": 1582,
    "start_time": "2023-07-30T11:22:44.515Z"
   },
   {
    "duration": 845,
    "start_time": "2023-07-30T11:22:50.144Z"
   },
   {
    "duration": 15,
    "start_time": "2023-07-30T11:22:50.991Z"
   },
   {
    "duration": 25,
    "start_time": "2023-07-30T11:22:51.192Z"
   },
   {
    "duration": 224,
    "start_time": "2023-07-30T11:22:51.948Z"
   },
   {
    "duration": 12,
    "start_time": "2023-07-30T11:22:53.101Z"
   },
   {
    "duration": 197,
    "start_time": "2023-07-30T11:22:55.191Z"
   },
   {
    "duration": 5,
    "start_time": "2023-07-30T11:22:56.309Z"
   },
   {
    "duration": 300,
    "start_time": "2023-07-30T11:22:57.278Z"
   },
   {
    "duration": 4,
    "start_time": "2023-07-30T11:22:58.482Z"
   },
   {
    "duration": 3,
    "start_time": "2023-07-30T11:22:59.101Z"
   },
   {
    "duration": 990558,
    "start_time": "2023-07-30T11:22:59.848Z"
   },
   {
    "duration": 7,
    "start_time": "2023-07-30T11:39:30.407Z"
   },
   {
    "duration": 23,
    "start_time": "2023-07-30T11:41:37.378Z"
   },
   {
    "duration": 4551,
    "start_time": "2023-07-30T11:41:37.860Z"
   },
   {
    "duration": 1598,
    "start_time": "2023-07-30T11:48:46.257Z"
   },
   {
    "duration": 874,
    "start_time": "2023-07-30T11:48:49.145Z"
   },
   {
    "duration": 15,
    "start_time": "2023-07-30T11:48:50.020Z"
   },
   {
    "duration": 27,
    "start_time": "2023-07-30T11:48:51.084Z"
   },
   {
    "duration": 243,
    "start_time": "2023-07-30T11:48:51.587Z"
   },
   {
    "duration": 12,
    "start_time": "2023-07-30T11:48:52.589Z"
   },
   {
    "duration": 200,
    "start_time": "2023-07-30T11:48:53.177Z"
   },
   {
    "duration": 5,
    "start_time": "2023-07-30T11:48:53.706Z"
   },
   {
    "duration": 296,
    "start_time": "2023-07-30T11:48:54.101Z"
   },
   {
    "duration": 3,
    "start_time": "2023-07-30T11:48:55.084Z"
   },
   {
    "duration": 3,
    "start_time": "2023-07-30T11:48:55.649Z"
   },
   {
    "duration": 3,
    "start_time": "2023-07-30T11:48:56.260Z"
   },
   {
    "duration": 5625640,
    "start_time": "2023-07-30T11:48:57.113Z"
   },
   {
    "duration": 8,
    "start_time": "2023-07-30T13:22:42.754Z"
   },
   {
    "duration": 26,
    "start_time": "2023-07-30T13:48:21.401Z"
   },
   {
    "duration": 1047,
    "start_time": "2023-07-30T13:48:22.081Z"
   },
   {
    "duration": 7242,
    "start_time": "2023-07-30T13:57:29.151Z"
   },
   {
    "duration": 813,
    "start_time": "2023-07-30T13:57:36.395Z"
   },
   {
    "duration": 18,
    "start_time": "2023-07-30T13:57:39.705Z"
   },
   {
    "duration": 27,
    "start_time": "2023-07-30T13:57:40.209Z"
   },
   {
    "duration": 247,
    "start_time": "2023-07-30T13:57:40.750Z"
   },
   {
    "duration": 12,
    "start_time": "2023-07-30T13:57:41.242Z"
   },
   {
    "duration": 6,
    "start_time": "2023-07-30T13:57:41.755Z"
   },
   {
    "duration": 273,
    "start_time": "2023-07-30T13:57:42.247Z"
   },
   {
    "duration": 3,
    "start_time": "2023-07-30T13:57:43.447Z"
   },
   {
    "duration": 693,
    "start_time": "2023-07-30T13:57:44.813Z"
   },
   {
    "duration": 758,
    "start_time": "2023-07-30T13:57:46.855Z"
   },
   {
    "duration": 3,
    "start_time": "2023-07-30T13:58:04.346Z"
   },
   {
    "duration": 420,
    "start_time": "2023-07-30T13:58:04.771Z"
   },
   {
    "duration": 935001,
    "start_time": "2023-07-30T13:58:05.263Z"
   },
   {
    "duration": 6,
    "start_time": "2023-07-30T14:13:40.265Z"
   },
   {
    "duration": 22,
    "start_time": "2023-07-30T14:14:42.503Z"
   },
   {
    "duration": 4881,
    "start_time": "2023-07-30T14:14:42.967Z"
   },
   {
    "duration": 13729,
    "start_time": "2023-07-30T14:55:45.543Z"
   },
   {
    "duration": 1480,
    "start_time": "2023-07-30T14:55:59.276Z"
   },
   {
    "duration": 13,
    "start_time": "2023-07-30T14:56:03.343Z"
   },
   {
    "duration": 26,
    "start_time": "2023-07-30T14:56:03.754Z"
   },
   {
    "duration": 220,
    "start_time": "2023-07-30T14:56:04.157Z"
   },
   {
    "duration": 12,
    "start_time": "2023-07-30T14:56:04.564Z"
   },
   {
    "duration": 6,
    "start_time": "2023-07-30T14:56:05.001Z"
   },
   {
    "duration": 256,
    "start_time": "2023-07-30T14:56:05.296Z"
   },
   {
    "duration": 4,
    "start_time": "2023-07-30T14:56:06.160Z"
   },
   {
    "duration": 329,
    "start_time": "2023-07-30T14:56:07.864Z"
   },
   {
    "duration": 75730,
    "start_time": "2023-07-30T14:56:20.956Z"
   },
   {
    "duration": 7,
    "start_time": "2023-07-30T14:57:36.687Z"
   },
   {
    "duration": 23,
    "start_time": "2023-07-30T15:00:07.156Z"
   },
   {
    "duration": 4462,
    "start_time": "2023-07-30T15:00:07.645Z"
   },
   {
    "duration": 4450,
    "start_time": "2023-07-30T15:00:36.746Z"
   },
   {
    "duration": 20,
    "start_time": "2023-07-30T15:01:07.674Z"
   },
   {
    "duration": 3783,
    "start_time": "2023-07-30T15:13:25.461Z"
   },
   {
    "duration": 781,
    "start_time": "2023-07-30T15:13:29.246Z"
   },
   {
    "duration": 14,
    "start_time": "2023-07-30T15:13:30.028Z"
   },
   {
    "duration": 52,
    "start_time": "2023-07-30T15:13:30.044Z"
   },
   {
    "duration": 244,
    "start_time": "2023-07-30T15:13:30.097Z"
   },
   {
    "duration": 12,
    "start_time": "2023-07-30T15:13:30.343Z"
   },
   {
    "duration": 25,
    "start_time": "2023-07-30T15:13:30.357Z"
   },
   {
    "duration": 271,
    "start_time": "2023-07-30T15:13:30.383Z"
   },
   {
    "duration": 3,
    "start_time": "2023-07-30T15:13:30.656Z"
   },
   {
    "duration": 77758,
    "start_time": "2023-07-30T15:13:30.661Z"
   },
   {
    "duration": 7,
    "start_time": "2023-07-30T15:14:48.421Z"
   },
   {
    "duration": 24,
    "start_time": "2023-07-30T15:15:05.245Z"
   },
   {
    "duration": 4648,
    "start_time": "2023-07-30T15:15:05.608Z"
   },
   {
    "duration": 337,
    "start_time": "2023-07-30T15:15:10.258Z"
   },
   {
    "duration": 4192,
    "start_time": "2023-07-30T15:16:41.898Z"
   },
   {
    "duration": 843,
    "start_time": "2023-07-30T15:16:46.093Z"
   },
   {
    "duration": 15,
    "start_time": "2023-07-30T15:16:46.939Z"
   },
   {
    "duration": 42,
    "start_time": "2023-07-30T15:16:46.957Z"
   },
   {
    "duration": 275,
    "start_time": "2023-07-30T15:16:47.001Z"
   },
   {
    "duration": 11,
    "start_time": "2023-07-30T15:16:47.277Z"
   },
   {
    "duration": 6,
    "start_time": "2023-07-30T15:16:47.299Z"
   },
   {
    "duration": 260,
    "start_time": "2023-07-30T15:16:47.306Z"
   },
   {
    "duration": 3,
    "start_time": "2023-07-30T15:16:47.567Z"
   },
   {
    "duration": 753,
    "start_time": "2023-07-30T15:16:47.572Z"
   },
   {
    "duration": 0,
    "start_time": "2023-07-30T15:16:48.327Z"
   },
   {
    "duration": 3766,
    "start_time": "2023-07-30T15:17:20.256Z"
   },
   {
    "duration": 738,
    "start_time": "2023-07-30T15:17:24.024Z"
   },
   {
    "duration": 13,
    "start_time": "2023-07-30T15:17:24.764Z"
   },
   {
    "duration": 46,
    "start_time": "2023-07-30T15:17:24.779Z"
   },
   {
    "duration": 223,
    "start_time": "2023-07-30T15:17:24.826Z"
   },
   {
    "duration": 12,
    "start_time": "2023-07-30T15:17:25.050Z"
   },
   {
    "duration": 15,
    "start_time": "2023-07-30T15:17:25.063Z"
   },
   {
    "duration": 237,
    "start_time": "2023-07-30T15:17:25.079Z"
   },
   {
    "duration": 4,
    "start_time": "2023-07-30T15:17:25.317Z"
   },
   {
    "duration": 723,
    "start_time": "2023-07-30T15:17:25.324Z"
   },
   {
    "duration": 0,
    "start_time": "2023-07-30T15:17:26.049Z"
   },
   {
    "duration": 5,
    "start_time": "2023-07-30T15:19:08.340Z"
   },
   {
    "duration": 4083,
    "start_time": "2023-07-30T15:20:46.026Z"
   },
   {
    "duration": 756,
    "start_time": "2023-07-30T15:20:53.253Z"
   },
   {
    "duration": 13,
    "start_time": "2023-07-30T15:20:54.011Z"
   },
   {
    "duration": 25,
    "start_time": "2023-07-30T15:20:54.456Z"
   },
   {
    "duration": 222,
    "start_time": "2023-07-30T15:20:54.784Z"
   },
   {
    "duration": 12,
    "start_time": "2023-07-30T15:20:55.185Z"
   },
   {
    "duration": 6,
    "start_time": "2023-07-30T15:20:55.592Z"
   },
   {
    "duration": 270,
    "start_time": "2023-07-30T15:20:56.057Z"
   },
   {
    "duration": 540,
    "start_time": "2023-07-30T15:21:02.257Z"
   },
   {
    "duration": 331,
    "start_time": "2023-07-30T15:21:02.992Z"
   },
   {
    "duration": 951043,
    "start_time": "2023-07-30T15:21:12.569Z"
   },
   {
    "duration": 19,
    "start_time": "2023-07-30T15:37:03.614Z"
   },
   {
    "duration": 1157,
    "start_time": "2023-07-30T15:38:38.496Z"
   },
   {
    "duration": 3762,
    "start_time": "2023-07-30T15:38:59.801Z"
   },
   {
    "duration": 20,
    "start_time": "2023-07-30T15:39:08.947Z"
   },
   {
    "duration": 4929,
    "start_time": "2023-07-30T15:39:10.342Z"
   },
   {
    "duration": 29,
    "start_time": "2023-07-30T15:39:15.272Z"
   },
   {
    "duration": 4093,
    "start_time": "2023-07-30T15:40:19.183Z"
   },
   {
    "duration": 843,
    "start_time": "2023-07-30T15:40:23.277Z"
   },
   {
    "duration": 17,
    "start_time": "2023-07-30T15:40:24.122Z"
   },
   {
    "duration": 40,
    "start_time": "2023-07-30T15:40:24.140Z"
   },
   {
    "duration": 231,
    "start_time": "2023-07-30T15:40:26.318Z"
   },
   {
    "duration": 12,
    "start_time": "2023-07-30T15:40:26.769Z"
   },
   {
    "duration": 11,
    "start_time": "2023-07-30T15:40:27.193Z"
   },
   {
    "duration": 248,
    "start_time": "2023-07-30T15:40:27.641Z"
   },
   {
    "duration": 3,
    "start_time": "2023-07-30T15:40:29.438Z"
   },
   {
    "duration": 133177,
    "start_time": "2023-07-30T15:40:31.215Z"
   },
   {
    "duration": 24,
    "start_time": "2023-07-30T15:42:44.394Z"
   },
   {
    "duration": 11,
    "start_time": "2023-07-30T15:43:24.498Z"
   },
   {
    "duration": 124712,
    "start_time": "2023-07-30T15:43:24.824Z"
   },
   {
    "duration": 7,
    "start_time": "2023-07-30T15:45:29.537Z"
   },
   {
    "duration": 1646,
    "start_time": "2023-07-30T15:58:43.889Z"
   },
   {
    "duration": 914,
    "start_time": "2023-07-30T15:58:45.537Z"
   },
   {
    "duration": 14,
    "start_time": "2023-07-30T15:58:46.453Z"
   },
   {
    "duration": 42,
    "start_time": "2023-07-30T15:58:46.479Z"
   },
   {
    "duration": 248,
    "start_time": "2023-07-30T15:58:46.840Z"
   },
   {
    "duration": 14,
    "start_time": "2023-07-30T15:58:47.217Z"
   },
   {
    "duration": 7,
    "start_time": "2023-07-30T15:58:47.584Z"
   },
   {
    "duration": 351,
    "start_time": "2023-07-30T15:58:47.923Z"
   },
   {
    "duration": 2,
    "start_time": "2023-07-30T15:58:48.744Z"
   },
   {
    "duration": 4,
    "start_time": "2023-07-30T15:58:49.192Z"
   },
   {
    "duration": 71,
    "start_time": "2023-07-30T15:58:49.896Z"
   },
   {
    "duration": 3,
    "start_time": "2023-07-30T15:59:05.241Z"
   },
   {
    "duration": 1054147,
    "start_time": "2023-07-30T15:59:06.753Z"
   },
   {
    "duration": 8,
    "start_time": "2023-07-30T16:16:40.902Z"
   },
   {
    "duration": 29,
    "start_time": "2023-07-30T16:17:01.848Z"
   },
   {
    "duration": 137,
    "start_time": "2023-07-30T16:17:02.768Z"
   },
   {
    "duration": 11,
    "start_time": "2023-07-30T16:17:03.672Z"
   },
   {
    "duration": 3,
    "start_time": "2023-07-30T16:17:19.968Z"
   },
   {
    "duration": 1041685,
    "start_time": "2023-07-30T16:17:20.760Z"
   },
   {
    "duration": 6,
    "start_time": "2023-07-30T16:34:42.446Z"
   },
   {
    "duration": 112,
    "start_time": "2023-07-30T16:34:42.454Z"
   },
   {
    "duration": 4882,
    "start_time": "2023-07-30T16:34:42.570Z"
   },
   {
    "duration": 12,
    "start_time": "2023-07-30T16:34:47.454Z"
   },
   {
    "duration": 17,
    "start_time": "2023-07-30T17:52:09.520Z"
   },
   {
    "duration": 13,
    "start_time": "2023-07-30T17:52:17.695Z"
   },
   {
    "duration": 4427,
    "start_time": "2023-07-30T17:52:18.903Z"
   },
   {
    "duration": 13,
    "start_time": "2023-07-30T17:52:23.332Z"
   },
   {
    "duration": 11,
    "start_time": "2023-07-30T17:59:43.240Z"
   },
   {
    "duration": 4553,
    "start_time": "2023-07-30T17:59:52.247Z"
   },
   {
    "duration": 19,
    "start_time": "2023-07-30T17:59:56.802Z"
   },
   {
    "duration": 4577,
    "start_time": "2023-07-30T18:02:55.286Z"
   },
   {
    "duration": 12,
    "start_time": "2023-07-30T18:02:59.864Z"
   },
   {
    "duration": 24,
    "start_time": "2023-07-30T18:25:38.946Z"
   },
   {
    "duration": 4828,
    "start_time": "2023-07-30T18:25:39.488Z"
   },
   {
    "duration": 12,
    "start_time": "2023-07-30T18:25:44.318Z"
   },
   {
    "duration": 1385,
    "start_time": "2023-07-30T18:28:22.754Z"
   },
   {
    "duration": 814,
    "start_time": "2023-07-30T18:28:24.141Z"
   },
   {
    "duration": 12,
    "start_time": "2023-07-30T18:28:24.956Z"
   },
   {
    "duration": 37,
    "start_time": "2023-07-30T18:28:24.969Z"
   },
   {
    "duration": 244,
    "start_time": "2023-07-30T18:28:25.007Z"
   },
   {
    "duration": 13,
    "start_time": "2023-07-30T18:28:25.253Z"
   },
   {
    "duration": 5,
    "start_time": "2023-07-30T18:28:25.273Z"
   },
   {
    "duration": 297,
    "start_time": "2023-07-30T18:28:25.590Z"
   },
   {
    "duration": 3,
    "start_time": "2023-07-30T18:28:26.197Z"
   },
   {
    "duration": 3,
    "start_time": "2023-07-30T18:28:26.505Z"
   },
   {
    "duration": 3,
    "start_time": "2023-07-30T18:28:26.826Z"
   },
   {
    "duration": 992997,
    "start_time": "2023-07-30T18:28:27.198Z"
   },
   {
    "duration": 8,
    "start_time": "2023-07-30T18:45:00.197Z"
   },
   {
    "duration": 107,
    "start_time": "2023-07-30T18:45:00.206Z"
   },
   {
    "duration": 4507,
    "start_time": "2023-07-30T18:45:00.315Z"
   },
   {
    "duration": 133,
    "start_time": "2023-07-30T18:45:04.824Z"
   },
   {
    "duration": 5396,
    "start_time": "2023-07-30T19:04:46.040Z"
   },
   {
    "duration": 12,
    "start_time": "2023-07-30T19:04:51.438Z"
   },
   {
    "duration": 271,
    "start_time": "2023-07-30T19:05:07.524Z"
   },
   {
    "duration": 85,
    "start_time": "2023-07-30T19:05:28.446Z"
   },
   {
    "duration": 131,
    "start_time": "2023-07-30T19:07:47.675Z"
   },
   {
    "duration": 26,
    "start_time": "2023-07-30T19:07:58.045Z"
   },
   {
    "duration": 5272,
    "start_time": "2023-07-30T19:07:58.444Z"
   },
   {
    "duration": 77,
    "start_time": "2023-07-30T19:08:03.718Z"
   },
   {
    "duration": 10,
    "start_time": "2023-07-30T19:08:03.796Z"
   },
   {
    "duration": 93,
    "start_time": "2023-07-30T19:08:26.460Z"
   },
   {
    "duration": 30,
    "start_time": "2023-07-30T19:08:57.180Z"
   },
   {
    "duration": 4990,
    "start_time": "2023-07-30T19:08:57.684Z"
   },
   {
    "duration": 108,
    "start_time": "2023-07-30T19:09:02.676Z"
   },
   {
    "duration": 9,
    "start_time": "2023-07-30T19:09:02.786Z"
   },
   {
    "duration": 4,
    "start_time": "2023-07-30T19:11:44.996Z"
   },
   {
    "duration": 3,
    "start_time": "2023-07-30T19:12:04.987Z"
   },
   {
    "duration": 24,
    "start_time": "2023-07-30T19:13:18.460Z"
   },
   {
    "duration": 5084,
    "start_time": "2023-07-30T19:13:19.291Z"
   },
   {
    "duration": 6832,
    "start_time": "2023-07-30T19:13:28.180Z"
   },
   {
    "duration": 6862,
    "start_time": "2023-07-30T19:13:38.868Z"
   },
   {
    "duration": 554338,
    "start_time": "2023-07-30T19:13:48.860Z"
   },
   {
    "duration": 17,
    "start_time": "2023-07-30T19:23:03.199Z"
   },
   {
    "duration": 85,
    "start_time": "2023-07-30T19:23:17.263Z"
   },
   {
    "duration": 11,
    "start_time": "2023-07-30T19:23:27.701Z"
   },
   {
    "duration": 52,
    "start_time": "2023-07-30T19:23:30.262Z"
   },
   {
    "duration": 26,
    "start_time": "2023-07-30T19:23:32.351Z"
   },
   {
    "duration": 6583,
    "start_time": "2023-07-30T19:23:32.757Z"
   },
   {
    "duration": 46,
    "start_time": "2023-07-30T19:23:40.137Z"
   },
   {
    "duration": 1632,
    "start_time": "2023-07-30T19:24:24.669Z"
   },
   {
    "duration": 882,
    "start_time": "2023-07-30T19:24:26.303Z"
   },
   {
    "duration": 16,
    "start_time": "2023-07-30T19:24:27.187Z"
   },
   {
    "duration": 32,
    "start_time": "2023-07-30T19:24:29.604Z"
   },
   {
    "duration": 255,
    "start_time": "2023-07-30T19:24:29.985Z"
   },
   {
    "duration": 16,
    "start_time": "2023-07-30T19:24:30.309Z"
   },
   {
    "duration": 8,
    "start_time": "2023-07-30T19:24:30.701Z"
   },
   {
    "duration": 339,
    "start_time": "2023-07-30T19:24:31.166Z"
   },
   {
    "duration": 3,
    "start_time": "2023-07-30T19:24:32.077Z"
   },
   {
    "duration": 4,
    "start_time": "2023-07-30T19:24:32.677Z"
   },
   {
    "duration": 3,
    "start_time": "2023-07-30T19:24:33.344Z"
   },
   {
    "duration": 1062964,
    "start_time": "2023-07-30T19:24:33.957Z"
   },
   {
    "duration": 8,
    "start_time": "2023-07-30T19:42:16.923Z"
   },
   {
    "duration": 33,
    "start_time": "2023-07-30T19:42:16.932Z"
   },
   {
    "duration": 6096,
    "start_time": "2023-07-30T19:42:16.967Z"
   },
   {
    "duration": 63,
    "start_time": "2023-07-30T19:42:23.064Z"
   },
   {
    "duration": 0,
    "start_time": "2023-07-30T19:42:23.128Z"
   },
   {
    "duration": 0,
    "start_time": "2023-07-30T19:42:23.129Z"
   },
   {
    "duration": 0,
    "start_time": "2023-07-30T19:42:23.130Z"
   },
   {
    "duration": 0,
    "start_time": "2023-07-30T19:42:23.131Z"
   },
   {
    "duration": 0,
    "start_time": "2023-07-30T19:42:23.132Z"
   },
   {
    "duration": 246,
    "start_time": "2023-07-30T20:02:02.755Z"
   },
   {
    "duration": 8,
    "start_time": "2023-07-30T20:02:03.027Z"
   },
   {
    "duration": 78,
    "start_time": "2023-07-30T20:02:09.800Z"
   },
   {
    "duration": 9,
    "start_time": "2023-07-30T20:02:10.908Z"
   },
   {
    "duration": 105,
    "start_time": "2023-07-30T20:04:12.362Z"
   },
   {
    "duration": 145,
    "start_time": "2023-07-30T20:04:31.313Z"
   },
   {
    "duration": 1653133,
    "start_time": "2023-07-30T20:04:41.391Z"
   },
   {
    "duration": 4,
    "start_time": "2023-07-30T20:32:14.526Z"
   },
   {
    "duration": 1543,
    "start_time": "2023-07-30T21:42:47.366Z"
   },
   {
    "duration": 883,
    "start_time": "2023-07-30T21:42:48.911Z"
   },
   {
    "duration": 16,
    "start_time": "2023-07-30T21:42:49.795Z"
   },
   {
    "duration": 26,
    "start_time": "2023-07-30T21:42:49.812Z"
   },
   {
    "duration": 264,
    "start_time": "2023-07-30T21:42:49.840Z"
   },
   {
    "duration": 12,
    "start_time": "2023-07-30T21:42:50.106Z"
   },
   {
    "duration": 12,
    "start_time": "2023-07-30T21:42:50.120Z"
   },
   {
    "duration": 318,
    "start_time": "2023-07-30T21:42:50.134Z"
   },
   {
    "duration": 3,
    "start_time": "2023-07-30T21:42:50.454Z"
   },
   {
    "duration": 14,
    "start_time": "2023-07-30T21:42:50.459Z"
   },
   {
    "duration": 5,
    "start_time": "2023-07-30T21:42:50.475Z"
   },
   {
    "duration": 492,
    "start_time": "2023-07-30T21:42:50.482Z"
   },
   {
    "duration": 0,
    "start_time": "2023-07-30T21:42:50.976Z"
   },
   {
    "duration": 0,
    "start_time": "2023-07-30T21:42:50.977Z"
   },
   {
    "duration": 12,
    "start_time": "2023-07-30T21:42:50.985Z"
   },
   {
    "duration": 1511,
    "start_time": "2023-07-30T21:44:13.790Z"
   },
   {
    "duration": 838,
    "start_time": "2023-07-30T21:44:15.303Z"
   },
   {
    "duration": 12,
    "start_time": "2023-07-30T21:44:16.143Z"
   },
   {
    "duration": 20,
    "start_time": "2023-07-30T21:44:16.157Z"
   },
   {
    "duration": 241,
    "start_time": "2023-07-30T21:44:16.178Z"
   },
   {
    "duration": 12,
    "start_time": "2023-07-30T21:44:16.633Z"
   },
   {
    "duration": 207,
    "start_time": "2023-07-30T21:44:17.144Z"
   },
   {
    "duration": 5,
    "start_time": "2023-07-30T21:44:17.600Z"
   },
   {
    "duration": 295,
    "start_time": "2023-07-30T21:44:18.238Z"
   },
   {
    "duration": 2,
    "start_time": "2023-07-30T21:44:19.087Z"
   },
   {
    "duration": 3,
    "start_time": "2023-07-30T21:44:19.437Z"
   },
   {
    "duration": 3,
    "start_time": "2023-07-30T21:44:19.869Z"
   },
   {
    "duration": 991873,
    "start_time": "2023-07-30T21:44:20.364Z"
   },
   {
    "duration": 7,
    "start_time": "2023-07-30T22:00:52.239Z"
   },
   {
    "duration": 37,
    "start_time": "2023-07-30T22:00:52.247Z"
   },
   {
    "duration": 5725,
    "start_time": "2023-07-30T22:00:52.285Z"
   },
   {
    "duration": 436600,
    "start_time": "2023-07-30T22:00:58.012Z"
   },
   {
    "duration": 87,
    "start_time": "2023-07-30T22:08:14.614Z"
   },
   {
    "duration": 2910217,
    "start_time": "2023-07-30T22:08:14.703Z"
   },
   {
    "duration": 3,
    "start_time": "2023-07-30T22:56:44.922Z"
   },
   {
    "duration": 3283,
    "start_time": "2023-07-31T06:12:11.509Z"
   },
   {
    "duration": 3992,
    "start_time": "2023-07-31T06:12:15.739Z"
   },
   {
    "duration": 19,
    "start_time": "2023-07-31T06:12:19.733Z"
   },
   {
    "duration": 60,
    "start_time": "2023-07-31T06:12:19.754Z"
   },
   {
    "duration": 262,
    "start_time": "2023-07-31T06:12:19.817Z"
   },
   {
    "duration": 17,
    "start_time": "2023-07-31T06:12:20.081Z"
   },
   {
    "duration": 344,
    "start_time": "2023-07-31T06:12:20.100Z"
   },
   {
    "duration": 6,
    "start_time": "2023-07-31T06:12:20.446Z"
   },
   {
    "duration": 627,
    "start_time": "2023-07-31T06:12:20.462Z"
   },
   {
    "duration": 4,
    "start_time": "2023-07-31T06:12:21.091Z"
   },
   {
    "duration": 12,
    "start_time": "2023-07-31T06:12:21.098Z"
   },
   {
    "duration": 8,
    "start_time": "2023-07-31T06:12:21.112Z"
   },
   {
    "duration": 1130670,
    "start_time": "2023-07-31T06:12:21.122Z"
   },
   {
    "duration": 9,
    "start_time": "2023-07-31T06:31:11.794Z"
   },
   {
    "duration": 58,
    "start_time": "2023-07-31T06:31:11.805Z"
   },
   {
    "duration": 7052,
    "start_time": "2023-07-31T06:31:11.870Z"
   },
   {
    "duration": 292939,
    "start_time": "2023-07-31T06:31:18.924Z"
   },
   {
    "duration": 5,
    "start_time": "2023-07-31T06:36:11.869Z"
   },
   {
    "duration": 3435423,
    "start_time": "2023-07-31T06:36:11.876Z"
   },
   {
    "duration": 3,
    "start_time": "2023-07-31T07:33:27.301Z"
   },
   {
    "duration": 444793,
    "start_time": "2023-07-31T07:33:27.306Z"
   },
   {
    "duration": 4,
    "start_time": "2023-07-31T07:40:52.100Z"
   },
   {
    "duration": 8,
    "start_time": "2023-07-31T07:40:52.106Z"
   },
   {
    "duration": 132,
    "start_time": "2023-07-31T07:40:52.115Z"
   },
   {
    "duration": 369846,
    "start_time": "2023-07-31T07:52:11.517Z"
   },
   {
    "duration": 93,
    "start_time": "2023-07-31T07:58:21.365Z"
   },
   {
    "duration": 1554129,
    "start_time": "2023-07-31T07:58:21.460Z"
   },
   {
    "duration": 4,
    "start_time": "2023-07-31T08:24:15.591Z"
   },
   {
    "duration": 1026306,
    "start_time": "2023-07-31T08:24:15.597Z"
   },
   {
    "duration": 3,
    "start_time": "2023-07-31T08:41:21.905Z"
   },
   {
    "duration": 6,
    "start_time": "2023-07-31T08:41:21.909Z"
   },
   {
    "duration": 876,
    "start_time": "2023-07-31T08:41:21.917Z"
   },
   {
    "duration": 48,
    "start_time": "2023-07-31T09:34:14.830Z"
   },
   {
    "duration": 4,
    "start_time": "2023-07-31T09:34:15.256Z"
   },
   {
    "duration": 2704,
    "start_time": "2023-07-31T11:31:27.216Z"
   },
   {
    "duration": 3417,
    "start_time": "2023-07-31T11:31:31.246Z"
   },
   {
    "duration": 13,
    "start_time": "2023-07-31T11:31:34.665Z"
   },
   {
    "duration": 49,
    "start_time": "2023-07-31T11:31:34.680Z"
   },
   {
    "duration": 229,
    "start_time": "2023-07-31T11:31:34.731Z"
   },
   {
    "duration": 14,
    "start_time": "2023-07-31T11:31:34.961Z"
   },
   {
    "duration": 268,
    "start_time": "2023-07-31T11:31:34.977Z"
   },
   {
    "duration": 6,
    "start_time": "2023-07-31T11:31:35.247Z"
   },
   {
    "duration": 563,
    "start_time": "2023-07-31T11:31:35.254Z"
   },
   {
    "duration": 3,
    "start_time": "2023-07-31T11:31:35.818Z"
   },
   {
    "duration": 27,
    "start_time": "2023-07-31T11:31:35.823Z"
   },
   {
    "duration": 19,
    "start_time": "2023-07-31T11:31:35.851Z"
   },
   {
    "duration": 1101163,
    "start_time": "2023-07-31T11:31:35.872Z"
   },
   {
    "duration": 8,
    "start_time": "2023-07-31T11:49:57.037Z"
   },
   {
    "duration": 51,
    "start_time": "2023-07-31T11:49:57.046Z"
   },
   {
    "duration": 7258,
    "start_time": "2023-07-31T11:49:57.099Z"
   },
   {
    "duration": 2004929,
    "start_time": "2023-07-31T11:50:04.360Z"
   },
   {
    "duration": 13,
    "start_time": "2023-07-31T12:23:29.373Z"
   },
   {
    "duration": 2295,
    "start_time": "2023-07-31T16:38:50.444Z"
   },
   {
    "duration": 2463,
    "start_time": "2023-07-31T16:38:53.512Z"
   },
   {
    "duration": 14,
    "start_time": "2023-07-31T16:38:55.976Z"
   },
   {
    "duration": 29,
    "start_time": "2023-07-31T16:38:55.991Z"
   },
   {
    "duration": 227,
    "start_time": "2023-07-31T16:38:56.022Z"
   },
   {
    "duration": 16,
    "start_time": "2023-07-31T16:38:56.251Z"
   },
   {
    "duration": 215,
    "start_time": "2023-07-31T16:38:56.269Z"
   },
   {
    "duration": 4,
    "start_time": "2023-07-31T16:38:56.486Z"
   },
   {
    "duration": 475,
    "start_time": "2023-07-31T16:38:56.491Z"
   },
   {
    "duration": 3,
    "start_time": "2023-07-31T16:38:56.967Z"
   },
   {
    "duration": 6,
    "start_time": "2023-07-31T16:38:56.973Z"
   },
   {
    "duration": 14,
    "start_time": "2023-07-31T16:38:56.980Z"
   },
   {
    "duration": 1062384,
    "start_time": "2023-07-31T16:38:56.996Z"
   },
   {
    "duration": 10,
    "start_time": "2023-07-31T16:56:39.383Z"
   },
   {
    "duration": 45,
    "start_time": "2023-07-31T16:56:39.394Z"
   },
   {
    "duration": 6329,
    "start_time": "2023-07-31T16:56:39.440Z"
   },
   {
    "duration": 588051,
    "start_time": "2023-07-31T16:56:45.770Z"
   },
   {
    "duration": 4,
    "start_time": "2023-07-31T17:06:33.823Z"
   },
   {
    "duration": 2140,
    "start_time": "2023-07-31T18:49:19.243Z"
   },
   {
    "duration": 2306,
    "start_time": "2023-07-31T18:49:21.385Z"
   },
   {
    "duration": 16,
    "start_time": "2023-07-31T18:49:23.693Z"
   },
   {
    "duration": 34,
    "start_time": "2023-07-31T18:49:23.712Z"
   },
   {
    "duration": 242,
    "start_time": "2023-07-31T18:49:23.747Z"
   },
   {
    "duration": 13,
    "start_time": "2023-07-31T18:49:23.990Z"
   },
   {
    "duration": 236,
    "start_time": "2023-07-31T18:49:24.004Z"
   },
   {
    "duration": 6,
    "start_time": "2023-07-31T18:49:24.241Z"
   },
   {
    "duration": 318,
    "start_time": "2023-07-31T18:49:24.248Z"
   },
   {
    "duration": 2,
    "start_time": "2023-07-31T18:49:24.569Z"
   },
   {
    "duration": 7,
    "start_time": "2023-07-31T18:49:24.572Z"
   },
   {
    "duration": 8,
    "start_time": "2023-07-31T18:49:24.580Z"
   },
   {
    "duration": 1078557,
    "start_time": "2023-07-31T18:49:24.589Z"
   },
   {
    "duration": 7,
    "start_time": "2023-07-31T19:07:23.148Z"
   },
   {
    "duration": 32,
    "start_time": "2023-07-31T19:07:23.157Z"
   },
   {
    "duration": 7000,
    "start_time": "2023-07-31T19:07:23.190Z"
   },
   {
    "duration": 592553,
    "start_time": "2023-07-31T19:07:30.191Z"
   },
   {
    "duration": 6,
    "start_time": "2023-07-31T19:17:22.827Z"
   },
   {
    "duration": 1370538,
    "start_time": "2023-07-31T19:17:22.839Z"
   },
   {
    "duration": 69,
    "start_time": "2023-07-31T19:40:13.378Z"
   },
   {
    "duration": 0,
    "start_time": "2023-07-31T19:40:13.448Z"
   },
   {
    "duration": 0,
    "start_time": "2023-07-31T19:40:13.450Z"
   },
   {
    "duration": 0,
    "start_time": "2023-07-31T19:40:13.450Z"
   },
   {
    "duration": 0,
    "start_time": "2023-07-31T19:40:13.451Z"
   },
   {
    "duration": 375763,
    "start_time": "2023-07-31T19:40:18.507Z"
   },
   {
    "duration": 3,
    "start_time": "2023-07-31T19:46:34.272Z"
   },
   {
    "duration": 1637755,
    "start_time": "2023-07-31T19:47:49.351Z"
   },
   {
    "duration": 9,
    "start_time": "2023-07-31T20:15:07.108Z"
   },
   {
    "duration": 458889,
    "start_time": "2023-07-31T20:15:16.511Z"
   },
   {
    "duration": 3,
    "start_time": "2023-07-31T20:22:55.401Z"
   },
   {
    "duration": 682436,
    "start_time": "2023-07-31T20:29:31.750Z"
   },
   {
    "duration": 3,
    "start_time": "2023-07-31T20:40:54.188Z"
   },
   {
    "duration": 26,
    "start_time": "2023-07-31T20:49:05.915Z"
   },
   {
    "duration": 852824,
    "start_time": "2023-07-31T20:49:28.735Z"
   },
   {
    "duration": 2,
    "start_time": "2023-07-31T21:03:41.561Z"
   },
   {
    "duration": 961419,
    "start_time": "2023-07-31T21:10:45.804Z"
   },
   {
    "duration": 3,
    "start_time": "2023-07-31T21:26:47.225Z"
   },
   {
    "duration": 2564,
    "start_time": "2023-08-01T16:59:47.691Z"
   },
   {
    "duration": 2439,
    "start_time": "2023-08-01T16:59:51.339Z"
   },
   {
    "duration": 10,
    "start_time": "2023-08-01T16:59:53.780Z"
   },
   {
    "duration": 46,
    "start_time": "2023-08-01T16:59:53.792Z"
   },
   {
    "duration": 290,
    "start_time": "2023-08-01T16:59:53.840Z"
   },
   {
    "duration": 18,
    "start_time": "2023-08-01T16:59:54.132Z"
   },
   {
    "duration": 287,
    "start_time": "2023-08-01T16:59:55.735Z"
   },
   {
    "duration": 6,
    "start_time": "2023-08-01T16:59:56.087Z"
   },
   {
    "duration": 155,
    "start_time": "2023-08-01T17:00:04.818Z"
   },
   {
    "duration": 1968,
    "start_time": "2023-08-01T17:05:13.311Z"
   },
   {
    "duration": 2446,
    "start_time": "2023-08-01T17:05:21.835Z"
   },
   {
    "duration": 13,
    "start_time": "2023-08-01T17:05:24.283Z"
   },
   {
    "duration": 36,
    "start_time": "2023-08-01T17:05:24.298Z"
   },
   {
    "duration": 251,
    "start_time": "2023-08-01T17:05:24.337Z"
   },
   {
    "duration": 16,
    "start_time": "2023-08-01T17:05:24.590Z"
   },
   {
    "duration": 281,
    "start_time": "2023-08-01T17:05:26.444Z"
   },
   {
    "duration": 6,
    "start_time": "2023-08-01T17:05:26.770Z"
   },
   {
    "duration": 2024,
    "start_time": "2023-08-01T17:09:45.154Z"
   },
   {
    "duration": 2475,
    "start_time": "2023-08-01T17:09:47.181Z"
   },
   {
    "duration": 10,
    "start_time": "2023-08-01T17:09:49.658Z"
   },
   {
    "duration": 31,
    "start_time": "2023-08-01T17:09:49.670Z"
   },
   {
    "duration": 244,
    "start_time": "2023-08-01T17:09:49.703Z"
   },
   {
    "duration": 15,
    "start_time": "2023-08-01T17:09:49.949Z"
   },
   {
    "duration": 309,
    "start_time": "2023-08-01T17:09:49.966Z"
   },
   {
    "duration": 11,
    "start_time": "2023-08-01T17:09:50.277Z"
   },
   {
    "duration": 1777,
    "start_time": "2023-08-01T18:21:58.149Z"
   },
   {
    "duration": 2452,
    "start_time": "2023-08-01T18:22:01.084Z"
   },
   {
    "duration": 10,
    "start_time": "2023-08-01T18:22:03.538Z"
   },
   {
    "duration": 52,
    "start_time": "2023-08-01T18:22:03.550Z"
   },
   {
    "duration": 231,
    "start_time": "2023-08-01T18:22:03.605Z"
   },
   {
    "duration": 19,
    "start_time": "2023-08-01T18:22:03.838Z"
   },
   {
    "duration": 300,
    "start_time": "2023-08-01T18:22:03.859Z"
   },
   {
    "duration": 6,
    "start_time": "2023-08-01T18:22:04.406Z"
   },
   {
    "duration": 119,
    "start_time": "2023-08-01T18:22:05.397Z"
   },
   {
    "duration": 4,
    "start_time": "2023-08-01T18:22:33.548Z"
   },
   {
    "duration": 4,
    "start_time": "2023-08-01T18:22:33.902Z"
   },
   {
    "duration": 4,
    "start_time": "2023-08-01T18:22:34.516Z"
   },
   {
    "duration": 1135386,
    "start_time": "2023-08-01T18:22:35.180Z"
   },
   {
    "duration": 20,
    "start_time": "2023-08-01T18:41:30.568Z"
   },
   {
    "duration": 8,
    "start_time": "2023-08-01T18:41:56.180Z"
   },
   {
    "duration": 36,
    "start_time": "2023-08-01T18:42:00.631Z"
   },
   {
    "duration": 210,
    "start_time": "2023-08-01T18:42:11.148Z"
   },
   {
    "duration": 6,
    "start_time": "2023-08-01T18:42:18.260Z"
   },
   {
    "duration": 138,
    "start_time": "2023-08-01T18:42:40.463Z"
   },
   {
    "duration": 383746,
    "start_time": "2023-08-01T18:43:23.342Z"
   },
   {
    "duration": 10,
    "start_time": "2023-08-01T18:51:43.082Z"
   },
   {
    "duration": 707,
    "start_time": "2023-08-01T18:52:13.764Z"
   },
   {
    "duration": 357845,
    "start_time": "2023-08-01T18:52:37.397Z"
   },
   {
    "duration": 1066051,
    "start_time": "2023-08-01T19:01:37.238Z"
   },
   {
    "duration": 35,
    "start_time": "2023-08-01T19:21:30.983Z"
   },
   {
    "duration": 6941,
    "start_time": "2023-08-01T19:21:32.238Z"
   },
   {
    "duration": 882489,
    "start_time": "2023-08-01T19:21:55.300Z"
   },
   {
    "duration": 3,
    "start_time": "2023-08-01T19:36:37.792Z"
   },
   {
    "duration": 1069192,
    "start_time": "2023-08-01T19:36:37.797Z"
   },
   {
    "duration": 503529,
    "start_time": "2023-08-01T19:54:26.991Z"
   },
   {
    "duration": 3,
    "start_time": "2023-08-01T20:02:50.522Z"
   },
   {
    "duration": 1966715,
    "start_time": "2023-08-01T20:02:50.527Z"
   },
   {
    "duration": 11,
    "start_time": "2023-08-01T20:35:37.244Z"
   },
   {
    "duration": 725,
    "start_time": "2023-08-01T20:35:37.256Z"
   }
  ],
  "kernelspec": {
   "display_name": "Python 3 (ipykernel)",
   "language": "python",
   "name": "python3"
  },
  "language_info": {
   "codemirror_mode": {
    "name": "ipython",
    "version": 3
   },
   "file_extension": ".py",
   "mimetype": "text/x-python",
   "name": "python",
   "nbconvert_exporter": "python",
   "pygments_lexer": "ipython3",
   "version": "3.9.16"
  },
  "toc": {
   "base_numbering": 1,
   "nav_menu": {
    "height": "152px",
    "width": "199px"
   },
   "number_sections": true,
   "sideBar": true,
   "skip_h1_title": true,
   "title_cell": "Содержание",
   "title_sidebar": "Contents",
   "toc_cell": true,
   "toc_position": {
    "height": "calc(100% - 180px)",
    "left": "10px",
    "top": "150px",
    "width": "302.391px"
   },
   "toc_section_display": true,
   "toc_window_display": true
  }
 },
 "nbformat": 4,
 "nbformat_minor": 4
}
