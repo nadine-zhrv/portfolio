{
 "cells": [
  {
   "cell_type": "markdown",
   "metadata": {},
   "source": [
    "# Восстановление золота из руды\n",
    "\n",
    "**Задача:** Исследоваьт процесс очистки золота и обучить модель предсказывать коэффициент восстановления золота из золотосодержащей руды.\n",
    "\n",
    "Метрика sMAPE\n",
    "\n",
    "**План проекта:**\n",
    "\n",
    "1. Подготовка данных\n",
    "    - Общая информация\n",
    "    - Эффективность обогащения\n",
    "    - Признаки\n",
    "    - Предобработка данных\n",
    "2. Анализ данных\n",
    "    - Изменение концентрации металлов\n",
    "    - Размеры гранул\n",
    "    - Суммарная концентрация металлов\n",
    "3. Обучение модели\n",
    "    - Признаки для обучения моделей\n",
    "    - Обучение — Rougher\n",
    "    - Обучение — Final\n",
    "    - Проверка лучшей модели"
   ]
  },
  {
   "cell_type": "markdown",
   "metadata": {},
   "source": [
    "**Наименование признаков**\n",
    "\n",
    "Наименование признаков должно быть такое:\n",
    "[этап].[тип_параметра].[название_параметра]\n",
    "Пример: rougher.input.feed_ag\n",
    "\n",
    "Возможные значения для блока [этап]:\n",
    "- rougher — флотация\n",
    "- primary_cleaner — первичная очистка\n",
    "- secondary_cleaner — вторичная очистка\n",
    "- final — финальные характеристики\n",
    "\n",
    "Возможные значения для блока [тип_параметра]:\n",
    "- input — параметры сырья\n",
    "- output — параметры продукта\n",
    "- state — параметры, характеризующие текущее состояние этапа\n",
    "- calculation — расчётные характеристики"
   ]
  },
  {
   "cell_type": "markdown",
   "metadata": {},
   "source": [
    "## Подготовка данных"
   ]
  },
  {
   "cell_type": "code",
   "execution_count": 1,
   "metadata": {},
   "outputs": [],
   "source": [
    "# импорт библиотек\n",
    "import pandas as pd\n",
    "import numpy as np\n",
    "import matplotlib.pyplot as plt\n",
    "import seaborn as sns\n",
    "from scipy import stats as st\n",
    "from sklearn.tree import DecisionTreeRegressor\n",
    "from sklearn.ensemble import RandomForestRegressor\n",
    "from sklearn.linear_model import LinearRegression\n",
    "from sklearn.model_selection import cross_val_score, GridSearchCV\n",
    "from sklearn.metrics import mean_absolute_error, make_scorer\n",
    "from sklearn.preprocessing import MinMaxScaler\n",
    "from sklearn.dummy import DummyRegressor"
   ]
  },
  {
   "cell_type": "markdown",
   "metadata": {},
   "source": [
    "### Общая информация"
   ]
  },
  {
   "cell_type": "code",
   "execution_count": 2,
   "metadata": {},
   "outputs": [
    {
     "data": {
      "text/html": [
       "<div>\n",
       "<style scoped>\n",
       "    .dataframe tbody tr th:only-of-type {\n",
       "        vertical-align: middle;\n",
       "    }\n",
       "\n",
       "    .dataframe tbody tr th {\n",
       "        vertical-align: top;\n",
       "    }\n",
       "\n",
       "    .dataframe thead th {\n",
       "        text-align: right;\n",
       "    }\n",
       "</style>\n",
       "<table border=\"1\" class=\"dataframe\">\n",
       "  <thead>\n",
       "    <tr style=\"text-align: right;\">\n",
       "      <th></th>\n",
       "      <th>rougher.input.feed_au</th>\n",
       "      <th>rougher.input.feed_ag</th>\n",
       "      <th>rougher.input.feed_pb</th>\n",
       "      <th>rougher.input.feed_sol</th>\n",
       "      <th>rougher.input.feed_rate</th>\n",
       "      <th>rougher.input.feed_size</th>\n",
       "      <th>rougher.input.floatbank10_sulfate</th>\n",
       "      <th>rougher.input.floatbank10_xanthate</th>\n",
       "      <th>rougher.state.floatbank10_a_air</th>\n",
       "      <th>rougher.state.floatbank10_a_level</th>\n",
       "      <th>...</th>\n",
       "      <th>secondary_cleaner.output.tail_sol</th>\n",
       "      <th>final.output.concentrate_au</th>\n",
       "      <th>final.output.concentrate_ag</th>\n",
       "      <th>final.output.concentrate_pb</th>\n",
       "      <th>final.output.concentrate_sol</th>\n",
       "      <th>final.output.recovery</th>\n",
       "      <th>final.output.tail_au</th>\n",
       "      <th>final.output.tail_ag</th>\n",
       "      <th>final.output.tail_pb</th>\n",
       "      <th>final.output.tail_sol</th>\n",
       "    </tr>\n",
       "    <tr>\n",
       "      <th>date</th>\n",
       "      <th></th>\n",
       "      <th></th>\n",
       "      <th></th>\n",
       "      <th></th>\n",
       "      <th></th>\n",
       "      <th></th>\n",
       "      <th></th>\n",
       "      <th></th>\n",
       "      <th></th>\n",
       "      <th></th>\n",
       "      <th></th>\n",
       "      <th></th>\n",
       "      <th></th>\n",
       "      <th></th>\n",
       "      <th></th>\n",
       "      <th></th>\n",
       "      <th></th>\n",
       "      <th></th>\n",
       "      <th></th>\n",
       "      <th></th>\n",
       "      <th></th>\n",
       "    </tr>\n",
       "  </thead>\n",
       "  <tbody>\n",
       "    <tr>\n",
       "      <th>2016-01-15 00:00:00</th>\n",
       "      <td>6.486150</td>\n",
       "      <td>6.100378</td>\n",
       "      <td>2.284912</td>\n",
       "      <td>36.808594</td>\n",
       "      <td>523.546326</td>\n",
       "      <td>55.486599</td>\n",
       "      <td>11.986616</td>\n",
       "      <td>6.007990</td>\n",
       "      <td>999.706909</td>\n",
       "      <td>-404.066986</td>\n",
       "      <td>...</td>\n",
       "      <td>8.764648</td>\n",
       "      <td>42.192020</td>\n",
       "      <td>6.055403</td>\n",
       "      <td>9.889648</td>\n",
       "      <td>5.507324</td>\n",
       "      <td>70.541216</td>\n",
       "      <td>2.143149</td>\n",
       "      <td>10.411962</td>\n",
       "      <td>0.895447</td>\n",
       "      <td>16.904297</td>\n",
       "    </tr>\n",
       "    <tr>\n",
       "      <th>2016-01-15 01:00:00</th>\n",
       "      <td>6.478583</td>\n",
       "      <td>6.161113</td>\n",
       "      <td>2.266033</td>\n",
       "      <td>35.753385</td>\n",
       "      <td>525.290581</td>\n",
       "      <td>57.278666</td>\n",
       "      <td>11.971193</td>\n",
       "      <td>6.005766</td>\n",
       "      <td>1000.286398</td>\n",
       "      <td>-400.065196</td>\n",
       "      <td>...</td>\n",
       "      <td>9.001494</td>\n",
       "      <td>42.701629</td>\n",
       "      <td>6.029369</td>\n",
       "      <td>9.968944</td>\n",
       "      <td>5.257781</td>\n",
       "      <td>69.266198</td>\n",
       "      <td>2.224930</td>\n",
       "      <td>10.462676</td>\n",
       "      <td>0.927452</td>\n",
       "      <td>16.634514</td>\n",
       "    </tr>\n",
       "    <tr>\n",
       "      <th>2016-01-15 02:00:00</th>\n",
       "      <td>6.362222</td>\n",
       "      <td>6.116455</td>\n",
       "      <td>2.159622</td>\n",
       "      <td>35.971630</td>\n",
       "      <td>530.026610</td>\n",
       "      <td>57.510649</td>\n",
       "      <td>11.920603</td>\n",
       "      <td>6.197377</td>\n",
       "      <td>999.719565</td>\n",
       "      <td>-400.074028</td>\n",
       "      <td>...</td>\n",
       "      <td>8.842896</td>\n",
       "      <td>42.657501</td>\n",
       "      <td>6.055926</td>\n",
       "      <td>10.213995</td>\n",
       "      <td>5.383759</td>\n",
       "      <td>68.116445</td>\n",
       "      <td>2.257889</td>\n",
       "      <td>10.507046</td>\n",
       "      <td>0.953716</td>\n",
       "      <td>16.208849</td>\n",
       "    </tr>\n",
       "    <tr>\n",
       "      <th>2016-01-15 03:00:00</th>\n",
       "      <td>6.118189</td>\n",
       "      <td>6.043309</td>\n",
       "      <td>2.037807</td>\n",
       "      <td>36.862241</td>\n",
       "      <td>542.590390</td>\n",
       "      <td>57.792734</td>\n",
       "      <td>11.630094</td>\n",
       "      <td>6.203177</td>\n",
       "      <td>999.814770</td>\n",
       "      <td>-400.200179</td>\n",
       "      <td>...</td>\n",
       "      <td>9.122857</td>\n",
       "      <td>42.689819</td>\n",
       "      <td>6.047977</td>\n",
       "      <td>9.977019</td>\n",
       "      <td>4.858634</td>\n",
       "      <td>68.347543</td>\n",
       "      <td>2.146849</td>\n",
       "      <td>10.422762</td>\n",
       "      <td>0.883763</td>\n",
       "      <td>16.532835</td>\n",
       "    </tr>\n",
       "    <tr>\n",
       "      <th>2016-01-15 04:00:00</th>\n",
       "      <td>5.663707</td>\n",
       "      <td>6.060915</td>\n",
       "      <td>1.786875</td>\n",
       "      <td>34.347666</td>\n",
       "      <td>540.531893</td>\n",
       "      <td>56.047189</td>\n",
       "      <td>10.957755</td>\n",
       "      <td>6.198826</td>\n",
       "      <td>999.678690</td>\n",
       "      <td>-399.752729</td>\n",
       "      <td>...</td>\n",
       "      <td>8.871028</td>\n",
       "      <td>42.774141</td>\n",
       "      <td>6.148599</td>\n",
       "      <td>10.142511</td>\n",
       "      <td>4.939416</td>\n",
       "      <td>66.927016</td>\n",
       "      <td>2.055292</td>\n",
       "      <td>10.360302</td>\n",
       "      <td>0.792826</td>\n",
       "      <td>16.525686</td>\n",
       "    </tr>\n",
       "  </tbody>\n",
       "</table>\n",
       "<p>5 rows × 86 columns</p>\n",
       "</div>"
      ],
      "text/plain": [
       "                     rougher.input.feed_au  rougher.input.feed_ag  \\\n",
       "date                                                                \n",
       "2016-01-15 00:00:00               6.486150               6.100378   \n",
       "2016-01-15 01:00:00               6.478583               6.161113   \n",
       "2016-01-15 02:00:00               6.362222               6.116455   \n",
       "2016-01-15 03:00:00               6.118189               6.043309   \n",
       "2016-01-15 04:00:00               5.663707               6.060915   \n",
       "\n",
       "                     rougher.input.feed_pb  rougher.input.feed_sol  \\\n",
       "date                                                                 \n",
       "2016-01-15 00:00:00               2.284912               36.808594   \n",
       "2016-01-15 01:00:00               2.266033               35.753385   \n",
       "2016-01-15 02:00:00               2.159622               35.971630   \n",
       "2016-01-15 03:00:00               2.037807               36.862241   \n",
       "2016-01-15 04:00:00               1.786875               34.347666   \n",
       "\n",
       "                     rougher.input.feed_rate  rougher.input.feed_size  \\\n",
       "date                                                                    \n",
       "2016-01-15 00:00:00               523.546326                55.486599   \n",
       "2016-01-15 01:00:00               525.290581                57.278666   \n",
       "2016-01-15 02:00:00               530.026610                57.510649   \n",
       "2016-01-15 03:00:00               542.590390                57.792734   \n",
       "2016-01-15 04:00:00               540.531893                56.047189   \n",
       "\n",
       "                     rougher.input.floatbank10_sulfate  \\\n",
       "date                                                     \n",
       "2016-01-15 00:00:00                          11.986616   \n",
       "2016-01-15 01:00:00                          11.971193   \n",
       "2016-01-15 02:00:00                          11.920603   \n",
       "2016-01-15 03:00:00                          11.630094   \n",
       "2016-01-15 04:00:00                          10.957755   \n",
       "\n",
       "                     rougher.input.floatbank10_xanthate  \\\n",
       "date                                                      \n",
       "2016-01-15 00:00:00                            6.007990   \n",
       "2016-01-15 01:00:00                            6.005766   \n",
       "2016-01-15 02:00:00                            6.197377   \n",
       "2016-01-15 03:00:00                            6.203177   \n",
       "2016-01-15 04:00:00                            6.198826   \n",
       "\n",
       "                     rougher.state.floatbank10_a_air  \\\n",
       "date                                                   \n",
       "2016-01-15 00:00:00                       999.706909   \n",
       "2016-01-15 01:00:00                      1000.286398   \n",
       "2016-01-15 02:00:00                       999.719565   \n",
       "2016-01-15 03:00:00                       999.814770   \n",
       "2016-01-15 04:00:00                       999.678690   \n",
       "\n",
       "                     rougher.state.floatbank10_a_level  ...  \\\n",
       "date                                                    ...   \n",
       "2016-01-15 00:00:00                        -404.066986  ...   \n",
       "2016-01-15 01:00:00                        -400.065196  ...   \n",
       "2016-01-15 02:00:00                        -400.074028  ...   \n",
       "2016-01-15 03:00:00                        -400.200179  ...   \n",
       "2016-01-15 04:00:00                        -399.752729  ...   \n",
       "\n",
       "                     secondary_cleaner.output.tail_sol  \\\n",
       "date                                                     \n",
       "2016-01-15 00:00:00                           8.764648   \n",
       "2016-01-15 01:00:00                           9.001494   \n",
       "2016-01-15 02:00:00                           8.842896   \n",
       "2016-01-15 03:00:00                           9.122857   \n",
       "2016-01-15 04:00:00                           8.871028   \n",
       "\n",
       "                     final.output.concentrate_au  final.output.concentrate_ag  \\\n",
       "date                                                                            \n",
       "2016-01-15 00:00:00                    42.192020                     6.055403   \n",
       "2016-01-15 01:00:00                    42.701629                     6.029369   \n",
       "2016-01-15 02:00:00                    42.657501                     6.055926   \n",
       "2016-01-15 03:00:00                    42.689819                     6.047977   \n",
       "2016-01-15 04:00:00                    42.774141                     6.148599   \n",
       "\n",
       "                     final.output.concentrate_pb  \\\n",
       "date                                               \n",
       "2016-01-15 00:00:00                     9.889648   \n",
       "2016-01-15 01:00:00                     9.968944   \n",
       "2016-01-15 02:00:00                    10.213995   \n",
       "2016-01-15 03:00:00                     9.977019   \n",
       "2016-01-15 04:00:00                    10.142511   \n",
       "\n",
       "                     final.output.concentrate_sol  final.output.recovery  \\\n",
       "date                                                                       \n",
       "2016-01-15 00:00:00                      5.507324              70.541216   \n",
       "2016-01-15 01:00:00                      5.257781              69.266198   \n",
       "2016-01-15 02:00:00                      5.383759              68.116445   \n",
       "2016-01-15 03:00:00                      4.858634              68.347543   \n",
       "2016-01-15 04:00:00                      4.939416              66.927016   \n",
       "\n",
       "                     final.output.tail_au  final.output.tail_ag  \\\n",
       "date                                                              \n",
       "2016-01-15 00:00:00              2.143149             10.411962   \n",
       "2016-01-15 01:00:00              2.224930             10.462676   \n",
       "2016-01-15 02:00:00              2.257889             10.507046   \n",
       "2016-01-15 03:00:00              2.146849             10.422762   \n",
       "2016-01-15 04:00:00              2.055292             10.360302   \n",
       "\n",
       "                     final.output.tail_pb  final.output.tail_sol  \n",
       "date                                                              \n",
       "2016-01-15 00:00:00              0.895447              16.904297  \n",
       "2016-01-15 01:00:00              0.927452              16.634514  \n",
       "2016-01-15 02:00:00              0.953716              16.208849  \n",
       "2016-01-15 03:00:00              0.883763              16.532835  \n",
       "2016-01-15 04:00:00              0.792826              16.525686  \n",
       "\n",
       "[5 rows x 86 columns]"
      ]
     },
     "execution_count": 2,
     "metadata": {},
     "output_type": "execute_result"
    }
   ],
   "source": [
    "# выгрузим и посмотрим файлы\n",
    "try:\n",
    "    train = pd.read_csv('/datasets/gold_industry_train.csv', index_col=['date'])\n",
    "except:\n",
    "    train = pd.read_csv('/datasets/gold_industry_train.csv', index_col=['date'])\n",
    "\n",
    "train.head()"
   ]
  },
  {
   "cell_type": "code",
   "execution_count": 3,
   "metadata": {},
   "outputs": [
    {
     "name": "stdout",
     "output_type": "stream",
     "text": [
      "<class 'pandas.core.frame.DataFrame'>\n",
      "Index: 14579 entries, 2016-01-15 00:00:00 to 2017-12-09 13:59:59\n",
      "Data columns (total 86 columns):\n",
      " #   Column                                              Non-Null Count  Dtype  \n",
      "---  ------                                              --------------  -----  \n",
      " 0   rougher.input.feed_au                               14579 non-null  float64\n",
      " 1   rougher.input.feed_ag                               14579 non-null  float64\n",
      " 2   rougher.input.feed_pb                               14507 non-null  float64\n",
      " 3   rougher.input.feed_sol                              14502 non-null  float64\n",
      " 4   rougher.input.feed_rate                             14572 non-null  float64\n",
      " 5   rougher.input.feed_size                             14478 non-null  float64\n",
      " 6   rougher.input.floatbank10_sulfate                   14548 non-null  float64\n",
      " 7   rougher.input.floatbank10_xanthate                  14572 non-null  float64\n",
      " 8   rougher.state.floatbank10_a_air                     14579 non-null  float64\n",
      " 9   rougher.state.floatbank10_a_level                   14579 non-null  float64\n",
      " 10  rougher.state.floatbank10_b_air                     14579 non-null  float64\n",
      " 11  rougher.state.floatbank10_b_level                   14579 non-null  float64\n",
      " 12  rougher.state.floatbank10_c_air                     14579 non-null  float64\n",
      " 13  rougher.state.floatbank10_c_level                   14579 non-null  float64\n",
      " 14  rougher.state.floatbank10_d_air                     14579 non-null  float64\n",
      " 15  rougher.state.floatbank10_d_level                   14579 non-null  float64\n",
      " 16  rougher.state.floatbank10_e_air                     14150 non-null  float64\n",
      " 17  rougher.state.floatbank10_e_level                   14579 non-null  float64\n",
      " 18  rougher.state.floatbank10_f_air                     14579 non-null  float64\n",
      " 19  rougher.state.floatbank10_f_level                   14579 non-null  float64\n",
      " 20  rougher.input.floatbank11_sulfate                   14543 non-null  float64\n",
      " 21  rougher.input.floatbank11_xanthate                  14172 non-null  float64\n",
      " 22  rougher.calculation.sulfate_to_au_concentrate       14578 non-null  float64\n",
      " 23  rougher.calculation.floatbank10_sulfate_to_au_feed  14578 non-null  float64\n",
      " 24  rougher.calculation.floatbank11_sulfate_to_au_feed  14578 non-null  float64\n",
      " 25  rougher.calculation.au_pb_ratio                     14579 non-null  float64\n",
      " 26  rougher.output.concentrate_au                       14579 non-null  float64\n",
      " 27  rougher.output.concentrate_ag                       14579 non-null  float64\n",
      " 28  rougher.output.concentrate_pb                       14579 non-null  float64\n",
      " 29  rougher.output.concentrate_sol                      14561 non-null  float64\n",
      " 30  rougher.output.recovery                             14579 non-null  float64\n",
      " 31  rougher.output.tail_au                              14579 non-null  float64\n",
      " 32  rougher.output.tail_ag                              14578 non-null  float64\n",
      " 33  rougher.output.tail_pb                              14579 non-null  float64\n",
      " 34  rougher.output.tail_sol                             14579 non-null  float64\n",
      " 35  primary_cleaner.input.sulfate                       14556 non-null  float64\n",
      " 36  primary_cleaner.input.depressant                    14551 non-null  float64\n",
      " 37  primary_cleaner.input.feed_size                     14579 non-null  float64\n",
      " 38  primary_cleaner.input.xanthate                      14518 non-null  float64\n",
      " 39  primary_cleaner.state.floatbank8_a_air              14576 non-null  float64\n",
      " 40  primary_cleaner.state.floatbank8_a_level            14579 non-null  float64\n",
      " 41  primary_cleaner.state.floatbank8_b_air              14576 non-null  float64\n",
      " 42  primary_cleaner.state.floatbank8_b_level            14579 non-null  float64\n",
      " 43  primary_cleaner.state.floatbank8_c_air              14579 non-null  float64\n",
      " 44  primary_cleaner.state.floatbank8_c_level            14579 non-null  float64\n",
      " 45  primary_cleaner.state.floatbank8_d_air              14578 non-null  float64\n",
      " 46  primary_cleaner.state.floatbank8_d_level            14579 non-null  float64\n",
      " 47  primary_cleaner.output.concentrate_au               14579 non-null  float64\n",
      " 48  primary_cleaner.output.concentrate_ag               14579 non-null  float64\n",
      " 49  primary_cleaner.output.concentrate_pb               14491 non-null  float64\n",
      " 50  primary_cleaner.output.concentrate_sol              14314 non-null  float64\n",
      " 51  primary_cleaner.output.tail_au                      14579 non-null  float64\n",
      " 52  primary_cleaner.output.tail_ag                      14575 non-null  float64\n",
      " 53  primary_cleaner.output.tail_pb                      14573 non-null  float64\n",
      " 54  primary_cleaner.output.tail_sol                     14534 non-null  float64\n",
      " 55  secondary_cleaner.state.floatbank2_a_air            14485 non-null  float64\n",
      " 56  secondary_cleaner.state.floatbank2_a_level          14579 non-null  float64\n",
      " 57  secondary_cleaner.state.floatbank2_b_air            14557 non-null  float64\n",
      " 58  secondary_cleaner.state.floatbank2_b_level          14579 non-null  float64\n",
      " 59  secondary_cleaner.state.floatbank3_a_air            14567 non-null  float64\n",
      " 60  secondary_cleaner.state.floatbank3_a_level          14579 non-null  float64\n",
      " 61  secondary_cleaner.state.floatbank3_b_air            14579 non-null  float64\n",
      " 62  secondary_cleaner.state.floatbank3_b_level          14579 non-null  float64\n",
      " 63  secondary_cleaner.state.floatbank4_a_air            14574 non-null  float64\n",
      " 64  secondary_cleaner.state.floatbank4_a_level          14579 non-null  float64\n",
      " 65  secondary_cleaner.state.floatbank4_b_air            14579 non-null  float64\n",
      " 66  secondary_cleaner.state.floatbank4_b_level          14579 non-null  float64\n",
      " 67  secondary_cleaner.state.floatbank5_a_air            14579 non-null  float64\n",
      " 68  secondary_cleaner.state.floatbank5_a_level          14579 non-null  float64\n",
      " 69  secondary_cleaner.state.floatbank5_b_air            14579 non-null  float64\n",
      " 70  secondary_cleaner.state.floatbank5_b_level          14579 non-null  float64\n",
      " 71  secondary_cleaner.state.floatbank6_a_air            14578 non-null  float64\n",
      " 72  secondary_cleaner.state.floatbank6_a_level          14579 non-null  float64\n",
      " 73  secondary_cleaner.output.tail_au                    14579 non-null  float64\n",
      " 74  secondary_cleaner.output.tail_ag                    14578 non-null  float64\n",
      " 75  secondary_cleaner.output.tail_pb                    14575 non-null  float64\n",
      " 76  secondary_cleaner.output.tail_sol                   13659 non-null  float64\n",
      " 77  final.output.concentrate_au                         14579 non-null  float64\n",
      " 78  final.output.concentrate_ag                         14578 non-null  float64\n",
      " 79  final.output.concentrate_pb                         14578 non-null  float64\n",
      " 80  final.output.concentrate_sol                        14387 non-null  float64\n",
      " 81  final.output.recovery                               14579 non-null  float64\n",
      " 82  final.output.tail_au                                14579 non-null  float64\n",
      " 83  final.output.tail_ag                                14578 non-null  float64\n",
      " 84  final.output.tail_pb                                14504 non-null  float64\n",
      " 85  final.output.tail_sol                               14574 non-null  float64\n",
      "dtypes: float64(86)\n",
      "memory usage: 9.7+ MB\n"
     ]
    }
   ],
   "source": [
    "train.info()"
   ]
  },
  {
   "cell_type": "code",
   "execution_count": 4,
   "metadata": {},
   "outputs": [
    {
     "data": {
      "text/html": [
       "<div>\n",
       "<style scoped>\n",
       "    .dataframe tbody tr th:only-of-type {\n",
       "        vertical-align: middle;\n",
       "    }\n",
       "\n",
       "    .dataframe tbody tr th {\n",
       "        vertical-align: top;\n",
       "    }\n",
       "\n",
       "    .dataframe thead th {\n",
       "        text-align: right;\n",
       "    }\n",
       "</style>\n",
       "<table border=\"1\" class=\"dataframe\">\n",
       "  <thead>\n",
       "    <tr style=\"text-align: right;\">\n",
       "      <th></th>\n",
       "      <th>rougher.input.feed_au</th>\n",
       "      <th>rougher.input.feed_ag</th>\n",
       "      <th>rougher.input.feed_pb</th>\n",
       "      <th>rougher.input.feed_sol</th>\n",
       "      <th>rougher.input.feed_rate</th>\n",
       "      <th>rougher.input.feed_size</th>\n",
       "      <th>rougher.input.floatbank10_sulfate</th>\n",
       "      <th>rougher.input.floatbank10_xanthate</th>\n",
       "      <th>rougher.state.floatbank10_a_air</th>\n",
       "      <th>rougher.state.floatbank10_a_level</th>\n",
       "      <th>...</th>\n",
       "      <th>secondary_cleaner.output.tail_sol</th>\n",
       "      <th>final.output.concentrate_au</th>\n",
       "      <th>final.output.concentrate_ag</th>\n",
       "      <th>final.output.concentrate_pb</th>\n",
       "      <th>final.output.concentrate_sol</th>\n",
       "      <th>final.output.recovery</th>\n",
       "      <th>final.output.tail_au</th>\n",
       "      <th>final.output.tail_ag</th>\n",
       "      <th>final.output.tail_pb</th>\n",
       "      <th>final.output.tail_sol</th>\n",
       "    </tr>\n",
       "  </thead>\n",
       "  <tbody>\n",
       "    <tr>\n",
       "      <th>count</th>\n",
       "      <td>14579.000000</td>\n",
       "      <td>14579.000000</td>\n",
       "      <td>14507.000000</td>\n",
       "      <td>14502.000000</td>\n",
       "      <td>14572.000000</td>\n",
       "      <td>14478.000000</td>\n",
       "      <td>14548.000000</td>\n",
       "      <td>14572.000000</td>\n",
       "      <td>14579.000000</td>\n",
       "      <td>14579.000000</td>\n",
       "      <td>...</td>\n",
       "      <td>13659.000000</td>\n",
       "      <td>14579.000000</td>\n",
       "      <td>14578.000000</td>\n",
       "      <td>14578.000000</td>\n",
       "      <td>14387.000000</td>\n",
       "      <td>14579.000000</td>\n",
       "      <td>14579.000000</td>\n",
       "      <td>14578.000000</td>\n",
       "      <td>14504.000000</td>\n",
       "      <td>14574.000000</td>\n",
       "    </tr>\n",
       "    <tr>\n",
       "      <th>mean</th>\n",
       "      <td>8.352941</td>\n",
       "      <td>8.877460</td>\n",
       "      <td>3.604221</td>\n",
       "      <td>36.561420</td>\n",
       "      <td>474.332784</td>\n",
       "      <td>58.922712</td>\n",
       "      <td>12.427399</td>\n",
       "      <td>5.994854</td>\n",
       "      <td>1104.208278</td>\n",
       "      <td>-379.367166</td>\n",
       "      <td>...</td>\n",
       "      <td>7.111347</td>\n",
       "      <td>43.979499</td>\n",
       "      <td>5.192145</td>\n",
       "      <td>9.923809</td>\n",
       "      <td>9.566676</td>\n",
       "      <td>66.759066</td>\n",
       "      <td>3.087939</td>\n",
       "      <td>9.731972</td>\n",
       "      <td>2.719985</td>\n",
       "      <td>10.612745</td>\n",
       "    </tr>\n",
       "    <tr>\n",
       "      <th>std</th>\n",
       "      <td>1.934376</td>\n",
       "      <td>1.922536</td>\n",
       "      <td>1.056063</td>\n",
       "      <td>5.209823</td>\n",
       "      <td>108.503552</td>\n",
       "      <td>22.407410</td>\n",
       "      <td>3.428939</td>\n",
       "      <td>1.152873</td>\n",
       "      <td>162.235606</td>\n",
       "      <td>94.652311</td>\n",
       "      <td>...</td>\n",
       "      <td>3.909951</td>\n",
       "      <td>5.471437</td>\n",
       "      <td>1.388014</td>\n",
       "      <td>1.706976</td>\n",
       "      <td>2.805654</td>\n",
       "      <td>10.619709</td>\n",
       "      <td>0.915187</td>\n",
       "      <td>2.358143</td>\n",
       "      <td>0.958929</td>\n",
       "      <td>2.871075</td>\n",
       "    </tr>\n",
       "    <tr>\n",
       "      <th>min</th>\n",
       "      <td>0.010000</td>\n",
       "      <td>0.010000</td>\n",
       "      <td>0.010000</td>\n",
       "      <td>0.010000</td>\n",
       "      <td>0.002986</td>\n",
       "      <td>0.049194</td>\n",
       "      <td>0.001083</td>\n",
       "      <td>0.000568</td>\n",
       "      <td>-0.042069</td>\n",
       "      <td>-657.949759</td>\n",
       "      <td>...</td>\n",
       "      <td>0.000000</td>\n",
       "      <td>0.000000</td>\n",
       "      <td>0.000000</td>\n",
       "      <td>0.000000</td>\n",
       "      <td>0.000000</td>\n",
       "      <td>0.000000</td>\n",
       "      <td>0.000000</td>\n",
       "      <td>0.000000</td>\n",
       "      <td>0.000000</td>\n",
       "      <td>0.000000</td>\n",
       "    </tr>\n",
       "    <tr>\n",
       "      <th>25%</th>\n",
       "      <td>6.932996</td>\n",
       "      <td>7.341922</td>\n",
       "      <td>2.880490</td>\n",
       "      <td>34.093951</td>\n",
       "      <td>411.048483</td>\n",
       "      <td>47.278490</td>\n",
       "      <td>10.002832</td>\n",
       "      <td>5.304167</td>\n",
       "      <td>999.644856</td>\n",
       "      <td>-499.861797</td>\n",
       "      <td>...</td>\n",
       "      <td>3.784897</td>\n",
       "      <td>43.345906</td>\n",
       "      <td>4.283347</td>\n",
       "      <td>9.103183</td>\n",
       "      <td>7.860030</td>\n",
       "      <td>63.114596</td>\n",
       "      <td>2.505287</td>\n",
       "      <td>8.088928</td>\n",
       "      <td>2.036512</td>\n",
       "      <td>9.013412</td>\n",
       "    </tr>\n",
       "    <tr>\n",
       "      <th>50%</th>\n",
       "      <td>8.225284</td>\n",
       "      <td>8.715859</td>\n",
       "      <td>3.532399</td>\n",
       "      <td>37.097511</td>\n",
       "      <td>498.187968</td>\n",
       "      <td>54.361187</td>\n",
       "      <td>12.003320</td>\n",
       "      <td>6.003053</td>\n",
       "      <td>1000.982624</td>\n",
       "      <td>-300.314199</td>\n",
       "      <td>...</td>\n",
       "      <td>7.629968</td>\n",
       "      <td>44.975014</td>\n",
       "      <td>5.118647</td>\n",
       "      <td>10.046455</td>\n",
       "      <td>9.301970</td>\n",
       "      <td>67.962788</td>\n",
       "      <td>3.029238</td>\n",
       "      <td>9.818512</td>\n",
       "      <td>2.774847</td>\n",
       "      <td>10.670515</td>\n",
       "    </tr>\n",
       "    <tr>\n",
       "      <th>75%</th>\n",
       "      <td>9.832210</td>\n",
       "      <td>10.255843</td>\n",
       "      <td>4.257282</td>\n",
       "      <td>39.899799</td>\n",
       "      <td>549.586552</td>\n",
       "      <td>64.464926</td>\n",
       "      <td>14.929903</td>\n",
       "      <td>6.796632</td>\n",
       "      <td>1292.663971</td>\n",
       "      <td>-299.989315</td>\n",
       "      <td>...</td>\n",
       "      <td>10.367050</td>\n",
       "      <td>46.275153</td>\n",
       "      <td>5.925380</td>\n",
       "      <td>10.981203</td>\n",
       "      <td>11.001573</td>\n",
       "      <td>72.598187</td>\n",
       "      <td>3.614098</td>\n",
       "      <td>11.169187</td>\n",
       "      <td>3.353845</td>\n",
       "      <td>12.130827</td>\n",
       "    </tr>\n",
       "    <tr>\n",
       "      <th>max</th>\n",
       "      <td>13.731330</td>\n",
       "      <td>14.596026</td>\n",
       "      <td>7.052325</td>\n",
       "      <td>53.475325</td>\n",
       "      <td>717.508837</td>\n",
       "      <td>484.967466</td>\n",
       "      <td>36.118275</td>\n",
       "      <td>9.703448</td>\n",
       "      <td>1512.299531</td>\n",
       "      <td>-273.776101</td>\n",
       "      <td>...</td>\n",
       "      <td>26.000772</td>\n",
       "      <td>52.756638</td>\n",
       "      <td>16.001945</td>\n",
       "      <td>16.705297</td>\n",
       "      <td>19.423912</td>\n",
       "      <td>100.000000</td>\n",
       "      <td>8.245022</td>\n",
       "      <td>19.552149</td>\n",
       "      <td>5.804178</td>\n",
       "      <td>22.317730</td>\n",
       "    </tr>\n",
       "  </tbody>\n",
       "</table>\n",
       "<p>8 rows × 86 columns</p>\n",
       "</div>"
      ],
      "text/plain": [
       "       rougher.input.feed_au  rougher.input.feed_ag  rougher.input.feed_pb  \\\n",
       "count           14579.000000           14579.000000           14507.000000   \n",
       "mean                8.352941               8.877460               3.604221   \n",
       "std                 1.934376               1.922536               1.056063   \n",
       "min                 0.010000               0.010000               0.010000   \n",
       "25%                 6.932996               7.341922               2.880490   \n",
       "50%                 8.225284               8.715859               3.532399   \n",
       "75%                 9.832210              10.255843               4.257282   \n",
       "max                13.731330              14.596026               7.052325   \n",
       "\n",
       "       rougher.input.feed_sol  rougher.input.feed_rate  \\\n",
       "count            14502.000000             14572.000000   \n",
       "mean                36.561420               474.332784   \n",
       "std                  5.209823               108.503552   \n",
       "min                  0.010000                 0.002986   \n",
       "25%                 34.093951               411.048483   \n",
       "50%                 37.097511               498.187968   \n",
       "75%                 39.899799               549.586552   \n",
       "max                 53.475325               717.508837   \n",
       "\n",
       "       rougher.input.feed_size  rougher.input.floatbank10_sulfate  \\\n",
       "count             14478.000000                       14548.000000   \n",
       "mean                 58.922712                          12.427399   \n",
       "std                  22.407410                           3.428939   \n",
       "min                   0.049194                           0.001083   \n",
       "25%                  47.278490                          10.002832   \n",
       "50%                  54.361187                          12.003320   \n",
       "75%                  64.464926                          14.929903   \n",
       "max                 484.967466                          36.118275   \n",
       "\n",
       "       rougher.input.floatbank10_xanthate  rougher.state.floatbank10_a_air  \\\n",
       "count                        14572.000000                     14579.000000   \n",
       "mean                             5.994854                      1104.208278   \n",
       "std                              1.152873                       162.235606   \n",
       "min                              0.000568                        -0.042069   \n",
       "25%                              5.304167                       999.644856   \n",
       "50%                              6.003053                      1000.982624   \n",
       "75%                              6.796632                      1292.663971   \n",
       "max                              9.703448                      1512.299531   \n",
       "\n",
       "       rougher.state.floatbank10_a_level  ...  \\\n",
       "count                       14579.000000  ...   \n",
       "mean                         -379.367166  ...   \n",
       "std                            94.652311  ...   \n",
       "min                          -657.949759  ...   \n",
       "25%                          -499.861797  ...   \n",
       "50%                          -300.314199  ...   \n",
       "75%                          -299.989315  ...   \n",
       "max                          -273.776101  ...   \n",
       "\n",
       "       secondary_cleaner.output.tail_sol  final.output.concentrate_au  \\\n",
       "count                       13659.000000                 14579.000000   \n",
       "mean                            7.111347                    43.979499   \n",
       "std                             3.909951                     5.471437   \n",
       "min                             0.000000                     0.000000   \n",
       "25%                             3.784897                    43.345906   \n",
       "50%                             7.629968                    44.975014   \n",
       "75%                            10.367050                    46.275153   \n",
       "max                            26.000772                    52.756638   \n",
       "\n",
       "       final.output.concentrate_ag  final.output.concentrate_pb  \\\n",
       "count                 14578.000000                 14578.000000   \n",
       "mean                      5.192145                     9.923809   \n",
       "std                       1.388014                     1.706976   \n",
       "min                       0.000000                     0.000000   \n",
       "25%                       4.283347                     9.103183   \n",
       "50%                       5.118647                    10.046455   \n",
       "75%                       5.925380                    10.981203   \n",
       "max                      16.001945                    16.705297   \n",
       "\n",
       "       final.output.concentrate_sol  final.output.recovery  \\\n",
       "count                  14387.000000           14579.000000   \n",
       "mean                       9.566676              66.759066   \n",
       "std                        2.805654              10.619709   \n",
       "min                        0.000000               0.000000   \n",
       "25%                        7.860030              63.114596   \n",
       "50%                        9.301970              67.962788   \n",
       "75%                       11.001573              72.598187   \n",
       "max                       19.423912             100.000000   \n",
       "\n",
       "       final.output.tail_au  final.output.tail_ag  final.output.tail_pb  \\\n",
       "count          14579.000000          14578.000000          14504.000000   \n",
       "mean               3.087939              9.731972              2.719985   \n",
       "std                0.915187              2.358143              0.958929   \n",
       "min                0.000000              0.000000              0.000000   \n",
       "25%                2.505287              8.088928              2.036512   \n",
       "50%                3.029238              9.818512              2.774847   \n",
       "75%                3.614098             11.169187              3.353845   \n",
       "max                8.245022             19.552149              5.804178   \n",
       "\n",
       "       final.output.tail_sol  \n",
       "count           14574.000000  \n",
       "mean               10.612745  \n",
       "std                 2.871075  \n",
       "min                 0.000000  \n",
       "25%                 9.013412  \n",
       "50%                10.670515  \n",
       "75%                12.130827  \n",
       "max                22.317730  \n",
       "\n",
       "[8 rows x 86 columns]"
      ]
     },
     "execution_count": 4,
     "metadata": {},
     "output_type": "execute_result"
    }
   ],
   "source": [
    "train.describe()"
   ]
  },
  {
   "cell_type": "code",
   "execution_count": 5,
   "metadata": {},
   "outputs": [
    {
     "data": {
      "text/html": [
       "<div>\n",
       "<style scoped>\n",
       "    .dataframe tbody tr th:only-of-type {\n",
       "        vertical-align: middle;\n",
       "    }\n",
       "\n",
       "    .dataframe tbody tr th {\n",
       "        vertical-align: top;\n",
       "    }\n",
       "\n",
       "    .dataframe thead th {\n",
       "        text-align: right;\n",
       "    }\n",
       "</style>\n",
       "<table border=\"1\" class=\"dataframe\">\n",
       "  <thead>\n",
       "    <tr style=\"text-align: right;\">\n",
       "      <th></th>\n",
       "      <th>rougher.input.feed_au</th>\n",
       "      <th>rougher.input.feed_ag</th>\n",
       "      <th>rougher.input.feed_pb</th>\n",
       "      <th>rougher.input.feed_sol</th>\n",
       "      <th>rougher.input.feed_rate</th>\n",
       "      <th>rougher.input.feed_size</th>\n",
       "      <th>rougher.input.floatbank10_sulfate</th>\n",
       "      <th>rougher.input.floatbank10_xanthate</th>\n",
       "      <th>rougher.state.floatbank10_a_air</th>\n",
       "      <th>rougher.state.floatbank10_a_level</th>\n",
       "      <th>...</th>\n",
       "      <th>secondary_cleaner.state.floatbank4_a_air</th>\n",
       "      <th>secondary_cleaner.state.floatbank4_a_level</th>\n",
       "      <th>secondary_cleaner.state.floatbank4_b_air</th>\n",
       "      <th>secondary_cleaner.state.floatbank4_b_level</th>\n",
       "      <th>secondary_cleaner.state.floatbank5_a_air</th>\n",
       "      <th>secondary_cleaner.state.floatbank5_a_level</th>\n",
       "      <th>secondary_cleaner.state.floatbank5_b_air</th>\n",
       "      <th>secondary_cleaner.state.floatbank5_b_level</th>\n",
       "      <th>secondary_cleaner.state.floatbank6_a_air</th>\n",
       "      <th>secondary_cleaner.state.floatbank6_a_level</th>\n",
       "    </tr>\n",
       "    <tr>\n",
       "      <th>date</th>\n",
       "      <th></th>\n",
       "      <th></th>\n",
       "      <th></th>\n",
       "      <th></th>\n",
       "      <th></th>\n",
       "      <th></th>\n",
       "      <th></th>\n",
       "      <th></th>\n",
       "      <th></th>\n",
       "      <th></th>\n",
       "      <th></th>\n",
       "      <th></th>\n",
       "      <th></th>\n",
       "      <th></th>\n",
       "      <th></th>\n",
       "      <th></th>\n",
       "      <th></th>\n",
       "      <th></th>\n",
       "      <th></th>\n",
       "      <th></th>\n",
       "      <th></th>\n",
       "    </tr>\n",
       "  </thead>\n",
       "  <tbody>\n",
       "    <tr>\n",
       "      <th>2017-12-09 14:59:59</th>\n",
       "      <td>4.365491</td>\n",
       "      <td>6.158718</td>\n",
       "      <td>3.875727</td>\n",
       "      <td>39.135119</td>\n",
       "      <td>555.820208</td>\n",
       "      <td>94.544358</td>\n",
       "      <td>6.146982</td>\n",
       "      <td>9.308612</td>\n",
       "      <td>1196.238112</td>\n",
       "      <td>-299.862743</td>\n",
       "      <td>...</td>\n",
       "      <td>23.018622</td>\n",
       "      <td>-500.492702</td>\n",
       "      <td>20.020205</td>\n",
       "      <td>-500.220296</td>\n",
       "      <td>17.963512</td>\n",
       "      <td>-499.939490</td>\n",
       "      <td>12.990306</td>\n",
       "      <td>-500.080993</td>\n",
       "      <td>19.990336</td>\n",
       "      <td>-499.191575</td>\n",
       "    </tr>\n",
       "    <tr>\n",
       "      <th>2017-12-09 15:59:59</th>\n",
       "      <td>4.362781</td>\n",
       "      <td>6.048130</td>\n",
       "      <td>3.902537</td>\n",
       "      <td>39.713906</td>\n",
       "      <td>544.731687</td>\n",
       "      <td>123.742430</td>\n",
       "      <td>6.210119</td>\n",
       "      <td>9.297709</td>\n",
       "      <td>1201.904177</td>\n",
       "      <td>-299.907308</td>\n",
       "      <td>...</td>\n",
       "      <td>23.024963</td>\n",
       "      <td>-501.153409</td>\n",
       "      <td>20.054122</td>\n",
       "      <td>-500.314711</td>\n",
       "      <td>17.979515</td>\n",
       "      <td>-499.272871</td>\n",
       "      <td>12.992404</td>\n",
       "      <td>-499.976268</td>\n",
       "      <td>20.013986</td>\n",
       "      <td>-500.625471</td>\n",
       "    </tr>\n",
       "    <tr>\n",
       "      <th>2017-12-09 16:59:59</th>\n",
       "      <td>5.081681</td>\n",
       "      <td>6.082745</td>\n",
       "      <td>4.564078</td>\n",
       "      <td>37.208683</td>\n",
       "      <td>558.155110</td>\n",
       "      <td>82.610855</td>\n",
       "      <td>7.363824</td>\n",
       "      <td>9.003562</td>\n",
       "      <td>1200.826926</td>\n",
       "      <td>-300.124116</td>\n",
       "      <td>...</td>\n",
       "      <td>22.993827</td>\n",
       "      <td>-501.559663</td>\n",
       "      <td>20.029144</td>\n",
       "      <td>-500.000662</td>\n",
       "      <td>18.012723</td>\n",
       "      <td>-500.024764</td>\n",
       "      <td>13.016445</td>\n",
       "      <td>-500.058432</td>\n",
       "      <td>19.973767</td>\n",
       "      <td>-501.394155</td>\n",
       "    </tr>\n",
       "    <tr>\n",
       "      <th>2017-12-09 17:59:59</th>\n",
       "      <td>5.145949</td>\n",
       "      <td>6.084374</td>\n",
       "      <td>4.768124</td>\n",
       "      <td>36.808874</td>\n",
       "      <td>539.713765</td>\n",
       "      <td>77.984784</td>\n",
       "      <td>6.927072</td>\n",
       "      <td>8.955597</td>\n",
       "      <td>1199.292489</td>\n",
       "      <td>-299.778385</td>\n",
       "      <td>...</td>\n",
       "      <td>23.032807</td>\n",
       "      <td>-501.287889</td>\n",
       "      <td>19.977466</td>\n",
       "      <td>-500.159903</td>\n",
       "      <td>17.980463</td>\n",
       "      <td>-500.504602</td>\n",
       "      <td>12.949071</td>\n",
       "      <td>-500.009937</td>\n",
       "      <td>20.010332</td>\n",
       "      <td>-508.337973</td>\n",
       "    </tr>\n",
       "    <tr>\n",
       "      <th>2017-12-09 18:59:59</th>\n",
       "      <td>5.735249</td>\n",
       "      <td>6.165220</td>\n",
       "      <td>4.512346</td>\n",
       "      <td>37.810642</td>\n",
       "      <td>558.713584</td>\n",
       "      <td>86.434874</td>\n",
       "      <td>7.823471</td>\n",
       "      <td>7.490356</td>\n",
       "      <td>1198.005449</td>\n",
       "      <td>-300.283401</td>\n",
       "      <td>...</td>\n",
       "      <td>23.001911</td>\n",
       "      <td>-499.947838</td>\n",
       "      <td>20.023735</td>\n",
       "      <td>-499.713680</td>\n",
       "      <td>17.990955</td>\n",
       "      <td>-500.334769</td>\n",
       "      <td>13.007523</td>\n",
       "      <td>-499.968459</td>\n",
       "      <td>19.995999</td>\n",
       "      <td>-499.788805</td>\n",
       "    </tr>\n",
       "  </tbody>\n",
       "</table>\n",
       "<p>5 rows × 52 columns</p>\n",
       "</div>"
      ],
      "text/plain": [
       "                     rougher.input.feed_au  rougher.input.feed_ag  \\\n",
       "date                                                                \n",
       "2017-12-09 14:59:59               4.365491               6.158718   \n",
       "2017-12-09 15:59:59               4.362781               6.048130   \n",
       "2017-12-09 16:59:59               5.081681               6.082745   \n",
       "2017-12-09 17:59:59               5.145949               6.084374   \n",
       "2017-12-09 18:59:59               5.735249               6.165220   \n",
       "\n",
       "                     rougher.input.feed_pb  rougher.input.feed_sol  \\\n",
       "date                                                                 \n",
       "2017-12-09 14:59:59               3.875727               39.135119   \n",
       "2017-12-09 15:59:59               3.902537               39.713906   \n",
       "2017-12-09 16:59:59               4.564078               37.208683   \n",
       "2017-12-09 17:59:59               4.768124               36.808874   \n",
       "2017-12-09 18:59:59               4.512346               37.810642   \n",
       "\n",
       "                     rougher.input.feed_rate  rougher.input.feed_size  \\\n",
       "date                                                                    \n",
       "2017-12-09 14:59:59               555.820208                94.544358   \n",
       "2017-12-09 15:59:59               544.731687               123.742430   \n",
       "2017-12-09 16:59:59               558.155110                82.610855   \n",
       "2017-12-09 17:59:59               539.713765                77.984784   \n",
       "2017-12-09 18:59:59               558.713584                86.434874   \n",
       "\n",
       "                     rougher.input.floatbank10_sulfate  \\\n",
       "date                                                     \n",
       "2017-12-09 14:59:59                           6.146982   \n",
       "2017-12-09 15:59:59                           6.210119   \n",
       "2017-12-09 16:59:59                           7.363824   \n",
       "2017-12-09 17:59:59                           6.927072   \n",
       "2017-12-09 18:59:59                           7.823471   \n",
       "\n",
       "                     rougher.input.floatbank10_xanthate  \\\n",
       "date                                                      \n",
       "2017-12-09 14:59:59                            9.308612   \n",
       "2017-12-09 15:59:59                            9.297709   \n",
       "2017-12-09 16:59:59                            9.003562   \n",
       "2017-12-09 17:59:59                            8.955597   \n",
       "2017-12-09 18:59:59                            7.490356   \n",
       "\n",
       "                     rougher.state.floatbank10_a_air  \\\n",
       "date                                                   \n",
       "2017-12-09 14:59:59                      1196.238112   \n",
       "2017-12-09 15:59:59                      1201.904177   \n",
       "2017-12-09 16:59:59                      1200.826926   \n",
       "2017-12-09 17:59:59                      1199.292489   \n",
       "2017-12-09 18:59:59                      1198.005449   \n",
       "\n",
       "                     rougher.state.floatbank10_a_level  ...  \\\n",
       "date                                                    ...   \n",
       "2017-12-09 14:59:59                        -299.862743  ...   \n",
       "2017-12-09 15:59:59                        -299.907308  ...   \n",
       "2017-12-09 16:59:59                        -300.124116  ...   \n",
       "2017-12-09 17:59:59                        -299.778385  ...   \n",
       "2017-12-09 18:59:59                        -300.283401  ...   \n",
       "\n",
       "                     secondary_cleaner.state.floatbank4_a_air  \\\n",
       "date                                                            \n",
       "2017-12-09 14:59:59                                 23.018622   \n",
       "2017-12-09 15:59:59                                 23.024963   \n",
       "2017-12-09 16:59:59                                 22.993827   \n",
       "2017-12-09 17:59:59                                 23.032807   \n",
       "2017-12-09 18:59:59                                 23.001911   \n",
       "\n",
       "                     secondary_cleaner.state.floatbank4_a_level  \\\n",
       "date                                                              \n",
       "2017-12-09 14:59:59                                 -500.492702   \n",
       "2017-12-09 15:59:59                                 -501.153409   \n",
       "2017-12-09 16:59:59                                 -501.559663   \n",
       "2017-12-09 17:59:59                                 -501.287889   \n",
       "2017-12-09 18:59:59                                 -499.947838   \n",
       "\n",
       "                     secondary_cleaner.state.floatbank4_b_air  \\\n",
       "date                                                            \n",
       "2017-12-09 14:59:59                                 20.020205   \n",
       "2017-12-09 15:59:59                                 20.054122   \n",
       "2017-12-09 16:59:59                                 20.029144   \n",
       "2017-12-09 17:59:59                                 19.977466   \n",
       "2017-12-09 18:59:59                                 20.023735   \n",
       "\n",
       "                     secondary_cleaner.state.floatbank4_b_level  \\\n",
       "date                                                              \n",
       "2017-12-09 14:59:59                                 -500.220296   \n",
       "2017-12-09 15:59:59                                 -500.314711   \n",
       "2017-12-09 16:59:59                                 -500.000662   \n",
       "2017-12-09 17:59:59                                 -500.159903   \n",
       "2017-12-09 18:59:59                                 -499.713680   \n",
       "\n",
       "                     secondary_cleaner.state.floatbank5_a_air  \\\n",
       "date                                                            \n",
       "2017-12-09 14:59:59                                 17.963512   \n",
       "2017-12-09 15:59:59                                 17.979515   \n",
       "2017-12-09 16:59:59                                 18.012723   \n",
       "2017-12-09 17:59:59                                 17.980463   \n",
       "2017-12-09 18:59:59                                 17.990955   \n",
       "\n",
       "                     secondary_cleaner.state.floatbank5_a_level  \\\n",
       "date                                                              \n",
       "2017-12-09 14:59:59                                 -499.939490   \n",
       "2017-12-09 15:59:59                                 -499.272871   \n",
       "2017-12-09 16:59:59                                 -500.024764   \n",
       "2017-12-09 17:59:59                                 -500.504602   \n",
       "2017-12-09 18:59:59                                 -500.334769   \n",
       "\n",
       "                     secondary_cleaner.state.floatbank5_b_air  \\\n",
       "date                                                            \n",
       "2017-12-09 14:59:59                                 12.990306   \n",
       "2017-12-09 15:59:59                                 12.992404   \n",
       "2017-12-09 16:59:59                                 13.016445   \n",
       "2017-12-09 17:59:59                                 12.949071   \n",
       "2017-12-09 18:59:59                                 13.007523   \n",
       "\n",
       "                     secondary_cleaner.state.floatbank5_b_level  \\\n",
       "date                                                              \n",
       "2017-12-09 14:59:59                                 -500.080993   \n",
       "2017-12-09 15:59:59                                 -499.976268   \n",
       "2017-12-09 16:59:59                                 -500.058432   \n",
       "2017-12-09 17:59:59                                 -500.009937   \n",
       "2017-12-09 18:59:59                                 -499.968459   \n",
       "\n",
       "                     secondary_cleaner.state.floatbank6_a_air  \\\n",
       "date                                                            \n",
       "2017-12-09 14:59:59                                 19.990336   \n",
       "2017-12-09 15:59:59                                 20.013986   \n",
       "2017-12-09 16:59:59                                 19.973767   \n",
       "2017-12-09 17:59:59                                 20.010332   \n",
       "2017-12-09 18:59:59                                 19.995999   \n",
       "\n",
       "                     secondary_cleaner.state.floatbank6_a_level  \n",
       "date                                                             \n",
       "2017-12-09 14:59:59                                 -499.191575  \n",
       "2017-12-09 15:59:59                                 -500.625471  \n",
       "2017-12-09 16:59:59                                 -501.394155  \n",
       "2017-12-09 17:59:59                                 -508.337973  \n",
       "2017-12-09 18:59:59                                 -499.788805  \n",
       "\n",
       "[5 rows x 52 columns]"
      ]
     },
     "execution_count": 5,
     "metadata": {},
     "output_type": "execute_result"
    }
   ],
   "source": [
    "try:\n",
    "    test = pd.read_csv('/datasets/gold_industry_test.csv', index_col=['date'])\n",
    "except:\n",
    "    test = pd.read_csv('/datasets/gold_industry_test.csv', index_col=['date'])\n",
    "\n",
    "test.head()"
   ]
  },
  {
   "cell_type": "code",
   "execution_count": 6,
   "metadata": {},
   "outputs": [
    {
     "name": "stdout",
     "output_type": "stream",
     "text": [
      "<class 'pandas.core.frame.DataFrame'>\n",
      "Index: 4860 entries, 2017-12-09 14:59:59 to 2018-08-18 10:59:59\n",
      "Data columns (total 52 columns):\n",
      " #   Column                                      Non-Null Count  Dtype  \n",
      "---  ------                                      --------------  -----  \n",
      " 0   rougher.input.feed_au                       4860 non-null   float64\n",
      " 1   rougher.input.feed_ag                       4860 non-null   float64\n",
      " 2   rougher.input.feed_pb                       4832 non-null   float64\n",
      " 3   rougher.input.feed_sol                      4838 non-null   float64\n",
      " 4   rougher.input.feed_rate                     4856 non-null   float64\n",
      " 5   rougher.input.feed_size                     4816 non-null   float64\n",
      " 6   rougher.input.floatbank10_sulfate           4857 non-null   float64\n",
      " 7   rougher.input.floatbank10_xanthate          4859 non-null   float64\n",
      " 8   rougher.state.floatbank10_a_air             4859 non-null   float64\n",
      " 9   rougher.state.floatbank10_a_level           4859 non-null   float64\n",
      " 10  rougher.state.floatbank10_b_air             4859 non-null   float64\n",
      " 11  rougher.state.floatbank10_b_level           4859 non-null   float64\n",
      " 12  rougher.state.floatbank10_c_air             4859 non-null   float64\n",
      " 13  rougher.state.floatbank10_c_level           4859 non-null   float64\n",
      " 14  rougher.state.floatbank10_d_air             4860 non-null   float64\n",
      " 15  rougher.state.floatbank10_d_level           4860 non-null   float64\n",
      " 16  rougher.state.floatbank10_e_air             4853 non-null   float64\n",
      " 17  rougher.state.floatbank10_e_level           4860 non-null   float64\n",
      " 18  rougher.state.floatbank10_f_air             4860 non-null   float64\n",
      " 19  rougher.state.floatbank10_f_level           4860 non-null   float64\n",
      " 20  rougher.input.floatbank11_sulfate           4852 non-null   float64\n",
      " 21  rougher.input.floatbank11_xanthate          4814 non-null   float64\n",
      " 22  primary_cleaner.input.sulfate               4859 non-null   float64\n",
      " 23  primary_cleaner.input.depressant            4851 non-null   float64\n",
      " 24  primary_cleaner.input.feed_size             4860 non-null   float64\n",
      " 25  primary_cleaner.input.xanthate              4817 non-null   float64\n",
      " 26  primary_cleaner.state.floatbank8_a_air      4859 non-null   float64\n",
      " 27  primary_cleaner.state.floatbank8_a_level    4859 non-null   float64\n",
      " 28  primary_cleaner.state.floatbank8_b_air      4859 non-null   float64\n",
      " 29  primary_cleaner.state.floatbank8_b_level    4859 non-null   float64\n",
      " 30  primary_cleaner.state.floatbank8_c_air      4858 non-null   float64\n",
      " 31  primary_cleaner.state.floatbank8_c_level    4859 non-null   float64\n",
      " 32  primary_cleaner.state.floatbank8_d_air      4858 non-null   float64\n",
      " 33  primary_cleaner.state.floatbank8_d_level    4859 non-null   float64\n",
      " 34  secondary_cleaner.state.floatbank2_a_air    4734 non-null   float64\n",
      " 35  secondary_cleaner.state.floatbank2_a_level  4859 non-null   float64\n",
      " 36  secondary_cleaner.state.floatbank2_b_air    4859 non-null   float64\n",
      " 37  secondary_cleaner.state.floatbank2_b_level  4859 non-null   float64\n",
      " 38  secondary_cleaner.state.floatbank3_a_air    4859 non-null   float64\n",
      " 39  secondary_cleaner.state.floatbank3_a_level  4859 non-null   float64\n",
      " 40  secondary_cleaner.state.floatbank3_b_air    4859 non-null   float64\n",
      " 41  secondary_cleaner.state.floatbank3_b_level  4859 non-null   float64\n",
      " 42  secondary_cleaner.state.floatbank4_a_air    4859 non-null   float64\n",
      " 43  secondary_cleaner.state.floatbank4_a_level  4859 non-null   float64\n",
      " 44  secondary_cleaner.state.floatbank4_b_air    4859 non-null   float64\n",
      " 45  secondary_cleaner.state.floatbank4_b_level  4859 non-null   float64\n",
      " 46  secondary_cleaner.state.floatbank5_a_air    4859 non-null   float64\n",
      " 47  secondary_cleaner.state.floatbank5_a_level  4859 non-null   float64\n",
      " 48  secondary_cleaner.state.floatbank5_b_air    4859 non-null   float64\n",
      " 49  secondary_cleaner.state.floatbank5_b_level  4859 non-null   float64\n",
      " 50  secondary_cleaner.state.floatbank6_a_air    4859 non-null   float64\n",
      " 51  secondary_cleaner.state.floatbank6_a_level  4859 non-null   float64\n",
      "dtypes: float64(52)\n",
      "memory usage: 2.0+ MB\n"
     ]
    }
   ],
   "source": [
    "test.info()"
   ]
  },
  {
   "cell_type": "code",
   "execution_count": 7,
   "metadata": {},
   "outputs": [
    {
     "data": {
      "text/html": [
       "<div>\n",
       "<style scoped>\n",
       "    .dataframe tbody tr th:only-of-type {\n",
       "        vertical-align: middle;\n",
       "    }\n",
       "\n",
       "    .dataframe tbody tr th {\n",
       "        vertical-align: top;\n",
       "    }\n",
       "\n",
       "    .dataframe thead th {\n",
       "        text-align: right;\n",
       "    }\n",
       "</style>\n",
       "<table border=\"1\" class=\"dataframe\">\n",
       "  <thead>\n",
       "    <tr style=\"text-align: right;\">\n",
       "      <th></th>\n",
       "      <th>rougher.input.feed_au</th>\n",
       "      <th>rougher.input.feed_ag</th>\n",
       "      <th>rougher.input.feed_pb</th>\n",
       "      <th>rougher.input.feed_sol</th>\n",
       "      <th>rougher.input.feed_rate</th>\n",
       "      <th>rougher.input.feed_size</th>\n",
       "      <th>rougher.input.floatbank10_sulfate</th>\n",
       "      <th>rougher.input.floatbank10_xanthate</th>\n",
       "      <th>rougher.state.floatbank10_a_air</th>\n",
       "      <th>rougher.state.floatbank10_a_level</th>\n",
       "      <th>...</th>\n",
       "      <th>secondary_cleaner.state.floatbank4_a_air</th>\n",
       "      <th>secondary_cleaner.state.floatbank4_a_level</th>\n",
       "      <th>secondary_cleaner.state.floatbank4_b_air</th>\n",
       "      <th>secondary_cleaner.state.floatbank4_b_level</th>\n",
       "      <th>secondary_cleaner.state.floatbank5_a_air</th>\n",
       "      <th>secondary_cleaner.state.floatbank5_a_level</th>\n",
       "      <th>secondary_cleaner.state.floatbank5_b_air</th>\n",
       "      <th>secondary_cleaner.state.floatbank5_b_level</th>\n",
       "      <th>secondary_cleaner.state.floatbank6_a_air</th>\n",
       "      <th>secondary_cleaner.state.floatbank6_a_level</th>\n",
       "    </tr>\n",
       "  </thead>\n",
       "  <tbody>\n",
       "    <tr>\n",
       "      <th>count</th>\n",
       "      <td>4860.000000</td>\n",
       "      <td>4860.000000</td>\n",
       "      <td>4832.000000</td>\n",
       "      <td>4838.000000</td>\n",
       "      <td>4856.000000</td>\n",
       "      <td>4816.000000</td>\n",
       "      <td>4857.000000</td>\n",
       "      <td>4859.000000</td>\n",
       "      <td>4859.000000</td>\n",
       "      <td>4859.000000</td>\n",
       "      <td>...</td>\n",
       "      <td>4.859000e+03</td>\n",
       "      <td>4859.000000</td>\n",
       "      <td>4.859000e+03</td>\n",
       "      <td>4859.000000</td>\n",
       "      <td>4859.000000</td>\n",
       "      <td>4859.000000</td>\n",
       "      <td>4859.000000</td>\n",
       "      <td>4859.000000</td>\n",
       "      <td>4859.000000</td>\n",
       "      <td>4859.000000</td>\n",
       "    </tr>\n",
       "    <tr>\n",
       "      <th>mean</th>\n",
       "      <td>8.005584</td>\n",
       "      <td>8.547348</td>\n",
       "      <td>3.579662</td>\n",
       "      <td>37.095864</td>\n",
       "      <td>490.285103</td>\n",
       "      <td>59.113400</td>\n",
       "      <td>12.055735</td>\n",
       "      <td>6.101308</td>\n",
       "      <td>1108.635895</td>\n",
       "      <td>-368.340127</td>\n",
       "      <td>...</td>\n",
       "      <td>1.985770e+01</td>\n",
       "      <td>-488.665140</td>\n",
       "      <td>1.557025e+01</td>\n",
       "      <td>-464.176507</td>\n",
       "      <td>16.594103</td>\n",
       "      <td>-490.815250</td>\n",
       "      <td>12.945971</td>\n",
       "      <td>-489.583564</td>\n",
       "      <td>19.053888</td>\n",
       "      <td>-504.678924</td>\n",
       "    </tr>\n",
       "    <tr>\n",
       "      <th>std</th>\n",
       "      <td>1.993590</td>\n",
       "      <td>1.958601</td>\n",
       "      <td>1.029377</td>\n",
       "      <td>4.926284</td>\n",
       "      <td>94.371623</td>\n",
       "      <td>19.125122</td>\n",
       "      <td>3.407642</td>\n",
       "      <td>1.042754</td>\n",
       "      <td>156.493143</td>\n",
       "      <td>91.155929</td>\n",
       "      <td>...</td>\n",
       "      <td>5.913105e+00</td>\n",
       "      <td>44.392714</td>\n",
       "      <td>4.927361e+00</td>\n",
       "      <td>65.706994</td>\n",
       "      <td>5.724305</td>\n",
       "      <td>32.258443</td>\n",
       "      <td>5.533176</td>\n",
       "      <td>37.084609</td>\n",
       "      <td>5.548996</td>\n",
       "      <td>38.690186</td>\n",
       "    </tr>\n",
       "    <tr>\n",
       "      <th>min</th>\n",
       "      <td>0.010000</td>\n",
       "      <td>0.010000</td>\n",
       "      <td>0.010000</td>\n",
       "      <td>0.010000</td>\n",
       "      <td>0.012786</td>\n",
       "      <td>0.046369</td>\n",
       "      <td>0.018907</td>\n",
       "      <td>0.015783</td>\n",
       "      <td>300.792494</td>\n",
       "      <td>-600.568138</td>\n",
       "      <td>...</td>\n",
       "      <td>1.079872e-16</td>\n",
       "      <td>-799.704969</td>\n",
       "      <td>2.489718e-17</td>\n",
       "      <td>-799.860767</td>\n",
       "      <td>-0.371498</td>\n",
       "      <td>-797.142475</td>\n",
       "      <td>1.358469</td>\n",
       "      <td>-800.006180</td>\n",
       "      <td>0.160386</td>\n",
       "      <td>-809.734800</td>\n",
       "    </tr>\n",
       "    <tr>\n",
       "      <th>25%</th>\n",
       "      <td>6.574363</td>\n",
       "      <td>6.975898</td>\n",
       "      <td>2.903612</td>\n",
       "      <td>34.510841</td>\n",
       "      <td>434.099695</td>\n",
       "      <td>47.596984</td>\n",
       "      <td>9.890429</td>\n",
       "      <td>5.499808</td>\n",
       "      <td>999.715729</td>\n",
       "      <td>-499.731972</td>\n",
       "      <td>...</td>\n",
       "      <td>1.501123e+01</td>\n",
       "      <td>-500.704004</td>\n",
       "      <td>1.202172e+01</td>\n",
       "      <td>-500.196517</td>\n",
       "      <td>11.073822</td>\n",
       "      <td>-500.483564</td>\n",
       "      <td>9.011890</td>\n",
       "      <td>-500.129913</td>\n",
       "      <td>14.963953</td>\n",
       "      <td>-500.668501</td>\n",
       "    </tr>\n",
       "    <tr>\n",
       "      <th>50%</th>\n",
       "      <td>7.812923</td>\n",
       "      <td>8.179714</td>\n",
       "      <td>3.540772</td>\n",
       "      <td>37.499761</td>\n",
       "      <td>502.118742</td>\n",
       "      <td>55.509481</td>\n",
       "      <td>11.997859</td>\n",
       "      <td>6.099805</td>\n",
       "      <td>1001.414798</td>\n",
       "      <td>-300.181367</td>\n",
       "      <td>...</td>\n",
       "      <td>1.996807e+01</td>\n",
       "      <td>-499.892919</td>\n",
       "      <td>1.501240e+01</td>\n",
       "      <td>-499.540776</td>\n",
       "      <td>16.631195</td>\n",
       "      <td>-499.873136</td>\n",
       "      <td>11.999417</td>\n",
       "      <td>-499.955304</td>\n",
       "      <td>19.960006</td>\n",
       "      <td>-500.033769</td>\n",
       "    </tr>\n",
       "    <tr>\n",
       "      <th>75%</th>\n",
       "      <td>9.556589</td>\n",
       "      <td>10.084339</td>\n",
       "      <td>4.199847</td>\n",
       "      <td>40.461315</td>\n",
       "      <td>555.596563</td>\n",
       "      <td>66.661547</td>\n",
       "      <td>14.496072</td>\n",
       "      <td>6.802101</td>\n",
       "      <td>1202.837565</td>\n",
       "      <td>-299.961547</td>\n",
       "      <td>...</td>\n",
       "      <td>2.498900e+01</td>\n",
       "      <td>-498.652030</td>\n",
       "      <td>1.999949e+01</td>\n",
       "      <td>-400.302329</td>\n",
       "      <td>19.983191</td>\n",
       "      <td>-498.852815</td>\n",
       "      <td>15.004198</td>\n",
       "      <td>-499.643776</td>\n",
       "      <td>24.974583</td>\n",
       "      <td>-499.460134</td>\n",
       "    </tr>\n",
       "    <tr>\n",
       "      <th>max</th>\n",
       "      <td>13.417156</td>\n",
       "      <td>14.533698</td>\n",
       "      <td>7.142594</td>\n",
       "      <td>53.477742</td>\n",
       "      <td>702.523396</td>\n",
       "      <td>363.989699</td>\n",
       "      <td>30.010759</td>\n",
       "      <td>9.396928</td>\n",
       "      <td>1521.980372</td>\n",
       "      <td>-281.039299</td>\n",
       "      <td>...</td>\n",
       "      <td>3.008450e+01</td>\n",
       "      <td>-383.373053</td>\n",
       "      <td>2.398898e+01</td>\n",
       "      <td>-114.250832</td>\n",
       "      <td>33.215996</td>\n",
       "      <td>-288.963521</td>\n",
       "      <td>24.177106</td>\n",
       "      <td>-141.934397</td>\n",
       "      <td>32.028529</td>\n",
       "      <td>-104.427459</td>\n",
       "    </tr>\n",
       "  </tbody>\n",
       "</table>\n",
       "<p>8 rows × 52 columns</p>\n",
       "</div>"
      ],
      "text/plain": [
       "       rougher.input.feed_au  rougher.input.feed_ag  rougher.input.feed_pb  \\\n",
       "count            4860.000000            4860.000000            4832.000000   \n",
       "mean                8.005584               8.547348               3.579662   \n",
       "std                 1.993590               1.958601               1.029377   \n",
       "min                 0.010000               0.010000               0.010000   \n",
       "25%                 6.574363               6.975898               2.903612   \n",
       "50%                 7.812923               8.179714               3.540772   \n",
       "75%                 9.556589              10.084339               4.199847   \n",
       "max                13.417156              14.533698               7.142594   \n",
       "\n",
       "       rougher.input.feed_sol  rougher.input.feed_rate  \\\n",
       "count             4838.000000              4856.000000   \n",
       "mean                37.095864               490.285103   \n",
       "std                  4.926284                94.371623   \n",
       "min                  0.010000                 0.012786   \n",
       "25%                 34.510841               434.099695   \n",
       "50%                 37.499761               502.118742   \n",
       "75%                 40.461315               555.596563   \n",
       "max                 53.477742               702.523396   \n",
       "\n",
       "       rougher.input.feed_size  rougher.input.floatbank10_sulfate  \\\n",
       "count              4816.000000                        4857.000000   \n",
       "mean                 59.113400                          12.055735   \n",
       "std                  19.125122                           3.407642   \n",
       "min                   0.046369                           0.018907   \n",
       "25%                  47.596984                           9.890429   \n",
       "50%                  55.509481                          11.997859   \n",
       "75%                  66.661547                          14.496072   \n",
       "max                 363.989699                          30.010759   \n",
       "\n",
       "       rougher.input.floatbank10_xanthate  rougher.state.floatbank10_a_air  \\\n",
       "count                         4859.000000                      4859.000000   \n",
       "mean                             6.101308                      1108.635895   \n",
       "std                              1.042754                       156.493143   \n",
       "min                              0.015783                       300.792494   \n",
       "25%                              5.499808                       999.715729   \n",
       "50%                              6.099805                      1001.414798   \n",
       "75%                              6.802101                      1202.837565   \n",
       "max                              9.396928                      1521.980372   \n",
       "\n",
       "       rougher.state.floatbank10_a_level  ...  \\\n",
       "count                        4859.000000  ...   \n",
       "mean                         -368.340127  ...   \n",
       "std                            91.155929  ...   \n",
       "min                          -600.568138  ...   \n",
       "25%                          -499.731972  ...   \n",
       "50%                          -300.181367  ...   \n",
       "75%                          -299.961547  ...   \n",
       "max                          -281.039299  ...   \n",
       "\n",
       "       secondary_cleaner.state.floatbank4_a_air  \\\n",
       "count                              4.859000e+03   \n",
       "mean                               1.985770e+01   \n",
       "std                                5.913105e+00   \n",
       "min                                1.079872e-16   \n",
       "25%                                1.501123e+01   \n",
       "50%                                1.996807e+01   \n",
       "75%                                2.498900e+01   \n",
       "max                                3.008450e+01   \n",
       "\n",
       "       secondary_cleaner.state.floatbank4_a_level  \\\n",
       "count                                 4859.000000   \n",
       "mean                                  -488.665140   \n",
       "std                                     44.392714   \n",
       "min                                   -799.704969   \n",
       "25%                                   -500.704004   \n",
       "50%                                   -499.892919   \n",
       "75%                                   -498.652030   \n",
       "max                                   -383.373053   \n",
       "\n",
       "       secondary_cleaner.state.floatbank4_b_air  \\\n",
       "count                              4.859000e+03   \n",
       "mean                               1.557025e+01   \n",
       "std                                4.927361e+00   \n",
       "min                                2.489718e-17   \n",
       "25%                                1.202172e+01   \n",
       "50%                                1.501240e+01   \n",
       "75%                                1.999949e+01   \n",
       "max                                2.398898e+01   \n",
       "\n",
       "       secondary_cleaner.state.floatbank4_b_level  \\\n",
       "count                                 4859.000000   \n",
       "mean                                  -464.176507   \n",
       "std                                     65.706994   \n",
       "min                                   -799.860767   \n",
       "25%                                   -500.196517   \n",
       "50%                                   -499.540776   \n",
       "75%                                   -400.302329   \n",
       "max                                   -114.250832   \n",
       "\n",
       "       secondary_cleaner.state.floatbank5_a_air  \\\n",
       "count                               4859.000000   \n",
       "mean                                  16.594103   \n",
       "std                                    5.724305   \n",
       "min                                   -0.371498   \n",
       "25%                                   11.073822   \n",
       "50%                                   16.631195   \n",
       "75%                                   19.983191   \n",
       "max                                   33.215996   \n",
       "\n",
       "       secondary_cleaner.state.floatbank5_a_level  \\\n",
       "count                                 4859.000000   \n",
       "mean                                  -490.815250   \n",
       "std                                     32.258443   \n",
       "min                                   -797.142475   \n",
       "25%                                   -500.483564   \n",
       "50%                                   -499.873136   \n",
       "75%                                   -498.852815   \n",
       "max                                   -288.963521   \n",
       "\n",
       "       secondary_cleaner.state.floatbank5_b_air  \\\n",
       "count                               4859.000000   \n",
       "mean                                  12.945971   \n",
       "std                                    5.533176   \n",
       "min                                    1.358469   \n",
       "25%                                    9.011890   \n",
       "50%                                   11.999417   \n",
       "75%                                   15.004198   \n",
       "max                                   24.177106   \n",
       "\n",
       "       secondary_cleaner.state.floatbank5_b_level  \\\n",
       "count                                 4859.000000   \n",
       "mean                                  -489.583564   \n",
       "std                                     37.084609   \n",
       "min                                   -800.006180   \n",
       "25%                                   -500.129913   \n",
       "50%                                   -499.955304   \n",
       "75%                                   -499.643776   \n",
       "max                                   -141.934397   \n",
       "\n",
       "       secondary_cleaner.state.floatbank6_a_air  \\\n",
       "count                               4859.000000   \n",
       "mean                                  19.053888   \n",
       "std                                    5.548996   \n",
       "min                                    0.160386   \n",
       "25%                                   14.963953   \n",
       "50%                                   19.960006   \n",
       "75%                                   24.974583   \n",
       "max                                   32.028529   \n",
       "\n",
       "       secondary_cleaner.state.floatbank6_a_level  \n",
       "count                                 4859.000000  \n",
       "mean                                  -504.678924  \n",
       "std                                     38.690186  \n",
       "min                                   -809.734800  \n",
       "25%                                   -500.668501  \n",
       "50%                                   -500.033769  \n",
       "75%                                   -499.460134  \n",
       "max                                   -104.427459  \n",
       "\n",
       "[8 rows x 52 columns]"
      ]
     },
     "execution_count": 7,
     "metadata": {},
     "output_type": "execute_result"
    }
   ],
   "source": [
    "test.describe()"
   ]
  },
  {
   "cell_type": "code",
   "execution_count": 8,
   "metadata": {},
   "outputs": [
    {
     "data": {
      "text/html": [
       "<div>\n",
       "<style scoped>\n",
       "    .dataframe tbody tr th:only-of-type {\n",
       "        vertical-align: middle;\n",
       "    }\n",
       "\n",
       "    .dataframe tbody tr th {\n",
       "        vertical-align: top;\n",
       "    }\n",
       "\n",
       "    .dataframe thead th {\n",
       "        text-align: right;\n",
       "    }\n",
       "</style>\n",
       "<table border=\"1\" class=\"dataframe\">\n",
       "  <thead>\n",
       "    <tr style=\"text-align: right;\">\n",
       "      <th></th>\n",
       "      <th>rougher.input.feed_au</th>\n",
       "      <th>rougher.input.feed_ag</th>\n",
       "      <th>rougher.input.feed_pb</th>\n",
       "      <th>rougher.input.feed_sol</th>\n",
       "      <th>rougher.input.feed_rate</th>\n",
       "      <th>rougher.input.feed_size</th>\n",
       "      <th>rougher.input.floatbank10_sulfate</th>\n",
       "      <th>rougher.input.floatbank10_xanthate</th>\n",
       "      <th>rougher.state.floatbank10_a_air</th>\n",
       "      <th>rougher.state.floatbank10_a_level</th>\n",
       "      <th>...</th>\n",
       "      <th>secondary_cleaner.output.tail_sol</th>\n",
       "      <th>final.output.concentrate_au</th>\n",
       "      <th>final.output.concentrate_ag</th>\n",
       "      <th>final.output.concentrate_pb</th>\n",
       "      <th>final.output.concentrate_sol</th>\n",
       "      <th>final.output.recovery</th>\n",
       "      <th>final.output.tail_au</th>\n",
       "      <th>final.output.tail_ag</th>\n",
       "      <th>final.output.tail_pb</th>\n",
       "      <th>final.output.tail_sol</th>\n",
       "    </tr>\n",
       "    <tr>\n",
       "      <th>date</th>\n",
       "      <th></th>\n",
       "      <th></th>\n",
       "      <th></th>\n",
       "      <th></th>\n",
       "      <th></th>\n",
       "      <th></th>\n",
       "      <th></th>\n",
       "      <th></th>\n",
       "      <th></th>\n",
       "      <th></th>\n",
       "      <th></th>\n",
       "      <th></th>\n",
       "      <th></th>\n",
       "      <th></th>\n",
       "      <th></th>\n",
       "      <th></th>\n",
       "      <th></th>\n",
       "      <th></th>\n",
       "      <th></th>\n",
       "      <th></th>\n",
       "      <th></th>\n",
       "    </tr>\n",
       "  </thead>\n",
       "  <tbody>\n",
       "    <tr>\n",
       "      <th>2016-01-15 00:00:00</th>\n",
       "      <td>6.486150</td>\n",
       "      <td>6.100378</td>\n",
       "      <td>2.284912</td>\n",
       "      <td>36.808594</td>\n",
       "      <td>523.546326</td>\n",
       "      <td>55.486599</td>\n",
       "      <td>11.986616</td>\n",
       "      <td>6.007990</td>\n",
       "      <td>999.706909</td>\n",
       "      <td>-404.066986</td>\n",
       "      <td>...</td>\n",
       "      <td>8.764648</td>\n",
       "      <td>42.192020</td>\n",
       "      <td>6.055403</td>\n",
       "      <td>9.889648</td>\n",
       "      <td>5.507324</td>\n",
       "      <td>70.541216</td>\n",
       "      <td>2.143149</td>\n",
       "      <td>10.411962</td>\n",
       "      <td>0.895447</td>\n",
       "      <td>16.904297</td>\n",
       "    </tr>\n",
       "    <tr>\n",
       "      <th>2016-01-15 01:00:00</th>\n",
       "      <td>6.478583</td>\n",
       "      <td>6.161113</td>\n",
       "      <td>2.266033</td>\n",
       "      <td>35.753385</td>\n",
       "      <td>525.290581</td>\n",
       "      <td>57.278666</td>\n",
       "      <td>11.971193</td>\n",
       "      <td>6.005766</td>\n",
       "      <td>1000.286398</td>\n",
       "      <td>-400.065196</td>\n",
       "      <td>...</td>\n",
       "      <td>9.001494</td>\n",
       "      <td>42.701629</td>\n",
       "      <td>6.029369</td>\n",
       "      <td>9.968944</td>\n",
       "      <td>5.257781</td>\n",
       "      <td>69.266198</td>\n",
       "      <td>2.224930</td>\n",
       "      <td>10.462676</td>\n",
       "      <td>0.927452</td>\n",
       "      <td>16.634514</td>\n",
       "    </tr>\n",
       "    <tr>\n",
       "      <th>2016-01-15 02:00:00</th>\n",
       "      <td>6.362222</td>\n",
       "      <td>6.116455</td>\n",
       "      <td>2.159622</td>\n",
       "      <td>35.971630</td>\n",
       "      <td>530.026610</td>\n",
       "      <td>57.510649</td>\n",
       "      <td>11.920603</td>\n",
       "      <td>6.197377</td>\n",
       "      <td>999.719565</td>\n",
       "      <td>-400.074028</td>\n",
       "      <td>...</td>\n",
       "      <td>8.842896</td>\n",
       "      <td>42.657501</td>\n",
       "      <td>6.055926</td>\n",
       "      <td>10.213995</td>\n",
       "      <td>5.383759</td>\n",
       "      <td>68.116445</td>\n",
       "      <td>2.257889</td>\n",
       "      <td>10.507046</td>\n",
       "      <td>0.953716</td>\n",
       "      <td>16.208849</td>\n",
       "    </tr>\n",
       "    <tr>\n",
       "      <th>2016-01-15 03:00:00</th>\n",
       "      <td>6.118189</td>\n",
       "      <td>6.043309</td>\n",
       "      <td>2.037807</td>\n",
       "      <td>36.862241</td>\n",
       "      <td>542.590390</td>\n",
       "      <td>57.792734</td>\n",
       "      <td>11.630094</td>\n",
       "      <td>6.203177</td>\n",
       "      <td>999.814770</td>\n",
       "      <td>-400.200179</td>\n",
       "      <td>...</td>\n",
       "      <td>9.122857</td>\n",
       "      <td>42.689819</td>\n",
       "      <td>6.047977</td>\n",
       "      <td>9.977019</td>\n",
       "      <td>4.858634</td>\n",
       "      <td>68.347543</td>\n",
       "      <td>2.146849</td>\n",
       "      <td>10.422762</td>\n",
       "      <td>0.883763</td>\n",
       "      <td>16.532835</td>\n",
       "    </tr>\n",
       "    <tr>\n",
       "      <th>2016-01-15 04:00:00</th>\n",
       "      <td>5.663707</td>\n",
       "      <td>6.060915</td>\n",
       "      <td>1.786875</td>\n",
       "      <td>34.347666</td>\n",
       "      <td>540.531893</td>\n",
       "      <td>56.047189</td>\n",
       "      <td>10.957755</td>\n",
       "      <td>6.198826</td>\n",
       "      <td>999.678690</td>\n",
       "      <td>-399.752729</td>\n",
       "      <td>...</td>\n",
       "      <td>8.871028</td>\n",
       "      <td>42.774141</td>\n",
       "      <td>6.148599</td>\n",
       "      <td>10.142511</td>\n",
       "      <td>4.939416</td>\n",
       "      <td>66.927016</td>\n",
       "      <td>2.055292</td>\n",
       "      <td>10.360302</td>\n",
       "      <td>0.792826</td>\n",
       "      <td>16.525686</td>\n",
       "    </tr>\n",
       "  </tbody>\n",
       "</table>\n",
       "<p>5 rows × 86 columns</p>\n",
       "</div>"
      ],
      "text/plain": [
       "                     rougher.input.feed_au  rougher.input.feed_ag  \\\n",
       "date                                                                \n",
       "2016-01-15 00:00:00               6.486150               6.100378   \n",
       "2016-01-15 01:00:00               6.478583               6.161113   \n",
       "2016-01-15 02:00:00               6.362222               6.116455   \n",
       "2016-01-15 03:00:00               6.118189               6.043309   \n",
       "2016-01-15 04:00:00               5.663707               6.060915   \n",
       "\n",
       "                     rougher.input.feed_pb  rougher.input.feed_sol  \\\n",
       "date                                                                 \n",
       "2016-01-15 00:00:00               2.284912               36.808594   \n",
       "2016-01-15 01:00:00               2.266033               35.753385   \n",
       "2016-01-15 02:00:00               2.159622               35.971630   \n",
       "2016-01-15 03:00:00               2.037807               36.862241   \n",
       "2016-01-15 04:00:00               1.786875               34.347666   \n",
       "\n",
       "                     rougher.input.feed_rate  rougher.input.feed_size  \\\n",
       "date                                                                    \n",
       "2016-01-15 00:00:00               523.546326                55.486599   \n",
       "2016-01-15 01:00:00               525.290581                57.278666   \n",
       "2016-01-15 02:00:00               530.026610                57.510649   \n",
       "2016-01-15 03:00:00               542.590390                57.792734   \n",
       "2016-01-15 04:00:00               540.531893                56.047189   \n",
       "\n",
       "                     rougher.input.floatbank10_sulfate  \\\n",
       "date                                                     \n",
       "2016-01-15 00:00:00                          11.986616   \n",
       "2016-01-15 01:00:00                          11.971193   \n",
       "2016-01-15 02:00:00                          11.920603   \n",
       "2016-01-15 03:00:00                          11.630094   \n",
       "2016-01-15 04:00:00                          10.957755   \n",
       "\n",
       "                     rougher.input.floatbank10_xanthate  \\\n",
       "date                                                      \n",
       "2016-01-15 00:00:00                            6.007990   \n",
       "2016-01-15 01:00:00                            6.005766   \n",
       "2016-01-15 02:00:00                            6.197377   \n",
       "2016-01-15 03:00:00                            6.203177   \n",
       "2016-01-15 04:00:00                            6.198826   \n",
       "\n",
       "                     rougher.state.floatbank10_a_air  \\\n",
       "date                                                   \n",
       "2016-01-15 00:00:00                       999.706909   \n",
       "2016-01-15 01:00:00                      1000.286398   \n",
       "2016-01-15 02:00:00                       999.719565   \n",
       "2016-01-15 03:00:00                       999.814770   \n",
       "2016-01-15 04:00:00                       999.678690   \n",
       "\n",
       "                     rougher.state.floatbank10_a_level  ...  \\\n",
       "date                                                    ...   \n",
       "2016-01-15 00:00:00                        -404.066986  ...   \n",
       "2016-01-15 01:00:00                        -400.065196  ...   \n",
       "2016-01-15 02:00:00                        -400.074028  ...   \n",
       "2016-01-15 03:00:00                        -400.200179  ...   \n",
       "2016-01-15 04:00:00                        -399.752729  ...   \n",
       "\n",
       "                     secondary_cleaner.output.tail_sol  \\\n",
       "date                                                     \n",
       "2016-01-15 00:00:00                           8.764648   \n",
       "2016-01-15 01:00:00                           9.001494   \n",
       "2016-01-15 02:00:00                           8.842896   \n",
       "2016-01-15 03:00:00                           9.122857   \n",
       "2016-01-15 04:00:00                           8.871028   \n",
       "\n",
       "                     final.output.concentrate_au  final.output.concentrate_ag  \\\n",
       "date                                                                            \n",
       "2016-01-15 00:00:00                    42.192020                     6.055403   \n",
       "2016-01-15 01:00:00                    42.701629                     6.029369   \n",
       "2016-01-15 02:00:00                    42.657501                     6.055926   \n",
       "2016-01-15 03:00:00                    42.689819                     6.047977   \n",
       "2016-01-15 04:00:00                    42.774141                     6.148599   \n",
       "\n",
       "                     final.output.concentrate_pb  \\\n",
       "date                                               \n",
       "2016-01-15 00:00:00                     9.889648   \n",
       "2016-01-15 01:00:00                     9.968944   \n",
       "2016-01-15 02:00:00                    10.213995   \n",
       "2016-01-15 03:00:00                     9.977019   \n",
       "2016-01-15 04:00:00                    10.142511   \n",
       "\n",
       "                     final.output.concentrate_sol  final.output.recovery  \\\n",
       "date                                                                       \n",
       "2016-01-15 00:00:00                      5.507324              70.541216   \n",
       "2016-01-15 01:00:00                      5.257781              69.266198   \n",
       "2016-01-15 02:00:00                      5.383759              68.116445   \n",
       "2016-01-15 03:00:00                      4.858634              68.347543   \n",
       "2016-01-15 04:00:00                      4.939416              66.927016   \n",
       "\n",
       "                     final.output.tail_au  final.output.tail_ag  \\\n",
       "date                                                              \n",
       "2016-01-15 00:00:00              2.143149             10.411962   \n",
       "2016-01-15 01:00:00              2.224930             10.462676   \n",
       "2016-01-15 02:00:00              2.257889             10.507046   \n",
       "2016-01-15 03:00:00              2.146849             10.422762   \n",
       "2016-01-15 04:00:00              2.055292             10.360302   \n",
       "\n",
       "                     final.output.tail_pb  final.output.tail_sol  \n",
       "date                                                              \n",
       "2016-01-15 00:00:00              0.895447              16.904297  \n",
       "2016-01-15 01:00:00              0.927452              16.634514  \n",
       "2016-01-15 02:00:00              0.953716              16.208849  \n",
       "2016-01-15 03:00:00              0.883763              16.532835  \n",
       "2016-01-15 04:00:00              0.792826              16.525686  \n",
       "\n",
       "[5 rows x 86 columns]"
      ]
     },
     "execution_count": 8,
     "metadata": {},
     "output_type": "execute_result"
    }
   ],
   "source": [
    "try:\n",
    "    full_data = pd.read_csv('/datasets/gold_industry_full.csv', index_col=['date'])\n",
    "except:\n",
    "    full_data = pd.read_csv('/datasets/gold_industry_full.csv', \n",
    "                            index_col=['date'])\n",
    "\n",
    "full_data.head()"
   ]
  },
  {
   "cell_type": "code",
   "execution_count": 9,
   "metadata": {},
   "outputs": [
    {
     "name": "stdout",
     "output_type": "stream",
     "text": [
      "<class 'pandas.core.frame.DataFrame'>\n",
      "Index: 19439 entries, 2016-01-15 00:00:00 to 2018-08-18 10:59:59\n",
      "Data columns (total 86 columns):\n",
      " #   Column                                              Non-Null Count  Dtype  \n",
      "---  ------                                              --------------  -----  \n",
      " 0   rougher.input.feed_au                               19439 non-null  float64\n",
      " 1   rougher.input.feed_ag                               19439 non-null  float64\n",
      " 2   rougher.input.feed_pb                               19339 non-null  float64\n",
      " 3   rougher.input.feed_sol                              19340 non-null  float64\n",
      " 4   rougher.input.feed_rate                             19428 non-null  float64\n",
      " 5   rougher.input.feed_size                             19294 non-null  float64\n",
      " 6   rougher.input.floatbank10_sulfate                   19405 non-null  float64\n",
      " 7   rougher.input.floatbank10_xanthate                  19431 non-null  float64\n",
      " 8   rougher.state.floatbank10_a_air                     19438 non-null  float64\n",
      " 9   rougher.state.floatbank10_a_level                   19438 non-null  float64\n",
      " 10  rougher.state.floatbank10_b_air                     19438 non-null  float64\n",
      " 11  rougher.state.floatbank10_b_level                   19438 non-null  float64\n",
      " 12  rougher.state.floatbank10_c_air                     19438 non-null  float64\n",
      " 13  rougher.state.floatbank10_c_level                   19438 non-null  float64\n",
      " 14  rougher.state.floatbank10_d_air                     19439 non-null  float64\n",
      " 15  rougher.state.floatbank10_d_level                   19439 non-null  float64\n",
      " 16  rougher.state.floatbank10_e_air                     19003 non-null  float64\n",
      " 17  rougher.state.floatbank10_e_level                   19439 non-null  float64\n",
      " 18  rougher.state.floatbank10_f_air                     19439 non-null  float64\n",
      " 19  rougher.state.floatbank10_f_level                   19439 non-null  float64\n",
      " 20  rougher.input.floatbank11_sulfate                   19395 non-null  float64\n",
      " 21  rougher.input.floatbank11_xanthate                  18986 non-null  float64\n",
      " 22  rougher.calculation.sulfate_to_au_concentrate       19437 non-null  float64\n",
      " 23  rougher.calculation.floatbank10_sulfate_to_au_feed  19437 non-null  float64\n",
      " 24  rougher.calculation.floatbank11_sulfate_to_au_feed  19437 non-null  float64\n",
      " 25  rougher.calculation.au_pb_ratio                     19439 non-null  float64\n",
      " 26  rougher.output.concentrate_au                       19439 non-null  float64\n",
      " 27  rougher.output.concentrate_ag                       19439 non-null  float64\n",
      " 28  rougher.output.concentrate_pb                       19439 non-null  float64\n",
      " 29  rougher.output.concentrate_sol                      19416 non-null  float64\n",
      " 30  rougher.output.recovery                             19439 non-null  float64\n",
      " 31  rougher.output.tail_au                              19439 non-null  float64\n",
      " 32  rougher.output.tail_ag                              19438 non-null  float64\n",
      " 33  rougher.output.tail_pb                              19439 non-null  float64\n",
      " 34  rougher.output.tail_sol                             19439 non-null  float64\n",
      " 35  primary_cleaner.input.sulfate                       19415 non-null  float64\n",
      " 36  primary_cleaner.input.depressant                    19402 non-null  float64\n",
      " 37  primary_cleaner.input.feed_size                     19439 non-null  float64\n",
      " 38  primary_cleaner.input.xanthate                      19335 non-null  float64\n",
      " 39  primary_cleaner.state.floatbank8_a_air              19435 non-null  float64\n",
      " 40  primary_cleaner.state.floatbank8_a_level            19438 non-null  float64\n",
      " 41  primary_cleaner.state.floatbank8_b_air              19435 non-null  float64\n",
      " 42  primary_cleaner.state.floatbank8_b_level            19438 non-null  float64\n",
      " 43  primary_cleaner.state.floatbank8_c_air              19437 non-null  float64\n",
      " 44  primary_cleaner.state.floatbank8_c_level            19438 non-null  float64\n",
      " 45  primary_cleaner.state.floatbank8_d_air              19436 non-null  float64\n",
      " 46  primary_cleaner.state.floatbank8_d_level            19438 non-null  float64\n",
      " 47  primary_cleaner.output.concentrate_au               19439 non-null  float64\n",
      " 48  primary_cleaner.output.concentrate_ag               19439 non-null  float64\n",
      " 49  primary_cleaner.output.concentrate_pb               19323 non-null  float64\n",
      " 50  primary_cleaner.output.concentrate_sol              19069 non-null  float64\n",
      " 51  primary_cleaner.output.tail_au                      19439 non-null  float64\n",
      " 52  primary_cleaner.output.tail_ag                      19435 non-null  float64\n",
      " 53  primary_cleaner.output.tail_pb                      19418 non-null  float64\n",
      " 54  primary_cleaner.output.tail_sol                     19377 non-null  float64\n",
      " 55  secondary_cleaner.state.floatbank2_a_air            19219 non-null  float64\n",
      " 56  secondary_cleaner.state.floatbank2_a_level          19438 non-null  float64\n",
      " 57  secondary_cleaner.state.floatbank2_b_air            19416 non-null  float64\n",
      " 58  secondary_cleaner.state.floatbank2_b_level          19438 non-null  float64\n",
      " 59  secondary_cleaner.state.floatbank3_a_air            19426 non-null  float64\n",
      " 60  secondary_cleaner.state.floatbank3_a_level          19438 non-null  float64\n",
      " 61  secondary_cleaner.state.floatbank3_b_air            19438 non-null  float64\n",
      " 62  secondary_cleaner.state.floatbank3_b_level          19438 non-null  float64\n",
      " 63  secondary_cleaner.state.floatbank4_a_air            19433 non-null  float64\n",
      " 64  secondary_cleaner.state.floatbank4_a_level          19438 non-null  float64\n",
      " 65  secondary_cleaner.state.floatbank4_b_air            19438 non-null  float64\n",
      " 66  secondary_cleaner.state.floatbank4_b_level          19438 non-null  float64\n",
      " 67  secondary_cleaner.state.floatbank5_a_air            19438 non-null  float64\n",
      " 68  secondary_cleaner.state.floatbank5_a_level          19438 non-null  float64\n",
      " 69  secondary_cleaner.state.floatbank5_b_air            19438 non-null  float64\n",
      " 70  secondary_cleaner.state.floatbank5_b_level          19438 non-null  float64\n",
      " 71  secondary_cleaner.state.floatbank6_a_air            19437 non-null  float64\n",
      " 72  secondary_cleaner.state.floatbank6_a_level          19438 non-null  float64\n",
      " 73  secondary_cleaner.output.tail_au                    19439 non-null  float64\n",
      " 74  secondary_cleaner.output.tail_ag                    19437 non-null  float64\n",
      " 75  secondary_cleaner.output.tail_pb                    19427 non-null  float64\n",
      " 76  secondary_cleaner.output.tail_sol                   17691 non-null  float64\n",
      " 77  final.output.concentrate_au                         19439 non-null  float64\n",
      " 78  final.output.concentrate_ag                         19438 non-null  float64\n",
      " 79  final.output.concentrate_pb                         19438 non-null  float64\n",
      " 80  final.output.concentrate_sol                        19228 non-null  float64\n",
      " 81  final.output.recovery                               19439 non-null  float64\n",
      " 82  final.output.tail_au                                19439 non-null  float64\n",
      " 83  final.output.tail_ag                                19438 non-null  float64\n",
      " 84  final.output.tail_pb                                19338 non-null  float64\n",
      " 85  final.output.tail_sol                               19433 non-null  float64\n",
      "dtypes: float64(86)\n",
      "memory usage: 12.9+ MB\n"
     ]
    }
   ],
   "source": [
    "full_data.info()"
   ]
  },
  {
   "cell_type": "code",
   "execution_count": 10,
   "metadata": {},
   "outputs": [
    {
     "data": {
      "text/html": [
       "<div>\n",
       "<style scoped>\n",
       "    .dataframe tbody tr th:only-of-type {\n",
       "        vertical-align: middle;\n",
       "    }\n",
       "\n",
       "    .dataframe tbody tr th {\n",
       "        vertical-align: top;\n",
       "    }\n",
       "\n",
       "    .dataframe thead th {\n",
       "        text-align: right;\n",
       "    }\n",
       "</style>\n",
       "<table border=\"1\" class=\"dataframe\">\n",
       "  <thead>\n",
       "    <tr style=\"text-align: right;\">\n",
       "      <th></th>\n",
       "      <th>rougher.input.feed_au</th>\n",
       "      <th>rougher.input.feed_ag</th>\n",
       "      <th>rougher.input.feed_pb</th>\n",
       "      <th>rougher.input.feed_sol</th>\n",
       "      <th>rougher.input.feed_rate</th>\n",
       "      <th>rougher.input.feed_size</th>\n",
       "      <th>rougher.input.floatbank10_sulfate</th>\n",
       "      <th>rougher.input.floatbank10_xanthate</th>\n",
       "      <th>rougher.state.floatbank10_a_air</th>\n",
       "      <th>rougher.state.floatbank10_a_level</th>\n",
       "      <th>...</th>\n",
       "      <th>secondary_cleaner.output.tail_sol</th>\n",
       "      <th>final.output.concentrate_au</th>\n",
       "      <th>final.output.concentrate_ag</th>\n",
       "      <th>final.output.concentrate_pb</th>\n",
       "      <th>final.output.concentrate_sol</th>\n",
       "      <th>final.output.recovery</th>\n",
       "      <th>final.output.tail_au</th>\n",
       "      <th>final.output.tail_ag</th>\n",
       "      <th>final.output.tail_pb</th>\n",
       "      <th>final.output.tail_sol</th>\n",
       "    </tr>\n",
       "  </thead>\n",
       "  <tbody>\n",
       "    <tr>\n",
       "      <th>count</th>\n",
       "      <td>19439.000000</td>\n",
       "      <td>19439.000000</td>\n",
       "      <td>19339.000000</td>\n",
       "      <td>19340.000000</td>\n",
       "      <td>19428.000000</td>\n",
       "      <td>19294.000000</td>\n",
       "      <td>19405.000000</td>\n",
       "      <td>19431.000000</td>\n",
       "      <td>19438.000000</td>\n",
       "      <td>19438.000000</td>\n",
       "      <td>...</td>\n",
       "      <td>17691.000000</td>\n",
       "      <td>19439.000000</td>\n",
       "      <td>19438.000000</td>\n",
       "      <td>19438.000000</td>\n",
       "      <td>19228.000000</td>\n",
       "      <td>19439.000000</td>\n",
       "      <td>19439.000000</td>\n",
       "      <td>19438.000000</td>\n",
       "      <td>19338.000000</td>\n",
       "      <td>19433.000000</td>\n",
       "    </tr>\n",
       "    <tr>\n",
       "      <th>mean</th>\n",
       "      <td>8.266097</td>\n",
       "      <td>8.794927</td>\n",
       "      <td>3.598085</td>\n",
       "      <td>36.695114</td>\n",
       "      <td>478.320042</td>\n",
       "      <td>58.970310</td>\n",
       "      <td>12.334373</td>\n",
       "      <td>6.021474</td>\n",
       "      <td>1105.315068</td>\n",
       "      <td>-376.610690</td>\n",
       "      <td>...</td>\n",
       "      <td>7.167247</td>\n",
       "      <td>44.076513</td>\n",
       "      <td>5.168470</td>\n",
       "      <td>9.978895</td>\n",
       "      <td>9.501224</td>\n",
       "      <td>67.050208</td>\n",
       "      <td>3.042467</td>\n",
       "      <td>9.688589</td>\n",
       "      <td>2.705795</td>\n",
       "      <td>10.583728</td>\n",
       "    </tr>\n",
       "    <tr>\n",
       "      <th>std</th>\n",
       "      <td>1.955092</td>\n",
       "      <td>1.936847</td>\n",
       "      <td>1.049486</td>\n",
       "      <td>5.145445</td>\n",
       "      <td>105.373758</td>\n",
       "      <td>21.634478</td>\n",
       "      <td>3.427317</td>\n",
       "      <td>1.127263</td>\n",
       "      <td>160.826798</td>\n",
       "      <td>93.909667</td>\n",
       "      <td>...</td>\n",
       "      <td>3.916079</td>\n",
       "      <td>5.129784</td>\n",
       "      <td>1.372348</td>\n",
       "      <td>1.669240</td>\n",
       "      <td>2.787537</td>\n",
       "      <td>10.125840</td>\n",
       "      <td>0.922808</td>\n",
       "      <td>2.328642</td>\n",
       "      <td>0.949077</td>\n",
       "      <td>2.868782</td>\n",
       "    </tr>\n",
       "    <tr>\n",
       "      <th>min</th>\n",
       "      <td>0.010000</td>\n",
       "      <td>0.010000</td>\n",
       "      <td>0.010000</td>\n",
       "      <td>0.010000</td>\n",
       "      <td>0.002986</td>\n",
       "      <td>0.046369</td>\n",
       "      <td>0.001083</td>\n",
       "      <td>0.000568</td>\n",
       "      <td>-0.042069</td>\n",
       "      <td>-657.949759</td>\n",
       "      <td>...</td>\n",
       "      <td>0.000000</td>\n",
       "      <td>0.000000</td>\n",
       "      <td>0.000000</td>\n",
       "      <td>0.000000</td>\n",
       "      <td>0.000000</td>\n",
       "      <td>0.000000</td>\n",
       "      <td>0.000000</td>\n",
       "      <td>0.000000</td>\n",
       "      <td>0.000000</td>\n",
       "      <td>0.000000</td>\n",
       "    </tr>\n",
       "    <tr>\n",
       "      <th>25%</th>\n",
       "      <td>6.854384</td>\n",
       "      <td>7.237967</td>\n",
       "      <td>2.887280</td>\n",
       "      <td>34.207799</td>\n",
       "      <td>416.525453</td>\n",
       "      <td>47.435103</td>\n",
       "      <td>10.000362</td>\n",
       "      <td>5.398678</td>\n",
       "      <td>999.661867</td>\n",
       "      <td>-499.835165</td>\n",
       "      <td>...</td>\n",
       "      <td>3.845475</td>\n",
       "      <td>43.402215</td>\n",
       "      <td>4.251240</td>\n",
       "      <td>9.137262</td>\n",
       "      <td>7.722820</td>\n",
       "      <td>63.299712</td>\n",
       "      <td>2.461138</td>\n",
       "      <td>8.062878</td>\n",
       "      <td>2.040119</td>\n",
       "      <td>8.938947</td>\n",
       "    </tr>\n",
       "    <tr>\n",
       "      <th>50%</th>\n",
       "      <td>8.125839</td>\n",
       "      <td>8.593574</td>\n",
       "      <td>3.534895</td>\n",
       "      <td>37.202650</td>\n",
       "      <td>499.416120</td>\n",
       "      <td>54.610197</td>\n",
       "      <td>12.001174</td>\n",
       "      <td>6.008273</td>\n",
       "      <td>1001.072890</td>\n",
       "      <td>-300.263994</td>\n",
       "      <td>...</td>\n",
       "      <td>7.685827</td>\n",
       "      <td>45.011244</td>\n",
       "      <td>5.066094</td>\n",
       "      <td>10.102433</td>\n",
       "      <td>9.218961</td>\n",
       "      <td>68.172738</td>\n",
       "      <td>2.984909</td>\n",
       "      <td>9.743623</td>\n",
       "      <td>2.748730</td>\n",
       "      <td>10.622456</td>\n",
       "    </tr>\n",
       "    <tr>\n",
       "      <th>75%</th>\n",
       "      <td>9.769917</td>\n",
       "      <td>10.213771</td>\n",
       "      <td>4.244161</td>\n",
       "      <td>40.039133</td>\n",
       "      <td>550.172183</td>\n",
       "      <td>65.023044</td>\n",
       "      <td>14.716595</td>\n",
       "      <td>6.798051</td>\n",
       "      <td>1205.620588</td>\n",
       "      <td>-299.981998</td>\n",
       "      <td>...</td>\n",
       "      <td>10.411296</td>\n",
       "      <td>46.275313</td>\n",
       "      <td>5.895527</td>\n",
       "      <td>11.035769</td>\n",
       "      <td>10.947813</td>\n",
       "      <td>72.686642</td>\n",
       "      <td>3.571351</td>\n",
       "      <td>11.134294</td>\n",
       "      <td>3.333216</td>\n",
       "      <td>12.104271</td>\n",
       "    </tr>\n",
       "    <tr>\n",
       "      <th>max</th>\n",
       "      <td>13.731330</td>\n",
       "      <td>14.596026</td>\n",
       "      <td>7.142594</td>\n",
       "      <td>53.477742</td>\n",
       "      <td>717.508837</td>\n",
       "      <td>484.967466</td>\n",
       "      <td>36.118275</td>\n",
       "      <td>9.703448</td>\n",
       "      <td>1521.980372</td>\n",
       "      <td>-273.776101</td>\n",
       "      <td>...</td>\n",
       "      <td>26.000772</td>\n",
       "      <td>52.756638</td>\n",
       "      <td>16.001945</td>\n",
       "      <td>17.031899</td>\n",
       "      <td>19.615720</td>\n",
       "      <td>100.000000</td>\n",
       "      <td>8.245022</td>\n",
       "      <td>19.552149</td>\n",
       "      <td>5.804178</td>\n",
       "      <td>22.317730</td>\n",
       "    </tr>\n",
       "  </tbody>\n",
       "</table>\n",
       "<p>8 rows × 86 columns</p>\n",
       "</div>"
      ],
      "text/plain": [
       "       rougher.input.feed_au  rougher.input.feed_ag  rougher.input.feed_pb  \\\n",
       "count           19439.000000           19439.000000           19339.000000   \n",
       "mean                8.266097               8.794927               3.598085   \n",
       "std                 1.955092               1.936847               1.049486   \n",
       "min                 0.010000               0.010000               0.010000   \n",
       "25%                 6.854384               7.237967               2.887280   \n",
       "50%                 8.125839               8.593574               3.534895   \n",
       "75%                 9.769917              10.213771               4.244161   \n",
       "max                13.731330              14.596026               7.142594   \n",
       "\n",
       "       rougher.input.feed_sol  rougher.input.feed_rate  \\\n",
       "count            19340.000000             19428.000000   \n",
       "mean                36.695114               478.320042   \n",
       "std                  5.145445               105.373758   \n",
       "min                  0.010000                 0.002986   \n",
       "25%                 34.207799               416.525453   \n",
       "50%                 37.202650               499.416120   \n",
       "75%                 40.039133               550.172183   \n",
       "max                 53.477742               717.508837   \n",
       "\n",
       "       rougher.input.feed_size  rougher.input.floatbank10_sulfate  \\\n",
       "count             19294.000000                       19405.000000   \n",
       "mean                 58.970310                          12.334373   \n",
       "std                  21.634478                           3.427317   \n",
       "min                   0.046369                           0.001083   \n",
       "25%                  47.435103                          10.000362   \n",
       "50%                  54.610197                          12.001174   \n",
       "75%                  65.023044                          14.716595   \n",
       "max                 484.967466                          36.118275   \n",
       "\n",
       "       rougher.input.floatbank10_xanthate  rougher.state.floatbank10_a_air  \\\n",
       "count                        19431.000000                     19438.000000   \n",
       "mean                             6.021474                      1105.315068   \n",
       "std                              1.127263                       160.826798   \n",
       "min                              0.000568                        -0.042069   \n",
       "25%                              5.398678                       999.661867   \n",
       "50%                              6.008273                      1001.072890   \n",
       "75%                              6.798051                      1205.620588   \n",
       "max                              9.703448                      1521.980372   \n",
       "\n",
       "       rougher.state.floatbank10_a_level  ...  \\\n",
       "count                       19438.000000  ...   \n",
       "mean                         -376.610690  ...   \n",
       "std                            93.909667  ...   \n",
       "min                          -657.949759  ...   \n",
       "25%                          -499.835165  ...   \n",
       "50%                          -300.263994  ...   \n",
       "75%                          -299.981998  ...   \n",
       "max                          -273.776101  ...   \n",
       "\n",
       "       secondary_cleaner.output.tail_sol  final.output.concentrate_au  \\\n",
       "count                       17691.000000                 19439.000000   \n",
       "mean                            7.167247                    44.076513   \n",
       "std                             3.916079                     5.129784   \n",
       "min                             0.000000                     0.000000   \n",
       "25%                             3.845475                    43.402215   \n",
       "50%                             7.685827                    45.011244   \n",
       "75%                            10.411296                    46.275313   \n",
       "max                            26.000772                    52.756638   \n",
       "\n",
       "       final.output.concentrate_ag  final.output.concentrate_pb  \\\n",
       "count                 19438.000000                 19438.000000   \n",
       "mean                      5.168470                     9.978895   \n",
       "std                       1.372348                     1.669240   \n",
       "min                       0.000000                     0.000000   \n",
       "25%                       4.251240                     9.137262   \n",
       "50%                       5.066094                    10.102433   \n",
       "75%                       5.895527                    11.035769   \n",
       "max                      16.001945                    17.031899   \n",
       "\n",
       "       final.output.concentrate_sol  final.output.recovery  \\\n",
       "count                  19228.000000           19439.000000   \n",
       "mean                       9.501224              67.050208   \n",
       "std                        2.787537              10.125840   \n",
       "min                        0.000000               0.000000   \n",
       "25%                        7.722820              63.299712   \n",
       "50%                        9.218961              68.172738   \n",
       "75%                       10.947813              72.686642   \n",
       "max                       19.615720             100.000000   \n",
       "\n",
       "       final.output.tail_au  final.output.tail_ag  final.output.tail_pb  \\\n",
       "count          19439.000000          19438.000000          19338.000000   \n",
       "mean               3.042467              9.688589              2.705795   \n",
       "std                0.922808              2.328642              0.949077   \n",
       "min                0.000000              0.000000              0.000000   \n",
       "25%                2.461138              8.062878              2.040119   \n",
       "50%                2.984909              9.743623              2.748730   \n",
       "75%                3.571351             11.134294              3.333216   \n",
       "max                8.245022             19.552149              5.804178   \n",
       "\n",
       "       final.output.tail_sol  \n",
       "count           19433.000000  \n",
       "mean               10.583728  \n",
       "std                 2.868782  \n",
       "min                 0.000000  \n",
       "25%                 8.938947  \n",
       "50%                10.622456  \n",
       "75%                12.104271  \n",
       "max                22.317730  \n",
       "\n",
       "[8 rows x 86 columns]"
      ]
     },
     "execution_count": 10,
     "metadata": {},
     "output_type": "execute_result"
    }
   ],
   "source": [
    "full_data.describe()"
   ]
  },
  {
   "cell_type": "markdown",
   "metadata": {},
   "source": [
    "**Вывод:** В данных есть пропуски. Неверно указан тип даты во всех трех датафреймах. В тестовой выборке отсуствует примерно треть признаков."
   ]
  },
  {
   "cell_type": "markdown",
   "metadata": {},
   "source": [
    "### Эффективность обогащения"
   ]
  },
  {
   "cell_type": "markdown",
   "metadata": {},
   "source": [
    "Необходимо проверить правильно ли расчитана эффективность обогащения. Напишем функцию для этого расчета на основе формулы из инструкции.\n",
    "\n",
    "Переменные:\n",
    "* C — доля золота в концентрате после флотации/очистки;\n",
    "* F — доля золота в сырье/концентрате до флотации/очистки;\n",
    "* T — доля золота в отвальных хвостах после флотации/очистки."
   ]
  },
  {
   "cell_type": "code",
   "execution_count": 11,
   "metadata": {},
   "outputs": [],
   "source": [
    "# функция для вычисления\n",
    "def recovery(c, f, t):\n",
    "    a = c * (f - t)\n",
    "    b = f * (c - t)\n",
    "    recovery = ( a / b ) * 100\n",
    "    return recovery"
   ]
  },
  {
   "cell_type": "markdown",
   "metadata": {},
   "source": [
    "Вычислим эффективность на обучающей выборке для признака rougher.output.recovery. Найдем MAE между расчётами и значением признака"
   ]
  },
  {
   "cell_type": "code",
   "execution_count": 12,
   "metadata": {},
   "outputs": [],
   "source": [
    "# переменные\n",
    "c = train['rougher.output.concentrate_au']\n",
    "f = train['rougher.input.feed_au']\n",
    "t = train['rougher.output.tail_au']"
   ]
  },
  {
   "cell_type": "code",
   "execution_count": 13,
   "metadata": {},
   "outputs": [
    {
     "name": "stdout",
     "output_type": "stream",
     "text": [
      "МАЕ : 9.83758577644259e-15\n"
     ]
    }
   ],
   "source": [
    "recovery_values = recovery(c, f, t)\n",
    "\n",
    "print('МАЕ :', mean_absolute_error(train['rougher.output.recovery'], recovery_values))"
   ]
  },
  {
   "cell_type": "markdown",
   "metadata": {},
   "source": [
    "**Вывод:** Значение МАЕ близко к нулю, следовательно, показатели практически идентичны. Эффективность обогащения расчитана правильно."
   ]
  },
  {
   "cell_type": "markdown",
   "metadata": {},
   "source": [
    "### Признаки"
   ]
  },
  {
   "cell_type": "markdown",
   "metadata": {},
   "source": [
    "Проанализируем признаки, недоступные в тестовой выборке."
   ]
  },
  {
   "cell_type": "code",
   "execution_count": 14,
   "metadata": {},
   "outputs": [
    {
     "name": "stdout",
     "output_type": "stream",
     "text": [
      "<class 'pandas.core.frame.DataFrame'>\n",
      "Index: 14579 entries, 2016-01-15 00:00:00 to 2017-12-09 13:59:59\n",
      "Data columns (total 34 columns):\n",
      " #   Column                                              Non-Null Count  Dtype  \n",
      "---  ------                                              --------------  -----  \n",
      " 0   rougher.calculation.sulfate_to_au_concentrate       14578 non-null  float64\n",
      " 1   rougher.calculation.floatbank10_sulfate_to_au_feed  14578 non-null  float64\n",
      " 2   rougher.calculation.floatbank11_sulfate_to_au_feed  14578 non-null  float64\n",
      " 3   rougher.calculation.au_pb_ratio                     14579 non-null  float64\n",
      " 4   rougher.output.concentrate_au                       14579 non-null  float64\n",
      " 5   rougher.output.concentrate_ag                       14579 non-null  float64\n",
      " 6   rougher.output.concentrate_pb                       14579 non-null  float64\n",
      " 7   rougher.output.concentrate_sol                      14561 non-null  float64\n",
      " 8   rougher.output.recovery                             14579 non-null  float64\n",
      " 9   rougher.output.tail_au                              14579 non-null  float64\n",
      " 10  rougher.output.tail_ag                              14578 non-null  float64\n",
      " 11  rougher.output.tail_pb                              14579 non-null  float64\n",
      " 12  rougher.output.tail_sol                             14579 non-null  float64\n",
      " 13  primary_cleaner.output.concentrate_au               14579 non-null  float64\n",
      " 14  primary_cleaner.output.concentrate_ag               14579 non-null  float64\n",
      " 15  primary_cleaner.output.concentrate_pb               14491 non-null  float64\n",
      " 16  primary_cleaner.output.concentrate_sol              14314 non-null  float64\n",
      " 17  primary_cleaner.output.tail_au                      14579 non-null  float64\n",
      " 18  primary_cleaner.output.tail_ag                      14575 non-null  float64\n",
      " 19  primary_cleaner.output.tail_pb                      14573 non-null  float64\n",
      " 20  primary_cleaner.output.tail_sol                     14534 non-null  float64\n",
      " 21  secondary_cleaner.output.tail_au                    14579 non-null  float64\n",
      " 22  secondary_cleaner.output.tail_ag                    14578 non-null  float64\n",
      " 23  secondary_cleaner.output.tail_pb                    14575 non-null  float64\n",
      " 24  secondary_cleaner.output.tail_sol                   13659 non-null  float64\n",
      " 25  final.output.concentrate_au                         14579 non-null  float64\n",
      " 26  final.output.concentrate_ag                         14578 non-null  float64\n",
      " 27  final.output.concentrate_pb                         14578 non-null  float64\n",
      " 28  final.output.concentrate_sol                        14387 non-null  float64\n",
      " 29  final.output.recovery                               14579 non-null  float64\n",
      " 30  final.output.tail_au                                14579 non-null  float64\n",
      " 31  final.output.tail_ag                                14578 non-null  float64\n",
      " 32  final.output.tail_pb                                14504 non-null  float64\n",
      " 33  final.output.tail_sol                               14574 non-null  float64\n",
      "dtypes: float64(34)\n",
      "memory usage: 4.4+ MB\n"
     ]
    }
   ],
   "source": [
    "train[train.columns.difference(test.columns, False)].info()"
   ]
  },
  {
   "cell_type": "markdown",
   "metadata": {},
   "source": [
    "**Вывод:** В тестовой выборке отсуствует 34 признака. В основном это расчетные характеристики и параметры продукта на разных стадиях. Видимо, это те некоторые параметры, которые еще недоступны. Также отсутствует целевой признак."
   ]
  },
  {
   "cell_type": "markdown",
   "metadata": {},
   "source": [
    "### Предобработка данных"
   ]
  },
  {
   "cell_type": "markdown",
   "metadata": {},
   "source": [
    "* Добавим целевой признак в тестовую выборку\n",
    "* Удалим не нужные признаки из обучающей выборки\n",
    "* Посмотрим на дубликаты\n",
    "* Рассмотрим пропуски в датафреймах"
   ]
  },
  {
   "cell_type": "code",
   "execution_count": 15,
   "metadata": {
    "scrolled": true
   },
   "outputs": [
    {
     "name": "stdout",
     "output_type": "stream",
     "text": [
      "<class 'pandas.core.frame.DataFrame'>\n",
      "Index: 4860 entries, 2017-12-09 14:59:59 to 2018-08-18 10:59:59\n",
      "Data columns (total 54 columns):\n",
      " #   Column                                      Non-Null Count  Dtype  \n",
      "---  ------                                      --------------  -----  \n",
      " 0   rougher.input.feed_au                       4860 non-null   float64\n",
      " 1   rougher.input.feed_ag                       4860 non-null   float64\n",
      " 2   rougher.input.feed_pb                       4832 non-null   float64\n",
      " 3   rougher.input.feed_sol                      4838 non-null   float64\n",
      " 4   rougher.input.feed_rate                     4856 non-null   float64\n",
      " 5   rougher.input.feed_size                     4816 non-null   float64\n",
      " 6   rougher.input.floatbank10_sulfate           4857 non-null   float64\n",
      " 7   rougher.input.floatbank10_xanthate          4859 non-null   float64\n",
      " 8   rougher.state.floatbank10_a_air             4859 non-null   float64\n",
      " 9   rougher.state.floatbank10_a_level           4859 non-null   float64\n",
      " 10  rougher.state.floatbank10_b_air             4859 non-null   float64\n",
      " 11  rougher.state.floatbank10_b_level           4859 non-null   float64\n",
      " 12  rougher.state.floatbank10_c_air             4859 non-null   float64\n",
      " 13  rougher.state.floatbank10_c_level           4859 non-null   float64\n",
      " 14  rougher.state.floatbank10_d_air             4860 non-null   float64\n",
      " 15  rougher.state.floatbank10_d_level           4860 non-null   float64\n",
      " 16  rougher.state.floatbank10_e_air             4853 non-null   float64\n",
      " 17  rougher.state.floatbank10_e_level           4860 non-null   float64\n",
      " 18  rougher.state.floatbank10_f_air             4860 non-null   float64\n",
      " 19  rougher.state.floatbank10_f_level           4860 non-null   float64\n",
      " 20  rougher.input.floatbank11_sulfate           4852 non-null   float64\n",
      " 21  rougher.input.floatbank11_xanthate          4814 non-null   float64\n",
      " 22  primary_cleaner.input.sulfate               4859 non-null   float64\n",
      " 23  primary_cleaner.input.depressant            4851 non-null   float64\n",
      " 24  primary_cleaner.input.feed_size             4860 non-null   float64\n",
      " 25  primary_cleaner.input.xanthate              4817 non-null   float64\n",
      " 26  primary_cleaner.state.floatbank8_a_air      4859 non-null   float64\n",
      " 27  primary_cleaner.state.floatbank8_a_level    4859 non-null   float64\n",
      " 28  primary_cleaner.state.floatbank8_b_air      4859 non-null   float64\n",
      " 29  primary_cleaner.state.floatbank8_b_level    4859 non-null   float64\n",
      " 30  primary_cleaner.state.floatbank8_c_air      4858 non-null   float64\n",
      " 31  primary_cleaner.state.floatbank8_c_level    4859 non-null   float64\n",
      " 32  primary_cleaner.state.floatbank8_d_air      4858 non-null   float64\n",
      " 33  primary_cleaner.state.floatbank8_d_level    4859 non-null   float64\n",
      " 34  secondary_cleaner.state.floatbank2_a_air    4734 non-null   float64\n",
      " 35  secondary_cleaner.state.floatbank2_a_level  4859 non-null   float64\n",
      " 36  secondary_cleaner.state.floatbank2_b_air    4859 non-null   float64\n",
      " 37  secondary_cleaner.state.floatbank2_b_level  4859 non-null   float64\n",
      " 38  secondary_cleaner.state.floatbank3_a_air    4859 non-null   float64\n",
      " 39  secondary_cleaner.state.floatbank3_a_level  4859 non-null   float64\n",
      " 40  secondary_cleaner.state.floatbank3_b_air    4859 non-null   float64\n",
      " 41  secondary_cleaner.state.floatbank3_b_level  4859 non-null   float64\n",
      " 42  secondary_cleaner.state.floatbank4_a_air    4859 non-null   float64\n",
      " 43  secondary_cleaner.state.floatbank4_a_level  4859 non-null   float64\n",
      " 44  secondary_cleaner.state.floatbank4_b_air    4859 non-null   float64\n",
      " 45  secondary_cleaner.state.floatbank4_b_level  4859 non-null   float64\n",
      " 46  secondary_cleaner.state.floatbank5_a_air    4859 non-null   float64\n",
      " 47  secondary_cleaner.state.floatbank5_a_level  4859 non-null   float64\n",
      " 48  secondary_cleaner.state.floatbank5_b_air    4859 non-null   float64\n",
      " 49  secondary_cleaner.state.floatbank5_b_level  4859 non-null   float64\n",
      " 50  secondary_cleaner.state.floatbank6_a_air    4859 non-null   float64\n",
      " 51  secondary_cleaner.state.floatbank6_a_level  4859 non-null   float64\n",
      " 52  rougher.output.recovery                     4860 non-null   float64\n",
      " 53  final.output.recovery                       4860 non-null   float64\n",
      "dtypes: float64(54)\n",
      "memory usage: 2.0+ MB\n"
     ]
    }
   ],
   "source": [
    "# добавим целевой признак в test\n",
    "test['rougher.output.recovery'] = full_data['rougher.output.recovery']\n",
    "test['final.output.recovery'] = full_data['final.output.recovery']\n",
    "test.info()"
   ]
  },
  {
   "cell_type": "code",
   "execution_count": 16,
   "metadata": {},
   "outputs": [
    {
     "name": "stdout",
     "output_type": "stream",
     "text": [
      "Размер обучающей выборки : (14579, 54)\n",
      "Размер тестовой выборки : (4860, 54)\n"
     ]
    }
   ],
   "source": [
    "# удалим из train ненужные признаки\n",
    "train = train[test.columns]\n",
    "\n",
    "print('Размер обучающей выборки :', train.shape)\n",
    "print('Размер тестовой выборки :', test.shape)"
   ]
  },
  {
   "cell_type": "code",
   "execution_count": 17,
   "metadata": {},
   "outputs": [
    {
     "data": {
      "text/plain": [
       "0"
      ]
     },
     "execution_count": 17,
     "metadata": {},
     "output_type": "execute_result"
    }
   ],
   "source": [
    "# проверим дубликаты\n",
    "train.duplicated().sum()"
   ]
  },
  {
   "cell_type": "code",
   "execution_count": 18,
   "metadata": {},
   "outputs": [
    {
     "data": {
      "text/plain": [
       "0"
      ]
     },
     "execution_count": 18,
     "metadata": {},
     "output_type": "execute_result"
    }
   ],
   "source": [
    "test.duplicated().sum()"
   ]
  },
  {
   "cell_type": "code",
   "execution_count": 19,
   "metadata": {},
   "outputs": [
    {
     "data": {
      "text/plain": [
       "0"
      ]
     },
     "execution_count": 19,
     "metadata": {},
     "output_type": "execute_result"
    }
   ],
   "source": [
    "full_data.duplicated().sum()"
   ]
  },
  {
   "cell_type": "markdown",
   "metadata": {},
   "source": [
    "Дубликатов в датафрейах нет. Посмотрим как дела с пропусками. "
   ]
  },
  {
   "cell_type": "code",
   "execution_count": 20,
   "metadata": {},
   "outputs": [
    {
     "name": "stdout",
     "output_type": "stream",
     "text": [
      "Пропуски в обучаюей выборке : 1420\n",
      "Пропуски в тестовой выборке : 375\n",
      "Пропуски в исходном датасете : 4481\n"
     ]
    }
   ],
   "source": [
    "print('Пропуски в обучаюей выборке :', train.isna().sum().sum())\n",
    "print('Пропуски в тестовой выборке :', test.isna().sum().sum())\n",
    "print('Пропуски в исходном датасете :', full_data.isna().sum().sum())"
   ]
  },
  {
   "cell_type": "code",
   "execution_count": 21,
   "metadata": {},
   "outputs": [
    {
     "data": {
      "text/plain": [
       "rougher.input.feed_au                           0\n",
       "rougher.input.feed_ag                           0\n",
       "rougher.input.feed_pb                          72\n",
       "rougher.input.feed_sol                         77\n",
       "rougher.input.feed_rate                         7\n",
       "rougher.input.feed_size                       101\n",
       "rougher.input.floatbank10_sulfate              31\n",
       "rougher.input.floatbank10_xanthate              7\n",
       "rougher.state.floatbank10_a_air                 0\n",
       "rougher.state.floatbank10_a_level               0\n",
       "rougher.state.floatbank10_b_air                 0\n",
       "rougher.state.floatbank10_b_level               0\n",
       "rougher.state.floatbank10_c_air                 0\n",
       "rougher.state.floatbank10_c_level               0\n",
       "rougher.state.floatbank10_d_air                 0\n",
       "rougher.state.floatbank10_d_level               0\n",
       "rougher.state.floatbank10_e_air               429\n",
       "rougher.state.floatbank10_e_level               0\n",
       "rougher.state.floatbank10_f_air                 0\n",
       "rougher.state.floatbank10_f_level               0\n",
       "rougher.input.floatbank11_sulfate              36\n",
       "rougher.input.floatbank11_xanthate            407\n",
       "primary_cleaner.input.sulfate                  23\n",
       "primary_cleaner.input.depressant               28\n",
       "primary_cleaner.input.feed_size                 0\n",
       "primary_cleaner.input.xanthate                 61\n",
       "primary_cleaner.state.floatbank8_a_air          3\n",
       "primary_cleaner.state.floatbank8_a_level        0\n",
       "primary_cleaner.state.floatbank8_b_air          3\n",
       "primary_cleaner.state.floatbank8_b_level        0\n",
       "primary_cleaner.state.floatbank8_c_air          0\n",
       "primary_cleaner.state.floatbank8_c_level        0\n",
       "primary_cleaner.state.floatbank8_d_air          1\n",
       "primary_cleaner.state.floatbank8_d_level        0\n",
       "secondary_cleaner.state.floatbank2_a_air       94\n",
       "secondary_cleaner.state.floatbank2_a_level      0\n",
       "secondary_cleaner.state.floatbank2_b_air       22\n",
       "secondary_cleaner.state.floatbank2_b_level      0\n",
       "secondary_cleaner.state.floatbank3_a_air       12\n",
       "secondary_cleaner.state.floatbank3_a_level      0\n",
       "secondary_cleaner.state.floatbank3_b_air        0\n",
       "secondary_cleaner.state.floatbank3_b_level      0\n",
       "secondary_cleaner.state.floatbank4_a_air        5\n",
       "secondary_cleaner.state.floatbank4_a_level      0\n",
       "secondary_cleaner.state.floatbank4_b_air        0\n",
       "secondary_cleaner.state.floatbank4_b_level      0\n",
       "secondary_cleaner.state.floatbank5_a_air        0\n",
       "secondary_cleaner.state.floatbank5_a_level      0\n",
       "secondary_cleaner.state.floatbank5_b_air        0\n",
       "secondary_cleaner.state.floatbank5_b_level      0\n",
       "secondary_cleaner.state.floatbank6_a_air        1\n",
       "secondary_cleaner.state.floatbank6_a_level      0\n",
       "rougher.output.recovery                         0\n",
       "final.output.recovery                           0\n",
       "dtype: int64"
      ]
     },
     "execution_count": 21,
     "metadata": {},
     "output_type": "execute_result"
    }
   ],
   "source": [
    "train.isna().sum()"
   ]
  },
  {
   "cell_type": "code",
   "execution_count": 22,
   "metadata": {},
   "outputs": [
    {
     "data": {
      "text/plain": [
       "rougher.input.feed_au                           0\n",
       "rougher.input.feed_ag                           0\n",
       "rougher.input.feed_pb                          28\n",
       "rougher.input.feed_sol                         22\n",
       "rougher.input.feed_rate                         4\n",
       "rougher.input.feed_size                        44\n",
       "rougher.input.floatbank10_sulfate               3\n",
       "rougher.input.floatbank10_xanthate              1\n",
       "rougher.state.floatbank10_a_air                 1\n",
       "rougher.state.floatbank10_a_level               1\n",
       "rougher.state.floatbank10_b_air                 1\n",
       "rougher.state.floatbank10_b_level               1\n",
       "rougher.state.floatbank10_c_air                 1\n",
       "rougher.state.floatbank10_c_level               1\n",
       "rougher.state.floatbank10_d_air                 0\n",
       "rougher.state.floatbank10_d_level               0\n",
       "rougher.state.floatbank10_e_air                 7\n",
       "rougher.state.floatbank10_e_level               0\n",
       "rougher.state.floatbank10_f_air                 0\n",
       "rougher.state.floatbank10_f_level               0\n",
       "rougher.input.floatbank11_sulfate               8\n",
       "rougher.input.floatbank11_xanthate             46\n",
       "primary_cleaner.input.sulfate                   1\n",
       "primary_cleaner.input.depressant                9\n",
       "primary_cleaner.input.feed_size                 0\n",
       "primary_cleaner.input.xanthate                 43\n",
       "primary_cleaner.state.floatbank8_a_air          1\n",
       "primary_cleaner.state.floatbank8_a_level        1\n",
       "primary_cleaner.state.floatbank8_b_air          1\n",
       "primary_cleaner.state.floatbank8_b_level        1\n",
       "primary_cleaner.state.floatbank8_c_air          2\n",
       "primary_cleaner.state.floatbank8_c_level        1\n",
       "primary_cleaner.state.floatbank8_d_air          2\n",
       "primary_cleaner.state.floatbank8_d_level        1\n",
       "secondary_cleaner.state.floatbank2_a_air      126\n",
       "secondary_cleaner.state.floatbank2_a_level      1\n",
       "secondary_cleaner.state.floatbank2_b_air        1\n",
       "secondary_cleaner.state.floatbank2_b_level      1\n",
       "secondary_cleaner.state.floatbank3_a_air        1\n",
       "secondary_cleaner.state.floatbank3_a_level      1\n",
       "secondary_cleaner.state.floatbank3_b_air        1\n",
       "secondary_cleaner.state.floatbank3_b_level      1\n",
       "secondary_cleaner.state.floatbank4_a_air        1\n",
       "secondary_cleaner.state.floatbank4_a_level      1\n",
       "secondary_cleaner.state.floatbank4_b_air        1\n",
       "secondary_cleaner.state.floatbank4_b_level      1\n",
       "secondary_cleaner.state.floatbank5_a_air        1\n",
       "secondary_cleaner.state.floatbank5_a_level      1\n",
       "secondary_cleaner.state.floatbank5_b_air        1\n",
       "secondary_cleaner.state.floatbank5_b_level      1\n",
       "secondary_cleaner.state.floatbank6_a_air        1\n",
       "secondary_cleaner.state.floatbank6_a_level      1\n",
       "rougher.output.recovery                         0\n",
       "final.output.recovery                           0\n",
       "dtype: int64"
      ]
     },
     "execution_count": 22,
     "metadata": {},
     "output_type": "execute_result"
    }
   ],
   "source": [
    "test.isna().sum()"
   ]
  },
  {
   "cell_type": "code",
   "execution_count": 23,
   "metadata": {},
   "outputs": [
    {
     "data": {
      "text/plain": [
       "rougher.input.feed_au        0\n",
       "rougher.input.feed_ag        0\n",
       "rougher.input.feed_pb      100\n",
       "rougher.input.feed_sol      99\n",
       "rougher.input.feed_rate     11\n",
       "                          ... \n",
       "final.output.recovery        0\n",
       "final.output.tail_au         0\n",
       "final.output.tail_ag         1\n",
       "final.output.tail_pb       101\n",
       "final.output.tail_sol        6\n",
       "Length: 86, dtype: int64"
      ]
     },
     "execution_count": 23,
     "metadata": {},
     "output_type": "execute_result"
    }
   ],
   "source": [
    "full_data.isna().sum()"
   ]
  },
  {
   "cell_type": "markdown",
   "metadata": {},
   "source": [
    "Так как известно, что соседние по времени значения часто похожи, заменим пропуски на предыдущее непустое значение."
   ]
  },
  {
   "cell_type": "code",
   "execution_count": 24,
   "metadata": {},
   "outputs": [],
   "source": [
    "train = train.fillna(method='ffill')\n",
    "test = test.fillna(method='ffill')\n",
    "full_data = full_data.fillna(method='ffill')"
   ]
  },
  {
   "cell_type": "code",
   "execution_count": 25,
   "metadata": {},
   "outputs": [
    {
     "name": "stdout",
     "output_type": "stream",
     "text": [
      "Пропуски в обучаюей выборке : 0\n",
      "Пропуски в тестовой выборке : 0\n",
      "Пропуски в исходном датасете : 0\n"
     ]
    }
   ],
   "source": [
    "print('Пропуски в обучаюей выборке :', train.isna().sum().sum())\n",
    "print('Пропуски в тестовой выборке :', test.isna().sum().sum())\n",
    "print('Пропуски в исходном датасете :', full_data.isna().sum().sum())"
   ]
  },
  {
   "cell_type": "markdown",
   "metadata": {},
   "source": [
    "**Вывод:** Убрали не нужные признаки и добавили целевой признак, где это было необходимо. Проверили на наличие дубликатов и заполнили пропуски. Данные готовы к обучению."
   ]
  },
  {
   "cell_type": "markdown",
   "metadata": {},
   "source": [
    "## Анализ данных"
   ]
  },
  {
   "cell_type": "markdown",
   "metadata": {},
   "source": [
    "### Изменение концентрации металлов"
   ]
  },
  {
   "cell_type": "markdown",
   "metadata": {},
   "source": [
    "Посмотрим, как меняется концентрация металлов (Au, Ag, Pb) на различных этапах: \n",
    "- в сырье (rougher.input.feed_)\n",
    "- в черновом концентрате (rougher.output.concentrate_)\n",
    "- в концентрате после первой очистки (primary_cleaner.output.concentrate_)\n",
    "- в финальном концентрате (final.output.concentrate_)"
   ]
  },
  {
   "cell_type": "code",
   "execution_count": 26,
   "metadata": {},
   "outputs": [
    {
     "data": {
      "image/png": "[encoded data removed]",
      "text/plain": [
       "<Figure size 1000x500 with 1 Axes>"
      ]
     },
     "metadata": {},
     "output_type": "display_data"
    }
   ],
   "source": [
    "# золото\n",
    "plt.figure(figsize=(10, 5))\n",
    "sns.histplot(full_data['rougher.input.feed_au'], \n",
    "             label='Сырье', kde=True, stat=\"density\", \n",
    "             linewidth=0, color='grey')\n",
    "sns.histplot(full_data['rougher.output.concentrate_au'], \n",
    "             label='Черновой концентрат', kde=True, stat=\"density\", linewidth=0)\n",
    "sns.histplot(full_data['primary_cleaner.output.concentrate_au'], \n",
    "             label='После первой очистки', kde=True, stat=\"density\", \n",
    "             linewidth=0, color='orange')\n",
    "sns.histplot(full_data['final.output.concentrate_au'], \n",
    "             label='Финальный концентрат', kde=True, stat=\"density\", \n",
    "             linewidth=0, color='green')\n",
    "plt.title('Концентрация золота на различных этапах')\n",
    "plt.legend()\n",
    "plt.show();"
   ]
  },
  {
   "cell_type": "code",
   "execution_count": 27,
   "metadata": {},
   "outputs": [
    {
     "data": {
      "image/png": "[encoded data removed]",
      "text/plain": [
       "<Figure size 1000x500 with 1 Axes>"
      ]
     },
     "metadata": {},
     "output_type": "display_data"
    }
   ],
   "source": [
    "# серебро\n",
    "plt.figure(figsize=(10, 5))\n",
    "sns.histplot(full_data['rougher.input.feed_ag'], \n",
    "             label='Сырье', kde=True, stat=\"density\", \n",
    "             linewidth=0, color='grey')\n",
    "sns.histplot(full_data['rougher.output.concentrate_ag'], \n",
    "             label='Черновой концентрат', kde=True, stat=\"density\", linewidth=0)\n",
    "sns.histplot(full_data['primary_cleaner.output.concentrate_ag'], \n",
    "             label='После первой очистки', kde=True, stat=\"density\", \n",
    "             linewidth=0, color='orange')\n",
    "sns.histplot(full_data['final.output.concentrate_ag'], \n",
    "             label='Финальный концентрат', kde=True, stat=\"density\", \n",
    "             linewidth=0, color='green')\n",
    "plt.title('Концентрация серебра на различных этапах')\n",
    "plt.legend()\n",
    "plt.show();"
   ]
  },
  {
   "cell_type": "code",
   "execution_count": 28,
   "metadata": {},
   "outputs": [
    {
     "data": {
      "image/png": "[encoded data removed]",
      "text/plain": [
       "<Figure size 1000x500 with 1 Axes>"
      ]
     },
     "metadata": {},
     "output_type": "display_data"
    }
   ],
   "source": [
    "# свинец\n",
    "plt.figure(figsize=(10, 5))\n",
    "sns.histplot(full_data['rougher.input.feed_pb'], \n",
    "             label='Сырье', kde=True, stat=\"density\", \n",
    "             linewidth=0, color='grey')\n",
    "sns.histplot(full_data['rougher.output.concentrate_pb'], \n",
    "             label='Черновой концентрат', kde=True, stat=\"density\", linewidth=0)\n",
    "sns.histplot(full_data['primary_cleaner.output.concentrate_pb'], \n",
    "             label='После первой очистки', kde=True, stat=\"density\", \n",
    "             linewidth=0, color='orange')\n",
    "sns.histplot(full_data['final.output.concentrate_pb'], \n",
    "             label='Финальный концентрат', kde=True, stat=\"density\", \n",
    "             linewidth=0, color='green')\n",
    "plt.title('Концентрация свинца на различных этапах')\n",
    "plt.legend()\n",
    "plt.show();"
   ]
  },
  {
   "cell_type": "markdown",
   "metadata": {},
   "source": [
    "**Вывод:** Концентрация золота постепенно возрастает на каждом этапе очистки. У серебра и свинца картина другая. Концентрация свинца на финальном этапе очистки не сильно отличается от значения на предыдущем этапе, а концентрация серебра на финальной стадии меньше сырья. На графиках заметно незначительное количество выбросов в районе нуля. "
   ]
  },
  {
   "cell_type": "code",
   "execution_count": 29,
   "metadata": {},
   "outputs": [
    {
     "name": "stdout",
     "output_type": "stream",
     "text": [
      "Процент удаленных данных : 3.07%\n",
      "<class 'pandas.core.frame.DataFrame'>\n",
      "Index: 18842 entries, 2016-01-15 00:00:00 to 2018-08-18 10:59:59\n",
      "Data columns (total 86 columns):\n",
      " #   Column                                              Non-Null Count  Dtype  \n",
      "---  ------                                              --------------  -----  \n",
      " 0   rougher.input.feed_au                               18842 non-null  float64\n",
      " 1   rougher.input.feed_ag                               18842 non-null  float64\n",
      " 2   rougher.input.feed_pb                               18842 non-null  float64\n",
      " 3   rougher.input.feed_sol                              18842 non-null  float64\n",
      " 4   rougher.input.feed_rate                             18842 non-null  float64\n",
      " 5   rougher.input.feed_size                             18842 non-null  float64\n",
      " 6   rougher.input.floatbank10_sulfate                   18842 non-null  float64\n",
      " 7   rougher.input.floatbank10_xanthate                  18842 non-null  float64\n",
      " 8   rougher.state.floatbank10_a_air                     18842 non-null  float64\n",
      " 9   rougher.state.floatbank10_a_level                   18842 non-null  float64\n",
      " 10  rougher.state.floatbank10_b_air                     18842 non-null  float64\n",
      " 11  rougher.state.floatbank10_b_level                   18842 non-null  float64\n",
      " 12  rougher.state.floatbank10_c_air                     18842 non-null  float64\n",
      " 13  rougher.state.floatbank10_c_level                   18842 non-null  float64\n",
      " 14  rougher.state.floatbank10_d_air                     18842 non-null  float64\n",
      " 15  rougher.state.floatbank10_d_level                   18842 non-null  float64\n",
      " 16  rougher.state.floatbank10_e_air                     18842 non-null  float64\n",
      " 17  rougher.state.floatbank10_e_level                   18842 non-null  float64\n",
      " 18  rougher.state.floatbank10_f_air                     18842 non-null  float64\n",
      " 19  rougher.state.floatbank10_f_level                   18842 non-null  float64\n",
      " 20  rougher.input.floatbank11_sulfate                   18842 non-null  float64\n",
      " 21  rougher.input.floatbank11_xanthate                  18842 non-null  float64\n",
      " 22  rougher.calculation.sulfate_to_au_concentrate       18842 non-null  float64\n",
      " 23  rougher.calculation.floatbank10_sulfate_to_au_feed  18842 non-null  float64\n",
      " 24  rougher.calculation.floatbank11_sulfate_to_au_feed  18842 non-null  float64\n",
      " 25  rougher.calculation.au_pb_ratio                     18842 non-null  float64\n",
      " 26  rougher.output.concentrate_au                       18842 non-null  float64\n",
      " 27  rougher.output.concentrate_ag                       18842 non-null  float64\n",
      " 28  rougher.output.concentrate_pb                       18842 non-null  float64\n",
      " 29  rougher.output.concentrate_sol                      18842 non-null  float64\n",
      " 30  rougher.output.recovery                             18842 non-null  float64\n",
      " 31  rougher.output.tail_au                              18842 non-null  float64\n",
      " 32  rougher.output.tail_ag                              18842 non-null  float64\n",
      " 33  rougher.output.tail_pb                              18842 non-null  float64\n",
      " 34  rougher.output.tail_sol                             18842 non-null  float64\n",
      " 35  primary_cleaner.input.sulfate                       18842 non-null  float64\n",
      " 36  primary_cleaner.input.depressant                    18842 non-null  float64\n",
      " 37  primary_cleaner.input.feed_size                     18842 non-null  float64\n",
      " 38  primary_cleaner.input.xanthate                      18842 non-null  float64\n",
      " 39  primary_cleaner.state.floatbank8_a_air              18842 non-null  float64\n",
      " 40  primary_cleaner.state.floatbank8_a_level            18842 non-null  float64\n",
      " 41  primary_cleaner.state.floatbank8_b_air              18842 non-null  float64\n",
      " 42  primary_cleaner.state.floatbank8_b_level            18842 non-null  float64\n",
      " 43  primary_cleaner.state.floatbank8_c_air              18842 non-null  float64\n",
      " 44  primary_cleaner.state.floatbank8_c_level            18842 non-null  float64\n",
      " 45  primary_cleaner.state.floatbank8_d_air              18842 non-null  float64\n",
      " 46  primary_cleaner.state.floatbank8_d_level            18842 non-null  float64\n",
      " 47  primary_cleaner.output.concentrate_au               18842 non-null  float64\n",
      " 48  primary_cleaner.output.concentrate_ag               18842 non-null  float64\n",
      " 49  primary_cleaner.output.concentrate_pb               18842 non-null  float64\n",
      " 50  primary_cleaner.output.concentrate_sol              18842 non-null  float64\n",
      " 51  primary_cleaner.output.tail_au                      18842 non-null  float64\n",
      " 52  primary_cleaner.output.tail_ag                      18842 non-null  float64\n",
      " 53  primary_cleaner.output.tail_pb                      18842 non-null  float64\n",
      " 54  primary_cleaner.output.tail_sol                     18842 non-null  float64\n",
      " 55  secondary_cleaner.state.floatbank2_a_air            18842 non-null  float64\n",
      " 56  secondary_cleaner.state.floatbank2_a_level          18842 non-null  float64\n",
      " 57  secondary_cleaner.state.floatbank2_b_air            18842 non-null  float64\n",
      " 58  secondary_cleaner.state.floatbank2_b_level          18842 non-null  float64\n",
      " 59  secondary_cleaner.state.floatbank3_a_air            18842 non-null  float64\n",
      " 60  secondary_cleaner.state.floatbank3_a_level          18842 non-null  float64\n",
      " 61  secondary_cleaner.state.floatbank3_b_air            18842 non-null  float64\n",
      " 62  secondary_cleaner.state.floatbank3_b_level          18842 non-null  float64\n",
      " 63  secondary_cleaner.state.floatbank4_a_air            18842 non-null  float64\n",
      " 64  secondary_cleaner.state.floatbank4_a_level          18842 non-null  float64\n",
      " 65  secondary_cleaner.state.floatbank4_b_air            18842 non-null  float64\n",
      " 66  secondary_cleaner.state.floatbank4_b_level          18842 non-null  float64\n",
      " 67  secondary_cleaner.state.floatbank5_a_air            18842 non-null  float64\n",
      " 68  secondary_cleaner.state.floatbank5_a_level          18842 non-null  float64\n",
      " 69  secondary_cleaner.state.floatbank5_b_air            18842 non-null  float64\n",
      " 70  secondary_cleaner.state.floatbank5_b_level          18842 non-null  float64\n",
      " 71  secondary_cleaner.state.floatbank6_a_air            18842 non-null  float64\n",
      " 72  secondary_cleaner.state.floatbank6_a_level          18842 non-null  float64\n",
      " 73  secondary_cleaner.output.tail_au                    18842 non-null  float64\n",
      " 74  secondary_cleaner.output.tail_ag                    18842 non-null  float64\n",
      " 75  secondary_cleaner.output.tail_pb                    18842 non-null  float64\n",
      " 76  secondary_cleaner.output.tail_sol                   18842 non-null  float64\n",
      " 77  final.output.concentrate_au                         18842 non-null  float64\n",
      " 78  final.output.concentrate_ag                         18842 non-null  float64\n",
      " 79  final.output.concentrate_pb                         18842 non-null  float64\n",
      " 80  final.output.concentrate_sol                        18842 non-null  float64\n",
      " 81  final.output.recovery                               18842 non-null  float64\n",
      " 82  final.output.tail_au                                18842 non-null  float64\n",
      " 83  final.output.tail_ag                                18842 non-null  float64\n",
      " 84  final.output.tail_pb                                18842 non-null  float64\n",
      " 85  final.output.tail_sol                               18842 non-null  float64\n",
      "dtypes: float64(86)\n",
      "memory usage: 12.5+ MB\n"
     ]
    }
   ],
   "source": [
    "old_data = full_data.copy()\n",
    "full_data = full_data.loc[full_data['final.output.concentrate_au']>0]\n",
    "full_data = full_data.loc[full_data['final.output.concentrate_ag']>0]\n",
    "full_data = full_data.loc[full_data['final.output.concentrate_pb']>0]\n",
    "full_data = full_data.loc[full_data['primary_cleaner.output.concentrate_au']>0]\n",
    "full_data = full_data.loc[full_data['primary_cleaner.output.concentrate_ag']>0]\n",
    "full_data = full_data.loc[full_data['primary_cleaner.output.concentrate_pb']>0]\n",
    "full_data = full_data.loc[full_data['rougher.output.concentrate_au']>0]\n",
    "full_data = full_data.loc[full_data['rougher.output.concentrate_ag']>0]\n",
    "full_data = full_data.loc[full_data['rougher.output.concentrate_pb']>0]\n",
    "full_data = full_data.loc[full_data['rougher.input.feed_au']>0]\n",
    "full_data = full_data.loc[full_data['rougher.input.feed_ag']>0]\n",
    "full_data = full_data.loc[full_data['rougher.input.feed_pb']>0]\n",
    "\n",
    "print('Процент удаленных данных : {:,.2%}'.format((len(old_data) - len(full_data)) / len(old_data)))\n",
    "full_data.info()"
   ]
  },
  {
   "cell_type": "code",
   "execution_count": 30,
   "metadata": {},
   "outputs": [
    {
     "data": {
      "text/plain": [
       "(13982, 54)"
      ]
     },
     "execution_count": 30,
     "metadata": {},
     "output_type": "execute_result"
    }
   ],
   "source": [
    "train = pd.merge(full_data, train, how='inner', indicator=True) \\\n",
    "          .query(\"_merge == 'both'\") \\\n",
    "          .drop('_merge', axis=1)\n",
    "\n",
    "train = train[test.columns]\n",
    "train.shape"
   ]
  },
  {
   "cell_type": "markdown",
   "metadata": {},
   "source": [
    "### Размеры гранул"
   ]
  },
  {
   "cell_type": "markdown",
   "metadata": {},
   "source": [
    "Сравним распределения размеров гранул исходного сырья на обучающей и тестовой выборках. "
   ]
  },
  {
   "cell_type": "markdown",
   "metadata": {},
   "source": [
    "Н0 : Распределения в выборках **равны**.\n",
    "\n",
    "Н1 : Распределения в выборках **различны**."
   ]
  },
  {
   "cell_type": "code",
   "execution_count": 31,
   "metadata": {},
   "outputs": [
    {
     "name": "stdout",
     "output_type": "stream",
     "text": [
      "p-значение: 0.9233782195495766\n",
      "Не получилось отвергнуть нулевую гипотезу\n"
     ]
    }
   ],
   "source": [
    "results = st.ttest_ind(train['rougher.input.feed_size'], test['rougher.input.feed_size'])\n",
    "\n",
    "alpha = 0.05\n",
    "\n",
    "print('p-значение:', results.pvalue)\n",
    "\n",
    "if results.pvalue < alpha:\n",
    "    print(\"Отвергаем нулевую гипотезу\")\n",
    "else:\n",
    "    print(\"Не получилось отвергнуть нулевую гипотезу\") "
   ]
  },
  {
   "cell_type": "code",
   "execution_count": 32,
   "metadata": {},
   "outputs": [
    {
     "data": {
      "image/png": "[encoded data removed]",
      "text/plain": [
       "<Figure size 1000x500 with 1 Axes>"
      ]
     },
     "metadata": {},
     "output_type": "display_data"
    }
   ],
   "source": [
    "plt.figure(figsize=(10,5))\n",
    "sns.histplot(train['rougher.input.feed_size'], \n",
    "             label='Обучающая выборка', kde=True, stat=\"density\", \n",
    "             linewidth=0)\n",
    "sns.histplot(test['rougher.input.feed_size'], \n",
    "             label='Тестовая выборка', color='orange', kde=True, \n",
    "             stat=\"density\", linewidth=0)\n",
    "plt.title('Распределение размеров гранул исходного сырья')\n",
    "plt.legend()\n",
    "plt.show();"
   ]
  },
  {
   "cell_type": "markdown",
   "metadata": {},
   "source": [
    "**Вывод:** Размеры гранул исходного сырья в обеих выборках совпадают."
   ]
  },
  {
   "cell_type": "markdown",
   "metadata": {},
   "source": [
    "### Суммарная концентрация металлов"
   ]
  },
  {
   "cell_type": "markdown",
   "metadata": {},
   "source": [
    "Исследуем суммарную концентрацию металлов на разных стадиях"
   ]
  },
  {
   "cell_type": "code",
   "execution_count": 33,
   "metadata": {},
   "outputs": [],
   "source": [
    "feed_sum = (full_data['rougher.input.feed_au'] + \n",
    "            full_data['rougher.input.feed_pb'] +\n",
    "            full_data['rougher.input.feed_ag'])\n",
    "\n",
    "black_sum = (full_data['rougher.output.concentrate_au'] + \n",
    "             full_data['rougher.output.concentrate_pb'] + \n",
    "             full_data['rougher.output.concentrate_ag'])\n",
    "\n",
    "after_first_sum = (full_data['primary_cleaner.output.concentrate_au'] + \n",
    "                   full_data['primary_cleaner.output.concentrate_ag'] + \n",
    "                   full_data['primary_cleaner.output.concentrate_pb'])\n",
    "\n",
    "final_sum = (full_data['final.output.concentrate_pb'] + \n",
    "             full_data['final.output.concentrate_au'] + \n",
    "             full_data['final.output.concentrate_ag'])"
   ]
  },
  {
   "cell_type": "code",
   "execution_count": 34,
   "metadata": {},
   "outputs": [
    {
     "data": {
      "image/png": "[encoded data removed]",
      "text/plain": [
       "<Figure size 1000x500 with 1 Axes>"
      ]
     },
     "metadata": {},
     "output_type": "display_data"
    }
   ],
   "source": [
    "plt.figure(figsize=(10, 5))\n",
    "sns.histplot(feed_sum, label='Сырье', kde=True, stat=\"density\", \n",
    "             linewidth=0, color='grey')\n",
    "sns.histplot(black_sum, label='Черновой концентрат', \n",
    "             kde=True, stat=\"density\", linewidth=0)\n",
    "sns.histplot(after_first_sum, label='После первой очистки', \n",
    "             kde=True, stat=\"density\", linewidth=0, color='orange')\n",
    "sns.histplot(final_sum, label='Финальный концентрат', \n",
    "             kde=True, stat=\"density\", linewidth=0, color='green')\n",
    "plt.title('Суммарная концентрация металлов')\n",
    "plt.legend()\n",
    "plt.show();"
   ]
  },
  {
   "cell_type": "markdown",
   "metadata": {},
   "source": [
    "**Вывод:** Суммарная концентрация металлов возрастает с каждой стадией очистки"
   ]
  },
  {
   "cell_type": "markdown",
   "metadata": {},
   "source": [
    "**Вывод:** Рассмотрели концентрацию металлов на разных этапах очистки и определили закономерности. Подтвердили соответсвие размеров гранул сырья в обучающей и тестовой выборках. Провели исследование суммарной концентрации металлов на разных этапах очистки. Были обнаружены и удалены аномалии."
   ]
  },
  {
   "cell_type": "markdown",
   "metadata": {},
   "source": [
    "## Модель"
   ]
  },
  {
   "cell_type": "markdown",
   "metadata": {},
   "source": [
    "* Напишем функцию для вычисления итоговой sMAPE.\n",
    "* Обучим модели решающего дерева, случайного леса и линеной регрессии. Оценим их качество кросс-валидацией.\n",
    "* Проверим лучшую модель на тестовой выборке"
   ]
  },
  {
   "cell_type": "code",
   "execution_count": 62,
   "metadata": {},
   "outputs": [],
   "source": [
    "# функция для sMAPE\n",
    "def smape(target, prediction):\n",
    "    a = np.abs(target-prediction)\n",
    "    b = (np.abs(target)+np.abs(prediction)) / 2\n",
    "    n = len(target)\n",
    "    return 1/n * np.sum(a / b) * 100 "
   ]
  },
  {
   "cell_type": "code",
   "execution_count": 36,
   "metadata": {},
   "outputs": [],
   "source": [
    "# создадим scorer для кросс-валидации\n",
    "smape_scorer = make_scorer(smape, greater_is_better=False)"
   ]
  },
  {
   "cell_type": "code",
   "execution_count": 69,
   "metadata": {},
   "outputs": [],
   "source": [
    "# итоговое sMAPE\n",
    "def final_smape(smape1, smape2):\n",
    "    return 0.25 * smape1 + 0.75 * smape2"
   ]
  },
  {
   "cell_type": "markdown",
   "metadata": {},
   "source": [
    "### Признаки для обучения моделей"
   ]
  },
  {
   "cell_type": "code",
   "execution_count": 38,
   "metadata": {},
   "outputs": [
    {
     "name": "stdout",
     "output_type": "stream",
     "text": [
      "(13982,) (13982,) (13982, 52)\n",
      "(4860,) (4860,) (4860, 52)\n"
     ]
    }
   ],
   "source": [
    "# выделим признаки\n",
    "target_train_rougher = train['rougher.output.recovery']\n",
    "target_test_rougher = test['rougher.output.recovery']\n",
    "target_train_final = train['final.output.recovery']\n",
    "target_test_final = test['final.output.recovery']\n",
    "\n",
    "features_train = train.drop(['rougher.output.recovery', 'final.output.recovery'], axis=1)\n",
    "features_test = test.drop(['rougher.output.recovery', 'final.output.recovery'], axis=1)\n",
    "\n",
    "print(target_train_rougher.shape, target_train_final.shape, features_train.shape)\n",
    "print(target_test_rougher.shape, target_test_final.shape, features_test.shape)"
   ]
  },
  {
   "cell_type": "code",
   "execution_count": 39,
   "metadata": {},
   "outputs": [
    {
     "data": {
      "text/html": [
       "<div>\n",
       "<style scoped>\n",
       "    .dataframe tbody tr th:only-of-type {\n",
       "        vertical-align: middle;\n",
       "    }\n",
       "\n",
       "    .dataframe tbody tr th {\n",
       "        vertical-align: top;\n",
       "    }\n",
       "\n",
       "    .dataframe thead th {\n",
       "        text-align: right;\n",
       "    }\n",
       "</style>\n",
       "<table border=\"1\" class=\"dataframe\">\n",
       "  <thead>\n",
       "    <tr style=\"text-align: right;\">\n",
       "      <th></th>\n",
       "      <th>rougher.input.feed_au</th>\n",
       "      <th>rougher.input.feed_ag</th>\n",
       "      <th>rougher.input.feed_pb</th>\n",
       "      <th>rougher.input.feed_sol</th>\n",
       "      <th>rougher.input.feed_rate</th>\n",
       "      <th>rougher.input.feed_size</th>\n",
       "      <th>rougher.input.floatbank10_sulfate</th>\n",
       "      <th>rougher.input.floatbank10_xanthate</th>\n",
       "      <th>rougher.state.floatbank10_a_air</th>\n",
       "      <th>rougher.state.floatbank10_a_level</th>\n",
       "      <th>...</th>\n",
       "      <th>secondary_cleaner.state.floatbank4_a_air</th>\n",
       "      <th>secondary_cleaner.state.floatbank4_a_level</th>\n",
       "      <th>secondary_cleaner.state.floatbank4_b_air</th>\n",
       "      <th>secondary_cleaner.state.floatbank4_b_level</th>\n",
       "      <th>secondary_cleaner.state.floatbank5_a_air</th>\n",
       "      <th>secondary_cleaner.state.floatbank5_a_level</th>\n",
       "      <th>secondary_cleaner.state.floatbank5_b_air</th>\n",
       "      <th>secondary_cleaner.state.floatbank5_b_level</th>\n",
       "      <th>secondary_cleaner.state.floatbank6_a_air</th>\n",
       "      <th>secondary_cleaner.state.floatbank6_a_level</th>\n",
       "    </tr>\n",
       "  </thead>\n",
       "  <tbody>\n",
       "    <tr>\n",
       "      <th>0</th>\n",
       "      <td>0.471977</td>\n",
       "      <td>0.417549</td>\n",
       "      <td>0.323034</td>\n",
       "      <td>0.688270</td>\n",
       "      <td>0.729671</td>\n",
       "      <td>0.114323</td>\n",
       "      <td>0.331850</td>\n",
       "      <td>0.619138</td>\n",
       "      <td>0.661060</td>\n",
       "      <td>0.660854</td>\n",
       "      <td>...</td>\n",
       "      <td>0.465432</td>\n",
       "      <td>0.536120</td>\n",
       "      <td>0.503998</td>\n",
       "      <td>0.373418</td>\n",
       "      <td>0.233603</td>\n",
       "      <td>0.540868</td>\n",
       "      <td>0.275626</td>\n",
       "      <td>0.452465</td>\n",
       "      <td>0.441013</td>\n",
       "      <td>0.297042</td>\n",
       "    </tr>\n",
       "    <tr>\n",
       "      <th>1</th>\n",
       "      <td>0.471425</td>\n",
       "      <td>0.421713</td>\n",
       "      <td>0.320353</td>\n",
       "      <td>0.668534</td>\n",
       "      <td>0.732102</td>\n",
       "      <td>0.118019</td>\n",
       "      <td>0.331423</td>\n",
       "      <td>0.618909</td>\n",
       "      <td>0.661443</td>\n",
       "      <td>0.671271</td>\n",
       "      <td>...</td>\n",
       "      <td>0.464617</td>\n",
       "      <td>0.530683</td>\n",
       "      <td>0.497775</td>\n",
       "      <td>0.377685</td>\n",
       "      <td>0.236180</td>\n",
       "      <td>0.537504</td>\n",
       "      <td>0.272162</td>\n",
       "      <td>0.452297</td>\n",
       "      <td>0.436272</td>\n",
       "      <td>0.305862</td>\n",
       "    </tr>\n",
       "    <tr>\n",
       "      <th>2</th>\n",
       "      <td>0.462945</td>\n",
       "      <td>0.418651</td>\n",
       "      <td>0.305243</td>\n",
       "      <td>0.672616</td>\n",
       "      <td>0.738703</td>\n",
       "      <td>0.118497</td>\n",
       "      <td>0.330022</td>\n",
       "      <td>0.638657</td>\n",
       "      <td>0.661069</td>\n",
       "      <td>0.671248</td>\n",
       "      <td>...</td>\n",
       "      <td>0.465372</td>\n",
       "      <td>0.536061</td>\n",
       "      <td>0.496202</td>\n",
       "      <td>0.377935</td>\n",
       "      <td>0.236899</td>\n",
       "      <td>0.537578</td>\n",
       "      <td>0.273225</td>\n",
       "      <td>0.452395</td>\n",
       "      <td>0.437212</td>\n",
       "      <td>0.303473</td>\n",
       "    </tr>\n",
       "    <tr>\n",
       "      <th>3</th>\n",
       "      <td>0.445160</td>\n",
       "      <td>0.413636</td>\n",
       "      <td>0.287946</td>\n",
       "      <td>0.689274</td>\n",
       "      <td>0.756213</td>\n",
       "      <td>0.119079</td>\n",
       "      <td>0.321979</td>\n",
       "      <td>0.639254</td>\n",
       "      <td>0.661132</td>\n",
       "      <td>0.670919</td>\n",
       "      <td>...</td>\n",
       "      <td>0.466086</td>\n",
       "      <td>0.539061</td>\n",
       "      <td>0.499816</td>\n",
       "      <td>0.377859</td>\n",
       "      <td>0.234618</td>\n",
       "      <td>0.539256</td>\n",
       "      <td>0.271891</td>\n",
       "      <td>0.452790</td>\n",
       "      <td>0.436495</td>\n",
       "      <td>0.305558</td>\n",
       "    </tr>\n",
       "    <tr>\n",
       "      <th>4</th>\n",
       "      <td>0.412038</td>\n",
       "      <td>0.414843</td>\n",
       "      <td>0.252314</td>\n",
       "      <td>0.642242</td>\n",
       "      <td>0.753344</td>\n",
       "      <td>0.115479</td>\n",
       "      <td>0.303363</td>\n",
       "      <td>0.638806</td>\n",
       "      <td>0.661042</td>\n",
       "      <td>0.672084</td>\n",
       "      <td>...</td>\n",
       "      <td>0.465780</td>\n",
       "      <td>0.540898</td>\n",
       "      <td>0.497880</td>\n",
       "      <td>0.378036</td>\n",
       "      <td>0.233605</td>\n",
       "      <td>0.534761</td>\n",
       "      <td>0.268858</td>\n",
       "      <td>0.452639</td>\n",
       "      <td>0.436219</td>\n",
       "      <td>0.303372</td>\n",
       "    </tr>\n",
       "  </tbody>\n",
       "</table>\n",
       "<p>5 rows × 52 columns</p>\n",
       "</div>"
      ],
      "text/plain": [
       "   rougher.input.feed_au  rougher.input.feed_ag  rougher.input.feed_pb  \\\n",
       "0               0.471977               0.417549               0.323034   \n",
       "1               0.471425               0.421713               0.320353   \n",
       "2               0.462945               0.418651               0.305243   \n",
       "3               0.445160               0.413636               0.287946   \n",
       "4               0.412038               0.414843               0.252314   \n",
       "\n",
       "   rougher.input.feed_sol  rougher.input.feed_rate  rougher.input.feed_size  \\\n",
       "0                0.688270                 0.729671                 0.114323   \n",
       "1                0.668534                 0.732102                 0.118019   \n",
       "2                0.672616                 0.738703                 0.118497   \n",
       "3                0.689274                 0.756213                 0.119079   \n",
       "4                0.642242                 0.753344                 0.115479   \n",
       "\n",
       "   rougher.input.floatbank10_sulfate  rougher.input.floatbank10_xanthate  \\\n",
       "0                           0.331850                            0.619138   \n",
       "1                           0.331423                            0.618909   \n",
       "2                           0.330022                            0.638657   \n",
       "3                           0.321979                            0.639254   \n",
       "4                           0.303363                            0.638806   \n",
       "\n",
       "   rougher.state.floatbank10_a_air  rougher.state.floatbank10_a_level  ...  \\\n",
       "0                         0.661060                           0.660854  ...   \n",
       "1                         0.661443                           0.671271  ...   \n",
       "2                         0.661069                           0.671248  ...   \n",
       "3                         0.661132                           0.670919  ...   \n",
       "4                         0.661042                           0.672084  ...   \n",
       "\n",
       "   secondary_cleaner.state.floatbank4_a_air  \\\n",
       "0                                  0.465432   \n",
       "1                                  0.464617   \n",
       "2                                  0.465372   \n",
       "3                                  0.466086   \n",
       "4                                  0.465780   \n",
       "\n",
       "   secondary_cleaner.state.floatbank4_a_level  \\\n",
       "0                                    0.536120   \n",
       "1                                    0.530683   \n",
       "2                                    0.536061   \n",
       "3                                    0.539061   \n",
       "4                                    0.540898   \n",
       "\n",
       "   secondary_cleaner.state.floatbank4_b_air  \\\n",
       "0                                  0.503998   \n",
       "1                                  0.497775   \n",
       "2                                  0.496202   \n",
       "3                                  0.499816   \n",
       "4                                  0.497880   \n",
       "\n",
       "   secondary_cleaner.state.floatbank4_b_level  \\\n",
       "0                                    0.373418   \n",
       "1                                    0.377685   \n",
       "2                                    0.377935   \n",
       "3                                    0.377859   \n",
       "4                                    0.378036   \n",
       "\n",
       "   secondary_cleaner.state.floatbank5_a_air  \\\n",
       "0                                  0.233603   \n",
       "1                                  0.236180   \n",
       "2                                  0.236899   \n",
       "3                                  0.234618   \n",
       "4                                  0.233605   \n",
       "\n",
       "   secondary_cleaner.state.floatbank5_a_level  \\\n",
       "0                                    0.540868   \n",
       "1                                    0.537504   \n",
       "2                                    0.537578   \n",
       "3                                    0.539256   \n",
       "4                                    0.534761   \n",
       "\n",
       "   secondary_cleaner.state.floatbank5_b_air  \\\n",
       "0                                  0.275626   \n",
       "1                                  0.272162   \n",
       "2                                  0.273225   \n",
       "3                                  0.271891   \n",
       "4                                  0.268858   \n",
       "\n",
       "   secondary_cleaner.state.floatbank5_b_level  \\\n",
       "0                                    0.452465   \n",
       "1                                    0.452297   \n",
       "2                                    0.452395   \n",
       "3                                    0.452790   \n",
       "4                                    0.452639   \n",
       "\n",
       "   secondary_cleaner.state.floatbank6_a_air  \\\n",
       "0                                  0.441013   \n",
       "1                                  0.436272   \n",
       "2                                  0.437212   \n",
       "3                                  0.436495   \n",
       "4                                  0.436219   \n",
       "\n",
       "   secondary_cleaner.state.floatbank6_a_level  \n",
       "0                                    0.297042  \n",
       "1                                    0.305862  \n",
       "2                                    0.303473  \n",
       "3                                    0.305558  \n",
       "4                                    0.303372  \n",
       "\n",
       "[5 rows x 52 columns]"
      ]
     },
     "execution_count": 39,
     "metadata": {},
     "output_type": "execute_result"
    }
   ],
   "source": [
    "# масштабирование\n",
    "pd.options.mode.chained_assignment = None\n",
    "\n",
    "numeric = list(features_train.columns)\n",
    "\n",
    "# создадим объект структуры StandardScaler и настроим его на обучающих данных\n",
    "scaler = MinMaxScaler()\n",
    "scaler.fit(features_train[numeric])\n",
    "\n",
    "# преобразуем выборки\n",
    "features_train[numeric] = scaler.transform(features_train[numeric])\n",
    "features_test[numeric] = scaler.transform(features_test[numeric])\n",
    "\n",
    "features_train.head()"
   ]
  },
  {
   "cell_type": "markdown",
   "metadata": {},
   "source": [
    "### Обучение. Rougher"
   ]
  },
  {
   "cell_type": "code",
   "execution_count": 40,
   "metadata": {},
   "outputs": [
    {
     "name": "stdout",
     "output_type": "stream",
     "text": [
      "Лучшее значение sMAPE : 6.6906237877769 при : {'max_depth': 6}\n"
     ]
    }
   ],
   "source": [
    "# решающее дерево\n",
    "param_grid = {'max_depth': range(2, 7)}\n",
    "\n",
    "model = DecisionTreeRegressor(random_state=12345)\n",
    "grid_search = GridSearchCV(model, param_grid, cv=5, scoring=smape_scorer)\n",
    "grid_search.fit(features_train, target_train_rougher)\n",
    "smape_rougher_tree = -grid_search.best_score_\n",
    "print('Лучшее значение sMAPE : {} при : {}'\n",
    "      .format(-grid_search.best_score_, grid_search.best_params_))"
   ]
  },
  {
   "cell_type": "code",
   "execution_count": 41,
   "metadata": {
    "scrolled": true
   },
   "outputs": [
    {
     "name": "stdout",
     "output_type": "stream",
     "text": [
      "Fitting 5 folds for each of 15 candidates, totalling 75 fits\n",
      "[CV] END .......................max_depth=2, n_estimators=10; total time=   0.6s\n",
      "[CV] END .......................max_depth=2, n_estimators=10; total time=   0.6s\n",
      "[CV] END .......................max_depth=2, n_estimators=10; total time=   0.6s\n",
      "[CV] END .......................max_depth=2, n_estimators=10; total time=   0.6s\n",
      "[CV] END .......................max_depth=2, n_estimators=10; total time=   0.5s\n",
      "[CV] END .......................max_depth=2, n_estimators=20; total time=   1.2s\n",
      "[CV] END .......................max_depth=2, n_estimators=20; total time=   1.2s\n",
      "[CV] END .......................max_depth=2, n_estimators=20; total time=   1.2s\n",
      "[CV] END .......................max_depth=2, n_estimators=20; total time=   1.2s\n",
      "[CV] END .......................max_depth=2, n_estimators=20; total time=   1.2s\n",
      "[CV] END .......................max_depth=2, n_estimators=30; total time=   1.8s\n",
      "[CV] END .......................max_depth=2, n_estimators=30; total time=   1.8s\n",
      "[CV] END .......................max_depth=2, n_estimators=30; total time=   1.9s\n",
      "[CV] END .......................max_depth=2, n_estimators=30; total time=   1.8s\n",
      "[CV] END .......................max_depth=2, n_estimators=30; total time=   1.8s\n",
      "[CV] END .......................max_depth=3, n_estimators=10; total time=   0.8s\n",
      "[CV] END .......................max_depth=3, n_estimators=10; total time=   0.8s\n",
      "[CV] END .......................max_depth=3, n_estimators=10; total time=   0.8s\n",
      "[CV] END .......................max_depth=3, n_estimators=10; total time=   0.8s\n",
      "[CV] END .......................max_depth=3, n_estimators=10; total time=   0.8s\n",
      "[CV] END .......................max_depth=3, n_estimators=20; total time=   1.8s\n",
      "[CV] END .......................max_depth=3, n_estimators=20; total time=   1.8s\n",
      "[CV] END .......................max_depth=3, n_estimators=20; total time=   1.8s\n",
      "[CV] END .......................max_depth=3, n_estimators=20; total time=   1.8s\n",
      "[CV] END .......................max_depth=3, n_estimators=20; total time=   1.8s\n",
      "[CV] END .......................max_depth=3, n_estimators=30; total time=   2.7s\n",
      "[CV] END .......................max_depth=3, n_estimators=30; total time=   2.7s\n",
      "[CV] END .......................max_depth=3, n_estimators=30; total time=   2.7s\n",
      "[CV] END .......................max_depth=3, n_estimators=30; total time=   2.7s\n",
      "[CV] END .......................max_depth=3, n_estimators=30; total time=   2.7s\n",
      "[CV] END .......................max_depth=4, n_estimators=10; total time=   1.1s\n",
      "[CV] END .......................max_depth=4, n_estimators=10; total time=   1.1s\n",
      "[CV] END .......................max_depth=4, n_estimators=10; total time=   1.1s\n",
      "[CV] END .......................max_depth=4, n_estimators=10; total time=   1.1s\n",
      "[CV] END .......................max_depth=4, n_estimators=10; total time=   1.1s\n",
      "[CV] END .......................max_depth=4, n_estimators=20; total time=   2.3s\n",
      "[CV] END .......................max_depth=4, n_estimators=20; total time=   2.3s\n",
      "[CV] END .......................max_depth=4, n_estimators=20; total time=   2.3s\n",
      "[CV] END .......................max_depth=4, n_estimators=20; total time=   2.3s\n",
      "[CV] END .......................max_depth=4, n_estimators=20; total time=   2.3s\n",
      "[CV] END .......................max_depth=4, n_estimators=30; total time=   3.5s\n",
      "[CV] END .......................max_depth=4, n_estimators=30; total time=   3.6s\n",
      "[CV] END .......................max_depth=4, n_estimators=30; total time=   3.6s\n",
      "[CV] END .......................max_depth=4, n_estimators=30; total time=   3.6s\n",
      "[CV] END .......................max_depth=4, n_estimators=30; total time=   3.6s\n",
      "[CV] END .......................max_depth=5, n_estimators=10; total time=   1.4s\n",
      "[CV] END .......................max_depth=5, n_estimators=10; total time=   1.4s\n",
      "[CV] END .......................max_depth=5, n_estimators=10; total time=   1.4s\n",
      "[CV] END .......................max_depth=5, n_estimators=10; total time=   1.4s\n",
      "[CV] END .......................max_depth=5, n_estimators=10; total time=   1.4s\n",
      "[CV] END .......................max_depth=5, n_estimators=20; total time=   2.9s\n",
      "[CV] END .......................max_depth=5, n_estimators=20; total time=   2.9s\n",
      "[CV] END .......................max_depth=5, n_estimators=20; total time=   2.9s\n",
      "[CV] END .......................max_depth=5, n_estimators=20; total time=   2.8s\n",
      "[CV] END .......................max_depth=5, n_estimators=20; total time=   2.9s\n",
      "[CV] END .......................max_depth=5, n_estimators=30; total time=   4.3s\n",
      "[CV] END .......................max_depth=5, n_estimators=30; total time=   4.4s\n",
      "[CV] END .......................max_depth=5, n_estimators=30; total time=   4.4s\n",
      "[CV] END .......................max_depth=5, n_estimators=30; total time=   4.2s\n",
      "[CV] END .......................max_depth=5, n_estimators=30; total time=   4.3s\n",
      "[CV] END .......................max_depth=6, n_estimators=10; total time=   1.6s\n",
      "[CV] END .......................max_depth=6, n_estimators=10; total time=   1.6s\n",
      "[CV] END .......................max_depth=6, n_estimators=10; total time=   1.6s\n",
      "[CV] END .......................max_depth=6, n_estimators=10; total time=   1.6s\n",
      "[CV] END .......................max_depth=6, n_estimators=10; total time=   1.6s\n",
      "[CV] END .......................max_depth=6, n_estimators=20; total time=   3.4s\n",
      "[CV] END .......................max_depth=6, n_estimators=20; total time=   3.4s\n",
      "[CV] END .......................max_depth=6, n_estimators=20; total time=   3.4s\n",
      "[CV] END .......................max_depth=6, n_estimators=20; total time=   3.4s\n",
      "[CV] END .......................max_depth=6, n_estimators=20; total time=   3.4s\n",
      "[CV] END .......................max_depth=6, n_estimators=30; total time=   5.3s\n",
      "[CV] END .......................max_depth=6, n_estimators=30; total time=   5.0s\n",
      "[CV] END .......................max_depth=6, n_estimators=30; total time=   5.1s\n",
      "[CV] END .......................max_depth=6, n_estimators=30; total time=   5.2s\n",
      "[CV] END .......................max_depth=6, n_estimators=30; total time=   5.1s\n",
      "Лучшее значение sMAPE : 6.521490359279069 при : {'max_depth': 5, 'n_estimators': 20}\n"
     ]
    }
   ],
   "source": [
    "# случайный лес\n",
    "param_grid = {'max_depth' : range(2, 7), \n",
    "              'n_estimators': range(10, 31, 10)}\n",
    "\n",
    "model = RandomForestRegressor(random_state=12345)\n",
    "grid_search = GridSearchCV(model, param_grid, cv=5, scoring=smape_scorer, verbose=2)\n",
    "grid_search.fit(features_train, target_train_rougher)\n",
    "smape_rougher_forest = -grid_search.best_score_\n",
    "print('Лучшее значение sMAPE : {} при : {}'\n",
    "      .format(-grid_search.best_score_, grid_search.best_params_))"
   ]
  },
  {
   "cell_type": "code",
   "execution_count": 42,
   "metadata": {},
   "outputs": [
    {
     "name": "stdout",
     "output_type": "stream",
     "text": [
      "Лучшее значение sMAPE : 7.033526267625992\n"
     ]
    }
   ],
   "source": [
    "# линейная регрессия\n",
    "model = LinearRegression()\n",
    "model.fit(features_train, target_train_rougher)\n",
    "smape = cross_val_score(model, features_train, target_train_rougher, cv=5, scoring=smape_scorer)\n",
    "final_score_rougher = smape.mean() *-1\n",
    "print('Лучшее значение sMAPE :', final_score_rougher)"
   ]
  },
  {
   "cell_type": "markdown",
   "metadata": {},
   "source": [
    "### Обучение. Final"
   ]
  },
  {
   "cell_type": "code",
   "execution_count": 43,
   "metadata": {},
   "outputs": [
    {
     "name": "stdout",
     "output_type": "stream",
     "text": [
      "Лучшее значение sMAPE : 9.211340584742235 при : {'max_depth': 3}\n"
     ]
    }
   ],
   "source": [
    "# решающее дерево\n",
    "param_grid = {'max_depth': range(2, 7)}\n",
    "\n",
    "model = DecisionTreeRegressor(random_state=12345)\n",
    "grid_search = GridSearchCV(model, param_grid, cv=5, scoring=smape_scorer)\n",
    "grid_search.fit(features_train, target_train_final)\n",
    "smape_final_tree = -grid_search.best_score_\n",
    "print('Лучшее значение sMAPE : {} при : {}'\n",
    "      .format(-grid_search.best_score_, grid_search.best_params_))"
   ]
  },
  {
   "cell_type": "code",
   "execution_count": 44,
   "metadata": {
    "scrolled": true
   },
   "outputs": [
    {
     "name": "stdout",
     "output_type": "stream",
     "text": [
      "Fitting 5 folds for each of 15 candidates, totalling 75 fits\n",
      "[CV] END .......................max_depth=2, n_estimators=10; total time=   0.6s\n",
      "[CV] END .......................max_depth=2, n_estimators=10; total time=   0.5s\n",
      "[CV] END .......................max_depth=2, n_estimators=10; total time=   0.6s\n",
      "[CV] END .......................max_depth=2, n_estimators=10; total time=   0.5s\n",
      "[CV] END .......................max_depth=2, n_estimators=10; total time=   0.5s\n",
      "[CV] END .......................max_depth=2, n_estimators=20; total time=   1.2s\n",
      "[CV] END .......................max_depth=2, n_estimators=20; total time=   1.2s\n",
      "[CV] END .......................max_depth=2, n_estimators=20; total time=   1.2s\n",
      "[CV] END .......................max_depth=2, n_estimators=20; total time=   1.2s\n",
      "[CV] END .......................max_depth=2, n_estimators=20; total time=   1.2s\n",
      "[CV] END .......................max_depth=2, n_estimators=30; total time=   1.9s\n",
      "[CV] END .......................max_depth=2, n_estimators=30; total time=   1.8s\n",
      "[CV] END .......................max_depth=2, n_estimators=30; total time=   1.9s\n",
      "[CV] END .......................max_depth=2, n_estimators=30; total time=   1.8s\n",
      "[CV] END .......................max_depth=2, n_estimators=30; total time=   1.8s\n",
      "[CV] END .......................max_depth=3, n_estimators=10; total time=   0.8s\n",
      "[CV] END .......................max_depth=3, n_estimators=10; total time=   0.8s\n",
      "[CV] END .......................max_depth=3, n_estimators=10; total time=   0.8s\n",
      "[CV] END .......................max_depth=3, n_estimators=10; total time=   0.8s\n",
      "[CV] END .......................max_depth=3, n_estimators=10; total time=   0.8s\n",
      "[CV] END .......................max_depth=3, n_estimators=20; total time=   1.8s\n",
      "[CV] END .......................max_depth=3, n_estimators=20; total time=   1.8s\n",
      "[CV] END .......................max_depth=3, n_estimators=20; total time=   1.8s\n",
      "[CV] END .......................max_depth=3, n_estimators=20; total time=   1.8s\n",
      "[CV] END .......................max_depth=3, n_estimators=20; total time=   1.8s\n",
      "[CV] END .......................max_depth=3, n_estimators=30; total time=   2.7s\n",
      "[CV] END .......................max_depth=3, n_estimators=30; total time=   2.7s\n",
      "[CV] END .......................max_depth=3, n_estimators=30; total time=   2.7s\n",
      "[CV] END .......................max_depth=3, n_estimators=30; total time=   2.7s\n",
      "[CV] END .......................max_depth=3, n_estimators=30; total time=   2.7s\n",
      "[CV] END .......................max_depth=4, n_estimators=10; total time=   1.1s\n",
      "[CV] END .......................max_depth=4, n_estimators=10; total time=   1.1s\n",
      "[CV] END .......................max_depth=4, n_estimators=10; total time=   1.1s\n",
      "[CV] END .......................max_depth=4, n_estimators=10; total time=   1.1s\n",
      "[CV] END .......................max_depth=4, n_estimators=10; total time=   1.1s\n",
      "[CV] END .......................max_depth=4, n_estimators=20; total time=   2.3s\n",
      "[CV] END .......................max_depth=4, n_estimators=20; total time=   2.4s\n",
      "[CV] END .......................max_depth=4, n_estimators=20; total time=   2.4s\n",
      "[CV] END .......................max_depth=4, n_estimators=20; total time=   2.3s\n",
      "[CV] END .......................max_depth=4, n_estimators=20; total time=   2.3s\n",
      "[CV] END .......................max_depth=4, n_estimators=30; total time=   3.5s\n",
      "[CV] END .......................max_depth=4, n_estimators=30; total time=   3.5s\n",
      "[CV] END .......................max_depth=4, n_estimators=30; total time=   3.6s\n",
      "[CV] END .......................max_depth=4, n_estimators=30; total time=   3.5s\n",
      "[CV] END .......................max_depth=4, n_estimators=30; total time=   3.5s\n",
      "[CV] END .......................max_depth=5, n_estimators=10; total time=   1.4s\n",
      "[CV] END .......................max_depth=5, n_estimators=10; total time=   1.4s\n",
      "[CV] END .......................max_depth=5, n_estimators=10; total time=   1.4s\n",
      "[CV] END .......................max_depth=5, n_estimators=10; total time=   1.4s\n",
      "[CV] END .......................max_depth=5, n_estimators=10; total time=   1.4s\n",
      "[CV] END .......................max_depth=5, n_estimators=20; total time=   2.9s\n",
      "[CV] END .......................max_depth=5, n_estimators=20; total time=   2.9s\n",
      "[CV] END .......................max_depth=5, n_estimators=20; total time=   2.8s\n",
      "[CV] END .......................max_depth=5, n_estimators=20; total time=   2.8s\n",
      "[CV] END .......................max_depth=5, n_estimators=20; total time=   2.9s\n",
      "[CV] END .......................max_depth=5, n_estimators=30; total time=   4.5s\n",
      "[CV] END .......................max_depth=5, n_estimators=30; total time=   4.4s\n",
      "[CV] END .......................max_depth=5, n_estimators=30; total time=   4.3s\n",
      "[CV] END .......................max_depth=5, n_estimators=30; total time=   4.3s\n",
      "[CV] END .......................max_depth=5, n_estimators=30; total time=   4.4s\n",
      "[CV] END .......................max_depth=6, n_estimators=10; total time=   1.6s\n",
      "[CV] END .......................max_depth=6, n_estimators=10; total time=   1.6s\n",
      "[CV] END .......................max_depth=6, n_estimators=10; total time=   1.6s\n",
      "[CV] END .......................max_depth=6, n_estimators=10; total time=   1.6s\n",
      "[CV] END .......................max_depth=6, n_estimators=10; total time=   1.7s\n",
      "[CV] END .......................max_depth=6, n_estimators=20; total time=   3.4s\n",
      "[CV] END .......................max_depth=6, n_estimators=20; total time=   3.4s\n",
      "[CV] END .......................max_depth=6, n_estimators=20; total time=   3.3s\n",
      "[CV] END .......................max_depth=6, n_estimators=20; total time=   3.3s\n",
      "[CV] END .......................max_depth=6, n_estimators=20; total time=   3.4s\n",
      "[CV] END .......................max_depth=6, n_estimators=30; total time=   5.2s\n",
      "[CV] END .......................max_depth=6, n_estimators=30; total time=   5.1s\n",
      "[CV] END .......................max_depth=6, n_estimators=30; total time=   5.2s\n",
      "[CV] END .......................max_depth=6, n_estimators=30; total time=   5.1s\n",
      "[CV] END .......................max_depth=6, n_estimators=30; total time=   5.1s\n",
      "Лучшее значение sMAPE : 8.851238113560786 при : {'max_depth': 2, 'n_estimators': 20}\n"
     ]
    }
   ],
   "source": [
    "# случайный лес\n",
    "param_grid = {'max_depth' : range(2, 7), \n",
    "              'n_estimators': range(10, 31, 10)}\n",
    "\n",
    "model = RandomForestRegressor(random_state=12345)\n",
    "grid_search = GridSearchCV(model, param_grid, cv=5, scoring=smape_scorer, verbose=2)\n",
    "grid_search.fit(features_train, target_train_final)\n",
    "smape_final_forest = -grid_search.best_score_\n",
    "print('Лучшее значение sMAPE : {} при : {}'\n",
    "      .format(-grid_search.best_score_, grid_search.best_params_))"
   ]
  },
  {
   "cell_type": "code",
   "execution_count": 45,
   "metadata": {},
   "outputs": [
    {
     "name": "stdout",
     "output_type": "stream",
     "text": [
      "Лучшее значение sMAPE : 9.477249908910009\n"
     ]
    }
   ],
   "source": [
    "# линейная регрессия\n",
    "model = LinearRegression()\n",
    "model.fit(features_train, target_train_final)\n",
    "smape = cross_val_score(model, features_train, target_train_final, cv=5, scoring=smape_scorer)\n",
    "final_score_final = smape.mean() *-1\n",
    "print('Лучшее значение sMAPE :', final_score_final)"
   ]
  },
  {
   "cell_type": "code",
   "execution_count": 46,
   "metadata": {},
   "outputs": [
    {
     "name": "stdout",
     "output_type": "stream",
     "text": [
      "Итоговый sMAPE : 8.581161385500902\n"
     ]
    }
   ],
   "source": [
    "# итоговый sMAPE для дерева решений\n",
    "final_smape = final_smape(smape_rougher_tree, smape_final_tree)\n",
    "print('Итоговый sMAPE :', final_smape)"
   ]
  },
  {
   "cell_type": "code",
   "execution_count": 53,
   "metadata": {},
   "outputs": [
    {
     "name": "stdout",
     "output_type": "stream",
     "text": [
      "Итоговый sMAPE : 8.268801174990356\n"
     ]
    }
   ],
   "source": [
    "# итоговый sMAPE для случайного леса\n",
    "final_smape = final_smape(smape_rougher_forest, smape_final_forest)\n",
    "print('Итоговый sMAPE :', final_smape)"
   ]
  },
  {
   "cell_type": "code",
   "execution_count": 60,
   "metadata": {},
   "outputs": [
    {
     "name": "stdout",
     "output_type": "stream",
     "text": [
      "Итоговый sMAPE : 8.866318998589005\n"
     ]
    }
   ],
   "source": [
    "# итоговый sMAPE для линейной регрессии\n",
    "final_smape = final_smape(final_score_rougher, final_score_final)\n",
    "print('Итоговый sMAPE :', final_smape)"
   ]
  },
  {
   "cell_type": "markdown",
   "metadata": {},
   "source": [
    "**Вывод:** Лучшие показатель у модели случайного леса. Гипперпараметры для rougher - глубина 5, количества деревьев 20. Гипперпараметры для final - глубина 2, количесво деревьев 20. Итоговый sMAPE = 8,27."
   ]
  },
  {
   "cell_type": "markdown",
   "metadata": {},
   "source": [
    "### Проверка лучшей модели"
   ]
  },
  {
   "cell_type": "code",
   "execution_count": 63,
   "metadata": {},
   "outputs": [
    {
     "name": "stdout",
     "output_type": "stream",
     "text": [
      "sMAPE тестовой выборки : 3.969309656916795\n"
     ]
    }
   ],
   "source": [
    "# rougher\n",
    "model = RandomForestRegressor(max_depth=5, n_estimators=20, random_state=12345) \n",
    "model.fit(features_train, target_train_rougher)\n",
    "predictions_test = model.predict(features_test)\n",
    "smape_rougher = smape(target_test_rougher, predictions_test)\n",
    "\n",
    "print('sMAPE тестовой выборки :', smape_rougher)"
   ]
  },
  {
   "cell_type": "code",
   "execution_count": 64,
   "metadata": {},
   "outputs": [
    {
     "name": "stdout",
     "output_type": "stream",
     "text": [
      "sMAPE тестовой выборки : 8.493110552430466\n"
     ]
    }
   ],
   "source": [
    "# final\n",
    "model = RandomForestRegressor(max_depth=2, n_estimators=20, random_state=12345) \n",
    "model.fit(features_train, target_train_final)\n",
    "predictions_test = model.predict(features_test)\n",
    "smape_final = smape(target_test_final, predictions_test)\n",
    "\n",
    "print('sMAPE тестовой выборки :', smape_final)"
   ]
  },
  {
   "cell_type": "code",
   "execution_count": 67,
   "metadata": {},
   "outputs": [
    {
     "name": "stdout",
     "output_type": "stream",
     "text": [
      "Итоговый sMAPE : 7.362160328552048\n"
     ]
    }
   ],
   "source": [
    "# подсчет итогового sMAPE\n",
    "final_smape = final_smape(smape_rougher, smape_final)\n",
    "print('Итоговый sMAPE :', final_smape)"
   ]
  },
  {
   "cell_type": "code",
   "execution_count": 70,
   "metadata": {},
   "outputs": [
    {
     "data": {
      "text/plain": [
       "8.471903961218088"
      ]
     },
     "execution_count": 70,
     "metadata": {},
     "output_type": "execute_result"
    }
   ],
   "source": [
    "# проверка на адекватность модели\n",
    "d_rougher = DummyRegressor(strategy='mean')\n",
    "d_rougher.fit(features_train, target_train_rougher)\n",
    "d_predicted_rougher = d_rougher.predict(features_test)\n",
    "d_smape_rougher = smape(target_test_rougher, d_predicted_rougher)\n",
    "d_rougher_score = d_smape_rougher.mean()\n",
    "\n",
    "d_final = DummyRegressor(strategy='mean')\n",
    "d_final.fit(features_train, target_train_final)\n",
    "d_predicted_final = d_final.predict(features_test)\n",
    "d_smape_final = smape(target_test_final, d_predicted_final)\n",
    "d_final_score = d_smape_final.mean()\n",
    "\n",
    "d_results = final_smape(d_rougher_score, d_final_score)\n",
    "d_results"
   ]
  },
  {
   "cell_type": "markdown",
   "metadata": {},
   "source": [
    "## Общий вывод"
   ]
  },
  {
   "cell_type": "markdown",
   "metadata": {},
   "source": [
    "* Была проведена предобработка данных, проверена формула вычисления эффективности обогощения, соотнесены признаки в обучающей и тестовой выборках.\n",
    "* Проведен исследовательский анализ данных: исследовано изменение концентрации металлов на каждом этапе очистки (сырье, в черновом концентрате, после первой очистки и на финальной стадии), проведен анализ рамера гранул в обучающей и тестовой выборках, исследованы суммарные концентрации металлов.\n",
    "* Были обучены модели решающего дерева, случайного леса и линейной регрессии, для первых двух подобраны лучшие гипперпараметры. Подсчитана метрика sMAPE - симметричное среднее абсолютное процентное отклонение. Выбрана лучшая модель - модель случаного леса.\n",
    "* Подсчитана итоговая метрика sMAPE равная 8,26."
   ]
  }
 ],
 "metadata": {
  "ExecuteTimeLog": [
   {
    "duration": 604,
    "start_time": "2023-05-31T10:26:45.137Z"
   },
   {
    "duration": 168,
    "start_time": "2023-05-31T10:28:30.676Z"
   },
   {
    "duration": 479,
    "start_time": "2023-05-31T10:29:42.757Z"
   },
   {
    "duration": 114,
    "start_time": "2023-05-31T10:29:43.238Z"
   },
   {
    "duration": 13,
    "start_time": "2023-05-31T10:32:15.871Z"
   },
   {
    "duration": 38,
    "start_time": "2023-05-31T11:08:57.230Z"
   },
   {
    "duration": 45,
    "start_time": "2023-05-31T11:09:07.125Z"
   },
   {
    "duration": 30,
    "start_time": "2023-05-31T11:09:19.322Z"
   },
   {
    "duration": 925,
    "start_time": "2023-05-31T11:10:19.208Z"
   },
   {
    "duration": 196,
    "start_time": "2023-05-31T11:11:26.468Z"
   },
   {
    "duration": 1164,
    "start_time": "2023-05-31T11:12:16.713Z"
   },
   {
    "duration": 404,
    "start_time": "2023-05-31T11:12:26.051Z"
   },
   {
    "duration": 52,
    "start_time": "2023-05-31T11:12:58.010Z"
   },
   {
    "duration": 235,
    "start_time": "2023-05-31T11:13:48.284Z"
   },
   {
    "duration": 13,
    "start_time": "2023-05-31T11:14:42.741Z"
   },
   {
    "duration": 17,
    "start_time": "2023-05-31T11:15:04.371Z"
   },
   {
    "duration": 219,
    "start_time": "2023-05-31T11:16:40.524Z"
   },
   {
    "duration": 7353,
    "start_time": "2023-05-31T11:17:01.311Z"
   },
   {
    "duration": 7503,
    "start_time": "2023-05-31T11:17:22.753Z"
   },
   {
    "duration": 8144,
    "start_time": "2023-05-31T11:17:40.604Z"
   },
   {
    "duration": 9319,
    "start_time": "2023-05-31T11:17:56.075Z"
   },
   {
    "duration": 131,
    "start_time": "2023-05-31T11:18:30.657Z"
   },
   {
    "duration": 261,
    "start_time": "2023-05-31T11:18:52.825Z"
   },
   {
    "duration": 22,
    "start_time": "2023-05-31T13:02:22.487Z"
   },
   {
    "duration": 331,
    "start_time": "2023-05-31T13:04:42.155Z"
   },
   {
    "duration": 482,
    "start_time": "2023-05-31T17:35:38.298Z"
   },
   {
    "duration": 1631,
    "start_time": "2023-05-31T17:35:39.295Z"
   },
   {
    "duration": 75,
    "start_time": "2023-05-31T17:35:40.928Z"
   },
   {
    "duration": 232,
    "start_time": "2023-05-31T17:35:41.016Z"
   },
   {
    "duration": 431,
    "start_time": "2023-05-31T17:35:41.250Z"
   },
   {
    "duration": 12,
    "start_time": "2023-05-31T17:35:41.684Z"
   },
   {
    "duration": 127,
    "start_time": "2023-05-31T17:35:41.973Z"
   },
   {
    "duration": 2190,
    "start_time": "2023-05-31T17:35:42.492Z"
   },
   {
    "duration": 17,
    "start_time": "2023-05-31T17:35:44.684Z"
   },
   {
    "duration": 252,
    "start_time": "2023-05-31T17:35:44.703Z"
   },
   {
    "duration": 4,
    "start_time": "2023-05-31T17:47:28.333Z"
   },
   {
    "duration": 4,
    "start_time": "2023-05-31T17:54:42.382Z"
   },
   {
    "duration": 10,
    "start_time": "2023-05-31T17:58:16.725Z"
   },
   {
    "duration": 7,
    "start_time": "2023-05-31T18:00:15.878Z"
   },
   {
    "duration": 3,
    "start_time": "2023-05-31T18:00:29.095Z"
   },
   {
    "duration": 773,
    "start_time": "2023-05-31T18:01:15.891Z"
   },
   {
    "duration": 13,
    "start_time": "2023-05-31T18:02:31.424Z"
   },
   {
    "duration": 17,
    "start_time": "2023-05-31T18:03:09.929Z"
   },
   {
    "duration": 1106,
    "start_time": "2023-06-01T12:51:00.721Z"
   },
   {
    "duration": 1307,
    "start_time": "2023-06-01T12:51:01.829Z"
   },
   {
    "duration": 18,
    "start_time": "2023-06-01T12:51:03.138Z"
   },
   {
    "duration": 213,
    "start_time": "2023-06-01T12:51:03.158Z"
   },
   {
    "duration": 732,
    "start_time": "2023-06-01T12:51:03.464Z"
   },
   {
    "duration": 13,
    "start_time": "2023-06-01T12:51:04.198Z"
   },
   {
    "duration": 121,
    "start_time": "2023-06-01T12:51:04.405Z"
   },
   {
    "duration": 1693,
    "start_time": "2023-06-01T12:51:04.952Z"
   },
   {
    "duration": 18,
    "start_time": "2023-06-01T12:51:06.647Z"
   },
   {
    "duration": 235,
    "start_time": "2023-06-01T12:51:06.922Z"
   },
   {
    "duration": 3,
    "start_time": "2023-06-01T12:59:29.726Z"
   },
   {
    "duration": 2,
    "start_time": "2023-06-01T12:59:33.854Z"
   },
   {
    "duration": 8,
    "start_time": "2023-06-01T12:59:44.081Z"
   },
   {
    "duration": 4,
    "start_time": "2023-06-01T13:11:58.007Z"
   },
   {
    "duration": 4,
    "start_time": "2023-06-01T13:22:47.101Z"
   },
   {
    "duration": 4,
    "start_time": "2023-06-01T13:22:59.626Z"
   },
   {
    "duration": 150,
    "start_time": "2023-06-01T13:25:22.884Z"
   },
   {
    "duration": 29,
    "start_time": "2023-06-01T13:28:02.465Z"
   },
   {
    "duration": 20,
    "start_time": "2023-06-01T13:28:18.604Z"
   },
   {
    "duration": 14,
    "start_time": "2023-06-01T13:42:42.755Z"
   },
   {
    "duration": 98,
    "start_time": "2023-06-01T13:42:57.099Z"
   },
   {
    "duration": 42,
    "start_time": "2023-06-01T13:43:10.891Z"
   },
   {
    "duration": 22,
    "start_time": "2023-06-01T13:44:03.065Z"
   },
   {
    "duration": 105,
    "start_time": "2023-06-01T13:46:50.482Z"
   },
   {
    "duration": 25,
    "start_time": "2023-06-01T13:47:01.623Z"
   },
   {
    "duration": 54,
    "start_time": "2023-06-01T14:24:49.791Z"
   },
   {
    "duration": 21,
    "start_time": "2023-06-01T14:25:11.492Z"
   },
   {
    "duration": 82,
    "start_time": "2023-06-01T14:27:22.794Z"
   },
   {
    "duration": 15,
    "start_time": "2023-06-01T14:27:51.942Z"
   },
   {
    "duration": 8,
    "start_time": "2023-06-01T14:29:47.511Z"
   },
   {
    "duration": 9,
    "start_time": "2023-06-01T14:34:11.361Z"
   },
   {
    "duration": 9,
    "start_time": "2023-06-01T14:34:31.639Z"
   },
   {
    "duration": 9,
    "start_time": "2023-06-01T14:34:45.548Z"
   },
   {
    "duration": 8,
    "start_time": "2023-06-01T14:35:42.595Z"
   },
   {
    "duration": 8,
    "start_time": "2023-06-01T14:35:48.163Z"
   },
   {
    "duration": 7,
    "start_time": "2023-06-01T14:36:11.356Z"
   },
   {
    "duration": 1221,
    "start_time": "2023-06-01T14:38:46.105Z"
   },
   {
    "duration": 1246,
    "start_time": "2023-06-01T14:39:58.846Z"
   },
   {
    "duration": 1336,
    "start_time": "2023-06-01T14:40:33.567Z"
   },
   {
    "duration": 350,
    "start_time": "2023-06-01T14:40:34.905Z"
   },
   {
    "duration": 27,
    "start_time": "2023-06-01T14:40:35.256Z"
   },
   {
    "duration": 265,
    "start_time": "2023-06-01T14:40:35.360Z"
   },
   {
    "duration": 121,
    "start_time": "2023-06-01T14:40:35.764Z"
   },
   {
    "duration": 12,
    "start_time": "2023-06-01T14:40:36.102Z"
   },
   {
    "duration": 137,
    "start_time": "2023-06-01T14:40:36.463Z"
   },
   {
    "duration": 413,
    "start_time": "2023-06-01T14:40:36.797Z"
   },
   {
    "duration": 18,
    "start_time": "2023-06-01T14:40:37.213Z"
   },
   {
    "duration": 274,
    "start_time": "2023-06-01T14:40:37.559Z"
   },
   {
    "duration": 3,
    "start_time": "2023-06-01T14:40:39.093Z"
   },
   {
    "duration": 2,
    "start_time": "2023-06-01T14:40:39.924Z"
   },
   {
    "duration": 8,
    "start_time": "2023-06-01T14:40:40.291Z"
   },
   {
    "duration": 16,
    "start_time": "2023-06-01T14:40:42.023Z"
   },
   {
    "duration": 1450,
    "start_time": "2023-06-01T14:40:44.213Z"
   },
   {
    "duration": 0,
    "start_time": "2023-06-01T14:40:45.666Z"
   },
   {
    "duration": 9,
    "start_time": "2023-06-01T14:40:45.667Z"
   },
   {
    "duration": 8,
    "start_time": "2023-06-01T14:40:46.424Z"
   },
   {
    "duration": 1250,
    "start_time": "2023-06-01T14:41:11.056Z"
   },
   {
    "duration": 1139,
    "start_time": "2023-06-01T14:41:52.577Z"
   },
   {
    "duration": 343,
    "start_time": "2023-06-01T14:41:53.718Z"
   },
   {
    "duration": 30,
    "start_time": "2023-06-01T14:41:54.063Z"
   },
   {
    "duration": 273,
    "start_time": "2023-06-01T14:41:54.095Z"
   },
   {
    "duration": 118,
    "start_time": "2023-06-01T14:41:54.377Z"
   },
   {
    "duration": 17,
    "start_time": "2023-06-01T14:41:54.497Z"
   },
   {
    "duration": 152,
    "start_time": "2023-06-01T14:41:55.555Z"
   },
   {
    "duration": 436,
    "start_time": "2023-06-01T14:41:55.876Z"
   },
   {
    "duration": 17,
    "start_time": "2023-06-01T14:41:56.314Z"
   },
   {
    "duration": 266,
    "start_time": "2023-06-01T14:41:56.360Z"
   },
   {
    "duration": 3,
    "start_time": "2023-06-01T14:41:58.064Z"
   },
   {
    "duration": 9,
    "start_time": "2023-06-01T14:41:58.070Z"
   },
   {
    "duration": 9,
    "start_time": "2023-06-01T14:41:58.466Z"
   },
   {
    "duration": 21,
    "start_time": "2023-06-01T14:42:00.259Z"
   },
   {
    "duration": 14,
    "start_time": "2023-06-01T14:42:02.021Z"
   },
   {
    "duration": 14,
    "start_time": "2023-06-01T14:42:04.488Z"
   },
   {
    "duration": 9,
    "start_time": "2023-06-01T14:42:04.947Z"
   },
   {
    "duration": 18,
    "start_time": "2023-06-01T14:42:05.579Z"
   },
   {
    "duration": 118,
    "start_time": "2023-06-01T14:47:22.769Z"
   },
   {
    "duration": 91,
    "start_time": "2023-06-01T14:47:32.610Z"
   },
   {
    "duration": 77,
    "start_time": "2023-06-01T14:47:39.961Z"
   },
   {
    "duration": 78,
    "start_time": "2023-06-01T14:48:06.585Z"
   },
   {
    "duration": 32,
    "start_time": "2023-06-01T14:48:32.657Z"
   },
   {
    "duration": 24,
    "start_time": "2023-06-01T14:48:50.496Z"
   },
   {
    "duration": 23,
    "start_time": "2023-06-01T14:49:08.470Z"
   },
   {
    "duration": 106,
    "start_time": "2023-06-01T14:49:15.964Z"
   },
   {
    "duration": 89,
    "start_time": "2023-06-01T14:49:37.062Z"
   },
   {
    "duration": 10,
    "start_time": "2023-06-01T15:07:35.006Z"
   },
   {
    "duration": 21,
    "start_time": "2023-06-01T15:08:11.168Z"
   },
   {
    "duration": 13,
    "start_time": "2023-06-01T15:08:17.207Z"
   },
   {
    "duration": 11,
    "start_time": "2023-06-01T15:08:40.903Z"
   },
   {
    "duration": 16,
    "start_time": "2023-06-01T15:08:41.274Z"
   },
   {
    "duration": 1159,
    "start_time": "2023-06-01T15:10:05.973Z"
   },
   {
    "duration": 333,
    "start_time": "2023-06-01T15:10:07.134Z"
   },
   {
    "duration": 28,
    "start_time": "2023-06-01T15:10:07.469Z"
   },
   {
    "duration": 239,
    "start_time": "2023-06-01T15:10:07.499Z"
   },
   {
    "duration": 98,
    "start_time": "2023-06-01T15:10:07.740Z"
   },
   {
    "duration": 12,
    "start_time": "2023-06-01T15:10:07.839Z"
   },
   {
    "duration": 178,
    "start_time": "2023-06-01T15:10:07.853Z"
   },
   {
    "duration": 400,
    "start_time": "2023-06-01T15:10:08.034Z"
   },
   {
    "duration": 19,
    "start_time": "2023-06-01T15:10:08.436Z"
   },
   {
    "duration": 272,
    "start_time": "2023-06-01T15:10:08.458Z"
   },
   {
    "duration": 3,
    "start_time": "2023-06-01T15:10:09.773Z"
   },
   {
    "duration": 3,
    "start_time": "2023-06-01T15:10:10.262Z"
   },
   {
    "duration": 8,
    "start_time": "2023-06-01T15:10:10.691Z"
   },
   {
    "duration": 15,
    "start_time": "2023-06-01T15:10:11.990Z"
   },
   {
    "duration": 13,
    "start_time": "2023-06-01T15:10:13.527Z"
   },
   {
    "duration": 27,
    "start_time": "2023-06-01T15:10:13.964Z"
   },
   {
    "duration": 8,
    "start_time": "2023-06-01T15:10:14.192Z"
   },
   {
    "duration": 83,
    "start_time": "2023-06-01T15:10:16.292Z"
   },
   {
    "duration": 36,
    "start_time": "2023-06-01T15:10:16.656Z"
   },
   {
    "duration": 94,
    "start_time": "2023-06-01T15:10:17.066Z"
   },
   {
    "duration": 9,
    "start_time": "2023-06-01T15:11:02.795Z"
   },
   {
    "duration": 7,
    "start_time": "2023-06-01T15:11:03.891Z"
   },
   {
    "duration": 15,
    "start_time": "2023-06-01T15:27:04.379Z"
   },
   {
    "duration": 96,
    "start_time": "2023-06-01T15:27:26.381Z"
   },
   {
    "duration": 9,
    "start_time": "2023-06-01T15:27:33.263Z"
   },
   {
    "duration": 9,
    "start_time": "2023-06-01T15:29:10.014Z"
   },
   {
    "duration": 9,
    "start_time": "2023-06-01T15:29:25.689Z"
   },
   {
    "duration": 10,
    "start_time": "2023-06-01T15:38:09.496Z"
   },
   {
    "duration": 17,
    "start_time": "2023-06-01T15:38:59.859Z"
   },
   {
    "duration": 13,
    "start_time": "2023-06-01T15:39:18.588Z"
   },
   {
    "duration": 1128,
    "start_time": "2023-06-01T15:39:44.903Z"
   },
   {
    "duration": 348,
    "start_time": "2023-06-01T15:39:46.034Z"
   },
   {
    "duration": 19,
    "start_time": "2023-06-01T15:39:46.384Z"
   },
   {
    "duration": 249,
    "start_time": "2023-06-01T15:39:46.406Z"
   },
   {
    "duration": 98,
    "start_time": "2023-06-01T15:39:46.657Z"
   },
   {
    "duration": 21,
    "start_time": "2023-06-01T15:39:46.757Z"
   },
   {
    "duration": 138,
    "start_time": "2023-06-01T15:39:46.780Z"
   },
   {
    "duration": 367,
    "start_time": "2023-06-01T15:39:46.920Z"
   },
   {
    "duration": 17,
    "start_time": "2023-06-01T15:39:47.288Z"
   },
   {
    "duration": 260,
    "start_time": "2023-06-01T15:39:47.306Z"
   },
   {
    "duration": 3,
    "start_time": "2023-06-01T15:39:48.287Z"
   },
   {
    "duration": 5,
    "start_time": "2023-06-01T15:39:48.817Z"
   },
   {
    "duration": 7,
    "start_time": "2023-06-01T15:39:49.192Z"
   },
   {
    "duration": 14,
    "start_time": "2023-06-01T15:39:50.717Z"
   },
   {
    "duration": 13,
    "start_time": "2023-06-01T15:39:52.291Z"
   },
   {
    "duration": 17,
    "start_time": "2023-06-01T15:39:52.691Z"
   },
   {
    "duration": 7,
    "start_time": "2023-06-01T15:39:52.998Z"
   },
   {
    "duration": 76,
    "start_time": "2023-06-01T15:39:53.263Z"
   },
   {
    "duration": 24,
    "start_time": "2023-06-01T15:39:53.467Z"
   },
   {
    "duration": 87,
    "start_time": "2023-06-01T15:39:53.867Z"
   },
   {
    "duration": 13,
    "start_time": "2023-06-01T15:39:55.104Z"
   },
   {
    "duration": 7,
    "start_time": "2023-06-01T15:40:03.711Z"
   },
   {
    "duration": 7,
    "start_time": "2023-06-01T15:40:04.255Z"
   },
   {
    "duration": 10,
    "start_time": "2023-06-01T15:40:06.818Z"
   },
   {
    "duration": 17,
    "start_time": "2023-06-01T15:42:21.195Z"
   },
   {
    "duration": 14,
    "start_time": "2023-06-01T15:42:21.971Z"
   },
   {
    "duration": 1214,
    "start_time": "2023-06-01T17:25:03.908Z"
   },
   {
    "duration": 1656,
    "start_time": "2023-06-01T17:25:06.198Z"
   },
   {
    "duration": 29,
    "start_time": "2023-06-01T17:25:07.856Z"
   },
   {
    "duration": 249,
    "start_time": "2023-06-01T17:25:07.888Z"
   },
   {
    "duration": 766,
    "start_time": "2023-06-01T17:25:08.162Z"
   },
   {
    "duration": 12,
    "start_time": "2023-06-01T17:25:08.930Z"
   },
   {
    "duration": 128,
    "start_time": "2023-06-01T17:25:09.088Z"
   },
   {
    "duration": 1721,
    "start_time": "2023-06-01T17:25:09.487Z"
   },
   {
    "duration": 18,
    "start_time": "2023-06-01T17:25:11.210Z"
   },
   {
    "duration": 268,
    "start_time": "2023-06-01T17:25:11.230Z"
   },
   {
    "duration": 3,
    "start_time": "2023-06-01T17:25:42.313Z"
   },
   {
    "duration": 2,
    "start_time": "2023-06-01T17:26:02.101Z"
   },
   {
    "duration": 7,
    "start_time": "2023-06-01T17:26:02.889Z"
   },
   {
    "duration": 14,
    "start_time": "2023-06-01T17:27:31.294Z"
   },
   {
    "duration": 16,
    "start_time": "2023-06-01T17:30:09.687Z"
   },
   {
    "duration": 16,
    "start_time": "2023-06-01T17:30:20.610Z"
   },
   {
    "duration": 1165,
    "start_time": "2023-06-01T17:31:52.738Z"
   },
   {
    "duration": 411,
    "start_time": "2023-06-01T17:31:53.905Z"
   },
   {
    "duration": 22,
    "start_time": "2023-06-01T17:31:54.318Z"
   },
   {
    "duration": 263,
    "start_time": "2023-06-01T17:31:54.342Z"
   },
   {
    "duration": 99,
    "start_time": "2023-06-01T17:31:54.607Z"
   },
   {
    "duration": 13,
    "start_time": "2023-06-01T17:31:54.709Z"
   },
   {
    "duration": 171,
    "start_time": "2023-06-01T17:31:54.723Z"
   },
   {
    "duration": 422,
    "start_time": "2023-06-01T17:31:54.896Z"
   },
   {
    "duration": 17,
    "start_time": "2023-06-01T17:31:55.319Z"
   },
   {
    "duration": 283,
    "start_time": "2023-06-01T17:31:55.338Z"
   },
   {
    "duration": 3,
    "start_time": "2023-06-01T17:31:56.162Z"
   },
   {
    "duration": 6,
    "start_time": "2023-06-01T17:31:56.889Z"
   },
   {
    "duration": 8,
    "start_time": "2023-06-01T17:31:57.110Z"
   },
   {
    "duration": 25,
    "start_time": "2023-06-01T17:31:58.166Z"
   },
   {
    "duration": 139,
    "start_time": "2023-06-01T17:31:59.496Z"
   },
   {
    "duration": 16,
    "start_time": "2023-06-01T17:31:59.998Z"
   },
   {
    "duration": 91,
    "start_time": "2023-06-01T17:32:07.921Z"
   },
   {
    "duration": 4,
    "start_time": "2023-06-01T17:32:37.602Z"
   },
   {
    "duration": 37,
    "start_time": "2023-06-01T17:32:39.789Z"
   },
   {
    "duration": 4,
    "start_time": "2023-06-01T17:32:41.451Z"
   },
   {
    "duration": 8,
    "start_time": "2023-06-01T17:32:44.466Z"
   },
   {
    "duration": 121,
    "start_time": "2023-06-01T17:33:24.109Z"
   },
   {
    "duration": 30,
    "start_time": "2023-06-01T17:33:25.776Z"
   },
   {
    "duration": 111,
    "start_time": "2023-06-01T17:33:26.394Z"
   },
   {
    "duration": 13,
    "start_time": "2023-06-01T17:33:35.322Z"
   },
   {
    "duration": 14,
    "start_time": "2023-06-01T17:33:41.087Z"
   },
   {
    "duration": 8,
    "start_time": "2023-06-01T17:33:42.158Z"
   },
   {
    "duration": 10,
    "start_time": "2023-06-01T17:33:43.107Z"
   },
   {
    "duration": 26,
    "start_time": "2023-06-01T17:33:57.467Z"
   },
   {
    "duration": 14,
    "start_time": "2023-06-01T17:33:58.491Z"
   },
   {
    "duration": 22,
    "start_time": "2023-06-01T17:34:28.491Z"
   },
   {
    "duration": 13,
    "start_time": "2023-06-01T17:35:02.150Z"
   },
   {
    "duration": 8,
    "start_time": "2023-06-01T17:43:53.591Z"
   },
   {
    "duration": 1158,
    "start_time": "2023-06-01T17:44:04.374Z"
   },
   {
    "duration": 450,
    "start_time": "2023-06-01T17:44:05.534Z"
   },
   {
    "duration": 19,
    "start_time": "2023-06-01T17:44:05.986Z"
   },
   {
    "duration": 259,
    "start_time": "2023-06-01T17:44:06.007Z"
   },
   {
    "duration": 103,
    "start_time": "2023-06-01T17:44:06.268Z"
   },
   {
    "duration": 15,
    "start_time": "2023-06-01T17:44:06.584Z"
   },
   {
    "duration": 137,
    "start_time": "2023-06-01T17:44:06.974Z"
   },
   {
    "duration": 454,
    "start_time": "2023-06-01T17:44:07.448Z"
   },
   {
    "duration": 17,
    "start_time": "2023-06-01T17:44:07.904Z"
   },
   {
    "duration": 261,
    "start_time": "2023-06-01T17:44:08.274Z"
   },
   {
    "duration": 3,
    "start_time": "2023-06-01T17:44:09.849Z"
   },
   {
    "duration": 4,
    "start_time": "2023-06-01T17:44:10.594Z"
   },
   {
    "duration": 10,
    "start_time": "2023-06-01T17:44:10.995Z"
   },
   {
    "duration": 16,
    "start_time": "2023-06-01T17:44:12.682Z"
   },
   {
    "duration": 26,
    "start_time": "2023-06-01T17:44:14.236Z"
   },
   {
    "duration": 14,
    "start_time": "2023-06-01T17:44:14.652Z"
   },
   {
    "duration": 10,
    "start_time": "2023-06-01T17:44:15.186Z"
   },
   {
    "duration": 125,
    "start_time": "2023-06-01T17:44:15.646Z"
   },
   {
    "duration": 20,
    "start_time": "2023-06-01T17:44:16.109Z"
   },
   {
    "duration": 154,
    "start_time": "2023-06-01T17:44:16.573Z"
   },
   {
    "duration": 13,
    "start_time": "2023-06-01T17:44:17.553Z"
   },
   {
    "duration": 12,
    "start_time": "2023-06-01T17:44:18.175Z"
   },
   {
    "duration": 6,
    "start_time": "2023-06-01T17:44:18.654Z"
   },
   {
    "duration": 8,
    "start_time": "2023-06-01T17:44:53.488Z"
   },
   {
    "duration": 87,
    "start_time": "2023-06-01T17:45:16.817Z"
   },
   {
    "duration": 25,
    "start_time": "2023-06-01T17:45:19.162Z"
   },
   {
    "duration": 94,
    "start_time": "2023-06-01T17:45:19.561Z"
   },
   {
    "duration": 14,
    "start_time": "2023-06-01T17:45:31.759Z"
   },
   {
    "duration": 10,
    "start_time": "2023-06-01T17:45:33.879Z"
   },
   {
    "duration": 8,
    "start_time": "2023-06-01T17:45:35.561Z"
   },
   {
    "duration": 11,
    "start_time": "2023-06-01T17:45:36.171Z"
   },
   {
    "duration": 17,
    "start_time": "2023-06-01T17:45:57.185Z"
   },
   {
    "duration": 15,
    "start_time": "2023-06-01T17:45:58.420Z"
   },
   {
    "duration": 13,
    "start_time": "2023-06-01T17:46:06.863Z"
   },
   {
    "duration": 121,
    "start_time": "2023-06-01T17:49:48.978Z"
   },
   {
    "duration": 754,
    "start_time": "2023-06-01T17:50:32.725Z"
   },
   {
    "duration": 28,
    "start_time": "2023-06-01T17:50:35.769Z"
   },
   {
    "duration": 63,
    "start_time": "2023-06-01T17:51:00.102Z"
   },
   {
    "duration": 23,
    "start_time": "2023-06-01T17:51:04.222Z"
   },
   {
    "duration": 3735,
    "start_time": "2023-06-01T17:51:34.802Z"
   },
   {
    "duration": 1419,
    "start_time": "2023-06-01T17:52:52.051Z"
   },
   {
    "duration": 340,
    "start_time": "2023-06-01T17:52:53.472Z"
   },
   {
    "duration": 16,
    "start_time": "2023-06-01T17:52:53.814Z"
   },
   {
    "duration": 299,
    "start_time": "2023-06-01T17:52:53.832Z"
   },
   {
    "duration": 130,
    "start_time": "2023-06-01T17:52:54.133Z"
   },
   {
    "duration": 27,
    "start_time": "2023-06-01T17:52:54.265Z"
   },
   {
    "duration": 141,
    "start_time": "2023-06-01T17:52:54.298Z"
   },
   {
    "duration": 420,
    "start_time": "2023-06-01T17:52:54.441Z"
   },
   {
    "duration": 26,
    "start_time": "2023-06-01T17:52:54.864Z"
   },
   {
    "duration": 273,
    "start_time": "2023-06-01T17:52:55.048Z"
   },
   {
    "duration": 4,
    "start_time": "2023-06-01T17:52:56.110Z"
   },
   {
    "duration": 3,
    "start_time": "2023-06-01T17:52:56.627Z"
   },
   {
    "duration": 14,
    "start_time": "2023-06-01T17:52:56.857Z"
   },
   {
    "duration": 16,
    "start_time": "2023-06-01T17:52:57.757Z"
   },
   {
    "duration": 33,
    "start_time": "2023-06-01T17:52:58.659Z"
   },
   {
    "duration": 27,
    "start_time": "2023-06-01T17:52:58.874Z"
   },
   {
    "duration": 10,
    "start_time": "2023-06-01T17:52:59.091Z"
   },
   {
    "duration": 93,
    "start_time": "2023-06-01T17:52:59.351Z"
   },
   {
    "duration": 27,
    "start_time": "2023-06-01T17:52:59.564Z"
   },
   {
    "duration": 95,
    "start_time": "2023-06-01T17:52:59.791Z"
   },
   {
    "duration": 13,
    "start_time": "2023-06-01T17:53:00.256Z"
   },
   {
    "duration": 17,
    "start_time": "2023-06-01T17:53:00.479Z"
   },
   {
    "duration": 8,
    "start_time": "2023-06-01T17:53:00.712Z"
   },
   {
    "duration": 13,
    "start_time": "2023-06-01T17:53:00.957Z"
   },
   {
    "duration": 21,
    "start_time": "2023-06-01T17:53:01.385Z"
   },
   {
    "duration": 121,
    "start_time": "2023-06-01T17:53:01.622Z"
   },
   {
    "duration": 3628,
    "start_time": "2023-06-01T17:53:03.889Z"
   },
   {
    "duration": 17,
    "start_time": "2023-06-01T17:53:13.021Z"
   },
   {
    "duration": 3,
    "start_time": "2023-06-01T19:17:07.792Z"
   },
   {
    "duration": 10,
    "start_time": "2023-06-01T19:38:26.687Z"
   },
   {
    "duration": 1080,
    "start_time": "2023-06-01T19:40:30.391Z"
   },
   {
    "duration": 1223,
    "start_time": "2023-06-01T19:42:08.849Z"
   },
   {
    "duration": 1462,
    "start_time": "2023-06-01T19:43:03.803Z"
   },
   {
    "duration": 1633,
    "start_time": "2023-06-01T19:43:26.614Z"
   },
   {
    "duration": 821,
    "start_time": "2023-06-01T19:43:36.102Z"
   },
   {
    "duration": 978,
    "start_time": "2023-06-01T19:44:26.734Z"
   },
   {
    "duration": 1048,
    "start_time": "2023-06-01T19:44:39.844Z"
   },
   {
    "duration": 1184,
    "start_time": "2023-06-01T19:45:16.981Z"
   },
   {
    "duration": 349,
    "start_time": "2023-06-01T19:46:08.818Z"
   },
   {
    "duration": 309,
    "start_time": "2023-06-01T19:46:18.460Z"
   },
   {
    "duration": 510,
    "start_time": "2023-06-01T19:46:24.899Z"
   },
   {
    "duration": 356,
    "start_time": "2023-06-01T19:46:32.631Z"
   },
   {
    "duration": 356,
    "start_time": "2023-06-01T19:46:37.639Z"
   },
   {
    "duration": 400,
    "start_time": "2023-06-01T19:47:32.159Z"
   },
   {
    "duration": 590,
    "start_time": "2023-06-01T19:48:01.920Z"
   },
   {
    "duration": 1330,
    "start_time": "2023-06-01T19:48:13.043Z"
   },
   {
    "duration": 16,
    "start_time": "2023-06-01T19:48:28.695Z"
   },
   {
    "duration": 404,
    "start_time": "2023-06-01T19:48:42.197Z"
   },
   {
    "duration": 1336,
    "start_time": "2023-06-01T19:49:39.647Z"
   },
   {
    "duration": 1607,
    "start_time": "2023-06-02T18:20:20.405Z"
   },
   {
    "duration": 1592,
    "start_time": "2023-06-02T18:20:22.014Z"
   },
   {
    "duration": 18,
    "start_time": "2023-06-02T18:20:23.608Z"
   },
   {
    "duration": 224,
    "start_time": "2023-06-02T18:20:23.628Z"
   },
   {
    "duration": 465,
    "start_time": "2023-06-02T18:20:23.854Z"
   },
   {
    "duration": 13,
    "start_time": "2023-06-02T18:20:24.320Z"
   },
   {
    "duration": 135,
    "start_time": "2023-06-02T18:20:24.335Z"
   },
   {
    "duration": 2098,
    "start_time": "2023-06-02T18:20:24.472Z"
   },
   {
    "duration": 31,
    "start_time": "2023-06-02T18:20:26.572Z"
   },
   {
    "duration": 314,
    "start_time": "2023-06-02T18:20:26.608Z"
   },
   {
    "duration": 6,
    "start_time": "2023-06-02T18:20:26.925Z"
   },
   {
    "duration": 10,
    "start_time": "2023-06-02T18:20:26.933Z"
   },
   {
    "duration": 27,
    "start_time": "2023-06-02T18:20:26.945Z"
   },
   {
    "duration": 13,
    "start_time": "2023-06-02T18:20:28.844Z"
   },
   {
    "duration": 31,
    "start_time": "2023-06-02T18:20:31.165Z"
   },
   {
    "duration": 17,
    "start_time": "2023-06-02T18:20:31.567Z"
   },
   {
    "duration": 9,
    "start_time": "2023-06-02T18:20:31.866Z"
   },
   {
    "duration": 101,
    "start_time": "2023-06-02T18:20:32.251Z"
   },
   {
    "duration": 24,
    "start_time": "2023-06-02T18:20:32.622Z"
   },
   {
    "duration": 143,
    "start_time": "2023-06-02T18:20:32.998Z"
   },
   {
    "duration": 19,
    "start_time": "2023-06-02T18:20:33.714Z"
   },
   {
    "duration": 12,
    "start_time": "2023-06-02T18:20:34.201Z"
   },
   {
    "duration": 7,
    "start_time": "2023-06-02T18:20:34.758Z"
   },
   {
    "duration": 21,
    "start_time": "2023-06-02T18:20:35.310Z"
   },
   {
    "duration": 307,
    "start_time": "2023-06-02T18:20:36.155Z"
   },
   {
    "duration": 14,
    "start_time": "2023-06-02T18:20:36.559Z"
   },
   {
    "duration": 3,
    "start_time": "2023-06-02T18:20:39.224Z"
   },
   {
    "duration": 1356,
    "start_time": "2023-06-02T18:20:40.410Z"
   },
   {
    "duration": 527,
    "start_time": "2023-06-02T18:21:25.692Z"
   },
   {
    "duration": 1818,
    "start_time": "2023-06-02T18:29:36.510Z"
   },
   {
    "duration": 2034,
    "start_time": "2023-06-02T18:30:17.302Z"
   },
   {
    "duration": 137,
    "start_time": "2023-06-02T18:30:24.473Z"
   },
   {
    "duration": 1588,
    "start_time": "2023-06-02T18:30:43.339Z"
   },
   {
    "duration": 386,
    "start_time": "2023-06-02T18:30:44.932Z"
   },
   {
    "duration": 25,
    "start_time": "2023-06-02T18:30:45.320Z"
   },
   {
    "duration": 376,
    "start_time": "2023-06-02T18:30:45.348Z"
   },
   {
    "duration": 150,
    "start_time": "2023-06-02T18:30:45.726Z"
   },
   {
    "duration": 24,
    "start_time": "2023-06-02T18:30:45.885Z"
   },
   {
    "duration": 207,
    "start_time": "2023-06-02T18:30:45.912Z"
   },
   {
    "duration": 517,
    "start_time": "2023-06-02T18:30:46.122Z"
   },
   {
    "duration": 20,
    "start_time": "2023-06-02T18:30:46.641Z"
   },
   {
    "duration": 359,
    "start_time": "2023-06-02T18:30:46.663Z"
   },
   {
    "duration": 3,
    "start_time": "2023-06-02T18:30:47.030Z"
   },
   {
    "duration": 8,
    "start_time": "2023-06-02T18:30:47.035Z"
   },
   {
    "duration": 9,
    "start_time": "2023-06-02T18:30:47.046Z"
   },
   {
    "duration": 18,
    "start_time": "2023-06-02T18:30:47.640Z"
   },
   {
    "duration": 28,
    "start_time": "2023-06-02T18:30:48.448Z"
   },
   {
    "duration": 27,
    "start_time": "2023-06-02T18:30:48.660Z"
   },
   {
    "duration": 14,
    "start_time": "2023-06-02T18:30:48.867Z"
   },
   {
    "duration": 134,
    "start_time": "2023-06-02T18:30:49.071Z"
   },
   {
    "duration": 41,
    "start_time": "2023-06-02T18:30:49.277Z"
   },
   {
    "duration": 143,
    "start_time": "2023-06-02T18:30:49.514Z"
   },
   {
    "duration": 22,
    "start_time": "2023-06-02T18:30:49.913Z"
   },
   {
    "duration": 9,
    "start_time": "2023-06-02T18:30:50.116Z"
   },
   {
    "duration": 9,
    "start_time": "2023-06-02T18:30:50.320Z"
   },
   {
    "duration": 213,
    "start_time": "2023-06-02T18:30:50.540Z"
   },
   {
    "duration": 18,
    "start_time": "2023-06-02T18:30:51.012Z"
   },
   {
    "duration": 13,
    "start_time": "2023-06-02T18:30:51.331Z"
   },
   {
    "duration": 3,
    "start_time": "2023-06-02T18:30:52.409Z"
   },
   {
    "duration": 116,
    "start_time": "2023-06-02T18:30:52.611Z"
   },
   {
    "duration": 19,
    "start_time": "2023-06-02T18:30:58.904Z"
   },
   {
    "duration": 1271,
    "start_time": "2023-06-02T18:31:07.287Z"
   },
   {
    "duration": 2089,
    "start_time": "2023-06-02T18:32:18.650Z"
   },
   {
    "duration": 2095,
    "start_time": "2023-06-02T18:32:45.340Z"
   },
   {
    "duration": 532,
    "start_time": "2023-06-02T18:33:58.117Z"
   },
   {
    "duration": 1945,
    "start_time": "2023-06-02T18:34:16.903Z"
   },
   {
    "duration": 621,
    "start_time": "2023-06-02T18:37:10.392Z"
   },
   {
    "duration": 1812,
    "start_time": "2023-06-02T18:38:21.562Z"
   },
   {
    "duration": 1844,
    "start_time": "2023-06-02T18:38:47.324Z"
   },
   {
    "duration": 1736,
    "start_time": "2023-06-02T18:38:57.222Z"
   },
   {
    "duration": 2018,
    "start_time": "2023-06-02T18:40:25.943Z"
   },
   {
    "duration": 1401,
    "start_time": "2023-06-02T18:41:45.418Z"
   },
   {
    "duration": 1754,
    "start_time": "2023-06-02T18:43:05.903Z"
   },
   {
    "duration": 1177,
    "start_time": "2023-06-02T18:47:32.519Z"
   },
   {
    "duration": 1096,
    "start_time": "2023-06-02T18:47:58.818Z"
   },
   {
    "duration": 1300,
    "start_time": "2023-06-02T18:48:35.565Z"
   },
   {
    "duration": 1524,
    "start_time": "2023-06-02T18:49:31.453Z"
   },
   {
    "duration": 2320,
    "start_time": "2023-06-02T18:52:54.294Z"
   },
   {
    "duration": 1810,
    "start_time": "2023-06-02T18:53:20.050Z"
   },
   {
    "duration": 2022,
    "start_time": "2023-06-02T18:53:32.645Z"
   },
   {
    "duration": 7,
    "start_time": "2023-06-02T19:16:22.319Z"
   },
   {
    "duration": 2492,
    "start_time": "2023-06-02T19:19:34.110Z"
   },
   {
    "duration": 2081,
    "start_time": "2023-06-02T19:19:44.778Z"
   },
   {
    "duration": 2029,
    "start_time": "2023-06-02T19:19:57.317Z"
   },
   {
    "duration": 2894,
    "start_time": "2023-06-02T19:20:39.292Z"
   },
   {
    "duration": 3,
    "start_time": "2023-06-02T19:31:34.757Z"
   },
   {
    "duration": 1548,
    "start_time": "2023-06-02T19:46:06.172Z"
   },
   {
    "duration": 400,
    "start_time": "2023-06-02T19:46:07.723Z"
   },
   {
    "duration": 16,
    "start_time": "2023-06-02T19:46:08.125Z"
   },
   {
    "duration": 255,
    "start_time": "2023-06-02T19:46:08.143Z"
   },
   {
    "duration": 104,
    "start_time": "2023-06-02T19:46:08.401Z"
   },
   {
    "duration": 12,
    "start_time": "2023-06-02T19:46:08.865Z"
   },
   {
    "duration": 120,
    "start_time": "2023-06-02T19:46:09.148Z"
   },
   {
    "duration": 456,
    "start_time": "2023-06-02T19:46:09.465Z"
   },
   {
    "duration": 18,
    "start_time": "2023-06-02T19:46:09.923Z"
   },
   {
    "duration": 268,
    "start_time": "2023-06-02T19:46:10.064Z"
   },
   {
    "duration": 3,
    "start_time": "2023-06-02T19:46:28.314Z"
   },
   {
    "duration": 3,
    "start_time": "2023-06-02T19:46:35.455Z"
   },
   {
    "duration": 6,
    "start_time": "2023-06-02T19:46:36.014Z"
   },
   {
    "duration": 18,
    "start_time": "2023-06-02T19:46:44.874Z"
   },
   {
    "duration": 24,
    "start_time": "2023-06-02T19:47:08.739Z"
   },
   {
    "duration": 14,
    "start_time": "2023-06-02T19:47:09.736Z"
   },
   {
    "duration": 8,
    "start_time": "2023-06-02T19:47:12.147Z"
   },
   {
    "duration": 80,
    "start_time": "2023-06-02T19:47:13.650Z"
   },
   {
    "duration": 19,
    "start_time": "2023-06-02T19:47:14.210Z"
   },
   {
    "duration": 105,
    "start_time": "2023-06-02T19:47:14.564Z"
   },
   {
    "duration": 23,
    "start_time": "2023-06-02T19:47:17.387Z"
   },
   {
    "duration": 9,
    "start_time": "2023-06-02T19:47:17.940Z"
   },
   {
    "duration": 8,
    "start_time": "2023-06-02T19:47:18.633Z"
   },
   {
    "duration": 9,
    "start_time": "2023-06-02T19:47:19.619Z"
   },
   {
    "duration": 20,
    "start_time": "2023-06-02T19:47:25.598Z"
   },
   {
    "duration": 19,
    "start_time": "2023-06-02T19:47:26.274Z"
   },
   {
    "duration": 2413,
    "start_time": "2023-06-02T19:48:48.918Z"
   },
   {
    "duration": 2329,
    "start_time": "2023-06-02T19:48:59.008Z"
   },
   {
    "duration": 2432,
    "start_time": "2023-06-02T19:49:12.903Z"
   },
   {
    "duration": 2593,
    "start_time": "2023-06-02T19:49:27.174Z"
   },
   {
    "duration": 2594,
    "start_time": "2023-06-02T19:49:38.854Z"
   },
   {
    "duration": 2697,
    "start_time": "2023-06-02T19:49:54.234Z"
   },
   {
    "duration": 1809,
    "start_time": "2023-06-02T19:50:16.749Z"
   },
   {
    "duration": 1891,
    "start_time": "2023-06-02T19:50:18.560Z"
   },
   {
    "duration": 1356,
    "start_time": "2023-06-02T19:59:37.011Z"
   },
   {
    "duration": 9,
    "start_time": "2023-06-02T20:00:39.506Z"
   },
   {
    "duration": 2843,
    "start_time": "2023-06-02T20:00:40.303Z"
   },
   {
    "duration": 3015,
    "start_time": "2023-06-02T20:02:57.651Z"
   },
   {
    "duration": 3,
    "start_time": "2023-06-02T20:05:30.273Z"
   },
   {
    "duration": 105,
    "start_time": "2023-06-02T20:22:52.935Z"
   },
   {
    "duration": 18,
    "start_time": "2023-06-02T20:23:44.152Z"
   },
   {
    "duration": 17,
    "start_time": "2023-06-02T20:24:30.201Z"
   },
   {
    "duration": 18,
    "start_time": "2023-06-02T20:24:54.812Z"
   },
   {
    "duration": 20,
    "start_time": "2023-06-02T20:25:01.524Z"
   },
   {
    "duration": 1438,
    "start_time": "2023-06-02T20:27:24.859Z"
   },
   {
    "duration": 328,
    "start_time": "2023-06-02T20:27:26.299Z"
   },
   {
    "duration": 18,
    "start_time": "2023-06-02T20:27:26.629Z"
   },
   {
    "duration": 256,
    "start_time": "2023-06-02T20:27:26.649Z"
   },
   {
    "duration": 94,
    "start_time": "2023-06-02T20:27:26.906Z"
   },
   {
    "duration": 12,
    "start_time": "2023-06-02T20:27:27.002Z"
   },
   {
    "duration": 148,
    "start_time": "2023-06-02T20:27:27.016Z"
   },
   {
    "duration": 433,
    "start_time": "2023-06-02T20:27:27.166Z"
   },
   {
    "duration": 21,
    "start_time": "2023-06-02T20:27:27.602Z"
   },
   {
    "duration": 258,
    "start_time": "2023-06-02T20:27:27.625Z"
   },
   {
    "duration": 4,
    "start_time": "2023-06-02T20:27:27.889Z"
   },
   {
    "duration": 3,
    "start_time": "2023-06-02T20:27:28.322Z"
   },
   {
    "duration": 7,
    "start_time": "2023-06-02T20:27:28.555Z"
   },
   {
    "duration": 15,
    "start_time": "2023-06-02T20:27:29.438Z"
   },
   {
    "duration": 25,
    "start_time": "2023-06-02T20:27:30.338Z"
   },
   {
    "duration": 15,
    "start_time": "2023-06-02T20:27:30.546Z"
   },
   {
    "duration": 9,
    "start_time": "2023-06-02T20:27:30.773Z"
   },
   {
    "duration": 76,
    "start_time": "2023-06-02T20:27:30.998Z"
   },
   {
    "duration": 20,
    "start_time": "2023-06-02T20:27:31.199Z"
   },
   {
    "duration": 101,
    "start_time": "2023-06-02T20:27:31.437Z"
   },
   {
    "duration": 14,
    "start_time": "2023-06-02T20:27:31.865Z"
   },
   {
    "duration": 8,
    "start_time": "2023-06-02T20:27:32.079Z"
   },
   {
    "duration": 7,
    "start_time": "2023-06-02T20:27:32.296Z"
   },
   {
    "duration": 9,
    "start_time": "2023-06-02T20:27:32.498Z"
   },
   {
    "duration": 16,
    "start_time": "2023-06-02T20:27:32.923Z"
   },
   {
    "duration": 13,
    "start_time": "2023-06-02T20:27:33.138Z"
   },
   {
    "duration": 2349,
    "start_time": "2023-06-02T20:27:34.237Z"
   },
   {
    "duration": 1735,
    "start_time": "2023-06-02T20:27:36.589Z"
   },
   {
    "duration": 1940,
    "start_time": "2023-06-02T20:27:38.325Z"
   },
   {
    "duration": 1312,
    "start_time": "2023-06-02T20:27:40.267Z"
   },
   {
    "duration": 6,
    "start_time": "2023-06-02T20:27:41.581Z"
   },
   {
    "duration": 2750,
    "start_time": "2023-06-02T20:27:41.589Z"
   },
   {
    "duration": 4,
    "start_time": "2023-06-02T20:27:44.340Z"
   },
   {
    "duration": 147,
    "start_time": "2023-06-02T20:27:44.346Z"
   },
   {
    "duration": 13,
    "start_time": "2023-06-02T20:29:22.537Z"
   },
   {
    "duration": 14,
    "start_time": "2023-06-02T20:29:33.905Z"
   },
   {
    "duration": 14,
    "start_time": "2023-06-02T20:29:45.755Z"
   },
   {
    "duration": 15,
    "start_time": "2023-06-02T20:33:52.829Z"
   },
   {
    "duration": 13,
    "start_time": "2023-06-02T20:35:16.562Z"
   },
   {
    "duration": 3,
    "start_time": "2023-06-02T20:39:36.847Z"
   },
   {
    "duration": 54,
    "start_time": "2023-06-02T20:40:41.633Z"
   },
   {
    "duration": 3,
    "start_time": "2023-06-02T20:43:06.398Z"
   },
   {
    "duration": 1666,
    "start_time": "2023-06-03T16:49:39.736Z"
   },
   {
    "duration": 1789,
    "start_time": "2023-06-03T16:49:41.404Z"
   },
   {
    "duration": 23,
    "start_time": "2023-06-03T16:49:43.195Z"
   },
   {
    "duration": 274,
    "start_time": "2023-06-03T16:49:43.220Z"
   },
   {
    "duration": 790,
    "start_time": "2023-06-03T16:49:43.496Z"
   },
   {
    "duration": 14,
    "start_time": "2023-06-03T16:49:44.288Z"
   },
   {
    "duration": 138,
    "start_time": "2023-06-03T16:49:44.304Z"
   },
   {
    "duration": 1815,
    "start_time": "2023-06-03T16:49:44.444Z"
   },
   {
    "duration": 28,
    "start_time": "2023-06-03T16:49:46.263Z"
   },
   {
    "duration": 311,
    "start_time": "2023-06-03T16:49:46.295Z"
   },
   {
    "duration": 3,
    "start_time": "2023-06-03T16:49:46.609Z"
   },
   {
    "duration": 21,
    "start_time": "2023-06-03T16:49:46.614Z"
   },
   {
    "duration": 29,
    "start_time": "2023-06-03T16:49:46.638Z"
   },
   {
    "duration": 65,
    "start_time": "2023-06-03T16:49:46.669Z"
   },
   {
    "duration": 30,
    "start_time": "2023-06-03T16:49:46.737Z"
   },
   {
    "duration": 34,
    "start_time": "2023-06-03T16:49:47.246Z"
   },
   {
    "duration": 14,
    "start_time": "2023-06-03T16:49:47.553Z"
   },
   {
    "duration": 85,
    "start_time": "2023-06-03T16:49:48.133Z"
   },
   {
    "duration": 26,
    "start_time": "2023-06-03T16:49:48.365Z"
   },
   {
    "duration": 104,
    "start_time": "2023-06-03T16:49:48.586Z"
   },
   {
    "duration": 21,
    "start_time": "2023-06-03T16:49:49.151Z"
   },
   {
    "duration": 17,
    "start_time": "2023-06-03T16:49:49.454Z"
   },
   {
    "duration": 8,
    "start_time": "2023-06-03T16:49:49.838Z"
   },
   {
    "duration": 19,
    "start_time": "2023-06-03T16:49:50.256Z"
   },
   {
    "duration": 27,
    "start_time": "2023-06-03T16:49:50.983Z"
   },
   {
    "duration": 14,
    "start_time": "2023-06-03T16:49:51.196Z"
   },
   {
    "duration": 2593,
    "start_time": "2023-06-03T16:49:53.240Z"
   },
   {
    "duration": 2027,
    "start_time": "2023-06-03T16:49:55.836Z"
   },
   {
    "duration": 1812,
    "start_time": "2023-06-03T16:49:57.865Z"
   },
   {
    "duration": 1312,
    "start_time": "2023-06-03T16:49:59.679Z"
   },
   {
    "duration": 8,
    "start_time": "2023-06-03T16:50:00.993Z"
   },
   {
    "duration": 2921,
    "start_time": "2023-06-03T16:50:01.004Z"
   },
   {
    "duration": 3,
    "start_time": "2023-06-03T16:50:14.546Z"
   },
   {
    "duration": 138,
    "start_time": "2023-06-03T16:50:14.950Z"
   },
   {
    "duration": 16,
    "start_time": "2023-06-03T17:00:08.227Z"
   },
   {
    "duration": 15,
    "start_time": "2023-06-03T17:00:20.406Z"
   },
   {
    "duration": 1294,
    "start_time": "2023-06-03T17:00:50.470Z"
   },
   {
    "duration": 10,
    "start_time": "2023-06-03T17:02:00.556Z"
   },
   {
    "duration": 14,
    "start_time": "2023-06-03T17:02:19.879Z"
   },
   {
    "duration": 5,
    "start_time": "2023-06-03T17:03:19.490Z"
   },
   {
    "duration": 12,
    "start_time": "2023-06-03T17:03:34.970Z"
   },
   {
    "duration": 20,
    "start_time": "2023-06-03T17:04:09.399Z"
   },
   {
    "duration": 14,
    "start_time": "2023-06-03T17:04:13.629Z"
   },
   {
    "duration": 4,
    "start_time": "2023-06-03T17:04:34.041Z"
   },
   {
    "duration": 13,
    "start_time": "2023-06-03T17:04:42.334Z"
   },
   {
    "duration": 6,
    "start_time": "2023-06-03T17:07:17.974Z"
   },
   {
    "duration": 3,
    "start_time": "2023-06-03T17:08:55.771Z"
   },
   {
    "duration": 11,
    "start_time": "2023-06-03T17:09:21.254Z"
   },
   {
    "duration": 3,
    "start_time": "2023-06-03T17:09:40.540Z"
   },
   {
    "duration": 2,
    "start_time": "2023-06-03T17:09:45.838Z"
   },
   {
    "duration": 12,
    "start_time": "2023-06-03T17:11:27.733Z"
   },
   {
    "duration": 4,
    "start_time": "2023-06-03T17:12:42.194Z"
   },
   {
    "duration": 4,
    "start_time": "2023-06-03T17:12:48.469Z"
   },
   {
    "duration": 1838,
    "start_time": "2023-06-03T19:33:04.872Z"
   },
   {
    "duration": 1662,
    "start_time": "2023-06-03T19:33:07.886Z"
   },
   {
    "duration": 21,
    "start_time": "2023-06-03T19:33:09.550Z"
   },
   {
    "duration": 233,
    "start_time": "2023-06-03T19:33:09.573Z"
   },
   {
    "duration": 420,
    "start_time": "2023-06-03T19:33:09.809Z"
   },
   {
    "duration": 13,
    "start_time": "2023-06-03T19:33:10.231Z"
   },
   {
    "duration": 137,
    "start_time": "2023-06-03T19:33:10.246Z"
   },
   {
    "duration": 1679,
    "start_time": "2023-06-03T19:33:10.384Z"
   },
   {
    "duration": 21,
    "start_time": "2023-06-03T19:33:12.065Z"
   },
   {
    "duration": 273,
    "start_time": "2023-06-03T19:33:12.087Z"
   },
   {
    "duration": 4,
    "start_time": "2023-06-03T19:33:12.363Z"
   },
   {
    "duration": 8,
    "start_time": "2023-06-03T19:33:12.369Z"
   },
   {
    "duration": 10,
    "start_time": "2023-06-03T19:33:12.379Z"
   },
   {
    "duration": 22,
    "start_time": "2023-06-03T19:33:12.390Z"
   },
   {
    "duration": 41,
    "start_time": "2023-06-03T19:33:12.916Z"
   },
   {
    "duration": 23,
    "start_time": "2023-06-03T19:33:13.137Z"
   },
   {
    "duration": 8,
    "start_time": "2023-06-03T19:33:13.359Z"
   },
   {
    "duration": 92,
    "start_time": "2023-06-03T19:33:13.574Z"
   },
   {
    "duration": 24,
    "start_time": "2023-06-03T19:33:13.793Z"
   },
   {
    "duration": 97,
    "start_time": "2023-06-03T19:33:14.022Z"
   },
   {
    "duration": 16,
    "start_time": "2023-06-03T19:33:14.455Z"
   },
   {
    "duration": 8,
    "start_time": "2023-06-03T19:33:14.679Z"
   },
   {
    "duration": 8,
    "start_time": "2023-06-03T19:33:14.920Z"
   },
   {
    "duration": 11,
    "start_time": "2023-06-03T19:33:15.139Z"
   },
   {
    "duration": 22,
    "start_time": "2023-06-03T19:33:15.584Z"
   },
   {
    "duration": 18,
    "start_time": "2023-06-03T19:33:15.805Z"
   },
   {
    "duration": 2357,
    "start_time": "2023-06-03T19:33:16.951Z"
   },
   {
    "duration": 1946,
    "start_time": "2023-06-03T19:33:19.311Z"
   },
   {
    "duration": 1869,
    "start_time": "2023-06-03T19:33:21.259Z"
   },
   {
    "duration": 1436,
    "start_time": "2023-06-03T19:33:23.131Z"
   },
   {
    "duration": 7,
    "start_time": "2023-06-03T19:33:24.569Z"
   },
   {
    "duration": 2910,
    "start_time": "2023-06-03T19:33:24.577Z"
   },
   {
    "duration": 3,
    "start_time": "2023-06-03T19:33:27.489Z"
   },
   {
    "duration": 5,
    "start_time": "2023-06-03T19:35:13.086Z"
   },
   {
    "duration": 7,
    "start_time": "2023-06-03T19:40:50.738Z"
   },
   {
    "duration": 129,
    "start_time": "2023-06-03T19:41:19.153Z"
   },
   {
    "duration": 16,
    "start_time": "2023-06-03T19:41:25.673Z"
   },
   {
    "duration": 16,
    "start_time": "2023-06-03T19:43:48.305Z"
   },
   {
    "duration": 13,
    "start_time": "2023-06-03T19:43:57.576Z"
   },
   {
    "duration": 18,
    "start_time": "2023-06-03T19:45:04.523Z"
   },
   {
    "duration": 13,
    "start_time": "2023-06-03T19:45:05.054Z"
   },
   {
    "duration": 37,
    "start_time": "2023-06-03T19:45:45.906Z"
   },
   {
    "duration": 17,
    "start_time": "2023-06-03T19:45:46.367Z"
   },
   {
    "duration": 14,
    "start_time": "2023-06-03T19:45:46.781Z"
   },
   {
    "duration": 1428,
    "start_time": "2023-06-03T19:45:54.889Z"
   },
   {
    "duration": 372,
    "start_time": "2023-06-03T19:45:56.320Z"
   },
   {
    "duration": 19,
    "start_time": "2023-06-03T19:45:56.694Z"
   },
   {
    "duration": 225,
    "start_time": "2023-06-03T19:45:56.715Z"
   },
   {
    "duration": 95,
    "start_time": "2023-06-03T19:45:56.942Z"
   },
   {
    "duration": 23,
    "start_time": "2023-06-03T19:45:57.039Z"
   },
   {
    "duration": 124,
    "start_time": "2023-06-03T19:45:57.651Z"
   },
   {
    "duration": 420,
    "start_time": "2023-06-03T19:45:58.244Z"
   },
   {
    "duration": 25,
    "start_time": "2023-06-03T19:45:58.786Z"
   },
   {
    "duration": 232,
    "start_time": "2023-06-03T19:45:59.372Z"
   },
   {
    "duration": 5,
    "start_time": "2023-06-03T19:46:01.754Z"
   },
   {
    "duration": 3,
    "start_time": "2023-06-03T19:46:02.737Z"
   },
   {
    "duration": 7,
    "start_time": "2023-06-03T19:46:03.136Z"
   },
   {
    "duration": 14,
    "start_time": "2023-06-03T19:46:04.647Z"
   },
   {
    "duration": 28,
    "start_time": "2023-06-03T19:46:06.526Z"
   },
   {
    "duration": 16,
    "start_time": "2023-06-03T19:46:06.969Z"
   },
   {
    "duration": 7,
    "start_time": "2023-06-03T19:46:07.499Z"
   },
   {
    "duration": 81,
    "start_time": "2023-06-03T19:46:19.883Z"
   },
   {
    "duration": 24,
    "start_time": "2023-06-03T19:46:20.206Z"
   },
   {
    "duration": 103,
    "start_time": "2023-06-03T19:46:20.573Z"
   },
   {
    "duration": 14,
    "start_time": "2023-06-03T19:46:21.168Z"
   },
   {
    "duration": 9,
    "start_time": "2023-06-03T19:46:21.319Z"
   },
   {
    "duration": 9,
    "start_time": "2023-06-03T19:46:21.620Z"
   },
   {
    "duration": 15,
    "start_time": "2023-06-03T19:46:21.896Z"
   },
   {
    "duration": 26,
    "start_time": "2023-06-03T19:46:22.445Z"
   },
   {
    "duration": 21,
    "start_time": "2023-06-03T19:46:22.683Z"
   },
   {
    "duration": 2366,
    "start_time": "2023-06-03T19:46:24.255Z"
   },
   {
    "duration": 1929,
    "start_time": "2023-06-03T19:46:26.623Z"
   },
   {
    "duration": 1884,
    "start_time": "2023-06-03T19:46:28.554Z"
   },
   {
    "duration": 1464,
    "start_time": "2023-06-03T19:46:30.440Z"
   },
   {
    "duration": 7,
    "start_time": "2023-06-03T19:46:31.905Z"
   },
   {
    "duration": 2684,
    "start_time": "2023-06-03T19:46:31.913Z"
   },
   {
    "duration": 3,
    "start_time": "2023-06-03T19:46:34.600Z"
   },
   {
    "duration": 10,
    "start_time": "2023-06-03T19:46:34.605Z"
   },
   {
    "duration": 12,
    "start_time": "2023-06-03T19:51:01.990Z"
   },
   {
    "duration": 11,
    "start_time": "2023-06-03T19:56:55.609Z"
   },
   {
    "duration": 10,
    "start_time": "2023-06-03T19:57:51.194Z"
   },
   {
    "duration": 3,
    "start_time": "2023-06-03T20:06:32.644Z"
   },
   {
    "duration": 226,
    "start_time": "2023-06-03T20:08:24.279Z"
   },
   {
    "duration": 119,
    "start_time": "2023-06-03T20:09:43.422Z"
   },
   {
    "duration": 96,
    "start_time": "2023-06-03T20:10:30.125Z"
   },
   {
    "duration": 4,
    "start_time": "2023-06-03T20:11:50.316Z"
   },
   {
    "duration": 15,
    "start_time": "2023-06-03T20:11:51.099Z"
   },
   {
    "duration": 110,
    "start_time": "2023-06-03T20:13:10.792Z"
   },
   {
    "duration": 1452,
    "start_time": "2023-06-03T20:13:23.224Z"
   },
   {
    "duration": 1351,
    "start_time": "2023-06-03T20:13:24.683Z"
   },
   {
    "duration": 26,
    "start_time": "2023-06-03T20:13:26.036Z"
   },
   {
    "duration": 253,
    "start_time": "2023-06-03T20:13:26.064Z"
   },
   {
    "duration": 439,
    "start_time": "2023-06-03T20:13:26.320Z"
   },
   {
    "duration": 20,
    "start_time": "2023-06-03T20:13:26.762Z"
   },
   {
    "duration": 178,
    "start_time": "2023-06-03T20:13:26.785Z"
   },
   {
    "duration": 1848,
    "start_time": "2023-06-03T20:13:26.966Z"
   },
   {
    "duration": 35,
    "start_time": "2023-06-03T20:13:28.817Z"
   },
   {
    "duration": 396,
    "start_time": "2023-06-03T20:13:28.855Z"
   },
   {
    "duration": 6,
    "start_time": "2023-06-03T20:13:29.257Z"
   },
   {
    "duration": 14,
    "start_time": "2023-06-03T20:13:29.267Z"
   },
   {
    "duration": 17,
    "start_time": "2023-06-03T20:13:29.283Z"
   },
   {
    "duration": 17,
    "start_time": "2023-06-03T20:13:29.302Z"
   },
   {
    "duration": 53,
    "start_time": "2023-06-03T20:13:29.321Z"
   },
   {
    "duration": 21,
    "start_time": "2023-06-03T20:13:29.376Z"
   },
   {
    "duration": 6,
    "start_time": "2023-06-03T20:13:29.399Z"
   },
   {
    "duration": 112,
    "start_time": "2023-06-03T20:13:29.407Z"
   },
   {
    "duration": 21,
    "start_time": "2023-06-03T20:13:29.521Z"
   },
   {
    "duration": 111,
    "start_time": "2023-06-03T20:13:29.556Z"
   },
   {
    "duration": 14,
    "start_time": "2023-06-03T20:13:29.669Z"
   },
   {
    "duration": 9,
    "start_time": "2023-06-03T20:13:29.685Z"
   },
   {
    "duration": 11,
    "start_time": "2023-06-03T20:13:29.696Z"
   },
   {
    "duration": 49,
    "start_time": "2023-06-03T20:13:29.709Z"
   },
   {
    "duration": 18,
    "start_time": "2023-06-03T20:13:29.760Z"
   },
   {
    "duration": 13,
    "start_time": "2023-06-03T20:13:29.780Z"
   },
   {
    "duration": 2772,
    "start_time": "2023-06-03T20:13:29.795Z"
   },
   {
    "duration": 2098,
    "start_time": "2023-06-03T20:13:32.569Z"
   },
   {
    "duration": 1842,
    "start_time": "2023-06-03T20:13:34.669Z"
   },
   {
    "duration": 1380,
    "start_time": "2023-06-03T20:13:36.513Z"
   },
   {
    "duration": 9,
    "start_time": "2023-06-03T20:13:37.895Z"
   },
   {
    "duration": 2883,
    "start_time": "2023-06-03T20:13:37.905Z"
   },
   {
    "duration": 5,
    "start_time": "2023-06-03T20:13:40.792Z"
   },
   {
    "duration": 12,
    "start_time": "2023-06-03T20:13:40.799Z"
   },
   {
    "duration": 213,
    "start_time": "2023-06-03T20:13:40.813Z"
   },
   {
    "duration": 17,
    "start_time": "2023-06-03T20:16:39.333Z"
   },
   {
    "duration": 5,
    "start_time": "2023-06-03T20:18:46.909Z"
   },
   {
    "duration": 107,
    "start_time": "2023-06-03T20:18:57.853Z"
   },
   {
    "duration": 149,
    "start_time": "2023-06-03T20:19:31.385Z"
   },
   {
    "duration": 99,
    "start_time": "2023-06-03T20:19:50.938Z"
   },
   {
    "duration": 21,
    "start_time": "2023-06-03T20:20:37.195Z"
   },
   {
    "duration": 7837,
    "start_time": "2023-06-03T20:20:39.875Z"
   },
   {
    "duration": 500,
    "start_time": "2023-06-03T20:20:49.645Z"
   },
   {
    "duration": 1477,
    "start_time": "2023-06-03T20:28:18.980Z"
   },
   {
    "duration": 349,
    "start_time": "2023-06-03T20:28:20.460Z"
   },
   {
    "duration": 21,
    "start_time": "2023-06-03T20:28:20.811Z"
   },
   {
    "duration": 323,
    "start_time": "2023-06-03T20:28:20.835Z"
   },
   {
    "duration": 158,
    "start_time": "2023-06-03T20:28:21.160Z"
   },
   {
    "duration": 20,
    "start_time": "2023-06-03T20:28:21.320Z"
   },
   {
    "duration": 156,
    "start_time": "2023-06-03T20:28:21.342Z"
   },
   {
    "duration": 425,
    "start_time": "2023-06-03T20:28:21.500Z"
   },
   {
    "duration": 34,
    "start_time": "2023-06-03T20:28:21.927Z"
   },
   {
    "duration": 278,
    "start_time": "2023-06-03T20:28:21.964Z"
   },
   {
    "duration": 12,
    "start_time": "2023-06-03T20:28:22.244Z"
   },
   {
    "duration": 5,
    "start_time": "2023-06-03T20:28:22.259Z"
   },
   {
    "duration": 9,
    "start_time": "2023-06-03T20:28:22.266Z"
   },
   {
    "duration": 15,
    "start_time": "2023-06-03T20:28:22.332Z"
   },
   {
    "duration": 24,
    "start_time": "2023-06-03T20:28:22.476Z"
   },
   {
    "duration": 22,
    "start_time": "2023-06-03T20:28:22.531Z"
   },
   {
    "duration": 8,
    "start_time": "2023-06-03T20:28:22.565Z"
   },
   {
    "duration": 78,
    "start_time": "2023-06-03T20:28:22.634Z"
   },
   {
    "duration": 23,
    "start_time": "2023-06-03T20:28:22.715Z"
   },
   {
    "duration": 113,
    "start_time": "2023-06-03T20:28:22.757Z"
   },
   {
    "duration": 16,
    "start_time": "2023-06-03T20:28:22.873Z"
   },
   {
    "duration": 9,
    "start_time": "2023-06-03T20:28:22.890Z"
   },
   {
    "duration": 10,
    "start_time": "2023-06-03T20:28:22.901Z"
   },
   {
    "duration": 47,
    "start_time": "2023-06-03T20:28:22.914Z"
   },
   {
    "duration": 25,
    "start_time": "2023-06-03T20:28:23.018Z"
   },
   {
    "duration": 18,
    "start_time": "2023-06-03T20:28:23.045Z"
   },
   {
    "duration": 2343,
    "start_time": "2023-06-03T20:28:23.172Z"
   },
   {
    "duration": 2189,
    "start_time": "2023-06-03T20:28:25.518Z"
   },
   {
    "duration": 1914,
    "start_time": "2023-06-03T20:28:27.709Z"
   },
   {
    "duration": 1410,
    "start_time": "2023-06-03T20:28:29.626Z"
   },
   {
    "duration": 8,
    "start_time": "2023-06-03T20:28:31.038Z"
   },
   {
    "duration": 3048,
    "start_time": "2023-06-03T20:28:31.057Z"
   },
   {
    "duration": 5,
    "start_time": "2023-06-03T20:28:34.107Z"
   },
   {
    "duration": 18,
    "start_time": "2023-06-03T20:28:34.114Z"
   },
   {
    "duration": 8122,
    "start_time": "2023-06-03T20:28:34.134Z"
   },
   {
    "duration": 995,
    "start_time": "2023-06-03T20:28:42.258Z"
   },
   {
    "duration": 1453,
    "start_time": "2023-06-03T20:33:02.407Z"
   },
   {
    "duration": 344,
    "start_time": "2023-06-03T20:33:03.862Z"
   },
   {
    "duration": 21,
    "start_time": "2023-06-03T20:33:04.208Z"
   },
   {
    "duration": 255,
    "start_time": "2023-06-03T20:33:04.231Z"
   },
   {
    "duration": 98,
    "start_time": "2023-06-03T20:33:04.487Z"
   },
   {
    "duration": 13,
    "start_time": "2023-06-03T20:33:04.587Z"
   },
   {
    "duration": 139,
    "start_time": "2023-06-03T20:33:04.602Z"
   },
   {
    "duration": 429,
    "start_time": "2023-06-03T20:33:04.743Z"
   },
   {
    "duration": 19,
    "start_time": "2023-06-03T20:33:05.176Z"
   },
   {
    "duration": 279,
    "start_time": "2023-06-03T20:33:05.197Z"
   },
   {
    "duration": 3,
    "start_time": "2023-06-03T20:33:05.478Z"
   },
   {
    "duration": 11,
    "start_time": "2023-06-03T20:33:05.483Z"
   },
   {
    "duration": 16,
    "start_time": "2023-06-03T20:33:05.496Z"
   },
   {
    "duration": 46,
    "start_time": "2023-06-03T20:33:05.513Z"
   },
   {
    "duration": 34,
    "start_time": "2023-06-03T20:33:05.749Z"
   },
   {
    "duration": 27,
    "start_time": "2023-06-03T20:33:06.493Z"
   },
   {
    "duration": 7,
    "start_time": "2023-06-03T20:33:07.253Z"
   },
   {
    "duration": 91,
    "start_time": "2023-06-03T20:33:07.573Z"
   },
   {
    "duration": 22,
    "start_time": "2023-06-03T20:33:07.808Z"
   },
   {
    "duration": 99,
    "start_time": "2023-06-03T20:33:08.036Z"
   },
   {
    "duration": 15,
    "start_time": "2023-06-03T20:33:08.492Z"
   },
   {
    "duration": 8,
    "start_time": "2023-06-03T20:33:08.715Z"
   },
   {
    "duration": 11,
    "start_time": "2023-06-03T20:33:08.936Z"
   },
   {
    "duration": 18,
    "start_time": "2023-06-03T20:33:09.173Z"
   },
   {
    "duration": 23,
    "start_time": "2023-06-03T20:33:09.626Z"
   },
   {
    "duration": 22,
    "start_time": "2023-06-03T20:33:09.869Z"
   },
   {
    "duration": 2814,
    "start_time": "2023-06-03T20:33:11.070Z"
   },
   {
    "duration": 2072,
    "start_time": "2023-06-03T20:33:13.886Z"
   },
   {
    "duration": 1814,
    "start_time": "2023-06-03T20:33:15.961Z"
   },
   {
    "duration": 1460,
    "start_time": "2023-06-03T20:33:17.777Z"
   },
   {
    "duration": 8,
    "start_time": "2023-06-03T20:33:19.240Z"
   },
   {
    "duration": 2877,
    "start_time": "2023-06-03T20:33:19.257Z"
   },
   {
    "duration": 4,
    "start_time": "2023-06-03T20:33:22.136Z"
   },
   {
    "duration": 30,
    "start_time": "2023-06-03T20:33:22.142Z"
   },
   {
    "duration": 8666,
    "start_time": "2023-06-03T20:33:22.175Z"
   },
   {
    "duration": 1520,
    "start_time": "2023-06-03T20:39:16.465Z"
   },
   {
    "duration": 347,
    "start_time": "2023-06-03T20:39:17.987Z"
   },
   {
    "duration": 29,
    "start_time": "2023-06-03T20:39:18.336Z"
   },
   {
    "duration": 267,
    "start_time": "2023-06-03T20:39:18.368Z"
   },
   {
    "duration": 103,
    "start_time": "2023-06-03T20:39:18.636Z"
   },
   {
    "duration": 22,
    "start_time": "2023-06-03T20:39:18.741Z"
   },
   {
    "duration": 177,
    "start_time": "2023-06-03T20:39:18.765Z"
   },
   {
    "duration": 471,
    "start_time": "2023-06-03T20:39:18.945Z"
   },
   {
    "duration": 21,
    "start_time": "2023-06-03T20:39:19.418Z"
   },
   {
    "duration": 287,
    "start_time": "2023-06-03T20:39:19.442Z"
   },
   {
    "duration": 3,
    "start_time": "2023-06-03T20:39:19.732Z"
   },
   {
    "duration": 10,
    "start_time": "2023-06-03T20:39:19.737Z"
   },
   {
    "duration": 29,
    "start_time": "2023-06-03T20:39:19.756Z"
   },
   {
    "duration": 22,
    "start_time": "2023-06-03T20:39:19.788Z"
   },
   {
    "duration": 29,
    "start_time": "2023-06-03T20:39:19.812Z"
   },
   {
    "duration": 22,
    "start_time": "2023-06-03T20:39:19.843Z"
   },
   {
    "duration": 6,
    "start_time": "2023-06-03T20:39:19.867Z"
   },
   {
    "duration": 99,
    "start_time": "2023-06-03T20:39:19.874Z"
   },
   {
    "duration": 23,
    "start_time": "2023-06-03T20:39:19.975Z"
   },
   {
    "duration": 157,
    "start_time": "2023-06-03T20:39:20.001Z"
   },
   {
    "duration": 18,
    "start_time": "2023-06-03T20:39:20.161Z"
   },
   {
    "duration": 10,
    "start_time": "2023-06-03T20:39:20.181Z"
   },
   {
    "duration": 8,
    "start_time": "2023-06-03T20:39:20.503Z"
   },
   {
    "duration": 10,
    "start_time": "2023-06-03T20:39:20.755Z"
   },
   {
    "duration": 19,
    "start_time": "2023-06-03T20:39:21.262Z"
   },
   {
    "duration": 14,
    "start_time": "2023-06-03T20:39:21.560Z"
   },
   {
    "duration": 2238,
    "start_time": "2023-06-03T20:39:22.930Z"
   },
   {
    "duration": 2010,
    "start_time": "2023-06-03T20:39:25.170Z"
   },
   {
    "duration": 1936,
    "start_time": "2023-06-03T20:39:27.182Z"
   },
   {
    "duration": 1369,
    "start_time": "2023-06-03T20:39:29.121Z"
   },
   {
    "duration": 7,
    "start_time": "2023-06-03T20:39:30.492Z"
   },
   {
    "duration": 2906,
    "start_time": "2023-06-03T20:39:30.501Z"
   },
   {
    "duration": 4,
    "start_time": "2023-06-03T20:39:36.236Z"
   },
   {
    "duration": 21,
    "start_time": "2023-06-03T20:39:39.135Z"
   },
   {
    "duration": 8571,
    "start_time": "2023-06-03T20:39:41.027Z"
   },
   {
    "duration": 113,
    "start_time": "2023-06-03T20:39:49.600Z"
   },
   {
    "duration": 1378,
    "start_time": "2023-06-03T20:40:01.760Z"
   },
   {
    "duration": 1645,
    "start_time": "2023-06-03T20:40:13.112Z"
   },
   {
    "duration": 8457,
    "start_time": "2023-06-03T20:40:24.066Z"
   },
   {
    "duration": 12,
    "start_time": "2023-06-03T20:40:37.849Z"
   },
   {
    "duration": 1525,
    "start_time": "2023-06-03T20:40:45.176Z"
   },
   {
    "duration": 1614,
    "start_time": "2023-06-03T20:40:54.546Z"
   },
   {
    "duration": 1492,
    "start_time": "2023-06-04T10:53:03.415Z"
   },
   {
    "duration": 971,
    "start_time": "2023-06-04T10:53:04.909Z"
   },
   {
    "duration": 22,
    "start_time": "2023-06-04T10:53:05.881Z"
   },
   {
    "duration": 224,
    "start_time": "2023-06-04T10:53:05.905Z"
   },
   {
    "duration": 200,
    "start_time": "2023-06-04T10:53:06.131Z"
   },
   {
    "duration": 13,
    "start_time": "2023-06-04T10:53:06.333Z"
   },
   {
    "duration": 119,
    "start_time": "2023-06-04T10:53:06.348Z"
   },
   {
    "duration": 1183,
    "start_time": "2023-06-04T10:53:06.469Z"
   },
   {
    "duration": 17,
    "start_time": "2023-06-04T10:53:07.653Z"
   },
   {
    "duration": 216,
    "start_time": "2023-06-04T10:53:07.671Z"
   },
   {
    "duration": 3,
    "start_time": "2023-06-04T10:53:07.889Z"
   },
   {
    "duration": 18,
    "start_time": "2023-06-04T10:53:07.894Z"
   },
   {
    "duration": 7,
    "start_time": "2023-06-04T10:53:08.144Z"
   },
   {
    "duration": 12,
    "start_time": "2023-06-04T10:53:09.499Z"
   },
   {
    "duration": 22,
    "start_time": "2023-06-04T10:53:10.615Z"
   },
   {
    "duration": 14,
    "start_time": "2023-06-04T10:53:10.857Z"
   },
   {
    "duration": 5,
    "start_time": "2023-06-04T10:53:11.317Z"
   },
   {
    "duration": 91,
    "start_time": "2023-06-04T10:53:11.569Z"
   },
   {
    "duration": 19,
    "start_time": "2023-06-04T10:53:11.816Z"
   },
   {
    "duration": 91,
    "start_time": "2023-06-04T10:53:12.140Z"
   },
   {
    "duration": 11,
    "start_time": "2023-06-04T10:53:12.636Z"
   },
   {
    "duration": 8,
    "start_time": "2023-06-04T10:53:12.881Z"
   },
   {
    "duration": 8,
    "start_time": "2023-06-04T10:53:13.144Z"
   },
   {
    "duration": 12,
    "start_time": "2023-06-04T10:53:13.511Z"
   },
   {
    "duration": 13,
    "start_time": "2023-06-04T10:53:14.401Z"
   },
   {
    "duration": 14,
    "start_time": "2023-06-04T10:53:15.181Z"
   },
   {
    "duration": 2081,
    "start_time": "2023-06-04T10:53:17.000Z"
   },
   {
    "duration": 1885,
    "start_time": "2023-06-04T10:53:19.640Z"
   },
   {
    "duration": 1630,
    "start_time": "2023-06-04T10:53:21.526Z"
   },
   {
    "duration": 1212,
    "start_time": "2023-06-04T10:53:23.158Z"
   },
   {
    "duration": 6,
    "start_time": "2023-06-04T10:53:24.372Z"
   },
   {
    "duration": 2602,
    "start_time": "2023-06-04T10:53:24.644Z"
   },
   {
    "duration": 3,
    "start_time": "2023-06-04T10:53:27.248Z"
   },
   {
    "duration": 13,
    "start_time": "2023-06-04T10:53:27.252Z"
   },
   {
    "duration": 9853,
    "start_time": "2023-06-04T10:53:28.653Z"
   },
   {
    "duration": 1340,
    "start_time": "2023-06-04T12:56:58.063Z"
   },
   {
    "duration": 289,
    "start_time": "2023-06-04T12:57:00.459Z"
   },
   {
    "duration": 17,
    "start_time": "2023-06-04T12:57:00.750Z"
   },
   {
    "duration": 192,
    "start_time": "2023-06-04T12:57:00.843Z"
   },
   {
    "duration": 89,
    "start_time": "2023-06-04T12:57:01.064Z"
   },
   {
    "duration": 13,
    "start_time": "2023-06-04T12:57:01.365Z"
   },
   {
    "duration": 102,
    "start_time": "2023-06-04T12:57:01.443Z"
   },
   {
    "duration": 396,
    "start_time": "2023-06-04T12:57:01.611Z"
   },
   {
    "duration": 21,
    "start_time": "2023-06-04T12:57:02.009Z"
   },
   {
    "duration": 239,
    "start_time": "2023-06-04T12:57:02.032Z"
   },
   {
    "duration": 3,
    "start_time": "2023-06-04T12:57:02.822Z"
   },
   {
    "duration": 3,
    "start_time": "2023-06-04T12:57:03.234Z"
   },
   {
    "duration": 7,
    "start_time": "2023-06-04T12:57:03.432Z"
   },
   {
    "duration": 12,
    "start_time": "2023-06-04T12:57:04.234Z"
   },
   {
    "duration": 22,
    "start_time": "2023-06-04T12:57:05.029Z"
   },
   {
    "duration": 13,
    "start_time": "2023-06-04T12:57:05.229Z"
   },
   {
    "duration": 5,
    "start_time": "2023-06-04T12:57:05.435Z"
   },
   {
    "duration": 71,
    "start_time": "2023-06-04T12:57:05.710Z"
   },
   {
    "duration": 19,
    "start_time": "2023-06-04T12:57:05.864Z"
   },
   {
    "duration": 107,
    "start_time": "2023-06-04T12:57:06.042Z"
   },
   {
    "duration": 12,
    "start_time": "2023-06-04T12:57:06.445Z"
   },
   {
    "duration": 8,
    "start_time": "2023-06-04T12:57:06.650Z"
   },
   {
    "duration": 7,
    "start_time": "2023-06-04T12:57:06.883Z"
   },
   {
    "duration": 8,
    "start_time": "2023-06-04T12:57:07.104Z"
   },
   {
    "duration": 16,
    "start_time": "2023-06-04T12:57:07.901Z"
   },
   {
    "duration": 16,
    "start_time": "2023-06-04T12:57:08.163Z"
   },
   {
    "duration": 2130,
    "start_time": "2023-06-04T12:57:09.651Z"
   },
   {
    "duration": 1799,
    "start_time": "2023-06-04T12:57:11.783Z"
   },
   {
    "duration": 1560,
    "start_time": "2023-06-04T12:57:13.584Z"
   },
   {
    "duration": 1153,
    "start_time": "2023-06-04T12:57:15.146Z"
   },
   {
    "duration": 6,
    "start_time": "2023-06-04T12:57:16.301Z"
   },
   {
    "duration": 2670,
    "start_time": "2023-06-04T12:57:16.309Z"
   },
   {
    "duration": 14,
    "start_time": "2023-06-04T12:57:18.981Z"
   },
   {
    "duration": 34,
    "start_time": "2023-06-04T12:57:19.000Z"
   },
   {
    "duration": 13,
    "start_time": "2023-06-04T12:57:19.035Z"
   },
   {
    "duration": 12,
    "start_time": "2023-06-04T12:57:20.223Z"
   },
   {
    "duration": 113,
    "start_time": "2023-06-04T12:57:21.853Z"
   },
   {
    "duration": 3,
    "start_time": "2023-06-04T12:57:34.152Z"
   },
   {
    "duration": 17102,
    "start_time": "2023-06-04T12:57:37.499Z"
   },
   {
    "duration": 35269,
    "start_time": "2023-06-04T12:58:22.514Z"
   },
   {
    "duration": 35000,
    "start_time": "2023-06-04T13:00:16.406Z"
   },
   {
    "duration": 27890,
    "start_time": "2023-06-04T13:02:01.166Z"
   },
   {
    "duration": 2271,
    "start_time": "2023-06-04T13:04:12.431Z"
   },
   {
    "duration": 2157,
    "start_time": "2023-06-04T13:04:21.240Z"
   },
   {
    "duration": 2619,
    "start_time": "2023-06-04T13:04:38.986Z"
   },
   {
    "duration": 224,
    "start_time": "2023-06-04T13:04:58.266Z"
   },
   {
    "duration": 1472,
    "start_time": "2023-06-04T13:05:11.325Z"
   },
   {
    "duration": 33901,
    "start_time": "2023-06-04T13:05:59.580Z"
   },
   {
    "duration": 27163,
    "start_time": "2023-06-04T13:07:06.283Z"
   },
   {
    "duration": 2351,
    "start_time": "2023-06-04T13:07:33.448Z"
   },
   {
    "duration": 230711,
    "start_time": "2023-06-04T13:07:46.400Z"
   },
   {
    "duration": 234213,
    "start_time": "2023-06-04T13:12:31.164Z"
   },
   {
    "duration": 1321,
    "start_time": "2023-06-04T13:20:05.373Z"
   },
   {
    "duration": 304,
    "start_time": "2023-06-04T13:20:06.696Z"
   },
   {
    "duration": 17,
    "start_time": "2023-06-04T13:20:07.002Z"
   },
   {
    "duration": 207,
    "start_time": "2023-06-04T13:20:07.021Z"
   },
   {
    "duration": 88,
    "start_time": "2023-06-04T13:20:07.229Z"
   },
   {
    "duration": 10,
    "start_time": "2023-06-04T13:20:07.319Z"
   },
   {
    "duration": 127,
    "start_time": "2023-06-04T13:20:07.331Z"
   },
   {
    "duration": 342,
    "start_time": "2023-06-04T13:20:07.460Z"
   },
   {
    "duration": 15,
    "start_time": "2023-06-04T13:20:07.804Z"
   },
   {
    "duration": 219,
    "start_time": "2023-06-04T13:20:07.821Z"
   },
   {
    "duration": 3,
    "start_time": "2023-06-04T13:20:08.043Z"
   },
   {
    "duration": 25,
    "start_time": "2023-06-04T13:20:08.048Z"
   },
   {
    "duration": 32,
    "start_time": "2023-06-04T13:20:08.075Z"
   },
   {
    "duration": 12,
    "start_time": "2023-06-04T13:20:08.108Z"
   },
   {
    "duration": 16,
    "start_time": "2023-06-04T13:20:08.121Z"
   },
   {
    "duration": 20,
    "start_time": "2023-06-04T13:20:08.138Z"
   },
   {
    "duration": 10,
    "start_time": "2023-06-04T13:20:08.159Z"
   },
   {
    "duration": 100,
    "start_time": "2023-06-04T13:20:08.170Z"
   },
   {
    "duration": 20,
    "start_time": "2023-06-04T13:20:08.899Z"
   },
   {
    "duration": 106,
    "start_time": "2023-06-04T13:20:09.109Z"
   },
   {
    "duration": 12,
    "start_time": "2023-06-04T13:20:09.541Z"
   },
   {
    "duration": 7,
    "start_time": "2023-06-04T13:20:09.763Z"
   },
   {
    "duration": 6,
    "start_time": "2023-06-04T13:20:09.944Z"
   },
   {
    "duration": 9,
    "start_time": "2023-06-04T13:20:10.139Z"
   },
   {
    "duration": 16,
    "start_time": "2023-06-04T13:20:10.454Z"
   },
   {
    "duration": 12,
    "start_time": "2023-06-04T13:20:10.705Z"
   },
   {
    "duration": 1959,
    "start_time": "2023-06-04T13:20:12.837Z"
   },
   {
    "duration": 1896,
    "start_time": "2023-06-04T13:20:14.798Z"
   },
   {
    "duration": 1550,
    "start_time": "2023-06-04T13:20:16.695Z"
   },
   {
    "duration": 1121,
    "start_time": "2023-06-04T13:20:18.247Z"
   },
   {
    "duration": 6,
    "start_time": "2023-06-04T13:20:19.369Z"
   },
   {
    "duration": 2554,
    "start_time": "2023-06-04T13:20:19.376Z"
   },
   {
    "duration": 4,
    "start_time": "2023-06-04T13:20:23.443Z"
   },
   {
    "duration": 4,
    "start_time": "2023-06-04T13:20:25.523Z"
   },
   {
    "duration": 3,
    "start_time": "2023-06-04T13:20:26.579Z"
   },
   {
    "duration": 11,
    "start_time": "2023-06-04T13:20:28.861Z"
   },
   {
    "duration": 34549,
    "start_time": "2023-06-04T13:20:34.708Z"
   },
   {
    "duration": 1312,
    "start_time": "2023-06-04T13:29:01.023Z"
   },
   {
    "duration": 305,
    "start_time": "2023-06-04T13:29:02.336Z"
   },
   {
    "duration": 16,
    "start_time": "2023-06-04T13:29:02.642Z"
   },
   {
    "duration": 199,
    "start_time": "2023-06-04T13:29:02.659Z"
   },
   {
    "duration": 91,
    "start_time": "2023-06-04T13:29:02.860Z"
   },
   {
    "duration": 10,
    "start_time": "2023-06-04T13:29:02.953Z"
   },
   {
    "duration": 116,
    "start_time": "2023-06-04T13:29:02.965Z"
   },
   {
    "duration": 352,
    "start_time": "2023-06-04T13:29:03.084Z"
   },
   {
    "duration": 15,
    "start_time": "2023-06-04T13:29:03.438Z"
   },
   {
    "duration": 214,
    "start_time": "2023-06-04T13:29:03.455Z"
   },
   {
    "duration": 2,
    "start_time": "2023-06-04T13:29:03.670Z"
   },
   {
    "duration": 24,
    "start_time": "2023-06-04T13:29:03.674Z"
   },
   {
    "duration": 8,
    "start_time": "2023-06-04T13:29:03.699Z"
   },
   {
    "duration": 13,
    "start_time": "2023-06-04T13:29:03.709Z"
   },
   {
    "duration": 23,
    "start_time": "2023-06-04T13:29:03.724Z"
   },
   {
    "duration": 13,
    "start_time": "2023-06-04T13:29:03.749Z"
   },
   {
    "duration": 34,
    "start_time": "2023-06-04T13:29:03.764Z"
   },
   {
    "duration": 111,
    "start_time": "2023-06-04T13:29:03.800Z"
   },
   {
    "duration": 18,
    "start_time": "2023-06-04T13:29:03.913Z"
   },
   {
    "duration": 96,
    "start_time": "2023-06-04T13:29:03.932Z"
   },
   {
    "duration": 12,
    "start_time": "2023-06-04T13:29:04.029Z"
   },
   {
    "duration": 7,
    "start_time": "2023-06-04T13:29:04.042Z"
   },
   {
    "duration": 6,
    "start_time": "2023-06-04T13:29:04.050Z"
   },
   {
    "duration": 9,
    "start_time": "2023-06-04T13:29:04.058Z"
   },
   {
    "duration": 20,
    "start_time": "2023-06-04T13:29:04.084Z"
   },
   {
    "duration": 16,
    "start_time": "2023-06-04T13:29:04.106Z"
   },
   {
    "duration": 1984,
    "start_time": "2023-06-04T13:29:04.233Z"
   },
   {
    "duration": 1708,
    "start_time": "2023-06-04T13:29:06.219Z"
   },
   {
    "duration": 1674,
    "start_time": "2023-06-04T13:29:07.929Z"
   },
   {
    "duration": 1154,
    "start_time": "2023-06-04T13:29:09.605Z"
   },
   {
    "duration": 6,
    "start_time": "2023-06-04T13:29:10.760Z"
   },
   {
    "duration": 2391,
    "start_time": "2023-06-04T13:29:10.768Z"
   },
   {
    "duration": 4,
    "start_time": "2023-06-04T13:29:13.160Z"
   },
   {
    "duration": 6,
    "start_time": "2023-06-04T13:29:13.165Z"
   },
   {
    "duration": 6,
    "start_time": "2023-06-04T13:29:13.172Z"
   },
   {
    "duration": 13,
    "start_time": "2023-06-04T13:29:13.185Z"
   },
   {
    "duration": 33814,
    "start_time": "2023-06-04T13:29:13.199Z"
   },
   {
    "duration": 250761,
    "start_time": "2023-06-04T13:29:47.015Z"
   },
   {
    "duration": 3699,
    "start_time": "2023-06-04T13:35:56.903Z"
   },
   {
    "duration": 34334,
    "start_time": "2023-06-04T13:36:01.799Z"
   },
   {
    "duration": 369437,
    "start_time": "2023-06-04T13:36:36.135Z"
   },
   {
    "duration": 2942,
    "start_time": "2023-06-04T13:42:45.573Z"
   },
   {
    "duration": 34594,
    "start_time": "2023-06-04T13:42:48.517Z"
   },
   {
    "duration": 1302,
    "start_time": "2023-06-04T13:46:08.012Z"
   },
   {
    "duration": 310,
    "start_time": "2023-06-04T13:46:09.316Z"
   },
   {
    "duration": 17,
    "start_time": "2023-06-04T13:46:09.628Z"
   },
   {
    "duration": 204,
    "start_time": "2023-06-04T13:46:09.647Z"
   },
   {
    "duration": 92,
    "start_time": "2023-06-04T13:46:09.852Z"
   },
   {
    "duration": 15,
    "start_time": "2023-06-04T13:46:09.945Z"
   },
   {
    "duration": 139,
    "start_time": "2023-06-04T13:46:09.962Z"
   },
   {
    "duration": 389,
    "start_time": "2023-06-04T13:46:10.103Z"
   },
   {
    "duration": 18,
    "start_time": "2023-06-04T13:46:10.493Z"
   },
   {
    "duration": 220,
    "start_time": "2023-06-04T13:46:10.514Z"
   },
   {
    "duration": 2,
    "start_time": "2023-06-04T13:46:10.736Z"
   },
   {
    "duration": 10,
    "start_time": "2023-06-04T13:46:10.740Z"
   },
   {
    "duration": 7,
    "start_time": "2023-06-04T13:46:10.751Z"
   },
   {
    "duration": 41,
    "start_time": "2023-06-04T13:46:10.759Z"
   },
   {
    "duration": 21,
    "start_time": "2023-06-04T13:46:11.260Z"
   },
   {
    "duration": 20,
    "start_time": "2023-06-04T13:46:11.437Z"
   },
   {
    "duration": 6,
    "start_time": "2023-06-04T13:46:11.645Z"
   },
   {
    "duration": 76,
    "start_time": "2023-06-04T13:46:11.862Z"
   },
   {
    "duration": 29,
    "start_time": "2023-06-04T13:46:12.069Z"
   },
   {
    "duration": 98,
    "start_time": "2023-06-04T13:46:12.309Z"
   },
   {
    "duration": 14,
    "start_time": "2023-06-04T13:46:12.704Z"
   },
   {
    "duration": 10,
    "start_time": "2023-06-04T13:46:12.909Z"
   },
   {
    "duration": 8,
    "start_time": "2023-06-04T13:46:13.119Z"
   },
   {
    "duration": 11,
    "start_time": "2023-06-04T13:46:13.323Z"
   },
   {
    "duration": 19,
    "start_time": "2023-06-04T13:46:13.692Z"
   },
   {
    "duration": 12,
    "start_time": "2023-06-04T13:46:13.900Z"
   },
   {
    "duration": 2380,
    "start_time": "2023-06-04T13:46:14.948Z"
   },
   {
    "duration": 1822,
    "start_time": "2023-06-04T13:46:17.330Z"
   },
   {
    "duration": 1701,
    "start_time": "2023-06-04T13:46:19.154Z"
   },
   {
    "duration": 1193,
    "start_time": "2023-06-04T13:46:20.858Z"
   },
   {
    "duration": 6,
    "start_time": "2023-06-04T13:46:22.053Z"
   },
   {
    "duration": 2877,
    "start_time": "2023-06-04T13:46:22.060Z"
   },
   {
    "duration": 4,
    "start_time": "2023-06-04T13:46:24.939Z"
   },
   {
    "duration": 8,
    "start_time": "2023-06-04T13:46:24.945Z"
   },
   {
    "duration": 48,
    "start_time": "2023-06-04T13:46:24.954Z"
   },
   {
    "duration": 12,
    "start_time": "2023-06-04T13:46:25.005Z"
   },
   {
    "duration": 34936,
    "start_time": "2023-06-04T13:46:27.021Z"
   },
   {
    "duration": 458522,
    "start_time": "2023-06-04T13:47:01.960Z"
   },
   {
    "duration": 3815,
    "start_time": "2023-06-04T13:54:40.484Z"
   },
   {
    "duration": 34362,
    "start_time": "2023-06-04T13:54:44.308Z"
   },
   {
    "duration": 446881,
    "start_time": "2023-06-04T13:55:18.672Z"
   },
   {
    "duration": 3748,
    "start_time": "2023-06-04T14:02:45.554Z"
   },
   {
    "duration": 116,
    "start_time": "2023-06-04T14:06:10.605Z"
   },
   {
    "duration": 2256,
    "start_time": "2023-06-04T14:06:18.501Z"
   },
   {
    "duration": 2061,
    "start_time": "2023-06-04T14:06:35.258Z"
   },
   {
    "duration": 48,
    "start_time": "2023-06-04T15:57:15.870Z"
   },
   {
    "duration": 1724,
    "start_time": "2023-06-04T15:57:21.670Z"
   },
   {
    "duration": 1594,
    "start_time": "2023-06-04T15:58:11.325Z"
   },
   {
    "duration": 20,
    "start_time": "2023-06-04T15:58:12.921Z"
   },
   {
    "duration": 234,
    "start_time": "2023-06-04T15:58:12.943Z"
   },
   {
    "duration": 433,
    "start_time": "2023-06-04T15:58:13.180Z"
   },
   {
    "duration": 13,
    "start_time": "2023-06-04T15:58:13.614Z"
   },
   {
    "duration": 141,
    "start_time": "2023-06-04T15:58:13.629Z"
   },
   {
    "duration": 1790,
    "start_time": "2023-06-04T15:58:13.771Z"
   },
   {
    "duration": 21,
    "start_time": "2023-06-04T15:58:15.563Z"
   },
   {
    "duration": 267,
    "start_time": "2023-06-04T15:58:15.585Z"
   },
   {
    "duration": 3,
    "start_time": "2023-06-04T15:58:15.857Z"
   },
   {
    "duration": 21,
    "start_time": "2023-06-04T15:58:15.861Z"
   },
   {
    "duration": 21,
    "start_time": "2023-06-04T15:58:15.883Z"
   },
   {
    "duration": 17,
    "start_time": "2023-06-04T15:58:15.906Z"
   },
   {
    "duration": 27,
    "start_time": "2023-06-04T15:58:16.159Z"
   },
   {
    "duration": 16,
    "start_time": "2023-06-04T15:58:16.229Z"
   },
   {
    "duration": 6,
    "start_time": "2023-06-04T15:58:16.252Z"
   },
   {
    "duration": 79,
    "start_time": "2023-06-04T15:58:16.325Z"
   },
   {
    "duration": 21,
    "start_time": "2023-06-04T15:58:16.406Z"
   },
   {
    "duration": 108,
    "start_time": "2023-06-04T15:58:16.429Z"
   },
   {
    "duration": 26,
    "start_time": "2023-06-04T15:58:16.539Z"
   },
   {
    "duration": 8,
    "start_time": "2023-06-04T15:58:16.566Z"
   },
   {
    "duration": 6,
    "start_time": "2023-06-04T15:58:16.576Z"
   },
   {
    "duration": 11,
    "start_time": "2023-06-04T15:58:16.590Z"
   },
   {
    "duration": 17,
    "start_time": "2023-06-04T15:58:16.648Z"
   },
   {
    "duration": 13,
    "start_time": "2023-06-04T15:58:16.684Z"
   },
   {
    "duration": 2319,
    "start_time": "2023-06-04T15:58:17.720Z"
   },
   {
    "duration": 1910,
    "start_time": "2023-06-04T15:58:20.041Z"
   },
   {
    "duration": 1779,
    "start_time": "2023-06-04T15:58:21.953Z"
   },
   {
    "duration": 1322,
    "start_time": "2023-06-04T15:58:23.735Z"
   },
   {
    "duration": 7,
    "start_time": "2023-06-04T15:58:25.059Z"
   },
   {
    "duration": 2723,
    "start_time": "2023-06-04T15:58:25.068Z"
   },
   {
    "duration": 4,
    "start_time": "2023-06-04T15:58:27.792Z"
   },
   {
    "duration": 7,
    "start_time": "2023-06-04T15:58:27.797Z"
   },
   {
    "duration": 18,
    "start_time": "2023-06-04T15:58:27.805Z"
   },
   {
    "duration": 30087,
    "start_time": "2023-06-04T15:58:27.826Z"
   },
   {
    "duration": 400853,
    "start_time": "2023-06-04T15:58:57.915Z"
   },
   {
    "duration": 1695,
    "start_time": "2023-06-04T16:05:38.770Z"
   },
   {
    "duration": 31504,
    "start_time": "2023-06-04T16:05:40.467Z"
   },
   {
    "duration": 407201,
    "start_time": "2023-06-04T16:06:11.973Z"
   },
   {
    "duration": 1589,
    "start_time": "2023-06-04T16:12:59.176Z"
   },
   {
    "duration": 2032,
    "start_time": "2023-06-04T16:13:00.767Z"
   },
   {
    "duration": 0,
    "start_time": "2023-06-04T16:13:02.800Z"
   },
   {
    "duration": 3,
    "start_time": "2023-06-04T16:15:46.571Z"
   },
   {
    "duration": 1794,
    "start_time": "2023-06-04T16:16:02.939Z"
   },
   {
    "duration": 1821,
    "start_time": "2023-06-04T16:16:05.879Z"
   },
   {
    "duration": 1855,
    "start_time": "2023-06-04T16:19:43.617Z"
   },
   {
    "duration": 1936,
    "start_time": "2023-06-04T16:19:45.474Z"
   },
   {
    "duration": 5,
    "start_time": "2023-06-04T16:19:47.413Z"
   },
   {
    "duration": 13,
    "start_time": "2023-06-05T17:19:30.081Z"
   },
   {
    "duration": 287,
    "start_time": "2023-06-05T17:19:52.012Z"
   },
   {
    "duration": 1488,
    "start_time": "2023-06-06T10:15:55.515Z"
   },
   {
    "duration": 943,
    "start_time": "2023-06-06T10:16:01.555Z"
   },
   {
    "duration": 19,
    "start_time": "2023-06-06T10:16:02.500Z"
   },
   {
    "duration": 216,
    "start_time": "2023-06-06T10:16:02.669Z"
   },
   {
    "duration": 170,
    "start_time": "2023-06-06T10:16:02.976Z"
   },
   {
    "duration": 12,
    "start_time": "2023-06-06T10:16:03.435Z"
   },
   {
    "duration": 119,
    "start_time": "2023-06-06T10:16:03.851Z"
   },
   {
    "duration": 1156,
    "start_time": "2023-06-06T10:16:04.214Z"
   },
   {
    "duration": 16,
    "start_time": "2023-06-06T10:16:05.371Z"
   },
   {
    "duration": 259,
    "start_time": "2023-06-06T10:16:05.389Z"
   },
   {
    "duration": 3,
    "start_time": "2023-06-06T10:22:39.417Z"
   },
   {
    "duration": 3,
    "start_time": "2023-06-06T10:22:40.265Z"
   },
   {
    "duration": 6,
    "start_time": "2023-06-06T10:22:41.230Z"
   },
   {
    "duration": 15,
    "start_time": "2023-06-06T10:22:54.939Z"
   },
   {
    "duration": 27,
    "start_time": "2023-06-06T10:23:15.289Z"
   },
   {
    "duration": 22,
    "start_time": "2023-06-06T10:23:20.767Z"
   },
   {
    "duration": 6,
    "start_time": "2023-06-06T10:23:27.473Z"
   },
   {
    "duration": 80,
    "start_time": "2023-06-06T10:23:33.652Z"
   },
   {
    "duration": 22,
    "start_time": "2023-06-06T10:23:34.237Z"
   },
   {
    "duration": 90,
    "start_time": "2023-06-06T10:23:34.857Z"
   },
   {
    "duration": 13,
    "start_time": "2023-06-06T10:23:41.797Z"
   },
   {
    "duration": 8,
    "start_time": "2023-06-06T10:23:42.408Z"
   },
   {
    "duration": 8,
    "start_time": "2023-06-06T10:23:43.890Z"
   },
   {
    "duration": 10,
    "start_time": "2023-06-06T10:23:43.969Z"
   },
   {
    "duration": 16,
    "start_time": "2023-06-06T10:23:50.616Z"
   },
   {
    "duration": 13,
    "start_time": "2023-06-06T10:23:51.659Z"
   },
   {
    "duration": 2295,
    "start_time": "2023-06-06T10:24:18.325Z"
   },
   {
    "duration": 1920,
    "start_time": "2023-06-06T10:24:20.622Z"
   },
   {
    "duration": 1786,
    "start_time": "2023-06-06T10:24:22.544Z"
   },
   {
    "duration": 6,
    "start_time": "2023-06-06T11:04:10.910Z"
   },
   {
    "duration": 115,
    "start_time": "2023-06-06T11:04:33.936Z"
   },
   {
    "duration": 9,
    "start_time": "2023-06-06T11:04:54.492Z"
   },
   {
    "duration": 8,
    "start_time": "2023-06-06T11:05:23.941Z"
   },
   {
    "duration": 11,
    "start_time": "2023-06-06T11:06:04.541Z"
   },
   {
    "duration": 109,
    "start_time": "2023-06-06T11:06:19.225Z"
   },
   {
    "duration": 98,
    "start_time": "2023-06-06T11:06:27.965Z"
   },
   {
    "duration": 144,
    "start_time": "2023-06-06T11:06:56.784Z"
   },
   {
    "duration": 276,
    "start_time": "2023-06-06T11:08:17.278Z"
   },
   {
    "duration": 159,
    "start_time": "2023-06-06T11:08:27.273Z"
   },
   {
    "duration": 54,
    "start_time": "2023-06-06T16:04:12.377Z"
   },
   {
    "duration": 1529,
    "start_time": "2023-06-06T16:04:36.685Z"
   },
   {
    "duration": 840,
    "start_time": "2023-06-06T16:04:38.216Z"
   },
   {
    "duration": 15,
    "start_time": "2023-06-06T16:04:39.057Z"
   },
   {
    "duration": 183,
    "start_time": "2023-06-06T16:04:39.074Z"
   },
   {
    "duration": 148,
    "start_time": "2023-06-06T16:04:39.258Z"
   },
   {
    "duration": 11,
    "start_time": "2023-06-06T16:04:39.408Z"
   },
   {
    "duration": 128,
    "start_time": "2023-06-06T16:04:39.421Z"
   },
   {
    "duration": 1064,
    "start_time": "2023-06-06T16:04:39.551Z"
   },
   {
    "duration": 16,
    "start_time": "2023-06-06T16:04:40.616Z"
   },
   {
    "duration": 194,
    "start_time": "2023-06-06T16:04:40.635Z"
   },
   {
    "duration": 3,
    "start_time": "2023-06-06T16:04:40.831Z"
   },
   {
    "duration": 9,
    "start_time": "2023-06-06T16:04:40.836Z"
   },
   {
    "duration": 7,
    "start_time": "2023-06-06T16:04:40.847Z"
   },
   {
    "duration": 12,
    "start_time": "2023-06-06T16:04:41.818Z"
   },
   {
    "duration": 18,
    "start_time": "2023-06-06T16:04:43.086Z"
   },
   {
    "duration": 14,
    "start_time": "2023-06-06T16:04:43.547Z"
   },
   {
    "duration": 6,
    "start_time": "2023-06-06T16:04:44.242Z"
   },
   {
    "duration": 75,
    "start_time": "2023-06-06T16:04:46.558Z"
   },
   {
    "duration": 20,
    "start_time": "2023-06-06T16:04:47.024Z"
   },
   {
    "duration": 84,
    "start_time": "2023-06-06T16:04:47.447Z"
   },
   {
    "duration": 14,
    "start_time": "2023-06-06T16:04:48.183Z"
   },
   {
    "duration": 8,
    "start_time": "2023-06-06T16:04:48.388Z"
   },
   {
    "duration": 6,
    "start_time": "2023-06-06T16:04:48.653Z"
   },
   {
    "duration": 9,
    "start_time": "2023-06-06T16:04:48.766Z"
   },
   {
    "duration": 17,
    "start_time": "2023-06-06T16:04:49.334Z"
   },
   {
    "duration": 14,
    "start_time": "2023-06-06T16:04:49.629Z"
   },
   {
    "duration": 2023,
    "start_time": "2023-06-06T16:04:51.733Z"
   },
   {
    "duration": 1780,
    "start_time": "2023-06-06T16:04:53.758Z"
   },
   {
    "duration": 1678,
    "start_time": "2023-06-06T16:04:55.539Z"
   },
   {
    "duration": 110,
    "start_time": "2023-06-06T16:04:57.219Z"
   },
   {
    "duration": 1369,
    "start_time": "2023-06-06T16:05:26.284Z"
   },
   {
    "duration": 9,
    "start_time": "2023-06-06T16:05:44.041Z"
   },
   {
    "duration": 623,
    "start_time": "2023-06-06T16:07:14.297Z"
   },
   {
    "duration": 1357,
    "start_time": "2023-06-06T16:16:47.061Z"
   },
   {
    "duration": 19,
    "start_time": "2023-06-06T16:22:12.801Z"
   },
   {
    "duration": 8,
    "start_time": "2023-06-06T16:55:53.351Z"
   },
   {
    "duration": 10,
    "start_time": "2023-06-06T16:56:13.683Z"
   },
   {
    "duration": 7,
    "start_time": "2023-06-06T16:56:20.829Z"
   },
   {
    "duration": 7,
    "start_time": "2023-06-06T16:56:25.732Z"
   },
   {
    "duration": 2002,
    "start_time": "2023-06-06T16:56:53.485Z"
   },
   {
    "duration": 2353,
    "start_time": "2023-06-06T16:57:17.354Z"
   },
   {
    "duration": 14,
    "start_time": "2023-06-06T16:58:00.264Z"
   },
   {
    "duration": 2231,
    "start_time": "2023-06-06T16:58:38.370Z"
   },
   {
    "duration": 9,
    "start_time": "2023-06-06T16:58:46.824Z"
   },
   {
    "duration": 1535,
    "start_time": "2023-06-06T17:01:47.121Z"
   },
   {
    "duration": 1639,
    "start_time": "2023-06-06T17:04:13.599Z"
   },
   {
    "duration": 295,
    "start_time": "2023-06-06T17:04:15.240Z"
   },
   {
    "duration": 18,
    "start_time": "2023-06-06T17:04:15.537Z"
   },
   {
    "duration": 208,
    "start_time": "2023-06-06T17:04:15.557Z"
   },
   {
    "duration": 85,
    "start_time": "2023-06-06T17:04:15.766Z"
   },
   {
    "duration": 10,
    "start_time": "2023-06-06T17:04:15.852Z"
   },
   {
    "duration": 125,
    "start_time": "2023-06-06T17:04:15.864Z"
   },
   {
    "duration": 394,
    "start_time": "2023-06-06T17:04:15.991Z"
   },
   {
    "duration": 19,
    "start_time": "2023-06-06T17:04:16.387Z"
   },
   {
    "duration": 216,
    "start_time": "2023-06-06T17:04:16.407Z"
   },
   {
    "duration": 3,
    "start_time": "2023-06-06T17:04:17.088Z"
   },
   {
    "duration": 2,
    "start_time": "2023-06-06T17:04:17.499Z"
   },
   {
    "duration": 6,
    "start_time": "2023-06-06T17:04:17.707Z"
   },
   {
    "duration": 12,
    "start_time": "2023-06-06T17:04:18.735Z"
   },
   {
    "duration": 23,
    "start_time": "2023-06-06T17:04:19.986Z"
   },
   {
    "duration": 13,
    "start_time": "2023-06-06T17:04:20.430Z"
   },
   {
    "duration": 5,
    "start_time": "2023-06-06T17:04:20.876Z"
   },
   {
    "duration": 74,
    "start_time": "2023-06-06T17:04:21.328Z"
   },
   {
    "duration": 19,
    "start_time": "2023-06-06T17:04:21.513Z"
   },
   {
    "duration": 85,
    "start_time": "2023-06-06T17:04:21.740Z"
   },
   {
    "duration": 15,
    "start_time": "2023-06-06T17:04:22.566Z"
   },
   {
    "duration": 8,
    "start_time": "2023-06-06T17:04:22.777Z"
   },
   {
    "duration": 7,
    "start_time": "2023-06-06T17:04:22.981Z"
   },
   {
    "duration": 9,
    "start_time": "2023-06-06T17:04:23.225Z"
   },
   {
    "duration": 13,
    "start_time": "2023-06-06T17:04:23.644Z"
   },
   {
    "duration": 13,
    "start_time": "2023-06-06T17:04:23.853Z"
   },
   {
    "duration": 2112,
    "start_time": "2023-06-06T17:04:25.471Z"
   },
   {
    "duration": 1724,
    "start_time": "2023-06-06T17:04:27.585Z"
   },
   {
    "duration": 1552,
    "start_time": "2023-06-06T17:04:29.310Z"
   },
   {
    "duration": 1410,
    "start_time": "2023-06-06T17:04:30.864Z"
   },
   {
    "duration": 1597,
    "start_time": "2023-06-06T19:04:10.312Z"
   },
   {
    "duration": 1033,
    "start_time": "2023-06-06T19:04:14.687Z"
   },
   {
    "duration": 18,
    "start_time": "2023-06-06T19:04:15.722Z"
   },
   {
    "duration": 232,
    "start_time": "2023-06-06T19:04:15.742Z"
   },
   {
    "duration": 182,
    "start_time": "2023-06-06T19:04:15.976Z"
   },
   {
    "duration": 12,
    "start_time": "2023-06-06T19:04:16.160Z"
   },
   {
    "duration": 139,
    "start_time": "2023-06-06T19:04:16.174Z"
   },
   {
    "duration": 1145,
    "start_time": "2023-06-06T19:04:16.315Z"
   },
   {
    "duration": 19,
    "start_time": "2023-06-06T19:04:17.462Z"
   },
   {
    "duration": 256,
    "start_time": "2023-06-06T19:04:17.483Z"
   },
   {
    "duration": 3,
    "start_time": "2023-06-06T19:04:17.745Z"
   },
   {
    "duration": 9,
    "start_time": "2023-06-06T19:04:17.750Z"
   },
   {
    "duration": 7,
    "start_time": "2023-06-06T19:04:17.925Z"
   },
   {
    "duration": 16,
    "start_time": "2023-06-06T19:04:19.009Z"
   },
   {
    "duration": 29,
    "start_time": "2023-06-06T19:04:20.110Z"
   },
   {
    "duration": 16,
    "start_time": "2023-06-06T19:04:21.130Z"
   },
   {
    "duration": 8,
    "start_time": "2023-06-06T19:04:22.390Z"
   },
   {
    "duration": 83,
    "start_time": "2023-06-06T19:04:25.597Z"
   },
   {
    "duration": 22,
    "start_time": "2023-06-06T19:04:25.793Z"
   },
   {
    "duration": 98,
    "start_time": "2023-06-06T19:04:25.988Z"
   },
   {
    "duration": 14,
    "start_time": "2023-06-06T19:04:26.617Z"
   },
   {
    "duration": 9,
    "start_time": "2023-06-06T19:04:26.841Z"
   },
   {
    "duration": 8,
    "start_time": "2023-06-06T19:04:27.093Z"
   },
   {
    "duration": 9,
    "start_time": "2023-06-06T19:04:27.303Z"
   },
   {
    "duration": 24,
    "start_time": "2023-06-06T19:04:27.780Z"
   },
   {
    "duration": 13,
    "start_time": "2023-06-06T19:04:27.992Z"
   },
   {
    "duration": 2351,
    "start_time": "2023-06-06T19:04:29.939Z"
   },
   {
    "duration": 1933,
    "start_time": "2023-06-06T19:04:32.292Z"
   },
   {
    "duration": 1835,
    "start_time": "2023-06-06T19:04:34.227Z"
   },
   {
    "duration": 911,
    "start_time": "2023-06-06T19:05:10.883Z"
   },
   {
    "duration": 11,
    "start_time": "2023-06-06T19:18:41.580Z"
   },
   {
    "duration": 11,
    "start_time": "2023-06-06T19:18:56.932Z"
   },
   {
    "duration": 10,
    "start_time": "2023-06-06T19:19:20.404Z"
   },
   {
    "duration": 10,
    "start_time": "2023-06-06T19:19:33.903Z"
   },
   {
    "duration": 18,
    "start_time": "2023-06-06T19:20:12.258Z"
   },
   {
    "duration": 26,
    "start_time": "2023-06-06T19:22:31.841Z"
   },
   {
    "duration": 29,
    "start_time": "2023-06-06T19:23:33.101Z"
   },
   {
    "duration": 25,
    "start_time": "2023-06-06T19:24:49.009Z"
   },
   {
    "duration": 12,
    "start_time": "2023-06-06T19:26:43.824Z"
   },
   {
    "duration": 14,
    "start_time": "2023-06-06T19:27:00.618Z"
   },
   {
    "duration": 8,
    "start_time": "2023-06-06T19:27:35.154Z"
   },
   {
    "duration": 11,
    "start_time": "2023-06-06T19:27:44.628Z"
   },
   {
    "duration": 1696,
    "start_time": "2023-06-06T19:27:55.848Z"
   },
   {
    "duration": 361,
    "start_time": "2023-06-06T19:27:57.547Z"
   },
   {
    "duration": 19,
    "start_time": "2023-06-06T19:27:57.910Z"
   },
   {
    "duration": 251,
    "start_time": "2023-06-06T19:27:57.931Z"
   },
   {
    "duration": 100,
    "start_time": "2023-06-06T19:27:58.184Z"
   },
   {
    "duration": 12,
    "start_time": "2023-06-06T19:27:58.286Z"
   },
   {
    "duration": 147,
    "start_time": "2023-06-06T19:27:58.300Z"
   },
   {
    "duration": 411,
    "start_time": "2023-06-06T19:27:58.449Z"
   },
   {
    "duration": 20,
    "start_time": "2023-06-06T19:27:58.862Z"
   },
   {
    "duration": 280,
    "start_time": "2023-06-06T19:27:58.886Z"
   },
   {
    "duration": 4,
    "start_time": "2023-06-06T19:27:59.168Z"
   },
   {
    "duration": 19,
    "start_time": "2023-06-06T19:27:59.174Z"
   },
   {
    "duration": 16,
    "start_time": "2023-06-06T19:27:59.197Z"
   },
   {
    "duration": 14,
    "start_time": "2023-06-06T19:27:59.216Z"
   },
   {
    "duration": 34,
    "start_time": "2023-06-06T19:27:59.232Z"
   },
   {
    "duration": 16,
    "start_time": "2023-06-06T19:27:59.268Z"
   },
   {
    "duration": 7,
    "start_time": "2023-06-06T19:27:59.286Z"
   },
   {
    "duration": 113,
    "start_time": "2023-06-06T19:27:59.296Z"
   },
   {
    "duration": 21,
    "start_time": "2023-06-06T19:27:59.411Z"
   },
   {
    "duration": 95,
    "start_time": "2023-06-06T19:27:59.597Z"
   },
   {
    "duration": 13,
    "start_time": "2023-06-06T19:28:00.212Z"
   },
   {
    "duration": 8,
    "start_time": "2023-06-06T19:28:00.411Z"
   },
   {
    "duration": 7,
    "start_time": "2023-06-06T19:28:00.640Z"
   },
   {
    "duration": 10,
    "start_time": "2023-06-06T19:28:00.852Z"
   },
   {
    "duration": 17,
    "start_time": "2023-06-06T19:28:01.690Z"
   },
   {
    "duration": 13,
    "start_time": "2023-06-06T19:28:01.886Z"
   },
   {
    "duration": 2334,
    "start_time": "2023-06-06T19:28:03.598Z"
   },
   {
    "duration": 1918,
    "start_time": "2023-06-06T19:28:05.934Z"
   },
   {
    "duration": 1797,
    "start_time": "2023-06-06T19:28:07.854Z"
   },
   {
    "duration": 10,
    "start_time": "2023-06-06T19:28:09.653Z"
   },
   {
    "duration": 11,
    "start_time": "2023-06-06T19:28:35.109Z"
   },
   {
    "duration": 118,
    "start_time": "2023-06-06T19:28:53.990Z"
   },
   {
    "duration": 13,
    "start_time": "2023-06-06T19:29:01.721Z"
   },
   {
    "duration": 10,
    "start_time": "2023-06-06T19:29:24.118Z"
   },
   {
    "duration": 1866,
    "start_time": "2023-06-06T19:29:44.220Z"
   },
   {
    "duration": 1881,
    "start_time": "2023-06-06T19:30:16.006Z"
   },
   {
    "duration": 24,
    "start_time": "2023-06-06T19:39:49.678Z"
   },
   {
    "duration": 11,
    "start_time": "2023-06-06T19:40:51.511Z"
   },
   {
    "duration": 73,
    "start_time": "2023-06-06T19:42:10.846Z"
   },
   {
    "duration": 62,
    "start_time": "2023-06-06T19:42:32.214Z"
   },
   {
    "duration": 62,
    "start_time": "2023-06-06T19:42:39.590Z"
   },
   {
    "duration": 63,
    "start_time": "2023-06-06T19:42:45.050Z"
   },
   {
    "duration": 581,
    "start_time": "2023-06-06T19:43:20.050Z"
   },
   {
    "duration": 104,
    "start_time": "2023-06-06T19:43:43.598Z"
   },
   {
    "duration": 19,
    "start_time": "2023-06-06T19:43:54.767Z"
   },
   {
    "duration": 66,
    "start_time": "2023-06-06T19:44:07.622Z"
   },
   {
    "duration": 572,
    "start_time": "2023-06-06T19:44:11.122Z"
   },
   {
    "duration": 612,
    "start_time": "2023-06-06T19:44:22.186Z"
   },
   {
    "duration": 65,
    "start_time": "2023-06-06T19:44:32.590Z"
   },
   {
    "duration": 753,
    "start_time": "2023-06-06T19:44:33.674Z"
   },
   {
    "duration": 11,
    "start_time": "2023-06-06T19:44:45.194Z"
   },
   {
    "duration": 911,
    "start_time": "2023-06-06T19:44:47.010Z"
   },
   {
    "duration": 51,
    "start_time": "2023-06-07T13:03:12.414Z"
   },
   {
    "duration": 1643,
    "start_time": "2023-06-07T13:03:19.618Z"
   },
   {
    "duration": 969,
    "start_time": "2023-06-07T13:03:21.264Z"
   },
   {
    "duration": 20,
    "start_time": "2023-06-07T13:03:22.234Z"
   },
   {
    "duration": 234,
    "start_time": "2023-06-07T13:03:22.260Z"
   },
   {
    "duration": 172,
    "start_time": "2023-06-07T13:03:22.496Z"
   },
   {
    "duration": 12,
    "start_time": "2023-06-07T13:03:22.670Z"
   },
   {
    "duration": 160,
    "start_time": "2023-06-07T13:03:22.684Z"
   },
   {
    "duration": 1317,
    "start_time": "2023-06-07T13:03:22.846Z"
   },
   {
    "duration": 18,
    "start_time": "2023-06-07T13:03:24.165Z"
   },
   {
    "duration": 253,
    "start_time": "2023-06-07T13:03:24.186Z"
   },
   {
    "duration": 3,
    "start_time": "2023-06-07T13:03:24.441Z"
   },
   {
    "duration": 7,
    "start_time": "2023-06-07T13:03:24.446Z"
   },
   {
    "duration": 7,
    "start_time": "2023-06-07T13:03:24.642Z"
   },
   {
    "duration": 14,
    "start_time": "2023-06-07T13:03:25.887Z"
   },
   {
    "duration": 26,
    "start_time": "2023-06-07T13:03:27.098Z"
   },
   {
    "duration": 16,
    "start_time": "2023-06-07T13:03:27.489Z"
   },
   {
    "duration": 7,
    "start_time": "2023-06-07T13:03:28.014Z"
   },
   {
    "duration": 83,
    "start_time": "2023-06-07T13:03:28.594Z"
   },
   {
    "duration": 23,
    "start_time": "2023-06-07T13:03:28.850Z"
   },
   {
    "duration": 109,
    "start_time": "2023-06-07T13:03:29.017Z"
   },
   {
    "duration": 14,
    "start_time": "2023-06-07T13:03:29.806Z"
   },
   {
    "duration": 9,
    "start_time": "2023-06-07T13:03:30.004Z"
   },
   {
    "duration": 7,
    "start_time": "2023-06-07T13:03:30.415Z"
   },
   {
    "duration": 10,
    "start_time": "2023-06-07T13:03:30.585Z"
   },
   {
    "duration": 16,
    "start_time": "2023-06-07T13:03:31.146Z"
   },
   {
    "duration": 18,
    "start_time": "2023-06-07T13:03:31.328Z"
   },
   {
    "duration": 2385,
    "start_time": "2023-06-07T13:03:32.992Z"
   },
   {
    "duration": 1993,
    "start_time": "2023-06-07T13:03:35.379Z"
   },
   {
    "duration": 1929,
    "start_time": "2023-06-07T13:03:37.374Z"
   },
   {
    "duration": 12,
    "start_time": "2023-06-07T13:03:39.305Z"
   },
   {
    "duration": 1452,
    "start_time": "2023-06-07T13:03:39.319Z"
   },
   {
    "duration": 10,
    "start_time": "2023-06-07T13:03:40.774Z"
   },
   {
    "duration": 3033,
    "start_time": "2023-06-07T13:03:40.786Z"
   },
   {
    "duration": 4,
    "start_time": "2023-06-07T13:04:01.909Z"
   },
   {
    "duration": 3,
    "start_time": "2023-06-07T13:04:02.103Z"
   },
   {
    "duration": 15,
    "start_time": "2023-06-07T13:04:03.193Z"
   },
   {
    "duration": 114,
    "start_time": "2023-06-07T13:04:04.791Z"
   },
   {
    "duration": 30,
    "start_time": "2023-06-07T13:04:12.294Z"
   },
   {
    "duration": 18,
    "start_time": "2023-06-07T13:04:55.883Z"
   },
   {
    "duration": 22,
    "start_time": "2023-06-07T13:05:02.889Z"
   },
   {
    "duration": 32,
    "start_time": "2023-06-07T13:05:50.848Z"
   },
   {
    "duration": 16,
    "start_time": "2023-06-07T13:06:08.463Z"
   },
   {
    "duration": 4,
    "start_time": "2023-06-07T13:21:22.023Z"
   },
   {
    "duration": 1924,
    "start_time": "2023-06-07T13:25:18.278Z"
   },
   {
    "duration": 1428,
    "start_time": "2023-06-07T13:26:27.141Z"
   },
   {
    "duration": 348,
    "start_time": "2023-06-07T13:26:28.572Z"
   },
   {
    "duration": 19,
    "start_time": "2023-06-07T13:26:28.922Z"
   },
   {
    "duration": 245,
    "start_time": "2023-06-07T13:26:28.944Z"
   },
   {
    "duration": 99,
    "start_time": "2023-06-07T13:26:29.192Z"
   },
   {
    "duration": 12,
    "start_time": "2023-06-07T13:26:29.293Z"
   },
   {
    "duration": 166,
    "start_time": "2023-06-07T13:26:29.307Z"
   },
   {
    "duration": 460,
    "start_time": "2023-06-07T13:26:29.475Z"
   },
   {
    "duration": 18,
    "start_time": "2023-06-07T13:26:29.937Z"
   },
   {
    "duration": 260,
    "start_time": "2023-06-07T13:26:29.957Z"
   },
   {
    "duration": 2,
    "start_time": "2023-06-07T13:26:30.219Z"
   },
   {
    "duration": 32,
    "start_time": "2023-06-07T13:26:30.223Z"
   },
   {
    "duration": 49,
    "start_time": "2023-06-07T13:26:30.257Z"
   },
   {
    "duration": 14,
    "start_time": "2023-06-07T13:26:31.010Z"
   },
   {
    "duration": 24,
    "start_time": "2023-06-07T13:26:31.778Z"
   },
   {
    "duration": 15,
    "start_time": "2023-06-07T13:26:32.256Z"
   },
   {
    "duration": 7,
    "start_time": "2023-06-07T13:26:32.510Z"
   },
   {
    "duration": 82,
    "start_time": "2023-06-07T13:26:32.908Z"
   },
   {
    "duration": 22,
    "start_time": "2023-06-07T13:26:33.180Z"
   },
   {
    "duration": 98,
    "start_time": "2023-06-07T13:26:33.301Z"
   },
   {
    "duration": 14,
    "start_time": "2023-06-07T13:26:33.938Z"
   },
   {
    "duration": 8,
    "start_time": "2023-06-07T13:26:34.251Z"
   },
   {
    "duration": 7,
    "start_time": "2023-06-07T13:26:34.573Z"
   },
   {
    "duration": 10,
    "start_time": "2023-06-07T13:26:34.918Z"
   },
   {
    "duration": 23,
    "start_time": "2023-06-07T13:26:35.035Z"
   },
   {
    "duration": 13,
    "start_time": "2023-06-07T13:26:35.487Z"
   },
   {
    "duration": 2315,
    "start_time": "2023-06-07T13:26:38.587Z"
   },
   {
    "duration": 1990,
    "start_time": "2023-06-07T13:26:40.904Z"
   },
   {
    "duration": 1870,
    "start_time": "2023-06-07T13:26:42.896Z"
   },
   {
    "duration": 4,
    "start_time": "2023-06-07T13:26:45.439Z"
   },
   {
    "duration": 937,
    "start_time": "2023-06-07T13:26:45.850Z"
   },
   {
    "duration": 4,
    "start_time": "2023-06-07T14:47:39.582Z"
   },
   {
    "duration": 1480,
    "start_time": "2023-06-07T14:47:47.048Z"
   },
   {
    "duration": 325,
    "start_time": "2023-06-07T14:47:49.958Z"
   },
   {
    "duration": 22,
    "start_time": "2023-06-07T14:47:50.285Z"
   },
   {
    "duration": 231,
    "start_time": "2023-06-07T14:47:50.599Z"
   },
   {
    "duration": 374,
    "start_time": "2023-06-07T14:47:50.911Z"
   },
   {
    "duration": 13,
    "start_time": "2023-06-07T14:47:51.287Z"
   },
   {
    "duration": 145,
    "start_time": "2023-06-07T14:47:51.661Z"
   },
   {
    "duration": 1642,
    "start_time": "2023-06-07T14:47:52.247Z"
   },
   {
    "duration": 19,
    "start_time": "2023-06-07T14:47:53.892Z"
   },
   {
    "duration": 311,
    "start_time": "2023-06-07T14:47:53.913Z"
   },
   {
    "duration": 4,
    "start_time": "2023-06-07T14:48:08.381Z"
   },
   {
    "duration": 5,
    "start_time": "2023-06-07T14:48:09.182Z"
   },
   {
    "duration": 10,
    "start_time": "2023-06-07T14:48:09.507Z"
   },
   {
    "duration": 16,
    "start_time": "2023-06-07T14:48:12.387Z"
   },
   {
    "duration": 23,
    "start_time": "2023-06-07T14:48:14.481Z"
   },
   {
    "duration": 18,
    "start_time": "2023-06-07T14:48:15.615Z"
   },
   {
    "duration": 8,
    "start_time": "2023-06-07T14:48:16.549Z"
   },
   {
    "duration": 85,
    "start_time": "2023-06-07T14:48:17.295Z"
   },
   {
    "duration": 21,
    "start_time": "2023-06-07T14:48:17.696Z"
   },
   {
    "duration": 98,
    "start_time": "2023-06-07T14:48:18.050Z"
   },
   {
    "duration": 17,
    "start_time": "2023-06-07T14:48:19.148Z"
   },
   {
    "duration": 7,
    "start_time": "2023-06-07T14:48:19.665Z"
   },
   {
    "duration": 8,
    "start_time": "2023-06-07T14:48:20.130Z"
   },
   {
    "duration": 12,
    "start_time": "2023-06-07T14:48:20.648Z"
   },
   {
    "duration": 20,
    "start_time": "2023-06-07T14:48:21.661Z"
   },
   {
    "duration": 13,
    "start_time": "2023-06-07T14:48:22.353Z"
   },
   {
    "duration": 2284,
    "start_time": "2023-06-07T14:48:26.150Z"
   },
   {
    "duration": 1925,
    "start_time": "2023-06-07T14:48:28.436Z"
   },
   {
    "duration": 1777,
    "start_time": "2023-06-07T14:48:30.362Z"
   },
   {
    "duration": 8281,
    "start_time": "2023-06-07T14:51:54.450Z"
   },
   {
    "duration": 6085,
    "start_time": "2023-06-07T14:52:13.552Z"
   },
   {
    "duration": 6177,
    "start_time": "2023-06-07T14:52:30.104Z"
   },
   {
    "duration": 51,
    "start_time": "2023-06-07T14:54:14.010Z"
   },
   {
    "duration": 1743,
    "start_time": "2023-06-07T14:54:38.217Z"
   },
   {
    "duration": 1304,
    "start_time": "2023-06-07T14:55:28.977Z"
   },
   {
    "duration": 9,
    "start_time": "2023-06-07T14:55:40.146Z"
   },
   {
    "duration": 2857,
    "start_time": "2023-06-07T14:55:40.776Z"
   },
   {
    "duration": 5,
    "start_time": "2023-06-07T15:02:11.673Z"
   },
   {
    "duration": 142,
    "start_time": "2023-06-07T15:02:12.179Z"
   },
   {
    "duration": 145,
    "start_time": "2023-06-07T15:02:27.256Z"
   },
   {
    "duration": 2106,
    "start_time": "2023-06-07T15:02:52.648Z"
   },
   {
    "duration": 360,
    "start_time": "2023-06-07T15:02:54.757Z"
   },
   {
    "duration": 22,
    "start_time": "2023-06-07T15:02:55.119Z"
   },
   {
    "duration": 284,
    "start_time": "2023-06-07T15:02:55.156Z"
   },
   {
    "duration": 419,
    "start_time": "2023-06-07T15:02:55.443Z"
   },
   {
    "duration": 20,
    "start_time": "2023-06-07T15:02:55.864Z"
   },
   {
    "duration": 162,
    "start_time": "2023-06-07T15:02:55.886Z"
   },
   {
    "duration": 1616,
    "start_time": "2023-06-07T15:02:56.051Z"
   },
   {
    "duration": 21,
    "start_time": "2023-06-07T15:02:57.669Z"
   },
   {
    "duration": 486,
    "start_time": "2023-06-07T15:02:57.693Z"
   },
   {
    "duration": 4,
    "start_time": "2023-06-07T15:02:58.181Z"
   },
   {
    "duration": 7,
    "start_time": "2023-06-07T15:02:58.187Z"
   },
   {
    "duration": 11,
    "start_time": "2023-06-07T15:02:58.196Z"
   },
   {
    "duration": 28,
    "start_time": "2023-06-07T15:02:58.209Z"
   },
   {
    "duration": 43,
    "start_time": "2023-06-07T15:02:58.441Z"
   },
   {
    "duration": 21,
    "start_time": "2023-06-07T15:02:58.800Z"
   },
   {
    "duration": 9,
    "start_time": "2023-06-07T15:02:59.198Z"
   },
   {
    "duration": 87,
    "start_time": "2023-06-07T15:02:59.589Z"
   },
   {
    "duration": 22,
    "start_time": "2023-06-07T15:02:59.780Z"
   },
   {
    "duration": 103,
    "start_time": "2023-06-07T15:02:59.941Z"
   },
   {
    "duration": 15,
    "start_time": "2023-06-07T15:03:00.549Z"
   },
   {
    "duration": 11,
    "start_time": "2023-06-07T15:03:00.770Z"
   },
   {
    "duration": 8,
    "start_time": "2023-06-07T15:03:00.940Z"
   },
   {
    "duration": 11,
    "start_time": "2023-06-07T15:03:01.136Z"
   },
   {
    "duration": 19,
    "start_time": "2023-06-07T15:03:01.786Z"
   },
   {
    "duration": 15,
    "start_time": "2023-06-07T15:03:02.001Z"
   },
   {
    "duration": 2769,
    "start_time": "2023-06-07T15:03:03.797Z"
   },
   {
    "duration": 2161,
    "start_time": "2023-06-07T15:03:06.575Z"
   },
   {
    "duration": 2194,
    "start_time": "2023-06-07T15:03:08.738Z"
   },
   {
    "duration": 12,
    "start_time": "2023-06-07T15:03:10.935Z"
   },
   {
    "duration": 257,
    "start_time": "2023-06-07T15:03:11.637Z"
   },
   {
    "duration": 150,
    "start_time": "2023-06-07T15:03:28.952Z"
   },
   {
    "duration": 1459,
    "start_time": "2023-06-07T15:03:36.672Z"
   },
   {
    "duration": 9,
    "start_time": "2023-06-07T15:03:40.040Z"
   },
   {
    "duration": 1680,
    "start_time": "2023-06-07T15:03:40.497Z"
   },
   {
    "duration": 22,
    "start_time": "2023-06-07T15:16:34.680Z"
   },
   {
    "duration": 21,
    "start_time": "2023-06-07T15:16:51.434Z"
   },
   {
    "duration": 19,
    "start_time": "2023-06-07T15:17:04.578Z"
   },
   {
    "duration": 19,
    "start_time": "2023-06-07T15:17:22.731Z"
   },
   {
    "duration": 26,
    "start_time": "2023-06-07T15:25:33.986Z"
   },
   {
    "duration": 540,
    "start_time": "2023-06-07T15:25:54.880Z"
   },
   {
    "duration": 626,
    "start_time": "2023-06-07T15:26:28.936Z"
   },
   {
    "duration": 509,
    "start_time": "2023-06-07T15:26:41.338Z"
   },
   {
    "duration": 1715,
    "start_time": "2023-06-07T15:34:37.691Z"
   },
   {
    "duration": 9,
    "start_time": "2023-06-07T15:35:03.839Z"
   },
   {
    "duration": 19,
    "start_time": "2023-06-07T15:35:22.651Z"
   },
   {
    "duration": 5,
    "start_time": "2023-06-07T15:36:39.595Z"
   },
   {
    "duration": 4,
    "start_time": "2023-06-07T15:37:13.426Z"
   },
   {
    "duration": 5,
    "start_time": "2023-06-07T15:37:13.745Z"
   },
   {
    "duration": 4,
    "start_time": "2023-06-07T15:37:54.783Z"
   },
   {
    "duration": 20,
    "start_time": "2023-06-07T15:37:57.774Z"
   },
   {
    "duration": 12,
    "start_time": "2023-06-07T15:39:43.807Z"
   },
   {
    "duration": 57,
    "start_time": "2023-06-07T15:39:56.545Z"
   },
   {
    "duration": 12,
    "start_time": "2023-06-07T15:41:16.836Z"
   },
   {
    "duration": 4,
    "start_time": "2023-06-07T15:41:22.435Z"
   },
   {
    "duration": 58,
    "start_time": "2023-06-07T15:41:27.944Z"
   },
   {
    "duration": 5145,
    "start_time": "2023-06-07T15:42:03.789Z"
   },
   {
    "duration": 176635,
    "start_time": "2023-06-07T15:42:37.028Z"
   },
   {
    "duration": 2985,
    "start_time": "2023-06-07T15:45:33.676Z"
   },
   {
    "duration": 4975,
    "start_time": "2023-06-07T15:46:04.476Z"
   },
   {
    "duration": 174735,
    "start_time": "2023-06-07T15:46:09.464Z"
   },
   {
    "duration": 2360,
    "start_time": "2023-06-07T15:49:04.203Z"
   },
   {
    "duration": 1855,
    "start_time": "2023-06-07T19:19:47.828Z"
   },
   {
    "duration": 1530,
    "start_time": "2023-06-07T19:19:52.047Z"
   },
   {
    "duration": 21,
    "start_time": "2023-06-07T19:19:53.579Z"
   },
   {
    "duration": 293,
    "start_time": "2023-06-07T19:19:53.602Z"
   },
   {
    "duration": 216,
    "start_time": "2023-06-07T19:19:53.898Z"
   },
   {
    "duration": 22,
    "start_time": "2023-06-07T19:19:54.117Z"
   },
   {
    "duration": 151,
    "start_time": "2023-06-07T19:19:54.141Z"
   },
   {
    "duration": 1689,
    "start_time": "2023-06-07T19:19:54.294Z"
   },
   {
    "duration": 26,
    "start_time": "2023-06-07T19:19:55.989Z"
   },
   {
    "duration": 315,
    "start_time": "2023-06-07T19:19:56.018Z"
   },
   {
    "duration": 23,
    "start_time": "2023-06-07T19:19:56.336Z"
   },
   {
    "duration": 61,
    "start_time": "2023-06-07T19:19:56.368Z"
   },
   {
    "duration": 11,
    "start_time": "2023-06-07T19:19:56.432Z"
   },
   {
    "duration": 19,
    "start_time": "2023-06-07T19:19:56.995Z"
   },
   {
    "duration": 26,
    "start_time": "2023-06-07T19:19:58.378Z"
   },
   {
    "duration": 17,
    "start_time": "2023-06-07T19:19:58.790Z"
   },
   {
    "duration": 8,
    "start_time": "2023-06-07T19:19:59.203Z"
   },
   {
    "duration": 114,
    "start_time": "2023-06-07T19:19:59.648Z"
   },
   {
    "duration": 23,
    "start_time": "2023-06-07T19:19:59.878Z"
   },
   {
    "duration": 134,
    "start_time": "2023-06-07T19:20:00.104Z"
   },
   {
    "duration": 13,
    "start_time": "2023-06-07T19:20:00.781Z"
   },
   {
    "duration": 8,
    "start_time": "2023-06-07T19:20:01.011Z"
   },
   {
    "duration": 8,
    "start_time": "2023-06-07T19:20:01.279Z"
   },
   {
    "duration": 13,
    "start_time": "2023-06-07T19:20:01.508Z"
   },
   {
    "duration": 24,
    "start_time": "2023-06-07T19:20:02.820Z"
   },
   {
    "duration": 33,
    "start_time": "2023-06-07T19:20:03.046Z"
   },
   {
    "duration": 2823,
    "start_time": "2023-06-07T19:20:05.292Z"
   },
   {
    "duration": 2391,
    "start_time": "2023-06-07T19:20:08.118Z"
   },
   {
    "duration": 2537,
    "start_time": "2023-06-07T19:20:10.514Z"
   },
   {
    "duration": 16,
    "start_time": "2023-06-07T19:20:13.054Z"
   },
   {
    "duration": 270,
    "start_time": "2023-06-07T19:20:13.074Z"
   },
   {
    "duration": 9,
    "start_time": "2023-06-07T19:29:16.517Z"
   },
   {
    "duration": 13,
    "start_time": "2023-06-07T19:29:23.089Z"
   },
   {
    "duration": 11,
    "start_time": "2023-06-07T19:29:54.508Z"
   },
   {
    "duration": 8,
    "start_time": "2023-06-07T19:30:03.017Z"
   },
   {
    "duration": 7,
    "start_time": "2023-06-07T19:30:25.305Z"
   },
   {
    "duration": 7,
    "start_time": "2023-06-07T19:30:56.931Z"
   },
   {
    "duration": 3,
    "start_time": "2023-06-07T19:33:45.290Z"
   },
   {
    "duration": 7,
    "start_time": "2023-06-07T19:36:45.537Z"
   },
   {
    "duration": 1635,
    "start_time": "2023-06-07T19:40:27.594Z"
   },
   {
    "duration": 1175,
    "start_time": "2023-06-07T19:40:29.231Z"
   },
   {
    "duration": 19,
    "start_time": "2023-06-07T19:40:30.408Z"
   },
   {
    "duration": 333,
    "start_time": "2023-06-07T19:40:30.429Z"
   },
   {
    "duration": 198,
    "start_time": "2023-06-07T19:40:30.766Z"
   },
   {
    "duration": 19,
    "start_time": "2023-06-07T19:40:30.970Z"
   },
   {
    "duration": 196,
    "start_time": "2023-06-07T19:40:30.991Z"
   },
   {
    "duration": 574,
    "start_time": "2023-06-07T19:40:31.189Z"
   },
   {
    "duration": 23,
    "start_time": "2023-06-07T19:40:31.765Z"
   },
   {
    "duration": 320,
    "start_time": "2023-06-07T19:40:31.791Z"
   },
   {
    "duration": 4,
    "start_time": "2023-06-07T19:40:32.113Z"
   },
   {
    "duration": 36,
    "start_time": "2023-06-07T19:40:32.119Z"
   },
   {
    "duration": 47,
    "start_time": "2023-06-07T19:40:32.157Z"
   },
   {
    "duration": 19,
    "start_time": "2023-06-07T19:40:32.802Z"
   },
   {
    "duration": 21,
    "start_time": "2023-06-07T19:40:33.917Z"
   },
   {
    "duration": 16,
    "start_time": "2023-06-07T19:40:34.320Z"
   },
   {
    "duration": 8,
    "start_time": "2023-06-07T19:40:34.885Z"
   },
   {
    "duration": 121,
    "start_time": "2023-06-07T19:40:35.333Z"
   },
   {
    "duration": 23,
    "start_time": "2023-06-07T19:40:35.579Z"
   },
   {
    "duration": 111,
    "start_time": "2023-06-07T19:40:35.811Z"
   },
   {
    "duration": 14,
    "start_time": "2023-06-07T19:40:36.420Z"
   },
   {
    "duration": 8,
    "start_time": "2023-06-07T19:40:36.636Z"
   },
   {
    "duration": 8,
    "start_time": "2023-06-07T19:40:36.833Z"
   },
   {
    "duration": 14,
    "start_time": "2023-06-07T19:40:37.067Z"
   },
   {
    "duration": 28,
    "start_time": "2023-06-07T19:40:37.513Z"
   },
   {
    "duration": 13,
    "start_time": "2023-06-07T19:40:37.730Z"
   },
   {
    "duration": 2406,
    "start_time": "2023-06-07T19:40:39.227Z"
   },
   {
    "duration": 2028,
    "start_time": "2023-06-07T19:40:41.636Z"
   },
   {
    "duration": 1810,
    "start_time": "2023-06-07T19:40:43.666Z"
   },
   {
    "duration": 7,
    "start_time": "2023-06-07T19:40:45.479Z"
   },
   {
    "duration": 142,
    "start_time": "2023-06-07T19:40:45.487Z"
   },
   {
    "duration": 20,
    "start_time": "2023-06-07T19:40:45.631Z"
   },
   {
    "duration": 145,
    "start_time": "2023-06-07T19:41:41.550Z"
   },
   {
    "duration": 138,
    "start_time": "2023-06-07T19:41:56.407Z"
   },
   {
    "duration": 138,
    "start_time": "2023-06-07T19:58:36.585Z"
   },
   {
    "duration": 20,
    "start_time": "2023-06-07T19:59:55.613Z"
   },
   {
    "duration": 42,
    "start_time": "2023-06-07T20:02:45.202Z"
   },
   {
    "duration": 12,
    "start_time": "2023-06-07T20:03:57.711Z"
   },
   {
    "duration": 1591,
    "start_time": "2023-06-07T20:04:42.417Z"
   },
   {
    "duration": 8,
    "start_time": "2023-06-07T20:04:48.107Z"
   },
   {
    "duration": 1910,
    "start_time": "2023-06-07T20:04:49.121Z"
   },
   {
    "duration": 6,
    "start_time": "2023-06-07T20:05:02.353Z"
   },
   {
    "duration": 4,
    "start_time": "2023-06-07T20:05:02.502Z"
   },
   {
    "duration": 3,
    "start_time": "2023-06-07T20:05:03.821Z"
   },
   {
    "duration": 14,
    "start_time": "2023-06-07T20:05:10.384Z"
   },
   {
    "duration": 49,
    "start_time": "2023-06-07T20:05:14.528Z"
   },
   {
    "duration": 2508,
    "start_time": "2023-06-08T08:26:53.848Z"
   },
   {
    "duration": 910,
    "start_time": "2023-06-08T08:26:56.358Z"
   },
   {
    "duration": 21,
    "start_time": "2023-06-08T08:26:57.269Z"
   },
   {
    "duration": 178,
    "start_time": "2023-06-08T08:26:57.291Z"
   },
   {
    "duration": 151,
    "start_time": "2023-06-08T08:26:57.470Z"
   },
   {
    "duration": 10,
    "start_time": "2023-06-08T08:26:57.622Z"
   },
   {
    "duration": 100,
    "start_time": "2023-06-08T08:26:58.152Z"
   },
   {
    "duration": 1130,
    "start_time": "2023-06-08T08:26:58.253Z"
   },
   {
    "duration": 25,
    "start_time": "2023-06-08T08:26:59.384Z"
   },
   {
    "duration": 204,
    "start_time": "2023-06-08T08:27:00.161Z"
   },
   {
    "duration": 3,
    "start_time": "2023-06-08T08:27:00.374Z"
   },
   {
    "duration": 48,
    "start_time": "2023-06-08T08:27:00.379Z"
   },
   {
    "duration": 38,
    "start_time": "2023-06-08T08:27:00.429Z"
   },
   {
    "duration": 37,
    "start_time": "2023-06-08T08:27:00.469Z"
   },
   {
    "duration": 17,
    "start_time": "2023-06-08T08:27:01.025Z"
   },
   {
    "duration": 75,
    "start_time": "2023-06-08T08:27:01.043Z"
   },
   {
    "duration": 5,
    "start_time": "2023-06-08T08:27:01.351Z"
   },
   {
    "duration": 75,
    "start_time": "2023-06-08T08:27:03.070Z"
   },
   {
    "duration": 17,
    "start_time": "2023-06-08T08:27:03.147Z"
   },
   {
    "duration": 91,
    "start_time": "2023-06-08T08:27:03.165Z"
   },
   {
    "duration": 15,
    "start_time": "2023-06-08T08:27:04.398Z"
   },
   {
    "duration": 20,
    "start_time": "2023-06-08T08:27:04.415Z"
   },
   {
    "duration": 11,
    "start_time": "2023-06-08T08:27:04.583Z"
   },
   {
    "duration": 9,
    "start_time": "2023-06-08T08:27:04.711Z"
   },
   {
    "duration": 17,
    "start_time": "2023-06-08T08:27:05.484Z"
   },
   {
    "duration": 12,
    "start_time": "2023-06-08T08:27:05.749Z"
   },
   {
    "duration": 1973,
    "start_time": "2023-06-08T08:27:11.060Z"
   },
   {
    "duration": 1727,
    "start_time": "2023-06-08T08:27:13.035Z"
   },
   {
    "duration": 1749,
    "start_time": "2023-06-08T08:27:14.764Z"
   },
   {
    "duration": 1562,
    "start_time": "2023-06-08T08:29:06.099Z"
   },
   {
    "duration": 298,
    "start_time": "2023-06-08T08:29:07.662Z"
   },
   {
    "duration": 26,
    "start_time": "2023-06-08T08:29:07.961Z"
   },
   {
    "duration": 183,
    "start_time": "2023-06-08T08:29:07.992Z"
   },
   {
    "duration": 84,
    "start_time": "2023-06-08T08:29:08.176Z"
   },
   {
    "duration": 11,
    "start_time": "2023-06-08T08:29:08.262Z"
   },
   {
    "duration": 120,
    "start_time": "2023-06-08T08:29:08.274Z"
   },
   {
    "duration": 358,
    "start_time": "2023-06-08T08:29:08.397Z"
   },
   {
    "duration": 15,
    "start_time": "2023-06-08T08:29:08.757Z"
   },
   {
    "duration": 231,
    "start_time": "2023-06-08T08:29:08.774Z"
   },
   {
    "duration": 4,
    "start_time": "2023-06-08T08:29:09.432Z"
   },
   {
    "duration": 2,
    "start_time": "2023-06-08T08:29:09.679Z"
   },
   {
    "duration": 5,
    "start_time": "2023-06-08T08:29:09.858Z"
   },
   {
    "duration": 12,
    "start_time": "2023-06-08T08:29:10.864Z"
   },
   {
    "duration": 21,
    "start_time": "2023-06-08T08:29:11.903Z"
   },
   {
    "duration": 13,
    "start_time": "2023-06-08T08:29:12.297Z"
   },
   {
    "duration": 9,
    "start_time": "2023-06-08T08:29:12.681Z"
   },
   {
    "duration": 82,
    "start_time": "2023-06-08T08:29:13.114Z"
   },
   {
    "duration": 19,
    "start_time": "2023-06-08T08:29:13.465Z"
   },
   {
    "duration": 86,
    "start_time": "2023-06-08T08:29:13.522Z"
   },
   {
    "duration": 11,
    "start_time": "2023-06-08T08:29:14.142Z"
   },
   {
    "duration": 7,
    "start_time": "2023-06-08T08:29:14.343Z"
   },
   {
    "duration": 6,
    "start_time": "2023-06-08T08:29:14.539Z"
   },
   {
    "duration": 8,
    "start_time": "2023-06-08T08:29:14.742Z"
   },
   {
    "duration": 14,
    "start_time": "2023-06-08T08:29:15.152Z"
   },
   {
    "duration": 12,
    "start_time": "2023-06-08T08:29:15.365Z"
   },
   {
    "duration": 1954,
    "start_time": "2023-06-08T08:29:16.806Z"
   },
   {
    "duration": 1771,
    "start_time": "2023-06-08T08:29:18.761Z"
   },
   {
    "duration": 1671,
    "start_time": "2023-06-08T08:29:20.534Z"
   },
   {
    "duration": 113,
    "start_time": "2023-06-08T08:31:24.600Z"
   },
   {
    "duration": 18,
    "start_time": "2023-06-08T08:31:39.201Z"
   },
   {
    "duration": 14,
    "start_time": "2023-06-08T08:32:07.796Z"
   },
   {
    "duration": 10,
    "start_time": "2023-06-08T08:33:52.874Z"
   },
   {
    "duration": 268,
    "start_time": "2023-06-08T08:37:02.149Z"
   },
   {
    "duration": 13,
    "start_time": "2023-06-08T08:37:08.620Z"
   },
   {
    "duration": 4,
    "start_time": "2023-06-08T08:40:01.518Z"
   },
   {
    "duration": 95,
    "start_time": "2023-06-08T08:40:05.164Z"
   },
   {
    "duration": 14,
    "start_time": "2023-06-08T08:42:58.345Z"
   },
   {
    "duration": 1387,
    "start_time": "2023-06-08T08:43:39.116Z"
   },
   {
    "duration": 316,
    "start_time": "2023-06-08T08:43:40.505Z"
   },
   {
    "duration": 15,
    "start_time": "2023-06-08T08:43:40.822Z"
   },
   {
    "duration": 196,
    "start_time": "2023-06-08T08:43:40.839Z"
   },
   {
    "duration": 93,
    "start_time": "2023-06-08T08:43:41.037Z"
   },
   {
    "duration": 12,
    "start_time": "2023-06-08T08:43:41.132Z"
   },
   {
    "duration": 116,
    "start_time": "2023-06-08T08:43:41.147Z"
   },
   {
    "duration": 388,
    "start_time": "2023-06-08T08:43:41.265Z"
   },
   {
    "duration": 19,
    "start_time": "2023-06-08T08:43:41.654Z"
   },
   {
    "duration": 274,
    "start_time": "2023-06-08T08:43:41.674Z"
   },
   {
    "duration": 3,
    "start_time": "2023-06-08T08:43:41.951Z"
   },
   {
    "duration": 16,
    "start_time": "2023-06-08T08:43:41.955Z"
   },
   {
    "duration": 11,
    "start_time": "2023-06-08T08:43:41.973Z"
   },
   {
    "duration": 12,
    "start_time": "2023-06-08T08:43:42.726Z"
   },
   {
    "duration": 24,
    "start_time": "2023-06-08T08:43:43.735Z"
   },
   {
    "duration": 12,
    "start_time": "2023-06-08T08:43:44.143Z"
   },
   {
    "duration": 7,
    "start_time": "2023-06-08T08:43:44.548Z"
   },
   {
    "duration": 77,
    "start_time": "2023-06-08T08:43:44.947Z"
   },
   {
    "duration": 19,
    "start_time": "2023-06-08T08:43:45.147Z"
   },
   {
    "duration": 86,
    "start_time": "2023-06-08T08:43:45.347Z"
   },
   {
    "duration": 11,
    "start_time": "2023-06-08T08:43:45.928Z"
   },
   {
    "duration": 8,
    "start_time": "2023-06-08T08:43:46.118Z"
   },
   {
    "duration": 7,
    "start_time": "2023-06-08T08:43:46.317Z"
   },
   {
    "duration": 9,
    "start_time": "2023-06-08T08:43:46.840Z"
   },
   {
    "duration": 15,
    "start_time": "2023-06-08T08:43:47.302Z"
   },
   {
    "duration": 11,
    "start_time": "2023-06-08T08:43:47.524Z"
   },
   {
    "duration": 1912,
    "start_time": "2023-06-08T08:43:48.936Z"
   },
   {
    "duration": 1699,
    "start_time": "2023-06-08T08:43:50.850Z"
   },
   {
    "duration": 1578,
    "start_time": "2023-06-08T08:43:52.551Z"
   },
   {
    "duration": 140,
    "start_time": "2023-06-08T08:43:55.380Z"
   },
   {
    "duration": 972,
    "start_time": "2023-06-08T08:44:44.885Z"
   },
   {
    "duration": 22,
    "start_time": "2023-06-08T08:46:29.736Z"
   },
   {
    "duration": 19,
    "start_time": "2023-06-08T08:46:42.011Z"
   },
   {
    "duration": 21,
    "start_time": "2023-06-08T08:46:45.879Z"
   },
   {
    "duration": 14,
    "start_time": "2023-06-08T08:47:00.498Z"
   },
   {
    "duration": 17,
    "start_time": "2023-06-08T08:47:06.499Z"
   },
   {
    "duration": 15,
    "start_time": "2023-06-08T08:48:32.792Z"
   },
   {
    "duration": 23,
    "start_time": "2023-06-08T08:49:01.231Z"
   },
   {
    "duration": 33,
    "start_time": "2023-06-08T08:50:53.299Z"
   },
   {
    "duration": 11,
    "start_time": "2023-06-08T08:50:56.164Z"
   },
   {
    "duration": 23,
    "start_time": "2023-06-08T08:50:56.731Z"
   },
   {
    "duration": 4,
    "start_time": "2023-06-08T08:50:59.361Z"
   },
   {
    "duration": 92,
    "start_time": "2023-06-08T08:50:59.758Z"
   },
   {
    "duration": 18,
    "start_time": "2023-06-08T08:51:00.257Z"
   },
   {
    "duration": 20,
    "start_time": "2023-06-08T08:51:15.955Z"
   },
   {
    "duration": 800,
    "start_time": "2023-06-08T08:53:57.498Z"
   },
   {
    "duration": 868,
    "start_time": "2023-06-08T08:54:05.097Z"
   },
   {
    "duration": 1090,
    "start_time": "2023-06-08T08:54:40.328Z"
   },
   {
    "duration": 5,
    "start_time": "2023-06-08T08:54:42.317Z"
   },
   {
    "duration": 1378,
    "start_time": "2023-06-08T08:54:42.797Z"
   },
   {
    "duration": 3,
    "start_time": "2023-06-08T08:54:49.801Z"
   },
   {
    "duration": 3,
    "start_time": "2023-06-08T08:54:50.073Z"
   },
   {
    "duration": 2,
    "start_time": "2023-06-08T08:54:51.764Z"
   },
   {
    "duration": 10,
    "start_time": "2023-06-08T08:54:54.744Z"
   },
   {
    "duration": 30,
    "start_time": "2023-06-08T08:55:00.349Z"
   },
   {
    "duration": 5061,
    "start_time": "2023-06-08T08:56:01.421Z"
   },
   {
    "duration": 6526,
    "start_time": "2023-06-08T08:57:14.185Z"
   },
   {
    "duration": 231599,
    "start_time": "2023-06-08T08:57:27.522Z"
   },
   {
    "duration": 1965,
    "start_time": "2023-06-08T09:01:19.123Z"
   },
   {
    "duration": 0,
    "start_time": "2023-06-08T09:01:21.187Z"
   },
   {
    "duration": 0,
    "start_time": "2023-06-08T09:01:21.189Z"
   },
   {
    "duration": 0,
    "start_time": "2023-06-08T09:01:21.190Z"
   },
   {
    "duration": 0,
    "start_time": "2023-06-08T09:01:21.191Z"
   },
   {
    "duration": 6512,
    "start_time": "2023-06-08T09:02:04.089Z"
   },
   {
    "duration": 234420,
    "start_time": "2023-06-08T09:02:10.603Z"
   },
   {
    "duration": 1461,
    "start_time": "2023-06-08T09:06:05.024Z"
   },
   {
    "duration": 6843,
    "start_time": "2023-06-08T09:06:06.487Z"
   },
   {
    "duration": 1443,
    "start_time": "2023-06-08T09:08:53.130Z"
   },
   {
    "duration": 391,
    "start_time": "2023-06-08T09:08:56.019Z"
   },
   {
    "duration": 19,
    "start_time": "2023-06-08T09:08:56.412Z"
   },
   {
    "duration": 220,
    "start_time": "2023-06-08T09:08:56.433Z"
   },
   {
    "duration": 96,
    "start_time": "2023-06-08T09:08:56.655Z"
   },
   {
    "duration": 12,
    "start_time": "2023-06-08T09:08:56.860Z"
   },
   {
    "duration": 118,
    "start_time": "2023-06-08T09:08:57.095Z"
   },
   {
    "duration": 433,
    "start_time": "2023-06-08T09:08:57.240Z"
   },
   {
    "duration": 29,
    "start_time": "2023-06-08T09:08:57.675Z"
   },
   {
    "duration": 226,
    "start_time": "2023-06-08T09:08:57.729Z"
   },
   {
    "duration": 3,
    "start_time": "2023-06-08T09:08:59.029Z"
   },
   {
    "duration": 3,
    "start_time": "2023-06-08T09:08:59.464Z"
   },
   {
    "duration": 7,
    "start_time": "2023-06-08T09:08:59.875Z"
   },
   {
    "duration": 12,
    "start_time": "2023-06-08T09:09:01.000Z"
   },
   {
    "duration": 24,
    "start_time": "2023-06-08T09:09:02.111Z"
   },
   {
    "duration": 13,
    "start_time": "2023-06-08T09:09:02.548Z"
   },
   {
    "duration": 7,
    "start_time": "2023-06-08T09:09:03.376Z"
   },
   {
    "duration": 85,
    "start_time": "2023-06-08T09:09:03.870Z"
   },
   {
    "duration": 20,
    "start_time": "2023-06-08T09:09:04.154Z"
   },
   {
    "duration": 96,
    "start_time": "2023-06-08T09:09:04.467Z"
   },
   {
    "duration": 12,
    "start_time": "2023-06-08T09:09:05.155Z"
   },
   {
    "duration": 9,
    "start_time": "2023-06-08T09:09:05.383Z"
   },
   {
    "duration": 7,
    "start_time": "2023-06-08T09:09:05.622Z"
   },
   {
    "duration": 9,
    "start_time": "2023-06-08T09:09:05.826Z"
   },
   {
    "duration": 14,
    "start_time": "2023-06-08T09:09:06.256Z"
   },
   {
    "duration": 12,
    "start_time": "2023-06-08T09:09:06.504Z"
   },
   {
    "duration": 2112,
    "start_time": "2023-06-08T09:09:08.053Z"
   },
   {
    "duration": 1793,
    "start_time": "2023-06-08T09:09:10.167Z"
   },
   {
    "duration": 1603,
    "start_time": "2023-06-08T09:09:11.962Z"
   },
   {
    "duration": 1158,
    "start_time": "2023-06-08T09:09:13.567Z"
   },
   {
    "duration": 6,
    "start_time": "2023-06-08T09:09:14.726Z"
   },
   {
    "duration": 2623,
    "start_time": "2023-06-08T09:09:14.733Z"
   },
   {
    "duration": 3,
    "start_time": "2023-06-08T09:09:22.956Z"
   },
   {
    "duration": 2,
    "start_time": "2023-06-08T09:09:23.212Z"
   },
   {
    "duration": 3,
    "start_time": "2023-06-08T09:09:23.924Z"
   },
   {
    "duration": 13,
    "start_time": "2023-06-08T09:09:24.363Z"
   },
   {
    "duration": 38,
    "start_time": "2023-06-08T09:09:25.551Z"
   },
   {
    "duration": 7240,
    "start_time": "2023-06-08T09:09:26.032Z"
   },
   {
    "duration": 250446,
    "start_time": "2023-06-08T09:09:33.275Z"
   },
   {
    "duration": 2064,
    "start_time": "2023-06-08T09:13:43.723Z"
   },
   {
    "duration": 6908,
    "start_time": "2023-06-08T09:13:45.790Z"
   },
   {
    "duration": 247845,
    "start_time": "2023-06-08T09:13:52.699Z"
   },
   {
    "duration": 1865,
    "start_time": "2023-06-08T09:18:00.546Z"
   },
   {
    "duration": 4,
    "start_time": "2023-06-08T09:18:02.412Z"
   },
   {
    "duration": 2456,
    "start_time": "2023-06-08T09:18:02.418Z"
   },
   {
    "duration": 0,
    "start_time": "2023-06-08T09:18:04.876Z"
   },
   {
    "duration": 0,
    "start_time": "2023-06-08T09:18:04.877Z"
   },
   {
    "duration": 0,
    "start_time": "2023-06-08T09:18:04.878Z"
   },
   {
    "duration": 2276,
    "start_time": "2023-06-08T09:18:57.213Z"
   },
   {
    "duration": 2111,
    "start_time": "2023-06-08T09:19:27.796Z"
   },
   {
    "duration": 4,
    "start_time": "2023-06-08T09:19:57.172Z"
   },
   {
    "duration": 2112,
    "start_time": "2023-06-08T09:20:07.936Z"
   },
   {
    "duration": 2091,
    "start_time": "2023-06-08T09:20:10.050Z"
   },
   {
    "duration": 4,
    "start_time": "2023-06-08T09:20:15.376Z"
   },
   {
    "duration": 10465,
    "start_time": "2023-06-08T09:23:22.152Z"
   },
   {
    "duration": 10394,
    "start_time": "2023-06-08T09:23:32.619Z"
   },
   {
    "duration": 11112,
    "start_time": "2023-06-08T09:23:46.428Z"
   },
   {
    "duration": 10953,
    "start_time": "2023-06-08T09:23:57.541Z"
   },
   {
    "duration": 10,
    "start_time": "2023-06-08T09:24:08.496Z"
   },
   {
    "duration": 3,
    "start_time": "2023-06-08T09:24:20.100Z"
   },
   {
    "duration": 9,
    "start_time": "2023-06-08T09:24:32.710Z"
   },
   {
    "duration": 10689,
    "start_time": "2023-06-08T09:25:53.094Z"
   },
   {
    "duration": 10458,
    "start_time": "2023-06-08T09:26:03.784Z"
   },
   {
    "duration": 9,
    "start_time": "2023-06-08T09:26:14.244Z"
   },
   {
    "duration": 11,
    "start_time": "2023-06-08T09:26:26.936Z"
   },
   {
    "duration": 5,
    "start_time": "2023-06-08T09:27:04.426Z"
   },
   {
    "duration": 9,
    "start_time": "2023-06-08T09:27:11.112Z"
   },
   {
    "duration": 4,
    "start_time": "2023-06-08T09:27:17.325Z"
   },
   {
    "duration": 10,
    "start_time": "2023-06-08T09:27:23.429Z"
   },
   {
    "duration": 9,
    "start_time": "2023-06-08T09:47:27.803Z"
   },
   {
    "duration": 52,
    "start_time": "2023-06-08T09:47:28.891Z"
   },
   {
    "duration": 1337,
    "start_time": "2023-06-08T09:47:42.873Z"
   },
   {
    "duration": 430,
    "start_time": "2023-06-08T09:47:46.230Z"
   },
   {
    "duration": 39,
    "start_time": "2023-06-08T09:47:46.663Z"
   },
   {
    "duration": 253,
    "start_time": "2023-06-08T09:47:46.705Z"
   },
   {
    "duration": 95,
    "start_time": "2023-06-08T09:47:46.959Z"
   },
   {
    "duration": 13,
    "start_time": "2023-06-08T09:47:47.057Z"
   },
   {
    "duration": 139,
    "start_time": "2023-06-08T09:47:47.072Z"
   },
   {
    "duration": 378,
    "start_time": "2023-06-08T09:47:47.520Z"
   },
   {
    "duration": 19,
    "start_time": "2023-06-08T09:47:47.899Z"
   },
   {
    "duration": 224,
    "start_time": "2023-06-08T09:47:47.920Z"
   },
   {
    "duration": 4,
    "start_time": "2023-06-08T09:47:49.451Z"
   },
   {
    "duration": 3,
    "start_time": "2023-06-08T09:47:50.737Z"
   },
   {
    "duration": 24,
    "start_time": "2023-06-08T09:47:50.741Z"
   },
   {
    "duration": 12,
    "start_time": "2023-06-08T09:47:51.317Z"
   },
   {
    "duration": 26,
    "start_time": "2023-06-08T09:47:52.151Z"
   },
   {
    "duration": 15,
    "start_time": "2023-06-08T09:47:52.756Z"
   },
   {
    "duration": 8,
    "start_time": "2023-06-08T09:47:54.180Z"
   },
   {
    "duration": 93,
    "start_time": "2023-06-08T09:47:54.220Z"
   },
   {
    "duration": 30,
    "start_time": "2023-06-08T09:47:54.409Z"
   },
   {
    "duration": 104,
    "start_time": "2023-06-08T09:47:54.513Z"
   },
   {
    "duration": 13,
    "start_time": "2023-06-08T09:47:55.560Z"
   },
   {
    "duration": 33,
    "start_time": "2023-06-08T09:47:55.576Z"
   },
   {
    "duration": 9,
    "start_time": "2023-06-08T09:47:55.821Z"
   },
   {
    "duration": 11,
    "start_time": "2023-06-08T09:47:56.117Z"
   },
   {
    "duration": 19,
    "start_time": "2023-06-08T09:47:56.760Z"
   },
   {
    "duration": 39,
    "start_time": "2023-06-08T09:47:56.781Z"
   },
   {
    "duration": 2345,
    "start_time": "2023-06-08T09:47:58.877Z"
   },
   {
    "duration": 1953,
    "start_time": "2023-06-08T09:48:01.224Z"
   },
   {
    "duration": 1623,
    "start_time": "2023-06-08T09:48:03.184Z"
   },
   {
    "duration": 4,
    "start_time": "2023-06-08T09:48:04.809Z"
   },
   {
    "duration": 118,
    "start_time": "2023-06-08T09:48:04.815Z"
   },
   {
    "duration": 551,
    "start_time": "2023-06-08T09:53:52.855Z"
   },
   {
    "duration": 644,
    "start_time": "2023-06-08T09:54:47.766Z"
   },
   {
    "duration": 585,
    "start_time": "2023-06-08T09:55:11.378Z"
   },
   {
    "duration": 574,
    "start_time": "2023-06-08T09:55:56.824Z"
   },
   {
    "duration": 624,
    "start_time": "2023-06-08T09:56:20.378Z"
   },
   {
    "duration": 574,
    "start_time": "2023-06-08T09:56:40.601Z"
   },
   {
    "duration": 1098,
    "start_time": "2023-06-08T09:57:00.823Z"
   },
   {
    "duration": 6,
    "start_time": "2023-06-08T09:57:05.723Z"
   },
   {
    "duration": 1581,
    "start_time": "2023-06-08T09:57:07.134Z"
   },
   {
    "duration": 4,
    "start_time": "2023-06-08T09:57:14.370Z"
   },
   {
    "duration": 2,
    "start_time": "2023-06-08T09:57:15.077Z"
   },
   {
    "duration": 14,
    "start_time": "2023-06-08T09:57:38.369Z"
   },
   {
    "duration": 42,
    "start_time": "2023-06-08T09:57:54.254Z"
   },
   {
    "duration": 6152,
    "start_time": "2023-06-08T09:58:11.062Z"
   },
   {
    "duration": 202576,
    "start_time": "2023-06-08T09:58:22.415Z"
   },
   {
    "duration": 2106,
    "start_time": "2023-06-08T10:02:09.115Z"
   },
   {
    "duration": 5579,
    "start_time": "2023-06-08T10:02:15.911Z"
   },
   {
    "duration": 201189,
    "start_time": "2023-06-08T10:02:21.492Z"
   },
   {
    "duration": 2013,
    "start_time": "2023-06-08T10:05:42.691Z"
   },
   {
    "duration": 125,
    "start_time": "2023-06-08T10:06:15.259Z"
   },
   {
    "duration": 4,
    "start_time": "2023-06-08T10:06:43.707Z"
   },
   {
    "duration": 3,
    "start_time": "2023-06-08T10:06:47.946Z"
   },
   {
    "duration": 1893,
    "start_time": "2023-06-08T10:06:55.905Z"
   },
   {
    "duration": 0,
    "start_time": "2023-06-08T10:06:57.799Z"
   },
   {
    "duration": 4,
    "start_time": "2023-06-08T10:07:03.623Z"
   },
   {
    "duration": 3,
    "start_time": "2023-06-08T10:07:06.513Z"
   },
   {
    "duration": 1681,
    "start_time": "2023-06-08T10:07:09.568Z"
   },
   {
    "duration": 1686,
    "start_time": "2023-06-08T10:07:11.251Z"
   },
   {
    "duration": 3,
    "start_time": "2023-06-08T10:07:20.600Z"
   },
   {
    "duration": 6734,
    "start_time": "2023-06-08T10:07:46.443Z"
   },
   {
    "duration": 1838,
    "start_time": "2023-06-08T10:07:53.179Z"
   },
   {
    "duration": 4,
    "start_time": "2023-06-08T10:07:55.019Z"
   },
   {
    "duration": 9,
    "start_time": "2023-06-08T10:08:47.927Z"
   },
   {
    "duration": 13,
    "start_time": "2023-06-08T10:09:00.269Z"
   },
   {
    "duration": 7,
    "start_time": "2023-06-08T10:09:22.608Z"
   },
   {
    "duration": 13,
    "start_time": "2023-06-08T10:09:27.861Z"
   },
   {
    "duration": 13,
    "start_time": "2023-06-08T10:09:47.014Z"
   },
   {
    "duration": 11,
    "start_time": "2023-06-08T10:10:03.510Z"
   },
   {
    "duration": 13,
    "start_time": "2023-06-08T10:10:11.622Z"
   },
   {
    "duration": 3,
    "start_time": "2023-06-08T10:32:19.339Z"
   },
   {
    "duration": 6,
    "start_time": "2023-06-08T10:33:33.018Z"
   },
   {
    "duration": 6431,
    "start_time": "2023-06-08T10:33:40.280Z"
   },
   {
    "duration": 1635,
    "start_time": "2023-06-08T10:33:46.713Z"
   },
   {
    "duration": 9,
    "start_time": "2023-06-08T10:33:48.350Z"
   },
   {
    "duration": 13,
    "start_time": "2023-06-08T10:34:09.663Z"
   },
   {
    "duration": 2,
    "start_time": "2023-06-08T10:35:22.852Z"
   },
   {
    "duration": 6746,
    "start_time": "2023-06-08T10:35:28.826Z"
   },
   {
    "duration": 1746,
    "start_time": "2023-06-08T10:35:35.574Z"
   },
   {
    "duration": 9,
    "start_time": "2023-06-08T10:35:37.321Z"
   },
   {
    "duration": 13,
    "start_time": "2023-06-08T10:35:46.812Z"
   },
   {
    "duration": 4,
    "start_time": "2023-06-08T10:42:04.541Z"
   },
   {
    "duration": 4,
    "start_time": "2023-06-08T10:43:21.910Z"
   },
   {
    "duration": 10,
    "start_time": "2023-06-08T10:43:35.311Z"
   },
   {
    "duration": 3449,
    "start_time": "2023-06-08T10:50:06.375Z"
   },
   {
    "duration": 1554,
    "start_time": "2023-06-08T10:50:43.011Z"
   },
   {
    "duration": 363,
    "start_time": "2023-06-08T10:50:45.905Z"
   },
   {
    "duration": 44,
    "start_time": "2023-06-08T10:50:46.270Z"
   },
   {
    "duration": 247,
    "start_time": "2023-06-08T10:50:46.317Z"
   },
   {
    "duration": 99,
    "start_time": "2023-06-08T10:50:46.615Z"
   },
   {
    "duration": 11,
    "start_time": "2023-06-08T10:50:46.716Z"
   },
   {
    "duration": 116,
    "start_time": "2023-06-08T10:50:46.932Z"
   },
   {
    "duration": 412,
    "start_time": "2023-06-08T10:50:47.306Z"
   },
   {
    "duration": 17,
    "start_time": "2023-06-08T10:50:47.720Z"
   },
   {
    "duration": 230,
    "start_time": "2023-06-08T10:50:47.739Z"
   },
   {
    "duration": 3,
    "start_time": "2023-06-08T10:50:49.171Z"
   },
   {
    "duration": 3,
    "start_time": "2023-06-08T10:50:49.414Z"
   },
   {
    "duration": 6,
    "start_time": "2023-06-08T10:50:49.461Z"
   },
   {
    "duration": 15,
    "start_time": "2023-06-08T10:50:51.316Z"
   },
   {
    "duration": 32,
    "start_time": "2023-06-08T10:50:51.847Z"
   },
   {
    "duration": 28,
    "start_time": "2023-06-08T10:50:53.403Z"
   },
   {
    "duration": 25,
    "start_time": "2023-06-08T10:50:53.433Z"
   },
   {
    "duration": 105,
    "start_time": "2023-06-08T10:50:53.460Z"
   },
   {
    "duration": 44,
    "start_time": "2023-06-08T10:50:53.566Z"
   },
   {
    "duration": 103,
    "start_time": "2023-06-08T10:50:53.821Z"
   },
   {
    "duration": 30,
    "start_time": "2023-06-08T10:50:54.395Z"
   },
   {
    "duration": 8,
    "start_time": "2023-06-08T10:50:54.567Z"
   },
   {
    "duration": 8,
    "start_time": "2023-06-08T10:50:55.213Z"
   },
   {
    "duration": 8,
    "start_time": "2023-06-08T10:50:55.223Z"
   },
   {
    "duration": 13,
    "start_time": "2023-06-08T10:50:55.346Z"
   },
   {
    "duration": 14,
    "start_time": "2023-06-08T10:50:55.728Z"
   },
   {
    "duration": 2324,
    "start_time": "2023-06-08T10:50:57.054Z"
   },
   {
    "duration": 1762,
    "start_time": "2023-06-08T10:50:59.380Z"
   },
   {
    "duration": 1671,
    "start_time": "2023-06-08T10:51:01.143Z"
   },
   {
    "duration": 3376,
    "start_time": "2023-06-08T10:51:25.338Z"
   },
   {
    "duration": 1463,
    "start_time": "2023-06-08T11:10:42.220Z"
   },
   {
    "duration": 994,
    "start_time": "2023-06-08T11:11:37.937Z"
   },
   {
    "duration": 1570,
    "start_time": "2023-06-08T11:12:14.865Z"
   },
   {
    "duration": 1450,
    "start_time": "2023-06-08T11:12:28.712Z"
   },
   {
    "duration": 352,
    "start_time": "2023-06-08T11:12:31.161Z"
   },
   {
    "duration": 261,
    "start_time": "2023-06-08T11:12:31.515Z"
   },
   {
    "duration": 436,
    "start_time": "2023-06-08T11:12:31.778Z"
   },
   {
    "duration": 112,
    "start_time": "2023-06-08T11:12:32.218Z"
   },
   {
    "duration": 11,
    "start_time": "2023-06-08T11:12:32.332Z"
   },
   {
    "duration": 133,
    "start_time": "2023-06-08T11:12:32.345Z"
   },
   {
    "duration": 458,
    "start_time": "2023-06-08T11:12:32.480Z"
   },
   {
    "duration": 17,
    "start_time": "2023-06-08T11:12:32.940Z"
   },
   {
    "duration": 323,
    "start_time": "2023-06-08T11:12:32.959Z"
   },
   {
    "duration": 20,
    "start_time": "2023-06-08T11:12:33.283Z"
   },
   {
    "duration": 28,
    "start_time": "2023-06-08T11:12:33.313Z"
   },
   {
    "duration": 18,
    "start_time": "2023-06-08T11:12:33.343Z"
   },
   {
    "duration": 63,
    "start_time": "2023-06-08T11:12:33.363Z"
   },
   {
    "duration": 34,
    "start_time": "2023-06-08T11:12:33.427Z"
   },
   {
    "duration": 20,
    "start_time": "2023-06-08T11:12:33.463Z"
   },
   {
    "duration": 7,
    "start_time": "2023-06-08T11:12:33.579Z"
   },
   {
    "duration": 101,
    "start_time": "2023-06-08T11:12:33.627Z"
   },
   {
    "duration": 19,
    "start_time": "2023-06-08T11:12:33.730Z"
   },
   {
    "duration": 106,
    "start_time": "2023-06-08T11:12:33.751Z"
   },
   {
    "duration": 12,
    "start_time": "2023-06-08T11:12:33.858Z"
   },
   {
    "duration": 48,
    "start_time": "2023-06-08T11:12:33.871Z"
   },
   {
    "duration": 22,
    "start_time": "2023-06-08T11:12:33.920Z"
   },
   {
    "duration": 18,
    "start_time": "2023-06-08T11:12:33.944Z"
   },
   {
    "duration": 18,
    "start_time": "2023-06-08T11:12:34.040Z"
   },
   {
    "duration": 23,
    "start_time": "2023-06-08T11:12:34.110Z"
   },
   {
    "duration": 2211,
    "start_time": "2023-06-08T11:12:34.335Z"
   },
   {
    "duration": 1778,
    "start_time": "2023-06-08T11:12:36.548Z"
   },
   {
    "duration": 1613,
    "start_time": "2023-06-08T11:12:38.328Z"
   },
   {
    "duration": 4,
    "start_time": "2023-06-08T11:12:39.943Z"
   },
   {
    "duration": 123,
    "start_time": "2023-06-08T11:12:39.949Z"
   },
   {
    "duration": 138,
    "start_time": "2023-06-08T11:12:40.073Z"
   },
   {
    "duration": 0,
    "start_time": "2023-06-08T11:12:40.212Z"
   },
   {
    "duration": 0,
    "start_time": "2023-06-08T11:12:40.213Z"
   },
   {
    "duration": 1368,
    "start_time": "2023-06-08T11:13:11.465Z"
   },
   {
    "duration": 326,
    "start_time": "2023-06-08T11:13:12.835Z"
   },
   {
    "duration": 29,
    "start_time": "2023-06-08T11:13:13.162Z"
   },
   {
    "duration": 204,
    "start_time": "2023-06-08T11:13:13.192Z"
   },
   {
    "duration": 117,
    "start_time": "2023-06-08T11:13:13.397Z"
   },
   {
    "duration": 11,
    "start_time": "2023-06-08T11:13:13.518Z"
   },
   {
    "duration": 134,
    "start_time": "2023-06-08T11:13:13.531Z"
   },
   {
    "duration": 444,
    "start_time": "2023-06-08T11:13:13.667Z"
   },
   {
    "duration": 18,
    "start_time": "2023-06-08T11:13:14.113Z"
   },
   {
    "duration": 231,
    "start_time": "2023-06-08T11:13:14.133Z"
   },
   {
    "duration": 3,
    "start_time": "2023-06-08T11:13:14.714Z"
   },
   {
    "duration": 2,
    "start_time": "2023-06-08T11:13:15.127Z"
   },
   {
    "duration": 6,
    "start_time": "2023-06-08T11:13:15.330Z"
   },
   {
    "duration": 12,
    "start_time": "2023-06-08T11:13:16.333Z"
   },
   {
    "duration": 43,
    "start_time": "2023-06-08T11:13:17.367Z"
   },
   {
    "duration": 33,
    "start_time": "2023-06-08T11:13:17.777Z"
   },
   {
    "duration": 11,
    "start_time": "2023-06-08T11:13:18.179Z"
   },
   {
    "duration": 90,
    "start_time": "2023-06-08T11:13:18.580Z"
   },
   {
    "duration": 35,
    "start_time": "2023-06-08T11:13:18.771Z"
   },
   {
    "duration": 117,
    "start_time": "2023-06-08T11:13:19.003Z"
   },
   {
    "duration": 21,
    "start_time": "2023-06-08T11:13:19.576Z"
   },
   {
    "duration": 19,
    "start_time": "2023-06-08T11:13:19.783Z"
   },
   {
    "duration": 8,
    "start_time": "2023-06-08T11:13:20.032Z"
   },
   {
    "duration": 9,
    "start_time": "2023-06-08T11:13:20.219Z"
   },
   {
    "duration": 12,
    "start_time": "2023-06-08T11:13:20.652Z"
   },
   {
    "duration": 12,
    "start_time": "2023-06-08T11:13:21.018Z"
   },
   {
    "duration": 2141,
    "start_time": "2023-06-08T11:13:23.635Z"
   },
   {
    "duration": 1880,
    "start_time": "2023-06-08T11:13:25.778Z"
   },
   {
    "duration": 1646,
    "start_time": "2023-06-08T11:13:27.660Z"
   },
   {
    "duration": 135,
    "start_time": "2023-06-08T11:13:29.914Z"
   },
   {
    "duration": 10,
    "start_time": "2023-06-08T11:15:56.868Z"
   },
   {
    "duration": 14,
    "start_time": "2023-06-08T11:16:25.713Z"
   },
   {
    "duration": 11,
    "start_time": "2023-06-08T11:16:52.011Z"
   },
   {
    "duration": 27,
    "start_time": "2023-06-08T11:17:02.679Z"
   },
   {
    "duration": 11,
    "start_time": "2023-06-08T11:17:19.120Z"
   },
   {
    "duration": 12,
    "start_time": "2023-06-08T11:17:37.056Z"
   },
   {
    "duration": 10,
    "start_time": "2023-06-08T11:17:49.063Z"
   },
   {
    "duration": 9,
    "start_time": "2023-06-08T11:18:08.367Z"
   },
   {
    "duration": 18,
    "start_time": "2023-06-08T11:18:16.272Z"
   },
   {
    "duration": 20,
    "start_time": "2023-06-08T11:19:04.984Z"
   },
   {
    "duration": 11,
    "start_time": "2023-06-08T11:19:45.530Z"
   },
   {
    "duration": 13,
    "start_time": "2023-06-08T11:20:29.158Z"
   },
   {
    "duration": 526,
    "start_time": "2023-06-08T11:20:55.168Z"
   },
   {
    "duration": 1285,
    "start_time": "2023-06-08T11:21:00.433Z"
   },
   {
    "duration": 6,
    "start_time": "2023-06-08T11:21:05.540Z"
   },
   {
    "duration": 2694,
    "start_time": "2023-06-08T11:21:06.053Z"
   },
   {
    "duration": 4,
    "start_time": "2023-06-08T11:21:28.551Z"
   },
   {
    "duration": 3,
    "start_time": "2023-06-08T11:21:28.771Z"
   },
   {
    "duration": 2,
    "start_time": "2023-06-08T11:21:29.739Z"
   },
   {
    "duration": 12,
    "start_time": "2023-06-08T11:21:30.719Z"
   },
   {
    "duration": 34,
    "start_time": "2023-06-08T11:21:34.129Z"
   },
   {
    "duration": 6944,
    "start_time": "2023-06-08T11:21:35.850Z"
   },
   {
    "duration": 234004,
    "start_time": "2023-06-08T11:21:58.367Z"
   },
   {
    "duration": 4739,
    "start_time": "2023-06-08T11:25:52.373Z"
   },
   {
    "duration": 6876,
    "start_time": "2023-06-08T11:28:25.156Z"
   },
   {
    "duration": 233459,
    "start_time": "2023-06-08T11:28:32.035Z"
   },
   {
    "duration": 3310,
    "start_time": "2023-06-08T11:32:25.495Z"
   },
   {
    "duration": 4,
    "start_time": "2023-06-08T11:33:23.128Z"
   },
   {
    "duration": 4799,
    "start_time": "2023-06-08T11:33:28.416Z"
   },
   {
    "duration": 0,
    "start_time": "2023-06-08T11:33:33.217Z"
   },
   {
    "duration": 3,
    "start_time": "2023-06-08T11:33:45.455Z"
   },
   {
    "duration": 4670,
    "start_time": "2023-06-08T11:33:50.670Z"
   },
   {
    "duration": 3,
    "start_time": "2023-06-08T11:34:00.433Z"
   },
   {
    "duration": 4698,
    "start_time": "2023-06-08T11:34:04.911Z"
   },
   {
    "duration": 2038,
    "start_time": "2023-06-08T11:34:09.616Z"
   },
   {
    "duration": 3,
    "start_time": "2023-06-08T11:34:11.655Z"
   },
   {
    "duration": 13,
    "start_time": "2023-06-08T11:34:17.747Z"
   },
   {
    "duration": 3,
    "start_time": "2023-06-08T11:34:30.015Z"
   },
   {
    "duration": 14,
    "start_time": "2023-06-08T11:34:34.955Z"
   },
   {
    "duration": 1537,
    "start_time": "2023-06-08T12:57:17.269Z"
   },
   {
    "duration": 994,
    "start_time": "2023-06-08T12:57:20.348Z"
   },
   {
    "duration": 22,
    "start_time": "2023-06-08T12:57:21.344Z"
   },
   {
    "duration": 236,
    "start_time": "2023-06-08T12:57:21.368Z"
   },
   {
    "duration": 167,
    "start_time": "2023-06-08T12:57:21.606Z"
   },
   {
    "duration": 25,
    "start_time": "2023-06-08T12:57:21.775Z"
   },
   {
    "duration": 124,
    "start_time": "2023-06-08T12:57:21.803Z"
   },
   {
    "duration": 1245,
    "start_time": "2023-06-08T12:57:21.929Z"
   },
   {
    "duration": 26,
    "start_time": "2023-06-08T12:57:23.176Z"
   },
   {
    "duration": 227,
    "start_time": "2023-06-08T12:57:23.204Z"
   },
   {
    "duration": 2,
    "start_time": "2023-06-08T12:57:23.575Z"
   },
   {
    "duration": 2,
    "start_time": "2023-06-08T12:57:24.069Z"
   },
   {
    "duration": 6,
    "start_time": "2023-06-08T12:57:24.249Z"
   },
   {
    "duration": 12,
    "start_time": "2023-06-08T12:57:25.269Z"
   },
   {
    "duration": 22,
    "start_time": "2023-06-08T12:57:26.428Z"
   },
   {
    "duration": 18,
    "start_time": "2023-06-08T12:57:26.803Z"
   },
   {
    "duration": 6,
    "start_time": "2023-06-08T12:57:27.307Z"
   },
   {
    "duration": 76,
    "start_time": "2023-06-08T12:57:27.821Z"
   },
   {
    "duration": 20,
    "start_time": "2023-06-08T12:57:28.321Z"
   },
   {
    "duration": 89,
    "start_time": "2023-06-08T12:57:28.680Z"
   },
   {
    "duration": 15,
    "start_time": "2023-06-08T12:57:29.328Z"
   },
   {
    "duration": 8,
    "start_time": "2023-06-08T12:57:29.581Z"
   },
   {
    "duration": 8,
    "start_time": "2023-06-08T12:57:29.829Z"
   },
   {
    "duration": 9,
    "start_time": "2023-06-08T12:57:30.048Z"
   },
   {
    "duration": 20,
    "start_time": "2023-06-08T12:57:30.904Z"
   },
   {
    "duration": 15,
    "start_time": "2023-06-08T12:57:31.171Z"
   },
   {
    "duration": 2213,
    "start_time": "2023-06-08T12:57:36.981Z"
   },
   {
    "duration": 1935,
    "start_time": "2023-06-08T12:57:39.195Z"
   },
   {
    "duration": 1823,
    "start_time": "2023-06-08T12:57:41.132Z"
   },
   {
    "duration": 17,
    "start_time": "2023-06-08T12:57:43.017Z"
   },
   {
    "duration": 391,
    "start_time": "2023-06-08T12:57:45.641Z"
   },
   {
    "duration": 1082,
    "start_time": "2023-06-08T12:57:51.500Z"
   },
   {
    "duration": 7,
    "start_time": "2023-06-08T12:57:55.156Z"
   },
   {
    "duration": 2533,
    "start_time": "2023-06-08T12:57:55.741Z"
   },
   {
    "duration": 6,
    "start_time": "2023-06-08T12:58:18.396Z"
   },
   {
    "duration": 2,
    "start_time": "2023-06-08T12:58:18.730Z"
   },
   {
    "duration": 3,
    "start_time": "2023-06-08T12:58:20.436Z"
   },
   {
    "duration": 12,
    "start_time": "2023-06-08T12:58:21.662Z"
   },
   {
    "duration": 42,
    "start_time": "2023-06-08T12:58:23.630Z"
   },
   {
    "duration": 6825,
    "start_time": "2023-06-08T12:58:24.722Z"
   },
   {
    "duration": 228837,
    "start_time": "2023-06-08T12:58:35.204Z"
   },
   {
    "duration": 3549,
    "start_time": "2023-06-08T13:02:53.582Z"
   },
   {
    "duration": 6569,
    "start_time": "2023-06-08T13:03:00.805Z"
   },
   {
    "duration": 221881,
    "start_time": "2023-06-08T13:03:07.376Z"
   },
   {
    "duration": 4365,
    "start_time": "2023-06-08T13:08:07.323Z"
   },
   {
    "duration": 7,
    "start_time": "2023-06-08T13:08:15.182Z"
   },
   {
    "duration": 4504,
    "start_time": "2023-06-08T13:08:18.545Z"
   },
   {
    "duration": 0,
    "start_time": "2023-06-08T13:08:23.051Z"
   },
   {
    "duration": 0,
    "start_time": "2023-06-08T13:08:23.052Z"
   },
   {
    "duration": 3,
    "start_time": "2023-06-08T13:08:28.927Z"
   },
   {
    "duration": 2,
    "start_time": "2023-06-08T13:08:29.339Z"
   },
   {
    "duration": 4462,
    "start_time": "2023-06-08T13:08:32.697Z"
   },
   {
    "duration": 1921,
    "start_time": "2023-06-08T13:08:37.162Z"
   },
   {
    "duration": 8,
    "start_time": "2023-06-08T13:08:39.084Z"
   },
   {
    "duration": 3,
    "start_time": "2023-06-08T13:08:46.043Z"
   },
   {
    "duration": 3,
    "start_time": "2023-06-08T13:08:51.027Z"
   },
   {
    "duration": 13,
    "start_time": "2023-06-08T13:08:57.833Z"
   },
   {
    "duration": 3,
    "start_time": "2023-06-08T13:09:03.197Z"
   },
   {
    "duration": 8,
    "start_time": "2023-06-08T13:09:06.804Z"
   },
   {
    "duration": 11,
    "start_time": "2023-06-08T13:10:18.632Z"
   },
   {
    "duration": 4,
    "start_time": "2023-06-08T13:10:22.432Z"
   },
   {
    "duration": 104,
    "start_time": "2023-06-08T13:10:23.032Z"
   },
   {
    "duration": 420,
    "start_time": "2023-06-08T13:10:28.964Z"
   },
   {
    "duration": 4332,
    "start_time": "2023-06-08T13:10:34.706Z"
   },
   {
    "duration": 1910,
    "start_time": "2023-06-08T13:10:39.040Z"
   },
   {
    "duration": 4,
    "start_time": "2023-06-08T13:10:40.951Z"
   },
   {
    "duration": 3847,
    "start_time": "2023-06-08T13:11:06.751Z"
   },
   {
    "duration": 6148,
    "start_time": "2023-06-08T13:11:18.552Z"
   },
   {
    "duration": 1650,
    "start_time": "2023-06-08T13:11:59.763Z"
   },
   {
    "duration": 1285,
    "start_time": "2023-06-08T13:12:06.777Z"
   },
   {
    "duration": 1539,
    "start_time": "2023-06-08T13:12:17.235Z"
   },
   {
    "duration": 2513,
    "start_time": "2023-06-08T13:12:36.060Z"
   },
   {
    "duration": 6,
    "start_time": "2023-06-08T13:12:50.003Z"
   },
   {
    "duration": 1775,
    "start_time": "2023-06-08T13:12:59.381Z"
   },
   {
    "duration": 18,
    "start_time": "2023-06-08T13:13:13.967Z"
   },
   {
    "duration": 1614,
    "start_time": "2023-06-08T13:13:30.804Z"
   },
   {
    "duration": 369,
    "start_time": "2023-06-08T13:13:32.421Z"
   },
   {
    "duration": 22,
    "start_time": "2023-06-08T13:13:32.791Z"
   },
   {
    "duration": 239,
    "start_time": "2023-06-08T13:13:32.815Z"
   },
   {
    "duration": 98,
    "start_time": "2023-06-08T13:13:33.056Z"
   },
   {
    "duration": 14,
    "start_time": "2023-06-08T13:13:33.155Z"
   },
   {
    "duration": 162,
    "start_time": "2023-06-08T13:13:33.175Z"
   },
   {
    "duration": 480,
    "start_time": "2023-06-08T13:13:33.339Z"
   },
   {
    "duration": 23,
    "start_time": "2023-06-08T13:13:33.822Z"
   },
   {
    "duration": 280,
    "start_time": "2023-06-08T13:13:33.848Z"
   },
   {
    "duration": 4,
    "start_time": "2023-06-08T13:13:34.265Z"
   },
   {
    "duration": 4,
    "start_time": "2023-06-08T13:13:34.737Z"
   },
   {
    "duration": 8,
    "start_time": "2023-06-08T13:13:34.967Z"
   },
   {
    "duration": 13,
    "start_time": "2023-06-08T13:13:36.038Z"
   },
   {
    "duration": 17,
    "start_time": "2023-06-08T13:13:37.557Z"
   },
   {
    "duration": 25,
    "start_time": "2023-06-08T13:13:38.502Z"
   },
   {
    "duration": 5,
    "start_time": "2023-06-08T13:13:38.966Z"
   },
   {
    "duration": 102,
    "start_time": "2023-06-08T13:13:39.370Z"
   },
   {
    "duration": 27,
    "start_time": "2023-06-08T13:13:39.620Z"
   },
   {
    "duration": 123,
    "start_time": "2023-06-08T13:13:39.857Z"
   },
   {
    "duration": 19,
    "start_time": "2023-06-08T13:13:40.558Z"
   },
   {
    "duration": 7,
    "start_time": "2023-06-08T13:13:40.766Z"
   },
   {
    "duration": 7,
    "start_time": "2023-06-08T13:13:40.958Z"
   },
   {
    "duration": 10,
    "start_time": "2023-06-08T13:13:41.210Z"
   },
   {
    "duration": 19,
    "start_time": "2023-06-08T13:13:41.616Z"
   },
   {
    "duration": 12,
    "start_time": "2023-06-08T13:13:41.817Z"
   },
   {
    "duration": 2122,
    "start_time": "2023-06-08T13:13:43.838Z"
   },
   {
    "duration": 1766,
    "start_time": "2023-06-08T13:13:45.962Z"
   },
   {
    "duration": 1539,
    "start_time": "2023-06-08T13:13:47.730Z"
   },
   {
    "duration": 18,
    "start_time": "2023-06-08T13:13:59.858Z"
   },
   {
    "duration": 415,
    "start_time": "2023-06-08T13:14:00.449Z"
   },
   {
    "duration": 2163,
    "start_time": "2023-06-08T13:14:05.515Z"
   },
   {
    "duration": 1700,
    "start_time": "2023-06-08T13:14:09.426Z"
   },
   {
    "duration": 1555,
    "start_time": "2023-06-08T13:14:11.128Z"
   },
   {
    "duration": 2213,
    "start_time": "2023-06-08T13:14:21.713Z"
   },
   {
    "duration": 13,
    "start_time": "2023-06-08T13:14:31.157Z"
   },
   {
    "duration": 466,
    "start_time": "2023-06-08T13:14:31.566Z"
   },
   {
    "duration": 2105,
    "start_time": "2023-06-08T13:14:38.118Z"
   },
   {
    "duration": 1684,
    "start_time": "2023-06-08T13:14:43.238Z"
   },
   {
    "duration": 1906,
    "start_time": "2023-06-08T13:14:48.553Z"
   },
   {
    "duration": 1446,
    "start_time": "2023-06-08T13:54:27.266Z"
   },
   {
    "duration": 330,
    "start_time": "2023-06-08T13:54:33.454Z"
   },
   {
    "duration": 34,
    "start_time": "2023-06-08T13:54:33.975Z"
   },
   {
    "duration": 193,
    "start_time": "2023-06-08T13:54:34.534Z"
   },
   {
    "duration": 108,
    "start_time": "2023-06-08T13:54:35.335Z"
   },
   {
    "duration": 16,
    "start_time": "2023-06-08T13:54:36.067Z"
   },
   {
    "duration": 106,
    "start_time": "2023-06-08T13:54:36.715Z"
   },
   {
    "duration": 421,
    "start_time": "2023-06-08T13:54:37.462Z"
   },
   {
    "duration": 16,
    "start_time": "2023-06-08T13:54:38.161Z"
   },
   {
    "duration": 223,
    "start_time": "2023-06-08T13:54:39.018Z"
   },
   {
    "duration": 3,
    "start_time": "2023-06-08T13:55:35.162Z"
   },
   {
    "duration": 11,
    "start_time": "2023-06-08T13:55:36.403Z"
   },
   {
    "duration": 6,
    "start_time": "2023-06-08T13:55:37.033Z"
   },
   {
    "duration": 12,
    "start_time": "2023-06-08T13:55:39.533Z"
   },
   {
    "duration": 24,
    "start_time": "2023-06-08T13:55:41.611Z"
   },
   {
    "duration": 32,
    "start_time": "2023-06-08T13:55:49.486Z"
   },
   {
    "duration": 5,
    "start_time": "2023-06-08T13:55:50.945Z"
   },
   {
    "duration": 83,
    "start_time": "2023-06-08T13:55:53.463Z"
   },
   {
    "duration": 34,
    "start_time": "2023-06-08T13:55:54.985Z"
   },
   {
    "duration": 99,
    "start_time": "2023-06-08T13:55:55.674Z"
   },
   {
    "duration": 28,
    "start_time": "2023-06-08T13:55:56.882Z"
   },
   {
    "duration": 7,
    "start_time": "2023-06-08T13:55:57.422Z"
   },
   {
    "duration": 9,
    "start_time": "2023-06-08T13:55:58.013Z"
   },
   {
    "duration": 12,
    "start_time": "2023-06-08T13:55:58.911Z"
   },
   {
    "duration": 29,
    "start_time": "2023-06-08T13:56:00.674Z"
   },
   {
    "duration": 12,
    "start_time": "2023-06-08T13:56:01.517Z"
   },
   {
    "duration": 2253,
    "start_time": "2023-06-08T13:56:21.965Z"
   },
   {
    "duration": 1853,
    "start_time": "2023-06-08T13:56:24.220Z"
   },
   {
    "duration": 1779,
    "start_time": "2023-06-08T13:56:26.074Z"
   },
   {
    "duration": 21,
    "start_time": "2023-06-08T13:59:26.133Z"
   },
   {
    "duration": 6,
    "start_time": "2023-06-08T14:01:10.757Z"
   },
   {
    "duration": 6,
    "start_time": "2023-06-08T14:01:19.323Z"
   },
   {
    "duration": 11,
    "start_time": "2023-06-08T14:01:36.105Z"
   },
   {
    "duration": 1443,
    "start_time": "2023-06-08T14:01:45.881Z"
   },
   {
    "duration": 323,
    "start_time": "2023-06-08T14:01:47.325Z"
   },
   {
    "duration": 16,
    "start_time": "2023-06-08T14:01:47.649Z"
   },
   {
    "duration": 202,
    "start_time": "2023-06-08T14:01:47.667Z"
   },
   {
    "duration": 95,
    "start_time": "2023-06-08T14:01:47.870Z"
   },
   {
    "duration": 27,
    "start_time": "2023-06-08T14:01:47.967Z"
   },
   {
    "duration": 122,
    "start_time": "2023-06-08T14:01:48.006Z"
   },
   {
    "duration": 384,
    "start_time": "2023-06-08T14:01:48.130Z"
   },
   {
    "duration": 17,
    "start_time": "2023-06-08T14:01:48.515Z"
   },
   {
    "duration": 226,
    "start_time": "2023-06-08T14:01:48.534Z"
   },
   {
    "duration": 3,
    "start_time": "2023-06-08T14:01:49.050Z"
   },
   {
    "duration": 2,
    "start_time": "2023-06-08T14:01:49.474Z"
   },
   {
    "duration": 16,
    "start_time": "2023-06-08T14:01:49.678Z"
   },
   {
    "duration": 12,
    "start_time": "2023-06-08T14:01:50.639Z"
   },
   {
    "duration": 17,
    "start_time": "2023-06-08T14:01:51.638Z"
   },
   {
    "duration": 17,
    "start_time": "2023-06-08T14:01:52.570Z"
   },
   {
    "duration": 6,
    "start_time": "2023-06-08T14:01:53.130Z"
   },
   {
    "duration": 93,
    "start_time": "2023-06-08T14:01:53.518Z"
   },
   {
    "duration": 40,
    "start_time": "2023-06-08T14:01:53.666Z"
   },
   {
    "duration": 90,
    "start_time": "2023-06-08T14:01:53.869Z"
   },
   {
    "duration": 13,
    "start_time": "2023-06-08T14:01:54.515Z"
   },
   {
    "duration": 8,
    "start_time": "2023-06-08T14:01:54.666Z"
   },
   {
    "duration": 8,
    "start_time": "2023-06-08T14:01:54.866Z"
   },
   {
    "duration": 10,
    "start_time": "2023-06-08T14:01:55.038Z"
   },
   {
    "duration": 17,
    "start_time": "2023-06-08T14:01:55.630Z"
   },
   {
    "duration": 15,
    "start_time": "2023-06-08T14:01:56.230Z"
   },
   {
    "duration": 2279,
    "start_time": "2023-06-08T14:01:58.499Z"
   },
   {
    "duration": 1873,
    "start_time": "2023-06-08T14:02:00.780Z"
   },
   {
    "duration": 1712,
    "start_time": "2023-06-08T14:02:02.655Z"
   },
   {
    "duration": 8,
    "start_time": "2023-06-08T14:02:04.619Z"
   },
   {
    "duration": 8,
    "start_time": "2023-06-08T14:02:13.368Z"
   },
   {
    "duration": 8,
    "start_time": "2023-06-08T14:02:20.210Z"
   },
   {
    "duration": 27,
    "start_time": "2023-06-08T14:03:11.270Z"
   },
   {
    "duration": 5,
    "start_time": "2023-06-08T14:03:12.233Z"
   },
   {
    "duration": 1813,
    "start_time": "2023-06-08T14:03:17.768Z"
   },
   {
    "duration": 382,
    "start_time": "2023-06-08T14:03:32.832Z"
   },
   {
    "duration": 1055,
    "start_time": "2023-06-08T14:03:35.980Z"
   },
   {
    "duration": 7,
    "start_time": "2023-06-08T14:03:37.715Z"
   },
   {
    "duration": 2538,
    "start_time": "2023-06-08T14:03:38.281Z"
   },
   {
    "duration": 5,
    "start_time": "2023-06-08T14:03:59.873Z"
   },
   {
    "duration": 1520,
    "start_time": "2023-06-08T14:04:48.011Z"
   },
   {
    "duration": 1387,
    "start_time": "2023-06-08T14:05:21.427Z"
   },
   {
    "duration": 1699,
    "start_time": "2023-06-08T14:06:06.373Z"
   },
   {
    "duration": 17,
    "start_time": "2023-06-08T14:06:38.910Z"
   },
   {
    "duration": 5,
    "start_time": "2023-06-08T14:06:39.933Z"
   },
   {
    "duration": 402,
    "start_time": "2023-06-08T14:06:41.210Z"
   },
   {
    "duration": 1349,
    "start_time": "2023-06-08T14:09:27.962Z"
   },
   {
    "duration": 322,
    "start_time": "2023-06-08T14:09:29.313Z"
   },
   {
    "duration": 15,
    "start_time": "2023-06-08T14:09:29.636Z"
   },
   {
    "duration": 193,
    "start_time": "2023-06-08T14:09:29.653Z"
   },
   {
    "duration": 89,
    "start_time": "2023-06-08T14:09:29.848Z"
   },
   {
    "duration": 11,
    "start_time": "2023-06-08T14:09:29.938Z"
   },
   {
    "duration": 124,
    "start_time": "2023-06-08T14:09:29.950Z"
   },
   {
    "duration": 402,
    "start_time": "2023-06-08T14:09:30.076Z"
   },
   {
    "duration": 25,
    "start_time": "2023-06-08T14:09:30.484Z"
   },
   {
    "duration": 406,
    "start_time": "2023-06-08T14:09:30.510Z"
   },
   {
    "duration": 9,
    "start_time": "2023-06-08T14:09:31.698Z"
   },
   {
    "duration": 3,
    "start_time": "2023-06-08T14:09:32.108Z"
   },
   {
    "duration": 9,
    "start_time": "2023-06-08T14:09:32.300Z"
   },
   {
    "duration": 12,
    "start_time": "2023-06-08T14:09:33.328Z"
   },
   {
    "duration": 22,
    "start_time": "2023-06-08T14:09:34.367Z"
   },
   {
    "duration": 14,
    "start_time": "2023-06-08T14:09:34.811Z"
   },
   {
    "duration": 6,
    "start_time": "2023-06-08T14:09:35.847Z"
   },
   {
    "duration": 92,
    "start_time": "2023-06-08T14:09:37.219Z"
   },
   {
    "duration": 19,
    "start_time": "2023-06-08T14:09:37.539Z"
   },
   {
    "duration": 111,
    "start_time": "2023-06-08T14:09:37.903Z"
   },
   {
    "duration": 12,
    "start_time": "2023-06-08T14:09:38.911Z"
   },
   {
    "duration": 7,
    "start_time": "2023-06-08T14:09:39.139Z"
   },
   {
    "duration": 6,
    "start_time": "2023-06-08T14:09:39.463Z"
   },
   {
    "duration": 9,
    "start_time": "2023-06-08T14:09:39.619Z"
   },
   {
    "duration": 15,
    "start_time": "2023-06-08T14:09:40.124Z"
   },
   {
    "duration": 19,
    "start_time": "2023-06-08T14:09:40.408Z"
   },
   {
    "duration": 2031,
    "start_time": "2023-06-08T14:09:42.180Z"
   },
   {
    "duration": 1903,
    "start_time": "2023-06-08T14:09:44.213Z"
   },
   {
    "duration": 1524,
    "start_time": "2023-06-08T14:09:46.117Z"
   },
   {
    "duration": 18,
    "start_time": "2023-06-08T14:09:47.643Z"
   },
   {
    "duration": 5,
    "start_time": "2023-06-08T14:09:48.140Z"
   },
   {
    "duration": 371,
    "start_time": "2023-06-08T14:09:49.062Z"
   },
   {
    "duration": 1657,
    "start_time": "2023-06-08T14:11:11.316Z"
   },
   {
    "duration": 15,
    "start_time": "2023-06-08T14:13:08.110Z"
   },
   {
    "duration": 51,
    "start_time": "2023-06-08T14:13:24.264Z"
   },
   {
    "duration": 37,
    "start_time": "2023-06-08T14:14:01.918Z"
   },
   {
    "duration": 124,
    "start_time": "2023-06-08T14:14:06.523Z"
   },
   {
    "duration": 3,
    "start_time": "2023-06-08T14:14:13.619Z"
   },
   {
    "duration": 3,
    "start_time": "2023-06-08T14:14:14.030Z"
   },
   {
    "duration": 3,
    "start_time": "2023-06-08T14:14:15.466Z"
   },
   {
    "duration": 20,
    "start_time": "2023-06-08T14:14:19.270Z"
   },
   {
    "duration": 31,
    "start_time": "2023-06-08T14:14:24.531Z"
   },
   {
    "duration": 6901,
    "start_time": "2023-06-08T14:14:25.931Z"
   },
   {
    "duration": 1336,
    "start_time": "2023-06-08T14:16:14.631Z"
   },
   {
    "duration": 396,
    "start_time": "2023-06-08T14:16:15.969Z"
   },
   {
    "duration": 47,
    "start_time": "2023-06-08T14:16:16.367Z"
   },
   {
    "duration": 197,
    "start_time": "2023-06-08T14:16:16.418Z"
   },
   {
    "duration": 93,
    "start_time": "2023-06-08T14:16:16.617Z"
   },
   {
    "duration": 16,
    "start_time": "2023-06-08T14:16:16.711Z"
   },
   {
    "duration": 115,
    "start_time": "2023-06-08T14:16:16.728Z"
   },
   {
    "duration": 410,
    "start_time": "2023-06-08T14:16:16.844Z"
   },
   {
    "duration": 17,
    "start_time": "2023-06-08T14:16:17.256Z"
   },
   {
    "duration": 286,
    "start_time": "2023-06-08T14:16:17.294Z"
   },
   {
    "duration": 3,
    "start_time": "2023-06-08T14:16:17.582Z"
   },
   {
    "duration": 42,
    "start_time": "2023-06-08T14:16:17.586Z"
   },
   {
    "duration": 16,
    "start_time": "2023-06-08T14:16:17.629Z"
   },
   {
    "duration": 23,
    "start_time": "2023-06-08T14:16:17.646Z"
   },
   {
    "duration": 27,
    "start_time": "2023-06-08T14:16:17.671Z"
   },
   {
    "duration": 32,
    "start_time": "2023-06-08T14:16:17.699Z"
   },
   {
    "duration": 5,
    "start_time": "2023-06-08T14:16:17.732Z"
   },
   {
    "duration": 90,
    "start_time": "2023-06-08T14:16:17.738Z"
   },
   {
    "duration": 19,
    "start_time": "2023-06-08T14:16:17.830Z"
   },
   {
    "duration": 101,
    "start_time": "2023-06-08T14:16:17.850Z"
   },
   {
    "duration": 16,
    "start_time": "2023-06-08T14:16:17.953Z"
   },
   {
    "duration": 17,
    "start_time": "2023-06-08T14:16:17.970Z"
   },
   {
    "duration": 13,
    "start_time": "2023-06-08T14:16:17.994Z"
   },
   {
    "duration": 29,
    "start_time": "2023-06-08T14:16:18.008Z"
   },
   {
    "duration": 13,
    "start_time": "2023-06-08T14:16:18.039Z"
   },
   {
    "duration": 12,
    "start_time": "2023-06-08T14:16:18.053Z"
   },
   {
    "duration": 1913,
    "start_time": "2023-06-08T14:16:18.068Z"
   },
   {
    "duration": 1572,
    "start_time": "2023-06-08T14:16:19.984Z"
   },
   {
    "duration": 1618,
    "start_time": "2023-06-08T14:16:21.557Z"
   },
   {
    "duration": 32,
    "start_time": "2023-06-08T14:16:23.178Z"
   },
   {
    "duration": 395,
    "start_time": "2023-06-08T14:16:23.211Z"
   },
   {
    "duration": 1177,
    "start_time": "2023-06-08T14:16:23.607Z"
   },
   {
    "duration": 15,
    "start_time": "2023-06-08T14:16:24.787Z"
   },
   {
    "duration": 2610,
    "start_time": "2023-06-08T14:16:24.806Z"
   },
   {
    "duration": 3,
    "start_time": "2023-06-08T14:16:27.418Z"
   },
   {
    "duration": 7,
    "start_time": "2023-06-08T14:16:27.423Z"
   },
   {
    "duration": 6,
    "start_time": "2023-06-08T14:16:27.431Z"
   },
   {
    "duration": 16,
    "start_time": "2023-06-08T14:16:27.438Z"
   },
   {
    "duration": 36,
    "start_time": "2023-06-08T14:16:28.120Z"
   },
   {
    "duration": 6443,
    "start_time": "2023-06-08T14:16:28.668Z"
   },
   {
    "duration": 224468,
    "start_time": "2023-06-08T14:16:35.113Z"
   },
   {
    "duration": 4443,
    "start_time": "2023-06-08T14:20:19.582Z"
   },
   {
    "duration": 6352,
    "start_time": "2023-06-08T14:20:24.088Z"
   },
   {
    "duration": 221590,
    "start_time": "2023-06-08T14:20:30.441Z"
   },
   {
    "duration": 2067,
    "start_time": "2023-06-08T14:24:12.033Z"
   },
   {
    "duration": 3,
    "start_time": "2023-06-08T14:24:14.102Z"
   },
   {
    "duration": 4668,
    "start_time": "2023-06-08T14:24:14.107Z"
   },
   {
    "duration": 0,
    "start_time": "2023-06-08T14:24:18.777Z"
   },
   {
    "duration": 0,
    "start_time": "2023-06-08T14:24:18.778Z"
   },
   {
    "duration": 0,
    "start_time": "2023-06-08T14:24:18.780Z"
   },
   {
    "duration": 4,
    "start_time": "2023-06-08T14:25:44.396Z"
   },
   {
    "duration": 2,
    "start_time": "2023-06-08T14:25:45.142Z"
   },
   {
    "duration": 4384,
    "start_time": "2023-06-08T14:25:49.154Z"
   },
   {
    "duration": 1994,
    "start_time": "2023-06-08T14:25:53.540Z"
   },
   {
    "duration": 9,
    "start_time": "2023-06-08T14:25:55.535Z"
   },
   {
    "duration": 2,
    "start_time": "2023-06-08T14:26:02.200Z"
   },
   {
    "duration": 6,
    "start_time": "2023-06-08T14:26:06.785Z"
   },
   {
    "duration": 12,
    "start_time": "2023-06-08T14:26:20.797Z"
   },
   {
    "duration": 3,
    "start_time": "2023-06-08T14:26:25.600Z"
   },
   {
    "duration": 10,
    "start_time": "2023-06-08T14:26:30.455Z"
   },
   {
    "duration": 6,
    "start_time": "2023-06-08T14:27:39.315Z"
   },
   {
    "duration": 107,
    "start_time": "2023-06-08T14:39:09.551Z"
   },
   {
    "duration": 182,
    "start_time": "2023-06-08T14:39:19.830Z"
   },
   {
    "duration": 40,
    "start_time": "2023-06-08T14:40:00.209Z"
   },
   {
    "duration": 19,
    "start_time": "2023-06-08T14:40:37.049Z"
   },
   {
    "duration": 2527,
    "start_time": "2023-06-08T14:40:49.312Z"
   },
   {
    "duration": 6,
    "start_time": "2023-06-08T14:47:40.926Z"
   },
   {
    "duration": 34,
    "start_time": "2023-06-08T14:48:52.178Z"
   },
   {
    "duration": 2692,
    "start_time": "2023-06-08T14:48:53.517Z"
   },
   {
    "duration": 7,
    "start_time": "2023-06-08T14:49:04.339Z"
   },
   {
    "duration": 2464,
    "start_time": "2023-06-08T14:49:04.745Z"
   },
   {
    "duration": 4,
    "start_time": "2023-06-08T14:56:15.345Z"
   },
   {
    "duration": 9,
    "start_time": "2023-06-08T14:57:25.675Z"
   },
   {
    "duration": 690,
    "start_time": "2023-06-08T14:58:18.131Z"
   },
   {
    "duration": 577,
    "start_time": "2023-06-08T14:58:24.236Z"
   },
   {
    "duration": 587,
    "start_time": "2023-06-08T14:58:54.043Z"
   },
   {
    "duration": 13,
    "start_time": "2023-06-08T15:01:43.663Z"
   },
   {
    "duration": 398,
    "start_time": "2023-06-08T15:01:44.113Z"
   },
   {
    "duration": 7,
    "start_time": "2023-06-08T15:02:44.709Z"
   },
   {
    "duration": 7,
    "start_time": "2023-06-08T15:02:51.151Z"
   },
   {
    "duration": 6,
    "start_time": "2023-06-08T15:02:58.310Z"
   },
   {
    "duration": 9,
    "start_time": "2023-06-08T15:03:13.709Z"
   },
   {
    "duration": 2135,
    "start_time": "2023-06-08T15:05:57.102Z"
   },
   {
    "duration": 1840,
    "start_time": "2023-06-08T15:05:59.238Z"
   },
   {
    "duration": 1678,
    "start_time": "2023-06-08T15:06:01.080Z"
   },
   {
    "duration": 63,
    "start_time": "2023-06-09T16:06:46.334Z"
   },
   {
    "duration": 1876,
    "start_time": "2023-06-09T16:06:53.841Z"
   },
   {
    "duration": 1598,
    "start_time": "2023-06-09T16:07:03.159Z"
   },
   {
    "duration": 21,
    "start_time": "2023-06-09T16:07:04.759Z"
   },
   {
    "duration": 250,
    "start_time": "2023-06-09T16:07:04.781Z"
   },
   {
    "duration": 508,
    "start_time": "2023-06-09T16:07:05.033Z"
   },
   {
    "duration": 13,
    "start_time": "2023-06-09T16:07:05.543Z"
   },
   {
    "duration": 190,
    "start_time": "2023-06-09T16:07:05.557Z"
   },
   {
    "duration": 2078,
    "start_time": "2023-06-09T16:07:05.749Z"
   },
   {
    "duration": 17,
    "start_time": "2023-06-09T16:07:07.828Z"
   },
   {
    "duration": 284,
    "start_time": "2023-06-09T16:07:07.847Z"
   },
   {
    "duration": 3,
    "start_time": "2023-06-09T16:07:08.133Z"
   },
   {
    "duration": 11,
    "start_time": "2023-06-09T16:07:08.695Z"
   },
   {
    "duration": 10,
    "start_time": "2023-06-09T16:07:09.110Z"
   },
   {
    "duration": 14,
    "start_time": "2023-06-09T16:07:11.606Z"
   },
   {
    "duration": 1633,
    "start_time": "2023-06-09T16:07:14.170Z"
   },
   {
    "duration": 1487,
    "start_time": "2023-06-09T16:08:54.518Z"
   },
   {
    "duration": 1512,
    "start_time": "2023-06-09T16:09:19.062Z"
   },
   {
    "duration": 1499,
    "start_time": "2023-06-09T16:09:24.439Z"
   },
   {
    "duration": 1509,
    "start_time": "2023-06-09T16:09:47.643Z"
   },
   {
    "duration": 384,
    "start_time": "2023-06-09T16:09:49.154Z"
   },
   {
    "duration": 18,
    "start_time": "2023-06-09T16:09:49.735Z"
   },
   {
    "duration": 256,
    "start_time": "2023-06-09T16:09:50.102Z"
   },
   {
    "duration": 118,
    "start_time": "2023-06-09T16:09:50.443Z"
   },
   {
    "duration": 14,
    "start_time": "2023-06-09T16:09:50.846Z"
   },
   {
    "duration": 186,
    "start_time": "2023-06-09T16:09:51.241Z"
   },
   {
    "duration": 465,
    "start_time": "2023-06-09T16:09:51.694Z"
   },
   {
    "duration": 34,
    "start_time": "2023-06-09T16:09:52.160Z"
   },
   {
    "duration": 294,
    "start_time": "2023-06-09T16:09:52.531Z"
   },
   {
    "duration": 3,
    "start_time": "2023-06-09T16:09:55.463Z"
   },
   {
    "duration": 4,
    "start_time": "2023-06-09T16:09:56.107Z"
   },
   {
    "duration": 7,
    "start_time": "2023-06-09T16:09:56.522Z"
   },
   {
    "duration": 13,
    "start_time": "2023-06-09T16:09:58.507Z"
   },
   {
    "duration": 26,
    "start_time": "2023-06-09T16:10:00.629Z"
   },
   {
    "duration": 1584,
    "start_time": "2023-06-09T16:10:12.167Z"
   },
   {
    "duration": 1559,
    "start_time": "2023-06-09T16:10:59.136Z"
   },
   {
    "duration": 376,
    "start_time": "2023-06-09T16:11:00.703Z"
   },
   {
    "duration": 23,
    "start_time": "2023-06-09T16:11:01.087Z"
   },
   {
    "duration": 251,
    "start_time": "2023-06-09T16:11:01.112Z"
   },
   {
    "duration": 115,
    "start_time": "2023-06-09T16:11:01.365Z"
   },
   {
    "duration": 23,
    "start_time": "2023-06-09T16:11:01.482Z"
   },
   {
    "duration": 167,
    "start_time": "2023-06-09T16:11:01.509Z"
   },
   {
    "duration": 504,
    "start_time": "2023-06-09T16:11:01.684Z"
   },
   {
    "duration": 21,
    "start_time": "2023-06-09T16:11:02.190Z"
   },
   {
    "duration": 300,
    "start_time": "2023-06-09T16:11:02.213Z"
   },
   {
    "duration": 3,
    "start_time": "2023-06-09T16:11:03.852Z"
   },
   {
    "duration": 3,
    "start_time": "2023-06-09T16:11:04.338Z"
   },
   {
    "duration": 12,
    "start_time": "2023-06-09T16:11:04.575Z"
   },
   {
    "duration": 16,
    "start_time": "2023-06-09T16:11:05.793Z"
   },
   {
    "duration": 1616,
    "start_time": "2023-06-09T16:11:07.355Z"
   },
   {
    "duration": 13,
    "start_time": "2023-06-09T16:11:17.203Z"
   },
   {
    "duration": 1465,
    "start_time": "2023-06-09T16:11:52.391Z"
   },
   {
    "duration": 1508,
    "start_time": "2023-06-09T16:12:58.513Z"
   },
   {
    "duration": 381,
    "start_time": "2023-06-09T16:13:05.442Z"
   },
   {
    "duration": 25,
    "start_time": "2023-06-09T16:13:11.699Z"
   },
   {
    "duration": 254,
    "start_time": "2023-06-09T16:13:17.769Z"
   },
   {
    "duration": 133,
    "start_time": "2023-06-09T16:13:24.140Z"
   },
   {
    "duration": 12,
    "start_time": "2023-06-09T16:13:26.457Z"
   },
   {
    "duration": 136,
    "start_time": "2023-06-09T16:13:30.929Z"
   },
   {
    "duration": 515,
    "start_time": "2023-06-09T16:13:35.853Z"
   },
   {
    "duration": 17,
    "start_time": "2023-06-09T16:13:37.950Z"
   },
   {
    "duration": 257,
    "start_time": "2023-06-09T16:13:42.114Z"
   },
   {
    "duration": 6,
    "start_time": "2023-06-09T16:14:48.194Z"
   },
   {
    "duration": 3,
    "start_time": "2023-06-09T16:14:48.647Z"
   },
   {
    "duration": 167,
    "start_time": "2023-06-09T16:14:48.895Z"
   },
   {
    "duration": 22,
    "start_time": "2023-06-09T16:14:50.971Z"
   },
   {
    "duration": 2,
    "start_time": "2023-06-09T16:14:53.432Z"
   },
   {
    "duration": 15,
    "start_time": "2023-06-09T16:16:31.756Z"
   },
   {
    "duration": 6,
    "start_time": "2023-06-09T16:16:48.326Z"
   },
   {
    "duration": 1701,
    "start_time": "2023-06-09T16:16:51.109Z"
   },
   {
    "duration": 0,
    "start_time": "2023-06-09T16:16:52.812Z"
   },
   {
    "duration": 0,
    "start_time": "2023-06-09T16:16:52.813Z"
   },
   {
    "duration": 0,
    "start_time": "2023-06-09T16:16:52.814Z"
   },
   {
    "duration": 7,
    "start_time": "2023-06-09T16:16:53.204Z"
   },
   {
    "duration": 7,
    "start_time": "2023-06-09T16:16:58.345Z"
   },
   {
    "duration": 10,
    "start_time": "2023-06-09T16:16:58.831Z"
   },
   {
    "duration": 23,
    "start_time": "2023-06-09T16:17:01.406Z"
   },
   {
    "duration": 28,
    "start_time": "2023-06-09T16:17:01.775Z"
   },
   {
    "duration": 2508,
    "start_time": "2023-06-09T16:17:10.402Z"
   },
   {
    "duration": 2348,
    "start_time": "2023-06-09T16:17:12.912Z"
   },
   {
    "duration": 1829,
    "start_time": "2023-06-09T16:17:15.261Z"
   },
   {
    "duration": 81,
    "start_time": "2023-06-09T16:22:50.558Z"
   },
   {
    "duration": 521,
    "start_time": "2023-06-09T16:23:02.789Z"
   },
   {
    "duration": 1346,
    "start_time": "2023-06-09T16:23:42.827Z"
   },
   {
    "duration": 10,
    "start_time": "2023-06-09T16:23:47.972Z"
   },
   {
    "duration": 3040,
    "start_time": "2023-06-09T16:23:49.219Z"
   },
   {
    "duration": 3,
    "start_time": "2023-06-09T16:27:57.932Z"
   },
   {
    "duration": 3,
    "start_time": "2023-06-09T16:27:58.346Z"
   },
   {
    "duration": 3,
    "start_time": "2023-06-09T16:28:04.563Z"
   },
   {
    "duration": 41,
    "start_time": "2023-06-09T16:28:07.063Z"
   },
   {
    "duration": 16,
    "start_time": "2023-06-09T16:28:15.169Z"
   },
   {
    "duration": 52,
    "start_time": "2023-06-09T16:28:23.758Z"
   },
   {
    "duration": 6565,
    "start_time": "2023-06-09T16:28:27.863Z"
   },
   {
    "duration": 222361,
    "start_time": "2023-06-09T16:28:45.675Z"
   },
   {
    "duration": 5247,
    "start_time": "2023-06-09T16:32:28.039Z"
   },
   {
    "duration": 6327,
    "start_time": "2023-06-09T16:32:33.293Z"
   },
   {
    "duration": 221947,
    "start_time": "2023-06-09T16:32:39.622Z"
   },
   {
    "duration": 4343,
    "start_time": "2023-06-09T16:36:21.571Z"
   },
   {
    "duration": 3981,
    "start_time": "2023-06-09T16:37:08.406Z"
   },
   {
    "duration": 3573,
    "start_time": "2023-06-09T16:37:24.033Z"
   },
   {
    "duration": 4913,
    "start_time": "2023-06-09T16:38:28.593Z"
   },
   {
    "duration": 4718,
    "start_time": "2023-06-09T16:38:42.506Z"
   },
   {
    "duration": 3,
    "start_time": "2023-06-09T16:38:51.618Z"
   },
   {
    "duration": 9,
    "start_time": "2023-06-09T16:38:51.924Z"
   },
   {
    "duration": 23,
    "start_time": "2023-06-09T16:38:52.271Z"
   },
   {
    "duration": 3,
    "start_time": "2023-06-09T16:38:59.014Z"
   },
   {
    "duration": 3,
    "start_time": "2023-06-09T16:39:07.346Z"
   },
   {
    "duration": 10,
    "start_time": "2023-06-09T16:39:07.625Z"
   },
   {
    "duration": 8,
    "start_time": "2023-06-09T16:39:13.599Z"
   },
   {
    "duration": 4,
    "start_time": "2023-06-09T16:39:17.944Z"
   },
   {
    "duration": 4414,
    "start_time": "2023-06-09T16:40:32.057Z"
   },
   {
    "duration": 0,
    "start_time": "2023-06-09T16:40:36.473Z"
   },
   {
    "duration": 0,
    "start_time": "2023-06-09T16:40:36.474Z"
   },
   {
    "duration": 3,
    "start_time": "2023-06-09T16:40:40.552Z"
   },
   {
    "duration": 4571,
    "start_time": "2023-06-09T16:40:43.068Z"
   },
   {
    "duration": 0,
    "start_time": "2023-06-09T16:40:47.641Z"
   },
   {
    "duration": 0,
    "start_time": "2023-06-09T16:40:47.641Z"
   },
   {
    "duration": 3,
    "start_time": "2023-06-09T16:40:56.870Z"
   },
   {
    "duration": 2,
    "start_time": "2023-06-09T16:40:57.143Z"
   },
   {
    "duration": 7,
    "start_time": "2023-06-09T16:40:59.798Z"
   },
   {
    "duration": 4503,
    "start_time": "2023-06-09T16:41:02.708Z"
   },
   {
    "duration": 1937,
    "start_time": "2023-06-09T16:41:10.601Z"
   },
   {
    "duration": 7,
    "start_time": "2023-06-09T16:41:15.595Z"
   },
   {
    "duration": 15,
    "start_time": "2023-06-09T16:41:57.046Z"
   },
   {
    "duration": 3,
    "start_time": "2023-06-09T16:42:00.840Z"
   },
   {
    "duration": 11,
    "start_time": "2023-06-09T16:42:05.334Z"
   },
   {
    "duration": 85,
    "start_time": "2023-06-09T16:45:22.380Z"
   },
   {
    "duration": 426,
    "start_time": "2023-06-09T16:45:28.576Z"
   },
   {
    "duration": 84,
    "start_time": "2023-06-09T16:53:23.788Z"
   },
   {
    "duration": 1447,
    "start_time": "2023-06-09T16:55:13.294Z"
   },
   {
    "duration": 394,
    "start_time": "2023-06-09T16:55:14.743Z"
   },
   {
    "duration": 16,
    "start_time": "2023-06-09T16:55:15.138Z"
   },
   {
    "duration": 250,
    "start_time": "2023-06-09T16:55:15.156Z"
   },
   {
    "duration": 104,
    "start_time": "2023-06-09T16:55:15.408Z"
   },
   {
    "duration": 12,
    "start_time": "2023-06-09T16:55:15.514Z"
   },
   {
    "duration": 133,
    "start_time": "2023-06-09T16:55:15.528Z"
   },
   {
    "duration": 461,
    "start_time": "2023-06-09T16:55:15.663Z"
   },
   {
    "duration": 16,
    "start_time": "2023-06-09T16:55:16.126Z"
   },
   {
    "duration": 285,
    "start_time": "2023-06-09T16:55:16.144Z"
   },
   {
    "duration": 3,
    "start_time": "2023-06-09T16:55:17.122Z"
   },
   {
    "duration": 3,
    "start_time": "2023-06-09T16:55:19.537Z"
   },
   {
    "duration": 9,
    "start_time": "2023-06-09T16:55:19.723Z"
   },
   {
    "duration": 14,
    "start_time": "2023-06-09T16:55:21.055Z"
   },
   {
    "duration": 3,
    "start_time": "2023-06-09T16:55:22.487Z"
   },
   {
    "duration": 19,
    "start_time": "2023-06-09T16:55:30.705Z"
   },
   {
    "duration": 7,
    "start_time": "2023-06-09T16:55:31.831Z"
   },
   {
    "duration": 1510,
    "start_time": "2023-06-09T16:55:32.725Z"
   },
   {
    "duration": 0,
    "start_time": "2023-06-09T16:55:34.237Z"
   },
   {
    "duration": 0,
    "start_time": "2023-06-09T16:55:34.239Z"
   },
   {
    "duration": 75,
    "start_time": "2023-06-09T16:55:41.791Z"
   },
   {
    "duration": 31,
    "start_time": "2023-06-09T16:55:46.262Z"
   },
   {
    "duration": 95,
    "start_time": "2023-06-09T16:55:51.495Z"
   },
   {
    "duration": 17,
    "start_time": "2023-06-09T16:55:54.615Z"
   },
   {
    "duration": 7,
    "start_time": "2023-06-09T16:55:55.641Z"
   },
   {
    "duration": 9,
    "start_time": "2023-06-09T16:55:56.506Z"
   },
   {
    "duration": 9,
    "start_time": "2023-06-09T16:55:56.762Z"
   },
   {
    "duration": 19,
    "start_time": "2023-06-09T16:55:57.792Z"
   },
   {
    "duration": 11,
    "start_time": "2023-06-09T16:55:58.619Z"
   },
   {
    "duration": 2291,
    "start_time": "2023-06-09T16:56:01.055Z"
   },
   {
    "duration": 1923,
    "start_time": "2023-06-09T16:56:03.348Z"
   },
   {
    "duration": 1770,
    "start_time": "2023-06-09T16:56:05.273Z"
   },
   {
    "duration": 72,
    "start_time": "2023-06-09T16:56:12.600Z"
   },
   {
    "duration": 72,
    "start_time": "2023-06-09T16:56:18.212Z"
   }
  ],
  "kernelspec": {
   "display_name": "Python 3 (ipykernel)",
   "language": "python",
   "name": "python3"
  },
  "language_info": {
   "codemirror_mode": {
    "name": "ipython",
    "version": 3
   },
   "file_extension": ".py",
   "mimetype": "text/x-python",
   "name": "python",
   "nbconvert_exporter": "python",
   "pygments_lexer": "ipython3",
   "version": "3.9.16"
  },
  "toc": {
   "base_numbering": 1,
   "nav_menu": {},
   "number_sections": true,
   "sideBar": true,
   "skip_h1_title": true,
   "title_cell": "Содержание",
   "title_sidebar": "Contents",
   "toc_cell": true,
   "toc_position": {
    "height": "calc(100% - 180px)",
    "left": "10px",
    "top": "150px",
    "width": "165px"
   },
   "toc_section_display": true,
   "toc_window_display": true
  }
 },
 "nbformat": 4,
 "nbformat_minor": 4
}
