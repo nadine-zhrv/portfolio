{
 "cells": [
  {
   "cell_type": "markdown",
   "metadata": {},
   "source": [
    "# Отток клиентов\n",
    "\n",
    "**Задача:** Обучить модель предсказывать на исторических данных, уйдёт ли клиент из банка. \n",
    "\n",
    "Метрика F1-мера.\n",
    "\n",
    "**План проекта:**\n",
    "\n",
    "1. Обзор данных\n",
    "2. Предобработка данных\n",
    "3. Исследование задачи\n",
    "    - выборки\n",
    "    - масштабирование\n",
    "    - обучение моделей\n",
    "4. Устранение дисбаланса\n",
    "    - увеличение выборки\n",
    "    - уменьшение выборки\n",
    "5. Тестирование модели "
   ]
  },
  {
   "cell_type": "markdown",
   "metadata": {},
   "source": [
    "## Подготовка данных"
   ]
  },
  {
   "cell_type": "markdown",
   "metadata": {},
   "source": [
    "### Общая информация"
   ]
  },
  {
   "cell_type": "code",
   "execution_count": 1,
   "metadata": {},
   "outputs": [],
   "source": [
    "# импортируем необходимые библиотеки\n",
    "import pandas as pd\n",
    "\n",
    "from sklearn.model_selection import train_test_split\n",
    "from sklearn.preprocessing import StandardScaler\n",
    "from sklearn.utils import shuffle\n",
    "\n",
    "from sklearn.tree import DecisionTreeClassifier\n",
    "from sklearn.ensemble import RandomForestClassifier\n",
    "from sklearn.linear_model import LogisticRegression\n",
    "\n",
    "from sklearn.metrics import accuracy_score\n",
    "from sklearn.metrics import f1_score\n",
    "from sklearn.metrics import roc_auc_score"
   ]
  },
  {
   "cell_type": "code",
   "execution_count": 2,
   "metadata": {},
   "outputs": [
    {
     "data": {
      "text/html": [
       "<div>\n",
       "<style scoped>\n",
       "    .dataframe tbody tr th:only-of-type {\n",
       "        vertical-align: middle;\n",
       "    }\n",
       "\n",
       "    .dataframe tbody tr th {\n",
       "        vertical-align: top;\n",
       "    }\n",
       "\n",
       "    .dataframe thead th {\n",
       "        text-align: right;\n",
       "    }\n",
       "</style>\n",
       "<table border=\"1\" class=\"dataframe\">\n",
       "  <thead>\n",
       "    <tr style=\"text-align: right;\">\n",
       "      <th></th>\n",
       "      <th>RowNumber</th>\n",
       "      <th>CustomerId</th>\n",
       "      <th>Surname</th>\n",
       "      <th>CreditScore</th>\n",
       "      <th>Geography</th>\n",
       "      <th>Gender</th>\n",
       "      <th>Age</th>\n",
       "      <th>Tenure</th>\n",
       "      <th>Balance</th>\n",
       "      <th>NumOfProducts</th>\n",
       "      <th>HasCrCard</th>\n",
       "      <th>IsActiveMember</th>\n",
       "      <th>EstimatedSalary</th>\n",
       "      <th>Exited</th>\n",
       "    </tr>\n",
       "  </thead>\n",
       "  <tbody>\n",
       "    <tr>\n",
       "      <th>0</th>\n",
       "      <td>1</td>\n",
       "      <td>15634602</td>\n",
       "      <td>Hargrave</td>\n",
       "      <td>619</td>\n",
       "      <td>France</td>\n",
       "      <td>Female</td>\n",
       "      <td>42</td>\n",
       "      <td>2.0</td>\n",
       "      <td>0.00</td>\n",
       "      <td>1</td>\n",
       "      <td>1</td>\n",
       "      <td>1</td>\n",
       "      <td>101348.88</td>\n",
       "      <td>1</td>\n",
       "    </tr>\n",
       "    <tr>\n",
       "      <th>1</th>\n",
       "      <td>2</td>\n",
       "      <td>15647311</td>\n",
       "      <td>Hill</td>\n",
       "      <td>608</td>\n",
       "      <td>Spain</td>\n",
       "      <td>Female</td>\n",
       "      <td>41</td>\n",
       "      <td>1.0</td>\n",
       "      <td>83807.86</td>\n",
       "      <td>1</td>\n",
       "      <td>0</td>\n",
       "      <td>1</td>\n",
       "      <td>112542.58</td>\n",
       "      <td>0</td>\n",
       "    </tr>\n",
       "    <tr>\n",
       "      <th>2</th>\n",
       "      <td>3</td>\n",
       "      <td>15619304</td>\n",
       "      <td>Onio</td>\n",
       "      <td>502</td>\n",
       "      <td>France</td>\n",
       "      <td>Female</td>\n",
       "      <td>42</td>\n",
       "      <td>8.0</td>\n",
       "      <td>159660.80</td>\n",
       "      <td>3</td>\n",
       "      <td>1</td>\n",
       "      <td>0</td>\n",
       "      <td>113931.57</td>\n",
       "      <td>1</td>\n",
       "    </tr>\n",
       "    <tr>\n",
       "      <th>3</th>\n",
       "      <td>4</td>\n",
       "      <td>15701354</td>\n",
       "      <td>Boni</td>\n",
       "      <td>699</td>\n",
       "      <td>France</td>\n",
       "      <td>Female</td>\n",
       "      <td>39</td>\n",
       "      <td>1.0</td>\n",
       "      <td>0.00</td>\n",
       "      <td>2</td>\n",
       "      <td>0</td>\n",
       "      <td>0</td>\n",
       "      <td>93826.63</td>\n",
       "      <td>0</td>\n",
       "    </tr>\n",
       "    <tr>\n",
       "      <th>4</th>\n",
       "      <td>5</td>\n",
       "      <td>15737888</td>\n",
       "      <td>Mitchell</td>\n",
       "      <td>850</td>\n",
       "      <td>Spain</td>\n",
       "      <td>Female</td>\n",
       "      <td>43</td>\n",
       "      <td>2.0</td>\n",
       "      <td>125510.82</td>\n",
       "      <td>1</td>\n",
       "      <td>1</td>\n",
       "      <td>1</td>\n",
       "      <td>79084.10</td>\n",
       "      <td>0</td>\n",
       "    </tr>\n",
       "  </tbody>\n",
       "</table>\n",
       "</div>"
      ],
      "text/plain": [
       "   RowNumber  CustomerId   Surname  CreditScore Geography  Gender  Age  \\\n",
       "0          1    15634602  Hargrave          619    France  Female   42   \n",
       "1          2    15647311      Hill          608     Spain  Female   41   \n",
       "2          3    15619304      Onio          502    France  Female   42   \n",
       "3          4    15701354      Boni          699    France  Female   39   \n",
       "4          5    15737888  Mitchell          850     Spain  Female   43   \n",
       "\n",
       "   Tenure    Balance  NumOfProducts  HasCrCard  IsActiveMember  \\\n",
       "0     2.0       0.00              1          1               1   \n",
       "1     1.0   83807.86              1          0               1   \n",
       "2     8.0  159660.80              3          1               0   \n",
       "3     1.0       0.00              2          0               0   \n",
       "4     2.0  125510.82              1          1               1   \n",
       "\n",
       "   EstimatedSalary  Exited  \n",
       "0        101348.88       1  \n",
       "1        112542.58       0  \n",
       "2        113931.57       1  \n",
       "3         93826.63       0  \n",
       "4         79084.10       0  "
      ]
     },
     "execution_count": 2,
     "metadata": {},
     "output_type": "execute_result"
    }
   ],
   "source": [
    "# откроем и посмотрим файл\n",
    "try:\n",
    "    df = pd.read_csv('/datasets/Churn.csv')\n",
    "except:\n",
    "    df = pd.read_csv('/datasets/Churn.csv')\n",
    "\n",
    "df.head()"
   ]
  },
  {
   "cell_type": "code",
   "execution_count": 3,
   "metadata": {},
   "outputs": [
    {
     "name": "stdout",
     "output_type": "stream",
     "text": [
      "<class 'pandas.core.frame.DataFrame'>\n",
      "RangeIndex: 10000 entries, 0 to 9999\n",
      "Data columns (total 14 columns):\n",
      " #   Column           Non-Null Count  Dtype  \n",
      "---  ------           --------------  -----  \n",
      " 0   RowNumber        10000 non-null  int64  \n",
      " 1   CustomerId       10000 non-null  int64  \n",
      " 2   Surname          10000 non-null  object \n",
      " 3   CreditScore      10000 non-null  int64  \n",
      " 4   Geography        10000 non-null  object \n",
      " 5   Gender           10000 non-null  object \n",
      " 6   Age              10000 non-null  int64  \n",
      " 7   Tenure           9091 non-null   float64\n",
      " 8   Balance          10000 non-null  float64\n",
      " 9   NumOfProducts    10000 non-null  int64  \n",
      " 10  HasCrCard        10000 non-null  int64  \n",
      " 11  IsActiveMember   10000 non-null  int64  \n",
      " 12  EstimatedSalary  10000 non-null  float64\n",
      " 13  Exited           10000 non-null  int64  \n",
      "dtypes: float64(3), int64(8), object(3)\n",
      "memory usage: 1.1+ MB\n"
     ]
    }
   ],
   "source": [
    "df.info()"
   ]
  },
  {
   "cell_type": "code",
   "execution_count": 4,
   "metadata": {},
   "outputs": [
    {
     "data": {
      "text/html": [
       "<div>\n",
       "<style scoped>\n",
       "    .dataframe tbody tr th:only-of-type {\n",
       "        vertical-align: middle;\n",
       "    }\n",
       "\n",
       "    .dataframe tbody tr th {\n",
       "        vertical-align: top;\n",
       "    }\n",
       "\n",
       "    .dataframe thead th {\n",
       "        text-align: right;\n",
       "    }\n",
       "</style>\n",
       "<table border=\"1\" class=\"dataframe\">\n",
       "  <thead>\n",
       "    <tr style=\"text-align: right;\">\n",
       "      <th></th>\n",
       "      <th>RowNumber</th>\n",
       "      <th>CustomerId</th>\n",
       "      <th>CreditScore</th>\n",
       "      <th>Age</th>\n",
       "      <th>Tenure</th>\n",
       "      <th>Balance</th>\n",
       "      <th>NumOfProducts</th>\n",
       "      <th>HasCrCard</th>\n",
       "      <th>IsActiveMember</th>\n",
       "      <th>EstimatedSalary</th>\n",
       "      <th>Exited</th>\n",
       "    </tr>\n",
       "  </thead>\n",
       "  <tbody>\n",
       "    <tr>\n",
       "      <th>count</th>\n",
       "      <td>10000.00000</td>\n",
       "      <td>1.000000e+04</td>\n",
       "      <td>10000.000000</td>\n",
       "      <td>10000.000000</td>\n",
       "      <td>9091.000000</td>\n",
       "      <td>10000.000000</td>\n",
       "      <td>10000.000000</td>\n",
       "      <td>10000.00000</td>\n",
       "      <td>10000.000000</td>\n",
       "      <td>10000.000000</td>\n",
       "      <td>10000.000000</td>\n",
       "    </tr>\n",
       "    <tr>\n",
       "      <th>mean</th>\n",
       "      <td>5000.50000</td>\n",
       "      <td>1.569094e+07</td>\n",
       "      <td>650.528800</td>\n",
       "      <td>38.921800</td>\n",
       "      <td>4.997690</td>\n",
       "      <td>76485.889288</td>\n",
       "      <td>1.530200</td>\n",
       "      <td>0.70550</td>\n",
       "      <td>0.515100</td>\n",
       "      <td>100090.239881</td>\n",
       "      <td>0.203700</td>\n",
       "    </tr>\n",
       "    <tr>\n",
       "      <th>std</th>\n",
       "      <td>2886.89568</td>\n",
       "      <td>7.193619e+04</td>\n",
       "      <td>96.653299</td>\n",
       "      <td>10.487806</td>\n",
       "      <td>2.894723</td>\n",
       "      <td>62397.405202</td>\n",
       "      <td>0.581654</td>\n",
       "      <td>0.45584</td>\n",
       "      <td>0.499797</td>\n",
       "      <td>57510.492818</td>\n",
       "      <td>0.402769</td>\n",
       "    </tr>\n",
       "    <tr>\n",
       "      <th>min</th>\n",
       "      <td>1.00000</td>\n",
       "      <td>1.556570e+07</td>\n",
       "      <td>350.000000</td>\n",
       "      <td>18.000000</td>\n",
       "      <td>0.000000</td>\n",
       "      <td>0.000000</td>\n",
       "      <td>1.000000</td>\n",
       "      <td>0.00000</td>\n",
       "      <td>0.000000</td>\n",
       "      <td>11.580000</td>\n",
       "      <td>0.000000</td>\n",
       "    </tr>\n",
       "    <tr>\n",
       "      <th>25%</th>\n",
       "      <td>2500.75000</td>\n",
       "      <td>1.562853e+07</td>\n",
       "      <td>584.000000</td>\n",
       "      <td>32.000000</td>\n",
       "      <td>2.000000</td>\n",
       "      <td>0.000000</td>\n",
       "      <td>1.000000</td>\n",
       "      <td>0.00000</td>\n",
       "      <td>0.000000</td>\n",
       "      <td>51002.110000</td>\n",
       "      <td>0.000000</td>\n",
       "    </tr>\n",
       "    <tr>\n",
       "      <th>50%</th>\n",
       "      <td>5000.50000</td>\n",
       "      <td>1.569074e+07</td>\n",
       "      <td>652.000000</td>\n",
       "      <td>37.000000</td>\n",
       "      <td>5.000000</td>\n",
       "      <td>97198.540000</td>\n",
       "      <td>1.000000</td>\n",
       "      <td>1.00000</td>\n",
       "      <td>1.000000</td>\n",
       "      <td>100193.915000</td>\n",
       "      <td>0.000000</td>\n",
       "    </tr>\n",
       "    <tr>\n",
       "      <th>75%</th>\n",
       "      <td>7500.25000</td>\n",
       "      <td>1.575323e+07</td>\n",
       "      <td>718.000000</td>\n",
       "      <td>44.000000</td>\n",
       "      <td>7.000000</td>\n",
       "      <td>127644.240000</td>\n",
       "      <td>2.000000</td>\n",
       "      <td>1.00000</td>\n",
       "      <td>1.000000</td>\n",
       "      <td>149388.247500</td>\n",
       "      <td>0.000000</td>\n",
       "    </tr>\n",
       "    <tr>\n",
       "      <th>max</th>\n",
       "      <td>10000.00000</td>\n",
       "      <td>1.581569e+07</td>\n",
       "      <td>850.000000</td>\n",
       "      <td>92.000000</td>\n",
       "      <td>10.000000</td>\n",
       "      <td>250898.090000</td>\n",
       "      <td>4.000000</td>\n",
       "      <td>1.00000</td>\n",
       "      <td>1.000000</td>\n",
       "      <td>199992.480000</td>\n",
       "      <td>1.000000</td>\n",
       "    </tr>\n",
       "  </tbody>\n",
       "</table>\n",
       "</div>"
      ],
      "text/plain": [
       "         RowNumber    CustomerId   CreditScore           Age       Tenure  \\\n",
       "count  10000.00000  1.000000e+04  10000.000000  10000.000000  9091.000000   \n",
       "mean    5000.50000  1.569094e+07    650.528800     38.921800     4.997690   \n",
       "std     2886.89568  7.193619e+04     96.653299     10.487806     2.894723   \n",
       "min        1.00000  1.556570e+07    350.000000     18.000000     0.000000   \n",
       "25%     2500.75000  1.562853e+07    584.000000     32.000000     2.000000   \n",
       "50%     5000.50000  1.569074e+07    652.000000     37.000000     5.000000   \n",
       "75%     7500.25000  1.575323e+07    718.000000     44.000000     7.000000   \n",
       "max    10000.00000  1.581569e+07    850.000000     92.000000    10.000000   \n",
       "\n",
       "             Balance  NumOfProducts    HasCrCard  IsActiveMember  \\\n",
       "count   10000.000000   10000.000000  10000.00000    10000.000000   \n",
       "mean    76485.889288       1.530200      0.70550        0.515100   \n",
       "std     62397.405202       0.581654      0.45584        0.499797   \n",
       "min         0.000000       1.000000      0.00000        0.000000   \n",
       "25%         0.000000       1.000000      0.00000        0.000000   \n",
       "50%     97198.540000       1.000000      1.00000        1.000000   \n",
       "75%    127644.240000       2.000000      1.00000        1.000000   \n",
       "max    250898.090000       4.000000      1.00000        1.000000   \n",
       "\n",
       "       EstimatedSalary        Exited  \n",
       "count     10000.000000  10000.000000  \n",
       "mean     100090.239881      0.203700  \n",
       "std       57510.492818      0.402769  \n",
       "min          11.580000      0.000000  \n",
       "25%       51002.110000      0.000000  \n",
       "50%      100193.915000      0.000000  \n",
       "75%      149388.247500      0.000000  \n",
       "max      199992.480000      1.000000  "
      ]
     },
     "execution_count": 4,
     "metadata": {},
     "output_type": "execute_result"
    }
   ],
   "source": [
    "df.describe()"
   ]
  },
  {
   "cell_type": "code",
   "execution_count": 5,
   "metadata": {},
   "outputs": [
    {
     "data": {
      "image/png": "[encoded data removed]",
      "text/plain": [
       "<Figure size 1500x1500 with 9 Axes>"
      ]
     },
     "metadata": {},
     "output_type": "display_data"
    }
   ],
   "source": [
    "df.drop(['RowNumber', 'CustomerId'], axis=1).hist(figsize=(15, 15));"
   ]
  },
  {
   "cell_type": "markdown",
   "metadata": {},
   "source": [
    "**Вывод:** Есть пропуски в столбце \"Tenure\", предположительно пропуски подразуемвают, что клиент только открыл счет в банке. Большое число нулей в \"Balance\", скорее всего у многих просто заведена дебетовая карта этого банка, но на счету они не держат средств, что вполне нормально. Ошибок в типизации не обнаружено, явных аномалий нет. Заметно, что большое количество отказов от услуг банка."
   ]
  },
  {
   "cell_type": "markdown",
   "metadata": {},
   "source": [
    "### Предобработка данных"
   ]
  },
  {
   "cell_type": "markdown",
   "metadata": {},
   "source": [
    "- Посмотрим ближе на пропуски в Tenure.\n",
    "- Удалим столбец RowNumber - он просто дублирует индексы строк.\n",
    "- CastomerId - нужно проверить наличие дубликатов. После этого столбец для дальнейшего прогназирования не понадобиться, удалим его.\n",
    "- Surname также не несет в себе нужной нам информации, его можно удалить\n",
    "- Geography и Gender - категориальные данные. Нужно преобразовать их в числа."
   ]
  },
  {
   "cell_type": "code",
   "execution_count": 6,
   "metadata": {},
   "outputs": [],
   "source": [
    "# приведем названия стобцов к общему виду\n",
    "df.columns = df.columns.str.lower()\n",
    "\n",
    "# приведем к нижнему регистру столбцы с категориальными данными\n",
    "df['surname'] = df['surname'].str.lower()\n",
    "df['geography'] = df['geography'].str.lower()\n",
    "df['gender'] = df['gender'].str.lower()"
   ]
  },
  {
   "cell_type": "code",
   "execution_count": 7,
   "metadata": {},
   "outputs": [
    {
     "data": {
      "text/plain": [
       "909"
      ]
     },
     "execution_count": 7,
     "metadata": {},
     "output_type": "execute_result"
    }
   ],
   "source": [
    "# посмотрим пропуски\n",
    "df['tenure'].value_counts()\n",
    "df['tenure'].isna().sum()"
   ]
  },
  {
   "cell_type": "code",
   "execution_count": 8,
   "metadata": {},
   "outputs": [
    {
     "data": {
      "text/plain": [
       "count    9091.000000\n",
       "mean        4.997690\n",
       "std         2.894723\n",
       "min         0.000000\n",
       "25%         2.000000\n",
       "50%         5.000000\n",
       "75%         7.000000\n",
       "max        10.000000\n",
       "Name: tenure, dtype: float64"
      ]
     },
     "execution_count": 8,
     "metadata": {},
     "output_type": "execute_result"
    }
   ],
   "source": [
    "df['tenure'].describe()"
   ]
  },
  {
   "cell_type": "markdown",
   "metadata": {},
   "source": [
    "Пропусков не много, но с ними нужно что-то сделать."
   ]
  },
  {
   "cell_type": "code",
   "execution_count": 9,
   "metadata": {},
   "outputs": [
    {
     "data": {
      "image/png": "[encoded data removed]",
      "text/plain": [
       "<Figure size 1500x1500 with 9 Axes>"
      ]
     },
     "metadata": {},
     "output_type": "display_data"
    }
   ],
   "source": [
    "df.drop(['rownumber', 'customerid'], axis=1).loc[~(df['tenure'].isna())].hist(figsize=(15, 15));"
   ]
  },
  {
   "cell_type": "markdown",
   "metadata": {},
   "source": [
    "Пропуски в Tenure никак не отражаются на других данных. Удалим их."
   ]
  },
  {
   "cell_type": "code",
   "execution_count": 10,
   "metadata": {},
   "outputs": [
    {
     "name": "stdout",
     "output_type": "stream",
     "text": [
      "<class 'pandas.core.frame.DataFrame'>\n",
      "Int64Index: 9091 entries, 0 to 9998\n",
      "Data columns (total 14 columns):\n",
      " #   Column           Non-Null Count  Dtype  \n",
      "---  ------           --------------  -----  \n",
      " 0   rownumber        9091 non-null   int64  \n",
      " 1   customerid       9091 non-null   int64  \n",
      " 2   surname          9091 non-null   object \n",
      " 3   creditscore      9091 non-null   int64  \n",
      " 4   geography        9091 non-null   object \n",
      " 5   gender           9091 non-null   object \n",
      " 6   age              9091 non-null   int64  \n",
      " 7   tenure           9091 non-null   float64\n",
      " 8   balance          9091 non-null   float64\n",
      " 9   numofproducts    9091 non-null   int64  \n",
      " 10  hascrcard        9091 non-null   int64  \n",
      " 11  isactivemember   9091 non-null   int64  \n",
      " 12  estimatedsalary  9091 non-null   float64\n",
      " 13  exited           9091 non-null   int64  \n",
      "dtypes: float64(3), int64(8), object(3)\n",
      "memory usage: 1.0+ MB\n"
     ]
    }
   ],
   "source": [
    "df = df.loc[~(df['tenure'].isna())]\n",
    "df.info()"
   ]
  },
  {
   "cell_type": "code",
   "execution_count": 11,
   "metadata": {},
   "outputs": [
    {
     "data": {
      "text/plain": [
       "0"
      ]
     },
     "execution_count": 11,
     "metadata": {},
     "output_type": "execute_result"
    }
   ],
   "source": [
    "# проверим наличие дубликатов\n",
    "df.duplicated().sum()\n",
    "df['customerid'].duplicated().sum()"
   ]
  },
  {
   "cell_type": "markdown",
   "metadata": {},
   "source": [
    "Дубликатов не обнаружено. Удалим не нужные столбцы"
   ]
  },
  {
   "cell_type": "code",
   "execution_count": 12,
   "metadata": {},
   "outputs": [
    {
     "data": {
      "text/html": [
       "<div>\n",
       "<style scoped>\n",
       "    .dataframe tbody tr th:only-of-type {\n",
       "        vertical-align: middle;\n",
       "    }\n",
       "\n",
       "    .dataframe tbody tr th {\n",
       "        vertical-align: top;\n",
       "    }\n",
       "\n",
       "    .dataframe thead th {\n",
       "        text-align: right;\n",
       "    }\n",
       "</style>\n",
       "<table border=\"1\" class=\"dataframe\">\n",
       "  <thead>\n",
       "    <tr style=\"text-align: right;\">\n",
       "      <th></th>\n",
       "      <th>creditscore</th>\n",
       "      <th>geography</th>\n",
       "      <th>gender</th>\n",
       "      <th>age</th>\n",
       "      <th>tenure</th>\n",
       "      <th>balance</th>\n",
       "      <th>numofproducts</th>\n",
       "      <th>hascrcard</th>\n",
       "      <th>isactivemember</th>\n",
       "      <th>estimatedsalary</th>\n",
       "      <th>exited</th>\n",
       "    </tr>\n",
       "  </thead>\n",
       "  <tbody>\n",
       "    <tr>\n",
       "      <th>0</th>\n",
       "      <td>619</td>\n",
       "      <td>france</td>\n",
       "      <td>female</td>\n",
       "      <td>42</td>\n",
       "      <td>2.0</td>\n",
       "      <td>0.00</td>\n",
       "      <td>1</td>\n",
       "      <td>1</td>\n",
       "      <td>1</td>\n",
       "      <td>101348.88</td>\n",
       "      <td>1</td>\n",
       "    </tr>\n",
       "    <tr>\n",
       "      <th>1</th>\n",
       "      <td>608</td>\n",
       "      <td>spain</td>\n",
       "      <td>female</td>\n",
       "      <td>41</td>\n",
       "      <td>1.0</td>\n",
       "      <td>83807.86</td>\n",
       "      <td>1</td>\n",
       "      <td>0</td>\n",
       "      <td>1</td>\n",
       "      <td>112542.58</td>\n",
       "      <td>0</td>\n",
       "    </tr>\n",
       "    <tr>\n",
       "      <th>2</th>\n",
       "      <td>502</td>\n",
       "      <td>france</td>\n",
       "      <td>female</td>\n",
       "      <td>42</td>\n",
       "      <td>8.0</td>\n",
       "      <td>159660.80</td>\n",
       "      <td>3</td>\n",
       "      <td>1</td>\n",
       "      <td>0</td>\n",
       "      <td>113931.57</td>\n",
       "      <td>1</td>\n",
       "    </tr>\n",
       "    <tr>\n",
       "      <th>3</th>\n",
       "      <td>699</td>\n",
       "      <td>france</td>\n",
       "      <td>female</td>\n",
       "      <td>39</td>\n",
       "      <td>1.0</td>\n",
       "      <td>0.00</td>\n",
       "      <td>2</td>\n",
       "      <td>0</td>\n",
       "      <td>0</td>\n",
       "      <td>93826.63</td>\n",
       "      <td>0</td>\n",
       "    </tr>\n",
       "    <tr>\n",
       "      <th>4</th>\n",
       "      <td>850</td>\n",
       "      <td>spain</td>\n",
       "      <td>female</td>\n",
       "      <td>43</td>\n",
       "      <td>2.0</td>\n",
       "      <td>125510.82</td>\n",
       "      <td>1</td>\n",
       "      <td>1</td>\n",
       "      <td>1</td>\n",
       "      <td>79084.10</td>\n",
       "      <td>0</td>\n",
       "    </tr>\n",
       "  </tbody>\n",
       "</table>\n",
       "</div>"
      ],
      "text/plain": [
       "   creditscore geography  gender  age  tenure    balance  numofproducts  \\\n",
       "0          619    france  female   42     2.0       0.00              1   \n",
       "1          608     spain  female   41     1.0   83807.86              1   \n",
       "2          502    france  female   42     8.0  159660.80              3   \n",
       "3          699    france  female   39     1.0       0.00              2   \n",
       "4          850     spain  female   43     2.0  125510.82              1   \n",
       "\n",
       "   hascrcard  isactivemember  estimatedsalary  exited  \n",
       "0          1               1        101348.88       1  \n",
       "1          0               1        112542.58       0  \n",
       "2          1               0        113931.57       1  \n",
       "3          0               0         93826.63       0  \n",
       "4          1               1         79084.10       0  "
      ]
     },
     "execution_count": 12,
     "metadata": {},
     "output_type": "execute_result"
    }
   ],
   "source": [
    "df.drop([\"rownumber\", \"customerid\", \"surname\"], axis=1, inplace=True)\n",
    "df.head()"
   ]
  },
  {
   "cell_type": "markdown",
   "metadata": {},
   "source": [
    "Проверим уникальные значение в Geography. Затем методом прямого кодирования преобразуем категориальные данные в количественные в столбцах Geograthy и Gender"
   ]
  },
  {
   "cell_type": "code",
   "execution_count": 13,
   "metadata": {},
   "outputs": [
    {
     "data": {
      "text/plain": [
       "array(['france', 'spain', 'germany'], dtype=object)"
      ]
     },
     "execution_count": 13,
     "metadata": {},
     "output_type": "execute_result"
    }
   ],
   "source": [
    "df['geography'].unique()"
   ]
  },
  {
   "cell_type": "code",
   "execution_count": 14,
   "metadata": {},
   "outputs": [
    {
     "data": {
      "text/html": [
       "<div>\n",
       "<style scoped>\n",
       "    .dataframe tbody tr th:only-of-type {\n",
       "        vertical-align: middle;\n",
       "    }\n",
       "\n",
       "    .dataframe tbody tr th {\n",
       "        vertical-align: top;\n",
       "    }\n",
       "\n",
       "    .dataframe thead th {\n",
       "        text-align: right;\n",
       "    }\n",
       "</style>\n",
       "<table border=\"1\" class=\"dataframe\">\n",
       "  <thead>\n",
       "    <tr style=\"text-align: right;\">\n",
       "      <th></th>\n",
       "      <th>creditscore</th>\n",
       "      <th>age</th>\n",
       "      <th>tenure</th>\n",
       "      <th>balance</th>\n",
       "      <th>numofproducts</th>\n",
       "      <th>hascrcard</th>\n",
       "      <th>isactivemember</th>\n",
       "      <th>estimatedsalary</th>\n",
       "      <th>exited</th>\n",
       "      <th>geography_germany</th>\n",
       "      <th>geography_spain</th>\n",
       "      <th>gender_male</th>\n",
       "    </tr>\n",
       "  </thead>\n",
       "  <tbody>\n",
       "    <tr>\n",
       "      <th>0</th>\n",
       "      <td>619</td>\n",
       "      <td>42</td>\n",
       "      <td>2.0</td>\n",
       "      <td>0.00</td>\n",
       "      <td>1</td>\n",
       "      <td>1</td>\n",
       "      <td>1</td>\n",
       "      <td>101348.88</td>\n",
       "      <td>1</td>\n",
       "      <td>0</td>\n",
       "      <td>0</td>\n",
       "      <td>0</td>\n",
       "    </tr>\n",
       "    <tr>\n",
       "      <th>1</th>\n",
       "      <td>608</td>\n",
       "      <td>41</td>\n",
       "      <td>1.0</td>\n",
       "      <td>83807.86</td>\n",
       "      <td>1</td>\n",
       "      <td>0</td>\n",
       "      <td>1</td>\n",
       "      <td>112542.58</td>\n",
       "      <td>0</td>\n",
       "      <td>0</td>\n",
       "      <td>1</td>\n",
       "      <td>0</td>\n",
       "    </tr>\n",
       "    <tr>\n",
       "      <th>2</th>\n",
       "      <td>502</td>\n",
       "      <td>42</td>\n",
       "      <td>8.0</td>\n",
       "      <td>159660.80</td>\n",
       "      <td>3</td>\n",
       "      <td>1</td>\n",
       "      <td>0</td>\n",
       "      <td>113931.57</td>\n",
       "      <td>1</td>\n",
       "      <td>0</td>\n",
       "      <td>0</td>\n",
       "      <td>0</td>\n",
       "    </tr>\n",
       "    <tr>\n",
       "      <th>3</th>\n",
       "      <td>699</td>\n",
       "      <td>39</td>\n",
       "      <td>1.0</td>\n",
       "      <td>0.00</td>\n",
       "      <td>2</td>\n",
       "      <td>0</td>\n",
       "      <td>0</td>\n",
       "      <td>93826.63</td>\n",
       "      <td>0</td>\n",
       "      <td>0</td>\n",
       "      <td>0</td>\n",
       "      <td>0</td>\n",
       "    </tr>\n",
       "    <tr>\n",
       "      <th>4</th>\n",
       "      <td>850</td>\n",
       "      <td>43</td>\n",
       "      <td>2.0</td>\n",
       "      <td>125510.82</td>\n",
       "      <td>1</td>\n",
       "      <td>1</td>\n",
       "      <td>1</td>\n",
       "      <td>79084.10</td>\n",
       "      <td>0</td>\n",
       "      <td>0</td>\n",
       "      <td>1</td>\n",
       "      <td>0</td>\n",
       "    </tr>\n",
       "  </tbody>\n",
       "</table>\n",
       "</div>"
      ],
      "text/plain": [
       "   creditscore  age  tenure    balance  numofproducts  hascrcard  \\\n",
       "0          619   42     2.0       0.00              1          1   \n",
       "1          608   41     1.0   83807.86              1          0   \n",
       "2          502   42     8.0  159660.80              3          1   \n",
       "3          699   39     1.0       0.00              2          0   \n",
       "4          850   43     2.0  125510.82              1          1   \n",
       "\n",
       "   isactivemember  estimatedsalary  exited  geography_germany  \\\n",
       "0               1        101348.88       1                  0   \n",
       "1               1        112542.58       0                  0   \n",
       "2               0        113931.57       1                  0   \n",
       "3               0         93826.63       0                  0   \n",
       "4               1         79084.10       0                  0   \n",
       "\n",
       "   geography_spain  gender_male  \n",
       "0                0            0  \n",
       "1                1            0  \n",
       "2                0            0  \n",
       "3                0            0  \n",
       "4                1            0  "
      ]
     },
     "execution_count": 14,
     "metadata": {},
     "output_type": "execute_result"
    }
   ],
   "source": [
    "df = pd.get_dummies(df, columns=['geography', 'gender'], drop_first=True)\n",
    "df.head()"
   ]
  },
  {
   "cell_type": "markdown",
   "metadata": {},
   "source": [
    "## Исследование задачи"
   ]
  },
  {
   "cell_type": "markdown",
   "metadata": {},
   "source": [
    "### Формируем выборки"
   ]
  },
  {
   "cell_type": "markdown",
   "metadata": {},
   "source": [
    "Создадим перемнные для признаков и целевого признака. Затем поделим выборки на три части в соотношении 3:1:1 на тренировочную, валидационную и тестовую соответственно."
   ]
  },
  {
   "cell_type": "code",
   "execution_count": 15,
   "metadata": {},
   "outputs": [],
   "source": [
    "#разделим на признаки и целевой признак\n",
    "features = df.drop('exited', axis=1)\n",
    "target = df['exited']"
   ]
  },
  {
   "cell_type": "code",
   "execution_count": 16,
   "metadata": {},
   "outputs": [
    {
     "name": "stdout",
     "output_type": "stream",
     "text": [
      "Размер обучающей выборки: (3636,)\n",
      "Размер валидационной выборки: (2727,)\n",
      "Размер тестовой выборки: (2728,)\n"
     ]
    }
   ],
   "source": [
    "# разделение выборки на тренировочную и валидационную\n",
    "features_train, features_validtest, target_train, target_validtest = train_test_split(\n",
    "    features, target, test_size=0.6, random_state=12345, stratify=target)\n",
    "\n",
    "# выделим из валидационной выборки тестовую\n",
    "features_valid, features_test, target_valid, target_test = train_test_split(\n",
    "    features_validtest, target_validtest, test_size=0.5, random_state=12345, \n",
    "    stratify=target_validtest)\n",
    "\n",
    "print('Размер обучающей выборки:', target_train.shape)\n",
    "print('Размер валидационной выборки:', target_valid.shape)\n",
    "print('Размер тестовой выборки:', target_test.shape)"
   ]
  },
  {
   "cell_type": "markdown",
   "metadata": {},
   "source": [
    "### Маштабирование"
   ]
  },
  {
   "cell_type": "markdown",
   "metadata": {},
   "source": [
    "Привидем признаки к одному масштабу с помощью стандартизации данных"
   ]
  },
  {
   "cell_type": "code",
   "execution_count": 17,
   "metadata": {},
   "outputs": [
    {
     "data": {
      "text/html": [
       "<div>\n",
       "<style scoped>\n",
       "    .dataframe tbody tr th:only-of-type {\n",
       "        vertical-align: middle;\n",
       "    }\n",
       "\n",
       "    .dataframe tbody tr th {\n",
       "        vertical-align: top;\n",
       "    }\n",
       "\n",
       "    .dataframe thead th {\n",
       "        text-align: right;\n",
       "    }\n",
       "</style>\n",
       "<table border=\"1\" class=\"dataframe\">\n",
       "  <thead>\n",
       "    <tr style=\"text-align: right;\">\n",
       "      <th></th>\n",
       "      <th>creditscore</th>\n",
       "      <th>age</th>\n",
       "      <th>tenure</th>\n",
       "      <th>balance</th>\n",
       "      <th>numofproducts</th>\n",
       "      <th>hascrcard</th>\n",
       "      <th>isactivemember</th>\n",
       "      <th>estimatedsalary</th>\n",
       "      <th>geography_germany</th>\n",
       "      <th>geography_spain</th>\n",
       "      <th>gender_male</th>\n",
       "    </tr>\n",
       "  </thead>\n",
       "  <tbody>\n",
       "    <tr>\n",
       "      <th>7857</th>\n",
       "      <td>2.099886</td>\n",
       "      <td>-1.124214</td>\n",
       "      <td>0.320745</td>\n",
       "      <td>0.323171</td>\n",
       "      <td>0.787541</td>\n",
       "      <td>0</td>\n",
       "      <td>0</td>\n",
       "      <td>0.935627</td>\n",
       "      <td>0</td>\n",
       "      <td>0</td>\n",
       "      <td>1</td>\n",
       "    </tr>\n",
       "    <tr>\n",
       "      <th>44</th>\n",
       "      <td>0.115321</td>\n",
       "      <td>2.101498</td>\n",
       "      <td>-0.026347</td>\n",
       "      <td>1.271365</td>\n",
       "      <td>-0.906837</td>\n",
       "      <td>1</td>\n",
       "      <td>1</td>\n",
       "      <td>1.033026</td>\n",
       "      <td>0</td>\n",
       "      <td>1</td>\n",
       "      <td>0</td>\n",
       "    </tr>\n",
       "    <tr>\n",
       "      <th>6468</th>\n",
       "      <td>1.232945</td>\n",
       "      <td>-0.365223</td>\n",
       "      <td>0.320745</td>\n",
       "      <td>0.625846</td>\n",
       "      <td>-0.906837</td>\n",
       "      <td>0</td>\n",
       "      <td>1</td>\n",
       "      <td>-1.235971</td>\n",
       "      <td>0</td>\n",
       "      <td>0</td>\n",
       "      <td>0</td>\n",
       "    </tr>\n",
       "    <tr>\n",
       "      <th>3430</th>\n",
       "      <td>-0.250257</td>\n",
       "      <td>-0.175475</td>\n",
       "      <td>-1.414715</td>\n",
       "      <td>1.609494</td>\n",
       "      <td>0.787541</td>\n",
       "      <td>1</td>\n",
       "      <td>1</td>\n",
       "      <td>-0.050007</td>\n",
       "      <td>0</td>\n",
       "      <td>0</td>\n",
       "      <td>1</td>\n",
       "    </tr>\n",
       "    <tr>\n",
       "      <th>6441</th>\n",
       "      <td>-1.409661</td>\n",
       "      <td>0.583516</td>\n",
       "      <td>-1.414715</td>\n",
       "      <td>1.637624</td>\n",
       "      <td>-0.906837</td>\n",
       "      <td>1</td>\n",
       "      <td>0</td>\n",
       "      <td>-0.671353</td>\n",
       "      <td>0</td>\n",
       "      <td>0</td>\n",
       "      <td>1</td>\n",
       "    </tr>\n",
       "  </tbody>\n",
       "</table>\n",
       "</div>"
      ],
      "text/plain": [
       "      creditscore       age    tenure   balance  numofproducts  hascrcard  \\\n",
       "7857     2.099886 -1.124214  0.320745  0.323171       0.787541          0   \n",
       "44       0.115321  2.101498 -0.026347  1.271365      -0.906837          1   \n",
       "6468     1.232945 -0.365223  0.320745  0.625846      -0.906837          0   \n",
       "3430    -0.250257 -0.175475 -1.414715  1.609494       0.787541          1   \n",
       "6441    -1.409661  0.583516 -1.414715  1.637624      -0.906837          1   \n",
       "\n",
       "      isactivemember  estimatedsalary  geography_germany  geography_spain  \\\n",
       "7857               0         0.935627                  0                0   \n",
       "44                 1         1.033026                  0                1   \n",
       "6468               1        -1.235971                  0                0   \n",
       "3430               1        -0.050007                  0                0   \n",
       "6441               0        -0.671353                  0                0   \n",
       "\n",
       "      gender_male  \n",
       "7857            1  \n",
       "44              0  \n",
       "6468            0  \n",
       "3430            1  \n",
       "6441            1  "
      ]
     },
     "execution_count": 17,
     "metadata": {},
     "output_type": "execute_result"
    }
   ],
   "source": [
    "pd.options.mode.chained_assignment = None\n",
    "\n",
    "# численные признаки\n",
    "numeric = ['creditscore', 'age', 'tenure', 'balance', 'numofproducts', 'estimatedsalary']\n",
    "\n",
    "# создадим объект структуры StandardScaler и настроим его на обучающих данных\n",
    "scaler = StandardScaler()\n",
    "scaler.fit(features_train[numeric])\n",
    "\n",
    "# преобразуем выборки\n",
    "features_train[numeric] = scaler.transform(features_train[numeric])\n",
    "features_valid[numeric] = scaler.transform(features_valid[numeric])\n",
    "features_test[numeric] = scaler.transform(features_test[numeric])\n",
    "\n",
    "features_train.head()"
   ]
  },
  {
   "cell_type": "markdown",
   "metadata": {},
   "source": [
    "### Обучение моделей"
   ]
  },
  {
   "cell_type": "markdown",
   "metadata": {},
   "source": [
    "Исследуем балас классов и попробуем обучить модель. Проанализируем адекватность модели и посмотрим на соотношение классов."
   ]
  },
  {
   "cell_type": "code",
   "execution_count": 18,
   "metadata": {},
   "outputs": [
    {
     "name": "stdout",
     "output_type": "stream",
     "text": [
      "0    0.796062\n",
      "1    0.203938\n",
      "Name: exited, dtype: float64\n"
     ]
    },
    {
     "data": {
      "image/png": "[encoded data removed]",
      "text/plain": [
       "<Figure size 640x480 with 1 Axes>"
      ]
     },
     "metadata": {},
     "output_type": "display_data"
    }
   ],
   "source": [
    "# проверим адекватность модели\n",
    "class_frequency = df['exited'].value_counts(normalize=True)\n",
    "print(class_frequency)\n",
    "class_frequency.plot(kind='bar');"
   ]
  },
  {
   "cell_type": "code",
   "execution_count": 19,
   "metadata": {},
   "outputs": [
    {
     "name": "stdout",
     "output_type": "stream",
     "text": [
      "F1-мера лучшей модели: 0.5567226890756302\n",
      "Глубина для лучшей модели: 7\n",
      "AUC-ROC: 0.8163350940620143\n"
     ]
    }
   ],
   "source": [
    "# решающее дерево\n",
    "best_model = None\n",
    "best_result = 0\n",
    "best_depth = 0\n",
    "results = []\n",
    "for depth in range(1, 16):\n",
    "    model = DecisionTreeClassifier(random_state=12345, max_depth=depth)\n",
    "    model.fit(features_train, target_train) \n",
    "    predicted_valid = model.predict(features_valid)\n",
    "    result = f1_score(target_valid, predicted_valid)\n",
    "    results.append({'f1': result, 'depth':depth})\n",
    "    if result > best_result:\n",
    "        best_model = model\n",
    "        best_result = result\n",
    "        best_depth = depth\n",
    "        \n",
    "print('F1-мера лучшей модели:', best_result)\n",
    "print('Глубина для лучшей модели:', best_depth)\n",
    "\n",
    "model_tree_best = DecisionTreeClassifier(random_state=12345, max_depth=7)\n",
    "model_tree_best.fit(features_train, target_train) \n",
    "probabilities_valid = model_tree_best.predict_proba(features_valid)\n",
    "probabilities_one_valid = probabilities_valid[:, 1]\n",
    "\n",
    "print(\"AUC-ROC:\", roc_auc_score(target_valid, probabilities_one_valid))"
   ]
  },
  {
   "cell_type": "code",
   "execution_count": 20,
   "metadata": {},
   "outputs": [
    {
     "name": "stdout",
     "output_type": "stream",
     "text": [
      "F1-мера лучшей модели: 0.5662921348314606\n",
      "Глубина для лучшей модели: 16\n",
      "Количество деревьев: 40\n",
      "AUC-ROC: 0.8163350940620143\n"
     ]
    }
   ],
   "source": [
    "# случайный лес\n",
    "best_result = 0\n",
    "best_model = None\n",
    "best_est = 0\n",
    "best_depth = 0\n",
    "results = []\n",
    "for est in range(10, 101, 10):\n",
    "    for depth in range (1, 21):\n",
    "        model = RandomForestClassifier(random_state=12345, n_estimators=est, max_depth=depth) \n",
    "        model.fit(features_train, target_train)\n",
    "        predicted_valid = model.predict(features_valid)\n",
    "        result = f1_score(target_valid, predicted_valid)\n",
    "        results.append({'f1': result, 'depth':depth, 'est':est})\n",
    "        if result > best_result:\n",
    "            best_model = model\n",
    "            best_result = result\n",
    "            best_est = est\n",
    "            best_depth = depth\n",
    "\n",
    "print('F1-мера лучшей модели:', best_result)\n",
    "print('Глубина для лучшей модели:', best_depth)\n",
    "print('Количество деревьев:', best_est)\n",
    "\n",
    "model_forest_best = RandomForestClassifier(random_state=12345, n_estimators=40, max_depth=16)\n",
    "model_forest_best.fit(features_train, target_train) \n",
    "probabilities_valid = model_tree_best.predict_proba(features_valid)\n",
    "probabilities_one_valid = probabilities_valid[:, 1]\n",
    "\n",
    "print(\"AUC-ROC:\", roc_auc_score(target_valid, probabilities_one_valid))"
   ]
  },
  {
   "cell_type": "code",
   "execution_count": 21,
   "metadata": {},
   "outputs": [
    {
     "name": "stdout",
     "output_type": "stream",
     "text": [
      "F1-мера: 0.29499323410013534\n",
      "AUC-ROC: 0.7524356378554458\n"
     ]
    }
   ],
   "source": [
    "# логистическая регрессия\n",
    "model_reg = LogisticRegression(random_state=12345, solver='lbfgs', max_iter=1000)\n",
    "model_reg.fit(features_train, target_train)\n",
    "predicted_valid = model_reg.predict(features_valid)\n",
    "probabilities_valid = model_reg.predict_proba(features_valid)\n",
    "probabilities_one_valid = probabilities_valid[:, 1]\n",
    "\n",
    "print(\"F1-мера:\", f1_score(target_valid, predicted_valid))\n",
    "print(\"AUC-ROC:\", roc_auc_score(target_valid, probabilities_one_valid))"
   ]
  },
  {
   "cell_type": "markdown",
   "metadata": {},
   "source": [
    "**Вывод:** В данных наблюдается сильный дисбаланс классов - 80% положительных классов к 20% отрицательным, что плохо сказывается на обучении модели. Показатели F1-меры всех обученных моделей ниже, чем требуется. "
   ]
  },
  {
   "cell_type": "markdown",
   "metadata": {},
   "source": [
    "## Борьба с дисбалансом"
   ]
  },
  {
   "cell_type": "markdown",
   "metadata": {},
   "source": [
    "### Увеличение выборки"
   ]
  },
  {
   "cell_type": "code",
   "execution_count": 22,
   "metadata": {},
   "outputs": [],
   "source": [
    "def upsample(features, target, repeat):\n",
    "    # разделим тренировочную выборку на положительные и отрицательные объекты\n",
    "    features_zeros = features[target == 0]\n",
    "    features_ones = features[target == 1]\n",
    "    target_zeros = target[target == 0]\n",
    "    target_ones = target[target == 1]\n",
    "\n",
    "    # продублируем объекты положительного класса и объединим их с отрицательными\n",
    "    features_upsampled = pd.concat([features_zeros] + [features_ones] * repeat)\n",
    "    target_upsampled = pd.concat([target_zeros] + [target_ones] * repeat)\n",
    "    \n",
    "    # перемешаем данные\n",
    "    features_upsampled, target_upsampled = shuffle(\n",
    "        features_upsampled, target_upsampled, random_state=12345)\n",
    "    \n",
    "    return features_upsampled, target_upsampled\n",
    "\n",
    "features_upsampled, target_upsampled = upsample(features_train, target_train, 4)"
   ]
  },
  {
   "cell_type": "code",
   "execution_count": 23,
   "metadata": {},
   "outputs": [
    {
     "name": "stdout",
     "output_type": "stream",
     "text": [
      "1    0.506312\n",
      "0    0.493688\n",
      "Name: exited, dtype: float64\n"
     ]
    },
    {
     "data": {
      "image/png": "[encoded data removed]",
      "text/plain": [
       "<Figure size 640x480 with 1 Axes>"
      ]
     },
     "metadata": {},
     "output_type": "display_data"
    }
   ],
   "source": [
    "# проверим адекватность модели \n",
    "class_frequency = target_upsampled.value_counts(normalize=True)\n",
    "print(class_frequency)\n",
    "class_frequency.plot(kind='bar');"
   ]
  },
  {
   "cell_type": "code",
   "execution_count": 24,
   "metadata": {},
   "outputs": [
    {
     "name": "stdout",
     "output_type": "stream",
     "text": [
      "F1-мера лучшей модели: 0.5774351786965662\n",
      "Глубина для лучшей модели: 7\n",
      "AUC-ROC: 0.8163350940620143\n"
     ]
    }
   ],
   "source": [
    "# решающее дерево\n",
    "best_model = None\n",
    "best_result = 0\n",
    "best_depth = 0\n",
    "results = []\n",
    "for depth in range(1, 16):\n",
    "    model = DecisionTreeClassifier(random_state=12345, max_depth=depth)\n",
    "    model.fit(features_upsampled, target_upsampled) \n",
    "    predicted_valid = model.predict(features_valid)\n",
    "    result = f1_score(target_valid, predicted_valid)\n",
    "    results.append({'f1': result, 'depth':depth})\n",
    "    if result > best_result:\n",
    "        best_model = model\n",
    "        best_result = result\n",
    "        best_depth = depth\n",
    "        \n",
    "print('F1-мера лучшей модели:', best_result)\n",
    "print('Глубина для лучшей модели:', best_depth)\n",
    "\n",
    "model_tree_best = DecisionTreeClassifier(random_state=12345, max_depth=7)\n",
    "model_tree_best.fit(features_train, target_train) \n",
    "probabilities_valid = model_tree_best.predict_proba(features_valid)\n",
    "probabilities_one_valid = probabilities_valid[:, 1]\n",
    "\n",
    "print(\"AUC-ROC:\", roc_auc_score(target_valid, probabilities_one_valid))"
   ]
  },
  {
   "cell_type": "code",
   "execution_count": 25,
   "metadata": {},
   "outputs": [
    {
     "name": "stdout",
     "output_type": "stream",
     "text": [
      "F1-мера лучшей модели: 0.6196943972835315\n",
      "Глубина для лучшей модели: 10\n",
      "Количество деревьев: 70\n",
      "AUC-ROC: 0.8163350940620143\n"
     ]
    }
   ],
   "source": [
    "# случайный лес\n",
    "best_result = 0\n",
    "best_model = None\n",
    "best_est = 0\n",
    "best_depth = 0\n",
    "results = []\n",
    "for est in range(10, 101, 10):\n",
    "    for depth in range (1, 21):\n",
    "        model = RandomForestClassifier(random_state=12345, n_estimators=est, max_depth=depth) \n",
    "        model.fit(features_upsampled, target_upsampled)\n",
    "        predicted_valid = model.predict(features_valid)\n",
    "        result = f1_score(target_valid, predicted_valid)\n",
    "        results.append({'f1': result, 'depth':depth, 'est':est})\n",
    "        if result > best_result:\n",
    "            best_model = model\n",
    "            best_result = result\n",
    "            best_est = est\n",
    "            best_depth = depth\n",
    "\n",
    "print('F1-мера лучшей модели:', best_result)\n",
    "print('Глубина для лучшей модели:', best_depth)\n",
    "print('Количество деревьев:', best_est)\n",
    "\n",
    "model_forest_best = RandomForestClassifier(random_state=12345, n_estimators=70, max_depth=10)\n",
    "model_forest_best.fit(features_train, target_train) \n",
    "probabilities_valid = model_tree_best.predict_proba(features_valid)\n",
    "probabilities_one_valid = probabilities_valid[:, 1]\n",
    "\n",
    "print(\"AUC-ROC:\", roc_auc_score(target_valid, probabilities_one_valid))"
   ]
  },
  {
   "cell_type": "code",
   "execution_count": 26,
   "metadata": {},
   "outputs": [
    {
     "name": "stdout",
     "output_type": "stream",
     "text": [
      "F1-мера: 0.4821428571428571\n",
      "AUC-ROC: 0.756202592048885\n"
     ]
    }
   ],
   "source": [
    "# логистическая регрессия\n",
    "model = LogisticRegression(random_state=12345, solver='liblinear')\n",
    "model.fit(features_upsampled, target_upsampled)\n",
    "predicted_valid = model.predict(features_valid)\n",
    "probabilities_valid = model.predict_proba(features_valid)\n",
    "probabilities_one_valid = probabilities_valid[:, 1]\n",
    "\n",
    "print(\"F1-мера:\", f1_score(target_valid, predicted_valid))\n",
    "print(\"AUC-ROC:\", roc_auc_score(target_valid, probabilities_one_valid))"
   ]
  },
  {
   "cell_type": "markdown",
   "metadata": {},
   "source": [
    "### Уменьшение выборки"
   ]
  },
  {
   "cell_type": "code",
   "execution_count": 27,
   "metadata": {},
   "outputs": [],
   "source": [
    "# downsampling\n",
    "\n",
    "def downsample(features, target, fraction):\n",
    "    features_zeros = features[target == 0]\n",
    "    features_ones = features[target == 1]\n",
    "    target_zeros = target[target == 0]\n",
    "    target_ones = target[target == 1]\n",
    "\n",
    "    features_downsampled = pd.concat(\n",
    "        [features_zeros.sample(frac=fraction, random_state=12345)] + [features_ones])\n",
    "    target_downsampled = pd.concat(\n",
    "        [target_zeros.sample(frac=fraction, random_state=12345)] + [target_ones])\n",
    "    \n",
    "    features_downsampled, target_downsampled = shuffle(\n",
    "        features_downsampled, target_downsampled, random_state=12345)\n",
    "    \n",
    "    return features_downsampled, target_downsampled\n",
    "\n",
    "features_downsampled, target_downsampled = downsample(features_train, target_train, 0.25)"
   ]
  },
  {
   "cell_type": "code",
   "execution_count": 28,
   "metadata": {},
   "outputs": [
    {
     "name": "stdout",
     "output_type": "stream",
     "text": [
      "1    0.506139\n",
      "0    0.493861\n",
      "Name: exited, dtype: float64\n"
     ]
    },
    {
     "data": {
      "image/png": "[encoded data removed]",
      "text/plain": [
       "<Figure size 640x480 with 1 Axes>"
      ]
     },
     "metadata": {},
     "output_type": "display_data"
    }
   ],
   "source": [
    "# проверим адекватность модели\n",
    "class_frequency = target_downsampled.value_counts(normalize=True)\n",
    "print(class_frequency)\n",
    "class_frequency.plot(kind='bar');"
   ]
  },
  {
   "cell_type": "code",
   "execution_count": 29,
   "metadata": {},
   "outputs": [
    {
     "name": "stdout",
     "output_type": "stream",
     "text": [
      "F1-мера лучшей модели: 0.5655664585191794\n",
      "Глубина для лучшей модели: 3\n",
      "AUC-ROC: 0.7910951754487704\n"
     ]
    }
   ],
   "source": [
    "# решающее дерево\n",
    "best_model = None\n",
    "best_result = 0\n",
    "best_depth = 0\n",
    "results = []\n",
    "for depth in range(1, 16):\n",
    "    model = DecisionTreeClassifier(random_state=12345, max_depth=depth)\n",
    "    model.fit(features_downsampled, target_downsampled) \n",
    "    predicted_valid = model.predict(features_valid)\n",
    "    result = f1_score(target_valid, predicted_valid)\n",
    "    results.append({'f1': result, 'depth':depth})\n",
    "    if result > best_result:\n",
    "        best_model = model\n",
    "        best_result = result\n",
    "        best_depth = depth\n",
    "        \n",
    "print('F1-мера лучшей модели:', best_result)\n",
    "print('Глубина для лучшей модели:', best_depth)\n",
    "\n",
    "model_tree_best = DecisionTreeClassifier(random_state=12345, max_depth=3)\n",
    "model_tree_best.fit(features_train, target_train) \n",
    "probabilities_valid = model_tree_best.predict_proba(features_valid)\n",
    "probabilities_one_valid = probabilities_valid[:, 1]\n",
    "\n",
    "print(\"AUC-ROC:\", roc_auc_score(target_valid, probabilities_one_valid))"
   ]
  },
  {
   "cell_type": "code",
   "execution_count": 30,
   "metadata": {},
   "outputs": [
    {
     "name": "stdout",
     "output_type": "stream",
     "text": [
      "F1-мера лучшей модели: 0.59568345323741\n",
      "Глубина для лучшей модели: 14\n",
      "Количество деревьев: 90\n",
      "AUC-ROC: 0.7910951754487704\n"
     ]
    }
   ],
   "source": [
    "# случайный лес\n",
    "best_result = 0\n",
    "best_model = None\n",
    "best_est = 0\n",
    "best_depth = 0\n",
    "results = []\n",
    "for est in range(10, 101, 10):\n",
    "    for depth in range (1, 21):\n",
    "        model = RandomForestClassifier(random_state=12345, n_estimators=est, max_depth=depth) \n",
    "        model.fit(features_downsampled, target_downsampled)\n",
    "        predicted_valid = model.predict(features_valid)\n",
    "        result = f1_score(target_valid, predicted_valid)\n",
    "        results.append({'f1': result, 'depth':depth, 'est':est})\n",
    "        if result > best_result:\n",
    "            best_model = model\n",
    "            best_result = result\n",
    "            best_est = est\n",
    "            best_depth = depth\n",
    "\n",
    "print('F1-мера лучшей модели:', best_result)\n",
    "print('Глубина для лучшей модели:', best_depth)\n",
    "print('Количество деревьев:', best_est)\n",
    "\n",
    "model_forest_best = RandomForestClassifier(random_state=12345, n_estimators=90, max_depth=14)\n",
    "model_forest_best.fit(features_train, target_train) \n",
    "probabilities_valid = model_tree_best.predict_proba(features_valid)\n",
    "probabilities_one_valid = probabilities_valid[:, 1]\n",
    "\n",
    "print(\"AUC-ROC:\", roc_auc_score(target_valid, probabilities_one_valid))"
   ]
  },
  {
   "cell_type": "code",
   "execution_count": 31,
   "metadata": {},
   "outputs": [
    {
     "name": "stdout",
     "output_type": "stream",
     "text": [
      "F1-мера: 0.4797947402180885\n",
      "AUC-ROC: 0.7562489851508937\n"
     ]
    }
   ],
   "source": [
    "model = LogisticRegression(random_state=12345, solver='liblinear')\n",
    "model.fit(features_downsampled, target_downsampled)\n",
    "predicted_valid = model.predict(features_valid)\n",
    "probabilities_valid = model.predict_proba(features_valid)\n",
    "probabilities_one_valid = probabilities_valid[:, 1]\n",
    "\n",
    "print(\"F1-мера:\", f1_score(target_valid, predicted_valid))\n",
    "print(\"AUC-ROC:\", roc_auc_score(target_valid, probabilities_one_valid))"
   ]
  },
  {
   "cell_type": "markdown",
   "metadata": {},
   "source": [
    "**Вывод:** Показатели выше при upsampling в модели случайного леса. Лучшая модель при глубине 10 и количеством деревьев 70, F1-мера равна 0,62."
   ]
  },
  {
   "cell_type": "markdown",
   "metadata": {},
   "source": [
    "## Тестирование модели"
   ]
  },
  {
   "cell_type": "code",
   "execution_count": 32,
   "metadata": {},
   "outputs": [
    {
     "name": "stdout",
     "output_type": "stream",
     "text": [
      "F1 на лучшей модели: 0.6247723132969035\n",
      "AUC-ROC: 0.8527962160658213\n"
     ]
    }
   ],
   "source": [
    "model = RandomForestClassifier(random_state=12345, n_estimators=40, max_depth=12) \n",
    "model.fit(features_upsampled, target_upsampled)\n",
    "predicted = model.predict(features_test)\n",
    "result = f1_score(target_test, predicted)\n",
    "print('F1 на лучшей модели:', result)\n",
    "\n",
    "probabilities_test = model.predict_proba(features_test)\n",
    "probabilities_one_test = probabilities_test[:, 1]\n",
    "\n",
    "print(\"AUC-ROC:\", roc_auc_score(target_test, probabilities_one_test))"
   ]
  },
  {
   "cell_type": "markdown",
   "metadata": {},
   "source": [
    "## Общий вывод"
   ]
  },
  {
   "cell_type": "markdown",
   "metadata": {},
   "source": [
    "* В ходе исследования была выполнена предобработка данных, устранены пропуски и использован метод прямого кодирования.\n",
    "* Проанализированы данные на предмент дисбаланса - есть сильный дисбаланс в сторону отрицательных классов.\n",
    "* Исследованы модели решающего дерева, случайного леса и логистической регрессии на несбалансированных.\n",
    "* Были применены методы увеличения и уменьшения классов для устранения дисбаланса. Эффективней себе показал upsampling.\n",
    "* Изучены модели обученные на сбалансированных данных.\n",
    "* Найдена лучшая модель - модель случайного леса с глубиной 10 и количеством деревьев 70. F1-мера равна 0.62, что было подтверждено на тестовой выборке. "
   ]
  }
 ],
 "metadata": {
  "ExecuteTimeLog": [
   {
    "duration": 394,
    "start_time": "2023-05-18T10:06:40.377Z"
   },
   {
    "duration": 162,
    "start_time": "2023-05-18T10:06:41.864Z"
   },
   {
    "duration": 54,
    "start_time": "2023-05-18T10:06:50.963Z"
   },
   {
    "duration": 46,
    "start_time": "2023-05-18T10:11:54.295Z"
   },
   {
    "duration": 59,
    "start_time": "2023-05-18T10:12:55.063Z"
   },
   {
    "duration": 13,
    "start_time": "2023-05-18T10:12:59.171Z"
   },
   {
    "duration": 42,
    "start_time": "2023-05-18T10:13:29.200Z"
   },
   {
    "duration": 1153,
    "start_time": "2023-05-18T10:14:18.067Z"
   },
   {
    "duration": 702,
    "start_time": "2023-05-18T10:14:22.807Z"
   },
   {
    "duration": 705,
    "start_time": "2023-05-18T10:14:43.397Z"
   },
   {
    "duration": 939,
    "start_time": "2023-05-18T10:14:48.948Z"
   },
   {
    "duration": 989,
    "start_time": "2023-05-18T10:14:54.455Z"
   },
   {
    "duration": 16,
    "start_time": "2023-05-18T10:19:31.697Z"
   },
   {
    "duration": 1267,
    "start_time": "2023-05-18T10:29:10.463Z"
   },
   {
    "duration": 16,
    "start_time": "2023-05-18T10:50:46.181Z"
   },
   {
    "duration": 21,
    "start_time": "2023-05-18T10:50:50.410Z"
   },
   {
    "duration": 18,
    "start_time": "2023-05-18T10:51:01.136Z"
   },
   {
    "duration": 6,
    "start_time": "2023-05-18T10:52:22.960Z"
   },
   {
    "duration": 20,
    "start_time": "2023-05-18T10:53:23.354Z"
   },
   {
    "duration": 704,
    "start_time": "2023-05-18T10:53:41.207Z"
   },
   {
    "duration": 1356,
    "start_time": "2023-05-18T10:53:56.109Z"
   },
   {
    "duration": 3,
    "start_time": "2023-05-18T10:57:03.305Z"
   },
   {
    "duration": 902,
    "start_time": "2023-05-18T10:57:09.884Z"
   },
   {
    "duration": 10,
    "start_time": "2023-05-18T10:57:42.899Z"
   },
   {
    "duration": 8,
    "start_time": "2023-05-18T10:57:47.556Z"
   },
   {
    "duration": 886,
    "start_time": "2023-05-18T10:58:04.396Z"
   },
   {
    "duration": 918,
    "start_time": "2023-05-18T10:58:49.816Z"
   },
   {
    "duration": 399,
    "start_time": "2023-05-18T10:59:38.111Z"
   },
   {
    "duration": 55,
    "start_time": "2023-05-18T10:59:39.337Z"
   },
   {
    "duration": 13,
    "start_time": "2023-05-18T10:59:40.947Z"
   },
   {
    "duration": 1449,
    "start_time": "2023-05-18T10:59:42.893Z"
   },
   {
    "duration": 1142,
    "start_time": "2023-05-18T10:59:47.283Z"
   },
   {
    "duration": 18,
    "start_time": "2023-05-18T10:59:52.408Z"
   },
   {
    "duration": 13,
    "start_time": "2023-05-18T11:00:10.356Z"
   },
   {
    "duration": 64,
    "start_time": "2023-05-18T11:02:11.491Z"
   },
   {
    "duration": 10,
    "start_time": "2023-05-18T11:02:18.464Z"
   },
   {
    "duration": 4,
    "start_time": "2023-05-18T11:02:54.468Z"
   },
   {
    "duration": 4,
    "start_time": "2023-05-18T11:04:31.600Z"
   },
   {
    "duration": 14,
    "start_time": "2023-05-18T11:04:39.051Z"
   },
   {
    "duration": 11,
    "start_time": "2023-05-18T11:04:51.108Z"
   },
   {
    "duration": 10,
    "start_time": "2023-05-18T11:04:55.393Z"
   },
   {
    "duration": 10,
    "start_time": "2023-05-18T11:05:25.319Z"
   },
   {
    "duration": 12,
    "start_time": "2023-05-18T11:05:49.272Z"
   },
   {
    "duration": 399,
    "start_time": "2023-05-18T11:06:13.296Z"
   },
   {
    "duration": 55,
    "start_time": "2023-05-18T11:06:13.856Z"
   },
   {
    "duration": 11,
    "start_time": "2023-05-18T11:06:14.797Z"
   },
   {
    "duration": 39,
    "start_time": "2023-05-18T11:06:15.705Z"
   },
   {
    "duration": 1531,
    "start_time": "2023-05-18T11:06:16.260Z"
   },
   {
    "duration": 1198,
    "start_time": "2023-05-18T11:06:18.593Z"
   },
   {
    "duration": 12,
    "start_time": "2023-05-18T11:06:19.806Z"
   },
   {
    "duration": 15,
    "start_time": "2023-05-18T11:06:20.508Z"
   },
   {
    "duration": 5,
    "start_time": "2023-05-18T11:06:21.107Z"
   },
   {
    "duration": 13,
    "start_time": "2023-05-18T11:06:22.705Z"
   },
   {
    "duration": 6,
    "start_time": "2023-05-18T11:11:15.651Z"
   },
   {
    "duration": 67,
    "start_time": "2023-05-18T11:12:30.760Z"
   },
   {
    "duration": 17,
    "start_time": "2023-05-18T11:12:36.073Z"
   },
   {
    "duration": 8,
    "start_time": "2023-05-18T11:59:56.576Z"
   },
   {
    "duration": 786,
    "start_time": "2023-05-18T12:08:02.311Z"
   },
   {
    "duration": 5,
    "start_time": "2023-05-18T12:08:09.584Z"
   },
   {
    "duration": 12,
    "start_time": "2023-05-18T12:08:10.474Z"
   },
   {
    "duration": 12,
    "start_time": "2023-05-18T12:09:35.234Z"
   },
   {
    "duration": 160,
    "start_time": "2023-05-18T12:09:50.438Z"
   },
   {
    "duration": 11,
    "start_time": "2023-05-18T12:09:55.734Z"
   },
   {
    "duration": 11,
    "start_time": "2023-05-18T12:10:11.442Z"
   },
   {
    "duration": 2,
    "start_time": "2023-05-18T12:11:58.038Z"
   },
   {
    "duration": 10,
    "start_time": "2023-05-18T12:13:52.283Z"
   },
   {
    "duration": 9,
    "start_time": "2023-05-18T12:14:41.084Z"
   },
   {
    "duration": 9,
    "start_time": "2023-05-18T12:18:23.126Z"
   },
   {
    "duration": 12,
    "start_time": "2023-05-18T12:21:43.249Z"
   },
   {
    "duration": 48,
    "start_time": "2023-05-18T12:27:52.395Z"
   },
   {
    "duration": 3,
    "start_time": "2023-05-18T12:29:19.686Z"
   },
   {
    "duration": 1494,
    "start_time": "2023-05-20T07:24:30.200Z"
   },
   {
    "duration": 241,
    "start_time": "2023-05-20T07:24:34.821Z"
   },
   {
    "duration": 36,
    "start_time": "2023-05-20T07:25:01.748Z"
   },
   {
    "duration": 57,
    "start_time": "2023-05-20T07:25:21.791Z"
   },
   {
    "duration": 2652,
    "start_time": "2023-05-20T07:25:53.253Z"
   },
   {
    "duration": 215,
    "start_time": "2023-05-20T07:27:26.030Z"
   },
   {
    "duration": 4,
    "start_time": "2023-05-20T07:27:35.886Z"
   },
   {
    "duration": 13,
    "start_time": "2023-05-20T07:28:07.736Z"
   },
   {
    "duration": 16,
    "start_time": "2023-05-20T07:34:08.292Z"
   },
   {
    "duration": 14,
    "start_time": "2023-05-20T07:35:10.987Z"
   },
   {
    "duration": 7,
    "start_time": "2023-05-20T07:39:47.178Z"
   },
   {
    "duration": 1341,
    "start_time": "2023-05-20T07:47:00.392Z"
   },
   {
    "duration": 1545,
    "start_time": "2023-05-20T07:47:10.755Z"
   },
   {
    "duration": 1646,
    "start_time": "2023-05-20T07:47:17.620Z"
   },
   {
    "duration": 17,
    "start_time": "2023-05-20T07:47:28.085Z"
   },
   {
    "duration": 15,
    "start_time": "2023-05-20T07:47:35.650Z"
   },
   {
    "duration": 18,
    "start_time": "2023-05-20T07:47:57.754Z"
   },
   {
    "duration": 25,
    "start_time": "2023-05-20T07:48:47.038Z"
   },
   {
    "duration": 1178,
    "start_time": "2023-05-20T07:49:05.431Z"
   },
   {
    "duration": 65,
    "start_time": "2023-05-20T07:49:06.611Z"
   },
   {
    "duration": 14,
    "start_time": "2023-05-20T07:49:06.677Z"
   },
   {
    "duration": 45,
    "start_time": "2023-05-20T07:49:07.113Z"
   },
   {
    "duration": 2141,
    "start_time": "2023-05-20T07:49:07.749Z"
   },
   {
    "duration": 15,
    "start_time": "2023-05-20T07:49:10.295Z"
   },
   {
    "duration": 16,
    "start_time": "2023-05-20T07:49:11.154Z"
   },
   {
    "duration": 9,
    "start_time": "2023-05-20T07:49:11.840Z"
   },
   {
    "duration": 1526,
    "start_time": "2023-05-20T07:49:13.477Z"
   },
   {
    "duration": 17,
    "start_time": "2023-05-20T07:49:15.473Z"
   },
   {
    "duration": 13,
    "start_time": "2023-05-20T07:49:17.175Z"
   },
   {
    "duration": 19,
    "start_time": "2023-05-20T07:49:19.124Z"
   },
   {
    "duration": 6,
    "start_time": "2023-05-20T07:49:43.123Z"
   },
   {
    "duration": 21,
    "start_time": "2023-05-20T07:49:57.134Z"
   },
   {
    "duration": 134,
    "start_time": "2023-05-20T07:55:32.245Z"
   },
   {
    "duration": 6,
    "start_time": "2023-05-20T07:55:39.297Z"
   },
   {
    "duration": 20,
    "start_time": "2023-05-20T07:56:42.406Z"
   },
   {
    "duration": 13,
    "start_time": "2023-05-20T08:00:31.213Z"
   },
   {
    "duration": 328,
    "start_time": "2023-05-20T08:04:15.010Z"
   },
   {
    "duration": 37,
    "start_time": "2023-05-20T08:14:31.452Z"
   },
   {
    "duration": 5,
    "start_time": "2023-05-20T08:27:59.691Z"
   },
   {
    "duration": 59,
    "start_time": "2023-05-20T08:28:00.495Z"
   },
   {
    "duration": 19,
    "start_time": "2023-05-20T08:28:01.123Z"
   },
   {
    "duration": 71,
    "start_time": "2023-05-20T08:28:01.738Z"
   },
   {
    "duration": 1740,
    "start_time": "2023-05-20T08:28:02.422Z"
   },
   {
    "duration": 16,
    "start_time": "2023-05-20T08:28:05.700Z"
   },
   {
    "duration": 9,
    "start_time": "2023-05-20T08:28:06.480Z"
   },
   {
    "duration": 10,
    "start_time": "2023-05-20T08:28:07.281Z"
   },
   {
    "duration": 1739,
    "start_time": "2023-05-20T08:28:08.776Z"
   },
   {
    "duration": 21,
    "start_time": "2023-05-20T08:28:10.517Z"
   },
   {
    "duration": 19,
    "start_time": "2023-05-20T08:28:11.287Z"
   },
   {
    "duration": 24,
    "start_time": "2023-05-20T08:28:12.821Z"
   },
   {
    "duration": 9,
    "start_time": "2023-05-20T08:28:14.549Z"
   },
   {
    "duration": 20,
    "start_time": "2023-05-20T08:28:15.414Z"
   },
   {
    "duration": 14,
    "start_time": "2023-05-20T08:28:18.958Z"
   },
   {
    "duration": 1218,
    "start_time": "2023-05-20T08:28:28.717Z"
   },
   {
    "duration": 64,
    "start_time": "2023-05-20T08:28:29.937Z"
   },
   {
    "duration": 27,
    "start_time": "2023-05-20T08:28:30.449Z"
   },
   {
    "duration": 48,
    "start_time": "2023-05-20T08:28:31.174Z"
   },
   {
    "duration": 1990,
    "start_time": "2023-05-20T08:28:31.850Z"
   },
   {
    "duration": 16,
    "start_time": "2023-05-20T08:28:35.281Z"
   },
   {
    "duration": 7,
    "start_time": "2023-05-20T08:28:35.935Z"
   },
   {
    "duration": 14,
    "start_time": "2023-05-20T08:28:36.611Z"
   },
   {
    "duration": 1821,
    "start_time": "2023-05-20T08:28:37.876Z"
   },
   {
    "duration": 22,
    "start_time": "2023-05-20T08:28:39.700Z"
   },
   {
    "duration": 42,
    "start_time": "2023-05-20T08:28:39.724Z"
   },
   {
    "duration": 17,
    "start_time": "2023-05-20T08:28:40.889Z"
   },
   {
    "duration": 7,
    "start_time": "2023-05-20T08:28:42.074Z"
   },
   {
    "duration": 22,
    "start_time": "2023-05-20T08:28:42.673Z"
   },
   {
    "duration": 7,
    "start_time": "2023-05-20T08:28:45.186Z"
   },
   {
    "duration": 25,
    "start_time": "2023-05-20T08:28:45.845Z"
   },
   {
    "duration": 172,
    "start_time": "2023-05-20T08:34:00.273Z"
   },
   {
    "duration": 73,
    "start_time": "2023-05-20T08:42:08.214Z"
   },
   {
    "duration": 49,
    "start_time": "2023-05-20T08:42:30.087Z"
   },
   {
    "duration": 62,
    "start_time": "2023-05-20T08:42:38.555Z"
   },
   {
    "duration": 42,
    "start_time": "2023-05-20T08:42:51.640Z"
   },
   {
    "duration": 34,
    "start_time": "2023-05-20T08:43:18.177Z"
   },
   {
    "duration": 12,
    "start_time": "2023-05-20T08:43:24.878Z"
   },
   {
    "duration": 20,
    "start_time": "2023-05-20T08:43:38.015Z"
   },
   {
    "duration": 187,
    "start_time": "2023-05-20T08:43:51.161Z"
   },
   {
    "duration": 175,
    "start_time": "2023-05-20T08:43:54.637Z"
   },
   {
    "duration": 147,
    "start_time": "2023-05-20T08:44:20.247Z"
   },
   {
    "duration": 32,
    "start_time": "2023-05-20T08:51:23.640Z"
   },
   {
    "duration": 280,
    "start_time": "2023-05-20T08:51:24.499Z"
   },
   {
    "duration": 155,
    "start_time": "2023-05-20T08:51:27.314Z"
   },
   {
    "duration": 121,
    "start_time": "2023-05-20T08:51:31.915Z"
   },
   {
    "duration": 6,
    "start_time": "2023-05-20T08:54:03.681Z"
   },
   {
    "duration": 13,
    "start_time": "2023-05-20T08:57:32.775Z"
   },
   {
    "duration": 14,
    "start_time": "2023-05-20T08:58:23.205Z"
   },
   {
    "duration": 15,
    "start_time": "2023-05-20T08:58:39.498Z"
   },
   {
    "duration": 17,
    "start_time": "2023-05-20T08:58:57.267Z"
   },
   {
    "duration": 7,
    "start_time": "2023-05-20T09:00:05.632Z"
   },
   {
    "duration": 9,
    "start_time": "2023-05-20T09:03:53.006Z"
   },
   {
    "duration": 19,
    "start_time": "2023-05-20T09:04:27.383Z"
   },
   {
    "duration": 9,
    "start_time": "2023-05-20T09:04:42.422Z"
   },
   {
    "duration": 12,
    "start_time": "2023-05-20T09:06:43.383Z"
   },
   {
    "duration": 14,
    "start_time": "2023-05-20T09:08:44.485Z"
   },
   {
    "duration": 514,
    "start_time": "2023-05-20T09:11:46.877Z"
   },
   {
    "duration": 37,
    "start_time": "2023-05-20T09:17:44.108Z"
   },
   {
    "duration": 38,
    "start_time": "2023-05-20T09:18:54.836Z"
   },
   {
    "duration": 30,
    "start_time": "2023-05-20T09:19:06.000Z"
   },
   {
    "duration": 382,
    "start_time": "2023-05-20T09:19:34.683Z"
   },
   {
    "duration": 6,
    "start_time": "2023-05-20T10:24:37.211Z"
   },
   {
    "duration": 1289,
    "start_time": "2023-05-20T10:32:47.625Z"
   },
   {
    "duration": 77,
    "start_time": "2023-05-20T10:32:48.916Z"
   },
   {
    "duration": 17,
    "start_time": "2023-05-20T10:32:49.347Z"
   },
   {
    "duration": 50,
    "start_time": "2023-05-20T10:32:51.216Z"
   },
   {
    "duration": 2047,
    "start_time": "2023-05-20T10:32:52.590Z"
   },
   {
    "duration": 30,
    "start_time": "2023-05-20T10:32:59.545Z"
   },
   {
    "duration": 9,
    "start_time": "2023-05-20T10:33:01.307Z"
   },
   {
    "duration": 14,
    "start_time": "2023-05-20T10:33:02.840Z"
   },
   {
    "duration": 1688,
    "start_time": "2023-05-20T10:33:04.540Z"
   },
   {
    "duration": 21,
    "start_time": "2023-05-20T10:33:13.509Z"
   },
   {
    "duration": 20,
    "start_time": "2023-05-20T10:33:17.075Z"
   },
   {
    "duration": 25,
    "start_time": "2023-05-20T10:33:19.226Z"
   },
   {
    "duration": 9,
    "start_time": "2023-05-20T10:33:26.303Z"
   },
   {
    "duration": 23,
    "start_time": "2023-05-20T10:33:32.018Z"
   },
   {
    "duration": 200,
    "start_time": "2023-05-20T10:33:57.538Z"
   },
   {
    "duration": 18,
    "start_time": "2023-05-20T10:34:10.195Z"
   },
   {
    "duration": 16,
    "start_time": "2023-05-20T10:34:11.721Z"
   },
   {
    "duration": 1264,
    "start_time": "2023-05-20T10:34:32.250Z"
   },
   {
    "duration": 71,
    "start_time": "2023-05-20T10:34:33.517Z"
   },
   {
    "duration": 17,
    "start_time": "2023-05-20T10:34:33.590Z"
   },
   {
    "duration": 60,
    "start_time": "2023-05-20T10:34:33.768Z"
   },
   {
    "duration": 1999,
    "start_time": "2023-05-20T10:34:34.286Z"
   },
   {
    "duration": 23,
    "start_time": "2023-05-20T10:34:36.288Z"
   },
   {
    "duration": 8,
    "start_time": "2023-05-20T10:34:36.776Z"
   },
   {
    "duration": 17,
    "start_time": "2023-05-20T10:34:37.262Z"
   },
   {
    "duration": 1714,
    "start_time": "2023-05-20T10:34:38.295Z"
   },
   {
    "duration": 23,
    "start_time": "2023-05-20T10:34:40.011Z"
   },
   {
    "duration": 27,
    "start_time": "2023-05-20T10:34:40.063Z"
   },
   {
    "duration": 30,
    "start_time": "2023-05-20T10:34:41.244Z"
   },
   {
    "duration": 7,
    "start_time": "2023-05-20T10:34:42.447Z"
   },
   {
    "duration": 29,
    "start_time": "2023-05-20T10:34:43.049Z"
   },
   {
    "duration": 8,
    "start_time": "2023-05-20T10:34:59.237Z"
   },
   {
    "duration": 15,
    "start_time": "2023-05-20T10:35:02.036Z"
   },
   {
    "duration": 57,
    "start_time": "2023-05-20T10:35:08.045Z"
   },
   {
    "duration": 38,
    "start_time": "2023-05-20T10:35:42.974Z"
   },
   {
    "duration": 5,
    "start_time": "2023-05-20T10:40:27.363Z"
   },
   {
    "duration": 5,
    "start_time": "2023-05-20T10:41:38.653Z"
   },
   {
    "duration": 22,
    "start_time": "2023-05-20T10:41:40.771Z"
   },
   {
    "duration": 374,
    "start_time": "2023-05-20T10:43:27.554Z"
   },
   {
    "duration": 119,
    "start_time": "2023-05-20T10:45:41.910Z"
   },
   {
    "duration": 15,
    "start_time": "2023-05-20T10:46:08.770Z"
   },
   {
    "duration": 363,
    "start_time": "2023-05-20T10:46:54.629Z"
   },
   {
    "duration": 122,
    "start_time": "2023-05-20T10:52:59.291Z"
   },
   {
    "duration": 30,
    "start_time": "2023-05-20T10:53:01.441Z"
   },
   {
    "duration": 123,
    "start_time": "2023-05-20T10:53:01.992Z"
   },
   {
    "duration": 130,
    "start_time": "2023-05-20T10:53:44.496Z"
   },
   {
    "duration": 8,
    "start_time": "2023-05-20T10:53:59.091Z"
   },
   {
    "duration": 25,
    "start_time": "2023-05-20T10:54:02.670Z"
   },
   {
    "duration": 489,
    "start_time": "2023-05-20T11:00:37.779Z"
   },
   {
    "duration": 359,
    "start_time": "2023-05-20T11:01:22.766Z"
   },
   {
    "duration": 537,
    "start_time": "2023-05-20T11:02:26.310Z"
   },
   {
    "duration": 535,
    "start_time": "2023-05-20T11:02:40.131Z"
   },
   {
    "duration": 595,
    "start_time": "2023-05-20T11:02:58.971Z"
   },
   {
    "duration": 545,
    "start_time": "2023-05-20T11:03:04.121Z"
   },
   {
    "duration": 159,
    "start_time": "2023-05-20T11:03:13.601Z"
   },
   {
    "duration": 144,
    "start_time": "2023-05-20T11:04:28.808Z"
   },
   {
    "duration": 574,
    "start_time": "2023-05-20T11:06:33.226Z"
   },
   {
    "duration": 602,
    "start_time": "2023-05-20T11:07:23.090Z"
   },
   {
    "duration": 176,
    "start_time": "2023-05-20T11:07:57.615Z"
   },
   {
    "duration": 25,
    "start_time": "2023-05-20T11:21:36.372Z"
   },
   {
    "duration": 4,
    "start_time": "2023-05-20T11:22:17.536Z"
   },
   {
    "duration": 19,
    "start_time": "2023-05-20T11:22:23.744Z"
   },
   {
    "duration": 69,
    "start_time": "2023-05-20T11:23:13.198Z"
   },
   {
    "duration": 27,
    "start_time": "2023-05-20T11:24:01.290Z"
   },
   {
    "duration": 537,
    "start_time": "2023-05-20T11:24:48.473Z"
   },
   {
    "duration": 35,
    "start_time": "2023-05-20T11:24:49.953Z"
   },
   {
    "duration": 891,
    "start_time": "2023-05-20T11:25:47.882Z"
   },
   {
    "duration": 43,
    "start_time": "2023-05-20T11:25:49.625Z"
   },
   {
    "duration": 12,
    "start_time": "2023-05-20T11:29:27.822Z"
   },
   {
    "duration": 19,
    "start_time": "2023-05-20T11:31:00.150Z"
   },
   {
    "duration": 273,
    "start_time": "2023-05-20T11:31:01.160Z"
   },
   {
    "duration": 27,
    "start_time": "2023-05-20T11:31:02.050Z"
   },
   {
    "duration": 333,
    "start_time": "2023-05-20T11:38:04.613Z"
   },
   {
    "duration": 1188,
    "start_time": "2023-05-20T12:01:31.702Z"
   },
   {
    "duration": 55,
    "start_time": "2023-05-20T12:01:34.167Z"
   },
   {
    "duration": 14,
    "start_time": "2023-05-20T12:01:35.214Z"
   },
   {
    "duration": 43,
    "start_time": "2023-05-20T12:01:37.006Z"
   },
   {
    "duration": 1794,
    "start_time": "2023-05-20T12:01:37.780Z"
   },
   {
    "duration": 14,
    "start_time": "2023-05-20T12:01:42.551Z"
   },
   {
    "duration": 7,
    "start_time": "2023-05-20T12:01:43.701Z"
   },
   {
    "duration": 10,
    "start_time": "2023-05-20T12:01:44.519Z"
   },
   {
    "duration": 1370,
    "start_time": "2023-05-20T12:01:45.948Z"
   },
   {
    "duration": 16,
    "start_time": "2023-05-20T12:01:47.320Z"
   },
   {
    "duration": 13,
    "start_time": "2023-05-20T12:01:48.054Z"
   },
   {
    "duration": 14,
    "start_time": "2023-05-20T12:01:49.519Z"
   },
   {
    "duration": 6,
    "start_time": "2023-05-20T12:01:50.813Z"
   },
   {
    "duration": 20,
    "start_time": "2023-05-20T12:01:51.484Z"
   },
   {
    "duration": 5,
    "start_time": "2023-05-20T12:01:56.818Z"
   },
   {
    "duration": 14,
    "start_time": "2023-05-20T12:02:08.248Z"
   },
   {
    "duration": 39,
    "start_time": "2023-05-20T12:02:12.906Z"
   },
   {
    "duration": 27,
    "start_time": "2023-05-20T12:02:24.790Z"
   },
   {
    "duration": 106,
    "start_time": "2023-05-20T12:02:26.382Z"
   },
   {
    "duration": 120,
    "start_time": "2023-05-20T12:02:36.025Z"
   },
   {
    "duration": 7,
    "start_time": "2023-05-20T12:02:37.258Z"
   },
   {
    "duration": 15,
    "start_time": "2023-05-20T12:02:39.883Z"
   },
   {
    "duration": 17,
    "start_time": "2023-05-20T12:03:59.280Z"
   },
   {
    "duration": 29,
    "start_time": "2023-05-20T12:06:02.634Z"
   },
   {
    "duration": 567,
    "start_time": "2023-05-20T12:06:08.627Z"
   },
   {
    "duration": 5,
    "start_time": "2023-05-20T12:06:21.300Z"
   },
   {
    "duration": 171,
    "start_time": "2023-05-20T12:06:56.494Z"
   },
   {
    "duration": 71,
    "start_time": "2023-05-20T12:07:04.492Z"
   },
   {
    "duration": 6,
    "start_time": "2023-05-20T12:07:58.601Z"
   },
   {
    "duration": 75,
    "start_time": "2023-05-20T12:15:34.890Z"
   },
   {
    "duration": 90,
    "start_time": "2023-05-20T12:15:39.293Z"
   },
   {
    "duration": 224,
    "start_time": "2023-05-20T12:16:29.344Z"
   },
   {
    "duration": 419,
    "start_time": "2023-05-20T12:16:54.042Z"
   },
   {
    "duration": 32,
    "start_time": "2023-05-20T12:17:12.492Z"
   },
   {
    "duration": 26,
    "start_time": "2023-05-20T12:17:23.240Z"
   },
   {
    "duration": 466,
    "start_time": "2023-05-20T12:17:32.921Z"
   },
   {
    "duration": 244,
    "start_time": "2023-05-20T12:17:37.814Z"
   },
   {
    "duration": 520,
    "start_time": "2023-05-20T12:18:15.904Z"
   },
   {
    "duration": 496,
    "start_time": "2023-05-20T12:18:21.136Z"
   },
   {
    "duration": 205,
    "start_time": "2023-05-20T12:18:32.057Z"
   },
   {
    "duration": 117,
    "start_time": "2023-05-20T12:18:36.442Z"
   },
   {
    "duration": 56,
    "start_time": "2023-05-20T12:19:22.713Z"
   },
   {
    "duration": 31,
    "start_time": "2023-05-20T12:23:05.107Z"
   },
   {
    "duration": 515,
    "start_time": "2023-05-20T12:23:12.068Z"
   },
   {
    "duration": 215,
    "start_time": "2023-05-20T12:23:16.346Z"
   },
   {
    "duration": 14,
    "start_time": "2023-05-20T12:23:58.016Z"
   },
   {
    "duration": 40,
    "start_time": "2023-05-20T12:24:04.174Z"
   },
   {
    "duration": 912,
    "start_time": "2023-05-20T12:24:05.086Z"
   },
   {
    "duration": 137,
    "start_time": "2023-05-20T12:24:07.332Z"
   },
   {
    "duration": 116,
    "start_time": "2023-05-20T12:24:33.342Z"
   },
   {
    "duration": 267,
    "start_time": "2023-05-20T12:25:42.321Z"
   },
   {
    "duration": 14,
    "start_time": "2023-05-20T12:25:58.250Z"
   },
   {
    "duration": 16,
    "start_time": "2023-05-20T12:25:59.200Z"
   },
   {
    "duration": 258,
    "start_time": "2023-05-20T12:25:59.914Z"
   },
   {
    "duration": 62,
    "start_time": "2023-05-20T12:26:01.198Z"
   },
   {
    "duration": 123,
    "start_time": "2023-05-20T12:26:09.940Z"
   },
   {
    "duration": 129,
    "start_time": "2023-05-20T12:26:16.254Z"
   },
   {
    "duration": 323,
    "start_time": "2023-05-20T12:26:34.669Z"
   },
   {
    "duration": 1312,
    "start_time": "2023-05-20T12:29:58.192Z"
   },
   {
    "duration": 59,
    "start_time": "2023-05-20T12:30:00.135Z"
   },
   {
    "duration": 16,
    "start_time": "2023-05-20T12:30:00.957Z"
   },
   {
    "duration": 67,
    "start_time": "2023-05-20T12:30:01.824Z"
   },
   {
    "duration": 1843,
    "start_time": "2023-05-20T12:30:02.800Z"
   },
   {
    "duration": 20,
    "start_time": "2023-05-20T12:30:05.257Z"
   },
   {
    "duration": 7,
    "start_time": "2023-05-20T12:30:05.940Z"
   },
   {
    "duration": 10,
    "start_time": "2023-05-20T12:30:06.552Z"
   },
   {
    "duration": 1531,
    "start_time": "2023-05-20T12:30:07.760Z"
   },
   {
    "duration": 15,
    "start_time": "2023-05-20T12:30:09.294Z"
   },
   {
    "duration": 25,
    "start_time": "2023-05-20T12:30:09.670Z"
   },
   {
    "duration": 21,
    "start_time": "2023-05-20T12:30:10.899Z"
   },
   {
    "duration": 6,
    "start_time": "2023-05-20T12:30:12.135Z"
   },
   {
    "duration": 18,
    "start_time": "2023-05-20T12:30:12.698Z"
   },
   {
    "duration": 6,
    "start_time": "2023-05-20T12:30:15.191Z"
   },
   {
    "duration": 15,
    "start_time": "2023-05-20T12:30:15.959Z"
   },
   {
    "duration": 41,
    "start_time": "2023-05-20T12:30:19.369Z"
   },
   {
    "duration": 31,
    "start_time": "2023-05-20T12:30:21.698Z"
   },
   {
    "duration": 525,
    "start_time": "2023-05-20T12:30:22.469Z"
   },
   {
    "duration": 164,
    "start_time": "2023-05-20T12:30:24.304Z"
   },
   {
    "duration": 119,
    "start_time": "2023-05-20T12:30:26.388Z"
   },
   {
    "duration": 117,
    "start_time": "2023-05-20T12:30:28.582Z"
   },
   {
    "duration": 15,
    "start_time": "2023-05-20T12:30:34.495Z"
   },
   {
    "duration": 4,
    "start_time": "2023-05-20T12:31:52.194Z"
   },
   {
    "duration": 41,
    "start_time": "2023-05-20T12:31:55.644Z"
   },
   {
    "duration": 522,
    "start_time": "2023-05-20T12:31:56.455Z"
   },
   {
    "duration": 372,
    "start_time": "2023-05-20T12:31:57.195Z"
   },
   {
    "duration": 130,
    "start_time": "2023-05-20T12:31:58.239Z"
   },
   {
    "duration": 16,
    "start_time": "2023-05-20T12:31:59.063Z"
   },
   {
    "duration": 7,
    "start_time": "2023-05-20T12:32:00.307Z"
   },
   {
    "duration": 1263,
    "start_time": "2023-05-20T12:32:12.909Z"
   },
   {
    "duration": 65,
    "start_time": "2023-05-20T12:32:14.175Z"
   },
   {
    "duration": 14,
    "start_time": "2023-05-20T12:32:14.444Z"
   },
   {
    "duration": 44,
    "start_time": "2023-05-20T12:32:15.045Z"
   },
   {
    "duration": 1942,
    "start_time": "2023-05-20T12:32:15.540Z"
   },
   {
    "duration": 22,
    "start_time": "2023-05-20T12:32:17.485Z"
   },
   {
    "duration": 7,
    "start_time": "2023-05-20T12:32:17.866Z"
   },
   {
    "duration": 12,
    "start_time": "2023-05-20T12:32:18.353Z"
   },
   {
    "duration": 1499,
    "start_time": "2023-05-20T12:32:19.271Z"
   },
   {
    "duration": 18,
    "start_time": "2023-05-20T12:32:24.428Z"
   },
   {
    "duration": 17,
    "start_time": "2023-05-20T12:32:24.974Z"
   },
   {
    "duration": 21,
    "start_time": "2023-05-20T12:32:26.273Z"
   },
   {
    "duration": 6,
    "start_time": "2023-05-20T12:32:27.632Z"
   },
   {
    "duration": 19,
    "start_time": "2023-05-20T12:32:28.473Z"
   },
   {
    "duration": 7,
    "start_time": "2023-05-20T12:32:30.770Z"
   },
   {
    "duration": 18,
    "start_time": "2023-05-20T12:32:31.471Z"
   },
   {
    "duration": 45,
    "start_time": "2023-05-20T12:32:33.443Z"
   },
   {
    "duration": 34,
    "start_time": "2023-05-20T12:32:35.421Z"
   },
   {
    "duration": 548,
    "start_time": "2023-05-20T12:32:36.139Z"
   },
   {
    "duration": 71,
    "start_time": "2023-05-20T12:32:36.897Z"
   },
   {
    "duration": 116,
    "start_time": "2023-05-20T12:32:37.804Z"
   },
   {
    "duration": 118,
    "start_time": "2023-05-20T12:32:38.602Z"
   },
   {
    "duration": 7,
    "start_time": "2023-05-20T12:32:42.369Z"
   },
   {
    "duration": 19,
    "start_time": "2023-05-20T12:32:55.357Z"
   },
   {
    "duration": 43,
    "start_time": "2023-05-20T12:32:56.757Z"
   },
   {
    "duration": 1026,
    "start_time": "2023-05-20T12:32:58.085Z"
   },
   {
    "duration": 143,
    "start_time": "2023-05-20T12:32:59.113Z"
   },
   {
    "duration": 116,
    "start_time": "2023-05-20T12:33:00.346Z"
   },
   {
    "duration": 12,
    "start_time": "2023-05-20T12:33:04.531Z"
   },
   {
    "duration": 15,
    "start_time": "2023-05-20T12:33:05.378Z"
   },
   {
    "duration": 268,
    "start_time": "2023-05-20T12:33:06.142Z"
   },
   {
    "duration": 67,
    "start_time": "2023-05-20T12:33:07.090Z"
   },
   {
    "duration": 16,
    "start_time": "2023-05-20T12:35:37.987Z"
   },
   {
    "duration": 29,
    "start_time": "2023-05-20T12:35:38.678Z"
   },
   {
    "duration": 669,
    "start_time": "2023-05-20T12:35:42.573Z"
   },
   {
    "duration": 24,
    "start_time": "2023-05-20T12:35:43.816Z"
   },
   {
    "duration": 12,
    "start_time": "2023-05-20T12:35:52.029Z"
   },
   {
    "duration": 37,
    "start_time": "2023-05-20T12:35:52.942Z"
   },
   {
    "duration": 691,
    "start_time": "2023-05-20T12:35:54.222Z"
   },
   {
    "duration": 26,
    "start_time": "2023-05-20T12:35:55.723Z"
   },
   {
    "duration": 12,
    "start_time": "2023-05-20T12:36:04.665Z"
   },
   {
    "duration": 30,
    "start_time": "2023-05-20T12:36:05.471Z"
   },
   {
    "duration": 667,
    "start_time": "2023-05-20T12:36:06.233Z"
   },
   {
    "duration": 20,
    "start_time": "2023-05-20T12:36:08.174Z"
   },
   {
    "duration": 115,
    "start_time": "2023-05-20T12:36:09.556Z"
   },
   {
    "duration": 16,
    "start_time": "2023-05-20T12:36:17.251Z"
   },
   {
    "duration": 29,
    "start_time": "2023-05-20T12:36:17.898Z"
   },
   {
    "duration": 673,
    "start_time": "2023-05-20T12:36:18.700Z"
   },
   {
    "duration": 22,
    "start_time": "2023-05-20T12:36:19.812Z"
   },
   {
    "duration": 255,
    "start_time": "2023-05-20T12:36:20.953Z"
   },
   {
    "duration": 14,
    "start_time": "2023-05-20T12:36:30.005Z"
   },
   {
    "duration": 30,
    "start_time": "2023-05-20T12:36:30.568Z"
   },
   {
    "duration": 673,
    "start_time": "2023-05-20T12:36:31.115Z"
   },
   {
    "duration": 22,
    "start_time": "2023-05-20T12:36:31.970Z"
   },
   {
    "duration": 119,
    "start_time": "2023-05-20T12:36:33.073Z"
   },
   {
    "duration": 13,
    "start_time": "2023-05-20T12:36:37.068Z"
   },
   {
    "duration": 16,
    "start_time": "2023-05-20T12:36:37.847Z"
   },
   {
    "duration": 287,
    "start_time": "2023-05-20T12:36:38.695Z"
   },
   {
    "duration": 15,
    "start_time": "2023-05-20T12:36:39.534Z"
   },
   {
    "duration": 121,
    "start_time": "2023-05-20T12:36:40.758Z"
   },
   {
    "duration": 11,
    "start_time": "2023-05-20T12:36:54.909Z"
   },
   {
    "duration": 22,
    "start_time": "2023-05-20T12:36:55.566Z"
   },
   {
    "duration": 367,
    "start_time": "2023-05-20T12:36:56.708Z"
   },
   {
    "duration": 19,
    "start_time": "2023-05-20T12:36:57.761Z"
   },
   {
    "duration": 112,
    "start_time": "2023-05-20T12:36:59.062Z"
   },
   {
    "duration": 12,
    "start_time": "2023-05-20T12:37:08.339Z"
   },
   {
    "duration": 96,
    "start_time": "2023-05-20T12:37:10.343Z"
   },
   {
    "duration": 12,
    "start_time": "2023-05-20T12:37:19.400Z"
   },
   {
    "duration": 109,
    "start_time": "2023-05-20T12:37:21.438Z"
   },
   {
    "duration": 12,
    "start_time": "2023-05-20T12:37:27.655Z"
   },
   {
    "duration": 95,
    "start_time": "2023-05-20T12:37:29.786Z"
   },
   {
    "duration": 15,
    "start_time": "2023-05-20T12:37:35.268Z"
   },
   {
    "duration": 112,
    "start_time": "2023-05-20T12:37:37.120Z"
   },
   {
    "duration": 12,
    "start_time": "2023-05-20T12:37:44.227Z"
   },
   {
    "duration": 102,
    "start_time": "2023-05-20T12:37:46.246Z"
   },
   {
    "duration": 11,
    "start_time": "2023-05-20T12:37:54.383Z"
   },
   {
    "duration": 100,
    "start_time": "2023-05-20T12:37:56.682Z"
   },
   {
    "duration": 13,
    "start_time": "2023-05-20T12:38:21.501Z"
   },
   {
    "duration": 97,
    "start_time": "2023-05-20T12:38:22.143Z"
   },
   {
    "duration": 12,
    "start_time": "2023-05-20T12:38:28.743Z"
   },
   {
    "duration": 99,
    "start_time": "2023-05-20T12:38:29.381Z"
   },
   {
    "duration": 11,
    "start_time": "2023-05-20T12:38:34.096Z"
   },
   {
    "duration": 100,
    "start_time": "2023-05-20T12:38:35.994Z"
   },
   {
    "duration": 11,
    "start_time": "2023-05-20T12:38:40.368Z"
   },
   {
    "duration": 217,
    "start_time": "2023-05-20T12:38:41.018Z"
   },
   {
    "duration": 16,
    "start_time": "2023-05-20T12:38:41.810Z"
   },
   {
    "duration": 293,
    "start_time": "2023-05-20T12:38:42.578Z"
   },
   {
    "duration": 18,
    "start_time": "2023-05-20T12:38:43.462Z"
   },
   {
    "duration": 36,
    "start_time": "2023-05-20T12:39:06.655Z"
   },
   {
    "duration": 655,
    "start_time": "2023-05-20T12:39:13.101Z"
   },
   {
    "duration": 48,
    "start_time": "2023-05-20T12:39:20.810Z"
   },
   {
    "duration": 19,
    "start_time": "2023-05-20T12:39:35.922Z"
   },
   {
    "duration": 299,
    "start_time": "2023-05-20T12:39:41.742Z"
   },
   {
    "duration": 20,
    "start_time": "2023-05-20T12:39:49.273Z"
   },
   {
    "duration": 244,
    "start_time": "2023-05-20T12:40:58.457Z"
   },
   {
    "duration": 1158,
    "start_time": "2023-05-20T14:23:18.921Z"
   },
   {
    "duration": 168,
    "start_time": "2023-05-20T14:23:20.771Z"
   },
   {
    "duration": 14,
    "start_time": "2023-05-20T14:23:21.910Z"
   },
   {
    "duration": 60,
    "start_time": "2023-05-20T14:23:23.072Z"
   },
   {
    "duration": 1902,
    "start_time": "2023-05-20T14:23:24.762Z"
   },
   {
    "duration": 20,
    "start_time": "2023-05-20T14:23:28.211Z"
   },
   {
    "duration": 7,
    "start_time": "2023-05-20T14:23:29.014Z"
   },
   {
    "duration": 10,
    "start_time": "2023-05-20T14:23:29.959Z"
   },
   {
    "duration": 1405,
    "start_time": "2023-05-20T14:23:31.545Z"
   },
   {
    "duration": 14,
    "start_time": "2023-05-20T14:23:32.952Z"
   },
   {
    "duration": 10,
    "start_time": "2023-05-20T14:23:33.546Z"
   },
   {
    "duration": 14,
    "start_time": "2023-05-20T14:23:34.924Z"
   },
   {
    "duration": 5,
    "start_time": "2023-05-20T14:23:36.409Z"
   },
   {
    "duration": 19,
    "start_time": "2023-05-20T14:23:37.118Z"
   },
   {
    "duration": 5,
    "start_time": "2023-05-20T14:23:40.965Z"
   },
   {
    "duration": 15,
    "start_time": "2023-05-20T14:23:41.886Z"
   },
   {
    "duration": 33,
    "start_time": "2023-05-20T14:23:45.157Z"
   },
   {
    "duration": 31,
    "start_time": "2023-05-20T14:23:50.354Z"
   },
   {
    "duration": 496,
    "start_time": "2023-05-20T14:23:51.306Z"
   },
   {
    "duration": 130,
    "start_time": "2023-05-20T14:23:52.523Z"
   },
   {
    "duration": 111,
    "start_time": "2023-05-20T14:23:53.711Z"
   },
   {
    "duration": 5,
    "start_time": "2023-05-20T14:23:56.282Z"
   },
   {
    "duration": 11,
    "start_time": "2023-05-20T14:24:33.462Z"
   },
   {
    "duration": 97,
    "start_time": "2023-05-20T14:24:35.399Z"
   },
   {
    "duration": 90,
    "start_time": "2023-05-20T14:27:42.243Z"
   },
   {
    "duration": 71,
    "start_time": "2023-05-20T14:28:20.775Z"
   },
   {
    "duration": 87,
    "start_time": "2023-05-20T14:29:29.367Z"
   },
   {
    "duration": 37,
    "start_time": "2023-05-20T14:29:35.950Z"
   },
   {
    "duration": 172,
    "start_time": "2023-05-20T14:29:45.947Z"
   },
   {
    "duration": 97,
    "start_time": "2023-05-20T14:29:52.839Z"
   },
   {
    "duration": 30,
    "start_time": "2023-05-20T14:30:35.143Z"
   },
   {
    "duration": 31,
    "start_time": "2023-05-20T14:30:40.415Z"
   },
   {
    "duration": 24,
    "start_time": "2023-05-20T14:30:45.607Z"
   },
   {
    "duration": 33,
    "start_time": "2023-05-20T14:30:54.611Z"
   },
   {
    "duration": 29,
    "start_time": "2023-05-20T14:30:58.549Z"
   },
   {
    "duration": 38,
    "start_time": "2023-05-20T14:31:03.761Z"
   },
   {
    "duration": 26,
    "start_time": "2023-05-20T14:31:08.408Z"
   },
   {
    "duration": 1438,
    "start_time": "2023-05-20T14:31:17.184Z"
   },
   {
    "duration": 645,
    "start_time": "2023-05-20T14:31:23.020Z"
   },
   {
    "duration": 371,
    "start_time": "2023-05-20T14:34:03.755Z"
   },
   {
    "duration": 1150,
    "start_time": "2023-05-20T14:34:11.168Z"
   },
   {
    "duration": 99133,
    "start_time": "2023-05-20T14:34:17.555Z"
   },
   {
    "duration": 164,
    "start_time": "2023-05-20T14:35:56.690Z"
   },
   {
    "duration": 676,
    "start_time": "2023-05-20T14:37:27.276Z"
   },
   {
    "duration": 551,
    "start_time": "2023-05-20T14:37:36.904Z"
   },
   {
    "duration": 709,
    "start_time": "2023-05-20T14:37:42.055Z"
   },
   {
    "duration": 638,
    "start_time": "2023-05-20T14:37:46.813Z"
   },
   {
    "duration": 3018,
    "start_time": "2023-05-20T14:39:15.159Z"
   },
   {
    "duration": 3085,
    "start_time": "2023-05-20T14:40:19.667Z"
   },
   {
    "duration": 5286,
    "start_time": "2023-05-20T14:40:35.572Z"
   },
   {
    "duration": 1034,
    "start_time": "2023-05-20T14:40:52.317Z"
   },
   {
    "duration": 496,
    "start_time": "2023-05-20T14:40:57.755Z"
   },
   {
    "duration": 798,
    "start_time": "2023-05-20T14:41:08.553Z"
   },
   {
    "duration": 514,
    "start_time": "2023-05-20T14:41:58.351Z"
   },
   {
    "duration": 2887,
    "start_time": "2023-05-20T14:42:07.863Z"
   },
   {
    "duration": 5623,
    "start_time": "2023-05-20T14:42:14.338Z"
   },
   {
    "duration": 5401,
    "start_time": "2023-05-20T14:42:35.155Z"
   },
   {
    "duration": 5400,
    "start_time": "2023-05-20T14:42:55.951Z"
   },
   {
    "duration": 610,
    "start_time": "2023-05-20T14:43:15.555Z"
   },
   {
    "duration": 5743,
    "start_time": "2023-05-20T14:43:31.520Z"
   },
   {
    "duration": 796,
    "start_time": "2023-05-20T14:45:42.953Z"
   },
   {
    "duration": 304,
    "start_time": "2023-05-20T14:45:54.264Z"
   },
   {
    "duration": 292,
    "start_time": "2023-05-20T14:46:04.059Z"
   },
   {
    "duration": 455,
    "start_time": "2023-05-20T14:46:08.901Z"
   },
   {
    "duration": 660,
    "start_time": "2023-05-20T14:46:44.595Z"
   },
   {
    "duration": 1174,
    "start_time": "2023-05-20T14:47:00.958Z"
   },
   {
    "duration": 57,
    "start_time": "2023-05-20T14:47:02.134Z"
   },
   {
    "duration": 22,
    "start_time": "2023-05-20T14:47:02.458Z"
   },
   {
    "duration": 43,
    "start_time": "2023-05-20T14:47:03.116Z"
   },
   {
    "duration": 1749,
    "start_time": "2023-05-20T14:47:03.773Z"
   },
   {
    "duration": 14,
    "start_time": "2023-05-20T14:47:06.300Z"
   },
   {
    "duration": 6,
    "start_time": "2023-05-20T14:47:06.993Z"
   },
   {
    "duration": 9,
    "start_time": "2023-05-20T14:47:07.574Z"
   },
   {
    "duration": 1331,
    "start_time": "2023-05-20T14:47:08.702Z"
   },
   {
    "duration": 22,
    "start_time": "2023-05-20T14:47:10.035Z"
   },
   {
    "duration": 19,
    "start_time": "2023-05-20T14:47:10.393Z"
   },
   {
    "duration": 24,
    "start_time": "2023-05-20T14:47:11.555Z"
   },
   {
    "duration": 6,
    "start_time": "2023-05-20T14:47:12.670Z"
   },
   {
    "duration": 29,
    "start_time": "2023-05-20T14:47:13.271Z"
   },
   {
    "duration": 6,
    "start_time": "2023-05-20T14:47:15.078Z"
   },
   {
    "duration": 15,
    "start_time": "2023-05-20T14:47:15.599Z"
   },
   {
    "duration": 41,
    "start_time": "2023-05-20T14:47:17.097Z"
   },
   {
    "duration": 32,
    "start_time": "2023-05-20T14:47:20.154Z"
   },
   {
    "duration": 485,
    "start_time": "2023-05-20T14:47:21.065Z"
   },
   {
    "duration": 205,
    "start_time": "2023-05-20T14:47:22.449Z"
   },
   {
    "duration": 104,
    "start_time": "2023-05-20T14:47:23.763Z"
   },
   {
    "duration": 12,
    "start_time": "2023-05-20T14:47:27.312Z"
   },
   {
    "duration": 100,
    "start_time": "2023-05-20T14:47:28.268Z"
   },
   {
    "duration": 635,
    "start_time": "2023-05-20T14:47:31.346Z"
   },
   {
    "duration": 26,
    "start_time": "2023-05-20T14:47:39.846Z"
   },
   {
    "duration": 501,
    "start_time": "2023-05-20T14:47:48.043Z"
   },
   {
    "duration": 1026,
    "start_time": "2023-05-20T14:48:00.852Z"
   },
   {
    "duration": 5399,
    "start_time": "2023-05-20T14:48:09.752Z"
   },
   {
    "duration": 981,
    "start_time": "2023-05-20T14:49:12.597Z"
   },
   {
    "duration": 5355,
    "start_time": "2023-05-20T14:49:15.908Z"
   },
   {
    "duration": 24,
    "start_time": "2023-05-20T14:49:21.265Z"
   },
   {
    "duration": 1025,
    "start_time": "2023-05-20T14:49:58.444Z"
   },
   {
    "duration": 6869,
    "start_time": "2023-05-20T14:50:14.582Z"
   },
   {
    "duration": 655,
    "start_time": "2023-05-20T14:50:37.332Z"
   },
   {
    "duration": 1180,
    "start_time": "2023-05-20T14:50:51.259Z"
   },
   {
    "duration": 62,
    "start_time": "2023-05-20T14:50:52.441Z"
   },
   {
    "duration": 17,
    "start_time": "2023-05-20T14:50:52.505Z"
   },
   {
    "duration": 44,
    "start_time": "2023-05-20T14:50:52.565Z"
   },
   {
    "duration": 1794,
    "start_time": "2023-05-20T14:50:52.951Z"
   },
   {
    "duration": 20,
    "start_time": "2023-05-20T14:50:54.747Z"
   },
   {
    "duration": 8,
    "start_time": "2023-05-20T14:50:54.770Z"
   },
   {
    "duration": 10,
    "start_time": "2023-05-20T14:50:54.877Z"
   },
   {
    "duration": 1379,
    "start_time": "2023-05-20T14:50:55.491Z"
   },
   {
    "duration": 14,
    "start_time": "2023-05-20T14:50:56.872Z"
   },
   {
    "duration": 11,
    "start_time": "2023-05-20T14:50:56.887Z"
   },
   {
    "duration": 14,
    "start_time": "2023-05-20T14:50:56.900Z"
   },
   {
    "duration": 5,
    "start_time": "2023-05-20T14:50:57.250Z"
   },
   {
    "duration": 18,
    "start_time": "2023-05-20T14:50:57.494Z"
   },
   {
    "duration": 6,
    "start_time": "2023-05-20T14:50:59.602Z"
   },
   {
    "duration": 13,
    "start_time": "2023-05-20T14:51:00.151Z"
   },
   {
    "duration": 37,
    "start_time": "2023-05-20T14:51:01.494Z"
   },
   {
    "duration": 42,
    "start_time": "2023-05-20T14:51:02.658Z"
   },
   {
    "duration": 509,
    "start_time": "2023-05-20T14:51:03.704Z"
   },
   {
    "duration": 468,
    "start_time": "2023-05-20T14:51:04.781Z"
   },
   {
    "duration": 114,
    "start_time": "2023-05-20T14:51:08.760Z"
   },
   {
    "duration": 11,
    "start_time": "2023-05-20T14:51:14.063Z"
   },
   {
    "duration": 108,
    "start_time": "2023-05-20T14:51:15.362Z"
   },
   {
    "duration": 642,
    "start_time": "2023-05-20T14:51:21.404Z"
   },
   {
    "duration": 27,
    "start_time": "2023-05-20T14:51:25.364Z"
   },
   {
    "duration": 116,
    "start_time": "2023-05-20T14:51:33.443Z"
   },
   {
    "duration": 471,
    "start_time": "2023-05-20T14:52:13.511Z"
   },
   {
    "duration": 6881,
    "start_time": "2023-05-20T14:52:45.769Z"
   },
   {
    "duration": 110,
    "start_time": "2023-05-20T14:54:29.815Z"
   },
   {
    "duration": 8,
    "start_time": "2023-05-20T14:54:53.199Z"
   },
   {
    "duration": 18,
    "start_time": "2023-05-20T14:55:08.213Z"
   },
   {
    "duration": 12,
    "start_time": "2023-05-20T14:55:22.599Z"
   },
   {
    "duration": 56069,
    "start_time": "2023-05-20T14:55:40.278Z"
   },
   {
    "duration": 58578,
    "start_time": "2023-05-20T14:57:03.565Z"
   },
   {
    "duration": 8,
    "start_time": "2023-05-20T14:58:02.145Z"
   },
   {
    "duration": 12,
    "start_time": "2023-05-20T15:01:36.008Z"
   },
   {
    "duration": 299,
    "start_time": "2023-05-20T15:01:51.450Z"
   },
   {
    "duration": 102,
    "start_time": "2023-05-20T15:02:57.363Z"
   },
   {
    "duration": 15,
    "start_time": "2023-05-20T15:02:59.160Z"
   },
   {
    "duration": 119,
    "start_time": "2023-05-20T15:03:01.055Z"
   },
   {
    "duration": 139,
    "start_time": "2023-05-20T15:03:50.028Z"
   },
   {
    "duration": 28773,
    "start_time": "2023-05-20T15:04:32.534Z"
   },
   {
    "duration": 146,
    "start_time": "2023-05-20T15:05:01.309Z"
   },
   {
    "duration": 254,
    "start_time": "2023-05-20T15:07:42.889Z"
   },
   {
    "duration": 44777,
    "start_time": "2023-05-20T15:08:36.114Z"
   },
   {
    "duration": 245,
    "start_time": "2023-05-20T15:09:48.105Z"
   },
   {
    "duration": 1145,
    "start_time": "2023-05-20T15:26:45.952Z"
   },
   {
    "duration": 56,
    "start_time": "2023-05-20T15:26:47.099Z"
   },
   {
    "duration": 13,
    "start_time": "2023-05-20T15:26:47.157Z"
   },
   {
    "duration": 42,
    "start_time": "2023-05-20T15:26:47.172Z"
   },
   {
    "duration": 1831,
    "start_time": "2023-05-20T15:26:47.216Z"
   },
   {
    "duration": 13,
    "start_time": "2023-05-20T15:26:49.051Z"
   },
   {
    "duration": 22,
    "start_time": "2023-05-20T15:26:49.065Z"
   },
   {
    "duration": 14,
    "start_time": "2023-05-20T15:26:49.089Z"
   },
   {
    "duration": 1383,
    "start_time": "2023-05-20T15:26:49.104Z"
   },
   {
    "duration": 18,
    "start_time": "2023-05-20T15:26:50.491Z"
   },
   {
    "duration": 19,
    "start_time": "2023-05-20T15:26:50.511Z"
   },
   {
    "duration": 30,
    "start_time": "2023-05-20T15:26:50.532Z"
   },
   {
    "duration": 10,
    "start_time": "2023-05-20T15:26:50.564Z"
   },
   {
    "duration": 24,
    "start_time": "2023-05-20T15:26:50.576Z"
   },
   {
    "duration": 5,
    "start_time": "2023-05-20T15:26:51.187Z"
   },
   {
    "duration": 14,
    "start_time": "2023-05-20T15:26:51.444Z"
   },
   {
    "duration": 33,
    "start_time": "2023-05-20T15:26:52.256Z"
   },
   {
    "duration": 105,
    "start_time": "2023-05-20T15:26:53.071Z"
   },
   {
    "duration": 219,
    "start_time": "2023-05-20T15:26:53.481Z"
   },
   {
    "duration": 43221,
    "start_time": "2023-05-20T15:26:53.766Z"
   },
   {
    "duration": 513,
    "start_time": "2023-05-20T15:27:36.990Z"
   },
   {
    "duration": 14,
    "start_time": "2023-05-20T15:27:37.505Z"
   },
   {
    "duration": 112,
    "start_time": "2023-05-20T15:27:37.521Z"
   },
   {
    "duration": 290,
    "start_time": "2023-05-20T15:27:37.635Z"
   },
   {
    "duration": 55083,
    "start_time": "2023-05-20T15:27:37.927Z"
   },
   {
    "duration": 45,
    "start_time": "2023-05-20T15:28:33.012Z"
   },
   {
    "duration": 102,
    "start_time": "2023-05-20T15:28:33.059Z"
   },
   {
    "duration": 192,
    "start_time": "2023-05-20T15:28:33.163Z"
   },
   {
    "duration": 147,
    "start_time": "2023-05-20T15:28:33.357Z"
   },
   {
    "duration": 27822,
    "start_time": "2023-05-20T15:28:33.506Z"
   },
   {
    "duration": 124,
    "start_time": "2023-05-20T15:29:01.330Z"
   },
   {
    "duration": 375,
    "start_time": "2023-05-20T15:29:01.455Z"
   },
   {
    "duration": 1134,
    "start_time": "2023-05-22T12:55:45.805Z"
   },
   {
    "duration": 103,
    "start_time": "2023-05-22T12:56:01.110Z"
   },
   {
    "duration": 14,
    "start_time": "2023-05-22T12:56:03.126Z"
   },
   {
    "duration": 40,
    "start_time": "2023-05-22T12:56:05.578Z"
   },
   {
    "duration": 1788,
    "start_time": "2023-05-22T12:56:06.502Z"
   },
   {
    "duration": 14,
    "start_time": "2023-05-22T12:56:52.716Z"
   },
   {
    "duration": 5,
    "start_time": "2023-05-22T12:56:53.901Z"
   },
   {
    "duration": 12,
    "start_time": "2023-05-22T12:56:55.177Z"
   },
   {
    "duration": 1263,
    "start_time": "2023-05-22T12:56:59.254Z"
   },
   {
    "duration": 14,
    "start_time": "2023-05-22T12:57:04.844Z"
   },
   {
    "duration": 12,
    "start_time": "2023-05-22T12:57:21.984Z"
   },
   {
    "duration": 13,
    "start_time": "2023-05-22T12:57:28.610Z"
   },
   {
    "duration": 6,
    "start_time": "2023-05-22T13:18:43.699Z"
   },
   {
    "duration": 18,
    "start_time": "2023-05-22T13:18:51.549Z"
   },
   {
    "duration": 5,
    "start_time": "2023-05-22T13:26:21.093Z"
   },
   {
    "duration": 14,
    "start_time": "2023-05-22T13:26:24.369Z"
   },
   {
    "duration": 35,
    "start_time": "2023-05-22T13:26:36.590Z"
   },
   {
    "duration": 114,
    "start_time": "2023-05-22T13:27:18.558Z"
   },
   {
    "duration": 212,
    "start_time": "2023-05-22T13:27:33.577Z"
   },
   {
    "duration": 42283,
    "start_time": "2023-05-22T13:27:37.325Z"
   },
   {
    "duration": 458,
    "start_time": "2023-05-22T13:28:19.610Z"
   },
   {
    "duration": 358,
    "start_time": "2023-05-22T13:29:47.990Z"
   },
   {
    "duration": 275,
    "start_time": "2023-05-22T13:30:12.786Z"
   },
   {
    "duration": 271,
    "start_time": "2023-05-22T13:31:02.811Z"
   },
   {
    "duration": 242,
    "start_time": "2023-05-22T13:31:49.839Z"
   },
   {
    "duration": 45326,
    "start_time": "2023-05-22T13:32:57.086Z"
   },
   {
    "duration": 182,
    "start_time": "2023-05-22T13:34:15.844Z"
   },
   {
    "duration": 14,
    "start_time": "2023-05-22T13:38:09.038Z"
   },
   {
    "duration": 103,
    "start_time": "2023-05-22T13:38:10.441Z"
   },
   {
    "duration": 267,
    "start_time": "2023-05-22T13:39:41.775Z"
   },
   {
    "duration": 53336,
    "start_time": "2023-05-22T13:40:33.415Z"
   },
   {
    "duration": 77,
    "start_time": "2023-05-22T13:41:26.753Z"
   },
   {
    "duration": 100,
    "start_time": "2023-05-22T13:41:26.832Z"
   },
   {
    "duration": 108,
    "start_time": "2023-05-22T13:41:26.934Z"
   },
   {
    "duration": 168,
    "start_time": "2023-05-22T13:41:53.026Z"
   },
   {
    "duration": 28036,
    "start_time": "2023-05-22T13:42:30.507Z"
   },
   {
    "duration": 81,
    "start_time": "2023-05-22T13:42:58.546Z"
   },
   {
    "duration": 283,
    "start_time": "2023-05-22T13:45:26.470Z"
   },
   {
    "duration": 1154,
    "start_time": "2023-05-22T13:55:08.201Z"
   },
   {
    "duration": 61,
    "start_time": "2023-05-22T13:55:09.358Z"
   },
   {
    "duration": 13,
    "start_time": "2023-05-22T13:55:09.697Z"
   },
   {
    "duration": 62,
    "start_time": "2023-05-22T13:55:10.082Z"
   },
   {
    "duration": 1935,
    "start_time": "2023-05-22T13:55:10.529Z"
   },
   {
    "duration": 15,
    "start_time": "2023-05-22T13:55:13.914Z"
   },
   {
    "duration": 7,
    "start_time": "2023-05-22T13:55:14.435Z"
   },
   {
    "duration": 10,
    "start_time": "2023-05-22T13:55:15.086Z"
   },
   {
    "duration": 1342,
    "start_time": "2023-05-22T13:55:16.227Z"
   },
   {
    "duration": 14,
    "start_time": "2023-05-22T13:55:17.572Z"
   },
   {
    "duration": 11,
    "start_time": "2023-05-22T13:55:18.706Z"
   },
   {
    "duration": 15,
    "start_time": "2023-05-22T13:55:20.363Z"
   },
   {
    "duration": 5,
    "start_time": "2023-05-22T13:55:34.146Z"
   },
   {
    "duration": 18,
    "start_time": "2023-05-22T13:55:34.796Z"
   },
   {
    "duration": 5,
    "start_time": "2023-05-22T13:56:05.346Z"
   },
   {
    "duration": 14,
    "start_time": "2023-05-22T13:56:08.958Z"
   },
   {
    "duration": 44,
    "start_time": "2023-05-22T13:56:12.800Z"
   },
   {
    "duration": 135,
    "start_time": "2023-05-22T13:56:24.718Z"
   },
   {
    "duration": 249,
    "start_time": "2023-05-22T13:56:26.032Z"
   },
   {
    "duration": 43805,
    "start_time": "2023-05-22T13:56:27.332Z"
   },
   {
    "duration": 1484,
    "start_time": "2023-05-22T13:57:11.140Z"
   },
   {
    "duration": 103,
    "start_time": "2023-05-22T13:57:12.627Z"
   },
   {
    "duration": 131,
    "start_time": "2023-05-22T13:57:12.733Z"
   },
   {
    "duration": 306,
    "start_time": "2023-05-22T13:57:12.866Z"
   },
   {
    "duration": 55034,
    "start_time": "2023-05-22T13:57:13.174Z"
   },
   {
    "duration": 116,
    "start_time": "2023-05-22T13:58:08.210Z"
   },
   {
    "duration": 101,
    "start_time": "2023-05-22T13:58:08.329Z"
   },
   {
    "duration": 116,
    "start_time": "2023-05-22T13:58:08.431Z"
   },
   {
    "duration": 140,
    "start_time": "2023-05-22T13:58:08.549Z"
   },
   {
    "duration": 27970,
    "start_time": "2023-05-22T13:58:08.691Z"
   },
   {
    "duration": 64,
    "start_time": "2023-05-22T13:58:36.663Z"
   },
   {
    "duration": 346,
    "start_time": "2023-05-22T13:58:36.730Z"
   }
  ],
  "kernelspec": {
   "display_name": "Python 3 (ipykernel)",
   "language": "python",
   "name": "python3"
  },
  "language_info": {
   "codemirror_mode": {
    "name": "ipython",
    "version": 3
   },
   "file_extension": ".py",
   "mimetype": "text/x-python",
   "name": "python",
   "nbconvert_exporter": "python",
   "pygments_lexer": "ipython3",
   "version": "3.9.16"
  },
  "toc": {
   "base_numbering": 1,
   "nav_menu": {},
   "number_sections": true,
   "sideBar": true,
   "skip_h1_title": true,
   "title_cell": "Содержание",
   "title_sidebar": "Contents",
   "toc_cell": true,
   "toc_position": {
    "height": "calc(100% - 180px)",
    "left": "10px",
    "top": "150px",
    "width": "165px"
   },
   "toc_section_display": true,
   "toc_window_display": true
  }
 },
 "nbformat": 4,
 "nbformat_minor": 4
}
